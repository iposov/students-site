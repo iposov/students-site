{
 "cells": [
  {
   "cell_type": "markdown",
   "id": "1938038e",
   "metadata": {},
   "source": [
    "Как бы сделать бесконечный список из чисел Фибоначчи? Начинаем с `[1, 1]`, каждое следующее число равно сумме двух предыдущих.\n",
    "\n",
    "```\n",
    "\n",
    "fib =    1  1  2  3  5  8 13 21\n",
    "\n",
    "\n",
    "tail fib =     1  2  3  5  8 13 21\n",
    "fib =          1  1  2  3  5  8 13 21\n",
    "-------------------------------------\n",
    "сумма          2  3  5  8 13 21 34        = tail tail fib\n",
    "\n",
    "```"
   ]
  },
  {
   "cell_type": "markdown",
   "id": "8ed605fb",
   "metadata": {},
   "source": [
    "fib = 1 : 1 : zipWith (+) fib (tail fib)\n",
    "\n",
    "take 10 fib"
   ]
  },
  {
   "cell_type": "markdown",
   "id": "2882eb62",
   "metadata": {},
   "source": [
    "# Классы Типов\n",
    "\n",
    "Бывают в Haskell функции, которые можно применять к разным типам, например, `show` может превратить в строку значения самых разных типов:"
   ]
  },
  {
   "cell_type": "code",
   "execution_count": 9,
   "id": "d712473b",
   "metadata": {},
   "outputs": [
    {
     "data": {
      "text/plain": [
       "\"10\""
      ]
     },
     "metadata": {},
     "output_type": "display_data"
    },
    {
     "data": {
      "text/plain": [
       "\"\\\"abc\\\"\""
      ]
     },
     "metadata": {},
     "output_type": "display_data"
    },
    {
     "data": {
      "text/plain": [
       "\"[10,20]\""
      ]
     },
     "metadata": {},
     "output_type": "display_data"
    },
    {
     "data": {
      "text/plain": [
       "\"[\\\"abc\\\",\\\"xyz\\\"]\""
      ]
     },
     "metadata": {},
     "output_type": "display_data"
    },
    {
     "data": {
      "text/plain": [
       "\"True\""
      ]
     },
     "metadata": {},
     "output_type": "display_data"
    },
    {
     "ename": "",
     "evalue": "",
     "output_type": "error",
     "traceback": [
      "<interactive>:1:1: error:\n    • No instance for (Show Human) arising from a use of ‘show’\n    • In the expression: show (Student \"Ilya\")\n      In an equation for ‘it’: it = show (Student \"Ilya\")"
     ]
    }
   ],
   "source": [
    "show 10\n",
    "show \"abc\"\n",
    "show [10, 20]\n",
    "show [\"abc\", \"xyz\"]\n",
    "show True\n",
    "\n",
    "data Human = Student String | Lecturer String\n",
    "show (Student \"Ilya\") -- ошибка, для этого типа show не работает"
   ]
  },
  {
   "cell_type": "markdown",
   "id": "b4005212",
   "metadata": {},
   "source": [
    "Или функция (+), она работает для числовых типов:"
   ]
  },
  {
   "cell_type": "code",
   "execution_count": 14,
   "id": "eb7e5e9b",
   "metadata": {},
   "outputs": [
    {
     "data": {
      "text/plain": [
       "3"
      ]
     },
     "metadata": {},
     "output_type": "display_data"
    },
    {
     "data": {
      "text/plain": [
       "0.30000000000000004"
      ]
     },
     "metadata": {},
     "output_type": "display_data"
    },
    {
     "ename": "",
     "evalue": "",
     "output_type": "error",
     "traceback": [
      "<interactive>:1:1: error:\n    • No instance for (Num String) arising from a use of ‘+’\n    • In the expression: (+) \"ab\" \"cd\"\n      In an equation for ‘it’: it = (+) \"ab\" \"cd\""
     ]
    }
   ],
   "source": [
    "(+) 1 2\n",
    "(+) 0.1 0.2\n",
    "(+) \"ab\" \"cd\" -- для строк не работает, только для числовых типов"
   ]
  },
  {
   "cell_type": "markdown",
   "id": "eda8649f",
   "metadata": {},
   "source": [
    "Можно ввести класс типов, это описание некоторого набора функций. Далее можно учить эти функции работать с уже существующими типами."
   ]
  },
  {
   "cell_type": "code",
   "execution_count": 19,
   "id": "9816b8b0",
   "metadata": {},
   "outputs": [],
   "source": [
    "class Show' a where\n",
    "    show' :: a -> String"
   ]
  },
  {
   "cell_type": "markdown",
   "id": "ed4662b3",
   "metadata": {},
   "source": [
    "Читается так: тип `a` имеет класс Show, если для него работает функция `show'`, которая имеет тип `a -> String`.\n",
    "После ввода класса функция `show'` не может работать ни с каким типом, мы должны ее учить работать с разными типами.\n",
    "\n",
    "Давайте для примера научим ее работать с числами:"
   ]
  },
  {
   "cell_type": "code",
   "execution_count": 30,
   "id": "61da118a",
   "metadata": {},
   "outputs": [
    {
     "data": {
      "text/plain": [
       "\"42\""
      ]
     },
     "metadata": {},
     "output_type": "display_data"
    }
   ],
   "source": [
    "instance Show' Int where\n",
    "    show' 0 = \"\"\n",
    "    show' n = show' (n `div` 10) ++ case n `mod` 10 of\n",
    "                                        0 -> \"0\"\n",
    "                                        1 -> \"1\"\n",
    "                                        2 -> \"2\"\n",
    "                                        3 -> \"3\"\n",
    "                                        4 -> \"4\"\n",
    "                                        5 -> \"5\"\n",
    "                                        6 -> \"6\"\n",
    "                                        7 -> \"7\"\n",
    "                                        8 -> \"8\"\n",
    "                                        9 -> \"9\"\n",
    "\n",
    "\n",
    "show' (42::Int) -- нужно явно указать, что 42 имеет тип Int"
   ]
  },
  {
   "cell_type": "markdown",
   "id": "edb8b546",
   "metadata": {},
   "source": [
    "Научим еще какой-нибудь тип делать show'"
   ]
  },
  {
   "cell_type": "code",
   "execution_count": 33,
   "id": "314c2d4f",
   "metadata": {
    "scrolled": true
   },
   "outputs": [
    {
     "data": {
      "text/plain": [
       "\"ok\""
      ]
     },
     "metadata": {},
     "output_type": "display_data"
    },
    {
     "data": {
      "text/plain": [
       "\"not ok\""
      ]
     },
     "metadata": {},
     "output_type": "display_data"
    },
    {
     "data": {
      "text/plain": [
       "\"True\""
      ]
     },
     "metadata": {},
     "output_type": "display_data"
    }
   ],
   "source": [
    "instance Show' Bool where\n",
    "    show' True = \"ok\"\n",
    "    show' False = \"not ok\"\n",
    "    \n",
    "show' (2 == 2)\n",
    "show' (2 > 10)\n",
    "\n",
    "show (2 == 2)"
   ]
  },
  {
   "cell_type": "markdown",
   "id": "e4a33735",
   "metadata": {},
   "source": [
    "Теперь давайте научимся делать show для списков. Понятно, что мы не может показывать произвольный список `[a]`, для этого нужно уметь показывать значения типа `a`. Т.е. мы можем показать `[1, 2, 3]`, но не можем показать `[1.1, 2.23, 6.89]`.\n",
    "Тогда добавляется указание, что тип `a` сам реализует класс `Show'`:"
   ]
  },
  {
   "cell_type": "code",
   "execution_count": 37,
   "id": "e69f03a2",
   "metadata": {},
   "outputs": [
    {
     "data": {
      "text/plain": [
       "\"some list\""
      ]
     },
     "metadata": {},
     "output_type": "display_data"
    },
    {
     "data": {
      "text/plain": [
       "\"some list\""
      ]
     },
     "metadata": {},
     "output_type": "display_data"
    }
   ],
   "source": [
    "instance Show' [a] where\n",
    "    show' l = \"some list\"\n",
    "    \n",
    "show' [10, 20, 30]\n",
    "show' [1.1, 2.2, 3.3]\n",
    "-- бесполезно"
   ]
  },
  {
   "cell_type": "code",
   "execution_count": 44,
   "id": "43ae598f",
   "metadata": {},
   "outputs": [
    {
     "data": {
      "text/plain": [
       "\"[10,20,30]\""
      ]
     },
     "metadata": {},
     "output_type": "display_data"
    },
    {
     "data": {
      "text/plain": [
       "\"[ok,not ok,ok]\""
      ]
     },
     "metadata": {},
     "output_type": "display_data"
    },
    {
     "data": {
      "text/plain": [
       "\"[[10,20],[42,42,42]]\""
      ]
     },
     "metadata": {},
     "output_type": "display_data"
    },
    {
     "ename": "",
     "evalue": "",
     "output_type": "error",
     "traceback": [
      "<interactive>:1:1: error:\n    • No instance for (Show' Char) arising from a use of ‘show'’\n    • In the expression: show' [\"abc\", \"asdf\"]\n      In an equation for ‘it’: it = show' [\"abc\", \"asdf\"]"
     ]
    }
   ],
   "source": [
    "instance Show' a => Show' [a] where\n",
    "    show' [] = \"[]\"\n",
    "    show' (h:t) = \"[\" ++ show' h ++ tailWithCommas ++ \"]\" where\n",
    "                     tailWithCommas = foldl (\\start element -> start ++ \",\" ++ show' element) \"\" t\n",
    "                     \n",
    "show' [10::Int, 20, 30]   \n",
    "show' [True, False, True]\n",
    "show' [[10::Int, 20], [42::Int, 42::Int, 42::Int]]\n",
    "show' [\"abc\", \"asdf\"] -- потому что для String show' не работает"
   ]
  },
  {
   "cell_type": "markdown",
   "id": "ecfa9906",
   "metadata": {},
   "source": [
    "Получается, если сделать `instance Show' Char`, то сразу заработает String, потому что это `[Char]`."
   ]
  },
  {
   "cell_type": "markdown",
   "id": "77be86e2",
   "metadata": {},
   "source": [
    "Давайте еще пример какого-нибудь класса. Внутри класса можно ввести несколько функций."
   ]
  },
  {
   "cell_type": "code",
   "execution_count": 64,
   "id": "6c4ecaef",
   "metadata": {},
   "outputs": [
    {
     "data": {
      "text/html": [
       "<style>/* Styles used for the Hoogle display in the pager */\n",
       ".hoogle-doc {\n",
       "display: block;\n",
       "padding-bottom: 1.3em;\n",
       "padding-left: 0.4em;\n",
       "}\n",
       ".hoogle-code {\n",
       "display: block;\n",
       "font-family: monospace;\n",
       "white-space: pre;\n",
       "}\n",
       ".hoogle-text {\n",
       "display: block;\n",
       "}\n",
       ".hoogle-name {\n",
       "color: green;\n",
       "font-weight: bold;\n",
       "}\n",
       ".hoogle-head {\n",
       "font-weight: bold;\n",
       "}\n",
       ".hoogle-sub {\n",
       "display: block;\n",
       "margin-left: 0.4em;\n",
       "}\n",
       ".hoogle-package {\n",
       "font-weight: bold;\n",
       "font-style: italic;\n",
       "}\n",
       ".hoogle-module {\n",
       "font-weight: bold;\n",
       "}\n",
       ".hoogle-class {\n",
       "font-weight: bold;\n",
       "}\n",
       ".get-type {\n",
       "color: green;\n",
       "font-weight: bold;\n",
       "font-family: monospace;\n",
       "display: block;\n",
       "white-space: pre-wrap;\n",
       "}\n",
       ".show-type {\n",
       "color: green;\n",
       "font-weight: bold;\n",
       "font-family: monospace;\n",
       "margin-left: 1em;\n",
       "}\n",
       ".mono {\n",
       "font-family: monospace;\n",
       "display: block;\n",
       "}\n",
       ".err-msg {\n",
       "color: red;\n",
       "font-style: italic;\n",
       "font-family: monospace;\n",
       "white-space: pre;\n",
       "display: block;\n",
       "}\n",
       "#unshowable {\n",
       "color: red;\n",
       "font-weight: bold;\n",
       "}\n",
       ".err-msg.in.collapse {\n",
       "padding-top: 0.7em;\n",
       "}\n",
       ".highlight-code {\n",
       "white-space: pre;\n",
       "font-family: monospace;\n",
       "}\n",
       ".suggestion-warning { \n",
       "font-weight: bold;\n",
       "color: rgb(200, 130, 0);\n",
       "}\n",
       ".suggestion-error { \n",
       "font-weight: bold;\n",
       "color: red;\n",
       "}\n",
       ".suggestion-name {\n",
       "font-weight: bold;\n",
       "}\n",
       "</style><div class=\"suggestion-name\" style=\"clear:both;\">Use newtype instead of data</div><div class=\"suggestion-row\" style=\"float: left;\"><div class=\"suggestion-warning\">Found:</div><div class=\"highlight-code\" id=\"haskell\">data Polygon = Polygon [(Double, Double)]</div></div><div class=\"suggestion-row\" style=\"float: left;\"><div class=\"suggestion-warning\">Why Not:</div><div class=\"highlight-code\" id=\"haskell\">newtype Polygon = Polygon [(Double, Double)]</div></div>"
      ],
      "text/plain": [
       "Line 10: Use newtype instead of data\n",
       "Found:\n",
       "data Polygon = Polygon [(Double, Double)]\n",
       "Why not:\n",
       "newtype Polygon = Polygon [(Double, Double)]"
      ]
     },
     "metadata": {},
     "output_type": "display_data"
    },
    {
     "data": {
      "text/plain": [
       "100.0"
      ]
     },
     "metadata": {},
     "output_type": "display_data"
    },
    {
     "data": {
      "text/plain": [
       "63.61725123519331"
      ]
     },
     "metadata": {},
     "output_type": "display_data"
    },
    {
     "data": {
      "text/plain": [
       "40.0"
      ]
     },
     "metadata": {},
     "output_type": "display_data"
    }
   ],
   "source": [
    "class Figure a where\n",
    "   area :: a -> Double\n",
    "   \n",
    "   perimeter :: a -> Double\n",
    "   \n",
    "   --sigma :: a -> Double -- area / perimeter^2\n",
    "   \n",
    "\n",
    "data BasicFigure = Square Double | Circle Double\n",
    "data Polygon = Polygon [(Double, Double)]\n",
    "-- Polygon [(0, 0), (10, 0), (0, 20)] это треугольник с тремя вершинами:\n",
    "\n",
    "instance Figure BasicFigure where\n",
    "    area (Square x) = x * x\n",
    "    area (Circle x) = pi * x * x\n",
    "    \n",
    "    perimeter (Square x) = 4 * x\n",
    "    perimeter (Circle x) = 2 * pi * x\n",
    "    \n",
    "area (Square 10)\n",
    "area (Circle 4.5)\n",
    "perimeter (Square 10)"
   ]
  },
  {
   "cell_type": "markdown",
   "id": "dd4dd815",
   "metadata": {},
   "source": [
    "Кстати. Операция `(+)` или `(*)` определена как:"
   ]
  },
  {
   "cell_type": "code",
   "execution_count": 60,
   "id": "74c87ae4",
   "metadata": {},
   "outputs": [
    {
     "data": {
      "text/html": [
       "<style>/* Styles used for the Hoogle display in the pager */\n",
       ".hoogle-doc {\n",
       "display: block;\n",
       "padding-bottom: 1.3em;\n",
       "padding-left: 0.4em;\n",
       "}\n",
       ".hoogle-code {\n",
       "display: block;\n",
       "font-family: monospace;\n",
       "white-space: pre;\n",
       "}\n",
       ".hoogle-text {\n",
       "display: block;\n",
       "}\n",
       ".hoogle-name {\n",
       "color: green;\n",
       "font-weight: bold;\n",
       "}\n",
       ".hoogle-head {\n",
       "font-weight: bold;\n",
       "}\n",
       ".hoogle-sub {\n",
       "display: block;\n",
       "margin-left: 0.4em;\n",
       "}\n",
       ".hoogle-package {\n",
       "font-weight: bold;\n",
       "font-style: italic;\n",
       "}\n",
       ".hoogle-module {\n",
       "font-weight: bold;\n",
       "}\n",
       ".hoogle-class {\n",
       "font-weight: bold;\n",
       "}\n",
       ".get-type {\n",
       "color: green;\n",
       "font-weight: bold;\n",
       "font-family: monospace;\n",
       "display: block;\n",
       "white-space: pre-wrap;\n",
       "}\n",
       ".show-type {\n",
       "color: green;\n",
       "font-weight: bold;\n",
       "font-family: monospace;\n",
       "margin-left: 1em;\n",
       "}\n",
       ".mono {\n",
       "font-family: monospace;\n",
       "display: block;\n",
       "}\n",
       ".err-msg {\n",
       "color: red;\n",
       "font-style: italic;\n",
       "font-family: monospace;\n",
       "white-space: pre;\n",
       "display: block;\n",
       "}\n",
       "#unshowable {\n",
       "color: red;\n",
       "font-weight: bold;\n",
       "}\n",
       ".err-msg.in.collapse {\n",
       "padding-top: 0.7em;\n",
       "}\n",
       ".highlight-code {\n",
       "white-space: pre;\n",
       "font-family: monospace;\n",
       "}\n",
       ".suggestion-warning { \n",
       "font-weight: bold;\n",
       "color: rgb(200, 130, 0);\n",
       "}\n",
       ".suggestion-error { \n",
       "font-weight: bold;\n",
       "color: red;\n",
       "}\n",
       ".suggestion-name {\n",
       "font-weight: bold;\n",
       "}\n",
       "</style><span class='get-type'>(+) :: forall a. Num a => a -> a -> a</span>"
      ],
      "text/plain": [
       "(+) :: forall a. Num a => a -> a -> a"
      ]
     },
     "metadata": {},
     "output_type": "display_data"
    }
   ],
   "source": [
    ":type (+)"
   ]
  },
  {
   "cell_type": "markdown",
   "id": "319e8614",
   "metadata": {},
   "source": [
    "Т.е. она работает только со значениями одинаковых типов. Поэтому нельзя умножить или сложить `Double` и `Int`. Поэтому мы пользуемся вспомогательной функцией `fromIntegral`, которая имеет такой тип, чтобы целое число стало просто числом."
   ]
  },
  {
   "cell_type": "code",
   "execution_count": 51,
   "id": "2e8a6ddd",
   "metadata": {},
   "outputs": [
    {
     "data": {
      "text/html": [
       "<style>/* Styles used for the Hoogle display in the pager */\n",
       ".hoogle-doc {\n",
       "display: block;\n",
       "padding-bottom: 1.3em;\n",
       "padding-left: 0.4em;\n",
       "}\n",
       ".hoogle-code {\n",
       "display: block;\n",
       "font-family: monospace;\n",
       "white-space: pre;\n",
       "}\n",
       ".hoogle-text {\n",
       "display: block;\n",
       "}\n",
       ".hoogle-name {\n",
       "color: green;\n",
       "font-weight: bold;\n",
       "}\n",
       ".hoogle-head {\n",
       "font-weight: bold;\n",
       "}\n",
       ".hoogle-sub {\n",
       "display: block;\n",
       "margin-left: 0.4em;\n",
       "}\n",
       ".hoogle-package {\n",
       "font-weight: bold;\n",
       "font-style: italic;\n",
       "}\n",
       ".hoogle-module {\n",
       "font-weight: bold;\n",
       "}\n",
       ".hoogle-class {\n",
       "font-weight: bold;\n",
       "}\n",
       ".get-type {\n",
       "color: green;\n",
       "font-weight: bold;\n",
       "font-family: monospace;\n",
       "display: block;\n",
       "white-space: pre-wrap;\n",
       "}\n",
       ".show-type {\n",
       "color: green;\n",
       "font-weight: bold;\n",
       "font-family: monospace;\n",
       "margin-left: 1em;\n",
       "}\n",
       ".mono {\n",
       "font-family: monospace;\n",
       "display: block;\n",
       "}\n",
       ".err-msg {\n",
       "color: red;\n",
       "font-style: italic;\n",
       "font-family: monospace;\n",
       "white-space: pre;\n",
       "display: block;\n",
       "}\n",
       "#unshowable {\n",
       "color: red;\n",
       "font-weight: bold;\n",
       "}\n",
       ".err-msg.in.collapse {\n",
       "padding-top: 0.7em;\n",
       "}\n",
       ".highlight-code {\n",
       "white-space: pre;\n",
       "font-family: monospace;\n",
       "}\n",
       ".suggestion-warning { \n",
       "font-weight: bold;\n",
       "color: rgb(200, 130, 0);\n",
       "}\n",
       ".suggestion-error { \n",
       "font-weight: bold;\n",
       "color: red;\n",
       "}\n",
       ".suggestion-name {\n",
       "font-weight: bold;\n",
       "}\n",
       "</style><div class=\"suggestion-name\" style=\"clear:both;\">Redundant bracket</div><div class=\"suggestion-row\" style=\"float: left;\"><div class=\"suggestion-warning\">Found:</div><div class=\"highlight-code\" id=\"haskell\">3.3 * (fromIntegral (3 :: Int))</div></div><div class=\"suggestion-row\" style=\"float: left;\"><div class=\"suggestion-warning\">Why Not:</div><div class=\"highlight-code\" id=\"haskell\">3.3 * fromIntegral (3 :: Int)</div></div>"
      ],
      "text/plain": [
       "Line 1: Redundant bracket\n",
       "Found:\n",
       "3.3 * (fromIntegral (3 :: Int))\n",
       "Why not:\n",
       "3.3 * fromIntegral (3 :: Int)"
      ]
     },
     "metadata": {},
     "output_type": "display_data"
    },
    {
     "data": {
      "text/plain": [
       "9.899999999999999"
      ]
     },
     "metadata": {},
     "output_type": "display_data"
    }
   ],
   "source": [
    "-- 3.3 * (3::Int) - нельзя\n",
    "3.3 * (fromIntegral (3::Int))"
   ]
  }
 ],
 "metadata": {
  "kernelspec": {
   "display_name": "Haskell",
   "language": "haskell",
   "name": "haskell"
  },
  "language_info": {
   "codemirror_mode": "ihaskell",
   "file_extension": ".hs",
   "mimetype": "text/x-haskell",
   "name": "haskell",
   "pygments_lexer": "Haskell",
   "version": "8.10.4"
  }
 },
 "nbformat": 4,
 "nbformat_minor": 5
}
