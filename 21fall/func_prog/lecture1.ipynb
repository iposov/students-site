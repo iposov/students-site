{
 "cells": [
  {
   "cell_type": "markdown",
   "id": "0afacda7",
   "metadata": {},
   "source": [
    "# Haskell\n",
    "Надо установить GHCI (или лучше Haskell Platform)\n",
    "\n",
    "Пользуемся GHCI, запускаем его, получаем haskell в Интерактивном режиме, вводим выражения `2 + 2`. Запускаем свою прогрумму через:"
   ]
  },
  {
   "cell_type": "code",
   "execution_count": 1,
   "id": "1efa9929",
   "metadata": {},
   "outputs": [
    {
     "ename": "",
     "evalue": "",
     "output_type": "error",
     "traceback": [
      "Parse error (line 2, column 1): Unknown directive: 'cd'."
     ]
    }
   ],
   "source": [
    ":load C:\\haskell\\моя программа.hs\n",
    ":cd С:\\haskell\n",
    ":load моя программа.hs\n",
    ":r -- заново загрузить то, что было загружено в прошлый раз"
   ]
  },
  {
   "cell_type": "code",
   "execution_count": 2,
   "id": "fdf93621",
   "metadata": {},
   "outputs": [
    {
     "data": {
      "text/plain": [
       "4"
      ]
     },
     "metadata": {},
     "output_type": "display_data"
    }
   ],
   "source": [
    "2 + 2"
   ]
  },
  {
   "cell_type": "markdown",
   "id": "3e1ea089",
   "metadata": {},
   "source": [
    "Типы данных в Haskell:\n",
    "```\n",
    "Int — целые числа, до 2млрд (int в java)\n",
    "Integer — целые числа произвольной точности (как int python)\n",
    "Double, Float - дробные числа разной точности, используйте Double\n",
    "Bool - логические значения True, False\n",
    "Char - символы 'a', 'c', '%', '#', как в Java\n",
    "String - строки, \"abc\", \"23dgf\", \"hello world!\"\n",
    "String = [Char] - список символов\n",
    "[Int] - список чисел [10, 20, 30, 40]\n",
    "[Bool] - список Bool [True, False, False]\n",
    "[Char] - ['a', 'b', 'c', 'd'] эквивалентно \"abcd\"\n",
    "````"
   ]
  },
  {
   "cell_type": "code",
   "execution_count": 3,
   "id": "f912981f",
   "metadata": {},
   "outputs": [
    {
     "data": {
      "text/plain": [
       "[10,20,30]"
      ]
     },
     "metadata": {},
     "output_type": "display_data"
    }
   ],
   "source": [
    "[10, 20, 30]"
   ]
  },
  {
   "cell_type": "markdown",
   "id": "c51cda68",
   "metadata": {},
   "source": [
    "Можно узнать тип выражения директивой `:type`. Тип в Haskell указывается после `::`"
   ]
  },
  {
   "cell_type": "code",
   "execution_count": 5,
   "id": "01dd8b8e",
   "metadata": {},
   "outputs": [
    {
     "data": {
      "text/html": [
       "<style>/* Styles used for the Hoogle display in the pager */\n",
       ".hoogle-doc {\n",
       "display: block;\n",
       "padding-bottom: 1.3em;\n",
       "padding-left: 0.4em;\n",
       "}\n",
       ".hoogle-code {\n",
       "display: block;\n",
       "font-family: monospace;\n",
       "white-space: pre;\n",
       "}\n",
       ".hoogle-text {\n",
       "display: block;\n",
       "}\n",
       ".hoogle-name {\n",
       "color: green;\n",
       "font-weight: bold;\n",
       "}\n",
       ".hoogle-head {\n",
       "font-weight: bold;\n",
       "}\n",
       ".hoogle-sub {\n",
       "display: block;\n",
       "margin-left: 0.4em;\n",
       "}\n",
       ".hoogle-package {\n",
       "font-weight: bold;\n",
       "font-style: italic;\n",
       "}\n",
       ".hoogle-module {\n",
       "font-weight: bold;\n",
       "}\n",
       ".hoogle-class {\n",
       "font-weight: bold;\n",
       "}\n",
       ".get-type {\n",
       "color: green;\n",
       "font-weight: bold;\n",
       "font-family: monospace;\n",
       "display: block;\n",
       "white-space: pre-wrap;\n",
       "}\n",
       ".show-type {\n",
       "color: green;\n",
       "font-weight: bold;\n",
       "font-family: monospace;\n",
       "margin-left: 1em;\n",
       "}\n",
       ".mono {\n",
       "font-family: monospace;\n",
       "display: block;\n",
       "}\n",
       ".err-msg {\n",
       "color: red;\n",
       "font-style: italic;\n",
       "font-family: monospace;\n",
       "white-space: pre;\n",
       "display: block;\n",
       "}\n",
       "#unshowable {\n",
       "color: red;\n",
       "font-weight: bold;\n",
       "}\n",
       ".err-msg.in.collapse {\n",
       "padding-top: 0.7em;\n",
       "}\n",
       ".highlight-code {\n",
       "white-space: pre;\n",
       "font-family: monospace;\n",
       "}\n",
       ".suggestion-warning { \n",
       "font-weight: bold;\n",
       "color: rgb(200, 130, 0);\n",
       "}\n",
       ".suggestion-error { \n",
       "font-weight: bold;\n",
       "color: red;\n",
       "}\n",
       ".suggestion-name {\n",
       "font-weight: bold;\n",
       "}\n",
       "</style><span class='get-type'>['a', 'b', 'c'] :: [Char]</span>"
      ],
      "text/plain": [
       "['a', 'b', 'c'] :: [Char]"
      ]
     },
     "metadata": {},
     "output_type": "display_data"
    }
   ],
   "source": [
    ":type ['a', 'b', 'c']"
   ]
  },
  {
   "cell_type": "code",
   "execution_count": 6,
   "id": "f45e55cd",
   "metadata": {},
   "outputs": [
    {
     "data": {
      "text/html": [
       "<style>/* Styles used for the Hoogle display in the pager */\n",
       ".hoogle-doc {\n",
       "display: block;\n",
       "padding-bottom: 1.3em;\n",
       "padding-left: 0.4em;\n",
       "}\n",
       ".hoogle-code {\n",
       "display: block;\n",
       "font-family: monospace;\n",
       "white-space: pre;\n",
       "}\n",
       ".hoogle-text {\n",
       "display: block;\n",
       "}\n",
       ".hoogle-name {\n",
       "color: green;\n",
       "font-weight: bold;\n",
       "}\n",
       ".hoogle-head {\n",
       "font-weight: bold;\n",
       "}\n",
       ".hoogle-sub {\n",
       "display: block;\n",
       "margin-left: 0.4em;\n",
       "}\n",
       ".hoogle-package {\n",
       "font-weight: bold;\n",
       "font-style: italic;\n",
       "}\n",
       ".hoogle-module {\n",
       "font-weight: bold;\n",
       "}\n",
       ".hoogle-class {\n",
       "font-weight: bold;\n",
       "}\n",
       ".get-type {\n",
       "color: green;\n",
       "font-weight: bold;\n",
       "font-family: monospace;\n",
       "display: block;\n",
       "white-space: pre-wrap;\n",
       "}\n",
       ".show-type {\n",
       "color: green;\n",
       "font-weight: bold;\n",
       "font-family: monospace;\n",
       "margin-left: 1em;\n",
       "}\n",
       ".mono {\n",
       "font-family: monospace;\n",
       "display: block;\n",
       "}\n",
       ".err-msg {\n",
       "color: red;\n",
       "font-style: italic;\n",
       "font-family: monospace;\n",
       "white-space: pre;\n",
       "display: block;\n",
       "}\n",
       "#unshowable {\n",
       "color: red;\n",
       "font-weight: bold;\n",
       "}\n",
       ".err-msg.in.collapse {\n",
       "padding-top: 0.7em;\n",
       "}\n",
       ".highlight-code {\n",
       "white-space: pre;\n",
       "font-family: monospace;\n",
       "}\n",
       ".suggestion-warning { \n",
       "font-weight: bold;\n",
       "color: rgb(200, 130, 0);\n",
       "}\n",
       ".suggestion-error { \n",
       "font-weight: bold;\n",
       "color: red;\n",
       "}\n",
       ".suggestion-name {\n",
       "font-weight: bold;\n",
       "}\n",
       "</style><span class='get-type'>True :: Bool</span>"
      ],
      "text/plain": [
       "True :: Bool"
      ]
     },
     "metadata": {},
     "output_type": "display_data"
    }
   ],
   "source": [
    ":type True"
   ]
  },
  {
   "cell_type": "markdown",
   "id": "2e9665a8",
   "metadata": {},
   "source": [
    "Иногда тип понять не очень просто, даже в обычной ситуации:"
   ]
  },
  {
   "cell_type": "code",
   "execution_count": 8,
   "id": "7e531950",
   "metadata": {},
   "outputs": [
    {
     "data": {
      "text/html": [
       "<style>/* Styles used for the Hoogle display in the pager */\n",
       ".hoogle-doc {\n",
       "display: block;\n",
       "padding-bottom: 1.3em;\n",
       "padding-left: 0.4em;\n",
       "}\n",
       ".hoogle-code {\n",
       "display: block;\n",
       "font-family: monospace;\n",
       "white-space: pre;\n",
       "}\n",
       ".hoogle-text {\n",
       "display: block;\n",
       "}\n",
       ".hoogle-name {\n",
       "color: green;\n",
       "font-weight: bold;\n",
       "}\n",
       ".hoogle-head {\n",
       "font-weight: bold;\n",
       "}\n",
       ".hoogle-sub {\n",
       "display: block;\n",
       "margin-left: 0.4em;\n",
       "}\n",
       ".hoogle-package {\n",
       "font-weight: bold;\n",
       "font-style: italic;\n",
       "}\n",
       ".hoogle-module {\n",
       "font-weight: bold;\n",
       "}\n",
       ".hoogle-class {\n",
       "font-weight: bold;\n",
       "}\n",
       ".get-type {\n",
       "color: green;\n",
       "font-weight: bold;\n",
       "font-family: monospace;\n",
       "display: block;\n",
       "white-space: pre-wrap;\n",
       "}\n",
       ".show-type {\n",
       "color: green;\n",
       "font-weight: bold;\n",
       "font-family: monospace;\n",
       "margin-left: 1em;\n",
       "}\n",
       ".mono {\n",
       "font-family: monospace;\n",
       "display: block;\n",
       "}\n",
       ".err-msg {\n",
       "color: red;\n",
       "font-style: italic;\n",
       "font-family: monospace;\n",
       "white-space: pre;\n",
       "display: block;\n",
       "}\n",
       "#unshowable {\n",
       "color: red;\n",
       "font-weight: bold;\n",
       "}\n",
       ".err-msg.in.collapse {\n",
       "padding-top: 0.7em;\n",
       "}\n",
       ".highlight-code {\n",
       "white-space: pre;\n",
       "font-family: monospace;\n",
       "}\n",
       ".suggestion-warning { \n",
       "font-weight: bold;\n",
       "color: rgb(200, 130, 0);\n",
       "}\n",
       ".suggestion-error { \n",
       "font-weight: bold;\n",
       "color: red;\n",
       "}\n",
       ".suggestion-name {\n",
       "font-weight: bold;\n",
       "}\n",
       "</style><span class='get-type'>2 :: forall p. Num p => p</span>"
      ],
      "text/plain": [
       "2 :: forall p. Num p => p"
      ]
     },
     "metadata": {},
     "output_type": "display_data"
    },
    {
     "data": {
      "text/html": [
       "<style>/* Styles used for the Hoogle display in the pager */\n",
       ".hoogle-doc {\n",
       "display: block;\n",
       "padding-bottom: 1.3em;\n",
       "padding-left: 0.4em;\n",
       "}\n",
       ".hoogle-code {\n",
       "display: block;\n",
       "font-family: monospace;\n",
       "white-space: pre;\n",
       "}\n",
       ".hoogle-text {\n",
       "display: block;\n",
       "}\n",
       ".hoogle-name {\n",
       "color: green;\n",
       "font-weight: bold;\n",
       "}\n",
       ".hoogle-head {\n",
       "font-weight: bold;\n",
       "}\n",
       ".hoogle-sub {\n",
       "display: block;\n",
       "margin-left: 0.4em;\n",
       "}\n",
       ".hoogle-package {\n",
       "font-weight: bold;\n",
       "font-style: italic;\n",
       "}\n",
       ".hoogle-module {\n",
       "font-weight: bold;\n",
       "}\n",
       ".hoogle-class {\n",
       "font-weight: bold;\n",
       "}\n",
       ".get-type {\n",
       "color: green;\n",
       "font-weight: bold;\n",
       "font-family: monospace;\n",
       "display: block;\n",
       "white-space: pre-wrap;\n",
       "}\n",
       ".show-type {\n",
       "color: green;\n",
       "font-weight: bold;\n",
       "font-family: monospace;\n",
       "margin-left: 1em;\n",
       "}\n",
       ".mono {\n",
       "font-family: monospace;\n",
       "display: block;\n",
       "}\n",
       ".err-msg {\n",
       "color: red;\n",
       "font-style: italic;\n",
       "font-family: monospace;\n",
       "white-space: pre;\n",
       "display: block;\n",
       "}\n",
       "#unshowable {\n",
       "color: red;\n",
       "font-weight: bold;\n",
       "}\n",
       ".err-msg.in.collapse {\n",
       "padding-top: 0.7em;\n",
       "}\n",
       ".highlight-code {\n",
       "white-space: pre;\n",
       "font-family: monospace;\n",
       "}\n",
       ".suggestion-warning { \n",
       "font-weight: bold;\n",
       "color: rgb(200, 130, 0);\n",
       "}\n",
       ".suggestion-error { \n",
       "font-weight: bold;\n",
       "color: red;\n",
       "}\n",
       ".suggestion-name {\n",
       "font-weight: bold;\n",
       "}\n",
       "</style><span class='get-type'>2.3 :: forall p. Fractional p => p</span>"
      ],
      "text/plain": [
       "2.3 :: forall p. Fractional p => p"
      ]
     },
     "metadata": {},
     "output_type": "display_data"
    }
   ],
   "source": [
    ":type 2\n",
    ":type 2.3"
   ]
  },
  {
   "cell_type": "markdown",
   "id": "b9b8520b",
   "metadata": {},
   "source": [
    "Это надо понимать так, что у тип `2` это `p`, где p является числовым типом (`Num`). Подходит и Int, и Integer, и Double, и Float.\n",
    "\n",
    "У `2.3` тип `p`, где `p` является числовым дробным типом (`Fractional`), подходят Double, Float"
   ]
  },
  {
   "cell_type": "markdown",
   "id": "e2dc25c2",
   "metadata": {},
   "source": [
    "## Функции\n",
    "\n",
    "Чтобы ввести функцию, пишем:\n",
    "`имя аргументы = выражение, которое вычисляет результат`. Обратите внимание, для аргументов функции **скобки не используются**. Скобки нужны для указания порядка вычисления: `(2 + 2) * 2`."
   ]
  },
  {
   "cell_type": "code",
   "execution_count": 12,
   "id": "8f97d0c4",
   "metadata": {},
   "outputs": [],
   "source": [
    "f x = x + 1 -- один аргумент\n",
    "g x y = x + 2 * y -- два аргумента\n"
   ]
  },
  {
   "cell_type": "markdown",
   "id": "8285b436",
   "metadata": {},
   "source": [
    "Вызвать функцию. Не используем скобки, аргументы пишем через пробел"
   ]
  },
  {
   "cell_type": "code",
   "execution_count": 13,
   "id": "5ba55603",
   "metadata": {},
   "outputs": [
    {
     "data": {
      "text/plain": [
       "3"
      ]
     },
     "metadata": {},
     "output_type": "display_data"
    },
    {
     "data": {
      "text/plain": [
       "23"
      ]
     },
     "metadata": {},
     "output_type": "display_data"
    }
   ],
   "source": [
    "f 2\n",
    "g 3 10"
   ]
  },
  {
   "cell_type": "markdown",
   "id": "f6f06142",
   "metadata": {},
   "source": [
    "У функций принято подисписывать типы. Это работает как\n",
    " * проверка вашей программы, haskell проверяет, что ваше вычисление действительно вычисляет выражение нужного типа\n",
    " * документация, т.е. для тех, кто читает, становится проще понять, что делает функция.\n",
    " \n",
    "Часто, если haskell сказал, что тип функции указан правильно, значит, и функция работает правильно.\n",
    "\n",
    "Тип указывается перед началом функции с помощью `::`"
   ]
  },
  {
   "cell_type": "code",
   "execution_count": 18,
   "id": "54ad3026",
   "metadata": {},
   "outputs": [],
   "source": [
    "f :: Int -> Int -- Int превращается в Int\n",
    "f x = x + 1\n",
    "\n",
    "g :: Int -> Int -> Int -- все три Int как бы равноправны\n",
    "g x y = x + 2 * y"
   ]
  },
  {
   "cell_type": "markdown",
   "id": "d2c45381",
   "metadata": {},
   "source": [
    "## Логическое выражение `if`\n",
    "`if` Bool-условие `then` выражение1 `else` выражение2. if без else не бывает"
   ]
  },
  {
   "cell_type": "code",
   "execution_count": 20,
   "id": "352da696",
   "metadata": {},
   "outputs": [
    {
     "data": {
      "text/plain": [
       "10"
      ]
     },
     "metadata": {},
     "output_type": "display_data"
    },
    {
     "data": {
      "text/plain": [
       "20"
      ]
     },
     "metadata": {},
     "output_type": "display_data"
    }
   ],
   "source": [
    "if 2 == 2 then 10 else 20\n",
    "if 2 == 3 then 10 else 20"
   ]
  },
  {
   "cell_type": "code",
   "execution_count": 22,
   "id": "39b0262e",
   "metadata": {
    "scrolled": true
   },
   "outputs": [
    {
     "data": {
      "text/plain": [
       "10"
      ]
     },
     "metadata": {},
     "output_type": "display_data"
    },
    {
     "data": {
      "text/plain": [
       "0"
      ]
     },
     "metadata": {},
     "output_type": "display_data"
    },
    {
     "data": {
      "text/plain": [
       "10"
      ]
     },
     "metadata": {},
     "output_type": "display_data"
    }
   ],
   "source": [
    "abs :: Int -> Int\n",
    "abs x = if x < 0 then -x else x\n",
    "\n",
    "abs 10\n",
    "abs 0\n",
    "abs (-10) -- обязательно скобки, иначе это вычитание abs - 10"
   ]
  },
  {
   "cell_type": "markdown",
   "id": "5c9ed8a5",
   "metadata": {},
   "source": [
    "При определении функции можно написать несколько равенств, для вычисления будут выбираться те, которые подходят:"
   ]
  },
  {
   "cell_type": "code",
   "execution_count": 23,
   "id": "37e5b06f",
   "metadata": {},
   "outputs": [
    {
     "data": {
      "text/plain": [
       "11"
      ]
     },
     "metadata": {},
     "output_type": "display_data"
    },
    {
     "data": {
      "text/plain": [
       "21"
      ]
     },
     "metadata": {},
     "output_type": "display_data"
    },
    {
     "data": {
      "text/plain": [
       "2"
      ]
     },
     "metadata": {},
     "output_type": "display_data"
    },
    {
     "data": {
      "text/plain": [
       "0"
      ]
     },
     "metadata": {},
     "output_type": "display_data"
    }
   ],
   "source": [
    "h :: Int -> Int\n",
    "h 0 = 0\n",
    "h 1 = 2\n",
    "h x = x + 1\n",
    "\n",
    "h 10\n",
    "h 20\n",
    "h 1\n",
    "h 0"
   ]
  },
  {
   "cell_type": "markdown",
   "id": "22dd75b2",
   "metadata": {},
   "source": [
    "Если ни одно правило не подходит, значит, будет ошибка:"
   ]
  },
  {
   "cell_type": "code",
   "execution_count": 25,
   "id": "9ad34974",
   "metadata": {},
   "outputs": [
    {
     "data": {
      "text/plain": [
       "0"
      ]
     },
     "metadata": {},
     "output_type": "display_data"
    },
    {
     "data": {
      "text/plain": [
       "1"
      ]
     },
     "metadata": {},
     "output_type": "display_data"
    },
    {
     "ename": "",
     "evalue": "",
     "output_type": "error",
     "traceback": [
      "<interactive>:(2,1)-(3,7): Non-exhaustive patterns in function h"
     ]
    }
   ],
   "source": [
    "h :: Int -> Int\n",
    "h 0 = 0\n",
    "h 1 = 1\n",
    "\n",
    "h 0\n",
    "h 1\n",
    "h 10 -- ошибка. Нет подходящего правила"
   ]
  },
  {
   "cell_type": "markdown",
   "id": "3ca9e604",
   "metadata": {},
   "source": [
    "В правила можно добавлять условия, они называются guards:"
   ]
  },
  {
   "cell_type": "code",
   "execution_count": 27,
   "id": "79093c5b",
   "metadata": {},
   "outputs": [
    {
     "data": {
      "text/plain": [
       "10"
      ]
     },
     "metadata": {},
     "output_type": "display_data"
    },
    {
     "data": {
      "text/plain": [
       "0"
      ]
     },
     "metadata": {},
     "output_type": "display_data"
    },
    {
     "data": {
      "text/plain": [
       "10"
      ]
     },
     "metadata": {},
     "output_type": "display_data"
    }
   ],
   "source": [
    "abs :: Int -> Int\n",
    "abs x | x < 0 = -x  -- правило работает, если выполнено условие\n",
    "abs x | x >= 0 = x\n",
    "\n",
    "abs 10\n",
    "abs 0\n",
    "abs (-10)"
   ]
  },
  {
   "cell_type": "markdown",
   "id": "f6be9260",
   "metadata": {},
   "source": [
    "Правила при вычислении функции выполняются по порядку, поэтому проверять x >= 0 не обазятельно:"
   ]
  },
  {
   "cell_type": "code",
   "execution_count": 30,
   "id": "1ea029be",
   "metadata": {},
   "outputs": [
    {
     "data": {
      "text/html": [
       "<style>/* Styles used for the Hoogle display in the pager */\n",
       ".hoogle-doc {\n",
       "display: block;\n",
       "padding-bottom: 1.3em;\n",
       "padding-left: 0.4em;\n",
       "}\n",
       ".hoogle-code {\n",
       "display: block;\n",
       "font-family: monospace;\n",
       "white-space: pre;\n",
       "}\n",
       ".hoogle-text {\n",
       "display: block;\n",
       "}\n",
       ".hoogle-name {\n",
       "color: green;\n",
       "font-weight: bold;\n",
       "}\n",
       ".hoogle-head {\n",
       "font-weight: bold;\n",
       "}\n",
       ".hoogle-sub {\n",
       "display: block;\n",
       "margin-left: 0.4em;\n",
       "}\n",
       ".hoogle-package {\n",
       "font-weight: bold;\n",
       "font-style: italic;\n",
       "}\n",
       ".hoogle-module {\n",
       "font-weight: bold;\n",
       "}\n",
       ".hoogle-class {\n",
       "font-weight: bold;\n",
       "}\n",
       ".get-type {\n",
       "color: green;\n",
       "font-weight: bold;\n",
       "font-family: monospace;\n",
       "display: block;\n",
       "white-space: pre-wrap;\n",
       "}\n",
       ".show-type {\n",
       "color: green;\n",
       "font-weight: bold;\n",
       "font-family: monospace;\n",
       "margin-left: 1em;\n",
       "}\n",
       ".mono {\n",
       "font-family: monospace;\n",
       "display: block;\n",
       "}\n",
       ".err-msg {\n",
       "color: red;\n",
       "font-style: italic;\n",
       "font-family: monospace;\n",
       "white-space: pre;\n",
       "display: block;\n",
       "}\n",
       "#unshowable {\n",
       "color: red;\n",
       "font-weight: bold;\n",
       "}\n",
       ".err-msg.in.collapse {\n",
       "padding-top: 0.7em;\n",
       "}\n",
       ".highlight-code {\n",
       "white-space: pre;\n",
       "font-family: monospace;\n",
       "}\n",
       ".suggestion-warning { \n",
       "font-weight: bold;\n",
       "color: rgb(200, 130, 0);\n",
       "}\n",
       ".suggestion-error { \n",
       "font-weight: bold;\n",
       "color: red;\n",
       "}\n",
       ".suggestion-name {\n",
       "font-weight: bold;\n",
       "}\n",
       "</style><div class=\"suggestion-name\" style=\"clear:both;\">Redundant guard</div><div class=\"suggestion-row\" style=\"float: left;\"><div class=\"suggestion-warning\">Found:</div><div class=\"highlight-code\" id=\"haskell\">abs x | True = x</div></div><div class=\"suggestion-row\" style=\"float: left;\"><div class=\"suggestion-warning\">Why Not:</div><div class=\"highlight-code\" id=\"haskell\">abs x = x</div></div><div class=\"suggestion-name\" style=\"clear:both;\">Redundant guard</div><div class=\"suggestion-row\" style=\"float: left;\"><div class=\"suggestion-warning\">Found:</div><div class=\"highlight-code\" id=\"haskell\">abs x | otherwise = x</div></div><div class=\"suggestion-row\" style=\"float: left;\"><div class=\"suggestion-warning\">Why Not:</div><div class=\"highlight-code\" id=\"haskell\">abs x = x</div></div>"
      ],
      "text/plain": [
       "Line 9: Redundant guard\n",
       "Found:\n",
       "abs x | True = x\n",
       "Why not:\n",
       "abs x = xLine 15: Redundant guard\n",
       "Found:\n",
       "abs x | otherwise = x\n",
       "Why not:\n",
       "abs x = x"
      ]
     },
     "metadata": {},
     "output_type": "display_data"
    },
    {
     "data": {
      "text/plain": [
       "10"
      ]
     },
     "metadata": {},
     "output_type": "display_data"
    },
    {
     "data": {
      "text/plain": [
       "10"
      ]
     },
     "metadata": {},
     "output_type": "display_data"
    },
    {
     "data": {
      "text/plain": [
       "10"
      ]
     },
     "metadata": {},
     "output_type": "display_data"
    }
   ],
   "source": [
    "abs :: Int -> Int\n",
    "abs x | x < 0 = -x\n",
    "abs x = x\n",
    "\n",
    "abs 10\n",
    "\n",
    "abs :: Int -> Int\n",
    "abs x | x < 0 = -x\n",
    "abs x | True = x -- всегда верно, т.е. если не выполнилось x < 0\n",
    "\n",
    "abs 10\n",
    "\n",
    "abs :: Int -> Int\n",
    "abs x | x < 0 = -x\n",
    "abs x | otherwise = x -- otherwise это True, но так легче читать\n",
    "\n",
    "abs 10"
   ]
  },
  {
   "cell_type": "markdown",
   "id": "4d1581e0",
   "metadata": {},
   "source": [
    "## Рекурсия\n",
    "\n",
    "Часто нужно повторять действия, циклов нет, используется вызов функцией самой себя. Например, факториал. `5! = 1 * 2 * 3 * 4 * 5`\n",
    "Вычисление основано на том, что `5! = 1 * 2 * 3 * 4 * 5 = 4! * 5` и т.д."
   ]
  },
  {
   "cell_type": "code",
   "execution_count": 32,
   "id": "7ec75186",
   "metadata": {},
   "outputs": [
    {
     "data": {
      "text/plain": [
       "1"
      ]
     },
     "metadata": {},
     "output_type": "display_data"
    },
    {
     "data": {
      "text/plain": [
       "1"
      ]
     },
     "metadata": {},
     "output_type": "display_data"
    },
    {
     "data": {
      "text/plain": [
       "2"
      ]
     },
     "metadata": {},
     "output_type": "display_data"
    },
    {
     "data": {
      "text/plain": [
       "6"
      ]
     },
     "metadata": {},
     "output_type": "display_data"
    },
    {
     "data": {
      "text/plain": [
       "24"
      ]
     },
     "metadata": {},
     "output_type": "display_data"
    },
    {
     "data": {
      "text/plain": [
       "120"
      ]
     },
     "metadata": {},
     "output_type": "display_data"
    }
   ],
   "source": [
    "fact :: Integer -> Integer\n",
    "fact 0 = 1\n",
    "fact 1 = 1 -- не нужная строка, и без нее посчитается\n",
    "fact n = fact (n - 1) * n\n",
    "\n",
    "fact 0\n",
    "fact 1\n",
    "fact 2\n",
    "fact 3\n",
    "fact 4\n",
    "fact 5"
   ]
  },
  {
   "cell_type": "markdown",
   "id": "5d8e2d5d",
   "metadata": {},
   "source": [
    "Как происходит вычисление `fact 5`:\n",
    "```\n",
    "fact 5 -> fact 4 * 5 -> (fact 3 * 4) * 5 -> ((fact 2 * 3) * 4) * 5 -> (((fact 1 * 2) * 3) * 4) * 5 -> 1 * 2 * 3 * 4 * 5 -> 120\n",
    "```"
   ]
  },
  {
   "cell_type": "markdown",
   "id": "6f85b35b",
   "metadata": {},
   "source": [
    "**Задача 1**: Написать факториал через if, с одним правилом:\n",
    "`fact2 x = if ...`\n",
    "\n",
    "Сделайте файл `tasks1.hs`, создайте там функцию `fact2`. Загрузите этот файл в ghci через `:load task1.hs`, вызывайте `fact2 5`, должно получиться 120.\n",
    "\n",
    "Неплохо иметь функцию main:\n",
    "\n",
    "```\n",
    "main :: IO()\n",
    "main = do\n",
    "          print \"проверяем fact2\"\n",
    "          print (fact2 10)\n",
    "          print (fact2 5)\n",
    "          print (fact2 0)\n",
    "```"
   ]
  },
  {
   "cell_type": "markdown",
   "id": "688a785d",
   "metadata": {},
   "source": [
    "## Списки\n",
    "\n",
    "Создание списка:\n",
    "  * перечисление в квадратных скобках через запятую: `[10, 20, 30]` или `[True, False, False]`\n",
    "  * Операция `:` приписывает элемент в начало списка. `10 : [20, 30]` вычисляется в `[10, 20, 30]`:"
   ]
  },
  {
   "cell_type": "code",
   "execution_count": 37,
   "id": "903319b3",
   "metadata": {},
   "outputs": [
    {
     "data": {
      "text/html": [
       "<style>/* Styles used for the Hoogle display in the pager */\n",
       ".hoogle-doc {\n",
       "display: block;\n",
       "padding-bottom: 1.3em;\n",
       "padding-left: 0.4em;\n",
       "}\n",
       ".hoogle-code {\n",
       "display: block;\n",
       "font-family: monospace;\n",
       "white-space: pre;\n",
       "}\n",
       ".hoogle-text {\n",
       "display: block;\n",
       "}\n",
       ".hoogle-name {\n",
       "color: green;\n",
       "font-weight: bold;\n",
       "}\n",
       ".hoogle-head {\n",
       "font-weight: bold;\n",
       "}\n",
       ".hoogle-sub {\n",
       "display: block;\n",
       "margin-left: 0.4em;\n",
       "}\n",
       ".hoogle-package {\n",
       "font-weight: bold;\n",
       "font-style: italic;\n",
       "}\n",
       ".hoogle-module {\n",
       "font-weight: bold;\n",
       "}\n",
       ".hoogle-class {\n",
       "font-weight: bold;\n",
       "}\n",
       ".get-type {\n",
       "color: green;\n",
       "font-weight: bold;\n",
       "font-family: monospace;\n",
       "display: block;\n",
       "white-space: pre-wrap;\n",
       "}\n",
       ".show-type {\n",
       "color: green;\n",
       "font-weight: bold;\n",
       "font-family: monospace;\n",
       "margin-left: 1em;\n",
       "}\n",
       ".mono {\n",
       "font-family: monospace;\n",
       "display: block;\n",
       "}\n",
       ".err-msg {\n",
       "color: red;\n",
       "font-style: italic;\n",
       "font-family: monospace;\n",
       "white-space: pre;\n",
       "display: block;\n",
       "}\n",
       "#unshowable {\n",
       "color: red;\n",
       "font-weight: bold;\n",
       "}\n",
       ".err-msg.in.collapse {\n",
       "padding-top: 0.7em;\n",
       "}\n",
       ".highlight-code {\n",
       "white-space: pre;\n",
       "font-family: monospace;\n",
       "}\n",
       ".suggestion-warning { \n",
       "font-weight: bold;\n",
       "color: rgb(200, 130, 0);\n",
       "}\n",
       ".suggestion-error { \n",
       "font-weight: bold;\n",
       "color: red;\n",
       "}\n",
       ".suggestion-name {\n",
       "font-weight: bold;\n",
       "}\n",
       "</style><div class=\"suggestion-name\" style=\"clear:both;\">Use list literal</div><div class=\"suggestion-row\" style=\"float: left;\"><div class=\"suggestion-warning\">Found:</div><div class=\"highlight-code\" id=\"haskell\">10 : 20 : 30 : []</div></div><div class=\"suggestion-row\" style=\"float: left;\"><div class=\"suggestion-warning\">Why Not:</div><div class=\"highlight-code\" id=\"haskell\">[10, 20, 30]</div></div>"
      ],
      "text/plain": [
       "Line 4: Use list literal\n",
       "Found:\n",
       "10 : 20 : 30 : []\n",
       "Why not:\n",
       "[10, 20, 30]"
      ]
     },
     "metadata": {},
     "output_type": "display_data"
    },
    {
     "data": {
      "text/plain": [
       "[10,20,30]"
      ]
     },
     "metadata": {},
     "output_type": "display_data"
    },
    {
     "data": {
      "text/plain": [
       "\"abcd\""
      ]
     },
     "metadata": {},
     "output_type": "display_data"
    },
    {
     "data": {
      "text/plain": [
       "[10,20,30,40,50]"
      ]
     },
     "metadata": {},
     "output_type": "display_data"
    },
    {
     "data": {
      "text/plain": [
       "[10,20,30]"
      ]
     },
     "metadata": {},
     "output_type": "display_data"
    }
   ],
   "source": [
    "10 : [20, 30]\n",
    "'a' : ['b', 'c', 'd']\n",
    "10 : 20 : [30, 40, 50] -- сначала приписывает 20, потом 10\n",
    "10 : 20 : 30 : [] -- приписываем всё к пустому списку"
   ]
  },
  {
   "cell_type": "markdown",
   "id": "d8de49e6",
   "metadata": {},
   "source": [
    "Базовые действия со списками это только создание пустого `[]` и операция приписывания к началу `:`. Перечисление в квадратных скобках нужно только для удобства.\n",
    "\n",
    "### функции на списках\n",
    "В аргументе функции можно указывать опреации `[]` и `:`. Фактически, при описании функции для аргументов указываются шаблоны (pattern), с которыми надо сопоставлять (match) те аргументы, которые в нее передаются."
   ]
  },
  {
   "cell_type": "code",
   "execution_count": 43,
   "id": "c0e324e2",
   "metadata": {},
   "outputs": [
    {
     "data": {
      "text/plain": [
       "6"
      ]
     },
     "metadata": {},
     "output_type": "display_data"
    },
    {
     "data": {
      "text/plain": [
       "31"
      ]
     },
     "metadata": {},
     "output_type": "display_data"
    },
    {
     "data": {
      "text/plain": [
       "10"
      ]
     },
     "metadata": {},
     "output_type": "display_data"
    },
    {
     "data": {
      "text/plain": [
       "5000"
      ]
     },
     "metadata": {},
     "output_type": "display_data"
    },
    {
     "ename": "",
     "evalue": "",
     "output_type": "error",
     "traceback": [
      "<interactive>:(2,1)-(7,20): Non-exhaustive patterns in function list1"
     ]
    }
   ],
   "source": [
    "list1 :: [Int] -> Int -- функция на списке чисел, выдает число\n",
    "list1 [10] = 5\n",
    "list1 [10, 20] = 6\n",
    "list1 [10, x] = x + 1\n",
    "list1 [x] = 2 * x\n",
    "list1 [] = 0\n",
    "list1 (5:lst) = 5000\n",
    "\n",
    "list1 [10, 20] -- правило 2 подошло\n",
    "list1 [10, 30] -- подошло правило 3\n",
    "list1 [5] -- подходит правило 4\n",
    "list1 [5, 6, 7, 8] -- подходит правило 6, у нас 5:[6,7,8]\n",
    "list1 [50, 60, 70, 80] -- подходит правило 6, у нас 5:[6,7,8]"
   ]
  },
  {
   "cell_type": "markdown",
   "id": "26b85517",
   "metadata": {},
   "source": [
    "Очень часто функции, которые работают со списками разбирают только два случая, пустой список и не пустой:"
   ]
  },
  {
   "cell_type": "code",
   "execution_count": null,
   "id": "fdb7f5dd",
   "metadata": {},
   "outputs": [],
   "source": [
    "len :: [Int] -> Int -- длина списка\n",
    "len [] = 0\n",
    "len (h:t) = 1 + len t"
   ]
  },
  {
   "cell_type": "markdown",
   "id": "c32606f9",
   "metadata": {},
   "source": [
    "`h` (head) — первый элемент списка, `t` (tail) — оставшаяся часть.\n",
    "Для `[10, 20, 30]`: `h = 10`, `t = [20, 30]`. `h :: Int`, `t :: [Int]`.\n",
    "\n",
    "При работе со списком в Haskell встроена только работа с первым элементом. Нельзя напрямую достать, откусить, например, последний элемент.\n",
    "\n",
    "Еще пример: Узнать первый, второй элемент списка:"
   ]
  },
  {
   "cell_type": "code",
   "execution_count": 48,
   "id": "750aeffb",
   "metadata": {},
   "outputs": [
    {
     "data": {
      "text/plain": [
       "10"
      ]
     },
     "metadata": {},
     "output_type": "display_data"
    },
    {
     "data": {
      "text/plain": [
       "20"
      ]
     },
     "metadata": {},
     "output_type": "display_data"
    },
    {
     "ename": "",
     "evalue": "",
     "output_type": "error",
     "traceback": [
      "<interactive>:2:1-14: Non-exhaustive patterns in function get1"
     ]
    }
   ],
   "source": [
    "get1 :: [Int] -> Int -- такая есть встроенная, называется `head`\n",
    "get1 (h:t) = h\n",
    "\n",
    "get2 :: [Int] -> Int\n",
    "-- get2 (h1:h2:t) = h2\n",
    "get2 (h:t) = get1 t -- первый элемент хвоста списка\n",
    "\n",
    "get1 [10, 20, 30]\n",
    "get2 [10, 20, 30]\n",
    "get1 []"
   ]
  },
  {
   "cell_type": "markdown",
   "id": "d47f1286",
   "metadata": {},
   "source": [
    "Последний пример. Сделать список из указанного числа букв 'x':"
   ]
  },
  {
   "cell_type": "code",
   "execution_count": 50,
   "id": "03e7016a",
   "metadata": {},
   "outputs": [
    {
     "data": {
      "text/plain": [
       "\"xxxxx\""
      ]
     },
     "metadata": {},
     "output_type": "display_data"
    }
   ],
   "source": [
    "repeatX :: Int -> [Char] -- Int -> String\n",
    "repeatX 0 = []\n",
    "repeatX n = 'x' : repeatX (n - 1)\n",
    "\n",
    "repeatX 5"
   ]
  },
  {
   "cell_type": "markdown",
   "id": "f5d0a23e",
   "metadata": {},
   "source": [
    "Задачи [http://students.iposov.spb.ru/20fall/functional_programming/](http://students.iposov.spb.ru/20fall/functional_programming/). Подсказка\n",
    "\n",
    "```\n",
    "fun [] = ...\n",
    "fun (h:t) = ...\n",
    "```"
   ]
  },
  {
   "cell_type": "code",
   "execution_count": null,
   "id": "c38a5294",
   "metadata": {},
   "outputs": [],
   "source": []
  }
 ],
 "metadata": {
  "kernelspec": {
   "display_name": "Haskell",
   "language": "haskell",
   "name": "haskell"
  },
  "language_info": {
   "codemirror_mode": "ihaskell",
   "file_extension": ".hs",
   "mimetype": "text/x-haskell",
   "name": "haskell",
   "pygments_lexer": "Haskell",
   "version": "8.10.4"
  }
 },
 "nbformat": 4,
 "nbformat_minor": 5
}
