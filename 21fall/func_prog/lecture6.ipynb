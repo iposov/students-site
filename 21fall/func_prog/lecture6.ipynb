{
 "cells": [
  {
   "cell_type": "markdown",
   "id": "2e7f961e",
   "metadata": {},
   "source": [
    "# Двоичное дерево и вывод его на экран\n",
    "Заведем тип для представления двоичных деревьев и вместе напишем код, который будет выводить его на экран:"
   ]
  },
  {
   "cell_type": "code",
   "execution_count": 5,
   "id": "ee4e2134",
   "metadata": {},
   "outputs": [],
   "source": [
    "-- используемые символы: ┌└ ┤│ (возможно, ─)\n",
    "-- \n",
    "--      ┌123\n",
    "--   ┌56┤\n",
    "--   │  └78\n",
    "-- 10┤\n",
    "--   └42"
   ]
  },
  {
   "cell_type": "code",
   "execution_count": 6,
   "id": "7fee06f4",
   "metadata": {},
   "outputs": [],
   "source": [
    "data BinaryTree = Leaf Int | InnerNode Int BinaryTree BinaryTree\n",
    "\n",
    "treeExample = InnerNode 10 (InnerNode 56 (Leaf 123) (Leaf 78)) (Leaf 42)"
   ]
  },
  {
   "cell_type": "code",
   "execution_count": 35,
   "id": "1a810fd0",
   "metadata": {},
   "outputs": [
    {
     "data": {
      "text/plain": [
       "     ┌123\n",
       "  ┌56┤\n",
       "  │  └78\n",
       "10┤\n",
       "  └42"
      ]
     },
     "metadata": {},
     "output_type": "display_data"
    }
   ],
   "source": [
    "showBinaryTree :: BinaryTree -> String\n",
    "-- showBinaryTree tree = helperDrawer \"\" \"\" \"\" tree where\n",
    "-- showBinaryTree = helperDrawer \"\" \"\" \"\" where\n",
    "-- showBinaryTree tree = helperDrawer \"\" \"\" \"\" tree ++ \"\\n\" where\n",
    "showBinaryTree = (++ \"\\n\") . helperDrawer \"\" \"\" \"\" where\n",
    "    helperDrawer _ middlePrefix _ (Leaf value) = middlePrefix ++ show value\n",
    "    helperDrawer leftPrefix middlePrefix rightPrefix (InnerNode value left right) =\n",
    "                            helperDrawer (leftPrefix ++ wSpaces ++ \" \") -- рисуем левое поддерево\n",
    "                                         (leftPrefix ++ wSpaces ++ \"┌\")\n",
    "                                         (leftPrefix ++ wSpaces ++ \"│\")\n",
    "                                         left\n",
    "                            ++ \"\\n\" ++\n",
    "                            middlePrefix ++ show value ++ \"┤\" -- рисуем среднюю (корневую часть дерева)\n",
    "                            ++ \"\\n\" ++\n",
    "                            helperDrawer (rightPrefix ++ wSpaces ++ \"│\") -- рисуем правое поддерево\n",
    "                                         (rightPrefix ++ wSpaces ++ \"└\")\n",
    "                                         (rightPrefix ++ wSpaces ++ \" \")\n",
    "                                         right\n",
    "                           where\n",
    "                            wSpaces = replicate (length (show value)) ' '\n",
    "                         \n",
    "putStr $ showBinaryTree treeExample"
   ]
  },
  {
   "cell_type": "markdown",
   "id": "91b40fe9",
   "metadata": {},
   "source": [
    "# Ленивые вычисления\n",
    "Начнем со встроенного значения `undefined`, при его вычислении всегда возникает ошибка: `undefined = undefined`.\n",
    "\n"
   ]
  },
  {
   "cell_type": "code",
   "execution_count": 36,
   "id": "d1cb6d4b",
   "metadata": {},
   "outputs": [
    {
     "ename": "",
     "evalue": "",
     "output_type": "error",
     "traceback": [
      "Prelude.undefined\nCallStack (from HasCallStack):\n  error, called at libraries/base/GHC/Err.hs:79:14 in base:GHC.Err\n  undefined, called at <interactive>:1:1 in interactive:Ghci875"
     ]
    }
   ],
   "source": [
    "undefined"
   ]
  },
  {
   "cell_type": "code",
   "execution_count": 37,
   "id": "1557793e",
   "metadata": {},
   "outputs": [
    {
     "data": {
      "text/html": [
       "<style>/* Styles used for the Hoogle display in the pager */\n",
       ".hoogle-doc {\n",
       "display: block;\n",
       "padding-bottom: 1.3em;\n",
       "padding-left: 0.4em;\n",
       "}\n",
       ".hoogle-code {\n",
       "display: block;\n",
       "font-family: monospace;\n",
       "white-space: pre;\n",
       "}\n",
       ".hoogle-text {\n",
       "display: block;\n",
       "}\n",
       ".hoogle-name {\n",
       "color: green;\n",
       "font-weight: bold;\n",
       "}\n",
       ".hoogle-head {\n",
       "font-weight: bold;\n",
       "}\n",
       ".hoogle-sub {\n",
       "display: block;\n",
       "margin-left: 0.4em;\n",
       "}\n",
       ".hoogle-package {\n",
       "font-weight: bold;\n",
       "font-style: italic;\n",
       "}\n",
       ".hoogle-module {\n",
       "font-weight: bold;\n",
       "}\n",
       ".hoogle-class {\n",
       "font-weight: bold;\n",
       "}\n",
       ".get-type {\n",
       "color: green;\n",
       "font-weight: bold;\n",
       "font-family: monospace;\n",
       "display: block;\n",
       "white-space: pre-wrap;\n",
       "}\n",
       ".show-type {\n",
       "color: green;\n",
       "font-weight: bold;\n",
       "font-family: monospace;\n",
       "margin-left: 1em;\n",
       "}\n",
       ".mono {\n",
       "font-family: monospace;\n",
       "display: block;\n",
       "}\n",
       ".err-msg {\n",
       "color: red;\n",
       "font-style: italic;\n",
       "font-family: monospace;\n",
       "white-space: pre;\n",
       "display: block;\n",
       "}\n",
       "#unshowable {\n",
       "color: red;\n",
       "font-weight: bold;\n",
       "}\n",
       ".err-msg.in.collapse {\n",
       "padding-top: 0.7em;\n",
       "}\n",
       ".highlight-code {\n",
       "white-space: pre;\n",
       "font-family: monospace;\n",
       "}\n",
       ".suggestion-warning { \n",
       "font-weight: bold;\n",
       "color: rgb(200, 130, 0);\n",
       "}\n",
       ".suggestion-error { \n",
       "font-weight: bold;\n",
       "color: red;\n",
       "}\n",
       ".suggestion-name {\n",
       "font-weight: bold;\n",
       "}\n",
       "</style><span class='get-type'>undefined :: forall a. a</span>"
      ],
      "text/plain": [
       "undefined :: forall a. a"
      ]
     },
     "metadata": {},
     "output_type": "display_data"
    }
   ],
   "source": [
    ":type undefined"
   ]
  },
  {
   "cell_type": "markdown",
   "id": "dd4bb495",
   "metadata": {},
   "source": [
    "`undefined :: a`, т.е. оно имеет любой тип, его можно вставлять как часть любого другого выражения:"
   ]
  },
  {
   "cell_type": "code",
   "execution_count": 40,
   "id": "f96a3adc",
   "metadata": {},
   "outputs": [
    {
     "ename": "",
     "evalue": "",
     "output_type": "error",
     "traceback": [
      "Prelude.undefined\nCallStack (from HasCallStack):\n  error, called at libraries/base/GHC/Err.hs:79:14 in base:GHC.Err\n  undefined, called at <interactive>:1:5 in interactive:Ghci940"
     ]
    }
   ],
   "source": [
    "2 + undefined -- например, можно использовать как число"
   ]
  },
  {
   "cell_type": "markdown",
   "id": "1d0ec945",
   "metadata": {},
   "source": [
    "Важная особенность Haskell, ленивые вычисления, это означает, что значения выражений вычисляются только если и только тогда, когда они понадобились:"
   ]
  },
  {
   "cell_type": "code",
   "execution_count": 41,
   "id": "cf351668",
   "metadata": {},
   "outputs": [
    {
     "data": {
      "text/plain": [
       "42"
      ]
     },
     "metadata": {},
     "output_type": "display_data"
    }
   ],
   "source": [
    "if 2 > 3 then undefined else 42"
   ]
  },
  {
   "cell_type": "markdown",
   "id": "acbc6243",
   "metadata": {},
   "source": [
    "Ошибки нет, потому что значение не понадобилось!"
   ]
  },
  {
   "cell_type": "code",
   "execution_count": 43,
   "id": "f20cf475",
   "metadata": {},
   "outputs": [
    {
     "data": {
      "text/html": [
       "<style>/* Styles used for the Hoogle display in the pager */\n",
       ".hoogle-doc {\n",
       "display: block;\n",
       "padding-bottom: 1.3em;\n",
       "padding-left: 0.4em;\n",
       "}\n",
       ".hoogle-code {\n",
       "display: block;\n",
       "font-family: monospace;\n",
       "white-space: pre;\n",
       "}\n",
       ".hoogle-text {\n",
       "display: block;\n",
       "}\n",
       ".hoogle-name {\n",
       "color: green;\n",
       "font-weight: bold;\n",
       "}\n",
       ".hoogle-head {\n",
       "font-weight: bold;\n",
       "}\n",
       ".hoogle-sub {\n",
       "display: block;\n",
       "margin-left: 0.4em;\n",
       "}\n",
       ".hoogle-package {\n",
       "font-weight: bold;\n",
       "font-style: italic;\n",
       "}\n",
       ".hoogle-module {\n",
       "font-weight: bold;\n",
       "}\n",
       ".hoogle-class {\n",
       "font-weight: bold;\n",
       "}\n",
       ".get-type {\n",
       "color: green;\n",
       "font-weight: bold;\n",
       "font-family: monospace;\n",
       "display: block;\n",
       "white-space: pre-wrap;\n",
       "}\n",
       ".show-type {\n",
       "color: green;\n",
       "font-weight: bold;\n",
       "font-family: monospace;\n",
       "margin-left: 1em;\n",
       "}\n",
       ".mono {\n",
       "font-family: monospace;\n",
       "display: block;\n",
       "}\n",
       ".err-msg {\n",
       "color: red;\n",
       "font-style: italic;\n",
       "font-family: monospace;\n",
       "white-space: pre;\n",
       "display: block;\n",
       "}\n",
       "#unshowable {\n",
       "color: red;\n",
       "font-weight: bold;\n",
       "}\n",
       ".err-msg.in.collapse {\n",
       "padding-top: 0.7em;\n",
       "}\n",
       ".highlight-code {\n",
       "white-space: pre;\n",
       "font-family: monospace;\n",
       "}\n",
       ".suggestion-warning { \n",
       "font-weight: bold;\n",
       "color: rgb(200, 130, 0);\n",
       "}\n",
       ".suggestion-error { \n",
       "font-weight: bold;\n",
       "color: red;\n",
       "}\n",
       ".suggestion-name {\n",
       "font-weight: bold;\n",
       "}\n",
       "</style><span class='get-type'>const :: forall a b. a -> b -> a</span>"
      ],
      "text/plain": [
       "const :: forall a b. a -> b -> a"
      ]
     },
     "metadata": {},
     "output_type": "display_data"
    }
   ],
   "source": [
    ":type const"
   ]
  },
  {
   "cell_type": "code",
   "execution_count": 45,
   "id": "02a8ad56",
   "metadata": {},
   "outputs": [
    {
     "data": {
      "text/html": [
       "<style>/* Styles used for the Hoogle display in the pager */\n",
       ".hoogle-doc {\n",
       "display: block;\n",
       "padding-bottom: 1.3em;\n",
       "padding-left: 0.4em;\n",
       "}\n",
       ".hoogle-code {\n",
       "display: block;\n",
       "font-family: monospace;\n",
       "white-space: pre;\n",
       "}\n",
       ".hoogle-text {\n",
       "display: block;\n",
       "}\n",
       ".hoogle-name {\n",
       "color: green;\n",
       "font-weight: bold;\n",
       "}\n",
       ".hoogle-head {\n",
       "font-weight: bold;\n",
       "}\n",
       ".hoogle-sub {\n",
       "display: block;\n",
       "margin-left: 0.4em;\n",
       "}\n",
       ".hoogle-package {\n",
       "font-weight: bold;\n",
       "font-style: italic;\n",
       "}\n",
       ".hoogle-module {\n",
       "font-weight: bold;\n",
       "}\n",
       ".hoogle-class {\n",
       "font-weight: bold;\n",
       "}\n",
       ".get-type {\n",
       "color: green;\n",
       "font-weight: bold;\n",
       "font-family: monospace;\n",
       "display: block;\n",
       "white-space: pre-wrap;\n",
       "}\n",
       ".show-type {\n",
       "color: green;\n",
       "font-weight: bold;\n",
       "font-family: monospace;\n",
       "margin-left: 1em;\n",
       "}\n",
       ".mono {\n",
       "font-family: monospace;\n",
       "display: block;\n",
       "}\n",
       ".err-msg {\n",
       "color: red;\n",
       "font-style: italic;\n",
       "font-family: monospace;\n",
       "white-space: pre;\n",
       "display: block;\n",
       "}\n",
       "#unshowable {\n",
       "color: red;\n",
       "font-weight: bold;\n",
       "}\n",
       ".err-msg.in.collapse {\n",
       "padding-top: 0.7em;\n",
       "}\n",
       ".highlight-code {\n",
       "white-space: pre;\n",
       "font-family: monospace;\n",
       "}\n",
       ".suggestion-warning { \n",
       "font-weight: bold;\n",
       "color: rgb(200, 130, 0);\n",
       "}\n",
       ".suggestion-error { \n",
       "font-weight: bold;\n",
       "color: red;\n",
       "}\n",
       ".suggestion-name {\n",
       "font-weight: bold;\n",
       "}\n",
       "</style><div class=\"suggestion-name\" style=\"clear:both;\">Evaluate</div><div class=\"suggestion-row\" style=\"float: left;\"><div class=\"suggestion-warning\">Found:</div><div class=\"highlight-code\" id=\"haskell\">const 10 20</div></div><div class=\"suggestion-row\" style=\"float: left;\"><div class=\"suggestion-warning\">Why Not:</div><div class=\"highlight-code\" id=\"haskell\">10</div></div><div class=\"suggestion-name\" style=\"clear:both;\">Evaluate</div><div class=\"suggestion-row\" style=\"float: left;\"><div class=\"suggestion-warning\">Found:</div><div class=\"highlight-code\" id=\"haskell\">const 10 undefined</div></div><div class=\"suggestion-row\" style=\"float: left;\"><div class=\"suggestion-warning\">Why Not:</div><div class=\"highlight-code\" id=\"haskell\">10</div></div>"
      ],
      "text/plain": [
       "Line 1: Evaluate\n",
       "Found:\n",
       "const 10 20\n",
       "Why not:\n",
       "10Line 2: Evaluate\n",
       "Found:\n",
       "const 10 undefined\n",
       "Why not:\n",
       "10"
      ]
     },
     "metadata": {},
     "output_type": "display_data"
    },
    {
     "data": {
      "text/plain": [
       "10"
      ]
     },
     "metadata": {},
     "output_type": "display_data"
    },
    {
     "data": {
      "text/plain": [
       "10"
      ]
     },
     "metadata": {},
     "output_type": "display_data"
    }
   ],
   "source": [
    "const 10 20\n",
    "const 10 undefined"
   ]
  },
  {
   "cell_type": "markdown",
   "id": "fe459751",
   "metadata": {},
   "source": [
    "Haskell вычисляет от общего к частному. `if 2 > 3 then undefined else 2 + 2`, сначала вычисляется `if`, получается `2 + 2`, потом вычисляется 2 + 2."
   ]
  },
  {
   "cell_type": "code",
   "execution_count": 55,
   "id": "bc4912ed",
   "metadata": {},
   "outputs": [
    {
     "data": {
      "text/plain": [
       "0"
      ]
     },
     "metadata": {},
     "output_type": "display_data"
    },
    {
     "data": {
      "text/plain": [
       "0"
      ]
     },
     "metadata": {},
     "output_type": "display_data"
    },
    {
     "ename": "",
     "evalue": "",
     "output_type": "error",
     "traceback": [
      "Prelude.undefined\nCallStack (from HasCallStack):\n  error, called at libraries/base/GHC/Err.hs:79:14 in base:GHC.Err\n  undefined, called at <interactive>:1:7 in interactive:Ghci1556"
     ]
    }
   ],
   "source": [
    "f :: Int -> Int -> Int\n",
    "f 0 _ = 0\n",
    "f x y = x * y\n",
    "\n",
    "f 0 10\n",
    "f 0 undefined\n",
    "f 1 undefined"
   ]
  },
  {
   "cell_type": "markdown",
   "id": "c6736e3d",
   "metadata": {},
   "source": [
    "Как заставить Haskell все-таки вычислить выражение перед использованием. Выражение вычисляется в следующих случаях:\n",
    " - происходит операция ввода вывода, например, печать\n",
    " - при сопоставлении с образцом\n",
    " - при применении функции к аргументу операцией `$!` (не обычный `$`)\n",
    " - в алгебраических типах, если аргумент описан с помощью ! (см. далее)\n",
    " \n",
    "Пример вычисления при сопоставлении с образцом:"
   ]
  },
  {
   "cell_type": "code",
   "execution_count": 60,
   "id": "71f678af",
   "metadata": {},
   "outputs": [
    {
     "data": {
      "text/html": [
       "<style>/* Styles used for the Hoogle display in the pager */\n",
       ".hoogle-doc {\n",
       "display: block;\n",
       "padding-bottom: 1.3em;\n",
       "padding-left: 0.4em;\n",
       "}\n",
       ".hoogle-code {\n",
       "display: block;\n",
       "font-family: monospace;\n",
       "white-space: pre;\n",
       "}\n",
       ".hoogle-text {\n",
       "display: block;\n",
       "}\n",
       ".hoogle-name {\n",
       "color: green;\n",
       "font-weight: bold;\n",
       "}\n",
       ".hoogle-head {\n",
       "font-weight: bold;\n",
       "}\n",
       ".hoogle-sub {\n",
       "display: block;\n",
       "margin-left: 0.4em;\n",
       "}\n",
       ".hoogle-package {\n",
       "font-weight: bold;\n",
       "font-style: italic;\n",
       "}\n",
       ".hoogle-module {\n",
       "font-weight: bold;\n",
       "}\n",
       ".hoogle-class {\n",
       "font-weight: bold;\n",
       "}\n",
       ".get-type {\n",
       "color: green;\n",
       "font-weight: bold;\n",
       "font-family: monospace;\n",
       "display: block;\n",
       "white-space: pre-wrap;\n",
       "}\n",
       ".show-type {\n",
       "color: green;\n",
       "font-weight: bold;\n",
       "font-family: monospace;\n",
       "margin-left: 1em;\n",
       "}\n",
       ".mono {\n",
       "font-family: monospace;\n",
       "display: block;\n",
       "}\n",
       ".err-msg {\n",
       "color: red;\n",
       "font-style: italic;\n",
       "font-family: monospace;\n",
       "white-space: pre;\n",
       "display: block;\n",
       "}\n",
       "#unshowable {\n",
       "color: red;\n",
       "font-weight: bold;\n",
       "}\n",
       ".err-msg.in.collapse {\n",
       "padding-top: 0.7em;\n",
       "}\n",
       ".highlight-code {\n",
       "white-space: pre;\n",
       "font-family: monospace;\n",
       "}\n",
       ".suggestion-warning { \n",
       "font-weight: bold;\n",
       "color: rgb(200, 130, 0);\n",
       "}\n",
       ".suggestion-error { \n",
       "font-weight: bold;\n",
       "color: red;\n",
       "}\n",
       ".suggestion-name {\n",
       "font-weight: bold;\n",
       "}\n",
       "</style><div class=\"suggestion-name\" style=\"clear:both;\">Redundant $</div><div class=\"suggestion-row\" style=\"float: left;\"><div class=\"suggestion-warning\">Found:</div><div class=\"highlight-code\" id=\"haskell\">f 0 $ undefined</div></div><div class=\"suggestion-row\" style=\"float: left;\"><div class=\"suggestion-warning\">Why Not:</div><div class=\"highlight-code\" id=\"haskell\">f 0 undefined</div></div>"
      ],
      "text/plain": [
       "Line 9: Redundant $\n",
       "Found:\n",
       "f 0 $ undefined\n",
       "Why not:\n",
       "f 0 undefined"
      ]
     },
     "metadata": {},
     "output_type": "display_data"
    },
    {
     "data": {
      "text/plain": [
       "0"
      ]
     },
     "metadata": {},
     "output_type": "display_data"
    },
    {
     "data": {
      "text/plain": [
       "0"
      ]
     },
     "metadata": {},
     "output_type": "display_data"
    },
    {
     "ename": "",
     "evalue": "",
     "output_type": "error",
     "traceback": [
      "Prelude.undefined\nCallStack (from HasCallStack):\n  error, called at libraries/base/GHC/Err.hs:79:14 in base:GHC.Err\n  undefined, called at <interactive>:1:8 in interactive:Ghci1762"
     ]
    }
   ],
   "source": [
    "f :: Int -> Int -> Int\n",
    "f 0 _ = 0\n",
    "f _ 0 = 0\n",
    "f x y = x * y\n",
    "\n",
    "f 0 undefined -- ok, выполняется первое правило\n",
    "-- f undefined 0 -- ошибка, уже при попытке проверить первое правило 0 сопоставляется с undefined\n",
    "\n",
    "f 0 $ undefined -- эквивалентно f 0 undefined\n",
    "f 0 $! undefined -- ошибка, потребовали вычислить значение перед применением"
   ]
  },
  {
   "cell_type": "code",
   "execution_count": 75,
   "id": "745a742a",
   "metadata": {},
   "outputs": [
    {
     "ename": "",
     "evalue": "",
     "output_type": "error",
     "traceback": [
      "Prelude.undefined\nCallStack (from HasCallStack):\n  error, called at libraries/base/GHC/Err.hs:79:14 in base:GHC.Err\n  undefined, called at <interactive>:4:13 in interactive:Ghci2155"
     ]
    }
   ],
   "source": [
    "-- восклицательный знак говорит, что значение надо вычислить\n",
    "data Pair = Pair Int !Int deriving Show\n",
    "p1 = Pair 2 3\n",
    "p2 = Pair undefined 3\n",
    "p3 = Pair 2 undefined\n",
    "\n",
    "f :: Pair -> Int\n",
    "f (Pair _ _) = 0\n",
    "\n",
    "f p1 -- нет ошибки, p1 хорошая\n",
    "f p2 -- нет ошибки, p2 содержит undefined там, где можно\n",
    "f p3 -- ошибка"
   ]
  },
  {
   "cell_type": "markdown",
   "id": "202d6964",
   "metadata": {},
   "source": [
    "## Ленивые списки\n",
    "\n",
    "Введем список из бесконечного числа 1:"
   ]
  },
  {
   "cell_type": "code",
   "execution_count": 77,
   "id": "99a5bc3f",
   "metadata": {},
   "outputs": [
    {
     "data": {
      "text/plain": [
       "[1,1,1,1,1,1,1,1,1,1]"
      ]
     },
     "metadata": {},
     "output_type": "display_data"
    }
   ],
   "source": [
    "list = 1 : list\n",
    "\n",
    "take 10 list"
   ]
  },
  {
   "cell_type": "markdown",
   "id": "73eecfa3",
   "metadata": {},
   "source": [
    "list не вычисляется сразу, он хранится так, что чтобы вычислить его голову, надо взять 1, чтобы вычислить хвост, надо взять его же."
   ]
  },
  {
   "cell_type": "code",
   "execution_count": 79,
   "id": "296ad392",
   "metadata": {},
   "outputs": [],
   "source": [
    "take1 :: Int -> [a] -> [a]\n",
    "take1 0 _ = []\n",
    "take1 n (h:t) = h : take1 (n-1) t"
   ]
  },
  {
   "cell_type": "markdown",
   "id": "441a01c4",
   "metadata": {},
   "source": [
    "```\n",
    "take 2 list = сопоставляем take 2 (1:list) = 1 : take 1 list = 1 : сопоставляем take 1 (1:list) = 1 : 1 : take 0 list = 1 : 1 : [] = [1, 1]\n",
    "```"
   ]
  },
  {
   "cell_type": "code",
   "execution_count": 2,
   "id": "9987c45c",
   "metadata": {},
   "outputs": [
    {
     "data": {
      "text/html": [
       "<style>/* Styles used for the Hoogle display in the pager */\n",
       ".hoogle-doc {\n",
       "display: block;\n",
       "padding-bottom: 1.3em;\n",
       "padding-left: 0.4em;\n",
       "}\n",
       ".hoogle-code {\n",
       "display: block;\n",
       "font-family: monospace;\n",
       "white-space: pre;\n",
       "}\n",
       ".hoogle-text {\n",
       "display: block;\n",
       "}\n",
       ".hoogle-name {\n",
       "color: green;\n",
       "font-weight: bold;\n",
       "}\n",
       ".hoogle-head {\n",
       "font-weight: bold;\n",
       "}\n",
       ".hoogle-sub {\n",
       "display: block;\n",
       "margin-left: 0.4em;\n",
       "}\n",
       ".hoogle-package {\n",
       "font-weight: bold;\n",
       "font-style: italic;\n",
       "}\n",
       ".hoogle-module {\n",
       "font-weight: bold;\n",
       "}\n",
       ".hoogle-class {\n",
       "font-weight: bold;\n",
       "}\n",
       ".get-type {\n",
       "color: green;\n",
       "font-weight: bold;\n",
       "font-family: monospace;\n",
       "display: block;\n",
       "white-space: pre-wrap;\n",
       "}\n",
       ".show-type {\n",
       "color: green;\n",
       "font-weight: bold;\n",
       "font-family: monospace;\n",
       "margin-left: 1em;\n",
       "}\n",
       ".mono {\n",
       "font-family: monospace;\n",
       "display: block;\n",
       "}\n",
       ".err-msg {\n",
       "color: red;\n",
       "font-style: italic;\n",
       "font-family: monospace;\n",
       "white-space: pre;\n",
       "display: block;\n",
       "}\n",
       "#unshowable {\n",
       "color: red;\n",
       "font-weight: bold;\n",
       "}\n",
       ".err-msg.in.collapse {\n",
       "padding-top: 0.7em;\n",
       "}\n",
       ".highlight-code {\n",
       "white-space: pre;\n",
       "font-family: monospace;\n",
       "}\n",
       ".suggestion-warning { \n",
       "font-weight: bold;\n",
       "color: rgb(200, 130, 0);\n",
       "}\n",
       ".suggestion-error { \n",
       "font-weight: bold;\n",
       "color: red;\n",
       "}\n",
       ".suggestion-name {\n",
       "font-weight: bold;\n",
       "}\n",
       "</style><div class=\"suggestion-name\" style=\"clear:both;\">Redundant bracket</div><div class=\"suggestion-row\" style=\"float: left;\"><div class=\"suggestion-warning\">Found:</div><div class=\"highlight-code\" id=\"haskell\">(list)</div></div><div class=\"suggestion-row\" style=\"float: left;\"><div class=\"suggestion-warning\">Why Not:</div><div class=\"highlight-code\" id=\"haskell\">list</div></div>"
      ],
      "text/plain": [
       "Line 9: Redundant bracket\n",
       "Found:\n",
       "(list)\n",
       "Why not:\n",
       "list"
      ]
     },
     "metadata": {},
     "output_type": "display_data"
    },
    {
     "data": {
      "text/plain": [
       "[1,2,1,2,1,2,1,2,1,2]"
      ]
     },
     "metadata": {},
     "output_type": "display_data"
    },
    {
     "data": {
      "text/plain": [
       "[10,20,100,200,1000,2000,10000,20000,100000,200000]"
      ]
     },
     "metadata": {},
     "output_type": "display_data"
    },
    {
     "data": {
      "text/plain": [
       "[11,22,33]"
      ]
     },
     "metadata": {},
     "output_type": "display_data"
    },
    {
     "data": {
      "text/plain": [
       "[1,2,4,8,16,32,64,128,256,512]"
      ]
     },
     "metadata": {},
     "output_type": "display_data"
    }
   ],
   "source": [
    "list = 1:2:list\n",
    "take 10 list\n",
    "\n",
    "list = map (*10) (1:2:list)\n",
    "take 10 list\n",
    "\n",
    "zipWith (+) [10, 20, 30] [1, 2, 3] -- объединяет элементы списка указанной операцией\n",
    "\n",
    "list = 1 : zipWith (+) list list\n",
    "take 10 list"
   ]
  },
  {
   "cell_type": "code",
   "execution_count": null,
   "id": "a12db5e9",
   "metadata": {},
   "outputs": [],
   "source": []
  }
 ],
 "metadata": {
  "kernelspec": {
   "display_name": "Haskell",
   "language": "haskell",
   "name": "haskell"
  },
  "language_info": {
   "codemirror_mode": "ihaskell",
   "file_extension": ".hs",
   "mimetype": "text/x-haskell",
   "name": "haskell",
   "pygments_lexer": "Haskell",
   "version": "8.10.4"
  }
 },
 "nbformat": 4,
 "nbformat_minor": 5
}
