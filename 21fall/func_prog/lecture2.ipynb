{
 "cells": [
  {
   "cell_type": "markdown",
   "id": "45658c59",
   "metadata": {},
   "source": [
    "# Разбор задач\n",
    "\n",
    "1. Вернуть последний элемент списка"
   ]
  },
  {
   "cell_type": "code",
   "execution_count": 2,
   "id": "07f6a18b",
   "metadata": {},
   "outputs": [
    {
     "data": {
      "text/plain": [
       "30"
      ]
     },
     "metadata": {},
     "output_type": "display_data"
    },
    {
     "ename": "",
     "evalue": "",
     "output_type": "error",
     "traceback": [
      "<interactive>:(2,1)-(3,21): Non-exhaustive patterns in function last1"
     ]
    }
   ],
   "source": [
    "last1 :: [Int] -> Int\n",
    "last1 [h] = h                -- last1 (h:[]) эквивалентно last1 [h]\n",
    "last1 (h:t) = last1 t\n",
    "\n",
    "last1 [10, 20, 30]\n",
    "last1 []"
   ]
  },
  {
   "cell_type": "markdown",
   "id": "4b471044",
   "metadata": {},
   "source": [
    "```\n",
    "last1 [10, 20, 30]\n",
    "         h = 10   t = [20, 30]\n",
    "last1 [20, 30]\n",
    "         h = 20   t = [30]\n",
    "last1 [30]\n",
    "         h = 30 -> ответ 30\n",
    "```\n",
    "\n",
    "конкатенация списков"
   ]
  },
  {
   "cell_type": "code",
   "execution_count": 3,
   "id": "6b7f3747",
   "metadata": {},
   "outputs": [
    {
     "data": {
      "text/html": [
       "<style>/* Styles used for the Hoogle display in the pager */\n",
       ".hoogle-doc {\n",
       "display: block;\n",
       "padding-bottom: 1.3em;\n",
       "padding-left: 0.4em;\n",
       "}\n",
       ".hoogle-code {\n",
       "display: block;\n",
       "font-family: monospace;\n",
       "white-space: pre;\n",
       "}\n",
       ".hoogle-text {\n",
       "display: block;\n",
       "}\n",
       ".hoogle-name {\n",
       "color: green;\n",
       "font-weight: bold;\n",
       "}\n",
       ".hoogle-head {\n",
       "font-weight: bold;\n",
       "}\n",
       ".hoogle-sub {\n",
       "display: block;\n",
       "margin-left: 0.4em;\n",
       "}\n",
       ".hoogle-package {\n",
       "font-weight: bold;\n",
       "font-style: italic;\n",
       "}\n",
       ".hoogle-module {\n",
       "font-weight: bold;\n",
       "}\n",
       ".hoogle-class {\n",
       "font-weight: bold;\n",
       "}\n",
       ".get-type {\n",
       "color: green;\n",
       "font-weight: bold;\n",
       "font-family: monospace;\n",
       "display: block;\n",
       "white-space: pre-wrap;\n",
       "}\n",
       ".show-type {\n",
       "color: green;\n",
       "font-weight: bold;\n",
       "font-family: monospace;\n",
       "margin-left: 1em;\n",
       "}\n",
       ".mono {\n",
       "font-family: monospace;\n",
       "display: block;\n",
       "}\n",
       ".err-msg {\n",
       "color: red;\n",
       "font-style: italic;\n",
       "font-family: monospace;\n",
       "white-space: pre;\n",
       "display: block;\n",
       "}\n",
       "#unshowable {\n",
       "color: red;\n",
       "font-weight: bold;\n",
       "}\n",
       ".err-msg.in.collapse {\n",
       "padding-top: 0.7em;\n",
       "}\n",
       ".highlight-code {\n",
       "white-space: pre;\n",
       "font-family: monospace;\n",
       "}\n",
       ".suggestion-warning { \n",
       "font-weight: bold;\n",
       "color: rgb(200, 130, 0);\n",
       "}\n",
       ".suggestion-error { \n",
       "font-weight: bold;\n",
       "color: red;\n",
       "}\n",
       ".suggestion-name {\n",
       "font-weight: bold;\n",
       "}\n",
       "</style><div class=\"suggestion-name\" style=\"clear:both;\">Use foldr</div><div class=\"suggestion-row\" style=\"float: left;\"><div class=\"suggestion-warning\">Found:</div><div class=\"highlight-code\" id=\"haskell\">concat1 [] list2 = list2\n",
       "concat1 (h : t) list2 = h : (concat1 t list2)</div></div><div class=\"suggestion-row\" style=\"float: left;\"><div class=\"suggestion-warning\">Why Not:</div><div class=\"highlight-code\" id=\"haskell\">concat1 t list2 = foldr (:) list2 t</div></div><div class=\"suggestion-name\" style=\"clear:both;\">Redundant bracket</div><div class=\"suggestion-row\" style=\"float: left;\"><div class=\"suggestion-warning\">Found:</div><div class=\"highlight-code\" id=\"haskell\">h : (concat1 t list2)</div></div><div class=\"suggestion-row\" style=\"float: left;\"><div class=\"suggestion-warning\">Why Not:</div><div class=\"highlight-code\" id=\"haskell\">h : concat1 t list2</div></div>"
      ],
      "text/plain": [
       "Line 2: Use foldr\n",
       "Found:\n",
       "concat1 [] list2 = list2\n",
       "concat1 (h : t) list2 = h : (concat1 t list2)\n",
       "Why not:\n",
       "concat1 t list2 = foldr (:) list2 tLine 3: Redundant bracket\n",
       "Found:\n",
       "h : (concat1 t list2)\n",
       "Why not:\n",
       "h : concat1 t list2"
      ]
     },
     "metadata": {},
     "output_type": "display_data"
    },
    {
     "data": {
      "text/plain": [
       "[10,20,30,40,50,60]"
      ]
     },
     "metadata": {},
     "output_type": "display_data"
    }
   ],
   "source": [
    "concat1 :: [Int] -> [Int] -> [Int]\n",
    "concat1 [] list2 = list2\n",
    "concat1 (h:t) list2 = h : (concat1 t list2)\n",
    "\n",
    "-- [10, 20, 30] [40, 50, 60]\n",
    "-- h = 10   t = [20, 30]   list2 = [40, 50, 60]\n",
    "-- concat1 t list2  -> [20, 30, 40, 50, 60]\n",
    "\n",
    "concat1 [10, 20, 30] [40, 50, 60]"
   ]
  },
  {
   "cell_type": "markdown",
   "id": "996c84db",
   "metadata": {},
   "source": [
    "3. Дописать элемент в конец списка"
   ]
  },
  {
   "cell_type": "code",
   "execution_count": 4,
   "id": "953b206b",
   "metadata": {},
   "outputs": [
    {
     "data": {
      "text/html": [
       "<style>/* Styles used for the Hoogle display in the pager */\n",
       ".hoogle-doc {\n",
       "display: block;\n",
       "padding-bottom: 1.3em;\n",
       "padding-left: 0.4em;\n",
       "}\n",
       ".hoogle-code {\n",
       "display: block;\n",
       "font-family: monospace;\n",
       "white-space: pre;\n",
       "}\n",
       ".hoogle-text {\n",
       "display: block;\n",
       "}\n",
       ".hoogle-name {\n",
       "color: green;\n",
       "font-weight: bold;\n",
       "}\n",
       ".hoogle-head {\n",
       "font-weight: bold;\n",
       "}\n",
       ".hoogle-sub {\n",
       "display: block;\n",
       "margin-left: 0.4em;\n",
       "}\n",
       ".hoogle-package {\n",
       "font-weight: bold;\n",
       "font-style: italic;\n",
       "}\n",
       ".hoogle-module {\n",
       "font-weight: bold;\n",
       "}\n",
       ".hoogle-class {\n",
       "font-weight: bold;\n",
       "}\n",
       ".get-type {\n",
       "color: green;\n",
       "font-weight: bold;\n",
       "font-family: monospace;\n",
       "display: block;\n",
       "white-space: pre-wrap;\n",
       "}\n",
       ".show-type {\n",
       "color: green;\n",
       "font-weight: bold;\n",
       "font-family: monospace;\n",
       "margin-left: 1em;\n",
       "}\n",
       ".mono {\n",
       "font-family: monospace;\n",
       "display: block;\n",
       "}\n",
       ".err-msg {\n",
       "color: red;\n",
       "font-style: italic;\n",
       "font-family: monospace;\n",
       "white-space: pre;\n",
       "display: block;\n",
       "}\n",
       "#unshowable {\n",
       "color: red;\n",
       "font-weight: bold;\n",
       "}\n",
       ".err-msg.in.collapse {\n",
       "padding-top: 0.7em;\n",
       "}\n",
       ".highlight-code {\n",
       "white-space: pre;\n",
       "font-family: monospace;\n",
       "}\n",
       ".suggestion-warning { \n",
       "font-weight: bold;\n",
       "color: rgb(200, 130, 0);\n",
       "}\n",
       ".suggestion-error { \n",
       "font-weight: bold;\n",
       "color: red;\n",
       "}\n",
       ".suggestion-name {\n",
       "font-weight: bold;\n",
       "}\n",
       "</style><div class=\"suggestion-name\" style=\"clear:both;\">Use foldr</div><div class=\"suggestion-row\" style=\"float: left;\"><div class=\"suggestion-warning\">Found:</div><div class=\"highlight-code\" id=\"haskell\">push1 [] x = [x]\n",
       "push1 (h : t) x = h : (push1 t x)</div></div><div class=\"suggestion-row\" style=\"float: left;\"><div class=\"suggestion-warning\">Why Not:</div><div class=\"highlight-code\" id=\"haskell\">push1 t x = foldr (:) [x] t</div></div><div class=\"suggestion-name\" style=\"clear:both;\">Redundant bracket</div><div class=\"suggestion-row\" style=\"float: left;\"><div class=\"suggestion-warning\">Found:</div><div class=\"highlight-code\" id=\"haskell\">h : (push1 t x)</div></div><div class=\"suggestion-row\" style=\"float: left;\"><div class=\"suggestion-warning\">Why Not:</div><div class=\"highlight-code\" id=\"haskell\">h : push1 t x</div></div>"
      ],
      "text/plain": [
       "Line 3: Use foldr\n",
       "Found:\n",
       "push1 [] x = [x]\n",
       "push1 (h : t) x = h : (push1 t x)\n",
       "Why not:\n",
       "push1 t x = foldr (:) [x] tLine 4: Redundant bracket\n",
       "Found:\n",
       "h : (push1 t x)\n",
       "Why not:\n",
       "h : push1 t x"
      ]
     },
     "metadata": {},
     "output_type": "display_data"
    },
    {
     "data": {
      "text/plain": [
       "[10,20,30,40]"
      ]
     },
     "metadata": {},
     "output_type": "display_data"
    }
   ],
   "source": [
    "push1 :: [Int] -> Int -> [Int]\n",
    "-- push1 [10, 20, 30] 40            [10, 20, 30, 40]\n",
    "push1 [] x = [x]\n",
    "push1 (h:t) x = h : (push1 t x)\n",
    "-- h = 10    t = [20, 30]  x = 40\n",
    "-- push1 t x = [20, 30, 40]\n",
    "\n",
    "push1 [10, 20, 30] 40"
   ]
  },
  {
   "cell_type": "markdown",
   "id": "8bdff603",
   "metadata": {},
   "source": [
    "Повторить элемент заданное число раз — сами.\n",
    "\n",
    "Получить элемент списка по индексу"
   ]
  },
  {
   "cell_type": "code",
   "execution_count": 8,
   "id": "a0cd0c91",
   "metadata": {},
   "outputs": [
    {
     "data": {
      "text/plain": [
       "30"
      ]
     },
     "metadata": {},
     "output_type": "display_data"
    }
   ],
   "source": [
    "get1 :: [Int] -> Int -> Int\n",
    "-- get1 [10, 20, 30, 40] 2      30, считаем с 0\n",
    "\n",
    "get1 (h:t) 0 = h  -- можно написать get1 0 (h:_) = h, _ означает, что неважно\n",
    "get1 (h:t) n = get1 t (n - 1) -- можно get1 (_:t) n = \n",
    "\n",
    "get1 [10, 20, 30, 40] 2\n",
    "\n",
    "-- get1 [10, 20, 30, 40] 2\n",
    "-- get1 [20, 30, 40] 1\n",
    "-- get1 [30, 40] 0\n",
    "-- 30"
   ]
  },
  {
   "cell_type": "markdown",
   "id": "2339c5d0",
   "metadata": {},
   "source": [
    "## Хвостовая рекурсия\n",
    "Рекурсивный вызов — это когда функция вызывает саму себя.\n",
    "Хвостовая рекурсия — это когда рекурсивный вызов является последним действием в функции.\n",
    "\n",
    "get1, last1 — хвостовая рекурсия\n",
    "concat1, push1, length1 — не хвостовая\n",
    "\n",
    "Хвостовая рекурсия хороша тем, что она оптимизируется в цикл, поэтому работает быстрее. И по времени, и по памяти.\n",
    "\n",
    "Потренируемся в переписывании обычной рекурсии в хвостовую."
   ]
  },
  {
   "cell_type": "code",
   "execution_count": 9,
   "id": "232a76a9",
   "metadata": {},
   "outputs": [],
   "source": [
    "length1 :: [Int] -> Int\n",
    "length1 [] = 0\n",
    "length1 (_:t) = 1 + length1 t  -- не хвостовая рекурсия, после вызова прибавляется 1"
   ]
  },
  {
   "cell_type": "markdown",
   "id": "52028188",
   "metadata": {},
   "source": [
    "обычно добавляется еще один параметр в функцию, он называется аккумулятор, потому что аккумулирует в себе результат вычисления:"
   ]
  },
  {
   "cell_type": "code",
   "execution_count": 10,
   "id": "b057e100",
   "metadata": {},
   "outputs": [
    {
     "data": {
      "text/plain": [
       "3"
      ]
     },
     "metadata": {},
     "output_type": "display_data"
    }
   ],
   "source": [
    "length2helper :: [Int] -> Int -> Int\n",
    "length2helper [] len = len\n",
    "length2helper (_:t) len = length2helper t (len + 1)\n",
    "\n",
    "length2 :: [Int] -> Int\n",
    "length2 list = length2helper list 0\n",
    "\n",
    "length2 [10, 20, 30]"
   ]
  },
  {
   "cell_type": "markdown",
   "id": "896217f1",
   "metadata": {},
   "source": [
    "```\n",
    "length2       [10, 20, 30]\n",
    "length2helper [10, 20, 30] 0\n",
    "length2helper [20, 30]     1\n",
    "length2helper [30]         2\n",
    "length2helper []           3\n",
    "ответ 3\n",
    "```\n",
    "\n",
    "Конкатенация в виде хвостовой рекурсии"
   ]
  },
  {
   "cell_type": "code",
   "execution_count": 14,
   "id": "d03a43ac",
   "metadata": {},
   "outputs": [
    {
     "data": {
      "text/plain": [
       "[60,50,40,30,20,10]"
      ]
     },
     "metadata": {},
     "output_type": "display_data"
    }
   ],
   "source": [
    "conc2helper :: [Int] -> [Int] -> [Int] -> [Int]\n",
    "conc2helper [] [] acc = acc                               -- вставьте revert2 acc\n",
    "conc2helper [] (h2:t2) acc = conc2helper [] t2 (h2:acc)\n",
    "conc2helper (h1:t1) list2 acc = conc2helper t1 list2 (h1:acc)\n",
    "\n",
    "conc2 ::  [Int] -> [Int] -> [Int]\n",
    "conc2 list1 list2 = conc2helper list1 list2 []\n",
    "\n",
    "conc2 [10, 20, 30] [40, 50, 60]"
   ]
  },
  {
   "cell_type": "markdown",
   "id": "9ec9e1e3",
   "metadata": {},
   "source": [
    "Дальше надо вызвать переворачивание, но это сами.\n",
    "\n",
    "Все вводные задачи нужно решить хвостовой рекурсией, в частности переворачивание списка."
   ]
  },
  {
   "cell_type": "markdown",
   "id": "606de725",
   "metadata": {},
   "source": [
    "```\n",
    "conc2 [10, 20, 30] [40, 50, 60]\n",
    "conc2helper [10, 20, 30] [40, 50, 60] []\n",
    "conc2helper [20, 30] [40, 50, 60] [10]\n",
    "conc2helper [30] [40, 50, 60] [20, 10]\n",
    "conc2helper [] [40, 50, 60] [30, 20, 10]\n",
    "conc2helper [] [50, 60] [40, 30, 20, 10]\n",
    "conc2helper [] [60] [50, 40, 30, 20, 10]\n",
    "conc2helper [] [] [60, 50, 40, 30, 20, 10]\n",
    "[60, 50, 40, 30, 20, 10]\n",
    "```\n"
   ]
  },
  {
   "cell_type": "markdown",
   "id": "a2375fb0",
   "metadata": {},
   "source": [
    "## Операторы let и where\n",
    "\n",
    "Нам неудобно, что пришлось вводить вспомогательные функции. Перепишем с помощью let функцию length2:"
   ]
  },
  {
   "cell_type": "code",
   "execution_count": 16,
   "id": "8edd0054",
   "metadata": {},
   "outputs": [
    {
     "data": {
      "text/plain": [
       "3"
      ]
     },
     "metadata": {},
     "output_type": "display_data"
    }
   ],
   "source": [
    "length2 :: [Int] -> Int\n",
    "length2 list = let helper [] len = len\n",
    "                   helper (_:t) len = length2helper t (len + 1)\n",
    "               in\n",
    "                helper list 0\n",
    "\n",
    "length2 [10, 20, 30]"
   ]
  },
  {
   "cell_type": "markdown",
   "id": "8b6a5dbc",
   "metadata": {},
   "source": [
    "Теперь через where"
   ]
  },
  {
   "cell_type": "code",
   "execution_count": 18,
   "id": "dab82c92",
   "metadata": {},
   "outputs": [
    {
     "data": {
      "text/plain": [
       "3"
      ]
     },
     "metadata": {},
     "output_type": "display_data"
    }
   ],
   "source": [
    "length2 :: [Int] -> Int\n",
    "length2 list = helper list 0 where\n",
    "                 helper [] len = len\n",
    "                 helper (_:t) len = length2helper t (len + 1)\n",
    "                \n",
    "\n",
    "length2 [10, 20, 30]"
   ]
  },
  {
   "cell_type": "markdown",
   "id": "40186da1",
   "metadata": {},
   "source": [
    "Формально, можно писать\n",
    "```\n",
    "let символ1 = ...\n",
    "     символ2 = ...\n",
    " in Выражение\n",
    "```\n",
    " \n",
    "или\n",
    "```\n",
    "Выражение where\n",
    "  символ1 = ...\n",
    "  символ2 = ...\n",
    "```"
   ]
  },
  {
   "cell_type": "code",
   "execution_count": 22,
   "id": "963fe956",
   "metadata": {},
   "outputs": [
    {
     "data": {
      "text/plain": [
       "[-3.0,-1.0]"
      ]
     },
     "metadata": {},
     "output_type": "display_data"
    }
   ],
   "source": [
    "squareEquation :: Double -> Double -> Double -> [Double]\n",
    "squareEquation a b c = [(-b - d) / (2*a), (-b + d) / (2*a)] where d = sqrt(b*b - 4*a*c)\n",
    "\n",
    "squareEquation 1 4 3"
   ]
  },
  {
   "cell_type": "markdown",
   "id": "1c4a03ca",
   "metadata": {},
   "source": [
    "## Параметрический полиморфизм\n",
    "\n",
    "Полиморфизм — \"много типов\", например, так можно говорить про функцию, которая работает сразу с большим количеством типов. При вычислении длины списка, например, не важно, какой конкретно тип элементов списка. При указании типа можно ввести типовую переменную:"
   ]
  },
  {
   "cell_type": "code",
   "execution_count": 25,
   "id": "063d176e",
   "metadata": {},
   "outputs": [
    {
     "data": {
      "text/plain": [
       "3"
      ]
     },
     "metadata": {},
     "output_type": "display_data"
    },
    {
     "data": {
      "text/plain": [
       "5"
      ]
     },
     "metadata": {},
     "output_type": "display_data"
    },
    {
     "data": {
      "text/plain": [
       "4"
      ]
     },
     "metadata": {},
     "output_type": "display_data"
    }
   ],
   "source": [
    "length1 :: [a] -> Int\n",
    "length1 [] = 0\n",
    "length1 (_:t) = 1 + length1 t\n",
    "\n",
    "length1 [10, 20, 30]\n",
    "length1 \"abcde\"\n",
    "length1 [[5], [6, 7], [1, 1, 1], [4, 5]]"
   ]
  },
  {
   "cell_type": "markdown",
   "id": "f2d8a6a5",
   "metadata": {},
   "source": [
    "Типовые переменные должны быть с маленькой буквы. Их может быть несколько:"
   ]
  },
  {
   "cell_type": "code",
   "execution_count": 28,
   "id": "84346902",
   "metadata": {},
   "outputs": [
    {
     "data": {
      "text/plain": [
       "6"
      ]
     },
     "metadata": {},
     "output_type": "display_data"
    },
    {
     "data": {
      "text/plain": [
       "4"
      ]
     },
     "metadata": {},
     "output_type": "display_data"
    }
   ],
   "source": [
    "f :: [a] -> [b] -> Int\n",
    "f list1 list2 = length1 list1 + length1 list2\n",
    "\n",
    "f [10, 20] \"asdf\"\n",
    "f [10, 20] [10, 20]"
   ]
  },
  {
   "cell_type": "markdown",
   "id": "e67fb01a",
   "metadata": {},
   "source": [
    "Тип concat1. **Одинаковые переменные означают одинаковые типы**"
   ]
  },
  {
   "cell_type": "code",
   "execution_count": 29,
   "id": "a09337f1",
   "metadata": {},
   "outputs": [
    {
     "data": {
      "text/html": [
       "<style>/* Styles used for the Hoogle display in the pager */\n",
       ".hoogle-doc {\n",
       "display: block;\n",
       "padding-bottom: 1.3em;\n",
       "padding-left: 0.4em;\n",
       "}\n",
       ".hoogle-code {\n",
       "display: block;\n",
       "font-family: monospace;\n",
       "white-space: pre;\n",
       "}\n",
       ".hoogle-text {\n",
       "display: block;\n",
       "}\n",
       ".hoogle-name {\n",
       "color: green;\n",
       "font-weight: bold;\n",
       "}\n",
       ".hoogle-head {\n",
       "font-weight: bold;\n",
       "}\n",
       ".hoogle-sub {\n",
       "display: block;\n",
       "margin-left: 0.4em;\n",
       "}\n",
       ".hoogle-package {\n",
       "font-weight: bold;\n",
       "font-style: italic;\n",
       "}\n",
       ".hoogle-module {\n",
       "font-weight: bold;\n",
       "}\n",
       ".hoogle-class {\n",
       "font-weight: bold;\n",
       "}\n",
       ".get-type {\n",
       "color: green;\n",
       "font-weight: bold;\n",
       "font-family: monospace;\n",
       "display: block;\n",
       "white-space: pre-wrap;\n",
       "}\n",
       ".show-type {\n",
       "color: green;\n",
       "font-weight: bold;\n",
       "font-family: monospace;\n",
       "margin-left: 1em;\n",
       "}\n",
       ".mono {\n",
       "font-family: monospace;\n",
       "display: block;\n",
       "}\n",
       ".err-msg {\n",
       "color: red;\n",
       "font-style: italic;\n",
       "font-family: monospace;\n",
       "white-space: pre;\n",
       "display: block;\n",
       "}\n",
       "#unshowable {\n",
       "color: red;\n",
       "font-weight: bold;\n",
       "}\n",
       ".err-msg.in.collapse {\n",
       "padding-top: 0.7em;\n",
       "}\n",
       ".highlight-code {\n",
       "white-space: pre;\n",
       "font-family: monospace;\n",
       "}\n",
       ".suggestion-warning { \n",
       "font-weight: bold;\n",
       "color: rgb(200, 130, 0);\n",
       "}\n",
       ".suggestion-error { \n",
       "font-weight: bold;\n",
       "color: red;\n",
       "}\n",
       ".suggestion-name {\n",
       "font-weight: bold;\n",
       "}\n",
       "</style><div class=\"suggestion-name\" style=\"clear:both;\">Use foldr</div><div class=\"suggestion-row\" style=\"float: left;\"><div class=\"suggestion-warning\">Found:</div><div class=\"highlight-code\" id=\"haskell\">concat1 [] list2 = list2\n",
       "concat1 (h : t) list2 = h : (concat1 t list2)</div></div><div class=\"suggestion-row\" style=\"float: left;\"><div class=\"suggestion-warning\">Why Not:</div><div class=\"highlight-code\" id=\"haskell\">concat1 t list2 = foldr (:) list2 t</div></div><div class=\"suggestion-name\" style=\"clear:both;\">Redundant bracket</div><div class=\"suggestion-row\" style=\"float: left;\"><div class=\"suggestion-warning\">Found:</div><div class=\"highlight-code\" id=\"haskell\">h : (concat1 t list2)</div></div><div class=\"suggestion-row\" style=\"float: left;\"><div class=\"suggestion-warning\">Why Not:</div><div class=\"highlight-code\" id=\"haskell\">h : concat1 t list2</div></div>"
      ],
      "text/plain": [
       "Line 2: Use foldr\n",
       "Found:\n",
       "concat1 [] list2 = list2\n",
       "concat1 (h : t) list2 = h : (concat1 t list2)\n",
       "Why not:\n",
       "concat1 t list2 = foldr (:) list2 tLine 3: Redundant bracket\n",
       "Found:\n",
       "h : (concat1 t list2)\n",
       "Why not:\n",
       "h : concat1 t list2"
      ]
     },
     "metadata": {},
     "output_type": "display_data"
    },
    {
     "data": {
      "text/plain": [
       "[10,20,30,40,50,60]"
      ]
     },
     "metadata": {},
     "output_type": "display_data"
    }
   ],
   "source": [
    "concat1 :: [a] -> [a] -> [a]\n",
    "concat1 [] list2 = list2\n",
    "concat1 (h:t) list2 = h : (concat1 t list2)\n",
    "\n",
    "concat1 [10, 20, 30] [40, 50, 60]"
   ]
  },
  {
   "cell_type": "markdown",
   "id": "a8b64980",
   "metadata": {},
   "source": [
    "## Лямбда выражения, $\\lambda$-выражения\n",
    "\n",
    "Это выражения, которые описывают функции. Примеры:"
   ]
  },
  {
   "cell_type": "code",
   "execution_count": 31,
   "id": "beb4219c",
   "metadata": {},
   "outputs": [
    {
     "data": {
      "text/html": [
       "<style>/* Styles used for the Hoogle display in the pager */\n",
       ".hoogle-doc {\n",
       "display: block;\n",
       "padding-bottom: 1.3em;\n",
       "padding-left: 0.4em;\n",
       "}\n",
       ".hoogle-code {\n",
       "display: block;\n",
       "font-family: monospace;\n",
       "white-space: pre;\n",
       "}\n",
       ".hoogle-text {\n",
       "display: block;\n",
       "}\n",
       ".hoogle-name {\n",
       "color: green;\n",
       "font-weight: bold;\n",
       "}\n",
       ".hoogle-head {\n",
       "font-weight: bold;\n",
       "}\n",
       ".hoogle-sub {\n",
       "display: block;\n",
       "margin-left: 0.4em;\n",
       "}\n",
       ".hoogle-package {\n",
       "font-weight: bold;\n",
       "font-style: italic;\n",
       "}\n",
       ".hoogle-module {\n",
       "font-weight: bold;\n",
       "}\n",
       ".hoogle-class {\n",
       "font-weight: bold;\n",
       "}\n",
       ".get-type {\n",
       "color: green;\n",
       "font-weight: bold;\n",
       "font-family: monospace;\n",
       "display: block;\n",
       "white-space: pre-wrap;\n",
       "}\n",
       ".show-type {\n",
       "color: green;\n",
       "font-weight: bold;\n",
       "font-family: monospace;\n",
       "margin-left: 1em;\n",
       "}\n",
       ".mono {\n",
       "font-family: monospace;\n",
       "display: block;\n",
       "}\n",
       ".err-msg {\n",
       "color: red;\n",
       "font-style: italic;\n",
       "font-family: monospace;\n",
       "white-space: pre;\n",
       "display: block;\n",
       "}\n",
       "#unshowable {\n",
       "color: red;\n",
       "font-weight: bold;\n",
       "}\n",
       ".err-msg.in.collapse {\n",
       "padding-top: 0.7em;\n",
       "}\n",
       ".highlight-code {\n",
       "white-space: pre;\n",
       "font-family: monospace;\n",
       "}\n",
       ".suggestion-warning { \n",
       "font-weight: bold;\n",
       "color: rgb(200, 130, 0);\n",
       "}\n",
       ".suggestion-error { \n",
       "font-weight: bold;\n",
       "color: red;\n",
       "}\n",
       ".suggestion-name {\n",
       "font-weight: bold;\n",
       "}\n",
       "</style><div class=\"suggestion-name\" style=\"clear:both;\">Redundant lambda</div><div class=\"suggestion-row\" style=\"float: left;\"><div class=\"suggestion-warning\">Found:</div><div class=\"highlight-code\" id=\"haskell\">f = \\ x -> x + 1</div></div><div class=\"suggestion-row\" style=\"float: left;\"><div class=\"suggestion-warning\">Why Not:</div><div class=\"highlight-code\" id=\"haskell\">f x = x + 1</div></div><div class=\"suggestion-name\" style=\"clear:both;\">Avoid lambda using `infix`</div><div class=\"suggestion-row\" style=\"float: left;\"><div class=\"suggestion-warning\">Found:</div><div class=\"highlight-code\" id=\"haskell\">\\ x -> x + 1</div></div><div class=\"suggestion-row\" style=\"float: left;\"><div class=\"suggestion-warning\">Why Not:</div><div class=\"highlight-code\" id=\"haskell\">(+ 1)</div></div>"
      ],
      "text/plain": [
       "Line 1: Redundant lambda\n",
       "Found:\n",
       "f = \\ x -> x + 1\n",
       "Why not:\n",
       "f x = x + 1Line 1: Avoid lambda using `infix`\n",
       "Found:\n",
       "\\ x -> x + 1\n",
       "Why not:\n",
       "(+ 1)"
      ]
     },
     "metadata": {},
     "output_type": "display_data"
    },
    {
     "data": {
      "text/plain": [
       "11"
      ]
     },
     "metadata": {},
     "output_type": "display_data"
    }
   ],
   "source": [
    "f = \\x -> x + 1 -- это функция, которая получает x, возвращает x + 1\n",
    "f 10"
   ]
  },
  {
   "cell_type": "markdown",
   "id": "69955adf",
   "metadata": {},
   "source": [
    "Описание функций, которым мы пользовались раньше, может быть заменено на лямбды:"
   ]
  },
  {
   "cell_type": "code",
   "execution_count": 32,
   "id": "0881e296",
   "metadata": {},
   "outputs": [
    {
     "data": {
      "text/html": [
       "<style>/* Styles used for the Hoogle display in the pager */\n",
       ".hoogle-doc {\n",
       "display: block;\n",
       "padding-bottom: 1.3em;\n",
       "padding-left: 0.4em;\n",
       "}\n",
       ".hoogle-code {\n",
       "display: block;\n",
       "font-family: monospace;\n",
       "white-space: pre;\n",
       "}\n",
       ".hoogle-text {\n",
       "display: block;\n",
       "}\n",
       ".hoogle-name {\n",
       "color: green;\n",
       "font-weight: bold;\n",
       "}\n",
       ".hoogle-head {\n",
       "font-weight: bold;\n",
       "}\n",
       ".hoogle-sub {\n",
       "display: block;\n",
       "margin-left: 0.4em;\n",
       "}\n",
       ".hoogle-package {\n",
       "font-weight: bold;\n",
       "font-style: italic;\n",
       "}\n",
       ".hoogle-module {\n",
       "font-weight: bold;\n",
       "}\n",
       ".hoogle-class {\n",
       "font-weight: bold;\n",
       "}\n",
       ".get-type {\n",
       "color: green;\n",
       "font-weight: bold;\n",
       "font-family: monospace;\n",
       "display: block;\n",
       "white-space: pre-wrap;\n",
       "}\n",
       ".show-type {\n",
       "color: green;\n",
       "font-weight: bold;\n",
       "font-family: monospace;\n",
       "margin-left: 1em;\n",
       "}\n",
       ".mono {\n",
       "font-family: monospace;\n",
       "display: block;\n",
       "}\n",
       ".err-msg {\n",
       "color: red;\n",
       "font-style: italic;\n",
       "font-family: monospace;\n",
       "white-space: pre;\n",
       "display: block;\n",
       "}\n",
       "#unshowable {\n",
       "color: red;\n",
       "font-weight: bold;\n",
       "}\n",
       ".err-msg.in.collapse {\n",
       "padding-top: 0.7em;\n",
       "}\n",
       ".highlight-code {\n",
       "white-space: pre;\n",
       "font-family: monospace;\n",
       "}\n",
       ".suggestion-warning { \n",
       "font-weight: bold;\n",
       "color: rgb(200, 130, 0);\n",
       "}\n",
       ".suggestion-error { \n",
       "font-weight: bold;\n",
       "color: red;\n",
       "}\n",
       ".suggestion-name {\n",
       "font-weight: bold;\n",
       "}\n",
       "</style><div class=\"suggestion-name\" style=\"clear:both;\">Redundant lambda</div><div class=\"suggestion-row\" style=\"float: left;\"><div class=\"suggestion-warning\">Found:</div><div class=\"highlight-code\" id=\"haskell\">func2 = \\ x y -> x + 2 * y</div></div><div class=\"suggestion-row\" style=\"float: left;\"><div class=\"suggestion-warning\">Why Not:</div><div class=\"highlight-code\" id=\"haskell\">func2 x y = x + 2 * y</div></div>"
      ],
      "text/plain": [
       "Line 2: Redundant lambda\n",
       "Found:\n",
       "func2 = \\ x y -> x + 2 * y\n",
       "Why not:\n",
       "func2 x y = x + 2 * y"
      ]
     },
     "metadata": {},
     "output_type": "display_data"
    }
   ],
   "source": [
    "func1 x y = x + 2 * y\n",
    "func2 = \\x y -> x + 2 * y"
   ]
  },
  {
   "cell_type": "markdown",
   "id": "ca598eae",
   "metadata": {},
   "source": [
    "Это были два эквивалентных способа задать функцию. Первый способ короче, и в первом способе можно пользоваться шаблонами. Например, `fun (h:t) = t` так просто на лямбду не заменить.\n",
    "Лямбда полезна, когда не хочется вводить полноценную именованную функцию."
   ]
  },
  {
   "cell_type": "markdown",
   "id": "d10abbfa",
   "metadata": {},
   "source": [
    "### Функции высших порядков\n",
    "Это функции, которые принимают другие функции в качестве аргументов:"
   ]
  },
  {
   "cell_type": "code",
   "execution_count": 41,
   "id": "9d68969f",
   "metadata": {
    "scrolled": false
   },
   "outputs": [
    {
     "data": {
      "text/html": [
       "<style>/* Styles used for the Hoogle display in the pager */\n",
       ".hoogle-doc {\n",
       "display: block;\n",
       "padding-bottom: 1.3em;\n",
       "padding-left: 0.4em;\n",
       "}\n",
       ".hoogle-code {\n",
       "display: block;\n",
       "font-family: monospace;\n",
       "white-space: pre;\n",
       "}\n",
       ".hoogle-text {\n",
       "display: block;\n",
       "}\n",
       ".hoogle-name {\n",
       "color: green;\n",
       "font-weight: bold;\n",
       "}\n",
       ".hoogle-head {\n",
       "font-weight: bold;\n",
       "}\n",
       ".hoogle-sub {\n",
       "display: block;\n",
       "margin-left: 0.4em;\n",
       "}\n",
       ".hoogle-package {\n",
       "font-weight: bold;\n",
       "font-style: italic;\n",
       "}\n",
       ".hoogle-module {\n",
       "font-weight: bold;\n",
       "}\n",
       ".hoogle-class {\n",
       "font-weight: bold;\n",
       "}\n",
       ".get-type {\n",
       "color: green;\n",
       "font-weight: bold;\n",
       "font-family: monospace;\n",
       "display: block;\n",
       "white-space: pre-wrap;\n",
       "}\n",
       ".show-type {\n",
       "color: green;\n",
       "font-weight: bold;\n",
       "font-family: monospace;\n",
       "margin-left: 1em;\n",
       "}\n",
       ".mono {\n",
       "font-family: monospace;\n",
       "display: block;\n",
       "}\n",
       ".err-msg {\n",
       "color: red;\n",
       "font-style: italic;\n",
       "font-family: monospace;\n",
       "white-space: pre;\n",
       "display: block;\n",
       "}\n",
       "#unshowable {\n",
       "color: red;\n",
       "font-weight: bold;\n",
       "}\n",
       ".err-msg.in.collapse {\n",
       "padding-top: 0.7em;\n",
       "}\n",
       ".highlight-code {\n",
       "white-space: pre;\n",
       "font-family: monospace;\n",
       "}\n",
       ".suggestion-warning { \n",
       "font-weight: bold;\n",
       "color: rgb(200, 130, 0);\n",
       "}\n",
       ".suggestion-error { \n",
       "font-weight: bold;\n",
       "color: red;\n",
       "}\n",
       ".suggestion-name {\n",
       "font-weight: bold;\n",
       "}\n",
       "</style><div class=\"suggestion-name\" style=\"clear:both;\">Use even</div><div class=\"suggestion-row\" style=\"float: left;\"><div class=\"suggestion-warning\">Found:</div><div class=\"highlight-code\" id=\"haskell\">mod x 2 == 0</div></div><div class=\"suggestion-row\" style=\"float: left;\"><div class=\"suggestion-warning\">Why Not:</div><div class=\"highlight-code\" id=\"haskell\">even x</div></div><div class=\"suggestion-name\" style=\"clear:both;\">Avoid lambda using `infix`</div><div class=\"suggestion-row\" style=\"float: left;\"><div class=\"suggestion-warning\">Found:</div><div class=\"highlight-code\" id=\"haskell\">(\\ x -> x > 10)</div></div><div class=\"suggestion-row\" style=\"float: left;\"><div class=\"suggestion-warning\">Why Not:</div><div class=\"highlight-code\" id=\"haskell\">(> 10)</div></div><div class=\"suggestion-name\" style=\"clear:both;\">Use even</div><div class=\"suggestion-row\" style=\"float: left;\"><div class=\"suggestion-warning\">Found:</div><div class=\"highlight-code\" id=\"haskell\">mod x 2 == 0</div></div><div class=\"suggestion-row\" style=\"float: left;\"><div class=\"suggestion-warning\">Why Not:</div><div class=\"highlight-code\" id=\"haskell\">even x</div></div>"
      ],
      "text/plain": [
       "Line 2: Use even\n",
       "Found:\n",
       "mod x 2 == 0\n",
       "Why not:\n",
       "even xLine 16: Avoid lambda using `infix`\n",
       "Found:\n",
       "(\\ x -> x > 10)\n",
       "Why not:\n",
       "(> 10)Line 17: Use even\n",
       "Found:\n",
       "mod x 2 == 0\n",
       "Why not:\n",
       "even x"
      ]
     },
     "metadata": {},
     "output_type": "display_data"
    },
    {
     "data": {
      "text/plain": [
       "\"\\1053\\1077\\1074\\1077\\1088\\1085\\1086\""
      ]
     },
     "metadata": {},
     "output_type": "display_data"
    },
    {
     "data": {
      "text/plain": [
       "\"\\1042\\1077\\1088\\1085\\1086\""
      ]
     },
     "metadata": {},
     "output_type": "display_data"
    },
    {
     "data": {
      "text/plain": [
       "\"\\1053\\1077\\1074\\1077\\1088\\1085\\1086\""
      ]
     },
     "metadata": {},
     "output_type": "display_data"
    },
    {
     "data": {
      "text/plain": [
       "\"\\1042\\1077\\1088\\1085\\1086\""
      ]
     },
     "metadata": {},
     "output_type": "display_data"
    },
    {
     "data": {
      "text/plain": [
       "\"\\1053\\1077\\1074\\1077\\1088\\1085\\1086\""
      ]
     },
     "metadata": {},
     "output_type": "display_data"
    }
   ],
   "source": [
    "testEven :: Int -> String\n",
    "testEven x = if mod x 2 == 0 then \"Верно\" else \"Неверно\"\n",
    "\n",
    "testOdd :: Int -> String\n",
    "testOdd x = if mod x 2 == 1 then \"Верно\" else \"Неверно\"\n",
    "\n",
    "testGreater10 :: Int -> String\n",
    "testGreater10 x = if x > 10 then \"Верно\" else \"Неверно\"\n",
    "\n",
    "testOdd 10\n",
    "testGreater10  456\n",
    "\n",
    "test :: Int -> (Int -> Bool) -> String\n",
    "test x condition = if condition x then \"Верно\" else \"Неверно\"\n",
    "\n",
    "test 10 (\\x -> x > 10)\n",
    "test 10 (\\x -> mod x 2 == 0)\n",
    "\n",
    "cond1 :: Int -> Bool\n",
    "cond1 0 = True\n",
    "cond1 1 = True\n",
    "cond1 x = False\n",
    "\n",
    "test 10 cond1"
   ]
  },
  {
   "cell_type": "code",
   "execution_count": 37,
   "id": "f35711f8",
   "metadata": {},
   "outputs": [
    {
     "data": {
      "text/plain": [
       "0"
      ]
     },
     "metadata": {},
     "output_type": "display_data"
    }
   ],
   "source": [
    "mod 10 2"
   ]
  },
  {
   "cell_type": "markdown",
   "id": "4c7f541f",
   "metadata": {},
   "source": [
    "### Функции map и filter \n",
    "\n",
    "Функция `map` применяет заданную функцию ко всем элементам списка:"
   ]
  },
  {
   "cell_type": "code",
   "execution_count": 45,
   "id": "70a9226d",
   "metadata": {},
   "outputs": [
    {
     "data": {
      "text/html": [
       "<style>/* Styles used for the Hoogle display in the pager */\n",
       ".hoogle-doc {\n",
       "display: block;\n",
       "padding-bottom: 1.3em;\n",
       "padding-left: 0.4em;\n",
       "}\n",
       ".hoogle-code {\n",
       "display: block;\n",
       "font-family: monospace;\n",
       "white-space: pre;\n",
       "}\n",
       ".hoogle-text {\n",
       "display: block;\n",
       "}\n",
       ".hoogle-name {\n",
       "color: green;\n",
       "font-weight: bold;\n",
       "}\n",
       ".hoogle-head {\n",
       "font-weight: bold;\n",
       "}\n",
       ".hoogle-sub {\n",
       "display: block;\n",
       "margin-left: 0.4em;\n",
       "}\n",
       ".hoogle-package {\n",
       "font-weight: bold;\n",
       "font-style: italic;\n",
       "}\n",
       ".hoogle-module {\n",
       "font-weight: bold;\n",
       "}\n",
       ".hoogle-class {\n",
       "font-weight: bold;\n",
       "}\n",
       ".get-type {\n",
       "color: green;\n",
       "font-weight: bold;\n",
       "font-family: monospace;\n",
       "display: block;\n",
       "white-space: pre-wrap;\n",
       "}\n",
       ".show-type {\n",
       "color: green;\n",
       "font-weight: bold;\n",
       "font-family: monospace;\n",
       "margin-left: 1em;\n",
       "}\n",
       ".mono {\n",
       "font-family: monospace;\n",
       "display: block;\n",
       "}\n",
       ".err-msg {\n",
       "color: red;\n",
       "font-style: italic;\n",
       "font-family: monospace;\n",
       "white-space: pre;\n",
       "display: block;\n",
       "}\n",
       "#unshowable {\n",
       "color: red;\n",
       "font-weight: bold;\n",
       "}\n",
       ".err-msg.in.collapse {\n",
       "padding-top: 0.7em;\n",
       "}\n",
       ".highlight-code {\n",
       "white-space: pre;\n",
       "font-family: monospace;\n",
       "}\n",
       ".suggestion-warning { \n",
       "font-weight: bold;\n",
       "color: rgb(200, 130, 0);\n",
       "}\n",
       ".suggestion-error { \n",
       "font-weight: bold;\n",
       "color: red;\n",
       "}\n",
       ".suggestion-name {\n",
       "font-weight: bold;\n",
       "}\n",
       "</style><div class=\"suggestion-name\" style=\"clear:both;\">Avoid lambda using `infix`</div><div class=\"suggestion-row\" style=\"float: left;\"><div class=\"suggestion-warning\">Found:</div><div class=\"highlight-code\" id=\"haskell\">(\\ x -> x + 1)</div></div><div class=\"suggestion-row\" style=\"float: left;\"><div class=\"suggestion-warning\">Why Not:</div><div class=\"highlight-code\" id=\"haskell\">(+ 1)</div></div><div class=\"suggestion-name\" style=\"clear:both;\">Avoid lambda</div><div class=\"suggestion-row\" style=\"float: left;\"><div class=\"suggestion-warning\">Found:</div><div class=\"highlight-code\" id=\"haskell\">(\\ x -> show x)</div></div><div class=\"suggestion-row\" style=\"float: left;\"><div class=\"suggestion-warning\">Why Not:</div><div class=\"highlight-code\" id=\"haskell\">show</div></div>"
      ],
      "text/plain": [
       "Line 1: Avoid lambda using `infix`\n",
       "Found:\n",
       "(\\ x -> x + 1)\n",
       "Why not:\n",
       "(+ 1)Line 2: Avoid lambda\n",
       "Found:\n",
       "(\\ x -> show x)\n",
       "Why not:\n",
       "show"
      ]
     },
     "metadata": {},
     "output_type": "display_data"
    },
    {
     "data": {
      "text/plain": [
       "[11,21,31]"
      ]
     },
     "metadata": {},
     "output_type": "display_data"
    },
    {
     "data": {
      "text/plain": [
       "[\"10\",\"20\",\"30\"]"
      ]
     },
     "metadata": {},
     "output_type": "display_data"
    },
    {
     "data": {
      "text/plain": [
       "[\"10\",\"20\",\"30\"]"
      ]
     },
     "metadata": {},
     "output_type": "display_data"
    },
    {
     "data": {
      "text/plain": [
       "[0,1,1]"
      ]
     },
     "metadata": {},
     "output_type": "display_data"
    }
   ],
   "source": [
    "map (\\x -> x + 1) [10, 20, 30]\n",
    "map (\\x -> show x) [10, 20, 30] -- функция show превращает всё в строку (аналог toString)\n",
    "map show [10, 20, 30]\n",
    "map (\\x -> if x > 10 then 1 else 0) [10, 20, 30]"
   ]
  },
  {
   "cell_type": "markdown",
   "id": "76e96ef0",
   "metadata": {},
   "source": [
    "Функция `filter` оставляет в списке только те элементы, которые подходят под условие. Условие - это функция, возвращающая Bool:"
   ]
  },
  {
   "cell_type": "code",
   "execution_count": 48,
   "id": "7c2687b5",
   "metadata": {},
   "outputs": [
    {
     "data": {
      "text/html": [
       "<style>/* Styles used for the Hoogle display in the pager */\n",
       ".hoogle-doc {\n",
       "display: block;\n",
       "padding-bottom: 1.3em;\n",
       "padding-left: 0.4em;\n",
       "}\n",
       ".hoogle-code {\n",
       "display: block;\n",
       "font-family: monospace;\n",
       "white-space: pre;\n",
       "}\n",
       ".hoogle-text {\n",
       "display: block;\n",
       "}\n",
       ".hoogle-name {\n",
       "color: green;\n",
       "font-weight: bold;\n",
       "}\n",
       ".hoogle-head {\n",
       "font-weight: bold;\n",
       "}\n",
       ".hoogle-sub {\n",
       "display: block;\n",
       "margin-left: 0.4em;\n",
       "}\n",
       ".hoogle-package {\n",
       "font-weight: bold;\n",
       "font-style: italic;\n",
       "}\n",
       ".hoogle-module {\n",
       "font-weight: bold;\n",
       "}\n",
       ".hoogle-class {\n",
       "font-weight: bold;\n",
       "}\n",
       ".get-type {\n",
       "color: green;\n",
       "font-weight: bold;\n",
       "font-family: monospace;\n",
       "display: block;\n",
       "white-space: pre-wrap;\n",
       "}\n",
       ".show-type {\n",
       "color: green;\n",
       "font-weight: bold;\n",
       "font-family: monospace;\n",
       "margin-left: 1em;\n",
       "}\n",
       ".mono {\n",
       "font-family: monospace;\n",
       "display: block;\n",
       "}\n",
       ".err-msg {\n",
       "color: red;\n",
       "font-style: italic;\n",
       "font-family: monospace;\n",
       "white-space: pre;\n",
       "display: block;\n",
       "}\n",
       "#unshowable {\n",
       "color: red;\n",
       "font-weight: bold;\n",
       "}\n",
       ".err-msg.in.collapse {\n",
       "padding-top: 0.7em;\n",
       "}\n",
       ".highlight-code {\n",
       "white-space: pre;\n",
       "font-family: monospace;\n",
       "}\n",
       ".suggestion-warning { \n",
       "font-weight: bold;\n",
       "color: rgb(200, 130, 0);\n",
       "}\n",
       ".suggestion-error { \n",
       "font-weight: bold;\n",
       "color: red;\n",
       "}\n",
       ".suggestion-name {\n",
       "font-weight: bold;\n",
       "}\n",
       "</style><div class=\"suggestion-name\" style=\"clear:both;\">Redundant if</div><div class=\"suggestion-row\" style=\"float: left;\"><div class=\"suggestion-warning\">Found:</div><div class=\"highlight-code\" id=\"haskell\">if x > 10 then True else False</div></div><div class=\"suggestion-row\" style=\"float: left;\"><div class=\"suggestion-warning\">Why Not:</div><div class=\"highlight-code\" id=\"haskell\">x > 10</div></div><div class=\"suggestion-name\" style=\"clear:both;\">Avoid lambda using `infix`</div><div class=\"suggestion-row\" style=\"float: left;\"><div class=\"suggestion-warning\">Found:</div><div class=\"highlight-code\" id=\"haskell\">(\\ x -> x > 10)</div></div><div class=\"suggestion-row\" style=\"float: left;\"><div class=\"suggestion-warning\">Why Not:</div><div class=\"highlight-code\" id=\"haskell\">(> 10)</div></div><div class=\"suggestion-name\" style=\"clear:both;\">Use even</div><div class=\"suggestion-row\" style=\"float: left;\"><div class=\"suggestion-warning\">Found:</div><div class=\"highlight-code\" id=\"haskell\">mod x 2 == 0</div></div><div class=\"suggestion-row\" style=\"float: left;\"><div class=\"suggestion-warning\">Why Not:</div><div class=\"highlight-code\" id=\"haskell\">even x</div></div>"
      ],
      "text/plain": [
       "Line 1: Redundant if\n",
       "Found:\n",
       "if x > 10 then True else False\n",
       "Why not:\n",
       "x > 10Line 2: Avoid lambda using `infix`\n",
       "Found:\n",
       "(\\ x -> x > 10)\n",
       "Why not:\n",
       "(> 10)Line 3: Use even\n",
       "Found:\n",
       "mod x 2 == 0\n",
       "Why not:\n",
       "even x"
      ]
     },
     "metadata": {},
     "output_type": "display_data"
    },
    {
     "data": {
      "text/plain": [
       "[20,30]"
      ]
     },
     "metadata": {},
     "output_type": "display_data"
    },
    {
     "data": {
      "text/plain": [
       "[20,30]"
      ]
     },
     "metadata": {},
     "output_type": "display_data"
    },
    {
     "data": {
      "text/plain": [
       "[2,4,6,8,10]"
      ]
     },
     "metadata": {},
     "output_type": "display_data"
    }
   ],
   "source": [
    "filter (\\x -> if x > 10 then True else False) [10, 20, 30] -- 10 не подходит и удалится\n",
    "filter (\\x -> x > 10) [10, 20, 30]\n",
    "filter (\\x -> mod x 2 == 0) [1,2,3,4,5,6,7,8,9,10]"
   ]
  },
  {
   "cell_type": "code",
   "execution_count": null,
   "id": "281ccc20",
   "metadata": {},
   "outputs": [],
   "source": []
  }
 ],
 "metadata": {
  "kernelspec": {
   "display_name": "Haskell",
   "language": "haskell",
   "name": "haskell"
  },
  "language_info": {
   "codemirror_mode": "ihaskell",
   "file_extension": ".hs",
   "mimetype": "text/x-haskell",
   "name": "haskell",
   "pygments_lexer": "Haskell",
   "version": "8.10.4"
  }
 },
 "nbformat": 4,
 "nbformat_minor": 5
}
