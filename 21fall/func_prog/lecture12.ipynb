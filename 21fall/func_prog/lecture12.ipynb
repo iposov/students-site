{
 "cells": [
  {
   "cell_type": "markdown",
   "id": "608b9ac7",
   "metadata": {},
   "source": [
    "# Ввод / Вывод, тип IO\n",
    "\n",
    "Вспомним, что в Haskell нет понятия порядка вычислений. Результат не должен зависеть от того, в каком порядке вычисления происходили. Благодаря этому работают ленивые вычисления, значения вычисляются, когда они нужны. Теперь проблема, код на псевдоязыке\n",
    "\n",
    "```\n",
    "print \"введите x\"\n",
    "x := read -- прочитать с клавиатуры\n",
    "print \"введите y\"\n",
    "y := read -- прочитать с клавиатуры\n",
    "```\n",
    "\n",
    "ожидает, что действия выполнятся друг за другом, будет странно, если сначала сработает ввод y.\n",
    "\n",
    "В Haskell вводится тип `IO a`. Он означает значение `a`, которое будет получено только после операций ввода/вывода. Т.е. с `IO Int` нельзя работать как с числом, можно работать как с каким-то неизвестным числом, значение которого будет известно позже. Достать в коде программы целое значение из `IO Int` невозможно. В отличие от `Maybe a`, там достать значение можно, если оно есть.\n",
    "\n",
    "Т.е. нет функции `f :: IO Int -> Int`.\n",
    "\n",
    "Единственный способ достать значения, это только вернуть их из `main`, главной функции программы. `main` имеет тип `IO a`, и при запуске это значение внутри IO, наконец, вычислится и покажется на экране, например. Т.е. будут вычислены только те значения внутри IO, которые прямо или косвенно вызываются из `main`.\n",
    "\n",
    "Примеры, давайте прочитаем с клавиатуры значения x, y и сложим их:\n",
    "\n",
    "(отсупление, класс Read имеет функцию read, обратную show)"
   ]
  },
  {
   "cell_type": "code",
   "execution_count": 4,
   "id": "340ae5d4",
   "metadata": {},
   "outputs": [
    {
     "data": {
      "text/plain": [
       "\"42\""
      ]
     },
     "metadata": {},
     "output_type": "display_data"
    },
    {
     "data": {
      "text/plain": [
       "42"
      ]
     },
     "metadata": {},
     "output_type": "display_data"
    },
    {
     "ename": "",
     "evalue": "",
     "output_type": "error",
     "traceback": [
      "Prelude.read: no parse"
     ]
    }
   ],
   "source": [
    "show 42\n",
    "read \"42\" :: Int\n",
    "read \"asdf\" :: Int -- невозможно прочитать"
   ]
  },
  {
   "cell_type": "code",
   "execution_count": 11,
   "id": "924f289d",
   "metadata": {
    "scrolled": true
   },
   "outputs": [],
   "source": [
    "import Control.Applicative\n",
    "\n",
    "-- пытаемся прочитать число\n",
    "x = readLn :: IO Int\n",
    "-- пытаемся прочитать число\n",
    "y = readLn :: IO Int\n",
    "\n",
    "-- теперь давайте их сложим. Аналогично Maybe\n",
    "\n",
    "z = liftA2 (+) x y -- или (+) <$> x <*> y\n",
    "\n",
    "-- если вызвать z, будет два раза выполнен readLn, потом значения внутри сложатся"
   ]
  },
  {
   "cell_type": "markdown",
   "id": "024e1b70",
   "metadata": {},
   "source": [
    "## Монады\n",
    "Это расширение аппликативного функтора, структурный тип данных, который позволяет делать дополнительные действия: `>>=`."
   ]
  },
  {
   "cell_type": "code",
   "execution_count": 12,
   "id": "b1208fbb",
   "metadata": {},
   "outputs": [
    {
     "data": {
      "text/html": [
       "<style>/* Styles used for the Hoogle display in the pager */\n",
       ".hoogle-doc {\n",
       "display: block;\n",
       "padding-bottom: 1.3em;\n",
       "padding-left: 0.4em;\n",
       "}\n",
       ".hoogle-code {\n",
       "display: block;\n",
       "font-family: monospace;\n",
       "white-space: pre;\n",
       "}\n",
       ".hoogle-text {\n",
       "display: block;\n",
       "}\n",
       ".hoogle-name {\n",
       "color: green;\n",
       "font-weight: bold;\n",
       "}\n",
       ".hoogle-head {\n",
       "font-weight: bold;\n",
       "}\n",
       ".hoogle-sub {\n",
       "display: block;\n",
       "margin-left: 0.4em;\n",
       "}\n",
       ".hoogle-package {\n",
       "font-weight: bold;\n",
       "font-style: italic;\n",
       "}\n",
       ".hoogle-module {\n",
       "font-weight: bold;\n",
       "}\n",
       ".hoogle-class {\n",
       "font-weight: bold;\n",
       "}\n",
       ".get-type {\n",
       "color: green;\n",
       "font-weight: bold;\n",
       "font-family: monospace;\n",
       "display: block;\n",
       "white-space: pre-wrap;\n",
       "}\n",
       ".show-type {\n",
       "color: green;\n",
       "font-weight: bold;\n",
       "font-family: monospace;\n",
       "margin-left: 1em;\n",
       "}\n",
       ".mono {\n",
       "font-family: monospace;\n",
       "display: block;\n",
       "}\n",
       ".err-msg {\n",
       "color: red;\n",
       "font-style: italic;\n",
       "font-family: monospace;\n",
       "white-space: pre;\n",
       "display: block;\n",
       "}\n",
       "#unshowable {\n",
       "color: red;\n",
       "font-weight: bold;\n",
       "}\n",
       ".err-msg.in.collapse {\n",
       "padding-top: 0.7em;\n",
       "}\n",
       ".highlight-code {\n",
       "white-space: pre;\n",
       "font-family: monospace;\n",
       "}\n",
       ".suggestion-warning { \n",
       "font-weight: bold;\n",
       "color: rgb(200, 130, 0);\n",
       "}\n",
       ".suggestion-error { \n",
       "font-weight: bold;\n",
       "color: red;\n",
       "}\n",
       ".suggestion-name {\n",
       "font-weight: bold;\n",
       "}\n",
       "</style><span class='get-type'>(>>=) :: forall (m :: * -> *) a b. Monad m => m a -> (a -> m b) -> m b</span>"
      ],
      "text/plain": [
       "(>>=) :: forall (m :: * -> *) a b. Monad m => m a -> (a -> m b) -> m b"
      ]
     },
     "metadata": {},
     "output_type": "display_data"
    }
   ],
   "source": [
    ":type (>>=)"
   ]
  },
  {
   "cell_type": "markdown",
   "id": "8145d3a7",
   "metadata": {},
   "source": [
    "Какой смысл для Maybe, т.е. для вычислений, в которых результата может не быть. Пусть есть функция `mbsqrt :: Double -> Maybe Double`, которая берет квадратный корень, но он не всегда может получиться."
   ]
  },
  {
   "cell_type": "code",
   "execution_count": 15,
   "id": "7c906cc0",
   "metadata": {},
   "outputs": [],
   "source": [
    "mbsqrt :: Double -> Maybe Double\n",
    "mbsqrt x = if x >= 0 then Just $ sqrt x else Nothing"
   ]
  },
  {
   "cell_type": "markdown",
   "id": "fa2c4957",
   "metadata": {},
   "source": [
    "Хотим вычислить с её помощью `f(x) = sqrt (sqrt(x) - 10) + 4`.\n",
    "Как это записать с помощью `>>=`:"
   ]
  },
  {
   "cell_type": "code",
   "execution_count": 18,
   "id": "a20eb8cb",
   "metadata": {},
   "outputs": [],
   "source": [
    "f :: Double -> Maybe Double\n",
    "f x = (+4) <$> (mbsqrt x                   -- корень из x в коробочке\n",
    "                   >>= (\\sqx ->     -- sqx - это реальное числовое (Double) значение корня\n",
    "                        mbsqrt (sqx - 10)\n",
    "                        ))"
   ]
  },
  {
   "cell_type": "code",
   "execution_count": 22,
   "id": "66e64bb2",
   "metadata": {},
   "outputs": [
    {
     "data": {
      "text/plain": [
       "Just 4.0"
      ]
     },
     "metadata": {},
     "output_type": "display_data"
    },
    {
     "data": {
      "text/plain": [
       "Nothing"
      ]
     },
     "metadata": {},
     "output_type": "display_data"
    },
    {
     "data": {
      "text/plain": [
       "Nothing"
      ]
     },
     "metadata": {},
     "output_type": "display_data"
    },
    {
     "data": {
      "text/plain": [
       "Just 13.486832980505138"
      ]
     },
     "metadata": {},
     "output_type": "display_data"
    }
   ],
   "source": [
    "f 100\n",
    "f 4\n",
    "f (-10)\n",
    "f 10000"
   ]
  },
  {
   "cell_type": "markdown",
   "id": "9c8f5d27",
   "metadata": {},
   "source": [
    "В принципе, можно пользоваться только `>==`:"
   ]
  },
  {
   "cell_type": "code",
   "execution_count": 28,
   "id": "f3b25aff",
   "metadata": {},
   "outputs": [
    {
     "data": {
      "text/plain": [
       "Just 4.0"
      ]
     },
     "metadata": {},
     "output_type": "display_data"
    },
    {
     "data": {
      "text/plain": [
       "Nothing"
      ]
     },
     "metadata": {},
     "output_type": "display_data"
    },
    {
     "data": {
      "text/plain": [
       "Nothing"
      ]
     },
     "metadata": {},
     "output_type": "display_data"
    },
    {
     "data": {
      "text/plain": [
       "Just 13.486832980505138"
      ]
     },
     "metadata": {},
     "output_type": "display_data"
    }
   ],
   "source": [
    "f :: Double -> Maybe Double\n",
    "f x = mbsqrt x                   -- корень из x в коробочке\n",
    "            >>= (\\sqx ->     -- sqx - это реальное числовое (Double) значение корня\n",
    "                mbsqrt (sqx - 10)\n",
    "                    >>= (\\res -> return (res + 4))  -- return = Just для Maybe\n",
    "                ) \n",
    "f 100\n",
    "f 4\n",
    "f (-10)\n",
    "f 10000"
   ]
  },
  {
   "cell_type": "markdown",
   "id": "b360892e",
   "metadata": {},
   "source": [
    "Смысл `return` аналогичен `pure` для аппликативных функторов, он заворачивает значение в монаду.\n",
    "\n",
    "## Do-нотация\n",
    "\n",
    "Последний пример кода показывает, что мы можем с помощью `return` и `>>=` делать вычисления внутри Maybe, не разбирая случаи Just|Nothing. Но можно пойти дальше и ввести синтаксическую конструкцию, которая еще больше упростит написание:"
   ]
  },
  {
   "cell_type": "code",
   "execution_count": 27,
   "id": "43be38e0",
   "metadata": {},
   "outputs": [
    {
     "data": {
      "text/plain": [
       "Just 4.0"
      ]
     },
     "metadata": {},
     "output_type": "display_data"
    },
    {
     "data": {
      "text/plain": [
       "Nothing"
      ]
     },
     "metadata": {},
     "output_type": "display_data"
    },
    {
     "data": {
      "text/plain": [
       "Nothing"
      ]
     },
     "metadata": {},
     "output_type": "display_data"
    },
    {
     "data": {
      "text/plain": [
       "Just 13.486832980505138"
      ]
     },
     "metadata": {},
     "output_type": "display_data"
    }
   ],
   "source": [
    "f :: Double -> Maybe Double\n",
    "f x = do\n",
    "       sqx <- mbsqrt x\n",
    "       res <- mbsqrt (sqx - 10)\n",
    "       return (res + 4)\n",
    "       \n",
    "f 100\n",
    "f 4\n",
    "f (-10)\n",
    "f 10000"
   ]
  },
  {
   "cell_type": "markdown",
   "id": "35d47ab6",
   "metadata": {},
   "source": [
    "do — это синтаксический сахар для выражений из `return` и `>>=`. Фактически, то, что мы написали для `f` через `do` заменяется на прошлую версию через `return` и `>>=`."
   ]
  },
  {
   "cell_type": "markdown",
   "id": "d365c995",
   "metadata": {},
   "source": [
    "Посмотрим аналоичный пример для списков и для `IO`.\n",
    "Для списков `>>=`. Давайте подумаем, как она может работать для списков.\n",
    "\n",
    "`[10, 20, 30] >>= (\\x -> [x-1, x+1])`\n",
    "\n",
    "У нас есть значение, которое либо 10, либо 20, либо 30, мы из него либо вычитаем, либо добавляем 1."
   ]
  },
  {
   "cell_type": "code",
   "execution_count": 29,
   "id": "757bb9c1",
   "metadata": {},
   "outputs": [
    {
     "data": {
      "text/plain": [
       "[9,11,19,21,29,31]"
      ]
     },
     "metadata": {},
     "output_type": "display_data"
    }
   ],
   "source": [
    "[10, 20, 30] >>= (\\x -> [x-1, x+1])"
   ]
  },
  {
   "cell_type": "markdown",
   "id": "b41e0932",
   "metadata": {},
   "source": [
    "Фактически, для списков это `concatMap`.\n",
    "\n",
    "Напишем функцию, которая добавляет или вычитает 1, потом умножает на 2 или на 3."
   ]
  },
  {
   "cell_type": "code",
   "execution_count": 33,
   "id": "e703e6a2",
   "metadata": {},
   "outputs": [
    {
     "data": {
      "text/html": [
       "<style>/* Styles used for the Hoogle display in the pager */\n",
       ".hoogle-doc {\n",
       "display: block;\n",
       "padding-bottom: 1.3em;\n",
       "padding-left: 0.4em;\n",
       "}\n",
       ".hoogle-code {\n",
       "display: block;\n",
       "font-family: monospace;\n",
       "white-space: pre;\n",
       "}\n",
       ".hoogle-text {\n",
       "display: block;\n",
       "}\n",
       ".hoogle-name {\n",
       "color: green;\n",
       "font-weight: bold;\n",
       "}\n",
       ".hoogle-head {\n",
       "font-weight: bold;\n",
       "}\n",
       ".hoogle-sub {\n",
       "display: block;\n",
       "margin-left: 0.4em;\n",
       "}\n",
       ".hoogle-package {\n",
       "font-weight: bold;\n",
       "font-style: italic;\n",
       "}\n",
       ".hoogle-module {\n",
       "font-weight: bold;\n",
       "}\n",
       ".hoogle-class {\n",
       "font-weight: bold;\n",
       "}\n",
       ".get-type {\n",
       "color: green;\n",
       "font-weight: bold;\n",
       "font-family: monospace;\n",
       "display: block;\n",
       "white-space: pre-wrap;\n",
       "}\n",
       ".show-type {\n",
       "color: green;\n",
       "font-weight: bold;\n",
       "font-family: monospace;\n",
       "margin-left: 1em;\n",
       "}\n",
       ".mono {\n",
       "font-family: monospace;\n",
       "display: block;\n",
       "}\n",
       ".err-msg {\n",
       "color: red;\n",
       "font-style: italic;\n",
       "font-family: monospace;\n",
       "white-space: pre;\n",
       "display: block;\n",
       "}\n",
       "#unshowable {\n",
       "color: red;\n",
       "font-weight: bold;\n",
       "}\n",
       ".err-msg.in.collapse {\n",
       "padding-top: 0.7em;\n",
       "}\n",
       ".highlight-code {\n",
       "white-space: pre;\n",
       "font-family: monospace;\n",
       "}\n",
       ".suggestion-warning { \n",
       "font-weight: bold;\n",
       "color: rgb(200, 130, 0);\n",
       "}\n",
       ".suggestion-error { \n",
       "font-weight: bold;\n",
       "color: red;\n",
       "}\n",
       ".suggestion-name {\n",
       "font-weight: bold;\n",
       "}\n",
       "</style><div class=\"suggestion-name\" style=\"clear:both;\">Redundant return</div><div class=\"suggestion-row\" style=\"float: left;\"><div class=\"suggestion-warning\">Found:</div><div class=\"highlight-code\" id=\"haskell\">do y <- addOrSub1 x\n",
       "   z <- mul2OrMul3 y\n",
       "   return z</div></div><div class=\"suggestion-row\" style=\"float: left;\"><div class=\"suggestion-warning\">Why Not:</div><div class=\"highlight-code\" id=\"haskell\">do y <- addOrSub1 x\n",
       "   mul2OrMul3 y</div></div>"
      ],
      "text/plain": [
       "Line 8: Redundant return\n",
       "Found:\n",
       "do y <- addOrSub1 x\n",
       "   z <- mul2OrMul3 y\n",
       "   return z\n",
       "Why not:\n",
       "do y <- addOrSub1 x\n",
       "   mul2OrMul3 y"
      ]
     },
     "metadata": {},
     "output_type": "display_data"
    },
    {
     "data": {
      "text/plain": [
       "[18,27,22,33]"
      ]
     },
     "metadata": {},
     "output_type": "display_data"
    }
   ],
   "source": [
    "addOrSub1 :: Int -> [Int]\n",
    "addOrSub1 x = [x - 1, x + 1]\n",
    "\n",
    "mul2OrMul3 :: Int -> [Int]\n",
    "mul2OrMul3 x = [2 * x, 3 * x]\n",
    "\n",
    "f :: Int -> [Int]\n",
    "f x = do\n",
    "        y <- addOrSub1 x -- или y <- [x + 1, x - 1]\n",
    "        z <- mul2OrMul3 y -- или [2 * y, 3 * y]\n",
    "        return z\n",
    "        \n",
    "f 10"
   ]
  },
  {
   "cell_type": "code",
   "execution_count": 35,
   "id": "8eafaa41",
   "metadata": {},
   "outputs": [
    {
     "data": {
      "text/html": [
       "<style>/* Styles used for the Hoogle display in the pager */\n",
       ".hoogle-doc {\n",
       "display: block;\n",
       "padding-bottom: 1.3em;\n",
       "padding-left: 0.4em;\n",
       "}\n",
       ".hoogle-code {\n",
       "display: block;\n",
       "font-family: monospace;\n",
       "white-space: pre;\n",
       "}\n",
       ".hoogle-text {\n",
       "display: block;\n",
       "}\n",
       ".hoogle-name {\n",
       "color: green;\n",
       "font-weight: bold;\n",
       "}\n",
       ".hoogle-head {\n",
       "font-weight: bold;\n",
       "}\n",
       ".hoogle-sub {\n",
       "display: block;\n",
       "margin-left: 0.4em;\n",
       "}\n",
       ".hoogle-package {\n",
       "font-weight: bold;\n",
       "font-style: italic;\n",
       "}\n",
       ".hoogle-module {\n",
       "font-weight: bold;\n",
       "}\n",
       ".hoogle-class {\n",
       "font-weight: bold;\n",
       "}\n",
       ".get-type {\n",
       "color: green;\n",
       "font-weight: bold;\n",
       "font-family: monospace;\n",
       "display: block;\n",
       "white-space: pre-wrap;\n",
       "}\n",
       ".show-type {\n",
       "color: green;\n",
       "font-weight: bold;\n",
       "font-family: monospace;\n",
       "margin-left: 1em;\n",
       "}\n",
       ".mono {\n",
       "font-family: monospace;\n",
       "display: block;\n",
       "}\n",
       ".err-msg {\n",
       "color: red;\n",
       "font-style: italic;\n",
       "font-family: monospace;\n",
       "white-space: pre;\n",
       "display: block;\n",
       "}\n",
       "#unshowable {\n",
       "color: red;\n",
       "font-weight: bold;\n",
       "}\n",
       ".err-msg.in.collapse {\n",
       "padding-top: 0.7em;\n",
       "}\n",
       ".highlight-code {\n",
       "white-space: pre;\n",
       "font-family: monospace;\n",
       "}\n",
       ".suggestion-warning { \n",
       "font-weight: bold;\n",
       "color: rgb(200, 130, 0);\n",
       "}\n",
       ".suggestion-error { \n",
       "font-weight: bold;\n",
       "color: red;\n",
       "}\n",
       ".suggestion-name {\n",
       "font-weight: bold;\n",
       "}\n",
       "</style><div class=\"suggestion-name\" style=\"clear:both;\">Use >=></div><div class=\"suggestion-row\" style=\"float: left;\"><div class=\"suggestion-warning\">Found:</div><div class=\"highlight-code\" id=\"haskell\">\\ y -> mul2OrMul3 y >>= (\\ z -> return z)</div></div><div class=\"suggestion-row\" style=\"float: left;\"><div class=\"suggestion-warning\">Why Not:</div><div class=\"highlight-code\" id=\"haskell\">mul2OrMul3 Control.Monad.>=> (\\ z -> return z)</div></div><div class=\"suggestion-name\" style=\"clear:both;\">Avoid lambda</div><div class=\"suggestion-row\" style=\"float: left;\"><div class=\"suggestion-warning\">Found:</div><div class=\"highlight-code\" id=\"haskell\">(\\ z -> return z)</div></div><div class=\"suggestion-row\" style=\"float: left;\"><div class=\"suggestion-warning\">Why Not:</div><div class=\"highlight-code\" id=\"haskell\">return</div></div><div class=\"suggestion-name\" style=\"clear:both;\">Use >=></div><div class=\"suggestion-row\" style=\"float: left;\"><div class=\"suggestion-warning\">Found:</div><div class=\"highlight-code\" id=\"haskell\">\\ y -> mul2OrMul3 y >>= return</div></div><div class=\"suggestion-row\" style=\"float: left;\"><div class=\"suggestion-warning\">Why Not:</div><div class=\"highlight-code\" id=\"haskell\">mul2OrMul3 Control.Monad.>=> return</div></div><div class=\"suggestion-name\" style=\"clear:both;\">Monad law, right identity</div><div class=\"suggestion-row\" style=\"float: left;\"><div class=\"suggestion-warning\">Found:</div><div class=\"highlight-code\" id=\"haskell\">mul2OrMul3 y >>= return</div></div><div class=\"suggestion-row\" style=\"float: left;\"><div class=\"suggestion-warning\">Why Not:</div><div class=\"highlight-code\" id=\"haskell\">mul2OrMul3 y</div></div><div class=\"suggestion-name\" style=\"clear:both;\">Avoid lambda</div><div class=\"suggestion-row\" style=\"float: left;\"><div class=\"suggestion-warning\">Found:</div><div class=\"highlight-code\" id=\"haskell\">(\\ y -> mul2OrMul3 y)</div></div><div class=\"suggestion-row\" style=\"float: left;\"><div class=\"suggestion-warning\">Why Not:</div><div class=\"highlight-code\" id=\"haskell\">mul2OrMul3</div></div>"
      ],
      "text/plain": [
       "Line 2: Use >=>\n",
       "Found:\n",
       "\\ y -> mul2OrMul3 y >>= (\\ z -> return z)\n",
       "Why not:\n",
       "mul2OrMul3 Control.Monad.>=> (\\ z -> return z)Line 3: Avoid lambda\n",
       "Found:\n",
       "(\\ z -> return z)\n",
       "Why not:\n",
       "returnLine 13: Use >=>\n",
       "Found:\n",
       "\\ y -> mul2OrMul3 y >>= return\n",
       "Why not:\n",
       "mul2OrMul3 Control.Monad.>=> returnLine 14: Monad law, right identity\n",
       "Found:\n",
       "mul2OrMul3 y >>= return\n",
       "Why not:\n",
       "mul2OrMul3 yLine 22: Avoid lambda\n",
       "Found:\n",
       "(\\ y -> mul2OrMul3 y)\n",
       "Why not:\n",
       "mul2OrMul3"
      ]
     },
     "metadata": {},
     "output_type": "display_data"
    },
    {
     "data": {
      "text/plain": [
       "[18,27,22,33]"
      ]
     },
     "metadata": {},
     "output_type": "display_data"
    },
    {
     "data": {
      "text/plain": [
       "[18,27,22,33]"
      ]
     },
     "metadata": {},
     "output_type": "display_data"
    },
    {
     "data": {
      "text/plain": [
       "[18,27,22,33]"
      ]
     },
     "metadata": {},
     "output_type": "display_data"
    },
    {
     "data": {
      "text/plain": [
       "[18,27,22,33]"
      ]
     },
     "metadata": {},
     "output_type": "display_data"
    }
   ],
   "source": [
    "f :: Int -> [Int]\n",
    "f x = addOrSub1 x >>= (\\y ->\n",
    "         mul2OrMul3 y >>= ( \\z ->\n",
    "            return z\n",
    "         )\n",
    "      )\n",
    "      \n",
    "f 10\n",
    "\n",
    "-- ИЛИ \n",
    "\n",
    "f :: Int -> [Int]\n",
    "f x = addOrSub1 x >>= (\\y ->\n",
    "         mul2OrMul3 y >>= return -- упрощаем, \\x -> f x эквивалентно f\n",
    "      )\n",
    "      \n",
    "f 10\n",
    "\n",
    "-- ИЛИ \n",
    "\n",
    "f :: Int -> [Int]\n",
    "f x = addOrSub1 x >>= (\\y ->\n",
    "         mul2OrMul3 y -- упрощаем, x >= return эквивалентно x\n",
    "      )\n",
    "      \n",
    "f 10\n",
    "\n",
    "-- ИЛИ\n",
    "\n",
    "f :: Int -> [Int]\n",
    "f x = addOrSub1 x >>= mul2OrMul3 -- упрощаем, \\x -> f x эквивалентно f\n",
    "      \n",
    "f 10\n",
    "\n"
   ]
  },
  {
   "cell_type": "markdown",
   "id": "6c889e10",
   "metadata": {},
   "source": [
    "Предпоследнее в виде `do` выглядит так:"
   ]
  },
  {
   "cell_type": "code",
   "execution_count": 36,
   "id": "63b8a267",
   "metadata": {},
   "outputs": [
    {
     "data": {
      "text/plain": [
       "[18,27,22,33]"
      ]
     },
     "metadata": {},
     "output_type": "display_data"
    }
   ],
   "source": [
    "f :: Int -> [Int]\n",
    "f x = do\n",
    "        y <- addOrSub1 x -- addOrSub1 x -> (\\y -> )\n",
    "        mul2OrMul3 y\n",
    "        \n",
    "f 10"
   ]
  },
  {
   "cell_type": "markdown",
   "id": "3950295f",
   "metadata": {},
   "source": [
    "Подумать, как выглядит последнее через `do` или даже без `do`:"
   ]
  },
  {
   "cell_type": "code",
   "execution_count": 38,
   "id": "2e375db6",
   "metadata": {},
   "outputs": [
    {
     "data": {
      "text/plain": [
       "[18,27,22,33]"
      ]
     },
     "metadata": {},
     "output_type": "display_data"
    }
   ],
   "source": [
    "f :: Int -> [Int]\n",
    "f x = addOrSub1 x >>= mul2OrMul3\n",
    "        \n",
    "f 10"
   ]
  },
  {
   "cell_type": "markdown",
   "id": "7d7d6ea3",
   "metadata": {},
   "source": [
    "С `IO` аналогично, но там бывают print, которые не возвращают интересных нам значений."
   ]
  }
 ],
 "metadata": {
  "kernelspec": {
   "display_name": "Haskell",
   "language": "haskell",
   "name": "haskell"
  },
  "language_info": {
   "codemirror_mode": "ihaskell",
   "file_extension": ".hs",
   "mimetype": "text/x-haskell",
   "name": "haskell",
   "pygments_lexer": "Haskell",
   "version": "8.10.4"
  }
 },
 "nbformat": 4,
 "nbformat_minor": 5
}
