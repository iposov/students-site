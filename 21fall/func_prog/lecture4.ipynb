{
 "cells": [
  {
   "cell_type": "markdown",
   "id": "2d3b28d8",
   "metadata": {},
   "source": [
    "## Тип Tuple\n",
    "Позволяет хранить несколько значений внутри одного значения. Значения внутри, в отличие от списка, могут быть разных типов."
   ]
  },
  {
   "cell_type": "code",
   "execution_count": 8,
   "id": "65ea22f4",
   "metadata": {},
   "outputs": [
    {
     "data": {
      "text/html": [
       "<style>/* Styles used for the Hoogle display in the pager */\n",
       ".hoogle-doc {\n",
       "display: block;\n",
       "padding-bottom: 1.3em;\n",
       "padding-left: 0.4em;\n",
       "}\n",
       ".hoogle-code {\n",
       "display: block;\n",
       "font-family: monospace;\n",
       "white-space: pre;\n",
       "}\n",
       ".hoogle-text {\n",
       "display: block;\n",
       "}\n",
       ".hoogle-name {\n",
       "color: green;\n",
       "font-weight: bold;\n",
       "}\n",
       ".hoogle-head {\n",
       "font-weight: bold;\n",
       "}\n",
       ".hoogle-sub {\n",
       "display: block;\n",
       "margin-left: 0.4em;\n",
       "}\n",
       ".hoogle-package {\n",
       "font-weight: bold;\n",
       "font-style: italic;\n",
       "}\n",
       ".hoogle-module {\n",
       "font-weight: bold;\n",
       "}\n",
       ".hoogle-class {\n",
       "font-weight: bold;\n",
       "}\n",
       ".get-type {\n",
       "color: green;\n",
       "font-weight: bold;\n",
       "font-family: monospace;\n",
       "display: block;\n",
       "white-space: pre-wrap;\n",
       "}\n",
       ".show-type {\n",
       "color: green;\n",
       "font-weight: bold;\n",
       "font-family: monospace;\n",
       "margin-left: 1em;\n",
       "}\n",
       ".mono {\n",
       "font-family: monospace;\n",
       "display: block;\n",
       "}\n",
       ".err-msg {\n",
       "color: red;\n",
       "font-style: italic;\n",
       "font-family: monospace;\n",
       "white-space: pre;\n",
       "display: block;\n",
       "}\n",
       "#unshowable {\n",
       "color: red;\n",
       "font-weight: bold;\n",
       "}\n",
       ".err-msg.in.collapse {\n",
       "padding-top: 0.7em;\n",
       "}\n",
       ".highlight-code {\n",
       "white-space: pre;\n",
       "font-family: monospace;\n",
       "}\n",
       ".suggestion-warning { \n",
       "font-weight: bold;\n",
       "color: rgb(200, 130, 0);\n",
       "}\n",
       ".suggestion-error { \n",
       "font-weight: bold;\n",
       "color: red;\n",
       "}\n",
       ".suggestion-name {\n",
       "font-weight: bold;\n",
       "}\n",
       "</style><div class=\"suggestion-name\" style=\"clear:both;\">Redundant bracket</div><div class=\"suggestion-row\" style=\"float: left;\"><div class=\"suggestion-warning\">Found:</div><div class=\"highlight-code\" id=\"haskell\">(Int)</div></div><div class=\"suggestion-row\" style=\"float: left;\"><div class=\"suggestion-warning\">Why Not:</div><div class=\"highlight-code\" id=\"haskell\">Int</div></div><div class=\"suggestion-name\" style=\"clear:both;\">Redundant bracket</div><div class=\"suggestion-row\" style=\"float: left;\"><div class=\"suggestion-warning\">Found:</div><div class=\"highlight-code\" id=\"haskell\">(42)</div></div><div class=\"suggestion-row\" style=\"float: left;\"><div class=\"suggestion-warning\">Why Not:</div><div class=\"highlight-code\" id=\"haskell\">42</div></div>"
      ],
      "text/plain": [
       "Line 13: Redundant bracket\n",
       "Found:\n",
       "(Int)\n",
       "Why not:\n",
       "IntLine 14: Redundant bracket\n",
       "Found:\n",
       "(42)\n",
       "Why not:\n",
       "42"
      ]
     },
     "metadata": {},
     "output_type": "display_data"
    },
    {
     "data": {
      "text/plain": [
       "(23,\"abc\")"
      ]
     },
     "metadata": {},
     "output_type": "display_data"
    },
    {
     "data": {
      "text/plain": [
       "(42,\"hello\",False)"
      ]
     },
     "metadata": {},
     "output_type": "display_data"
    },
    {
     "data": {
      "text/plain": [
       "()"
      ]
     },
     "metadata": {},
     "output_type": "display_data"
    }
   ],
   "source": [
    "x :: (Int, String)\n",
    "x = (23, \"abc\")\n",
    "x\n",
    "\n",
    "y :: (Int, String, Bool)\n",
    "y = (42, \"hello\", False)\n",
    "y\n",
    "\n",
    "z :: ()  -- 0 значений внутри Tuple\n",
    "z = ()\n",
    "z\n",
    "\n",
    "t :: (Int)  -- эквивалентно типу Int\n",
    "t = (42)  "
   ]
  },
  {
   "cell_type": "markdown",
   "id": "4449acfb",
   "metadata": {},
   "source": [
    "Значение `()` иногда возвращают, когда ничего не хочется возвращать.\n",
    "\n",
    "Как разбирать значения типа tuple на составляющие? Через сопоставление с образцом. Например, мы работаем с точками типа (Float, Float), т.е. у нас две координаты у точки. Давайте посчитаем что-то про точки:"
   ]
  },
  {
   "cell_type": "code",
   "execution_count": 9,
   "id": "4a1a6bb5",
   "metadata": {},
   "outputs": [
    {
     "data": {
      "text/plain": [
       "5.0"
      ]
     },
     "metadata": {},
     "output_type": "display_data"
    }
   ],
   "source": [
    "distTo0 :: (Float, Float) -> Float\n",
    "distTo0 (x, y) = sqrt(x*x + y*y)\n",
    "\n",
    "distTo0 (3, 4)"
   ]
  },
  {
   "cell_type": "markdown",
   "id": "ce0012de",
   "metadata": {},
   "source": [
    "функция distTo0 вызывается, на самом деле, от одного аргумента типа (Float, Float)."
   ]
  },
  {
   "cell_type": "code",
   "execution_count": 11,
   "id": "35846c4c",
   "metadata": {},
   "outputs": [
    {
     "data": {
      "text/plain": [
       "4.0"
      ]
     },
     "metadata": {},
     "output_type": "display_data"
    }
   ],
   "source": [
    "dist :: (Float, Float) -> (Float, Float) -> Float\n",
    "dist (x1, y1) (x2, y2) = sqrt(dx*dx + dy*dy) where\n",
    "                                               dx = x2 - x1\n",
    "                                               dy = y2 - y1\n",
    "                                               \n",
    "dist (1, 0) (5, 0)"
   ]
  },
  {
   "cell_type": "markdown",
   "id": "ab4fac4b",
   "metadata": {},
   "source": [
    "Есть встроенные функции для работы с Tuple: `fst` и `snd`:"
   ]
  },
  {
   "cell_type": "code",
   "execution_count": 16,
   "id": "c958e2e0",
   "metadata": {},
   "outputs": [
    {
     "data": {
      "text/plain": [
       "10"
      ]
     },
     "metadata": {},
     "output_type": "display_data"
    },
    {
     "data": {
      "text/plain": [
       "\"abc\""
      ]
     },
     "metadata": {},
     "output_type": "display_data"
    },
    {
     "data": {
      "text/plain": [
       "(\"abc\",10)"
      ]
     },
     "metadata": {},
     "output_type": "display_data"
    }
   ],
   "source": [
    "fst' :: (a, b) -> a\n",
    "fst' (x, _) = x\n",
    "\n",
    "snd' :: (a, b) -> b\n",
    "snd' (_, y) = y\n",
    "\n",
    "swap :: (a, b) -> (b, a)\n",
    "swap (x, y) = (y, x)\n",
    "\n",
    "fst' (10, \"abc\")\n",
    "snd' (10, \"abc\")\n",
    "swap (10, \"abc\")"
   ]
  },
  {
   "cell_type": "markdown",
   "id": "f8dcaea8",
   "metadata": {},
   "source": [
    "Можно использовать списки тьюплов. Для работы с ними есть ф-ия zip и unzip:"
   ]
  },
  {
   "cell_type": "code",
   "execution_count": 19,
   "id": "a16bb446",
   "metadata": {},
   "outputs": [
    {
     "data": {
      "text/plain": [
       "[(1,True),(2,False),(3,False),(4,True)]"
      ]
     },
     "metadata": {},
     "output_type": "display_data"
    },
    {
     "data": {
      "text/plain": [
       "[(1,True),(2,False),(3,False),(4,True)]"
      ]
     },
     "metadata": {},
     "output_type": "display_data"
    }
   ],
   "source": [
    "-- zip :: [a] -> [b] -> [(a, b)]\n",
    "zip [1, 2, 3, 4] [True, False, False, True]\n",
    "\n",
    "zip' :: [a] -> [b] -> [(a, b)]\n",
    "zip' [] _ = []\n",
    "zip' _ [] = []\n",
    "zip' (h1:t1) (h2:t2) = (h1, h2) : zip' t1 t2\n",
    "\n",
    "zip' [1, 2, 3, 4] [True, False, False, True]"
   ]
  },
  {
   "cell_type": "code",
   "execution_count": 20,
   "id": "8ce951cd",
   "metadata": {},
   "outputs": [
    {
     "data": {
      "text/plain": [
       "([2,3,10],[3,4,5])"
      ]
     },
     "metadata": {},
     "output_type": "display_data"
    }
   ],
   "source": [
    "-- unzip :: [(a, b)] -> ([a], [b])\n",
    "unzip [(2, 3), (3, 4), (10, 5)]"
   ]
  },
  {
   "cell_type": "markdown",
   "id": "7420e5d3",
   "metadata": {},
   "source": [
    "`zipWith` более общая, чем zip, она позволяет дополнительно указать, как объединять пару элементов списоков."
   ]
  },
  {
   "cell_type": "code",
   "execution_count": 21,
   "id": "941a792b",
   "metadata": {},
   "outputs": [
    {
     "data": {
      "text/html": [
       "<style>/* Styles used for the Hoogle display in the pager */\n",
       ".hoogle-doc {\n",
       "display: block;\n",
       "padding-bottom: 1.3em;\n",
       "padding-left: 0.4em;\n",
       "}\n",
       ".hoogle-code {\n",
       "display: block;\n",
       "font-family: monospace;\n",
       "white-space: pre;\n",
       "}\n",
       ".hoogle-text {\n",
       "display: block;\n",
       "}\n",
       ".hoogle-name {\n",
       "color: green;\n",
       "font-weight: bold;\n",
       "}\n",
       ".hoogle-head {\n",
       "font-weight: bold;\n",
       "}\n",
       ".hoogle-sub {\n",
       "display: block;\n",
       "margin-left: 0.4em;\n",
       "}\n",
       ".hoogle-package {\n",
       "font-weight: bold;\n",
       "font-style: italic;\n",
       "}\n",
       ".hoogle-module {\n",
       "font-weight: bold;\n",
       "}\n",
       ".hoogle-class {\n",
       "font-weight: bold;\n",
       "}\n",
       ".get-type {\n",
       "color: green;\n",
       "font-weight: bold;\n",
       "font-family: monospace;\n",
       "display: block;\n",
       "white-space: pre-wrap;\n",
       "}\n",
       ".show-type {\n",
       "color: green;\n",
       "font-weight: bold;\n",
       "font-family: monospace;\n",
       "margin-left: 1em;\n",
       "}\n",
       ".mono {\n",
       "font-family: monospace;\n",
       "display: block;\n",
       "}\n",
       ".err-msg {\n",
       "color: red;\n",
       "font-style: italic;\n",
       "font-family: monospace;\n",
       "white-space: pre;\n",
       "display: block;\n",
       "}\n",
       "#unshowable {\n",
       "color: red;\n",
       "font-weight: bold;\n",
       "}\n",
       ".err-msg.in.collapse {\n",
       "padding-top: 0.7em;\n",
       "}\n",
       ".highlight-code {\n",
       "white-space: pre;\n",
       "font-family: monospace;\n",
       "}\n",
       ".suggestion-warning { \n",
       "font-weight: bold;\n",
       "color: rgb(200, 130, 0);\n",
       "}\n",
       ".suggestion-error { \n",
       "font-weight: bold;\n",
       "color: red;\n",
       "}\n",
       ".suggestion-name {\n",
       "font-weight: bold;\n",
       "}\n",
       "</style><span class='get-type'>zipWith :: forall a b c. (a -> b -> c) -> [a] -> [b] -> [c]</span>"
      ],
      "text/plain": [
       "zipWith :: forall a b c. (a -> b -> c) -> [a] -> [b] -> [c]"
      ]
     },
     "metadata": {},
     "output_type": "display_data"
    }
   ],
   "source": [
    ":type zipWith"
   ]
  },
  {
   "cell_type": "code",
   "execution_count": 24,
   "id": "53d9e896",
   "metadata": {},
   "outputs": [
    {
     "data": {
      "text/plain": [
       "[11,22,33,44]"
      ]
     },
     "metadata": {},
     "output_type": "display_data"
    }
   ],
   "source": [
    "-- zipWith (\\x y -> x + y) [1, 2, 3, 4] [10, 20, 30, 40]\n",
    "zipWith (+) [1, 2, 3, 4] [10, 20, 30, 40]"
   ]
  },
  {
   "cell_type": "markdown",
   "id": "2936ae7e",
   "metadata": {},
   "source": [
    "# Частичное применение функции\n",
    "Если есть какая-то функция, можно вызвать ее только с частью аргументов, тогда получится функция, которая хочет получить оставшиеся аргументы:"
   ]
  },
  {
   "cell_type": "code",
   "execution_count": 33,
   "id": "c23c0dd8",
   "metadata": {},
   "outputs": [
    {
     "data": {
      "text/plain": [
       "123"
      ]
     },
     "metadata": {},
     "output_type": "display_data"
    },
    {
     "data": {
      "text/plain": [
       "156"
      ]
     },
     "metadata": {},
     "output_type": "display_data"
    },
    {
     "data": {
      "text/plain": [
       "148"
      ]
     },
     "metadata": {},
     "output_type": "display_data"
    },
    {
     "data": {
      "text/plain": [
       "128"
      ]
     },
     "metadata": {},
     "output_type": "display_data"
    },
    {
     "data": {
      "text/plain": [
       "125"
      ]
     },
     "metadata": {},
     "output_type": "display_data"
    }
   ],
   "source": [
    "f :: Int -> Int -> Int -> Int\n",
    "f x y z = 100 * x + 10 * y + z\n",
    "f 1 2 3\n",
    "\n",
    "g = f 1  -- эта функция такая g y z = f 1 y z\n",
    "g 5 6\n",
    "g 4 8\n",
    "\n",
    "h = f 1 2\n",
    "h 8  -- f 1 2 8\n",
    "h 5  -- f 1 2 5"
   ]
  },
  {
   "cell_type": "markdown",
   "id": "b15df07a",
   "metadata": {},
   "source": [
    "Можно считать, что в Haskell все функции на самом деле имеют ровно один аргумент:\n",
    "`f` функция одного аргумента, `f 1` возвращает новую функцию `g`, которая тоже требует Int аргумента.\n",
    "`g` функция оного аргумента. `g 2` — это очередная функция `h`, которая опять требует Int аргумент.\n",
    "`h` функция одного аргумента. Она получает Int аргумент, и приписывает его в конец числа `12`:"
   ]
  },
  {
   "cell_type": "code",
   "execution_count": 35,
   "id": "a0b94c40",
   "metadata": {},
   "outputs": [
    {
     "data": {
      "text/plain": [
       "123"
      ]
     },
     "metadata": {},
     "output_type": "display_data"
    },
    {
     "data": {
      "text/plain": [
       "124"
      ]
     },
     "metadata": {},
     "output_type": "display_data"
    }
   ],
   "source": [
    "f x y z = 100*x + 10*y + z\n",
    "g = f 1\n",
    "h = g 2\n",
    "h 3\n",
    "h 4"
   ]
  },
  {
   "cell_type": "markdown",
   "id": "0337b362",
   "metadata": {},
   "source": [
    "Получается, когда мы пишем `f 1 2 3`, мы имеем в виду `((f 1) 2) 3`.\n",
    "Это же объясняет, почему тип функции записывается через `->`:\n",
    "\n",
    "```\n",
    "h :: Int -> Int\n",
    "g :: Int -> (Int -> Int)\n",
    "f :: Int -> (Int -> (Int -> Int))\n",
    "```"
   ]
  },
  {
   "cell_type": "code",
   "execution_count": 36,
   "id": "634bdbdb",
   "metadata": {},
   "outputs": [],
   "source": [
    "f :: Int -> (Int -> (Int -> Int)) -- корректная запись типа\n",
    "f x y z = 100*x + 10*y + z"
   ]
  },
  {
   "cell_type": "markdown",
   "id": "92036604",
   "metadata": {},
   "source": [
    "Типовый оператор `->` правоассоциативен. Т.е. a -> b -> c - на самом деле это a -> (b -> c)\n",
    "\n",
    "Сравните с `10 - 20 - 45` имеется в виду `(10 - 20) - 45`\n",
    "\n",
    "Давайте еще для понимания посмотрим на похожие типы:"
   ]
  },
  {
   "cell_type": "code",
   "execution_count": 40,
   "id": "f775e609",
   "metadata": {},
   "outputs": [
    {
     "data": {
      "text/plain": [
       "1"
      ]
     },
     "metadata": {},
     "output_type": "display_data"
    },
    {
     "data": {
      "text/plain": [
       "5"
      ]
     },
     "metadata": {},
     "output_type": "display_data"
    },
    {
     "data": {
      "text/plain": [
       "1"
      ]
     },
     "metadata": {},
     "output_type": "display_data"
    }
   ],
   "source": [
    "fun :: Int -> (Int -> Int) -- или просто Int -> Int -> Int\n",
    "fun x y = x + 3 * y\n",
    "\n",
    "fun2 :: (Int -> Int) -> Int -- это совсем не то же самое Int -> Int -> Int\n",
    "fun2 op = op 0\n",
    "\n",
    "fun2 (+1)\n",
    "fun2 (\\x -> x * 10 + 5)\n",
    "fun2 (2^) -- (\\x -> 2 ^ x)"
   ]
  },
  {
   "cell_type": "markdown",
   "id": "8b70e58f",
   "metadata": {},
   "source": [
    "Section `(+2)`, `(/2)`, `(2/)` - это частный случай частичного применения функции. В section можно указать и первый, и второй аргумент функции. В примерах выше мы могли указать только первый аргумент:\n",
    "`f 1`"
   ]
  },
  {
   "cell_type": "code",
   "execution_count": 48,
   "id": "98805680",
   "metadata": {},
   "outputs": [],
   "source": [
    "f :: Int -> Int -> Int -> Int\n",
    "f x y z = 100*x + 10*y + z\n",
    "g = f 1 -- g = \\y z -> f 1 y z\n",
    "-- g = \\x z -> f x 2 y это частичное применение второй аргумент"
   ]
  },
  {
   "cell_type": "markdown",
   "id": "10992f8a",
   "metadata": {},
   "source": [
    "Второй вариант сложнее записать коротко. Но можно:"
   ]
  },
  {
   "cell_type": "code",
   "execution_count": 54,
   "id": "76488d27",
   "metadata": {},
   "outputs": [
    {
     "data": {
      "text/plain": [
       "123"
      ]
     },
     "metadata": {},
     "output_type": "display_data"
    },
    {
     "data": {
      "text/plain": [
       "456"
      ]
     },
     "metadata": {},
     "output_type": "display_data"
    },
    {
     "data": {
      "text/plain": [
       "426"
      ]
     },
     "metadata": {},
     "output_type": "display_data"
    }
   ],
   "source": [
    "f 1 2 3\n",
    "-- `f` позволяет пользоваться функцией инфиксно\n",
    "(4 `f` 5) 6\n",
    "g = (`f` 2) -- позволило мне сделать частичное применение f,\n",
    "            -- указав только второй аргумент\n",
    "g 4 6"
   ]
  },
  {
   "cell_type": "markdown",
   "id": "40519530",
   "metadata": {},
   "source": [
    "Полезные примеры частичного применения:"
   ]
  },
  {
   "cell_type": "code",
   "execution_count": 56,
   "id": "aa9144a1",
   "metadata": {},
   "outputs": [
    {
     "data": {
      "text/plain": [
       "[2,3,4]"
      ]
     },
     "metadata": {},
     "output_type": "display_data"
    },
    {
     "data": {
      "text/plain": [
       "[11,21,31]"
      ]
     },
     "metadata": {},
     "output_type": "display_data"
    }
   ],
   "source": [
    "-- map :: (a -> b) -> [a] -> [b]\n",
    "inc1 = map (+1)\n",
    "inc1 [1, 2, 3]\n",
    "inc1 [10, 20, 30]"
   ]
  },
  {
   "cell_type": "markdown",
   "id": "318320a7",
   "metadata": {},
   "source": [
    "Как бы мы записали функцию `inc1`, не зная про частичное применение:"
   ]
  },
  {
   "cell_type": "code",
   "execution_count": null,
   "id": "ec485ac2",
   "metadata": {},
   "outputs": [],
   "source": [
    "inc1 :: [Int] -> [Int]\n",
    "inc1 list = map (+1) list -- сравним с inc1 = map (+1)"
   ]
  },
  {
   "cell_type": "markdown",
   "id": "85522264",
   "metadata": {},
   "source": [
    "Вывод, при определении функции можно сокращать на одинаковый аргумент в конце.\n",
    "\n",
    "Пример:"
   ]
  },
  {
   "cell_type": "code",
   "execution_count": 57,
   "id": "4647e99b",
   "metadata": {},
   "outputs": [
    {
     "data": {
      "text/html": [
       "<style>/* Styles used for the Hoogle display in the pager */\n",
       ".hoogle-doc {\n",
       "display: block;\n",
       "padding-bottom: 1.3em;\n",
       "padding-left: 0.4em;\n",
       "}\n",
       ".hoogle-code {\n",
       "display: block;\n",
       "font-family: monospace;\n",
       "white-space: pre;\n",
       "}\n",
       ".hoogle-text {\n",
       "display: block;\n",
       "}\n",
       ".hoogle-name {\n",
       "color: green;\n",
       "font-weight: bold;\n",
       "}\n",
       ".hoogle-head {\n",
       "font-weight: bold;\n",
       "}\n",
       ".hoogle-sub {\n",
       "display: block;\n",
       "margin-left: 0.4em;\n",
       "}\n",
       ".hoogle-package {\n",
       "font-weight: bold;\n",
       "font-style: italic;\n",
       "}\n",
       ".hoogle-module {\n",
       "font-weight: bold;\n",
       "}\n",
       ".hoogle-class {\n",
       "font-weight: bold;\n",
       "}\n",
       ".get-type {\n",
       "color: green;\n",
       "font-weight: bold;\n",
       "font-family: monospace;\n",
       "display: block;\n",
       "white-space: pre-wrap;\n",
       "}\n",
       ".show-type {\n",
       "color: green;\n",
       "font-weight: bold;\n",
       "font-family: monospace;\n",
       "margin-left: 1em;\n",
       "}\n",
       ".mono {\n",
       "font-family: monospace;\n",
       "display: block;\n",
       "}\n",
       ".err-msg {\n",
       "color: red;\n",
       "font-style: italic;\n",
       "font-family: monospace;\n",
       "white-space: pre;\n",
       "display: block;\n",
       "}\n",
       "#unshowable {\n",
       "color: red;\n",
       "font-weight: bold;\n",
       "}\n",
       ".err-msg.in.collapse {\n",
       "padding-top: 0.7em;\n",
       "}\n",
       ".highlight-code {\n",
       "white-space: pre;\n",
       "font-family: monospace;\n",
       "}\n",
       ".suggestion-warning { \n",
       "font-weight: bold;\n",
       "color: rgb(200, 130, 0);\n",
       "}\n",
       ".suggestion-error { \n",
       "font-weight: bold;\n",
       "color: red;\n",
       "}\n",
       ".suggestion-name {\n",
       "font-weight: bold;\n",
       "}\n",
       "</style><div class=\"suggestion-name\" style=\"clear:both;\">Eta reduce</div><div class=\"suggestion-row\" style=\"float: left;\"><div class=\"suggestion-warning\">Found:</div><div class=\"highlight-code\" id=\"haskell\">filterOdds list = filter (\\ x -> x `mod` 2 == 1) list</div></div><div class=\"suggestion-row\" style=\"float: left;\"><div class=\"suggestion-warning\">Why Not:</div><div class=\"highlight-code\" id=\"haskell\">filterOdds = filter (\\ x -> x `mod` 2 == 1)</div></div>"
      ],
      "text/plain": [
       "Line 2: Eta reduce\n",
       "Found:\n",
       "filterOdds list = filter (\\ x -> x `mod` 2 == 1) list\n",
       "Why not:\n",
       "filterOdds = filter (\\ x -> x `mod` 2 == 1)"
      ]
     },
     "metadata": {},
     "output_type": "display_data"
    },
    {
     "data": {
      "text/plain": [
       "[1,3,5]"
      ]
     },
     "metadata": {},
     "output_type": "display_data"
    }
   ],
   "source": [
    "filterOdds :: [Int] -> [Int]\n",
    "filterOdds list = filter (\\x -> x `mod` 2 == 1) list --можно mod x 2\n",
    "\n",
    "filterOdds [1, 2, 3, 4, 5]"
   ]
  },
  {
   "cell_type": "markdown",
   "id": "ad5a85e6",
   "metadata": {},
   "source": [
    "Предалгается убрать list в конце:"
   ]
  },
  {
   "cell_type": "code",
   "execution_count": 58,
   "id": "fed705f4",
   "metadata": {},
   "outputs": [
    {
     "data": {
      "text/plain": [
       "[1,3,5]"
      ]
     },
     "metadata": {},
     "output_type": "display_data"
    }
   ],
   "source": [
    "filterOdds :: [Int] -> [Int]\n",
    "filterOdds = filter (\\x -> x `mod` 2 == 1) --можно mod x 2\n",
    "\n",
    "filterOdds [1, 2, 3, 4, 5]"
   ]
  },
  {
   "cell_type": "code",
   "execution_count": 59,
   "id": "2790ada1",
   "metadata": {},
   "outputs": [],
   "source": [
    "filterOdds = filter (\\x -> x `mod` 2 == 1)"
   ]
  },
  {
   "cell_type": "code",
   "execution_count": 60,
   "id": "602bbfb8",
   "metadata": {},
   "outputs": [
    {
     "data": {
      "text/html": [
       "<style>/* Styles used for the Hoogle display in the pager */\n",
       ".hoogle-doc {\n",
       "display: block;\n",
       "padding-bottom: 1.3em;\n",
       "padding-left: 0.4em;\n",
       "}\n",
       ".hoogle-code {\n",
       "display: block;\n",
       "font-family: monospace;\n",
       "white-space: pre;\n",
       "}\n",
       ".hoogle-text {\n",
       "display: block;\n",
       "}\n",
       ".hoogle-name {\n",
       "color: green;\n",
       "font-weight: bold;\n",
       "}\n",
       ".hoogle-head {\n",
       "font-weight: bold;\n",
       "}\n",
       ".hoogle-sub {\n",
       "display: block;\n",
       "margin-left: 0.4em;\n",
       "}\n",
       ".hoogle-package {\n",
       "font-weight: bold;\n",
       "font-style: italic;\n",
       "}\n",
       ".hoogle-module {\n",
       "font-weight: bold;\n",
       "}\n",
       ".hoogle-class {\n",
       "font-weight: bold;\n",
       "}\n",
       ".get-type {\n",
       "color: green;\n",
       "font-weight: bold;\n",
       "font-family: monospace;\n",
       "display: block;\n",
       "white-space: pre-wrap;\n",
       "}\n",
       ".show-type {\n",
       "color: green;\n",
       "font-weight: bold;\n",
       "font-family: monospace;\n",
       "margin-left: 1em;\n",
       "}\n",
       ".mono {\n",
       "font-family: monospace;\n",
       "display: block;\n",
       "}\n",
       ".err-msg {\n",
       "color: red;\n",
       "font-style: italic;\n",
       "font-family: monospace;\n",
       "white-space: pre;\n",
       "display: block;\n",
       "}\n",
       "#unshowable {\n",
       "color: red;\n",
       "font-weight: bold;\n",
       "}\n",
       ".err-msg.in.collapse {\n",
       "padding-top: 0.7em;\n",
       "}\n",
       ".highlight-code {\n",
       "white-space: pre;\n",
       "font-family: monospace;\n",
       "}\n",
       ".suggestion-warning { \n",
       "font-weight: bold;\n",
       "color: rgb(200, 130, 0);\n",
       "}\n",
       ".suggestion-error { \n",
       "font-weight: bold;\n",
       "color: red;\n",
       "}\n",
       ".suggestion-name {\n",
       "font-weight: bold;\n",
       "}\n",
       "</style><span class='get-type'>filterOdds :: forall a. Integral a => [a] -> [a]</span>"
      ],
      "text/plain": [
       "filterOdds :: forall a. Integral a => [a] -> [a]"
      ]
     },
     "metadata": {},
     "output_type": "display_data"
    }
   ],
   "source": [
    ":type filterOdds"
   ]
  }
 ],
 "metadata": {
  "kernelspec": {
   "display_name": "Haskell",
   "language": "haskell",
   "name": "haskell"
  },
  "language_info": {
   "codemirror_mode": "ihaskell",
   "file_extension": ".hs",
   "mimetype": "text/x-haskell",
   "name": "haskell",
   "pygments_lexer": "Haskell",
   "version": "8.10.4"
  }
 },
 "nbformat": 4,
 "nbformat_minor": 5
}
