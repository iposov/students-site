{
 "cells": [
  {
   "cell_type": "markdown",
   "id": "66cdb58c",
   "metadata": {},
   "source": [
    "## Напоминание do-нотация"
   ]
  },
  {
   "cell_type": "code",
   "execution_count": 1,
   "id": "0e28b2e2",
   "metadata": {},
   "outputs": [
    {
     "data": {
      "text/plain": [
       "Just 7"
      ]
     },
     "metadata": {},
     "output_type": "display_data"
    }
   ],
   "source": [
    "x = Just 3\n",
    "y = Just 4\n",
    "-- z = x + y\n",
    "\n",
    "z = do\n",
    "      a <- x  -- как будто беру значение изнутри x\n",
    "      b <- y\n",
    "      return $ a + b -- \"возвращаю\" значение, завернутое в монаду\n",
    "\n",
    "z"
   ]
  },
  {
   "cell_type": "markdown",
   "id": "19e111fb",
   "metadata": {},
   "source": [
    "На самом деле do-нотация это синтаксический сахар:"
   ]
  },
  {
   "cell_type": "code",
   "execution_count": 7,
   "id": "a79c799c",
   "metadata": {},
   "outputs": [
    {
     "data": {
      "text/plain": [
       "Just 7"
      ]
     },
     "metadata": {},
     "output_type": "display_data"
    }
   ],
   "source": [
    "x = Just 3\n",
    "y = Just 4\n",
    "-- z = x + y\n",
    "-- заменяем  a <- x на x >>= (\\a -> )\n",
    "z = x >>= (\\a -> \n",
    "    -- заменяем  b <- y на y >>= (\\a -> )\n",
    "             y >>= (\\b -> return $ a + b)\n",
    "    ) \n",
    "\n",
    "z"
   ]
  },
  {
   "cell_type": "markdown",
   "id": "0c20006d",
   "metadata": {},
   "source": [
    "Вспомним функцию `x >>= f`, она берет \"значение внутри монады\" `x`, и применяет к нему функцию `f`. Функция `f` должна сама возвращать значение в монаде.\n",
    "\n",
    "Попробуем написать эту функцию для `Maybe`"
   ]
  },
  {
   "cell_type": "code",
   "execution_count": 8,
   "id": "408ee749",
   "metadata": {},
   "outputs": [
    {
     "data": {
      "text/plain": [
       "Just 7"
      ]
     },
     "metadata": {},
     "output_type": "display_data"
    }
   ],
   "source": [
    "(>>=*) :: Maybe a -> (a -> Maybe b) -> Maybe b\n",
    "Nothing >>=* _ = Nothing\n",
    "(Just x) >>=* f = f x\n",
    "\n",
    "x = Just 3\n",
    "y = Just 4\n",
    "-- z = x + y\n",
    "-- заменяем  a <- x на x >>= (\\a -> )\n",
    "z = x >>=* (\\a -> \n",
    "    -- заменяем  b <- y на y >>= (\\a -> )\n",
    "             y >>=* (\\b -> return $ a + b)\n",
    "    ) \n",
    "\n",
    "z"
   ]
  },
  {
   "cell_type": "markdown",
   "id": "afb3f90b",
   "metadata": {},
   "source": [
    "## IO\n",
    "\n",
    "Тип `IO a` означает значение типа `a`, которое в данный момент недоступно, но будет доступно после выполнения некоторых операций ввода/вывода. (чтение с клавиатуры, из файла)\n",
    "\n",
    "Часто операции ввода/вывода не возвращают интересных значений, например, так устроен `print`. Он имеет побочный эффект — печать на экране, но нам не нужен результат. Тогда в качестве типа a используется тип Unit, фактически это кортеж из 0 элементов: `()`\n",
    "`(a, b)`, `(a, b, c)`\n",
    "\n",
    "Тип `()` содержит всего одно значение, оно тоже записывается `()`.\n",
    "(сравните тип `(Int, String)` и значение `(42, \"hello\")`.\n",
    "\n",
    "Функции типа `print`, и функция `Main` часто имеют тип `IO ()`."
   ]
  },
  {
   "cell_type": "code",
   "execution_count": 11,
   "id": "0c0e0a08",
   "metadata": {},
   "outputs": [
    {
     "ename": "",
     "evalue": "",
     "output_type": "error",
     "traceback": [
      "<stdin>: hGetLine: end of file"
     ]
    }
   ],
   "source": [
    "z = do\n",
    "       x <- readLn \n",
    "       y <- readLn\n",
    "       return $ x + y\n",
    "\n",
    "-- z = do {x <- readLn ; y <- readLn ; return $ x + y}\n",
    "\n",
    "z"
   ]
  },
  {
   "cell_type": "markdown",
   "id": "0aa3326a",
   "metadata": {},
   "source": [
    "Попробуем прочитать текст из файла:"
   ]
  },
  {
   "cell_type": "code",
   "execution_count": 16,
   "id": "5b82bcd4",
   "metadata": {},
   "outputs": [
    {
     "ename": "",
     "evalue": "",
     "output_type": "error",
     "traceback": [
      "a.txt: hGetContents: illegal operation (delayed read on closed handle)"
     ]
    }
   ],
   "source": [
    "import System.IO\n",
    "\n",
    "readHello :: IO String\n",
    "readHello = withFile \"a.txt\" ReadMode (\\h -> \n",
    "             do\n",
    "              text <- hGetContents h\n",
    "              return $ \"file contents: \" ++ text\n",
    "             )\n",
    "\n",
    "readHello"
   ]
  },
  {
   "cell_type": "code",
   "execution_count": 32,
   "id": "37b94788",
   "metadata": {},
   "outputs": [
    {
     "ename": "",
     "evalue": "",
     "output_type": "error",
     "traceback": [
      "a.txt: hGetContents: illegal operation (delayed read on closed handle)"
     ]
    }
   ],
   "source": [
    "import System.IO\n",
    "\n",
    "readHello :: IO String\n",
    "readHello = do\n",
    "               handle <- openFile \"a.txt\" ReadMode\n",
    "               putStr \"прочитаем содержимое файла\\n\"\n",
    "               text <- hGetContents handle\n",
    "               putStr \"закроем файл\\n\"\n",
    "               -- hClose handle\n",
    "               return $ \"file contents: \" ++ text\n",
    "               \n",
    "do\n",
    "   text <- readHello\n",
    "   putStr text -- putStr только для строк\n",
    "   -- putStr 42 -- нельзя\n",
    "   print 42 -- сначала вызывает show, потом putStr"
   ]
  },
  {
   "cell_type": "markdown",
   "id": "7bf07f3d",
   "metadata": {},
   "source": [
    "Как в do нотации работают строки без `<-`, например, что происходит в этом случае:"
   ]
  },
  {
   "cell_type": "code",
   "execution_count": 34,
   "id": "50da050a",
   "metadata": {},
   "outputs": [
    {
     "data": {
      "text/plain": [
       "hello\n",
       "world"
      ]
     },
     "metadata": {},
     "output_type": "display_data"
    }
   ],
   "source": [
    "do\n",
    "   putStr \"hello\\n\"\n",
    "   putStr \"world\\n\""
   ]
  },
  {
   "cell_type": "markdown",
   "id": "362d47ff",
   "metadata": {},
   "source": [
    "Это преобразуется в"
   ]
  },
  {
   "cell_type": "code",
   "execution_count": 36,
   "id": "a4b164d3",
   "metadata": {},
   "outputs": [
    {
     "data": {
      "text/html": [
       "<style>/* Styles used for the Hoogle display in the pager */\n",
       ".hoogle-doc {\n",
       "display: block;\n",
       "padding-bottom: 1.3em;\n",
       "padding-left: 0.4em;\n",
       "}\n",
       ".hoogle-code {\n",
       "display: block;\n",
       "font-family: monospace;\n",
       "white-space: pre;\n",
       "}\n",
       ".hoogle-text {\n",
       "display: block;\n",
       "}\n",
       ".hoogle-name {\n",
       "color: green;\n",
       "font-weight: bold;\n",
       "}\n",
       ".hoogle-head {\n",
       "font-weight: bold;\n",
       "}\n",
       ".hoogle-sub {\n",
       "display: block;\n",
       "margin-left: 0.4em;\n",
       "}\n",
       ".hoogle-package {\n",
       "font-weight: bold;\n",
       "font-style: italic;\n",
       "}\n",
       ".hoogle-module {\n",
       "font-weight: bold;\n",
       "}\n",
       ".hoogle-class {\n",
       "font-weight: bold;\n",
       "}\n",
       ".get-type {\n",
       "color: green;\n",
       "font-weight: bold;\n",
       "font-family: monospace;\n",
       "display: block;\n",
       "white-space: pre-wrap;\n",
       "}\n",
       ".show-type {\n",
       "color: green;\n",
       "font-weight: bold;\n",
       "font-family: monospace;\n",
       "margin-left: 1em;\n",
       "}\n",
       ".mono {\n",
       "font-family: monospace;\n",
       "display: block;\n",
       "}\n",
       ".err-msg {\n",
       "color: red;\n",
       "font-style: italic;\n",
       "font-family: monospace;\n",
       "white-space: pre;\n",
       "display: block;\n",
       "}\n",
       "#unshowable {\n",
       "color: red;\n",
       "font-weight: bold;\n",
       "}\n",
       ".err-msg.in.collapse {\n",
       "padding-top: 0.7em;\n",
       "}\n",
       ".highlight-code {\n",
       "white-space: pre;\n",
       "font-family: monospace;\n",
       "}\n",
       ".suggestion-warning { \n",
       "font-weight: bold;\n",
       "color: rgb(200, 130, 0);\n",
       "}\n",
       ".suggestion-error { \n",
       "font-weight: bold;\n",
       "color: red;\n",
       "}\n",
       ".suggestion-name {\n",
       "font-weight: bold;\n",
       "}\n",
       "</style><div class=\"suggestion-name\" style=\"clear:both;\">Use >></div><div class=\"suggestion-row\" style=\"float: left;\"><div class=\"suggestion-warning\">Found:</div><div class=\"highlight-code\" id=\"haskell\">putStr \"hello\\n\" >>= (\\ _ -> putStr \"world\\n\")</div></div><div class=\"suggestion-row\" style=\"float: left;\"><div class=\"suggestion-warning\">Why Not:</div><div class=\"highlight-code\" id=\"haskell\">putStr \"hello\\n\" >> putStr \"world\\n\"</div></div>"
      ],
      "text/plain": [
       "Line 1: Use >>\n",
       "Found:\n",
       "putStr \"hello\\n\" >>= (\\ _ -> putStr \"world\\n\")\n",
       "Why not:\n",
       "putStr \"hello\\n\" >> putStr \"world\\n\""
      ]
     },
     "metadata": {},
     "output_type": "display_data"
    },
    {
     "data": {
      "text/plain": [
       "hello\n",
       "world"
      ]
     },
     "metadata": {},
     "output_type": "display_data"
    }
   ],
   "source": [
    "putStr \"hello\\n\" >>= (\\_ -> \n",
    "   putStr \"world\\n\")"
   ]
  },
  {
   "cell_type": "markdown",
   "id": "72efa3f8",
   "metadata": {},
   "source": [
    "На самом деле для опрерации `x >>= (\\_ -> y)` есть операция `x >> y`. Получается:"
   ]
  },
  {
   "cell_type": "code",
   "execution_count": 37,
   "id": "6a3814ef",
   "metadata": {},
   "outputs": [
    {
     "data": {
      "text/plain": [
       "hello\n",
       "world"
      ]
     },
     "metadata": {},
     "output_type": "display_data"
    }
   ],
   "source": [
    "putStr \"hello\\n\" >> putStr \"world\\n\" "
   ]
  },
  {
   "cell_type": "markdown",
   "id": "987fca63",
   "metadata": {},
   "source": [
    "## Сделаем самостоятельно монаду Random\n",
    "\n",
    "Монада `Random a` будет содержать случайное значение типа `a`. В принципе, такой тип уже есть в Haskell, но он завязан на IO.\n",
    "\n",
    "Будем генерировать случайные числа с помощью «линейный конгруэнтный генератор». Идея такова, что есть текущее случайное значение, и мы можем на его основе вычислить следующее значение:\n",
    "\n",
    "$x_n = (ax_{n-1} + c) \\mod m$\n",
    "\n",
    "При этом $a$, $c$, $m$ фиксированы, $x_0$ задаётся пользователем.\n",
    "\n",
    "Можно ли в Haskell сделать генератор случайных чисел такого типа?"
   ]
  },
  {
   "cell_type": "code",
   "execution_count": null,
   "id": "fe995afd",
   "metadata": {},
   "outputs": [],
   "source": [
    "let gen = createGenerator\n",
    "let a = generate gen\n",
    "    b = generate gen in a + b"
   ]
  },
  {
   "cell_type": "markdown",
   "id": "f6130e31",
   "metadata": {},
   "source": [
    "В этом коде результат для a и b будет одинаковый, потому что в Haskell у функций нет подочных эффектов, вызов с одними аргументами приводит к одному результату.\n",
    "\n",
    "На самом деле, генератор случайных чисел должен после генерации возвращать новый генератор. Т.е. генерация случайного числа должна выглядеть примерно так:"
   ]
  },
  {
   "cell_type": "code",
   "execution_count": null,
   "id": "d0ad8448",
   "metadata": {},
   "outputs": [],
   "source": [
    "let (a, gen2) = generate gen,\n",
    "    (b, gen3) = generate gen2 in a + b"
   ]
  },
  {
   "cell_type": "markdown",
   "id": "f7f95e1c",
   "metadata": {},
   "source": [
    "Введем, наконец, типы и операции"
   ]
  },
  {
   "cell_type": "code",
   "execution_count": 12,
   "id": "48578e26",
   "metadata": {},
   "outputs": [],
   "source": [
    "data Random a = Random Integer (Integer -> a)\n",
    "\n",
    "instance Show (Random a) where\n",
    "  show (Random x _) = \"Random[\" ++ show x ++ \"]\"\n",
    "\n",
    "generate :: Random a -> (a, Random a)\n",
    "generate (Random x f) = (f x, Random nextX f) where\n",
    "                            nextX = mod (134775813*x + 1) (2^32)\n",
    "                            \n",
    "-- сделаем генератор чисел в диапазоне от 0 до 2^32\n",
    "randomInts x0 = Random x0 id\n",
    "\n",
    "randomIntsInRange min max x0 = Random x0 (\\x -> min + (x `mod` (max - min + 1)))\n",
    "-- число в диапазоне от 1 до 2: 1 + x `mod` 2"
   ]
  },
  {
   "cell_type": "markdown",
   "id": "5888be5e",
   "metadata": {},
   "source": [
    "Пробуем использовать этот генератор:"
   ]
  },
  {
   "cell_type": "code",
   "execution_count": 15,
   "id": "d2089806",
   "metadata": {},
   "outputs": [
    {
     "data": {
      "text/plain": [
       "5"
      ]
     },
     "metadata": {},
     "output_type": "display_data"
    },
    {
     "data": {
      "text/plain": [
       "10"
      ]
     },
     "metadata": {},
     "output_type": "display_data"
    },
    {
     "data": {
      "text/plain": [
       "15"
      ]
     },
     "metadata": {},
     "output_type": "display_data"
    },
    {
     "data": {
      "text/plain": [
       "Random[2384]"
      ]
     },
     "metadata": {},
     "output_type": "display_data"
    },
    {
     "data": {
      "text/plain": [
       "Random[3477958289]"
      ]
     },
     "metadata": {},
     "output_type": "display_data"
    },
    {
     "data": {
      "text/plain": [
       "Random[4128107734]"
      ]
     },
     "metadata": {},
     "output_type": "display_data"
    }
   ],
   "source": [
    "let gen = randomIntsInRange 1 10 2384\n",
    "let (x, gen2) = generate gen\n",
    "let (y, gen3) = generate gen2\n",
    "\n",
    "x\n",
    "y\n",
    "x + y\n",
    "gen\n",
    "gen2\n",
    "gen3"
   ]
  },
  {
   "cell_type": "markdown",
   "id": "1173095d",
   "metadata": {},
   "source": [
    "Сделаем теперь так, чтобы `Random a` стал функтором. Т.е. к случайным значениям, которые генерируются внурти генератора, можно будет применить функцию. Должно это работать так:\n",
    "\n",
    "Например, если `gen1 :: Random Int` генерирует числа 0 или 1, то `fmap gen1 (\\x -> if x == 0 then \"орёл\" else \"решка\")` генерирует орлов и решек:"
   ]
  },
  {
   "cell_type": "code",
   "execution_count": 18,
   "id": "dda9232a",
   "metadata": {
    "scrolled": true
   },
   "outputs": [],
   "source": [
    "instance Functor Random where\n",
    "    -- fmap :: (Random a) -> (a -> b) -> Random b\n",
    "    -- fmap (Random x0 f) fun = Random x0 (\\x -> fun (f x))\n",
    "    fmap fun (Random x0 f) = Random x0 (fun . f)"
   ]
  },
  {
   "cell_type": "markdown",
   "id": "cb87ef23",
   "metadata": {},
   "source": [
    "Пробуем с орлом и решкой"
   ]
  },
  {
   "cell_type": "code",
   "execution_count": 22,
   "id": "2a6562b0",
   "metadata": {},
   "outputs": [
    {
     "data": {
      "text/plain": [
       "0"
      ]
     },
     "metadata": {},
     "output_type": "display_data"
    },
    {
     "data": {
      "text/plain": [
       "1"
      ]
     },
     "metadata": {},
     "output_type": "display_data"
    },
    {
     "data": {
      "text/plain": [
       "0"
      ]
     },
     "metadata": {},
     "output_type": "display_data"
    },
    {
     "data": {
      "text/plain": [
       "\"head\""
      ]
     },
     "metadata": {},
     "output_type": "display_data"
    },
    {
     "data": {
      "text/plain": [
       "\"tail\""
      ]
     },
     "metadata": {},
     "output_type": "display_data"
    },
    {
     "data": {
      "text/plain": [
       "\"head\""
      ]
     },
     "metadata": {},
     "output_type": "display_data"
    }
   ],
   "source": [
    "gen01 = randomIntsInRange 0 1 283476\n",
    "genHeadTail = (\\x -> if x == 0 then \"head\" else \"tail\") <$> gen01 \n",
    "\n",
    "let (x, gen01_1) = generate gen01\n",
    "let (y, gen01_2) = generate gen01_1\n",
    "let (z, gen01_3) = generate gen01_2\n",
    "\n",
    "let (a, genHeadTail1) = generate genHeadTail\n",
    "let (b, genHeadTail2) = generate genHeadTail1\n",
    "let (c, genHeadTail3) = generate genHeadTail2\n",
    "\n",
    "x\n",
    "y\n",
    "z\n",
    "a\n",
    "b\n",
    "c"
   ]
  }
 ],
 "metadata": {
  "kernelspec": {
   "display_name": "Haskell",
   "language": "haskell",
   "name": "haskell"
  },
  "language_info": {
   "codemirror_mode": "ihaskell",
   "file_extension": ".hs",
   "mimetype": "text/x-haskell",
   "name": "haskell",
   "pygments_lexer": "Haskell",
   "version": "8.10.4"
  }
 },
 "nbformat": 4,
 "nbformat_minor": 5
}
