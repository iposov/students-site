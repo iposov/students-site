{
 "cells": [
  {
   "cell_type": "markdown",
   "id": "307f0539",
   "metadata": {},
   "source": [
    "# Еще один способ задать алгебраический тип"
   ]
  },
  {
   "cell_type": "code",
   "execution_count": 1,
   "id": "46ffbe6d",
   "metadata": {},
   "outputs": [],
   "source": [
    "data Human = Student\n",
    "              String -- name\n",
    "              Int -- course\n",
    "              String -- faculty\n",
    "              Int -- age\n",
    "              | Lecturer\n",
    "              String -- name\n",
    "              String -- faculty\n",
    "              Int -- age deriving Show"
   ]
  },
  {
   "cell_type": "code",
   "execution_count": 4,
   "id": "bcb6bc15",
   "metadata": {},
   "outputs": [
    {
     "data": {
      "text/plain": [
       "\"Ilya\""
      ]
     },
     "metadata": {},
     "output_type": "display_data"
    }
   ],
   "source": [
    "h = Student \"Ilya\" 3 \"arts\" 70\n",
    "\n",
    "getName :: Human -> String\n",
    "getName (Student name _ _ _) = name\n",
    "getName (Lecturer name _ _) = name\n",
    "\n",
    "getName h"
   ]
  },
  {
   "cell_type": "markdown",
   "id": "9491eb91",
   "metadata": {},
   "source": [
    "Другой способ, можно именовать поля:"
   ]
  },
  {
   "cell_type": "code",
   "execution_count": 14,
   "id": "936e22fc",
   "metadata": {},
   "outputs": [
    {
     "data": {
      "text/plain": [
       "Student {name = \"Ilya\", course = 3, faculty = \"arts\", age = 70}"
      ]
     },
     "metadata": {},
     "output_type": "display_data"
    },
    {
     "data": {
      "text/plain": [
       "Lecturer {name = \"Pavel\", faculty = \"arst\", age = 170}"
      ]
     },
     "metadata": {},
     "output_type": "display_data"
    }
   ],
   "source": [
    "data Human = Student {name :: String, course :: Int, faculty :: String, age :: Int} |\n",
    "             Lecturer {name :: String, faculty :: String, age :: Int} deriving Show\n",
    "             \n",
    "h = Student {name = \"Ilya\", course = 3, faculty = \"arts\", age = 70}\n",
    "--s = Lecturer {name = \"Pavel\", faculty = \"arts\", age = 170}\n",
    "s = Lecturer \"Pavel\" \"arst\" 170 -- можно по-старому\n",
    " \n",
    "\n",
    "h\n",
    "s"
   ]
  },
  {
   "cell_type": "markdown",
   "id": "55480f09",
   "metadata": {},
   "source": [
    "Мы получаем сразу функции для определения значений полей, и получаем возможность менять значения полей. Значения полей работают как функции:"
   ]
  },
  {
   "cell_type": "code",
   "execution_count": 21,
   "id": "6a87cd4d",
   "metadata": {},
   "outputs": [
    {
     "data": {
      "text/plain": [
       "\"Ilya\""
      ]
     },
     "metadata": {},
     "output_type": "display_data"
    },
    {
     "data": {
      "text/plain": [
       "170"
      ]
     },
     "metadata": {},
     "output_type": "display_data"
    },
    {
     "data": {
      "text/plain": [
       "Student {name = \"Ilya\", course = 3, faculty = \"arts\", age = 70}"
      ]
     },
     "metadata": {},
     "output_type": "display_data"
    },
    {
     "data": {
      "text/plain": [
       "Student {name = \"Ilya\", course = 4, faculty = \"arts\", age = 70}"
      ]
     },
     "metadata": {},
     "output_type": "display_data"
    },
    {
     "data": {
      "text/plain": [
       "Lecturer {name = \"Pavel\", faculty = \"arts and arts\", age = 180}"
      ]
     },
     "metadata": {},
     "output_type": "display_data"
    }
   ],
   "source": [
    "-- получить значение полей\n",
    "\n",
    "-- name :: Human -> String\n",
    "name h\n",
    "age s\n",
    "\n",
    "-- заменить значения:\n",
    "h2 = h {course = 4}\n",
    "\n",
    "h -- старое значение не меняется\n",
    "h2 -- создаётся новое значение\n",
    "\n",
    "-- можно изменить сразу несколько полей\n",
    "s {age = 180, faculty = \"arts and arts\"}"
   ]
  },
  {
   "cell_type": "markdown",
   "id": "0daf170c",
   "metadata": {},
   "source": [
    "# Функторы, Аппликативные функторы, Монады"
   ]
  },
  {
   "cell_type": "code",
   "execution_count": 27,
   "id": "b0f287eb",
   "metadata": {},
   "outputs": [
    {
     "data": {
      "text/html": [
       "<style>/* Styles used for the Hoogle display in the pager */\n",
       ".hoogle-doc {\n",
       "display: block;\n",
       "padding-bottom: 1.3em;\n",
       "padding-left: 0.4em;\n",
       "}\n",
       ".hoogle-code {\n",
       "display: block;\n",
       "font-family: monospace;\n",
       "white-space: pre;\n",
       "}\n",
       ".hoogle-text {\n",
       "display: block;\n",
       "}\n",
       ".hoogle-name {\n",
       "color: green;\n",
       "font-weight: bold;\n",
       "}\n",
       ".hoogle-head {\n",
       "font-weight: bold;\n",
       "}\n",
       ".hoogle-sub {\n",
       "display: block;\n",
       "margin-left: 0.4em;\n",
       "}\n",
       ".hoogle-package {\n",
       "font-weight: bold;\n",
       "font-style: italic;\n",
       "}\n",
       ".hoogle-module {\n",
       "font-weight: bold;\n",
       "}\n",
       ".hoogle-class {\n",
       "font-weight: bold;\n",
       "}\n",
       ".get-type {\n",
       "color: green;\n",
       "font-weight: bold;\n",
       "font-family: monospace;\n",
       "display: block;\n",
       "white-space: pre-wrap;\n",
       "}\n",
       ".show-type {\n",
       "color: green;\n",
       "font-weight: bold;\n",
       "font-family: monospace;\n",
       "margin-left: 1em;\n",
       "}\n",
       ".mono {\n",
       "font-family: monospace;\n",
       "display: block;\n",
       "}\n",
       ".err-msg {\n",
       "color: red;\n",
       "font-style: italic;\n",
       "font-family: monospace;\n",
       "white-space: pre;\n",
       "display: block;\n",
       "}\n",
       "#unshowable {\n",
       "color: red;\n",
       "font-weight: bold;\n",
       "}\n",
       ".err-msg.in.collapse {\n",
       "padding-top: 0.7em;\n",
       "}\n",
       ".highlight-code {\n",
       "white-space: pre;\n",
       "font-family: monospace;\n",
       "}\n",
       ".suggestion-warning { \n",
       "font-weight: bold;\n",
       "color: rgb(200, 130, 0);\n",
       "}\n",
       ".suggestion-error { \n",
       "font-weight: bold;\n",
       "color: red;\n",
       "}\n",
       ".suggestion-name {\n",
       "font-weight: bold;\n",
       "}\n",
       "</style><div class=\"suggestion-name\" style=\"clear:both;\">Redundant $</div><div class=\"suggestion-row\" style=\"float: left;\"><div class=\"suggestion-warning\">Found:</div><div class=\"highlight-code\" id=\"haskell\">add1 $ 42</div></div><div class=\"suggestion-row\" style=\"float: left;\"><div class=\"suggestion-warning\">Why Not:</div><div class=\"highlight-code\" id=\"haskell\">add1 42</div></div>"
      ],
      "text/plain": [
       "Line 2: Redundant $\n",
       "Found:\n",
       "add1 $ 42\n",
       "Why not:\n",
       "add1 42"
      ]
     },
     "metadata": {},
     "output_type": "display_data"
    },
    {
     "data": {
      "text/plain": [
       "43"
      ]
     },
     "metadata": {},
     "output_type": "display_data"
    },
    {
     "data": {
      "text/plain": [
       "[11,21,31]"
      ]
     },
     "metadata": {},
     "output_type": "display_data"
    },
    {
     "data": {
      "text/plain": [
       "Just 43"
      ]
     },
     "metadata": {},
     "output_type": "display_data"
    },
    {
     "data": {
      "text/plain": [
       "Nothing"
      ]
     },
     "metadata": {},
     "output_type": "display_data"
    },
    {
     "data": {
      "text/plain": [
       "Right 43"
      ]
     },
     "metadata": {},
     "output_type": "display_data"
    },
    {
     "data": {
      "text/plain": [
       "Left \"\\1074\\1086\\1079\\1085\\1080\\1082\\1083\\1072 \\1086\\1096\\1080\\1073\\1082\\1072 \\1087\\1088\\1080 \\1074\\1099\\1095\\1080\\1089\\1083\\1077\\1085\\1080\\1080 \\1086\\1090\\1074\\1077\\1090\\1072 \\1085\\1072 \\1074\\1086\\1087\\1088\\1086\\1089 \\1086 \\1089\\1084\\1099\\1089\\1083\\1077 ...\""
      ]
     },
     "metadata": {},
     "output_type": "display_data"
    }
   ],
   "source": [
    "add1 = (+1)\n",
    "add1 $ 42\n",
    "\n",
    "-- функтор список\n",
    "add1 <$> [10, 20, 30]\n",
    "\n",
    "-- функтор MayBe\n",
    "add1 <$> Just 42\n",
    "add1 <$> Nothing\n",
    "\n",
    "-- функтор Either e a = Left e | Right a\n",
    "add1 <$> Right 42\n",
    "add1 <$> Left \"возникла ошибка при вычислении ответа на вопрос о смысле ...\""
   ]
  },
  {
   "cell_type": "markdown",
   "id": "d85705a4",
   "metadata": {},
   "source": [
    "Задача, написать функцию `maybeSum :: Maybe Int -> Maybe Int -> Maybe Int`"
   ]
  },
  {
   "cell_type": "code",
   "execution_count": 30,
   "id": "df3245b0",
   "metadata": {},
   "outputs": [
    {
     "data": {
      "text/plain": [
       "Just 5"
      ]
     },
     "metadata": {},
     "output_type": "display_data"
    }
   ],
   "source": [
    "maybeSum :: Maybe Int -> Maybe Int -> Maybe Int\n",
    "maybeSum Nothing _ = Nothing\n",
    "maybeSum _ Nothing = Nothing\n",
    "maybeSum (Just a) (Just b) = Just (a + b)\n",
    "\n",
    "maybeSum (Just 2) (Just 3)"
   ]
  },
  {
   "cell_type": "code",
   "execution_count": 32,
   "id": "30b6b295",
   "metadata": {},
   "outputs": [
    {
     "data": {
      "text/plain": [
       "Just 5"
      ]
     },
     "metadata": {},
     "output_type": "display_data"
    }
   ],
   "source": [
    "(+) <$> Just 2 <*> Just 3"
   ]
  },
  {
   "cell_type": "markdown",
   "id": "9b608c85",
   "metadata": {},
   "source": [
    "Другой пример, давайте вычислим `map` для значений внутри `Maybe`: `Just (+1)` `Just [10, 20, 30]`"
   ]
  },
  {
   "cell_type": "code",
   "execution_count": 33,
   "id": "5235462c",
   "metadata": {},
   "outputs": [
    {
     "data": {
      "text/plain": [
       "Just [11,21,31]"
      ]
     },
     "metadata": {},
     "output_type": "display_data"
    }
   ],
   "source": [
    "plus1 = Just (+1)\n",
    "list1 = Just [10, 20, 30]\n",
    "\n",
    "-- map <$> plus1 -- Just (map (+1))\n",
    "map <$> plus1 <*> list1"
   ]
  },
  {
   "cell_type": "markdown",
   "id": "1ba2014e",
   "metadata": {},
   "source": [
    "Попробуем сделать это же, но со списками вместо Maybe.\n",
    "Физический смысл Maybe — значение, которого может не быть из-за ошибки в вычислениях.\n",
    "Физический смысл `[a]` — это недетерминированные вычисления. Т.е. результат выполнения функций может быть разным, при нескольких вызовах, это моделируется тем, что значение является списком возножных значений:"
   ]
  },
  {
   "cell_type": "code",
   "execution_count": 36,
   "id": "cdb80257",
   "metadata": {},
   "outputs": [
    {
     "data": {
      "text/plain": [
       "[10,11,12,13,14,15,16,17,18,19,20]"
      ]
     },
     "metadata": {},
     "output_type": "display_data"
    }
   ],
   "source": [
    "-- coin :: Int -- невозможно в Haskell сделать так, чтобы иногда было 0, иногда 1\n",
    "-- настоящий генератор в Haskell: coin :: State -> (Int, State)\n",
    "coin :: [Int]\n",
    "coin = [0, 1]\n",
    "\n",
    "randomFromRange :: Int -> Int -> [Int]\n",
    "randomFromRange a b = [a..b]\n",
    "\n",
    "randomFromRange 10 20"
   ]
  },
  {
   "cell_type": "markdown",
   "id": "f67f6795",
   "metadata": {},
   "source": [
    "Хочу получить два случайных числа от 1 до 6 (бросить кости) и сложить их (узнать сумму значений на костях):"
   ]
  },
  {
   "cell_type": "code",
   "execution_count": 38,
   "id": "ce96ebaa",
   "metadata": {},
   "outputs": [
    {
     "data": {
      "text/plain": [
       "[2,3,4,5,6,7,3,4,5,6,7,8,4,5,6,7,8,9,5,6,7,8,9,10,6,7,8,9,10,11,7,8,9,10,11,12]"
      ]
     },
     "metadata": {},
     "output_type": "display_data"
    }
   ],
   "source": [
    "die1 = randomFromRange 1 6 -- [1 2 3 4 5 6]\n",
    "die2 = randomFromRange 1 6 -- [1 2 3 4 5 6]\n",
    "\n",
    "-- 100% аналогично сложению внутри Maybe\n",
    "(+) <$> die1 <*> die2"
   ]
  },
  {
   "cell_type": "markdown",
   "id": "348d9030",
   "metadata": {},
   "source": [
    "Для списков `[f1, f2] <*> [a, b, c]` получается `[f1 a, f1 b, f1 c, f2 a, f2 b, f2 c]`:"
   ]
  },
  {
   "cell_type": "code",
   "execution_count": 42,
   "id": "47a0424c",
   "metadata": {},
   "outputs": [
    {
     "data": {
      "text/plain": [
       "[11,21,31,41,20,40,60,80]"
      ]
     },
     "metadata": {},
     "output_type": "display_data"
    },
    {
     "data": {
      "text/plain": [
       "[[2,3,4],[11,21,31],[101,201,301],[2,4,6],[20,40,60],[200,400,600]]"
      ]
     },
     "metadata": {},
     "output_type": "display_data"
    }
   ],
   "source": [
    "[(+1), (*2)] <*> [10, 20, 30, 40]\n",
    "\n",
    "\n",
    "[map (+1), map (*2)] <*> [[1, 2, 3], [10, 20, 30], [100, 200, 300]]"
   ]
  },
  {
   "cell_type": "markdown",
   "id": "1f4a7ff3",
   "metadata": {},
   "source": [
    "Существует функция `liftA2 :: Applicative f => (a -> b -> c) -> f a -> f b -> f c`"
   ]
  },
  {
   "cell_type": "code",
   "execution_count": 46,
   "id": "7306fcca",
   "metadata": {},
   "outputs": [
    {
     "data": {
      "text/plain": [
       "Just 5"
      ]
     },
     "metadata": {},
     "output_type": "display_data"
    },
    {
     "data": {
      "text/plain": [
       "Just 5"
      ]
     },
     "metadata": {},
     "output_type": "display_data"
    }
   ],
   "source": [
    "import Control.Applicative -- надо подключить модуль, чтобы использовать liftA2\n",
    "\n",
    "--эквивалентно\n",
    "(+) <$> Just 2 <*> Just 3\n",
    "\n",
    "liftA2 (+) (Just 2) (Just 3)"
   ]
  },
  {
   "cell_type": "markdown",
   "id": "99bee66d",
   "metadata": {},
   "source": [
    "Т.е. если функция `f` работает для обычных значений, то `liftA2 f` работает для завернутых значений. `liftA2 f x y = f <$> x <*> y`."
   ]
  },
  {
   "cell_type": "markdown",
   "id": "6b4784c2",
   "metadata": {},
   "source": [
    "## Аппликативный функтор"
   ]
  },
  {
   "cell_type": "markdown",
   "id": "d592eb33",
   "metadata": {},
   "source": [
    "Это класс типов, для которых определены операции `<*>` и `pure`. Аппликативные функторы должны быть еще и обычными функторами, т.е. операция `fmap = <$>` для них тоже определена.\n",
    "\n",
    "Функции\n",
    " * `fmap = <$>` применяет обычную функцию к завернутому значению\n",
    " * `<*>` применяет завернутую функцию к завернутому значению\n",
    " * `pure` превратить обычное значение в завернутое"
   ]
  },
  {
   "cell_type": "code",
   "execution_count": 52,
   "id": "e3525d59",
   "metadata": {},
   "outputs": [
    {
     "data": {
      "text/plain": [
       "[42]"
      ]
     },
     "metadata": {},
     "output_type": "display_data"
    },
    {
     "data": {
      "text/plain": [
       "Just 42"
      ]
     },
     "metadata": {},
     "output_type": "display_data"
    },
    {
     "data": {
      "text/plain": [
       "[42,10,20,30]"
      ]
     },
     "metadata": {},
     "output_type": "display_data"
    }
   ],
   "source": [
    "-- Haskell должен понимать, какой получается тип результата, чтобы правильно обернуть\n",
    "pure 42 :: [Int]\n",
    "pure 42 :: Maybe Int\n",
    "\n",
    "pure 42 ++ [10, 20, 30] -- тут понятно, что нужен [Int]"
   ]
  },
  {
   "cell_type": "markdown",
   "id": "8c5923c5",
   "metadata": {},
   "source": [
    "Давайте свяжем pure, <$> и <*>"
   ]
  },
  {
   "cell_type": "code",
   "execution_count": 64,
   "id": "c71d0492",
   "metadata": {},
   "outputs": [
    {
     "data": {
      "text/html": [
       "<style>/* Styles used for the Hoogle display in the pager */\n",
       ".hoogle-doc {\n",
       "display: block;\n",
       "padding-bottom: 1.3em;\n",
       "padding-left: 0.4em;\n",
       "}\n",
       ".hoogle-code {\n",
       "display: block;\n",
       "font-family: monospace;\n",
       "white-space: pre;\n",
       "}\n",
       ".hoogle-text {\n",
       "display: block;\n",
       "}\n",
       ".hoogle-name {\n",
       "color: green;\n",
       "font-weight: bold;\n",
       "}\n",
       ".hoogle-head {\n",
       "font-weight: bold;\n",
       "}\n",
       ".hoogle-sub {\n",
       "display: block;\n",
       "margin-left: 0.4em;\n",
       "}\n",
       ".hoogle-package {\n",
       "font-weight: bold;\n",
       "font-style: italic;\n",
       "}\n",
       ".hoogle-module {\n",
       "font-weight: bold;\n",
       "}\n",
       ".hoogle-class {\n",
       "font-weight: bold;\n",
       "}\n",
       ".get-type {\n",
       "color: green;\n",
       "font-weight: bold;\n",
       "font-family: monospace;\n",
       "display: block;\n",
       "white-space: pre-wrap;\n",
       "}\n",
       ".show-type {\n",
       "color: green;\n",
       "font-weight: bold;\n",
       "font-family: monospace;\n",
       "margin-left: 1em;\n",
       "}\n",
       ".mono {\n",
       "font-family: monospace;\n",
       "display: block;\n",
       "}\n",
       ".err-msg {\n",
       "color: red;\n",
       "font-style: italic;\n",
       "font-family: monospace;\n",
       "white-space: pre;\n",
       "display: block;\n",
       "}\n",
       "#unshowable {\n",
       "color: red;\n",
       "font-weight: bold;\n",
       "}\n",
       ".err-msg.in.collapse {\n",
       "padding-top: 0.7em;\n",
       "}\n",
       ".highlight-code {\n",
       "white-space: pre;\n",
       "font-family: monospace;\n",
       "}\n",
       ".suggestion-warning { \n",
       "font-weight: bold;\n",
       "color: rgb(200, 130, 0);\n",
       "}\n",
       ".suggestion-error { \n",
       "font-weight: bold;\n",
       "color: red;\n",
       "}\n",
       ".suggestion-name {\n",
       "font-weight: bold;\n",
       "}\n",
       "</style><div class=\"suggestion-name\" style=\"clear:both;\">Redundant $</div><div class=\"suggestion-row\" style=\"float: left;\"><div class=\"suggestion-warning\">Found:</div><div class=\"highlight-code\" id=\"haskell\">(+ 1) $ 42</div></div><div class=\"suggestion-row\" style=\"float: left;\"><div class=\"suggestion-warning\">Why Not:</div><div class=\"highlight-code\" id=\"haskell\">(+ 1) 42</div></div><div class=\"suggestion-name\" style=\"clear:both;\">Use <$></div><div class=\"suggestion-row\" style=\"float: left;\"><div class=\"suggestion-warning\">Found:</div><div class=\"highlight-code\" id=\"haskell\">pure (+ 1) <*> Just 42</div></div><div class=\"suggestion-row\" style=\"float: left;\"><div class=\"suggestion-warning\">Why Not:</div><div class=\"highlight-code\" id=\"haskell\">(+ 1) <$> Just 42</div></div><div class=\"suggestion-name\" style=\"clear:both;\">Use <$></div><div class=\"suggestion-row\" style=\"float: left;\"><div class=\"suggestion-warning\">Found:</div><div class=\"highlight-code\" id=\"haskell\">pure (+ 1) <*> [10, 20, 30]</div></div><div class=\"suggestion-row\" style=\"float: left;\"><div class=\"suggestion-warning\">Why Not:</div><div class=\"highlight-code\" id=\"haskell\">(+ 1) <$> [10, 20, 30]</div></div>"
      ],
      "text/plain": [
       "Line 2: Redundant $\n",
       "Found:\n",
       "(+ 1) $ 42\n",
       "Why not:\n",
       "(+ 1) 42Line 5: Use <$>\n",
       "Found:\n",
       "pure (+ 1) <*> Just 42\n",
       "Why not:\n",
       "(+ 1) <$> Just 42Line 9: Use <$>\n",
       "Found:\n",
       "pure (+ 1) <*> [10, 20, 30]\n",
       "Why not:\n",
       "(+ 1) <$> [10, 20, 30]"
      ]
     },
     "metadata": {},
     "output_type": "display_data"
    },
    {
     "data": {
      "text/plain": [
       "43"
      ]
     },
     "metadata": {},
     "output_type": "display_data"
    },
    {
     "data": {
      "text/plain": [
       "43"
      ]
     },
     "metadata": {},
     "output_type": "display_data"
    },
    {
     "data": {
      "text/plain": [
       "Just 43"
      ]
     },
     "metadata": {},
     "output_type": "display_data"
    },
    {
     "data": {
      "text/plain": [
       "Just 43"
      ]
     },
     "metadata": {},
     "output_type": "display_data"
    },
    {
     "data": {
      "text/plain": [
       "Just 43"
      ]
     },
     "metadata": {},
     "output_type": "display_data"
    },
    {
     "data": {
      "text/plain": [
       "[11,21,31]"
      ]
     },
     "metadata": {},
     "output_type": "display_data"
    },
    {
     "data": {
      "text/plain": [
       "[11,21,31]"
      ]
     },
     "metadata": {},
     "output_type": "display_data"
    },
    {
     "data": {
      "text/plain": [
       "[11,21,31]"
      ]
     },
     "metadata": {},
     "output_type": "display_data"
    },
    {
     "data": {
      "text/plain": [
       "[43]"
      ]
     },
     "metadata": {},
     "output_type": "display_data"
    },
    {
     "data": {
      "text/plain": [
       "Just 43"
      ]
     },
     "metadata": {},
     "output_type": "display_data"
    }
   ],
   "source": [
    "(+1) 42\n",
    "(+1) $ 42\n",
    "(+1) <$> Just 42\n",
    "Just (+1) <*> Just 42 -- нужна завернутая функция\n",
    "pure (+1) <*> Just 42\n",
    "\n",
    "(+1) <$> [10, 20, 30]\n",
    "[ (+1) ] <*> [10, 20, 30]\n",
    "pure (+1) <*> [10, 20, 30] -- заверни функцию, примени к завернутому\n",
    "\n",
    "-- теперь давайте позаворачиваем аргументы функции, а не функции\n",
    "(+1) <$> (pure 42 :: [Int])\n",
    "(+1) <$> (pure 42 :: Maybe Int)"
   ]
  },
  {
   "cell_type": "markdown",
   "id": "150be916",
   "metadata": {},
   "source": [
    "Законы аппликативных функторов. Любое определение аппликативного функтора должно вводить функции <*>, pure, <$>, для которых выполняется несколько законов:\n",
    "\n",
    "```\n",
    "pure f <*> a = f <$> a\n",
    "\n",
    "```\n",
    "далее по ссылке:\n",
    "\n",
    "[https://hackage.haskell.org/package/base-4.16.0.0/docs/Control-Applicative.html#g:1](https://hackage.haskell.org/package/base-4.16.0.0/docs/Control-Applicative.html#g:1)"
   ]
  }
 ],
 "metadata": {
  "kernelspec": {
   "display_name": "Haskell",
   "language": "haskell",
   "name": "haskell"
  },
  "language_info": {
   "codemirror_mode": "ihaskell",
   "file_extension": ".hs",
   "mimetype": "text/x-haskell",
   "name": "haskell",
   "pygments_lexer": "Haskell",
   "version": "8.10.4"
  }
 },
 "nbformat": 4,
 "nbformat_minor": 5
}
