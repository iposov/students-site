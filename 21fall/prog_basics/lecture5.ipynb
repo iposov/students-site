{
 "cells": [
  {
   "cell_type": "markdown",
   "metadata": {
    "collapsed": true,
    "pycharm": {
     "name": "#%% md\n"
    }
   },
   "source": [
    "### Слайсы\n",
    "\n",
    "Позволяют взять часть какой-то последовательности.\n",
    "Они работают для строк, списков, кортежей, `range`\n",
    "и для других типов тоже."
   ]
  },
  {
   "cell_type": "code",
   "execution_count": 4,
   "outputs": [
    {
     "name": "stdout",
     "output_type": "stream",
     "text": [
      "a\n",
      "b\n",
      "h\n",
      "g\n"
     ]
    }
   ],
   "source": [
    "s = \"abcdefgh\"\n",
    "\n",
    "# возможность взять элемент последовательности по\n",
    "# индексу. Пишем индекс в квадратных скобках:\n",
    "\n",
    "print(s[0])  # буква 'a', начинается индекс с 0\n",
    "print(s[1])  # 'b'\n",
    "print(s[-1]) # 'h' отрицательные индексы считают с конца\n",
    "print(s[-2]) # 'g'"
   ],
   "metadata": {
    "collapsed": false,
    "pycharm": {
     "name": "#%%\n"
    }
   }
  },
  {
   "cell_type": "markdown",
   "source": [
    "Как взять диапазон элементов"
   ],
   "metadata": {
    "collapsed": false,
    "pycharm": {
     "name": "#%% md\n"
    }
   }
  },
  {
   "cell_type": "code",
   "execution_count": 8,
   "outputs": [
    {
     "name": "stdout",
     "output_type": "stream",
     "text": [
      "abcd\n",
      "ef\n",
      "efgh\n",
      "abcde\n",
      "fg\n",
      "efgh\n",
      "abcdefg\n",
      "abcdefgh\n"
     ]
    }
   ],
   "source": [
    "print(s[0:4])  # 0 по 4, 4 не включается\n",
    "print(s[4:6]) # 'ef'\n",
    "print(s[4:]) # 'efgh' если не писать конец, то до конца\n",
    "print(s[:5]) # 'abcde' с начала по пятый\n",
    "\n",
    "# можно использовать отрицательные индексы\n",
    "\n",
    "print(s[-3:-1])  # 'fg', 1 с конца не включается\n",
    "print(s[-4:])  # c четвертого с конца до конца\n",
    "\n",
    "print(s[:-1])  # все без последней\n",
    "print(s[:])  # с начала до конца"
   ],
   "metadata": {
    "collapsed": false,
    "pycharm": {
     "name": "#%%\n"
    }
   }
  },
  {
   "cell_type": "markdown",
   "source": [
    "Можно указывать шаг перечисления, это после второго `:`:"
   ],
   "metadata": {
    "collapsed": false,
    "pycharm": {
     "name": "#%% md\n"
    }
   }
  },
  {
   "cell_type": "code",
   "execution_count": 14,
   "outputs": [
    {
     "name": "stdout",
     "output_type": "stream",
     "text": [
      "bdf\n",
      "aceg\n",
      "hgf\n",
      "gfe\n",
      "hgfed\n",
      "hgfedcba\n"
     ]
    }
   ],
   "source": [
    "# s = abcdefgh\n",
    "#      * * *\n",
    "print(s[1:6:2])  # с 1 по 6 с шагом 2: индексы 1,3,5\n",
    "print(s[::2]) # с начала до конца с шагом 2\n",
    "print(s[-1:-4:-1]) # с последнего с шагом -1\n",
    "print(s[6:3:-1])\n",
    "print(s[:2:-1])  # с конца до 2-го элемента, шаг -1\n",
    "print(s[::-1])  # с конца в начало с шагом -1"
   ],
   "metadata": {
    "collapsed": false,
    "pycharm": {
     "name": "#%%\n"
    }
   }
  },
  {
   "cell_type": "markdown",
   "source": [
    "Проверим, что со списками, кортежами работает то же самое:"
   ],
   "metadata": {
    "collapsed": false,
    "pycharm": {
     "name": "#%% md\n"
    }
   }
  },
  {
   "cell_type": "code",
   "execution_count": 20,
   "outputs": [
    {
     "name": "stdout",
     "output_type": "stream",
     "text": [
      "10\n",
      "20\n",
      "60\n",
      "[10, 20, 30, 40]\n",
      "[60, 50, 40, 30]\n",
      "[60, 50, 40, 30, 20, 10]\n",
      "[10]\n"
     ]
    }
   ],
   "source": [
    "list1 = [10, 20, 30, 40, 50, 60]\n",
    "print(list1[0])  # первый элемент списка\n",
    "print(list1[1])  # второй элемент списка\n",
    "print(list1[-1])  # последний элемент списка\n",
    "\n",
    "# диапазоны\n",
    "print(list1[0:4]) # это уже список\n",
    "print(list1[-1:1:-1]) # с последнего по второй, шаг -1\n",
    "print(list1[::-1])  # перевернуть список\n",
    "print(list1[0:1])  # список из первого элемента"
   ],
   "metadata": {
    "collapsed": false,
    "pycharm": {
     "name": "#%%\n"
    }
   }
  },
  {
   "cell_type": "markdown",
   "source": [
    "Обратим внимание, что в последнем примере получается список\n",
    "из одного элемента, и это не то же самое, что `list1[0]`.\n",
    "А для строк `s[0]` и `s[0:1]` эквивалентны."
   ],
   "metadata": {
    "collapsed": false,
    "pycharm": {
     "name": "#%% md\n"
    }
   }
  },
  {
   "cell_type": "code",
   "source": [
    "print([10, 20, 30, 40, 50, 60][2:4])  # это 30, 40\n",
    "print((10, 20, 30, 40, 50, 60)[2:4])  # это кортеж 30, 40\n",
    "print(range(1, 100)[10:20])\n",
    "print(range(1, 100)[::-1])"
   ],
   "metadata": {
    "collapsed": false,
    "pycharm": {
     "name": "#%%\n"
    }
   },
   "execution_count": 25,
   "outputs": [
    {
     "name": "stdout",
     "output_type": "stream",
     "text": [
      "[30, 40]\n",
      "(30, 40)\n",
      "range(11, 21)\n",
      "range(99, 0, -1)\n"
     ]
    }
   ]
  },
  {
   "cell_type": "markdown",
   "source": [
    "## Имена типов как функции преобразования типов:\n",
    "\n",
    "Напомним, что `int`, `str` это не только названия типов,\n",
    "но и функции, которые создают значения типа: `int(\"42\")`\n",
    "создает число `42`. `str(...)` любой объект превращается\n",
    "в строку.\n",
    "\n",
    "Аналогично, `list` и `tuple` создают значения типа списка\n",
    "или кортежа. В качестве аргумента им можно дать любое\n",
    "перечисление:"
   ],
   "metadata": {
    "collapsed": false,
    "pycharm": {
     "name": "#%% md\n"
    }
   }
  },
  {
   "cell_type": "code",
   "execution_count": 29,
   "outputs": [
    {
     "name": "stdout",
     "output_type": "stream",
     "text": [
      "['a', 'b', 'c', 'd', 'e', 'f', 'g', 'h']\n",
      "[10, 20, 30]\n",
      "[10, 20, 30]\n",
      "[1, 2, 3, 4, 5, 6, 7, 8, 9]\n",
      "('a', 'b', 'c', 'd', 'e', 'f', 'g', 'h')\n",
      "(10, 20, 30)\n",
      "(10, 20, 30)\n",
      "(1, 2, 3, 4, 5, 6, 7, 8, 9)\n",
      "['a', 'b', 'c']\n"
     ]
    }
   ],
   "source": [
    "s = \"abcdefgh\"\n",
    "l = [10, 20, 30]\n",
    "t = 10, 20, 30\n",
    "r = range(1, 10)\n",
    "\n",
    "print(list(s))\n",
    "print(list(l))\n",
    "print(list(t))\n",
    "print(list(r))\n",
    "\n",
    "print(tuple(s))\n",
    "print(tuple(l))\n",
    "print(tuple(t))\n",
    "print(tuple(r))\n",
    "\n",
    "# Можно без переменных\n",
    "print(list(\"abc\"))"
   ],
   "metadata": {
    "collapsed": false,
    "pycharm": {
     "name": "#%%\n"
    }
   }
  },
  {
   "cell_type": "markdown",
   "source": [
    "# Еще операции с последовательностями\n",
    "\n",
    "Смотрим по ссылке [https://docs.python.org/3/library/stdtypes.html?highlight=str#common-sequence-operations](https://docs.python.org/3/library/stdtypes.html?highlight=str#common-sequence-operations)"
   ],
   "metadata": {
    "collapsed": false,
    "pycharm": {
     "name": "#%% md\n"
    }
   }
  },
  {
   "cell_type": "code",
   "execution_count": 40,
   "outputs": [
    {
     "name": "stdout",
     "output_type": "stream",
     "text": [
      "True\n",
      "True\n",
      "True\n",
      "True\n",
      "[10, 20, 30, 40, 50, 60, 70]\n",
      "(10, 20, 30, 40, 50, 60, 70)\n",
      "abcxyz\n",
      "[10, 20, 10, 20, 10, 20, 10, 20, 10, 20]\n",
      "5\n",
      "100\n"
     ]
    }
   ],
   "source": [
    "print(40 in [10, 20, 30, 40, 50, 60]) # да, эл-т в пос-ти\n",
    "print(40 in range(1, 100)) # да, эл-т в пос-ти\n",
    "print(142 not in range(1, 100)) # действительно, не в диапазоне\n",
    "print(5 in (4, 5, 6, 7))\n",
    "\n",
    "# + означает приписывание (конкатенацию)\n",
    "print([10, 20, 30, 40] + [50, 60, 70])\n",
    "print((10, 20, 30, 40) + (50, 60, 70))\n",
    "print(\"abc\" + \"xyz\")\n",
    "\n",
    "print([10, 20] * 5)  # повтор\n",
    "print(min([10, 20, 30, 5, 40]))\n",
    "print(min(range(100, 200)))"
   ],
   "metadata": {
    "collapsed": false,
    "pycharm": {
     "name": "#%%\n"
    }
   }
  },
  {
   "cell_type": "markdown",
   "source": [
    "Теперь операции, которые изменяют последовательности.\n",
    "Из рассмотренных последовательностей это можно делать\n",
    "только со списками:"
   ],
   "metadata": {
    "collapsed": false,
    "pycharm": {
     "name": "#%% md\n"
    }
   }
  },
  {
   "cell_type": "code",
   "execution_count": 50,
   "outputs": [
    {
     "name": "stdout",
     "output_type": "stream",
     "text": [
      "[11, 20, 30, 40, 50]\n",
      "[22, 33, 44, 55, 30, 40, 50]\n",
      "[44, 55, 30, 40, 50]\n",
      "[44, 55, 30, 40, 50, 42, 100, 200, 300, 100, 200, 300, 100, 200, 300]\n",
      "[44, 55, 30, 40, 50, 42, 100, 200, 300, 100, 200, 300, 100, 200, 300]\n"
     ]
    }
   ],
   "source": [
    "l = [10, 20, 30, 40, 50]\n",
    "l[0] = 11  # заменить элемент\n",
    "print(l)\n",
    "\n",
    "l[0:2] = [22, 33, 44, 55] # заменить первые два элемента\n",
    "# можно присваивать любое перечисление\n",
    "# l[0:2] = range(1, 4)\n",
    "print(l)\n",
    "\n",
    "del l[0:2]  # удалить первые два элемента\n",
    "print(l)\n",
    "\n",
    "#!!! это часто используется\n",
    "l.append(42)  # добавить элемент в конец списка\n",
    "\n",
    "# как приписать список в конец другого\n",
    "#1\n",
    "l = l + [100, 200, 300]\n",
    "#2 короче\n",
    "l += [100, 200, 300]\n",
    "#3 аналогично предыдущему, выбор - дело вкуса\n",
    "l.extend([100, 200, 300])\n",
    "print(l)\n",
    "\n",
    "m = l.copy()  # копирование списка\n",
    "m = l[:]  # эквивалентно предыдущему\n",
    "print(m)"
   ],
   "metadata": {
    "collapsed": false,
    "pycharm": {
     "name": "#%%\n"
    }
   }
  },
  {
   "cell_type": "markdown",
   "source": [
    "Используйте `.copy()` вместо `[:]`, потому что это понятнее\n",
    "\n",
    "# Изменяемые и неизменяемые объекты\n",
    "\n",
    "Переменные в Python не хранят напрямую значения, они\n",
    "хранят адрес в памяти со значением. Рисуется это обычно\n",
    "в виде стрелочек:\n",
    "\n",
    "см. конспект нарисованный"
   ],
   "metadata": {
    "collapsed": false,
    "pycharm": {
     "name": "#%% md\n"
    }
   }
  },
  {
   "cell_type": "code",
   "execution_count": 54,
   "outputs": [
    {
     "name": "stdout",
     "output_type": "stream",
     "text": [
      "[0, 0, 0, 0, 0]\n",
      "[0, 0, 0, 0, 0]\n",
      "[0, 0, 0, 0, 0]\n",
      "[0, 0, 0, 0, 0]\n",
      "[0, 0, 0, 0, 0]\n",
      "[0, 0, 0, 0, 0]\n",
      "[0, 0, 1, 0, 0]\n",
      "[0, 0, 1, 0, 0]\n",
      "[0, 0, 1, 0, 0]\n",
      "[0, 0, 1, 0, 0]\n",
      "[0, 0, 1, 0, 0]\n",
      "[0, 0, 1, 0, 0]\n"
     ]
    }
   ],
   "source": [
    "table = [[0] * 5] * 6  # [line, line, line, line, line, line]\n",
    "\n",
    "for line in table:\n",
    "    print(line)\n",
    "\n",
    "table[0][2] = 1\n",
    "\n",
    "for line in table:\n",
    "    print(line)\n",
    "\n",
    "# 1 записалась везде"
   ],
   "metadata": {
    "collapsed": false,
    "pycharm": {
     "name": "#%%\n"
    }
   }
  },
  {
   "cell_type": "markdown",
   "source": [
    "При вызове функции вы всегда должны понимать, может ли\n",
    "она изменить переданные аргументы. Изменение аргументов\n",
    "- это побочный эффект.\n",
    "\n",
    "Будут задачи, в которых надо писать функции двумя способами.\n",
    "Например, допустим задача о переворачивании списка.\n",
    "\n",
    "```\n",
    "#1 функция, которая изменяет данные\n",
    "list = [10, 20, 30]\n",
    "revert_list_mutable(list)  # изменила список\n",
    "print(list)  # [30, 20, 10]\n",
    "\n",
    "#2 чистая функция\n",
    "list = [10, 20, 30]\n",
    "new_list = revert_list_immutable(list)\n",
    "print(new_list)  # [30, 20, 10]\n",
    "print(list)  # [10, 20, 30] нет побочного эффекта\n",
    "```"
   ],
   "metadata": {
    "collapsed": false,
    "pycharm": {
     "name": "#%% md\n"
    }
   }
  }
 ],
 "metadata": {
  "kernelspec": {
   "display_name": "Python 3",
   "language": "python",
   "name": "python3"
  },
  "language_info": {
   "codemirror_mode": {
    "name": "ipython",
    "version": 2
   },
   "file_extension": ".py",
   "mimetype": "text/x-python",
   "name": "python",
   "nbconvert_exporter": "python",
   "pygments_lexer": "ipython2",
   "version": "2.7.6"
  }
 },
 "nbformat": 4,
 "nbformat_minor": 0
}