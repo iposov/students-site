{
 "cells": [
  {
   "cell_type": "markdown",
   "source": [
    "Покажем пример, как написать одну функцию\n",
    "(переворачивание списка) двумя способами:"
   ],
   "metadata": {
    "collapsed": false,
    "pycharm": {
     "name": "#%% md\n"
    }
   }
  },
  {
   "cell_type": "code",
   "execution_count": 5,
   "metadata": {
    "collapsed": true
   },
   "outputs": [
    {
     "name": "stdout",
     "output_type": "stream",
     "text": [
      "функция с побочным эффектом\n",
      "[30, 20, 10]\n",
      "чистая функция\n",
      "[30, 20, 10]\n",
      "[10, 20, 30]\n"
     ]
    }
   ],
   "source": [
    "def revert_list_immutable(l):\n",
    "    return l[::-1]\n",
    "\n",
    "def revert_list_mutable(l):\n",
    "    \"\"\"\n",
    "    #1 способ\n",
    "    # поменяем в цикле местами все значения:\n",
    "    # l[0] <-> l[-1] l[len(n)-1]\n",
    "    # l[1] <-> l[-2] l[len(n)-2]\n",
    "    # ...\n",
    "    for i in range(len(l) // 2):  # от 0 до длины-1\n",
    "        # l[i] <-> l[len(l) - i - 1]\n",
    "        #tmp = l[i]\n",
    "        #l[i] = l[len(l) - 1 - i]\n",
    "        #l[len(l) - 1 - i] = tmp\n",
    "        # есть еще один способ поменять местами:\n",
    "        # a, b = b, a\n",
    "        l[i], l[len(l) - 1 - i] = l[len(l) - 1 - i], l[i]\n",
    "    # ничего не возвращаем, потому что изменили аргумент\n",
    "    \"\"\"\n",
    "    #2\n",
    "    m = l[::-1]\n",
    "    l.clear()  # очищаю список\n",
    "    l.extend(m)  # записать в список l все значения из m\n",
    "    #Это не сработает: l = l[::-1]  исходный список не изменится, изменится\n",
    "    # только переменная l, которая на него показывает\n",
    "\n",
    "#1 функция, которая изменяет данные\n",
    "print(\"функция с побочным эффектом\")\n",
    "numbers = [10, 20, 30]\n",
    "revert_list_mutable(numbers)  # изменила список\n",
    "print(numbers)  # [30, 20, 10]\n",
    "\n",
    "#2 чистая функция\n",
    "print(\"чистая функция\")\n",
    "numbers = [10, 20, 30]\n",
    "new_numbers = revert_list_immutable(numbers)\n",
    "print(new_numbers)  # [30, 20, 10]\n",
    "print(numbers)  # [10, 20, 30] нет побочного эффекта"
   ]
  },
  {
   "cell_type": "markdown",
   "source": [
    "# Значение None\n",
    "\n",
    "Еще один тип NoneType имеет ровно одно значение\n",
    "`None`.\n",
    "\n",
    "Практически единственное, что можно делать с этим значением,\n",
    "это сравнивать с другими."
   ],
   "metadata": {
    "collapsed": false,
    "pycharm": {
     "name": "#%% md\n"
    }
   }
  },
  {
   "cell_type": "code",
   "execution_count": 1,
   "outputs": [
    {
     "name": "stdout",
     "output_type": "stream",
     "text": [
      "True\n"
     ]
    }
   ],
   "source": [
    "n = None\n",
    "\n",
    "print(n == None)  # True\n",
    "print(\"abc\" == None)  # False"
   ],
   "metadata": {
    "collapsed": false,
    "pycharm": {
     "name": "#%%\n"
    }
   }
  },
  {
   "cell_type": "markdown",
   "source": [
    "Правильно сравнивать с None через оператор `is` вместо `==`.\n",
    "Дело в том, что `is` проверяет равенство объектов,\n",
    "а `==` проверяет равенство содержимого объектов, и оно\n",
    "работает по-разному для разных видов объектов."
   ],
   "metadata": {
    "collapsed": false,
    "pycharm": {
     "name": "#%% md\n"
    }
   }
  },
  {
   "cell_type": "code",
   "execution_count": 4,
   "outputs": [
    {
     "name": "stdout",
     "output_type": "stream",
     "text": [
      "True\n",
      "True\n",
      "True\n",
      "False\n",
      "в n ничего нет\n"
     ]
    },
    {
     "ename": "TypeError",
     "evalue": "unsupported operand type(s) for +: 'NoneType' and 'int'",
     "output_type": "error",
     "traceback": [
      "\u001B[0;31m---------------------------------------------------------------------------\u001B[0m",
      "\u001B[0;31mTypeError\u001B[0m                                 Traceback (most recent call last)",
      "\u001B[0;32m<ipython-input-4-18166ad9d73d>\u001B[0m in \u001B[0;36m<module>\u001B[0;34m\u001B[0m\n\u001B[1;32m     16\u001B[0m     \u001B[0mprint\u001B[0m\u001B[0;34m(\u001B[0m\u001B[0;34m\"в n ничего нет\"\u001B[0m\u001B[0;34m)\u001B[0m\u001B[0;34m\u001B[0m\u001B[0;34m\u001B[0m\u001B[0m\n\u001B[1;32m     17\u001B[0m \u001B[0;34m\u001B[0m\u001B[0m\n\u001B[0;32m---> 18\u001B[0;31m \u001B[0mprint\u001B[0m\u001B[0;34m(\u001B[0m\u001B[0mn\u001B[0m \u001B[0;34m+\u001B[0m \u001B[0;36m1\u001B[0m\u001B[0;34m)\u001B[0m\u001B[0;34m\u001B[0m\u001B[0;34m\u001B[0m\u001B[0m\n\u001B[0m",
      "\u001B[0;31mTypeError\u001B[0m: unsupported operand type(s) for +: 'NoneType' and 'int'"
     ]
    }
   ],
   "source": [
    "a = [10, 20, 30]\n",
    "b = a\n",
    "c = a.copy()\n",
    "# переменные a и b указывают на один и тот же список\n",
    "# переменная c указывает на другой список, хотя и с теми\n",
    "# же числами\n",
    "\n",
    "print(a == b)  # True, оба сравнения верны\n",
    "print(a == c)  # True, содержимое списков одинаковое\n",
    "print(a is b)  # True, объект один и тот же\n",
    "print(a is c)  # False, объекты разные\n",
    "\n",
    "# с None принято сравнивать через is\n",
    "\n",
    "if n is None:\n",
    "    print(\"в n ничего нет\")"
   ],
   "metadata": {
    "collapsed": false,
    "pycharm": {
     "name": "#%%\n"
    }
   }
  },
  {
   "cell_type": "markdown",
   "source": [
    "Если в функции не было явно возвращено значение или\n",
    "использовался `return` без выражения, то функция возвращает\n",
    "None. Получается, что в Python у любой функции есть\n",
    "возвращаемое значение, иногда это None."
   ],
   "metadata": {
    "collapsed": false,
    "pycharm": {
     "name": "#%% md\n"
    }
   }
  },
  {
   "cell_type": "code",
   "execution_count": 5,
   "outputs": [
    {
     "name": "stdout",
     "output_type": "stream",
     "text": [
      "-4\n",
      "None\n",
      "None\n"
     ]
    }
   ],
   "source": [
    "def f(x):\n",
    "    if x < 0:\n",
    "        return x + 1\n",
    "    elif x > 0:\n",
    "        return  # return без выражения\n",
    "\n",
    "print(f(-5))  # x < 0, return x + 1\n",
    "print(f(5))  # x > 0, return\n",
    "print(f(0))  # не сработало ни одного return"
   ],
   "metadata": {
    "collapsed": false,
    "pycharm": {
     "name": "#%%\n"
    }
   }
  },
  {
   "cell_type": "markdown",
   "source": [
    "# Деструктуризация\n",
    "\n",
    "Мы знаем, как создать список из нескольких элементов:\n",
    "`[10, 20, 30]`. Но если есть последовательность элементов,\n",
    "ее тоже можно указать как часть списка:"
   ],
   "metadata": {
    "collapsed": false,
    "pycharm": {
     "name": "#%% md\n"
    }
   }
  },
  {
   "cell_type": "code",
   "execution_count": 6,
   "outputs": [
    {
     "name": "stdout",
     "output_type": "stream",
     "text": [
      "[100, 200, 'abc', 10, 20, 30, True, 0, 1, 2, 3, 4]\n"
     ]
    }
   ],
   "source": [
    "a = [10, 20, 30]\n",
    "b = 40, 50, 60\n",
    "c = range(5)\n",
    "\n",
    "l = [100, 200, \"abc\", *a, True, *c]\n",
    "print(l)"
   ],
   "metadata": {
    "collapsed": false,
    "pycharm": {
     "name": "#%%\n"
    }
   }
  },
  {
   "cell_type": "markdown",
   "source": [
    "Слева от оператора присваивания `=` можно указывать\n",
    "не только переменные, но и несколько переменных через запятую."
   ],
   "metadata": {
    "collapsed": false,
    "pycharm": {
     "name": "#%% md\n"
    }
   }
  },
  {
   "cell_type": "code",
   "execution_count": 10,
   "outputs": [
    {
     "ename": "SyntaxError",
     "evalue": "invalid syntax (<ipython-input-10-7a66b5504cea>, line 9)",
     "output_type": "error",
     "traceback": [
      "\u001B[0;36m  File \u001B[0;32m\"<ipython-input-10-7a66b5504cea>\"\u001B[0;36m, line \u001B[0;32m9\u001B[0m\n\u001B[0;31m    Это же работает и для других последоавтельностей\u001B[0m\n\u001B[0m        ^\u001B[0m\n\u001B[0;31mSyntaxError\u001B[0m\u001B[0;31m:\u001B[0m invalid syntax\n"
     ]
    }
   ],
   "source": [
    "l = [10, 20, 30]\n",
    "a, b, c = l  # список разделится на три элемента\n",
    "print(a)\n",
    "print(b)\n",
    "print(c)\n",
    "\n",
    "# a, b = l  # ошибка"
   ],
   "metadata": {
    "collapsed": false,
    "pycharm": {
     "name": "#%%\n"
    }
   }
  },
  {
   "cell_type": "markdown",
   "source": [
    "Это же работает и для других последоавтельностей"
   ],
   "metadata": {
    "collapsed": false,
    "pycharm": {
     "name": "#%% md\n"
    }
   }
  },
  {
   "cell_type": "code",
   "execution_count": 11,
   "outputs": [
    {
     "name": "stdout",
     "output_type": "stream",
     "text": [
      "0\n",
      "1\n",
      "2\n",
      "3\n"
     ]
    }
   ],
   "source": [
    "a, b, c, d = range(4)\n",
    "print(a)\n",
    "print(b)\n",
    "print(c)\n",
    "print(d)"
   ],
   "metadata": {
    "collapsed": false,
    "pycharm": {
     "name": "#%%\n"
    }
   }
  },
  {
   "cell_type": "markdown",
   "source": [
    "При деструктуризации можно пометить `*` элементы,\n",
    "которым должно присвоиться несколько значений:"
   ],
   "metadata": {
    "collapsed": false,
    "pycharm": {
     "name": "#%% md\n"
    }
   }
  },
  {
   "cell_type": "code",
   "execution_count": 13,
   "outputs": [
    {
     "name": "stdout",
     "output_type": "stream",
     "text": [
      "10\n",
      "20\n",
      "[30, 40, 50]\n",
      "0\n",
      "1\n",
      "[2, 3, 4, 5, 6, 7, 8, 9]\n"
     ]
    }
   ],
   "source": [
    "l = [10, 20, 30, 40, 50]\n",
    "a, b, *c = l\n",
    "print(a)\n",
    "print(b)\n",
    "print(c)\n",
    "\n",
    "# или для range:\n",
    "a, b, *c = range(10)\n",
    "print(a)\n",
    "print(b)\n",
    "print(c)"
   ],
   "metadata": {
    "collapsed": false,
    "pycharm": {
     "name": "#%%\n"
    }
   }
  },
  {
   "cell_type": "markdown",
   "source": [
    "В обоих примерах `c` со звездочкой стало списком,\n",
    "который получил все недостающие элементы. Можно\n",
    "комбинировать *:"
   ],
   "metadata": {
    "collapsed": false,
    "pycharm": {
     "name": "#%% md\n"
    }
   }
  },
  {
   "cell_type": "code",
   "execution_count": 15,
   "outputs": [
    {
     "name": "stdout",
     "output_type": "stream",
     "text": [
      "0 [1, 2, 3, 4, 5, 6, 7, 8] 9\n"
     ]
    },
    {
     "ename": "SyntaxError",
     "evalue": "two starred expressions in assignment (<ipython-input-15-a02dc887938e>, line 4)",
     "output_type": "error",
     "traceback": [
      "\u001B[0;36m  File \u001B[0;32m\"<ipython-input-15-a02dc887938e>\"\u001B[0;36m, line \u001B[0;32m4\u001B[0m\n\u001B[0;31m    a, *b, c, *d = range(10)\u001B[0m\n\u001B[0m    ^\u001B[0m\n\u001B[0;31mSyntaxError\u001B[0m\u001B[0;31m:\u001B[0m two starred expressions in assignment\n"
     ]
    }
   ],
   "source": [
    "a, *b, c = range(10)  # a,c - первый и последний элементы\n",
    "print(a, b, c)\n",
    "\n",
    "# a, *b, c, *d = range(10) - две звездочки нельзя"
   ],
   "metadata": {
    "collapsed": false,
    "pycharm": {
     "name": "#%%\n"
    }
   }
  },
  {
   "cell_type": "markdown",
   "source": [
    "Пример задачи, как сдвинуть список по циклу. Например,\n",
    "из `[10, 20, 30, 40, 50]` сделать `[50, 10, 20, 30, 40]`."
   ],
   "metadata": {
    "collapsed": false,
    "pycharm": {
     "name": "#%% md\n"
    }
   }
  },
  {
   "cell_type": "code",
   "execution_count": 19,
   "outputs": [
    {
     "name": "stdout",
     "output_type": "stream",
     "text": [
      "[50, [10, 20, 30, 40]]\n",
      "[[10, 20, 30, 40], 50]\n"
     ]
    }
   ],
   "source": [
    "l = [10, 20, 30, 40, 50]\n",
    "#1\n",
    "*head, tail = l\n",
    "l = [tail, head]\n",
    "print(l)\n",
    "#2 без деструктуризации\n",
    "l = [l[-1], *l[:-1]]\n",
    "print(l)"
   ],
   "metadata": {
    "collapsed": false,
    "pycharm": {
     "name": "#%%\n"
    }
   }
  },
  {
   "cell_type": "markdown",
   "source": [
    "Теперь становится понятно, как работает обмен переменных:"
   ],
   "metadata": {
    "collapsed": false,
    "pycharm": {
     "name": "#%% md\n"
    }
   }
  },
  {
   "cell_type": "code",
   "execution_count": 20,
   "outputs": [
    {
     "name": "stdout",
     "output_type": "stream",
     "text": [
      "20\n",
      "10\n"
     ]
    }
   ],
   "source": [
    "a = 10\n",
    "b = 20\n",
    "\n",
    "a, b = b, a\n",
    "# создали кортеж справа. Слева деструктурировали его\n",
    "\n",
    "print(a)\n",
    "print(b)"
   ],
   "metadata": {
    "collapsed": false,
    "pycharm": {
     "name": "#%%\n"
    }
   }
  },
  {
   "cell_type": "markdown",
   "source": [
    "Деструктуризацию принято использовать в еще одной\n",
    "ситуации, перечисление элементов перечисления с индексами.\n",
    "Запомните встроенную функцию `enumerate`:"
   ],
   "metadata": {
    "collapsed": false,
    "pycharm": {
     "name": "#%% md\n"
    }
   }
  },
  {
   "cell_type": "code",
   "execution_count": 24,
   "outputs": [
    {
     "name": "stdout",
     "output_type": "stream",
     "text": [
      "<enumerate object at 0x7f4f92e0fd80>\n",
      "[(0, 10), (1, 20), (2, 30), (3, 40), (4, 50)]\n",
      "[(0, 10), (1, 11), (2, 12), (3, 13), (4, 14), (5, 15), (6, 16), (7, 17), (8, 18), (9, 19)]\n"
     ]
    }
   ],
   "source": [
    "l = [10, 20, 30, 40, 50]\n",
    "print(enumerate(l))\n",
    "print(list(enumerate(l)))  # перед печатью превратим в список\n",
    "print(list(enumerate(range(10, 20))))"
   ],
   "metadata": {
    "collapsed": false,
    "pycharm": {
     "name": "#%%\n"
    }
   }
  },
  {
   "cell_type": "markdown",
   "source": [
    "Получается, что enumerate создает из одного\n",
    "перечисление другое - это кортежи с индексом и\n",
    "элементами исходного перечисления."
   ],
   "metadata": {
    "collapsed": false,
    "pycharm": {
     "name": "#%% md\n"
    }
   }
  },
  {
   "cell_type": "code",
   "execution_count": 28,
   "outputs": [
    {
     "name": "stdout",
     "output_type": "stream",
     "text": [
      "l[0] = 10\n",
      "l[1] = 20\n",
      "l[2] = 30\n",
      "l[3] = 40\n",
      "l[4] = 50\n"
     ]
    }
   ],
   "source": [
    "l = [10, 20, 30, 40, 50]\n",
    "for i, x in enumerate(l):\n",
    "    # переменной i присваивается индекс\n",
    "    # переменной x присваивается элемент l\n",
    "    print(f\"l[{i}] = {x}\")"
   ],
   "metadata": {
    "collapsed": false,
    "pycharm": {
     "name": "#%%\n"
    }
   }
  },
  {
   "cell_type": "markdown",
   "source": [
    "Используйте это вместо следующего кода:"
   ],
   "metadata": {
    "collapsed": false,
    "pycharm": {
     "name": "#%% md\n"
    }
   }
  },
  {
   "cell_type": "code",
   "execution_count": 29,
   "outputs": [
    {
     "name": "stdout",
     "output_type": "stream",
     "text": [
      "l[0] = 10\n",
      "l[1] = 20\n",
      "l[2] = 30\n",
      "l[3] = 40\n",
      "l[4] = 50\n"
     ]
    }
   ],
   "source": [
    "# Это пример, как не нужно писать\n",
    "l = [10, 20, 30, 40, 50]\n",
    "for i in range(len(l)):\n",
    "    x = l[i]\n",
    "    print(f\"l[{i}] = {x}\")\n",
    "\n"
   ],
   "metadata": {
    "collapsed": false,
    "pycharm": {
     "name": "#%%\n"
    }
   }
  }
 ],
 "metadata": {
  "kernelspec": {
   "display_name": "Python 3",
   "language": "python",
   "name": "python3"
  },
  "language_info": {
   "codemirror_mode": {
    "name": "ipython",
    "version": 2
   },
   "file_extension": ".py",
   "mimetype": "text/x-python",
   "name": "python",
   "nbconvert_exporter": "python",
   "pygments_lexer": "ipython2",
   "version": "2.7.6"
  }
 },
 "nbformat": 4,
 "nbformat_minor": 0
}