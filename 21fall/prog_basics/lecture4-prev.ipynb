{
 "cells": [
  {
   "cell_type": "markdown",
   "metadata": {
    "collapsed": true,
    "pycharm": {
     "name": "#%% md\n"
    }
   },
   "source": [
    "## Циклы в языке Python\n",
    "\n",
    "Циклы в программе позволяют повторить действия несколько раз.\n",
    "\n",
    "### Цикл for\n",
    "Этот цикл в Python имеет форму, которая может быть непривычна,\n",
    "если до этого вы изучали только C или Pascal. В цикле вы указываете\n",
    "переменную и набор значений, которое нужно перебрать. Например"
   ]
  },
  {
   "cell_type": "code",
   "execution_count": 1,
   "outputs": [
    {
     "name": "stdout",
     "output_type": "stream",
     "text": [
      "0\n",
      "1\n",
      "2\n",
      "3\n",
      "4\n",
      "5\n",
      "6\n",
      "7\n",
      "8\n",
      "9\n"
     ]
    }
   ],
   "source": [
    "for i in range(10):\n",
    "    print(i)"
   ],
   "metadata": {
    "collapsed": false,
    "pycharm": {
     "name": "#%%\n"
    }
   }
  },
  {
   "cell_type": "markdown",
   "source": [
    "Здесь `range(10)` — это набор значений из целых чисел от 0 до 9. В общем\n",
    "случае `range(n)` — это набор значений от $0$ до $n$, не включая\n",
    "последнее число. А `range(a,b)` — это набор значений от $a$ до $b$, не\n",
    "включая последнее значение $b$. Если указать третий аргумент, то это будет\n",
    "шаг перебора. Например, `range(0, 10, 3)` это числа 0, 3, 6, 9. A\n",
    "`range(0, 40, 5)` это 0, 5, 10, 15, 20, 25, 30, 35.\n",
    "Шаг может быть отрицательный: `range(5, 0, -1)` это числа 5, 4, 3, 2, 1\n",
    "(последнее значение 0 исключается):"
   ],
   "metadata": {
    "collapsed": false,
    "pycharm": {
     "name": "#%% md\n"
    }
   }
  },
  {
   "cell_type": "code",
   "execution_count": 2,
   "outputs": [
    {
     "name": "stdout",
     "output_type": "stream",
     "text": [
      "0\n",
      "5\n",
      "10\n",
      "15\n",
      "20\n",
      "25\n",
      "30\n",
      "35\n"
     ]
    }
   ],
   "source": [
    "for i in range(0, 40, 5):\n",
    "    print(i)"
   ],
   "metadata": {
    "collapsed": false,
    "pycharm": {
     "name": "#%%\n"
    }
   }
  },
  {
   "cell_type": "markdown",
   "source": [
    "В общем случае блок `for` выглядит так:\n",
    "\n",
    "```\n",
    "for [переменная] in [какое-то перечисление]:\n",
    "    [блок кода с отступом 4, можно использовать \"переменную\"]\n",
    "    [и можно делать несколько действий, по действию в каждой строке]\n",
    "```\n"
   ],
   "metadata": {
    "collapsed": false,
    "pycharm": {
     "name": "#%% md\n"
    }
   }
  }
 ],
 "metadata": {
  "kernelspec": {
   "display_name": "Python 3",
   "language": "python",
   "name": "python3"
  },
  "language_info": {
   "codemirror_mode": {
    "name": "ipython",
    "version": 2
   },
   "file_extension": ".py",
   "mimetype": "text/x-python",
   "name": "python",
   "nbconvert_exporter": "python",
   "pygments_lexer": "ipython2",
   "version": "2.7.6"
  }
 },
 "nbformat": 4,
 "nbformat_minor": 0
}