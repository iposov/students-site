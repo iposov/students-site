{
 "cells": [
  {
   "cell_type": "markdown",
   "metadata": {
    "collapsed": true,
    "pycharm": {
     "name": "#%% md\n"
    }
   },
   "source": [
    "## Циклы в языке Python\n",
    "\n",
    "Циклы в программе позволяют повторить действия несколько раз.\n",
    "\n",
    "### Цикл for\n",
    "Этот цикл в Python имеет форму, которая может быть непривычна,\n",
    "если до этого вы изучали только C или Pascal. В цикле вы указываете\n",
    "переменную и набор значений, которое нужно перебрать. Например"
   ]
  },
  {
   "cell_type": "code",
   "execution_count": 1,
   "outputs": [
    {
     "name": "stdout",
     "output_type": "stream",
     "text": [
      "0\n",
      "1\n",
      "2\n",
      "3\n",
      "4\n",
      "5\n",
      "6\n",
      "7\n",
      "8\n",
      "9\n"
     ]
    }
   ],
   "source": [
    "for i in range(10):\n",
    "    print(i)"
   ],
   "metadata": {
    "collapsed": false,
    "pycharm": {
     "name": "#%%\n"
    }
   }
  },
  {
   "cell_type": "markdown",
   "source": [
    "Здесь `range(10)` — это набор значений из целых чисел от 0 до 9. В общем\n",
    "случае `range(n)` — это набор значений от $0$ до $n$, не включая\n",
    "последнее число. А `range(a,b)` — это набор значений от $a$ до $b$, не\n",
    "включая последнее значение $b$. Если указать третий аргумент, то это будет\n",
    "шаг перебора. Например, `range(0, 10, 3)` это числа 0, 3, 6, 9. A\n",
    "`range(0, 40, 5)` это 0, 5, 10, 15, 20, 25, 30, 35.\n",
    "Шаг может быть отрицательный: `range(5, 0, -1)` это числа 5, 4, 3, 2, 1\n",
    "(последнее значение 0 исключается):"
   ],
   "metadata": {
    "collapsed": false,
    "pycharm": {
     "name": "#%% md\n"
    }
   }
  },
  {
   "cell_type": "code",
   "execution_count": 2,
   "outputs": [
    {
     "name": "stdout",
     "output_type": "stream",
     "text": [
      "0\n",
      "5\n",
      "10\n",
      "15\n",
      "20\n",
      "25\n",
      "30\n",
      "35\n"
     ]
    }
   ],
   "source": [
    "for i in range(0, 40, 5):\n",
    "    print(i)"
   ],
   "metadata": {
    "collapsed": false,
    "pycharm": {
     "name": "#%%\n"
    }
   }
  },
  {
   "cell_type": "markdown",
   "source": [
    "В общем случае блок `for` выглядит так:\n",
    "\n",
    "```\n",
    "for [переменная] in [какое-то перечисление]:\n",
    "    [блок кода с отступом 4, можно использовать \"переменную\"]\n",
    "    [и можно делать несколько действий, по действию в каждой строке]\n",
    "```\n",
    "\n",
    "### Цикл while\n",
    "\n",
    "Выглядит так:\n",
    "\n",
    "```\n",
    "while [условие]:\n",
    "    [Тело цикла, действия, которые надо повторять. Оступ 4 пробела]\n",
    "```\n",
    "\n",
    "Цикл работает так:\n",
    "1. проверяется условие. Если оно `False`, цикл заканчивается\n",
    "2. выполняем тело цикла\n",
    "3. возвращаемся на шаг 1"
   ],
   "metadata": {
    "collapsed": false,
    "pycharm": {
     "name": "#%% md\n"
    }
   }
  },
  {
   "cell_type": "code",
   "execution_count": 3,
   "outputs": [
    {
     "name": "stdout",
     "output_type": "stream",
     "text": [
      "0\n",
      "1\n",
      "2\n",
      "3\n",
      "4\n",
      "5\n",
      "6\n",
      "7\n",
      "8\n",
      "9\n",
      "10\n"
     ]
    }
   ],
   "source": [
    "i = 0\n",
    "while i <= 10:\n",
    "    print(i)\n",
    "    i = i + 1  # i += 1"
   ],
   "metadata": {
    "collapsed": false,
    "pycharm": {
     "name": "#%%\n"
    }
   }
  },
  {
   "cell_type": "markdown",
   "source": [
    "Распечатываем `i` от 0 до 10, потом `i` становится 11,\n",
    "условие не выполняется, цикл заканчивается.\n",
    "\n",
    "Частая ситуация, что условие хочется проверять не в начале,\n",
    "а в конце или в середине тела цикла. Допустим, пользователь\n",
    "должен вводить команды с клавиатуры, программа выполняет\n",
    "команды, пока не встретится команда stop."
   ],
   "metadata": {
    "collapsed": false
   }
  },
  {
   "cell_type": "code",
   "execution_count": 5,
   "outputs": [
    {
     "name": "stdout",
     "output_type": "stream",
     "text": [
      "Выполняю команду hello\n",
      "Выполняю команду bye\n"
     ]
    }
   ],
   "source": [
    "command = input(\"Введите вашу команду или stop:\")  # input просит ввести текст на клавиатуре\n",
    "while command != \"stop\":\n",
    "    print(\"Выполняю команду\", command)\n",
    "    command = input(\"Введите вашу команду или stop:\")"
   ],
   "metadata": {
    "collapsed": false,
    "pycharm": {
     "name": "#%%\n"
    }
   }
  },
  {
   "cell_type": "markdown",
   "source": [
    "Как избежать повторения input()?"
   ],
   "metadata": {
    "collapsed": false,
    "pycharm": {
     "name": "#%% md\n"
    }
   }
  },
  {
   "cell_type": "code",
   "execution_count": null,
   "outputs": [],
   "source": [
    "while True:  # бесконечное повторение\n",
    "    command = input(\"Введите вашу команду или stop:\")\n",
    "    if command == \"stop\":\n",
    "        break  # команда выхода из цикла (для for)\n",
    "    print(\"Выполняю команду\", command)\n"
   ],
   "metadata": {
    "collapsed": false,
    "pycharm": {
     "name": "#%%\n"
    }
   }
  },
  {
   "cell_type": "markdown",
   "source": [
    "## Операции со строками\n",
    "\n",
    "Посмотрим на примерах"
   ],
   "metadata": {
    "collapsed": false,
    "pycharm": {
     "name": "#%% md\n"
    }
   }
  },
  {
   "cell_type": "code",
   "source": [
    "s = \"abcdef-XYZ\"\n",
    "len(s)  # длина строки, результат типа int\n",
    "print(len(s))\n",
    "print(len(s) + 42)\n",
    "print(len(s) == 10)\n",
    "print(len(\"abc\"))\n",
    "# строки складываются, умножаются на число\n",
    "print(\"abc\" + \"xyz\")\n",
    "s = \"abc\" + \"ABC\"\n",
    "print(s)\n",
    "print(\"abc\" * 5)  # повторение строки"
   ],
   "metadata": {
    "collapsed": false,
    "pycharm": {
     "name": "#%%\n"
    }
   },
   "execution_count": 18,
   "outputs": [
    {
     "name": "stdout",
     "output_type": "stream",
     "text": [
      "10\n",
      "52\n",
      "True\n",
      "3\n",
      "abcxyz\n",
      "abcABC\n",
      "abcabcabcabcabc\n"
     ]
    }
   ]
  },
  {
   "cell_type": "markdown",
   "source": [
    "У строк есть много «методов». Они вызываются:\n",
    "`строка.метод(аргументы)`. Указывается, с какой\n",
    "с какой строкой сделать действие, какое действие,\n",
    "как его сделать."
   ],
   "metadata": {
    "collapsed": false,
    "pycharm": {
     "name": "#%% md\n"
    }
   }
  },
  {
   "cell_type": "code",
   "execution_count": 35,
   "outputs": [
    {
     "name": "stdout",
     "output_type": "stream",
     "text": [
      "ABCDEF XYZ\n",
      "abcdef xyz\n",
      "Abcdef Xyz\n",
      "Abcdef xyz\n",
      "True\n",
      "False\n",
      "abc\n",
      "a.,b.,c\n",
      "       abc\n",
      "abc.......\n",
      "True\n",
      "False\n"
     ]
    }
   ],
   "source": [
    "s = \"abcdef XYZ\"\n",
    "print(s.upper())\n",
    "print(s.lower())\n",
    "print(s.title())  # заглавная буква в начале каждого слова\n",
    "print(s.capitalize())  # заглавная только первая\n",
    "\n",
    "print(s.startswith(\"abc\"))  # возвращает bool\n",
    "print(s.endswith(\"xyz\"))\n",
    "print(\"    abc      \".strip())  # убрать пробелы из начала и конца\n",
    "# можно указать символы, которые надо убрать\n",
    "print(\".,...,,.,....,a.,b.,c.,.,.,.,,,.\".strip(\".,\"))\n",
    "# еще есть lstrip, rstrip убирать слева, справа\n",
    "print(\"abc\".rjust(10))  # добавить пробелы слева до 10 символов\n",
    "print(\"abc\".ljust(10, '.'))  # добавить '.' справа до 10 символов\n",
    "\n",
    "# проверки условий\n",
    "print(\"abc\".isalpha())  # проверка, что только буквы\n",
    "print(\"abc\".isnumeric()) # что только цифры\n",
    "print(\"abc\".islower())  # проверка, что всё в нижнем регистре\n",
    "print(\"abc\".isupper())  # проверка, что всё в верхнем регистре"
   ],
   "metadata": {
    "collapsed": false,
    "pycharm": {
     "name": "#%%\n"
    }
   }
  },
  {
   "cell_type": "markdown",
   "source": [
    "Все операции со строками можно найти по ссылке\n",
    "[https://docs.python.org/3/library/stdtypes.html?highlight=str#str](https://docs.python.org/3/library/stdtypes.html?highlight=str#str)\n",
    "\n",
    "# Типы-последовательности\n",
    "\n",
    "Значение типа-последовательности содержит в себе несколько\n",
    "других значений. Основные типы-последовательности:\n",
    "1. Строки — знакомы\n",
    "2. Диапазоны `range` (см. выше про `for`)\n",
    "3. Списки\n",
    "4. Кортежи (tuple)\n",
    "\n",
    "Списки и кортежи — аналоги массивов из других языков,\n",
    "хранят упорядоченную последовательность значений.\n",
    "\n",
    "Литералы списков и кортежей:"
   ],
   "metadata": {
    "collapsed": false,
    "pycharm": {
     "name": "#%% md\n"
    }
   }
  },
  {
   "cell_type": "code",
   "source": [
    "list1 = [10, 20, 30, 40]  # список из 4 элементов\n",
    "list2 = [10, \"abc\", 20, False]  # типы не важны\n",
    "list3 = []  # пустой список\n",
    "\n",
    "tuple1 = 10, 20, 30, 40  # кортеж из 4 элементов\n",
    "tuple2 = 10, \"abc\"  # кортеж из 2 элементов\n",
    "tuple3 = (42,)  # кортеж из 1 элемента (скобки, запятая)\n",
    "tuple4 = ()  # пустой кортеж\n",
    "\n",
    "print(list1, tuple1, list3, tuple4)"
   ],
   "metadata": {
    "collapsed": false,
    "pycharm": {
     "name": "#%%\n"
    }
   },
   "execution_count": 37,
   "outputs": [
    {
     "name": "stdout",
     "output_type": "stream",
     "text": [
      "[10, 20, 30, 40] (10, 20, 30, 40) [] ()\n"
     ]
    }
   ]
  },
  {
   "cell_type": "markdown",
   "source": [
    "У кортежей часто пишут круглые скобки, чтобы не запутаться.\n",
    "`f(2, 3)` — это вызов функции от двух аргументов.\n",
    "`f((2, 3))` — это вызов функции от одного аргумента,\n",
    "кортежа `(2, 3)`.\n",
    "\n",
    "Отличие списков и кортежей в том, что значения внутри\n",
    "списка можно менять, а кортежи менять нельзя. (см. далее\n",
    "про изменяемые и неизменяемые объекты).\n",
    "\n",
    "## Операции с типами-последовательностями\n",
    "\n",
    "[https://docs.python.org/3/library/stdtypes.html?highlight=str#common-sequence-operations](https://docs.python.org/3/library/stdtypes.html?highlight=str#common-sequence-operations)\n",
    "\n",
    "### Слайсы, пока чуть-чуть на примерах"
   ],
   "metadata": {
    "collapsed": false,
    "pycharm": {
     "name": "#%% md\n"
    }
   }
  },
  {
   "cell_type": "code",
   "execution_count": 41,
   "outputs": [
    {
     "name": "stdout",
     "output_type": "stream",
     "text": [
      "a\n",
      "b\n",
      "abcd\n",
      "ef\n",
      "efgh\n"
     ]
    }
   ],
   "source": [
    "s = \"abcdefgh\"\n",
    "print(s[0])\n",
    "print(s[1])\n",
    "print(s[0:4])  # 0 по 4, 4 не включается\n",
    "print(s[4:6]) #\n",
    "print(s[4:]) # если не писать конец, то до конца\n",
    "print(s[:5]) # с начала по пятый"
   ],
   "metadata": {
    "collapsed": false,
    "pycharm": {
     "name": "#%%\n"
    }
   }
  },
  {
   "cell_type": "code",
   "execution_count": null,
   "outputs": [],
   "source": [],
   "metadata": {
    "collapsed": false,
    "pycharm": {
     "name": "#%%\n"
    }
   }
  }
 ],
 "metadata": {
  "kernelspec": {
   "display_name": "Python 3",
   "language": "python",
   "name": "python3"
  },
  "language_info": {
   "codemirror_mode": {
    "name": "ipython",
    "version": 2
   },
   "file_extension": ".py",
   "mimetype": "text/x-python",
   "name": "python",
   "nbconvert_exporter": "python",
   "pygments_lexer": "ipython2",
   "version": "2.7.6"
  }
 },
 "nbformat": 4,
 "nbformat_minor": 0
}