{
 "cells": [
  {
   "cell_type": "markdown",
   "metadata": {
    "collapsed": true,
    "pycharm": {
     "name": "#%% md\n"
    }
   },
   "source": [
    "# Напоминание об изменяемых и неизменяемых объектах\n",
    "\n",
    "1. В python переменные хранят не сами объекты, а ссылки\n",
    "   на объекты. Поэтому при присваивании переменной\n",
    "   какого-то значения на самом деле присваивается\n",
    "   только ссылка."
   ]
  },
  {
   "cell_type": "code",
   "execution_count": 1,
   "outputs": [
    {
     "name": "stdout",
     "output_type": "stream",
     "text": [
      "[10, 20, 30]\n",
      "[11, 20, 30]\n"
     ]
    }
   ],
   "source": [
    "x = [10, 20, 30]\n",
    "y = x  # обе переменные указывают на один и тот же список\n",
    "print(y)\n",
    "x[0] = 11 # изменили x, у тоже изменился\n",
    "print(y)\n",
    "\n",
    "z = x.copy()  # z = x[:]"
   ],
   "metadata": {
    "collapsed": false,
    "pycharm": {
     "name": "#%%\n"
    }
   }
  },
  {
   "cell_type": "markdown",
   "source": [
    "2. В Python бывают изменяемые и неизменяемые объекты,\n",
    "  вы всегда должны знать, какими из них пользуетесь.\n",
    "  Обычно неизменяемые эффективней — они быстрее\n",
    "  работают, занимают меньше памяти, с ними трудней\n",
    "  совершить ошибку. Недостаток — эти объекты не изменить.\n",
    "\n",
    "Примеры неизменяемых объектов: `str` (строки), `tuple`\n",
    "(кортежи) и `range` (диапазоны)."
   ],
   "metadata": {
    "collapsed": false,
    "pycharm": {
     "name": "#%% md\n"
    }
   }
  },
  {
   "cell_type": "code",
   "execution_count": 3,
   "outputs": [
    {
     "name": "stdout",
     "output_type": "stream",
     "text": [
      "Abcdef\n"
     ]
    }
   ],
   "source": [
    "s = \"abcdef\"\n",
    "# можно ли заменить 'a' на 'A'?\n",
    "# s[0] = 'A'  # ?? ошибка, нельзя в строке присваивать\n",
    "s = \"A\" + s[1:]  # работает, но...\n",
    "print(s)"
   ],
   "metadata": {
    "collapsed": false,
    "pycharm": {
     "name": "#%%\n"
    }
   }
  },
  {
   "cell_type": "markdown",
   "source": [
    "Изменился не объект \"abcdef\", а изменилось содержимое\n",
    "переменной."
   ],
   "metadata": {
    "collapsed": false,
    "pycharm": {
     "name": "#%% md\n"
    }
   }
  },
  {
   "cell_type": "code",
   "source": [
    "s = \"abcdef\"\n",
    "s.capitalize()  # содержимое s не меняется, создаётся новый объект\n",
    "print(s)"
   ],
   "metadata": {
    "collapsed": false,
    "pycharm": {
     "name": "#%%\n"
    }
   },
   "execution_count": 8,
   "outputs": [
    {
     "name": "stdout",
     "output_type": "stream",
     "text": [
      "abcdef\n"
     ]
    }
   ]
  },
  {
   "cell_type": "markdown",
   "source": [
    "такую строку саму по себе писать бессмысленно,\n",
    "реультат капитализации нужно куда-то сохранить\n",
    "или сразу использовать. Надо"
   ],
   "metadata": {
    "collapsed": false,
    "pycharm": {
     "name": "#%% md\n"
    }
   }
  },
  {
   "cell_type": "code",
   "execution_count": null,
   "outputs": [],
   "source": [
    "s = s.capitalize()\n",
    "# или\n",
    "s2 = s.capitalize()\n",
    "# или\n",
    "prtint(s.capitalize())"
   ],
   "metadata": {
    "collapsed": false,
    "pycharm": {
     "name": "#%%\n"
    }
   }
  },
  {
   "cell_type": "markdown",
   "source": [
    "Аналогично невозможно изменить `tuple`, `range`.\n",
    "\n",
    "# Множества\n",
    "\n",
    "Тип `set`.\n",
    "Важный тип данных в Python, используется часто, означает\n",
    "неупорядоченную коллекцию элементов.\n",
    "\n",
    "### Создание множества.\n",
    "\n",
    "1. Функция `set` от любого перечисления:"
   ],
   "metadata": {
    "collapsed": false,
    "pycharm": {
     "name": "#%% md\n"
    }
   }
  },
  {
   "cell_type": "code",
   "execution_count": 12,
   "outputs": [
    {
     "name": "stdout",
     "output_type": "stream",
     "text": [
      "{10, 20, 30}\n",
      "{10, 20, 30}\n",
      "{0, 1, 2, 3, 4, 5, 6, 7, 8, 9}\n"
     ]
    },
    {
     "ename": "TypeError",
     "evalue": "set expected at most 1 argument, got 3",
     "output_type": "error",
     "traceback": [
      "\u001B[0;31m---------------------------------------------------------------------------\u001B[0m",
      "\u001B[0;31mTypeError\u001B[0m                                 Traceback (most recent call last)",
      "\u001B[0;32m<ipython-input-12-1675449e303e>\u001B[0m in \u001B[0;36m<module>\u001B[0;34m\u001B[0m\n\u001B[1;32m      2\u001B[0m \u001B[0mprint\u001B[0m\u001B[0;34m(\u001B[0m\u001B[0mset\u001B[0m\u001B[0;34m(\u001B[0m\u001B[0;34m(\u001B[0m\u001B[0;36m10\u001B[0m\u001B[0;34m,\u001B[0m \u001B[0;36m20\u001B[0m\u001B[0;34m,\u001B[0m \u001B[0;36m30\u001B[0m\u001B[0;34m)\u001B[0m\u001B[0;34m)\u001B[0m\u001B[0;34m)\u001B[0m  \u001B[0;31m# от tuple\u001B[0m\u001B[0;34m\u001B[0m\u001B[0;34m\u001B[0m\u001B[0m\n\u001B[1;32m      3\u001B[0m \u001B[0mprint\u001B[0m\u001B[0;34m(\u001B[0m\u001B[0mset\u001B[0m\u001B[0;34m(\u001B[0m\u001B[0mrange\u001B[0m\u001B[0;34m(\u001B[0m\u001B[0;36m10\u001B[0m\u001B[0;34m)\u001B[0m\u001B[0;34m)\u001B[0m\u001B[0;34m)\u001B[0m  \u001B[0;31m# от range\u001B[0m\u001B[0;34m\u001B[0m\u001B[0;34m\u001B[0m\u001B[0m\n\u001B[0;32m----> 4\u001B[0;31m \u001B[0mprint\u001B[0m\u001B[0;34m(\u001B[0m\u001B[0mset\u001B[0m\u001B[0;34m(\u001B[0m\u001B[0;36m10\u001B[0m\u001B[0;34m,\u001B[0m \u001B[0;36m20\u001B[0m\u001B[0;34m,\u001B[0m \u001B[0;36m30\u001B[0m\u001B[0;34m)\u001B[0m\u001B[0;34m)\u001B[0m  \u001B[0;31m# можно просто перечислить элементы\u001B[0m\u001B[0;34m\u001B[0m\u001B[0;34m\u001B[0m\u001B[0m\n\u001B[0m\u001B[1;32m      5\u001B[0m \u001B[0mprint\u001B[0m\u001B[0;34m(\u001B[0m\u001B[0mset\u001B[0m\u001B[0;34m(\u001B[0m\u001B[0;34m\"Hello, World!\"\u001B[0m\u001B[0;34m)\u001B[0m\u001B[0;34m)\u001B[0m\u001B[0;34m\u001B[0m\u001B[0;34m\u001B[0m\u001B[0m\n",
      "\u001B[0;31mTypeError\u001B[0m: set expected at most 1 argument, got 3"
     ]
    }
   ],
   "source": [
    "print(set([10, 20, 30]))  # от списка\n",
    "print(set((10, 20, 30)))  # от tuple\n",
    "print(set(range(10)))  # от range\n",
    "print(set(\"Hello, World!\"))"
   ],
   "metadata": {
    "collapsed": false,
    "pycharm": {
     "name": "#%%\n"
    }
   }
  },
  {
   "cell_type": "markdown",
   "source": [
    "Последний пример показывает, что, во-первых, элементы\n",
    "множества не имеют определенного порядка, буквы странно\n",
    "перемешались. Во-вторых, множества хранят каждый элемент\n",
    "тол один раз, например, буква 'l' хранится не три раза,\n",
    "а один.\n",
    "\n",
    "2. Перечислить элементы в фигурных скобках:"
   ],
   "metadata": {
    "collapsed": false,
    "pycharm": {
     "name": "#%% md\n"
    }
   }
  },
  {
   "cell_type": "code",
   "execution_count": 14,
   "outputs": [
    {
     "name": "stdout",
     "output_type": "stream",
     "text": [
      "{10, 20, 30}\n",
      "{'world', 'abc', 'hello', 'xyz'}\n",
      "{}\n"
     ]
    }
   ],
   "source": [
    "print({10, 20, 30})\n",
    "print({\"abc\", \"xyz\", \"hello\", \"world\"})\n",
    "print({})  # это будет не пустое множество (!)\n",
    "print(set())  # для пустого множества надо set()"
   ],
   "metadata": {
    "collapsed": false,
    "pycharm": {
     "name": "#%%\n"
    }
   }
  },
  {
   "cell_type": "markdown",
   "source": [
    "Опять мы видим, что элементы перемешиваются произвольным\n",
    "образом.\n",
    "\n",
    "3. Генератор множества. Аналогичен генератору списка,\n",
    "  но записывается в фигурных скобках:"
   ],
   "metadata": {
    "collapsed": false,
    "pycharm": {
     "name": "#%% md\n"
    }
   }
  },
  {
   "cell_type": "code",
   "execution_count": 18,
   "outputs": [
    {
     "name": "stdout",
     "output_type": "stream",
     "text": [
      "{0, 1, 64, 4, 36, 9, 16, 49, 81, 25}\n",
      "{0, 1, 2}\n",
      "{0, 1}\n",
      "{0, 1, 3, 4, 9, 10, 12}\n"
     ]
    }
   ],
   "source": [
    "print({i ** 2 for i in range(10)})  # множество квадратов\n",
    "print({i % 3 for i in range(10)})\n",
    "print({i ** 2 % 3 for i in range(10)})  # только 0 и 1\n",
    "print({i ** 2 % 13 for i in range(100)})"
   ],
   "metadata": {
    "collapsed": false,
    "pycharm": {
     "name": "#%%\n"
    }
   }
  },
  {
   "cell_type": "markdown",
   "source": [
    "## Что можно делать с множествами?\n",
    "[Документация о set](https://docs.python.org/3/library/stdtypes.html#set-types-set-frozenset)"
   ],
   "metadata": {
    "collapsed": false,
    "pycharm": {
     "name": "#%% md\n"
    }
   }
  },
  {
   "cell_type": "code",
   "execution_count": 24,
   "outputs": [
    {
     "name": "stdout",
     "output_type": "stream",
     "text": [
      "True\n",
      "{20, 'cat', 'dog', 10, 'pen', 30}\n",
      "{20, 'cat', 'dog', 10, 'pen', 30}\n",
      "{40, 10, 50, 20, 30}\n",
      "True\n",
      "True\n",
      "True\n"
     ]
    }
   ],
   "source": [
    "s1 = {10, 20, 30}\n",
    "s2 = {\"cat\", \"dog\", \"pen\"}\n",
    "\n",
    "print(s1.isdisjoint(s2))  # не пересекаются?\n",
    "\n",
    "print(s1 | s2)  # объединение\n",
    "print(s1.union(s2))  # аналогично предыдущему\n",
    "print(s1.union([30, 40, 50]))\n",
    "\n",
    "print({10, 20, 30} <= {10, 15, 20, 25, 30, 35})\n",
    "print({10, 20, 30} <= set(range(100)))\n",
    "\n",
    "print(10 in {10, 20, 30})  # проверка, что элемент"
   ],
   "metadata": {
    "collapsed": false,
    "pycharm": {
     "name": "#%%\n"
    }
   }
  },
  {
   "cell_type": "markdown",
   "source": [
    "Все предыдущие операции не изменяли множество, а\n",
    "создавали новое. Следующие операции изменяют:"
   ],
   "metadata": {
    "collapsed": false,
    "pycharm": {
     "name": "#%% md\n"
    }
   }
  },
  {
   "cell_type": "code",
   "execution_count": 30,
   "outputs": [
    {
     "name": "stdout",
     "output_type": "stream",
     "text": [
      "{40, 10, 20, 30}\n",
      "{40, 10, 30}\n",
      "{50, 40, 10, 60, 30}\n"
     ]
    }
   ],
   "source": [
    "s1 = {10, 20, 30}\n",
    "s1.add(40) # добавить 40\n",
    "print(s1)  # изменилось множество\n",
    "\n",
    "s1.remove(20)  # сработает\n",
    "#s1.remove(20)  # уже будет ошибка, 20 нет\n",
    "s1.discard(20)  # удалит, но без ошибки, если нет\n",
    "print(s1)\n",
    "\n",
    "s2 = {40, 50, 60}\n",
    "\n",
    "s1 |= s2  # s1 изменилось\n",
    "print(s1)\n",
    "# это похоже, но не эквивалентно\n",
    "s1 = s1 | s2  # здесь создаётся новый объект и присваивается s1"
   ],
   "metadata": {
    "collapsed": false,
    "pycharm": {
     "name": "#%%\n"
    }
   }
  },
  {
   "cell_type": "markdown",
   "source": [
    "Кроме `set` бывает `frozenset`. Это аналог множества,\n",
    "но он неизменяемый. Все функции из второй части примеров\n",
    "для frozenset не работают. (сравните `list` и `tuple`)\n"
   ],
   "metadata": {
    "collapsed": false,
    "pycharm": {
     "name": "#%% md\n"
    }
   }
  },
  {
   "cell_type": "code",
   "execution_count": 37,
   "outputs": [
    {
     "name": "stdout",
     "output_type": "stream",
     "text": [
      "frozenset({10, 20, 30})\n",
      "frozenset({40, 10, 50, 20, 60, 30})\n",
      "frozenset({50, 20, 70, 10, 60, 30})\n"
     ]
    }
   ],
   "source": [
    "s1 = frozenset([10, 20, 30])\n",
    "print(s1)\n",
    "s2 = s1.union([40, 50, 60])  # s1 не меняется\n",
    "print(s2)\n",
    "s3 = frozenset([50, 60, 70])\n",
    "print(s1 | s3)\n",
    "\n",
    "s1 = s1 | s3  # работает\n",
    "s1 |= s3  # это эквивалентно предыдущему"
   ],
   "metadata": {
    "collapsed": false,
    "pycharm": {
     "name": "#%%\n"
    }
   }
  },
  {
   "cell_type": "markdown",
   "source": [
    "## Замечание об операторах вида `[действие]=`"
   ],
   "metadata": {
    "collapsed": false,
    "pycharm": {
     "name": "#%% md\n"
    }
   }
  },
  {
   "cell_type": "code",
   "execution_count": 43,
   "outputs": [
    {
     "name": "stdout",
     "output_type": "stream",
     "text": [
      "11\n",
      "22\n",
      "[11, 22, 33, 44, 55]\n",
      "2\n",
      "2\n"
     ]
    }
   ],
   "source": [
    "x = 10\n",
    "x += 1  # эквивалентно x = x + 1\n",
    "print(x)\n",
    "\n",
    "x *= 2  # эквивалентно x = x * 2\n",
    "print(x)\n",
    "\n",
    "x = [11, 22, 33]\n",
    "x += [44, 55]  # эквивалентно x = x + [44, 55]\n",
    "print(x)\n",
    "\n",
    "# аналогично -, /, //, %\n",
    "x = 10\n",
    "x //= 4  # эквивалентно x = x // 4\n",
    "print(x)\n",
    "\n",
    "x %= 3   # Эквивалентно x = x % 3\n",
    "print(x)"
   ],
   "metadata": {
    "collapsed": false,
    "pycharm": {
     "name": "#%%\n"
    }
   }
  },
  {
   "cell_type": "markdown",
   "source": [
    "Изредка эквивалентность неточная, если оператор\n",
    "переопределен. Например, он переопределен для списков,\n",
    "для множеств. И делает что-то похожее, но не совсем.\n",
    "См. задачи.\n",
    "\n",
    "## Цикл по множеству.\n",
    "Множества можно перебирать с помощью обычного цикла,\n",
    "только порядок перебора заранее не определен:"
   ],
   "metadata": {
    "collapsed": false,
    "pycharm": {
     "name": "#%% md\n"
    }
   }
  },
  {
   "cell_type": "code",
   "execution_count": 46,
   "outputs": [
    {
     "name": "stdout",
     "output_type": "stream",
     "text": [
      "40\n",
      "10\n",
      "50\n",
      "20\n",
      "60\n",
      "30\n"
     ]
    }
   ],
   "source": [
    "s = {10, 20, 30, 40, 50, 60}\n",
    "for x in s:\n",
    "    print(x)"
   ],
   "metadata": {
    "collapsed": false,
    "pycharm": {
     "name": "#%%\n"
    }
   }
  },
  {
   "cell_type": "markdown",
   "source": [
    "## Какие элементы можно хранить в множестве\n",
    "\n",
    "Множество может хранить любые элементы, если они\n",
    "неизменяемые. (более точно, хэшируемые)"
   ],
   "metadata": {
    "collapsed": false,
    "pycharm": {
     "name": "#%% md\n"
    }
   }
  },
  {
   "cell_type": "code",
   "execution_count": 52,
   "outputs": [
    {
     "name": "stdout",
     "output_type": "stream",
     "text": [
      "True\n",
      "True\n",
      "False\n",
      "True\n"
     ]
    }
   ],
   "source": [
    "s = {10, 2.4, \"abc\", (5, 6), frozenset([4, 5])}\n",
    "\n",
    "print(2.4 in s)\n",
    "print((5, 6) in s)\n",
    "print((5, 7) in s)  # ложь\n",
    "\n",
    "set45 = frozenset(range(4, 6)) # диапазон от 4 до 5\n",
    "print(set45 in s)  # истина. Множество {4,5} содержится"
   ],
   "metadata": {
    "collapsed": false,
    "pycharm": {
     "name": "#%%\n"
    }
   }
  },
  {
   "cell_type": "markdown",
   "source": [
    "## Как неизменяемость строки может привести к проблемам производительности"
   ],
   "metadata": {
    "collapsed": false,
    "pycharm": {
     "name": "#%% md\n"
    }
   }
  },
  {
   "cell_type": "code",
   "execution_count": 65,
   "outputs": [
    {
     "name": "stdout",
     "output_type": "stream",
     "text": [
      "aaaaaaaaaaaaaaaaaaaa\n"
     ]
    }
   ],
   "source": [
    "s = \"\"\n",
    "for i in range(10000000):\n",
    "    s += 'a'  # s = s + 'a'\n",
    "print(s[:20])"
   ],
   "metadata": {
    "collapsed": false,
    "pycharm": {
     "name": "#%%\n"
    }
   }
  },
  {
   "cell_type": "markdown",
   "source": [
    "Эта программка подвисает на некоторое время. Действий\n",
    "копирования символа совершается:\n",
    "$1 + 2 + 3 + 4 + 5 + 6 + ... + 100000000$ — много, приемерно\n",
    "$\\frac{100000000\\cdot100000001}{2}$.\n",
    "\n",
    "Как лучше:"
   ],
   "metadata": {
    "collapsed": false,
    "pycharm": {
     "name": "#%% md\n"
    }
   }
  },
  {
   "cell_type": "code",
   "execution_count": 68,
   "outputs": [
    {
     "name": "stdout",
     "output_type": "stream",
     "text": [
      "aaaaaaaaaaaaaaaaaaaa\n"
     ]
    }
   ],
   "source": [
    "letters = []\n",
    "# for i in range(10000000):\n",
    "#     letters.append('a')\n",
    "letters = ['a'] * 10000000\n",
    "s = ''.join(letters)\n",
    "print(s[:20])"
   ],
   "metadata": {
    "collapsed": false,
    "pycharm": {
     "name": "#%%\n"
    }
   }
  },
  {
   "cell_type": "markdown",
   "source": [
    "`join` объединяет элементы списка в один через\n",
    "указанный разделитель:"
   ],
   "metadata": {
    "collapsed": false,
    "pycharm": {
     "name": "#%% md\n"
    }
   }
  },
  {
   "cell_type": "code",
   "execution_count": 61,
   "outputs": [
    {
     "data": {
      "text/plain": "'abc+cat+dog+t-rex'"
     },
     "execution_count": 61,
     "metadata": {},
     "output_type": "execute_result"
    }
   ],
   "source": [
    "'+'.join([\"abc\", \"cat\", \"dog\", \"t-rex\"])"
   ],
   "metadata": {
    "collapsed": false,
    "pycharm": {
     "name": "#%%\n"
    }
   }
  }
 ],
 "metadata": {
  "kernelspec": {
   "display_name": "Python 3",
   "language": "python",
   "name": "python3"
  },
  "language_info": {
   "codemirror_mode": {
    "name": "ipython",
    "version": 2
   },
   "file_extension": ".py",
   "mimetype": "text/x-python",
   "name": "python",
   "nbconvert_exporter": "python",
   "pygments_lexer": "ipython2",
   "version": "2.7.6"
  }
 },
 "nbformat": 4,
 "nbformat_minor": 0
}