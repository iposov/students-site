{
 "cells": [
  {
   "cell_type": "markdown",
   "source": [
    "# Лямбда-выражения\n",
    "Понятие пришло из лямбда-исчисления (это альтернативный способ описания понятия алгоритма). Лямбда-выражение описывает анонимную функцию:"
   ],
   "metadata": {
    "collapsed": false
   }
  },
  {
   "cell_type": "code",
   "execution_count": 5,
   "outputs": [
    {
     "name": "stdout",
     "output_type": "stream",
     "text": [
      "11\n",
      "[0, 1, 4, 9, 16, 25, 36, 49, 64, 81]\n",
      "21\n"
     ]
    }
   ],
   "source": [
    "f = lambda x: x + 1\n",
    "g = lambda x: [i ** 2 for i in range(x)]\n",
    "\n",
    "h = f\n",
    "\n",
    "print(f(10))\n",
    "print(g(10))\n",
    "print(h(20))"
   ],
   "metadata": {
    "collapsed": false,
    "pycharm": {
     "name": "#%%\n"
    }
   }
  },
  {
   "cell_type": "markdown",
   "source": [
    "На самом деле, обычные именованные функции тоже можно использовать как объекты первого рода, т.е. их можно хранить в переменных, передавать в функции:"
   ],
   "metadata": {
    "collapsed": false,
    "pycharm": {
     "name": "#%% md\n"
    }
   }
  },
  {
   "cell_type": "code",
   "execution_count": 7,
   "outputs": [
    {
     "name": "stdout",
     "output_type": "stream",
     "text": [
      "20\n"
     ]
    }
   ],
   "source": [
    "def mul2(x):\n",
    "    return 2 * x\n",
    "\n",
    "\n",
    "def mul3plus1(x):\n",
    "    return 3 * x + 1\n",
    "\n",
    "if True:\n",
    "    f = mul2\n",
    "else:\n",
    "    f = lambda x: x + 10\n",
    "\n",
    "print(f(10))\n"
   ],
   "metadata": {
    "collapsed": false,
    "pycharm": {
     "name": "#%%\n"
    }
   }
  },
  {
   "cell_type": "markdown",
   "source": [
    "У нас есть пример использования, это тестовая система: `test(my_task, \"...\")`"
   ],
   "metadata": {
    "collapsed": false,
    "pycharm": {
     "name": "#%% md\n"
    }
   }
  },
  {
   "cell_type": "markdown",
   "source": [
    "# Подробней про аргументы функций\n",
    "Пример:\n"
   ],
   "metadata": {
    "collapsed": false,
    "pycharm": {
     "name": "#%% md\n"
    }
   }
  },
  {
   "cell_type": "code",
   "execution_count": 10,
   "outputs": [
    {
     "name": "stdout",
     "output_type": "stream",
     "text": [
      "-10\n",
      "-10\n",
      "-10\n"
     ]
    }
   ],
   "source": [
    "def f(x, y):\n",
    "    return x - y\n",
    "\n",
    "print(f(10, 20))  # обычный вызов\n",
    "print(f(y=20, x=10))  # можно указывать значения для конкретных аргументов\n",
    "print(f(10, y=20))  # часто пишут так, чтобы было понятнее, что за аргумент\n",
    "# вспомним open(\"a.txt\", mode=\"r\", encoding=\"utf8\")"
   ],
   "metadata": {
    "collapsed": false,
    "pycharm": {
     "name": "#%%\n"
    }
   }
  },
  {
   "cell_type": "code",
   "execution_count": 13,
   "outputs": [
    {
     "name": "stdout",
     "output_type": "stream",
     "text": [
      "-10\n",
      "9\n",
      "-10\n"
     ]
    }
   ],
   "source": [
    "def f(x, y=1):  # аргумент по-умолчанию\n",
    "    return x - y\n",
    "\n",
    "print(f(10, 20))\n",
    "print(f(10))  # будет использовано y = 1\n",
    "print(f(y=20, x=10))\n"
   ],
   "metadata": {
    "collapsed": false,
    "pycharm": {
     "name": "#%%\n"
    }
   }
  },
  {
   "cell_type": "markdown",
   "source": [
    "Можно передать в функцию аргументы из перечислений (списков, кортежей, ...)\n"
   ],
   "metadata": {
    "collapsed": false,
    "pycharm": {
     "name": "#%% md\n"
    }
   }
  },
  {
   "cell_type": "code",
   "execution_count": 17,
   "outputs": [
    {
     "name": "stdout",
     "output_type": "stream",
     "text": [
      "-10\n"
     ]
    }
   ],
   "source": [
    "def f(x, y):\n",
    "    return x - y\n",
    "\n",
    "a = [10, 20]\n",
    "print(f(*a))  # видели в деструктуризации: b, *a = [10, 20, 30, 40] или [10, *a]\n",
    "# print(f(a)) # не работает, не указан y"
   ],
   "metadata": {
    "collapsed": false,
    "pycharm": {
     "name": "#%%\n"
    }
   }
  },
  {
   "cell_type": "markdown",
   "source": [
    "Иногда это используют с print:\n"
   ],
   "metadata": {
    "collapsed": false,
    "pycharm": {
     "name": "#%% md\n"
    }
   }
  },
  {
   "cell_type": "code",
   "execution_count": 19,
   "outputs": [
    {
     "name": "stdout",
     "output_type": "stream",
     "text": [
      "[10, 20, 30, 40]\n",
      "10 20 30 40\n"
     ]
    }
   ],
   "source": [
    "a = [10, 20, 30, 40]\n",
    "print(a)\n",
    "print(*a)  # эквивалентно print(10, 20, 30, 40)"
   ],
   "metadata": {
    "collapsed": false,
    "pycharm": {
     "name": "#%%\n"
    }
   }
  },
  {
   "cell_type": "markdown",
   "source": [
    "У `print` есть и именованные аргументы `end` и `sep`. `end` означает, что напечатать в конце, по-умолчанию это `\\n`. `sep` означает разделитель между несколькими значениями. По-умолчанию это пробел. Еще мы упоминали `file`, в какой файл печатать. По-умолчанию это стандартный вывод, т.е. консоль:\n"
   ],
   "metadata": {
    "collapsed": false,
    "pycharm": {
     "name": "#%% md\n"
    }
   }
  },
  {
   "cell_type": "code",
   "execution_count": 25,
   "outputs": [
    {
     "name": "stdout",
     "output_type": "stream",
     "text": [
      "10 20 30\n",
      "10+20+30\n",
      "10 $ 20 $ 30END40 $ 50 $ 60END"
     ]
    }
   ],
   "source": [
    "print(10, 20, 30)\n",
    "print(10, 20, 30, sep=\"+\")\n",
    "print(10, 20, 30, sep=\" $ \", end='END')\n",
    "print(40, 50, 60, sep=\" $ \", end='END')"
   ],
   "metadata": {
    "collapsed": false,
    "pycharm": {
     "name": "#%%\n"
    }
   }
  },
  {
   "cell_type": "markdown",
   "source": [
    "Как самостоятельно сделать, чтобы функция могла принимать произвольное количество аргументов?\n"
   ],
   "metadata": {
    "collapsed": false,
    "pycharm": {
     "name": "#%% md\n"
    }
   }
  },
  {
   "cell_type": "code",
   "execution_count": 27,
   "outputs": [
    {
     "name": "stdout",
     "output_type": "stream",
     "text": [
      "Получено 10 и (20, 30, 40, 50)\n"
     ]
    }
   ],
   "source": [
    "# все аргументы после первого собираются в tuple.\n",
    "def f(x, *y):\n",
    "    print(f\"Получено {x} и {y}\")\n",
    "\n",
    "f(10, 20, 30, 40, 50)"
   ],
   "metadata": {
    "collapsed": false,
    "pycharm": {
     "name": "#%%\n"
    }
   }
  },
  {
   "cell_type": "markdown",
   "source": [
    "Кроме этого, можно делать так, чтобы функция собирала все неизвестные именованные аргументы в словарь:\n"
   ],
   "metadata": {
    "collapsed": false,
    "pycharm": {
     "name": "#%% md\n"
    }
   }
  },
  {
   "cell_type": "code",
   "execution_count": 31,
   "outputs": [
    {
     "name": "stdout",
     "output_type": "stream",
     "text": [
      "Получено 10 и {'a': 4, 'b': 6, 'z': 17}\n",
      "Получено 20 и {'a': 4, 'b': 6, 'z': 17}\n",
      "Получено 30 и {'a': 4, 'b': 6, 'z': 17}\n"
     ]
    }
   ],
   "source": [
    "def f(x, **y):\n",
    "    print(f\"Получено {x} и {y}\")\n",
    "\n",
    "f(10, a=4, b=6, z=17)\n",
    "f(x=20, a=4, b=6, z=17)\n",
    "f(a=4, b=6, z=17, x=30)"
   ],
   "metadata": {
    "collapsed": false,
    "pycharm": {
     "name": "#%%\n"
    }
   }
  },
  {
   "cell_type": "markdown",
   "source": [
    "Можно комбинировать:\n"
   ],
   "metadata": {
    "collapsed": false,
    "pycharm": {
     "name": "#%% md\n"
    }
   }
  },
  {
   "cell_type": "code",
   "execution_count": 34,
   "outputs": [
    {
     "name": "stdout",
     "output_type": "stream",
     "text": [
      "Получено x=10 y=20 z=(30, 40) t={'a': 50, 'b': 60}\n"
     ]
    }
   ],
   "source": [
    "def f(x, y, *z, **t):\n",
    "    print(f\"Получено x={x} y={y} z={z} t={t}\")\n",
    "\n",
    "f(10, 20, 30, 40, a=50, b=60)"
   ],
   "metadata": {
    "collapsed": false,
    "pycharm": {
     "name": "#%%\n"
    }
   }
  },
  {
   "cell_type": "markdown",
   "source": [
    "# Обсуждение общих проблем в решениях\n",
    "\n",
    "## Лишние скобки\n",
    "Старайтесь избегать лишних скобок в коде, лишние скобки оправданы только если они позволяют лучше понять код:"
   ],
   "metadata": {
    "collapsed": false,
    "pycharm": {
     "name": "#%% md\n"
    }
   }
  },
  {
   "cell_type": "code",
   "execution_count": 36,
   "outputs": [
    {
     "data": {
      "text/plain": "False"
     },
     "execution_count": 36,
     "metadata": {},
     "output_type": "execute_result"
    }
   ],
   "source": [
    "def f(x):\n",
    "    return (x)  # не нужны скобки return x\n",
    "\n",
    "x = 10\n",
    "\n",
    "if (x > 10):  # не нужны скобки, это не C++, который требует () в if\n",
    "    print()\n",
    "\n",
    "((x > 10) and (x % 2 == 0)) or ((x < 10) and (x % 2 == 1))\n",
    "# можно\n",
    "x > 10 and x % 2 == 0 or x < 10 and x % 2 == 1\n",
    "# или для ясности\n",
    "(x > 10 and x % 2 == 0) or (x < 10 and x % 2 == 1)\n",
    "#сравните 2*3 + 4*5"
   ],
   "metadata": {
    "collapsed": false,
    "pycharm": {
     "name": "#%%\n"
    }
   }
  },
  {
   "cell_type": "markdown",
   "source": [],
   "metadata": {
    "collapsed": false,
    "pycharm": {
     "name": "#%% md\n"
    }
   }
  },
  {
   "cell_type": "code",
   "execution_count": 37,
   "outputs": [
    {
     "name": "stdout",
     "output_type": "stream",
     "text": [
      "False\n",
      "False\n",
      "True\n",
      "True\n"
     ]
    }
   ],
   "source": [
    "x = 10\n",
    "if x > 10:\n",
    "    print(True)\n",
    "else:\n",
    "    print(False)\n",
    "\n",
    "# эквивалентно\n",
    "\n",
    "print(x > 10)\n",
    "\n",
    "# или\n",
    "\n",
    "if x > 10:\n",
    "    print(False)\n",
    "else:\n",
    "    print(True)\n",
    "\n",
    "# эквивалентно\n",
    "\n",
    "print(not (x > 10))"
   ],
   "metadata": {
    "collapsed": false,
    "pycharm": {
     "name": "#%%\n"
    }
   }
  },
  {
   "cell_type": "markdown",
   "source": [
    "## Имена переменных\n",
    "Придумывайте понятные имена переменным.\n"
   ],
   "metadata": {
    "collapsed": false,
    "pycharm": {
     "name": "#%% md\n"
    }
   }
  },
  {
   "cell_type": "code",
   "execution_count": null,
   "outputs": [],
   "source": [
    "lst = [10, 20, 30]\n",
    "lst1 = lst.copy()\n",
    "# лучше\n",
    "lst_copy = lst.copy()\n",
    "\n",
    "lst = [\"да\", \"нет\", \"не знаю\"]\n",
    "# лучше\n",
    "answer_words = [\"да\", \"нет\", \"не знаю\"]"
   ],
   "metadata": {
    "collapsed": false,
    "pycharm": {
     "name": "#%%\n"
    }
   }
  },
  {
   "cell_type": "markdown",
   "source": [
    "## Используйте методы из стандартной библиотеки\n",
    "удаление элемента из середины списка\n"
   ],
   "metadata": {
    "collapsed": false,
    "pycharm": {
     "name": "#%% md\n"
    }
   }
  },
  {
   "cell_type": "code",
   "execution_count": 38,
   "outputs": [
    {
     "name": "stdout",
     "output_type": "stream",
     "text": [
      "[10, 30, 40]\n"
     ]
    }
   ],
   "source": [
    "a = [10, 20, 30, 40]\n",
    "# хочется удалить элемент с индексом i\n",
    "i = 1\n",
    "b = a[:i] + a[i + 1:]\n",
    "a.clear()\n",
    "a.extend(b)\n",
    "\n",
    "print(a)\n"
   ],
   "metadata": {
    "collapsed": false,
    "pycharm": {
     "name": "#%%\n"
    }
   }
  },
  {
   "cell_type": "markdown",
   "source": [
    "Лучше\n"
   ],
   "metadata": {
    "collapsed": false,
    "pycharm": {
     "name": "#%% md\n"
    }
   }
  },
  {
   "cell_type": "code",
   "execution_count": 39,
   "outputs": [
    {
     "name": "stdout",
     "output_type": "stream",
     "text": [
      "[10, 30, 40]\n"
     ]
    }
   ],
   "source": [
    "a = [10, 20, 30, 40]\n",
    "del a[1]\n",
    "print(a)\n"
   ],
   "metadata": {
    "collapsed": false,
    "pycharm": {
     "name": "#%%\n"
    }
   }
  },
  {
   "cell_type": "code",
   "execution_count": null,
   "outputs": [],
   "source": [],
   "metadata": {
    "collapsed": false,
    "pycharm": {
     "name": "#%%\n"
    }
   }
  }
 ],
 "metadata": {
  "kernelspec": {
   "display_name": "Python 3",
   "language": "python",
   "name": "python3"
  },
  "language_info": {
   "codemirror_mode": {
    "name": "ipython",
    "version": 2
   },
   "file_extension": ".py",
   "mimetype": "text/x-python",
   "name": "python",
   "nbconvert_exporter": "python",
   "pygments_lexer": "ipython2",
   "version": "2.7.6"
  }
 },
 "nbformat": 4,
 "nbformat_minor": 0
}