{
 "cells": [
  {
   "cell_type": "markdown",
   "metadata": {
    "collapsed": true,
    "pycharm": {
     "name": "#%% md\n"
    }
   },
   "source": [
    "# Напоминание о множествах"
   ]
  },
  {
   "cell_type": "code",
   "execution_count": 3,
   "outputs": [
    {
     "name": "stdout",
     "output_type": "stream",
     "text": [
      "{40, 10, 20, 30}\n",
      "True\n",
      "False\n"
     ]
    }
   ],
   "source": [
    "s = {10, 20, 30, 40}\n",
    "print(s)\n",
    "print(20 in s)\n",
    "print(25 in s)"
   ],
   "metadata": {
    "collapsed": false,
    "pycharm": {
     "name": "#%%\n"
    }
   }
  },
  {
   "cell_type": "markdown",
   "source": [
    "# Словари\n",
    "Важная структура данных, часто используется, есть во всех\n",
    "языках, в python встроена на уровне синтаксиса.\n",
    "\n",
    "Название типа: `dict`.\n",
    "\n",
    "Словарь устроен как массив (словари = ассоциативный массив =\n",
    "map), только индексы массива могут быть произвольными, не\n",
    "только числами от 0 до длины массива:"
   ],
   "metadata": {
    "collapsed": false,
    "pycharm": {
     "name": "#%% md\n"
    }
   }
  },
  {
   "cell_type": "code",
   "execution_count": 4,
   "outputs": [
    {
     "name": "stdout",
     "output_type": "stream",
     "text": [
      "{10: 'abc', 1000000: 'xyz'}\n",
      "abc\n",
      "xyz\n"
     ]
    },
    {
     "ename": "KeyError",
     "evalue": "25",
     "output_type": "error",
     "traceback": [
      "\u001B[0;31m---------------------------------------------------------------------------\u001B[0m",
      "\u001B[0;31mKeyError\u001B[0m                                  Traceback (most recent call last)",
      "\u001B[0;32m<ipython-input-4-17b9b9372423>\u001B[0m in \u001B[0;36m<module>\u001B[0;34m\u001B[0m\n\u001B[1;32m      6\u001B[0m \u001B[0mprint\u001B[0m\u001B[0;34m(\u001B[0m\u001B[0ma\u001B[0m\u001B[0;34m[\u001B[0m\u001B[0;36m10\u001B[0m\u001B[0;34m]\u001B[0m\u001B[0;34m)\u001B[0m\u001B[0;34m\u001B[0m\u001B[0;34m\u001B[0m\u001B[0m\n\u001B[1;32m      7\u001B[0m \u001B[0mprint\u001B[0m\u001B[0;34m(\u001B[0m\u001B[0ma\u001B[0m\u001B[0;34m[\u001B[0m\u001B[0;36m1000_000\u001B[0m\u001B[0;34m]\u001B[0m\u001B[0;34m)\u001B[0m\u001B[0;34m\u001B[0m\u001B[0;34m\u001B[0m\u001B[0m\n\u001B[0;32m----> 8\u001B[0;31m \u001B[0mprint\u001B[0m\u001B[0;34m(\u001B[0m\u001B[0ma\u001B[0m\u001B[0;34m[\u001B[0m\u001B[0;36m25\u001B[0m\u001B[0;34m]\u001B[0m\u001B[0;34m)\u001B[0m  \u001B[0;31m# ошибка\u001B[0m\u001B[0;34m\u001B[0m\u001B[0;34m\u001B[0m\u001B[0m\n\u001B[0m",
      "\u001B[0;31mKeyError\u001B[0m: 25"
     ]
    }
   ],
   "source": [
    "a = {}  # создание словаря, пустой словарь\n",
    "a[10] = \"abc\"\n",
    "a[1_000_000] = \"xyz\"\n",
    "\n",
    "print(a)\n",
    "print(a[10])\n",
    "print(a[1000_000])\n",
    "print(a[25])  # ошибка"
   ],
   "metadata": {
    "collapsed": false,
    "pycharm": {
     "name": "#%%\n"
    }
   }
  },
  {
   "cell_type": "markdown",
   "source": [
    "Выше мы создали массив из двух элементов, их индексы\n",
    "10 и 1000000. Можно делать индексы нечисловые:\n",
    "\n"
   ],
   "metadata": {
    "collapsed": false,
    "pycharm": {
     "name": "#%% md\n"
    }
   }
  },
  {
   "cell_type": "code",
   "execution_count": 5,
   "outputs": [
    {
     "name": "stdout",
     "output_type": "stream",
     "text": [
      "{10: 'abc', 1000000: 'xyz', 'cat': 'mew'}\n"
     ]
    }
   ],
   "source": [
    "a[\"cat\"] = \"mew\"\n",
    "print(a)"
   ],
   "metadata": {
    "collapsed": false,
    "pycharm": {
     "name": "#%%\n"
    }
   }
  },
  {
   "cell_type": "markdown",
   "source": [
    "Другие способы создания словаря:"
   ],
   "metadata": {
    "collapsed": false,
    "pycharm": {
     "name": "#%% md\n"
    }
   }
  },
  {
   "cell_type": "code",
   "execution_count": 11,
   "outputs": [
    {
     "name": "stdout",
     "output_type": "stream",
     "text": [
      "{10: 'abc', -10: 'pqr', 'cat': 'mew'}\n",
      "{'cat': 'mew', 'dog': 'woof'}\n",
      "{0: 0, 1: 1, 4: 2, 9: 3, 16: 4, 25: 5, 36: 6, 49: 7, 64: 8, 81: 9}\n"
     ]
    }
   ],
   "source": [
    "a1 = {}  # пустой\n",
    "# в фигурных скобках ключ и значение через :\n",
    "a2 = {10: \"abc\", -10: \"pqr\", 'cat': 'mew'}\n",
    "# функция dict, передаем перечисление (например, список) пар\n",
    "a3 = dict([(10, \"abc\"), (-10, \"pqr\"), ('cat', 'mew')])\n",
    "\n",
    "print(a3)\n",
    "\n",
    "#вызываем функцию dict, указывая аргументы как ключ=значение\n",
    "a4 = dict(cat=\"mew\", dog=\"woof\")\n",
    "print(a4)\n",
    "\n",
    "# генератор словарей (ср. с генератором списка, множества)\n",
    "# {ключ : значение for переменная in ... if ...}\n",
    "a5 = {i*i : i for i in range(10)}\n",
    "print(a5)"
   ],
   "metadata": {
    "collapsed": false,
    "pycharm": {
     "name": "#%%\n"
    }
   }
  },
  {
   "cell_type": "markdown",
   "source": [
    "Как получать значения из массива:\n"
   ],
   "metadata": {
    "collapsed": false,
    "pycharm": {
     "name": "#%% md\n"
    }
   }
  },
  {
   "cell_type": "code",
   "execution_count": 16,
   "outputs": [
    {
     "name": "stdout",
     "output_type": "stream",
     "text": [
      "mew\n",
      "mew\n",
      "None\n",
      "mew\n",
      "no idea\n"
     ]
    }
   ],
   "source": [
    "a = {'cat': 'mew', 'dog': 'woof', 'cow': 'moo'}\n",
    "\n",
    "# можно указать индекс в квадратных скобках, это аналогично\n",
    "# спискам.\n",
    "print(a['cat'])  # получаю значение для индекса (ключа) 'cat'\n",
    "# print(a['wolf'])  # ошибка KeyError\n",
    "print(a.get('cat'))  # эквивалентно a['cat']\n",
    "print(a.get('wolf'))  # будет None из-за отсутствия элемента\n",
    "# значение по-умолчанию:\n",
    "print(a.get('cat', 'no idea'))  # если ключ есть, будет значение\n",
    "print(a.get('wolf', 'no idea'))  # если ключа нет — значение по-умолчанию"
   ],
   "metadata": {
    "collapsed": false,
    "pycharm": {
     "name": "#%%\n"
    }
   }
  },
  {
   "cell_type": "markdown",
   "source": [
    "Чтобы записать значение в словарь, нужно присвоить значение\n",
    "по ключу (индексу). Старое значение, если оно было, исчезнет:\n"
   ],
   "metadata": {
    "collapsed": false,
    "pycharm": {
     "name": "#%% md\n"
    }
   }
  },
  {
   "cell_type": "code",
   "execution_count": 18,
   "outputs": [
    {
     "name": "stdout",
     "output_type": "stream",
     "text": [
      "{'cat': 'mew', 'dog': 'woof', 'cow': 'moo', 'wolf': 'woooo'}\n"
     ]
    }
   ],
   "source": [
    "a['wolf'] = 'wooo'  # можно записать, даже если ключа нет\n",
    "a['wolf'] = 'woooo'  # можно перезаписать\n",
    "\n",
    "print(a)"
   ],
   "metadata": {
    "collapsed": false,
    "pycharm": {
     "name": "#%%\n"
    }
   }
  },
  {
   "cell_type": "markdown",
   "source": [
    "Как перечислить все элементы словаря? Словарём можно пользоваться\n",
    "как перечислением, и тогда это перечисление его ключей (без\n",
    "значений):"
   ],
   "metadata": {
    "collapsed": false,
    "pycharm": {
     "name": "#%% md\n"
    }
   }
  },
  {
   "cell_type": "code",
   "execution_count": 23,
   "outputs": [
    {
     "name": "stdout",
     "output_type": "stream",
     "text": [
      "cat\n",
      "dog\n",
      "cow\n",
      "wolf\n",
      "['cat', 'dog', 'cow', 'wolf']\n",
      "cat says mew\n",
      "dog says woof\n",
      "cow says moo\n",
      "wolf says woooo\n",
      "cat says mew\n",
      "dog says woof\n",
      "cow says moo\n",
      "wolf says woooo\n",
      "[('cat', 'mew'), ('dog', 'woof'), ('cow', 'moo'), ('wolf', 'woooo')]\n"
     ]
    }
   ],
   "source": [
    "for animal in a:\n",
    "    print(animal)\n",
    "\n",
    "print(list(a))  # получаем список ключей\n",
    "\n",
    "# перебор ключей и значений\n",
    "\n",
    "for animal in a:\n",
    "    sound = a[animal]\n",
    "    print(f'{animal} says {sound}')\n",
    "\n",
    "# лучше перебирать ключи и значения с помощью .items(),\n",
    "# это пары из ключа и значения:\n",
    "for animal, sound in a.items():\n",
    "    print(f'{animal} says {sound}')\n",
    "\n",
    "# Давайте еще раз продемонстрируем, что a.items() это\n",
    "# список пар ключей и значений:\n",
    "print(list(a.items()))"
   ],
   "metadata": {
    "collapsed": false,
    "pycharm": {
     "name": "#%%\n"
    }
   }
  },
  {
   "cell_type": "markdown",
   "source": [
    "Другие возможности словарей надо смотреть в документации:\n",
    "[https://docs.python.org/3/library/stdtypes.html#mapping-types-dict](https://docs.python.org/3/library/stdtypes.html#mapping-types-dict)\n",
    "\n",
    "## Что может быть ключами в словаре?\n",
    "\n",
    "Ответ аналогичен тому, что может быть ключами в множестве.\n",
    "Любые неизменяемые объекты (точнее — хэшируемые):"
   ],
   "metadata": {
    "collapsed": false,
    "pycharm": {
     "name": "#%% md\n"
    }
   }
  },
  {
   "cell_type": "code",
   "execution_count": 47,
   "outputs": [
    {
     "name": "stdout",
     "output_type": "stream",
     "text": [
      "10-20\n",
      "42\n"
     ]
    }
   ],
   "source": [
    "a = {\n",
    "    (10, 20): \"10-20\",\n",
    "    (20, 40): \"20-40\",\n",
    "    \"abc\": \"abc\",\n",
    "    range(100): 42\n",
    "}\n",
    "\n",
    "print(a[(10, 20)])\n",
    "print(a[range(0, 100, 1)])"
   ],
   "metadata": {
    "collapsed": false,
    "pycharm": {
     "name": "#%%\n"
    }
   }
  },
  {
   "cell_type": "markdown",
   "source": [
    "# Генераторы\n",
    "\n",
    "Это еще один способ создать перечисление. Генераторы позволяют\n",
    "написать код, который создает элементы, и далее, единственное,\n",
    "что можно сделать с этими элементами, это перебрать их (в цикле).\n",
    "\n",
    "Нужно написать функцию, но вместо ключевого слова `return` надо\n",
    "использовать слово `yield`. Команд `yield` может быть несколько,\n",
    "они не завершают функцию, а только выдают очередной элемент"
   ],
   "metadata": {
    "collapsed": false,
    "pycharm": {
     "name": "#%% md\n"
    }
   }
  },
  {
   "cell_type": "code",
   "execution_count": null,
   "outputs": [],
   "source": [
    "# генерирует последовательность 10, 20, 30\n",
    "def gen1():\n",
    "    yield 10\n",
    "    yield 20\n",
    "    yield 30"
   ],
   "metadata": {
    "collapsed": false,
    "pycharm": {
     "name": "#%%\n"
    }
   }
  },
  {
   "cell_type": "markdown",
   "source": [
    "Чтобы пользоваться генератором, мы вызываем функцию, она создает\n",
    "генератор, который можно перебрать ровно 1 раз. Если хочется\n",
    "перебрать еще раз, надо снова вызвать функцию:"
   ],
   "metadata": {
    "collapsed": false,
    "pycharm": {
     "name": "#%% md\n"
    }
   }
  },
  {
   "cell_type": "code",
   "execution_count": 28,
   "outputs": [
    {
     "name": "stdout",
     "output_type": "stream",
     "text": [
      "10\n",
      "20\n",
      "30\n",
      "10\n",
      "20\n",
      "30\n"
     ]
    }
   ],
   "source": [
    "g = gen1()\n",
    "for x in g:\n",
    "    print(x)\n",
    "for y in g:  # уже ничего не будет, т.к. всё перебрали\n",
    "    print(y)\n",
    "\n",
    "g = gen1()  # вызвали еще раз\n",
    "for y in g:  # теперь можно перебрать повторно\n",
    "    print(y)"
   ],
   "metadata": {
    "collapsed": false,
    "pycharm": {
     "name": "#%%\n"
    }
   }
  },
  {
   "cell_type": "markdown",
   "source": [
    "Можно перебирать еще с помощью функции `next`:"
   ],
   "metadata": {
    "collapsed": false,
    "pycharm": {
     "name": "#%% md\n"
    }
   }
  },
  {
   "cell_type": "code",
   "execution_count": 30,
   "outputs": [
    {
     "name": "stdout",
     "output_type": "stream",
     "text": [
      "10\n",
      "20\n",
      "30\n"
     ]
    },
    {
     "ename": "StopIteration",
     "evalue": "",
     "output_type": "error",
     "traceback": [
      "\u001B[0;31m---------------------------------------------------------------------------\u001B[0m",
      "\u001B[0;31mStopIteration\u001B[0m                             Traceback (most recent call last)",
      "\u001B[0;32m<ipython-input-30-02276c8b59c8>\u001B[0m in \u001B[0;36m<module>\u001B[0;34m\u001B[0m\n\u001B[1;32m      3\u001B[0m \u001B[0mprint\u001B[0m\u001B[0;34m(\u001B[0m\u001B[0mnext\u001B[0m\u001B[0;34m(\u001B[0m\u001B[0mg\u001B[0m\u001B[0;34m)\u001B[0m\u001B[0;34m)\u001B[0m  \u001B[0;31m# второй вызов вернет второй элемент\u001B[0m\u001B[0;34m\u001B[0m\u001B[0;34m\u001B[0m\u001B[0m\n\u001B[1;32m      4\u001B[0m \u001B[0mprint\u001B[0m\u001B[0;34m(\u001B[0m\u001B[0mnext\u001B[0m\u001B[0;34m(\u001B[0m\u001B[0mg\u001B[0m\u001B[0;34m)\u001B[0m\u001B[0;34m)\u001B[0m\u001B[0;34m\u001B[0m\u001B[0;34m\u001B[0m\u001B[0m\n\u001B[0;32m----> 5\u001B[0;31m \u001B[0mprint\u001B[0m\u001B[0;34m(\u001B[0m\u001B[0mnext\u001B[0m\u001B[0;34m(\u001B[0m\u001B[0mg\u001B[0m\u001B[0;34m)\u001B[0m\u001B[0;34m)\u001B[0m\u001B[0;34m\u001B[0m\u001B[0;34m\u001B[0m\u001B[0m\n\u001B[0m",
      "\u001B[0;31mStopIteration\u001B[0m: "
     ]
    }
   ],
   "source": [
    "g = gen1()\n",
    "print(next(g))  # первый вызов вернет первый элемент\n",
    "print(next(g))  # второй вызов вернет второй элемент\n",
    "print(next(g))\n",
    "print(next(g))  # возникает ошибка StopIteration"
   ],
   "metadata": {
    "collapsed": false,
    "pycharm": {
     "name": "#%%\n"
    }
   }
  },
  {
   "cell_type": "markdown",
   "source": [
    "Еще примеры генераторов. В них мы сделаем аргументы для\n",
    "функции-генератора. И сделаем бесконечный генератор\n"
   ],
   "metadata": {
    "collapsed": false,
    "pycharm": {
     "name": "#%% md\n"
    }
   }
  },
  {
   "cell_type": "code",
   "execution_count": 34,
   "outputs": [
    {
     "name": "stdout",
     "output_type": "stream",
     "text": [
      "[10, 11, 12, 13, 14, 15, 16, 17, 18, 19, 20]\n",
      "распечатаем 5 значений из g:\n",
      "10\n",
      "11\n",
      "12\n",
      "13\n",
      "14\n",
      "1\n",
      "1\n",
      "2\n",
      "3\n",
      "5\n",
      "8\n",
      "13\n",
      "21\n",
      "34\n",
      "55\n"
     ]
    }
   ],
   "source": [
    "def myrange(a, b):  # будем генерировать числа от a до b включительно\n",
    "    for i in range(a, b + 1):\n",
    "        yield i\n",
    "\n",
    "print(list(myrange(10, 20)))  # в list можно давать любое перечисление\n",
    "\n",
    "\n",
    "#\n",
    "def infinite(start):\n",
    "    while True:\n",
    "        yield start\n",
    "        start += 1\n",
    "\n",
    "\n",
    "g = infinite(10)\n",
    "print(\"распечатаем 5 значений из g:\")\n",
    "print(next(g))  # 10\n",
    "print(next(g))  # 11\n",
    "print(next(g))  # 12\n",
    "print(next(g))  # 13\n",
    "print(next(g))  # 14\n",
    "\n",
    "# числа Фибоначчи 1, 1, 2, 3, 5, 8, 13, 21, ...\n",
    "def fibonacci():\n",
    "    a = 1  # это пред предыдущее число\n",
    "    b = 1  # это предыдущее число\n",
    "    while True:\n",
    "        yield a\n",
    "        a, b = b, a + b\n",
    "\n",
    "fib = fibonacci()\n",
    "# распечатаем первые 10 значений\n",
    "for i in range(10):\n",
    "    print(next(fib))"
   ],
   "metadata": {
    "collapsed": false,
    "pycharm": {
     "name": "#%%\n"
    }
   }
  },
  {
   "cell_type": "markdown",
   "source": [
    "В python есть генерирующее выражение, т.е. не всегда нужна функция,\n",
    "чтобы сделать генератор. Оно похоже на генератор списка, множества,\n",
    "словаря, но пишется в круглых скобках\n"
   ],
   "metadata": {
    "collapsed": false,
    "pycharm": {
     "name": "#%% md\n"
    }
   }
  },
  {
   "cell_type": "code",
   "execution_count": 44,
   "outputs": [
    {
     "name": "stdout",
     "output_type": "stream",
     "text": [
      "[0, 1, 4, 9, 16, 25, 36, 49, 64, 81] \n",
      " {0, 1, 64, 4, 36, 9, 16, 49, 81, 25} \n",
      " {0: 0, 1: 1, 2: 4, 3: 9, 4: 16, 5: 25, 6: 36, 7: 49, 8: 64, 9: 81} \n",
      " <generator object <genexpr> at 0x7f46449f6350>\n",
      "[0, 1, 4, 9, 16, 25, 36, 49, 64, 81]\n",
      "0\n",
      "1\n",
      "4\n",
      "9\n",
      "16\n",
      "25\n",
      "36\n",
      "49\n",
      "64\n",
      "81\n",
      "[0, 1, 4, 9, 16, 25, 36, 49, 64, 81]\n",
      "[0, 1, 4, 9, 16, 25, 36, 49, 64, 81]\n"
     ]
    }
   ],
   "source": [
    "print(\n",
    "    [i ** 2 for i in range(10)],  # список квадратов\n",
    "    '\\n',\n",
    "    {i ** 2 for i in range(10)},  # множество квадратов\n",
    "    '\\n',\n",
    "    {i : i ** 2 for i in range(10)},  # словарь\n",
    "    '\\n',\n",
    "    (i ** 2 for i in range(10))  # генератор\n",
    ")\n",
    "\n",
    "g = (i ** 2 for i in range(10))\n",
    "print(list(g))  # распечатали содержимое генератора\n",
    "g = (i ** 2 for i in range(10))\n",
    "for x in g:\n",
    "    print(x)\n",
    "\n",
    "# если генерирующее выражение — это единственный аргумент\n",
    "# функции, то скобки можно не ставить:\n",
    "print(list(\n",
    "    (i ** 2 for i in range(10))\n",
    "))\n",
    "\n",
    "# можно заменить на:\n",
    "print(list(i ** 2 for i in range(10)))"
   ],
   "metadata": {
    "collapsed": false,
    "pycharm": {
     "name": "#%%\n"
    }
   }
  },
  {
   "cell_type": "code",
   "execution_count": null,
   "outputs": [],
   "source": [],
   "metadata": {
    "collapsed": false,
    "pycharm": {
     "name": "#%%\n"
    }
   }
  }
 ],
 "metadata": {
  "kernelspec": {
   "display_name": "Python 3",
   "language": "python",
   "name": "python3"
  },
  "language_info": {
   "codemirror_mode": {
    "name": "ipython",
    "version": 2
   },
   "file_extension": ".py",
   "mimetype": "text/x-python",
   "name": "python",
   "nbconvert_exporter": "python",
   "pygments_lexer": "ipython2",
   "version": "2.7.6"
  }
 },
 "nbformat": 4,
 "nbformat_minor": 0
}