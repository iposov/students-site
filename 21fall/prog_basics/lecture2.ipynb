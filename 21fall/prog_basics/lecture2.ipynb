{
 "cells": [
  {
   "cell_type": "markdown",
   "metadata": {
    "collapsed": true,
    "pycharm": {
     "name": "#%% md\n"
    }
   },
   "source": [
    "## Типы данных в языке Python\n",
    "\n",
    "Простое определение типа данных: тип  —\n",
    "это множество значений и операций над ними.\n",
    "\n",
    "Типов очень много, их можно создавать самостоятельно.\n",
    "Основные, с которых начнем:\n",
    "\n",
    "* int — целые числа\n",
    "* float — вещественные\n",
    "* boolean — логический тип\n",
    "* string — текстовый тип\n",
    "\n",
    "У каждого выражения в программе есть значение и тип,\n",
    "например,\n",
    "\n",
    "`4` — это значение 4 типа `int`\n",
    "\n",
    "`1 + 5` — это значение 6 типа `int`\n",
    "\n",
    "`2.5` — это значение 2.5 типа `float`\n",
    "\n",
    "`2 / 3` — это значение 0.6666 типа `float`\n",
    "\n",
    "### тип `int` целых чисел\n",
    "\n",
    "Это множество целых чисел, причем бесконечное.\n",
    "Вы не ограничены размером числа, которое можете\n",
    "сохранить:"
   ]
  },
  {
   "cell_type": "code",
   "execution_count": 1,
   "outputs": [
    {
     "data": {
      "text/plain": "1267650600228229401496703205376"
     },
     "execution_count": 1,
     "metadata": {},
     "output_type": "execute_result"
    }
   ],
   "source": [
    "2 ** 100"
   ],
   "metadata": {
    "collapsed": false,
    "pycharm": {
     "name": "#%%\n"
    }
   }
  },
  {
   "cell_type": "markdown",
   "source": [
    "Чтобы записать целое число, вы пишете несколько\n",
    "цифр в 10-ой системе счисления: `42` — это десятичное\n",
    "\n",
    "*Операции над целыми числами*:\n",
    "\n",
    "`+`, `-`, `*`, `//` (целочисленное деление),\n",
    "`%` (остаток от деления), `**`\n",
    "(возведение в степень)"
   ],
   "metadata": {
    "collapsed": false,
    "pycharm": {
     "name": "#%% md\n"
    }
   }
  },
  {
   "cell_type": "code",
   "execution_count": 5,
   "outputs": [
    {
     "name": "stdout",
     "output_type": "stream",
     "text": [
      "5\n",
      "6\n",
      "8\n",
      "5\n",
      "5\n",
      "0\n",
      "1\n"
     ]
    }
   ],
   "source": [
    "print(2 + 3)\n",
    "print(2 * 3)\n",
    "print(2 ** 3)\n",
    "print(10 // 2)  # получится тип int\n",
    "print(11 // 2)  # получится тип int\n",
    "print(10 % 2)\n",
    "print(11 % 2)"
   ],
   "metadata": {
    "collapsed": false,
    "pycharm": {
     "name": "#%%\n"
    }
   }
  },
  {
   "cell_type": "markdown",
   "source": [
    "целочисленное деление отбрасывает дробную часть\n",
    "\n",
    "## Тип `float`\n",
    "\n",
    "Позволяет хранить вещественные числа, но они уже не\n",
    "произвольной точности, а \"обычные\", как в других\n",
    "языках, примерно 18 значащих цифр.\n",
    "\n",
    "Запись вещественных, используется десятичная точка\n",
    "и, возможно, `e` для указания степени 10:\n",
    "```\n",
    "2.  — это вещественное число 2\n",
    "2.0\n",
    "2.5\n",
    "12.436\n",
    "1.2436e1 - эквивалентно предыдущему, умножить на\n",
    "           10 в первой степени\n",
    "1e9 — миллиард\n",
    "1e-9 — одна миллиардная\n",
    "```\n",
    "\n",
    "Операции с ними аналогичны оперциям с целыми, но\n",
    "есть еще обычное деление `/`:"
   ],
   "metadata": {
    "collapsed": false,
    "pycharm": {
     "name": "#%% md\n"
    }
   }
  },
  {
   "cell_type": "code",
   "execution_count": 7,
   "outputs": [
    {
     "name": "stdout",
     "output_type": "stream",
     "text": [
      "5.551115123125783e-17\n",
      "0.6666666666666666\n",
      "0\n"
     ]
    }
   ],
   "source": [
    "print(0.1 + 0.2 - 0.3)  # ???\n",
    "print(2 / 3) # получается вещественное число\n",
    "print(2 // 3)  # получается 0"
   ],
   "metadata": {
    "collapsed": false,
    "pycharm": {
     "name": "#%%\n"
    }
   }
  },
  {
   "cell_type": "markdown",
   "source": [
    "Будьте аккуратны при вычислениях с вещественными\n",
    "числами, эти вычисления практически всегда\n",
    "неправильные (неточные)\n",
    "\n",
    "## Логический тип `boolean`\n",
    "\n",
    "Всего два значения. `True` и `False` (с большой\n",
    "буквы)\n",
    "\n",
    "И всего несколько операций:\n",
    "\n",
    "`and`, `or`, `not`:"
   ],
   "metadata": {
    "collapsed": false,
    "pycharm": {
     "name": "#%% md\n"
    }
   }
  },
  {
   "cell_type": "code",
   "execution_count": 11,
   "outputs": [
    {
     "name": "stdout",
     "output_type": "stream",
     "text": [
      "False\n",
      "True\n",
      "True\n",
      "False\n",
      "True\n"
     ]
    }
   ],
   "source": [
    "print(True and False)\n",
    "print(True or False)\n",
    "print(not False)\n",
    "print(not True)\n",
    "print(True and not False)  # True and True"
   ],
   "metadata": {
    "collapsed": false,
    "pycharm": {
     "name": "#%%\n"
    }
   }
  },
  {
   "cell_type": "markdown",
   "source": [
    "Есть операторы сравнения, которые выдают\n",
    "логические значения:\n",
    "\n",
    "`==`, `! =`, `< =`, `> =`, `<`, `>`:\n",
    "\n",
    "Первые два оператора (равно, неравно)\n",
    "работают для любых значений любых типов.\n",
    "А сравнение для чисел и еще некоторых типов:"
   ],
   "metadata": {
    "collapsed": false,
    "pycharm": {
     "name": "#%% md\n"
    }
   }
  },
  {
   "cell_type": "code",
   "execution_count": 16,
   "outputs": [
    {
     "name": "stdout",
     "output_type": "stream",
     "text": [
      "True\n",
      "False\n",
      "False\n",
      "True\n",
      "True\n",
      "True\n"
     ]
    }
   ],
   "source": [
    "print(2 == 2)\n",
    "print(2 == 3)\n",
    "print(2 > 3)\n",
    "print(2 <= 3)\n",
    "print(10 <= 12 and 12 <= 20)  # True and True\n",
    "\n",
    "x = 15\n",
    "print(10 <= x and x <= 20)"
   ],
   "metadata": {
    "collapsed": false,
    "pycharm": {
     "name": "#%%\n"
    }
   }
  },
  {
   "cell_type": "markdown",
   "source": [
    "Последнее будет истиной для `x` от 10 до 20.\n",
    "\n",
    "\n"
   ],
   "metadata": {
    "collapsed": false,
    "pycharm": {
     "name": "#%% md\n"
    }
   }
  }
 ],
 "metadata": {
  "kernelspec": {
   "display_name": "Python 3",
   "language": "python",
   "name": "python3"
  },
  "language_info": {
   "codemirror_mode": {
    "name": "ipython",
    "version": 2
   },
   "file_extension": ".py",
   "mimetype": "text/x-python",
   "name": "python",
   "nbconvert_exporter": "python",
   "pygments_lexer": "ipython2",
   "version": "2.7.6"
  }
 },
 "nbformat": 4,
 "nbformat_minor": 0
}