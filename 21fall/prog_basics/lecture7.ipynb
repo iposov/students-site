{
 "cells": [
  {
   "cell_type": "markdown",
   "metadata": {
    "collapsed": true,
    "pycharm": {
     "name": "#%% md\n"
    }
   },
   "source": [
    "# Генераторы списков\n",
    "(list comprehension)\n",
    "\n",
    "Это особый синтаксис, позволяющий создавать списки на основе\n",
    "произвольных перечислений. Каждый элемент перечисления можно\n",
    "преобразовать или отфильтровать.\n",
    "\n",
    "Генератор списка:\n",
    "\n",
    "```[выражение for переменная in перечисление]```\n",
    "\n",
    "или\n",
    "\n",
    "```[выражение for переменная in перечисление if условие]```"
   ]
  },
  {
   "cell_type": "code",
   "execution_count": 9,
   "outputs": [
    {
     "name": "stdout",
     "output_type": "stream",
     "text": [
      "[0, 1, 4, 9, 16, 25, 36, 49, 64, 81]\n",
      "['hh', 'ee', 'll', 'll', 'oo']\n",
      "['HELLO', 'MY', 'NAME', 'IS', 'ILYA']\n",
      "[1, 4, 7, 10, 13, 16, 19]\n",
      "[1, 16, 49, 100, 169, 256, 361]\n",
      "['IS', 'ILYA']\n"
     ]
    }
   ],
   "source": [
    "# перебираем i от 0 до 9 и составляем список из квадратов\n",
    "print([i ** 2 for i in range(10)])\n",
    "# перебираем символы, удваиваем\n",
    "print([c + c for c in \"hello\"])\n",
    "#\n",
    "words = [\"Hello\", \"my\", \"name\", \"is\", \"Ilya\"]\n",
    "print([word.upper() for word in words])\n",
    "\n",
    "# Примеры с фильтрацией\n",
    "# только числа, которые при делении на 3 дают остаток 1\n",
    "print([i for i in range(20) if i % 3 == 1])\n",
    "# квадраты этих чисел\n",
    "print([i ** 2 for i in range(20) if i % 3 == 1])\n",
    "\n",
    "# оператор in проверяет вхождение элемента в перечисление\n",
    "# для строчек этот оператор проверяет даже вхождение подстроки:\n",
    "# \"de\" in \"abcdefgh\" - True\n",
    "print([word.upper() for word in words if word[0].lower() in 'aeiouy'])"
   ],
   "metadata": {
    "collapsed": false,
    "pycharm": {
     "name": "#%%\n"
    }
   }
  },
  {
   "cell_type": "markdown",
   "source": [
    "`for` в генераторе списка может быть вложенным. В этом случае сначала\n",
    "перебираются элементы первого перечисления, и для каждого найденного\n",
    "элемента перебираются элементы воторого перечисления:"
   ],
   "metadata": {
    "collapsed": false,
    "pycharm": {
     "name": "#%% md\n"
    }
   }
  },
  {
   "cell_type": "code",
   "execution_count": 11,
   "outputs": [
    {
     "name": "stdout",
     "output_type": "stream",
     "text": [
      "['H', 'e', 'l', 'l', 'o', 'm', 'y', 'n', 'a', 'm', 'e', 'i', 's', 'I', 'l', 'y', 'a']\n",
      "['H', 'e', 'l', 'l', 'o', 'n', 'a', 'm', 'e', 'I', 'l', 'y', 'a']\n"
     ]
    }
   ],
   "source": [
    "words = [\"Hello\", \"my\", \"name\", \"is\", \"Ilya\"]\n",
    "\n",
    "# word перебирает все слова\n",
    "# для каждого слова word переменная c перебирает буквы этого слова\n",
    "print([c for word in words for c in word])\n",
    "\n",
    "# не будем перебирать слова из 2 и менее букв\n",
    "print([c for word in words if len(word) > 2 for c in word])"
   ],
   "metadata": {
    "collapsed": false,
    "pycharm": {
     "name": "#%%\n"
    }
   }
  },
  {
   "cell_type": "markdown",
   "source": [
    "Посмотрим, как неправильно решить задачу про список из n\n",
    "пустых списков"
   ],
   "metadata": {
    "collapsed": false,
    "pycharm": {
     "name": "#%% md\n"
    }
   }
  },
  {
   "cell_type": "code",
   "execution_count": 15,
   "outputs": [
    {
     "name": "stdout",
     "output_type": "stream",
     "text": [
      "[[], [], []]\n",
      "[[42], [42], [42]]\n",
      "[[], [], []]\n",
      "[[42], [], []]\n"
     ]
    }
   ],
   "source": [
    "# даём число n, сколько пустых списков\n",
    "def list_of_empty_lists(n):\n",
    "    return [[]] * n  # [42] * n = [42, 42, 42, 42, 42, ...]\n",
    "                     # [[]] * n = [[], [], [], [], [], ...]\n",
    "\n",
    "empty_lists = list_of_empty_lists(3)\n",
    "print(empty_lists)\n",
    "empty_lists[0].append(42)  # добавим 42 в первый пустой список\n",
    "print(empty_lists)\n",
    "\n",
    "def list_of_empty_lists_by_list_comprehension(n):\n",
    "    # range(n) - это n чисел (неважно каких, на самом деле 0..n-1)\n",
    "    return [[] for _ in range(n)]\n",
    "\n",
    "# Проверим, разные ли получились списки\n",
    "empty_lists = list_of_empty_lists_by_list_comprehension(3)\n",
    "print(empty_lists)\n",
    "empty_lists[0].append(42)  # добавим 42 в первый пустой список\n",
    "print(empty_lists)"
   ],
   "metadata": {
    "collapsed": false,
    "pycharm": {
     "name": "#%%\n"
    }
   }
  },
  {
   "cell_type": "code",
   "execution_count": null,
   "outputs": [],
   "source": [],
   "metadata": {
    "collapsed": false,
    "pycharm": {
     "name": "#%%\n"
    }
   }
  }
 ],
 "metadata": {
  "kernelspec": {
   "display_name": "Python 3",
   "language": "python",
   "name": "python3"
  },
  "language_info": {
   "codemirror_mode": {
    "name": "ipython",
    "version": 2
   },
   "file_extension": ".py",
   "mimetype": "text/x-python",
   "name": "python",
   "nbconvert_exporter": "python",
   "pygments_lexer": "ipython2",
   "version": "2.7.6"
  }
 },
 "nbformat": 4,
 "nbformat_minor": 0
}