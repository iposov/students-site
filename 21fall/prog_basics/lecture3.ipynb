{
 "cells": [
  {
   "cell_type": "markdown",
   "metadata": {
    "collapsed": true,
    "pycharm": {
     "name": "#%% md\n"
    }
   },
   "source": [
    "Продолжим про операторы сравнения:\n"
   ]
  },
  {
   "cell_type": "code",
   "execution_count": 1,
   "outputs": [
    {
     "name": "stdout",
     "output_type": "stream",
     "text": [
      "True\n",
      "False\n"
     ]
    }
   ],
   "source": [
    "x = 15\n",
    "print(10 <= x and x <= 20)\n",
    "x = 30\n",
    "print(10 <= x and x <= 20)"
   ],
   "metadata": {
    "collapsed": false,
    "pycharm": {
     "name": "#%%\n"
    }
   }
  },
  {
   "cell_type": "markdown",
   "source": [
    "Есть особая форма записи операторов сравнения в Python:"
   ],
   "metadata": {
    "collapsed": false,
    "pycharm": {
     "name": "#%% md\n"
    }
   }
  },
  {
   "cell_type": "code",
   "execution_count": 2,
   "outputs": [
    {
     "name": "stdout",
     "output_type": "stream",
     "text": [
      "True\n"
     ]
    }
   ],
   "source": [
    "x = 15\n",
    "print(10 <= x <= 20)\n"
   ],
   "metadata": {
    "collapsed": false,
    "pycharm": {
     "name": "#%%\n"
    }
   }
  },
  {
   "cell_type": "markdown",
   "source": [
    "Смысл записи, в которой несколько операторов сравнения\n",
    "в том, что все сравнения проверяются отдельно, потом\n",
    "объединяются через `and`.\n",
    "\n",
    "## Тип `str`\n",
    "\n",
    "Позволяет хранить символы и строки символов. Один для\n",
    "всего, в отличие от Pascal, Java, где отдельно есть\n",
    "тип Char для символов и String для строк.\n",
    "\n",
    "Символы в строках python 3 являются символами стандарта\n",
    "Unicode. Unicode — это огромная таблица, в которой\n",
    "разным символам разных видов, разных языков сопоставлены\n",
    "номера. Там есть русские буквы, английские, греческие,\n",
    "иврит, грузинский, армянский, китайский и японский,\n",
    "есть знаки препинания, системные символы типа `@`,\n",
    "`#`, пробелы, математические символы, химические,\n",
    "смайлики и т.д. Есть стрелки, например, ➔\n",
    "\n",
    "Литералы для символов, т.е. как в коде записать символы:\n",
    "\n",
    "```\n",
    "'a' - символ английской буквы a\n",
    "\"a\" - символ английской буквы a, тоже, неважно какие кавычки\n",
    "\"1\"\n",
    "\",\"\n",
    "\" \"\n",
    "\"@\" - символ собачки\n",
    "\"➔\" - символ стрелочки\n",
    "\"ä\" - немецкая буква\n",
    "\"ξ\" — греческая кси\n",
    "```\n",
    "\n",
    "Не все символы можно или хочется набрать на клавиатуре,\n",
    "тогда используется специальный символ `\\` обратного\n",
    "слэша. Это символ экранирования, он изменяет смысл\n",
    "того символа, который идёт дальше. Например,\n",
    "\n",
    "```\n",
    "\"n\" - это английская буква n\"\n",
    "\"\\n\" - это системный символ перевода строки\n",
    "```\n",
    "\n",
    "Это один символ, хотя он набран двумя нажатиями на\n",
    "клавиатуре.\n",
    "\n",
    "Есть другие системные символы, например, `\"\\t\"` — символ\n",
    "табуляции. И есть еще `\"\\\\\"` — это просто символ\n",
    "обратного слэша:"
   ],
   "metadata": {
    "collapsed": false,
    "pycharm": {
     "name": "#%% md\n"
    }
   }
  },
  {
   "cell_type": "code",
   "execution_count": 3,
   "outputs": [
    {
     "name": "stdout",
     "output_type": "stream",
     "text": [
      "\\\n"
     ]
    }
   ],
   "source": [
    "print(\"\\\\\")"
   ],
   "metadata": {
    "collapsed": false,
    "pycharm": {
     "name": "#%%\n"
    }
   }
  },
  {
   "cell_type": "markdown",
   "source": [
    "Также иногда нужны кавычки:"
   ],
   "metadata": {
    "collapsed": false,
    "pycharm": {
     "name": "#%% md\n"
    }
   }
  },
  {
   "cell_type": "code",
   "execution_count": 5,
   "outputs": [
    {
     "name": "stdout",
     "output_type": "stream",
     "text": [
      "\"\n",
      "'\n",
      "'\n",
      "\"\n"
     ]
    }
   ],
   "source": [
    "print(\"\\\"\")  # двойная в двойных\n",
    "# print(\"\"\")  # ошибка, строка закончилась после второй \"\n",
    "print('\\'')\n",
    "print(\"'\")\n",
    "print('\"')  # двойная кавычка легко вводится внутри одинарных"
   ],
   "metadata": {
    "collapsed": false,
    "pycharm": {
     "name": "#%%\n"
    }
   }
  },
  {
   "cell_type": "markdown",
   "source": [
    "Можно ввести любой символ по его Unicode номеру, для\n",
    "этого пишется `\\uНОМЕР`:"
   ],
   "metadata": {
    "collapsed": false,
    "pycharm": {
     "name": "#%% md\n"
    }
   }
  },
  {
   "cell_type": "code",
   "execution_count": 8,
   "outputs": [
    {
     "name": "stdout",
     "output_type": "stream",
     "text": [
      "ξ\n",
      "➔\n",
      "A\n"
     ]
    }
   ],
   "source": [
    "print(\"\\u03BE\")  # кси\n",
    "print(\"\\u2794\")  # стрелочка\n",
    "print(\"\\u0041\")  # английская заглавная A"
   ],
   "metadata": {
    "collapsed": false,
    "pycharm": {
     "name": "#%%\n"
    }
   }
  },
  {
   "cell_type": "markdown",
   "source": [
    "### Литералы строк, а не символов\n",
    "\n",
    "Питон не разделяет строки и символы, всё это\n",
    "тип `str`, но символы — это строки из одного символа.\n",
    "Строка — это последовательности из нескольких\n",
    "символов. Они записываются в кавычках двойных\n",
    "или одинарных подряд:"
   ],
   "metadata": {
    "collapsed": false,
    "pycharm": {
     "name": "#%% md\n"
    }
   }
  },
  {
   "cell_type": "code",
   "execution_count": 11,
   "outputs": [
    {
     "name": "stdout",
     "output_type": "stream",
     "text": [
      "abc\n",
      "Hello world\n",
      "\n",
      "abc\n",
      "xyz\n",
      "abc\txyz\n",
      "ABC\n",
      "A B C\n"
     ]
    }
   ],
   "source": [
    "print(\"abc\")  # строка из трех символов\n",
    "print(\"Hello world\")  # строка из 11 символов\n",
    "print(\"\")  # пустая строка, 0 символов\n",
    "print(\"abc\\nxyz\")  # 7 символов\n",
    "print(\"abc\\txyz\")  # 7 символов\n",
    "print(\"\\u0041\\u0042\\u0043\") # 3 символа ABC\n",
    "print(\"\\u0041 \\u0042 \\u0043\") # 5 символов A B C"
   ],
   "metadata": {
    "collapsed": false,
    "pycharm": {
     "name": "#%%\n"
    }
   }
  },
  {
   "cell_type": "markdown",
   "source": [
    "Литерал строки можно начать с буквы `r`, это строки,\n",
    "в которых не работает экранирование:"
   ],
   "metadata": {
    "collapsed": false,
    "pycharm": {
     "name": "#%% md\n"
    }
   }
  },
  {
   "cell_type": "code",
   "execution_count": 12,
   "outputs": [
    {
     "name": "stdout",
     "output_type": "stream",
     "text": [
      "abc\n",
      "xyz\n",
      "ABC\n",
      "abc\\nxyz\n",
      "\\u0041\\u0042\\u0043\n"
     ]
    }
   ],
   "source": [
    "print(\"abc\\nxyz\")\n",
    "print(\"\\u0041\\u0042\\u0043\")\n",
    "print(r\"abc\\nxyz\")  # r в начале\n",
    "print(r\"\\u0041\\u0042\\u0043\")\n",
    "print(r\"C:\\Windows\\System32\\notepad.exe\")"
   ],
   "metadata": {
    "collapsed": false,
    "pycharm": {
     "name": "#%%\n"
    }
   }
  },
  {
   "cell_type": "markdown",
   "source": [
    "Литералы строк можно начинать и заканчивать\n",
    "тройными кавычками. Тогда литералы могут занимать\n",
    "несколько строк:"
   ],
   "metadata": {
    "collapsed": false,
    "pycharm": {
     "name": "#%% md\n"
    }
   }
  },
  {
   "cell_type": "code",
   "execution_count": 16,
   "outputs": [
    {
     "name": "stdout",
     "output_type": "stream",
     "text": [
      "Какой-то длинный текст,\n",
      "состоящий из нескольких строк\n",
      "\n",
      "Какой-то длинный текст,\n",
      "состоящий из нескольких строк\n",
      "\n",
      "Какой-то длинный текст,\n",
      "состоящий из нескольких строк\n",
      "и без учета экранирования \\n\\n\\n\n",
      "\n"
     ]
    }
   ],
   "source": [
    "print(\"\"\"Какой-то длинный текст,\n",
    "состоящий из нескольких строк\n",
    "\"\"\")\n",
    "print('''Какой-то длинный текст,\n",
    "состоящий из нескольких строк\n",
    "''')\n",
    "print(r'''Какой-то длинный текст,\n",
    "состоящий из нескольких строк\n",
    "и без учета экранирования \\n\\n\\n\n",
    "''')"
   ],
   "metadata": {
    "collapsed": false,
    "pycharm": {
     "name": "#%%\n"
    }
   }
  },
  {
   "cell_type": "markdown",
   "source": [
    "### Интерполяция строк\n",
    "\n",
    "В строку можно подставлять переменные значения, для\n",
    "этого добавляем в начало букву `f`:"
   ],
   "metadata": {
    "collapsed": false,
    "pycharm": {
     "name": "#%% md\n"
    }
   }
  },
  {
   "cell_type": "code",
   "execution_count": 23,
   "outputs": [
    {
     "name": "stdout",
     "output_type": "stream",
     "text": [
      "Hello, Ilya!\n",
      "2x^2 + 3x + 4\n",
      "10 котов\n"
     ]
    }
   ],
   "source": [
    "name = \"Ilya\"\n",
    "print(f\"Hello, {name}!\")\n",
    "\n",
    "a = 2\n",
    "b = 3\n",
    "c = 4\n",
    "print(f\"{a}x^2 + {b}x + {c}\")\n",
    "\n",
    "n = 10\n",
    "print(f\"{n} котов\")"
   ],
   "metadata": {
    "collapsed": false,
    "pycharm": {
     "name": "#%%\n"
    }
   }
  },
  {
   "cell_type": "markdown",
   "source": [
    "`f`-строки можно совмещать с `r`-строками, можно\n",
    "использовать с тройными кавычки. `fr\"\"\"...\"\"\"`.\n",
    "\n",
    "В f-строках есть возможность управлять тем,\n",
    "как значение превращается в строку. Посмотрим\n",
    "на примере вещественных чисел:\n",
    "\n",
    "Ссылка на полное описание возможностей управления\n",
    "форматированием: https://docs.python.org/3/library/string.html#format-specification-mini-language"
   ],
   "metadata": {
    "collapsed": false,
    "pycharm": {
     "name": "#%% md\n"
    }
   }
  },
  {
   "cell_type": "code",
   "execution_count": 26,
   "outputs": [
    {
     "name": "stdout",
     "output_type": "stream",
     "text": [
      "x = 0.3333333333333333\n",
      "x =       0.33\n"
     ]
    }
   ],
   "source": [
    "x = 1 / 3\n",
    "print(f\"x = {x}\")\n",
    "print(f\"x = {x:.2f}\")  # два знака после запятой"
   ],
   "metadata": {
    "collapsed": false,
    "pycharm": {
     "name": "#%%\n"
    }
   }
  },
  {
   "cell_type": "markdown",
   "source": [
    "после `x` стоит двоеточие, значит будет управление\n",
    "выводом. `f` означает, что это вещественное число\n",
    "float. `.2` означает 2 знака.\n",
    "\n",
    "Я прошу не использовать `.format()` и `\" \" % ()`\n",
    "для форматирования строк. Второй — устарел.\n",
    "Первый длиннее, чем f строки.\n",
    "\n",
    "### Операции над строками\n",
    "\n",
    "Строки можно складывать и умножать на числа:"
   ],
   "metadata": {
    "collapsed": false,
    "pycharm": {
     "name": "#%% md\n"
    }
   }
  },
  {
   "cell_type": "code",
   "execution_count": 30,
   "outputs": [
    {
     "name": "stdout",
     "output_type": "stream",
     "text": [
      "ABC123\n",
      "ABCABC\n",
      "ABCABC\n"
     ]
    }
   ],
   "source": [
    "s = \"ABC\" + \"123\"\n",
    "print(\"ABC\" + \"123\")  # конкатенация, соединение строк\n",
    "print(\"ABC\" * 2)  # повторить строку 2 раза\n",
    "print(2 * \"ABC\")  # повторить строку 2 раза"
   ],
   "metadata": {
    "collapsed": false,
    "pycharm": {
     "name": "#%%\n"
    }
   }
  },
  {
   "cell_type": "markdown",
   "source": [
    "## Преобразование типов\n",
    "\n",
    "На самом деле все названия типов работают как\n",
    "функции. Обычно эти функции превращают произвольное\n",
    "значение в значение этого типа:"
   ],
   "metadata": {
    "collapsed": false,
    "pycharm": {
     "name": "#%% md\n"
    }
   }
  },
  {
   "cell_type": "code",
   "execution_count": 36,
   "outputs": [
    {
     "name": "stdout",
     "output_type": "stream",
     "text": [
      "123\n",
      "123\n",
      "42\n",
      "43\n",
      "False\n",
      "True\n",
      "False\n",
      "True\n"
     ]
    }
   ],
   "source": [
    "print(123)  # число int\n",
    "print(str(123))  # строка str\n",
    "print(\"42\")  # строка\n",
    "print(int(\"42\") + 1)  # сделать число\n",
    "#print(int(\"abc\") + 1)  # ошибка\n",
    "print(bool(\"\"))  # всё кроме пустой строки станет true\n",
    "print(bool(\"123\"))  # всё кроме пустой строки станет true\n",
    "print(bool(0)) # все кроме 0 превратиться в True\n",
    "print(bool(42)) # все кроме 0 превратиться в True"
   ],
   "metadata": {
    "collapsed": false,
    "pycharm": {
     "name": "#%%\n"
    }
   }
  },
  {
   "cell_type": "markdown",
   "source": [
    "Иногда это надо:"
   ],
   "metadata": {
    "collapsed": false,
    "pycharm": {
     "name": "#%% md\n"
    }
   }
  },
  {
   "cell_type": "code",
   "execution_count": 40,
   "outputs": [
    {
     "name": "stdout",
     "output_type": "stream",
     "text": [
      "x = 42\n"
     ]
    }
   ],
   "source": [
    "x = 42\n",
    "# нельзя, строку можно сложить только со строкой\n",
    "# print(\"x = \" + x)\n",
    "print(\"x = \" + str(x)) # превратили в строку"
   ],
   "metadata": {
    "collapsed": false,
    "pycharm": {
     "name": "#%%\n"
    }
   }
  },
  {
   "cell_type": "markdown",
   "source": [
    "## Функции\n",
    "\n",
    "![функции](functions.png)\n",
    "\n",
    "Определение функции в python:\n",
    "\n",
    "```\n",
    "def ИМЯ_ФУНКЦИИ(АРГ1, АРГ2, ...):\n",
    "    ТЕЛО ФУНКЦИИ с отступом 4 пробела\n",
    "```\n",
    "\n",
    "Чтобы вызвать функцию, пишем ее имя и в скобках\n",
    "аргументы:\n",
    "\n",
    "```\n",
    "ИМЯ_ФУНКЦИИ(АРГ1, АРГ2, ...)\n",
    "```\n",
    "\n",
    "Оператор return внутри функции показывает,\n",
    "что будет являться результатом функции. После\n",
    "выполнения return функция завершается."
   ],
   "metadata": {
    "collapsed": false,
    "pycharm": {
     "name": "#%% md\n"
    }
   }
  },
  {
   "cell_type": "code",
   "execution_count": 47,
   "outputs": [
    {
     "name": "stdout",
     "output_type": "stream",
     "text": [
      "30\n",
      "31\n",
      "10 10\n",
      "10 10\n",
      "Hello, Ilya!\n",
      "Hello, Peter!\n"
     ]
    }
   ],
   "source": [
    "def f(x, y): # складывает числа\n",
    "    return x + y  # не нужны\n",
    "\n",
    "print(f(10, 20))\n",
    "print(f(10, 20) + 1)\n",
    "\n",
    "def absolute(x): ## модуль числа\n",
    "    if x < 0:\n",
    "        return -x\n",
    "    else:\n",
    "        return x\n",
    "\n",
    "print(absolute(10), absolute(-10))\n",
    "\n",
    "def absolute_2(x): ## модуль числа\n",
    "    if x < 0:\n",
    "        return -x  # после return функция не исполняется\n",
    "    return x\n",
    "\n",
    "print(absolute_2(10), absolute_2(-10))\n",
    "\n",
    "# пример функции с побочным эффектом:\n",
    "\n",
    "def say_hello(name):\n",
    "    print(f\"Hello, {name}!\")\n",
    "\n",
    "say_hello(\"Ilya\")  # вызов, но без использования результата\n",
    "say_hello(\"Peter\")\n",
    "\n",
    "# Ошибки:\n",
    "# t = say_hello(\"Vasia\")  # нет результата\n",
    "# print(say_hello(\"Vasia\"))  # нет результата\n",
    "# print(say_hello(\"Vasia\") + 1)  # нет результата"
   ],
   "metadata": {
    "collapsed": false,
    "pycharm": {
     "name": "#%%\n"
    }
   }
  },
  {
   "cell_type": "markdown",
   "source": [
    "**Важная мысль**. В наших задачах я прошу\n",
    "\n",
    "1. Делать либо функции с побочным эффектом, либо\n",
    "возвращающие результат. И то и то — не нужно.\n",
    "Чаще всего это значит, что если функция что-то\n",
    "возвращает, уберите оттуда `print`.\n",
    "2. Большинство задач — это задачи на функцию без\n",
    "побочных эффектов. Например, високосный год, эта\n",
    "функция должна принимать на вход год, возвращать\n",
    "логическое значение.\n",
    "\n",
    "Это нужно, чтобы задачи было проще проверять,\n",
    "и вообще это распространенный стиль программирования."
   ],
   "metadata": {
    "collapsed": false,
    "pycharm": {
     "name": "#%% md\n"
    }
   }
  }
 ],
 "metadata": {
  "kernelspec": {
   "display_name": "Python 3",
   "language": "python",
   "name": "python3"
  },
  "language_info": {
   "codemirror_mode": {
    "name": "ipython",
    "version": 2
   },
   "file_extension": ".py",
   "mimetype": "text/x-python",
   "name": "python",
   "nbconvert_exporter": "python",
   "pygments_lexer": "ipython2",
   "version": "2.7.6"
  }
 },
 "nbformat": 4,
 "nbformat_minor": 0
}