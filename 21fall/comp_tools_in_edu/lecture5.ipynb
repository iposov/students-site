{
 "cells": [
  {
   "cell_type": "markdown",
   "id": "4216b518-866d-4fce-9ce6-d1a2c18edb09",
   "metadata": {},
   "source": [
    "# Logical indexing\n",
    "\n",
    "Let's remind logical operations and comparision operations"
   ]
  },
  {
   "cell_type": "code",
   "execution_count": 7,
   "id": "c8bbd093-f9ff-418a-be7f-648dec5620d1",
   "metadata": {},
   "outputs": [
    {
     "name": "stdout",
     "output_type": "stream",
     "text": [
      "x =\n",
      "\n",
      "    1    2    3\n",
      "    5    6    7\n",
      "    8    9   10\n",
      "\n"
     ]
    }
   ],
   "source": [
    "x = [1 2 3\n",
    "     5 6 7\n",
    "     8 9 10]"
   ]
  },
  {
   "cell_type": "code",
   "execution_count": 8,
   "id": "be6c48b9-7767-482e-88b5-d703c613a7a5",
   "metadata": {},
   "outputs": [
    {
     "name": "stdout",
     "output_type": "stream",
     "text": [
      "ans =\n",
      "\n",
      "  0  0  1\n",
      "  1  1  1\n",
      "  1  1  1\n",
      "\n"
     ]
    }
   ],
   "source": [
    "2 < x"
   ]
  },
  {
   "cell_type": "code",
   "execution_count": 9,
   "id": "40c3e216-0c76-4fcc-ac3b-e6cb0282cfd3",
   "metadata": {},
   "outputs": [
    {
     "name": "stdout",
     "output_type": "stream",
     "text": [
      "ans =\n",
      "\n",
      "  1  1  1\n",
      "  1  1  1\n",
      "  1  0  0\n",
      "\n"
     ]
    }
   ],
   "source": [
    "x < 9"
   ]
  },
  {
   "cell_type": "code",
   "execution_count": 13,
   "id": "040fd90c-3fce-406f-9098-2b161bb67511",
   "metadata": {},
   "outputs": [
    {
     "name": "stdout",
     "output_type": "stream",
     "text": [
      "ans =\n",
      "\n",
      "  0  0  1\n",
      "  1  1  1\n",
      "  1  0  0\n",
      "\n"
     ]
    }
   ],
   "source": [
    "(2 < x) & (x < 9)"
   ]
  },
  {
   "cell_type": "markdown",
   "id": "d1e42d9b-a3ce-4f0e-82e4-fff466e33a36",
   "metadata": {},
   "source": [
    "We can use logical matrices as indexes, in this case only elements with 1 (true) are selected:"
   ]
  },
  {
   "cell_type": "code",
   "execution_count": 19,
   "id": "c3d93495-16a6-448e-b702-37aaf395591c",
   "metadata": {},
   "outputs": [
    {
     "name": "stdout",
     "output_type": "stream",
     "text": [
      "x =\n",
      "\n",
      "   10   11   12   13   14   15   16   17   18   19   20\n",
      "\n",
      "i =\n",
      "\n",
      "  0  0  0  0  0  0  1  1  1  1  1\n",
      "\n",
      "ans =\n",
      "\n",
      "   16   17   18   19   20\n",
      "\n"
     ]
    }
   ],
   "source": [
    "x = 10:20\n",
    "i = x > 15\n",
    "x(i)  # select only elements with 1 in the index-matrix"
   ]
  },
  {
   "cell_type": "code",
   "execution_count": 21,
   "id": "17ef6af1-9880-43c1-a523-94ef2ae216cb",
   "metadata": {},
   "outputs": [
    {
     "name": "stdout",
     "output_type": "stream",
     "text": [
      "x =\n",
      "\n",
      "   10   20    5   30    1   25   31    6\n",
      "\n",
      "i =\n",
      "\n",
      "  0  1  0  1  0  1  1  0\n",
      "\n",
      "ans =\n",
      "\n",
      "   20   30   25   31\n",
      "\n"
     ]
    }
   ],
   "source": [
    "x = [10 20 5 30 1 25 31 6]\n",
    "i = x > 15\n",
    "x(i) % x(x > 15)"
   ]
  },
  {
   "cell_type": "markdown",
   "id": "55c1d5af-dc7a-4ccb-aa0c-7bb304a7faf9",
   "metadata": {},
   "source": [
    "We can not only select values this way, we can assign to values:"
   ]
  },
  {
   "cell_type": "code",
   "execution_count": 23,
   "id": "69b5db42-f8ed-4058-b2d1-f6a19e69d864",
   "metadata": {},
   "outputs": [
    {
     "name": "stdout",
     "output_type": "stream",
     "text": [
      "x =\n",
      "\n",
      "   10   20    5   30    1   25   31    6\n",
      "\n",
      "x =\n",
      "\n",
      "   10    0    5    0    1    0    0    6\n",
      "\n"
     ]
    }
   ],
   "source": [
    "x\n",
    "x(x > 15) = 0"
   ]
  },
  {
   "cell_type": "code",
   "execution_count": 24,
   "id": "b50b77ed-eff1-4834-b8d1-1cdd881e6dd4",
   "metadata": {},
   "outputs": [
    {
     "name": "stdout",
     "output_type": "stream",
     "text": [
      "x =\n",
      "\n",
      "   10   20    5   30    1   25   31    6\n",
      "\n",
      "x =\n",
      "\n",
      "   10   21    5   31    1   26   32    6\n",
      "\n"
     ]
    }
   ],
   "source": [
    "x = [10 20 5 30 1 25 31 6]\n",
    "x(x > 15) = x(x > 15) + 1"
   ]
  },
  {
   "cell_type": "code",
   "execution_count": 35,
   "id": "e6e65509-cbc4-4792-9da2-9420a3468e09",
   "metadata": {},
   "outputs": [
    {
     "name": "stdout",
     "output_type": "stream",
     "text": [
      "x =\n",
      "\n",
      "   10   20   30\n",
      "    5   40    1\n",
      "   60    1   70\n",
      "\n",
      "i =\n",
      "\n",
      "  0  1  1\n",
      "  0  1  0\n",
      "  1  0  1\n",
      "\n",
      "x =\n",
      "\n",
      "     10   2000   3000\n",
      "      5   4000      1\n",
      "   6000      1   7000\n",
      "\n",
      "x =\n",
      "\n",
      "   10    0    0\n",
      "    5    0    1\n",
      "    0    1    0\n",
      "\n"
     ]
    }
   ],
   "source": [
    "x = [10 20 30\n",
    "      5 40  1\n",
    "      60 1 70]\n",
    "i = x > 15\n",
    "x(i) = x(i) * 100\n",
    "x(i) = 0"
   ]
  },
  {
   "cell_type": "markdown",
   "id": "30cd2b26-950d-4f43-acc8-2d9f561abe0e",
   "metadata": {
    "tags": []
   },
   "source": [
    "The `find` function finds indexes of elements that are not 0:"
   ]
  },
  {
   "cell_type": "code",
   "execution_count": 37,
   "id": "0c450e32-e6db-4cdd-b259-f13d9fbbddef",
   "metadata": {},
   "outputs": [
    {
     "name": "stdout",
     "output_type": "stream",
     "text": [
      "x =\n",
      "\n",
      "   10   20    0   -4   50   11    0    0    0    0   10\n",
      "\n",
      "ans =\n",
      "\n",
      "    1    2    4    5    6   11\n",
      "\n"
     ]
    }
   ],
   "source": [
    "x = [10 20 0 -4 50 11 0 0 0 0 10]\n",
    "find(x) "
   ]
  },
  {
   "cell_type": "markdown",
   "id": "a4fe586d-426c-4fe5-9c91-2e4755bd7b18",
   "metadata": {},
   "source": [
    "1, 2, 4, ... are indexes of non-zero elements: x(1) = 10, x(2) = 20, x(3) = 0.\n",
    "\n",
    "For logical matrices, `find` searches for indexes of 1 (true):"
   ]
  },
  {
   "cell_type": "code",
   "execution_count": 42,
   "id": "41ebdb0c-873a-4a1d-9862-aaacb68588e1",
   "metadata": {},
   "outputs": [
    {
     "name": "stdout",
     "output_type": "stream",
     "text": [
      "x =\n",
      "\n",
      "   10   20    5   30    1   25   31    6\n",
      "\n",
      "i =\n",
      "\n",
      "  0  0  0  1  0  0  0  1\n",
      "\n",
      "ans =\n",
      "\n",
      "   4   8\n",
      "\n",
      "ans =\n",
      "\n",
      "   4   8\n",
      "\n"
     ]
    }
   ],
   "source": [
    "x = [10 20 5 30 1 25 31 6]\n",
    "# numbers divisible by 3 \n",
    "i = mod(x, 3) == 0\n",
    "\n",
    "find(i)\n",
    "# usually the same is written as:\n",
    "find(mod(x, 3) == 0)"
   ]
  },
  {
   "cell_type": "markdown",
   "id": "faa212a6-d43f-46a4-9282-37323dd2a347",
   "metadata": {},
   "source": [
    "So, the 4th and the 8th numbers are divisible by 3."
   ]
  },
  {
   "cell_type": "markdown",
   "id": "3b60f0e6-c4f2-438e-9ced-9bccf0092a57",
   "metadata": {},
   "source": [
    "# Plotting in Octave\n",
    "\n",
    "Imagine, we want to draw several points on a plane: (1, 5), (3, 4), (-1, 3), (0, 2).\n",
    "Let's use the `plot` function for this, we should specify separatly x and y coordinates:"
   ]
  },
  {
   "cell_type": "code",
   "execution_count": 43,
   "id": "d36ef6b5-72c7-47ec-ad93-41f8ace1f6d5",
   "metadata": {},
   "outputs": [
    {
     "data": {
      "image/png": "[encoded data removed]",
      "text/plain": [
       "<IPython.core.display.Image object>"
      ]
     },
     "metadata": {},
     "output_type": "display_data"
    }
   ],
   "source": [
    "plot([1 3 -1 0], [5 4 3 2])"
   ]
  },
  {
   "cell_type": "code",
   "execution_count": 46,
   "id": "54e99587-9fca-47c1-a08e-397f4303421b",
   "metadata": {},
   "outputs": [
    {
     "data": {
      "image/png": "[encoded data removed]",
      "text/plain": [
       "<IPython.core.display.Image object>"
      ]
     },
     "metadata": {},
     "output_type": "display_data"
    }
   ],
   "source": [
    "plot([1 3 -1 0 1], [5 4 3 2 4], \"x\")"
   ]
  },
  {
   "cell_type": "markdown",
   "id": "9d01e01f-0bf9-477f-a71a-b015ce015052",
   "metadata": {},
   "source": [
    "Several plots similtaneously"
   ]
  },
  {
   "cell_type": "code",
   "execution_count": 48,
   "id": "d2aace7f-e0f8-4f8c-b1d4-937f0226fdaa",
   "metadata": {},
   "outputs": [
    {
     "data": {
      "image/png": "[encoded data removed]",
      "text/plain": [
       "<IPython.core.display.Image object>"
      ]
     },
     "metadata": {},
     "output_type": "display_data"
    }
   ],
   "source": [
    "plot([1 2 3], [3 0 2], 'x', [0 1 2], [0 1 -1], 'o')"
   ]
  },
  {
   "cell_type": "code",
   "execution_count": 49,
   "id": "9572e172-3a66-400a-8f65-ea118b6d3ca2",
   "metadata": {},
   "outputs": [
    {
     "name": "stdout",
     "output_type": "stream",
     "text": [
      "'plot' is a function from the file /usr/share/octave/5.2.0/m/plot/draw/plot.m\n",
      "\n",
      " -- plot (Y)\n",
      " -- plot (X, Y)\n",
      " -- plot (X, Y, FMT)\n",
      " -- plot (..., PROPERTY, VALUE, ...)\n",
      " -- plot (X1, Y1, ..., XN, YN)\n",
      " -- plot (HAX, ...)\n",
      " -- H = plot (...)\n",
      "     Produce 2-D plots.\n",
      "\n",
      "     Many different combinations of arguments are possible.  The\n",
      "     simplest form is\n",
      "\n",
      "          plot (Y)\n",
      "\n",
      "     where the argument is taken as the set of Y coordinates and the X\n",
      "     coordinates are taken to be the range '1:numel (Y)'.\n",
      "\n",
      "     If more than one argument is given, they are interpreted as\n",
      "\n",
      "          plot (Y, PROPERTY, VALUE, ...)\n",
      "\n",
      "     or\n",
      "\n",
      "          plot (X, Y, PROPERTY, VALUE, ...)\n",
      "\n",
      "     or\n",
      "\n",
      "          plot (X, Y, FMT, ...)\n",
      "\n",
      "     and so on.  Any number of argument sets may appear.  The X and Y\n",
      "     values are interpreted as follows:\n",
      "\n",
      "        * If a single data argument is supplied, it is taken as the set\n",
      "          of Y coordinates and the X coordinates are taken to be the\n",
      "          indices of the elements, starting with 1.\n",
      "\n",
      "        * If X and Y are scalars, a single point is plotted.\n",
      "\n",
      "        * 'squeeze()' is applied to arguments with more than two\n",
      "          dimensions, but no more than two singleton dimensions.\n",
      "\n",
      "        * If both arguments are vectors, the elements of Y are plotted\n",
      "          versus the elements of X.\n",
      "\n",
      "        * If X is a vector and Y is a matrix, then the columns (or rows)\n",
      "          of Y are plotted versus X.  (using whichever combination\n",
      "          matches, with columns tried first.)\n",
      "\n",
      "        * If the X is a matrix and Y is a vector, Y is plotted versus\n",
      "          the columns (or rows) of X.  (using whichever combination\n",
      "          matches, with columns tried first.)\n",
      "\n",
      "        * If both arguments are matrices, the columns of Y are plotted\n",
      "          versus the columns of X.  In this case, both matrices must\n",
      "          have the same number of rows and columns and no attempt is\n",
      "          made to transpose the arguments to make the number of rows\n",
      "          match.\n",
      "\n",
      "     Multiple property-value pairs may be specified, but they must\n",
      "     appear in pairs.  These arguments are applied to the line objects\n",
      "     drawn by 'plot'.  Useful properties to modify are \"linestyle\",\n",
      "     \"linewidth\", \"color\", \"marker\", \"markersize\", \"markeredgecolor\",\n",
      "     \"markerfacecolor\".  *Note Line Properties::.\n",
      "\n",
      "     The FMT format argument can also be used to control the plot style.\n",
      "     It is a string composed of four optional parts:\n",
      "     \"<linestyle><marker><color><;displayname;>\".  When a marker is\n",
      "     specified, but no linestyle, only the markers are plotted.\n",
      "     Similarly, if a linestyle is specified, but no marker, then only\n",
      "     lines are drawn.  If both are specified then lines and markers will\n",
      "     be plotted.  If no FMT and no PROPERTY/VALUE pairs are given, then\n",
      "     the default plot style is solid lines with no markers and the color\n",
      "     determined by the \"colororder\" property of the current axes.\n",
      "\n",
      "     Format arguments:\n",
      "\n",
      "     linestyle\n",
      "\n",
      "          '-'  Use solid lines (default).\n",
      "          '--' Use dashed lines.\n",
      "          ':'  Use dotted lines.\n",
      "          '-.' Use dash-dotted lines.\n",
      "\n",
      "     marker\n",
      "\n",
      "          '+'  crosshair\n",
      "          'o'  circle\n",
      "          '*'  star\n",
      "          '.'  point\n",
      "          'x'  cross\n",
      "          's'  square\n",
      "          'd'  diamond\n",
      "          '^'  upward-facing triangle\n",
      "          'v'  downward-facing triangle\n",
      "          '>'  right-facing triangle\n",
      "          '<'  left-facing triangle\n",
      "          'p'  pentagram\n",
      "          'h'  hexagram\n",
      "\n",
      "     color\n",
      "\n",
      "          'k'  blacK\n",
      "          'r'  Red\n",
      "          'g'  Green\n",
      "          'b'  Blue\n",
      "          'y'  Yellow\n",
      "          'm'  Magenta\n",
      "          'c'  Cyan\n",
      "          'w'  White\n",
      "\n",
      "     \";displayname;\"\n",
      "          Here \"displayname\" is the label to use for the plot legend.\n",
      "\n",
      "     The FMT argument may also be used to assign legend labels.  To do\n",
      "     so, include the desired label between semicolons after the\n",
      "     formatting sequence described above, e.g., \"+b;Key Title;\".  Note\n",
      "     that the last semicolon is required and Octave will generate an\n",
      "     error if it is left out.\n",
      "\n",
      "     Here are some plot examples:\n",
      "\n",
      "          plot (x, y, \"or\", x, y2, x, y3, \"m\", x, y4, \"+\")\n",
      "\n",
      "     This command will plot 'y' with red circles, 'y2' with solid lines,\n",
      "     'y3' with solid magenta lines, and 'y4' with points displayed as\n",
      "     '+'.\n",
      "\n",
      "          plot (b, \"*\", \"markersize\", 10)\n",
      "\n",
      "     This command will plot the data in the variable 'b', with points\n",
      "     displayed as '*' and a marker size of 10.\n",
      "\n",
      "          t = 0:0.1:6.3;\n",
      "          plot (t, cos(t), \"-;cos(t);\", t, sin(t), \"-b;sin(t);\");\n",
      "\n",
      "     This will plot the cosine and sine functions and label them\n",
      "     accordingly in the legend.\n",
      "\n",
      "     If the first argument HAX is an axes handle, then plot into this\n",
      "     axes, rather than the current axes returned by 'gca'.\n",
      "\n",
      "     The optional return value H is a vector of graphics handles to the\n",
      "     created line objects.\n",
      "\n",
      "     To save a plot, in one of several image formats such as PostScript\n",
      "     or PNG, use the 'print' command.\n",
      "\n",
      "     See also: axis, box, grid, hold, legend, title, xlabel, ylabel,\n",
      "     xlim, ylim, ezplot, errorbar, fplot, line, plot3, polar, loglog,\n",
      "     semilogx, semilogy, subplot.\n",
      "\n",
      "Additional help for built-in functions and operators is\n",
      "available in the online version of the manual.  Use the command\n",
      "'doc <topic>' to search the manual index.\n",
      "\n",
      "Help and information about Octave is also available on the WWW\n",
      "at https://www.octave.org and via the help@octave.org\n",
      "mailing list.\n"
     ]
    }
   ],
   "source": [
    "help plot"
   ]
  },
  {
   "cell_type": "code",
   "execution_count": 50,
   "id": "b0e2e9bd-4201-4900-a0e6-f702d998fe9b",
   "metadata": {},
   "outputs": [
    {
     "data": {
      "image/png": "[encoded data removed]",
      "text/plain": [
       "<IPython.core.display.Image object>"
      ]
     },
     "metadata": {},
     "output_type": "display_data"
    }
   ],
   "source": [
    "plot([1 2 3], [3 0 2], 'xr-', [0 1 2], [0 1 -1], 'ok--')"
   ]
  },
  {
   "cell_type": "markdown",
   "id": "9e8315d2-ba71-43b9-9d4e-f8e558a296b4",
   "metadata": {},
   "source": [
    "It is possible to put several Y values as the second argument.\n",
    "\n",
    "Imagine we want to draw two plots similtaneously: first one is (1, 2) (2, 10), (3, 5), (4, 6) and\n",
    "(1, 4) (2, 0), (3, -1), (4, 7). Notice, that x values are the same:"
   ]
  },
  {
   "cell_type": "code",
   "execution_count": 63,
   "id": "dfb17d87-5b41-4368-b48f-6da7abe41146",
   "metadata": {},
   "outputs": [
    {
     "name": "stdout",
     "output_type": "stream",
     "text": [
      "x =\n",
      "\n",
      "   1\n",
      "   2\n",
      "   3\n",
      "   4\n",
      "\n",
      "y =\n",
      "\n",
      "    2    4\n",
      "   10    0\n",
      "    5   -1\n",
      "    6    7\n",
      "\n"
     ]
    },
    {
     "data": {
      "image/png": "[encoded data removed]",
      "text/plain": [
       "<IPython.core.display.Image object>"
      ]
     },
     "metadata": {},
     "output_type": "display_data"
    }
   ],
   "source": [
    "# y values column by column\n",
    "x = [1 2 3 4]'\n",
    "y = [2 4; 10 0; 5 -1; 6 7]\n",
    "plot(x, y, 'o--r')"
   ]
  },
  {
   "cell_type": "markdown",
   "id": "4b63bfa7-a22d-4728-9897-12fc1003970f",
   "metadata": {},
   "source": [
    "Let's draw a plot of some function, for example, $y = 3x + 1$"
   ]
  },
  {
   "cell_type": "code",
   "execution_count": 67,
   "id": "fa653261-27d8-4720-b014-b97c3fa9ea61",
   "metadata": {},
   "outputs": [
    {
     "name": "stdout",
     "output_type": "stream",
     "text": [
      "x =\n",
      "\n",
      "    1    2    3    4    5    6    7    8    9   10\n",
      "\n",
      "y =\n",
      "\n",
      "    4    7   10   13   16   19   22   25   28   31\n",
      "\n"
     ]
    },
    {
     "data": {
      "image/png": "[encoded data removed]",
      "text/plain": [
       "<IPython.core.display.Image object>"
      ]
     },
     "metadata": {},
     "output_type": "display_data"
    }
   ],
   "source": [
    "x = 1:10\n",
    "y = 3 * x + 1\n",
    "plot(x, y)"
   ]
  },
  {
   "cell_type": "markdown",
   "id": "4e46e991-bd8a-465d-b8de-5fe49c19755e",
   "metadata": {},
   "source": [
    "Let's draw a plot of some function, for example, $y = x^2 - 3x + 2$"
   ]
  },
  {
   "cell_type": "code",
   "execution_count": 2,
   "id": "9a239fab-ab01-4476-b69d-df06847e3522",
   "metadata": {},
   "outputs": [
    {
     "name": "stdout",
     "output_type": "stream",
     "text": [
      "x =\n",
      "\n",
      "    1    2    3    4    5    6    7    8    9   10\n",
      "\n",
      "y =\n",
      "\n",
      "    0    0    2    6   12   20   30   42   56   72\n",
      "\n"
     ]
    },
    {
     "data": {
      "image/png": "[encoded data removed]",
      "text/plain": [
       "<IPython.core.display.Image object>"
      ]
     },
     "metadata": {},
     "output_type": "display_data"
    }
   ],
   "source": [
    "x = 1:10\n",
    "y = x .^ 2 - 3 * x + 2\n",
    "plot(x, y, 'o-')"
   ]
  },
  {
   "cell_type": "markdown",
   "id": "93870590-1b3d-4db4-a9d2-9607db9f0717",
   "metadata": {},
   "source": [
    "Let's plot the same for different 'x':"
   ]
  },
  {
   "cell_type": "code",
   "execution_count": 5,
   "id": "4a41b9aa-c9b4-40b2-865c-84d051c378be",
   "metadata": {},
   "outputs": [
    {
     "data": {
      "image/png": "[encoded data removed]",
      "text/plain": [
       "<IPython.core.display.Image object>"
      ]
     },
     "metadata": {},
     "output_type": "display_data"
    }
   ],
   "source": [
    "x = linspace(0, 4, 100);  # 100 points\n",
    "y = x .^ 2 - 3 * x + 2;\n",
    "plot(x, y, 'o-')"
   ]
  },
  {
   "cell_type": "markdown",
   "id": "207ad6f1-d359-4244-8460-6d8da2fa7c98",
   "metadata": {
    "tags": []
   },
   "source": [
    "Let's plot the sin function:"
   ]
  },
  {
   "cell_type": "code",
   "execution_count": 6,
   "id": "689a9511-7ee6-4c48-99e8-224603c82351",
   "metadata": {},
   "outputs": [
    {
     "data": {
      "image/png": "[encoded data removed]",
      "text/plain": [
       "<IPython.core.display.Image object>"
      ]
     },
     "metadata": {},
     "output_type": "display_data"
    }
   ],
   "source": [
    "x = linspace(-2*pi, 2*pi, 100);\n",
    "y = sin(x); % sin works element by element\n",
    "plot(x, y)"
   ]
  },
  {
   "cell_type": "markdown",
   "id": "6d477f1f-66e1-4560-82fd-b12f48343886",
   "metadata": {
    "tags": []
   },
   "source": [
    "Final example, how to draw a circle:"
   ]
  },
  {
   "cell_type": "code",
   "execution_count": 10,
   "id": "2b692004-a6fe-418d-83e0-8ff80310d204",
   "metadata": {},
   "outputs": [
    {
     "data": {
      "image/png": "[encoded data removed]",
      "text/plain": [
       "<IPython.core.display.Image object>"
      ]
     },
     "metadata": {},
     "output_type": "display_data"
    }
   ],
   "source": [
    "alpha = linspace(0, 2*pi, 100);\n",
    "x = 5 * cos(alpha);\n",
    "y = 5 * sin(alpha);\n",
    "plot(x, y, 'o-r')"
   ]
  },
  {
   "cell_type": "code",
   "execution_count": 11,
   "id": "7ae24492-9ec9-4a00-97c3-7c6113b046ad",
   "metadata": {},
   "outputs": [
    {
     "name": "stdout",
     "output_type": "stream",
     "text": [
      "ans =\n",
      "\n",
      " Columns 1 through 8:\n",
      "\n",
      "   1.0000   1.1111   1.2222   1.3333   1.4444   1.5556   1.6667   1.7778\n",
      "\n",
      " Columns 9 and 10:\n",
      "\n",
      "   1.8889   2.0000\n",
      "\n"
     ]
    }
   ],
   "source": [
    "linspace(1,2,10)"
   ]
  },
  {
   "cell_type": "code",
   "execution_count": null,
   "id": "94b9f38e-29b5-4ab0-9a7a-93ee84e199a9",
   "metadata": {},
   "outputs": [],
   "source": []
  }
 ],
 "metadata": {
  "kernelspec": {
   "display_name": "Octave",
   "language": "octave",
   "name": "octave"
  },
  "language_info": {
   "file_extension": ".m",
   "help_links": [
    {
     "text": "GNU Octave",
     "url": "https://www.gnu.org/software/octave/support.html"
    },
    {
     "text": "Octave Kernel",
     "url": "https://github.com/Calysto/octave_kernel"
    },
    {
     "text": "MetaKernel Magics",
     "url": "https://metakernel.readthedocs.io/en/latest/source/README.html"
    }
   ],
   "mimetype": "text/x-octave",
   "name": "octave",
   "version": "5.2.0"
  }
 },
 "nbformat": 4,
 "nbformat_minor": 5
}
