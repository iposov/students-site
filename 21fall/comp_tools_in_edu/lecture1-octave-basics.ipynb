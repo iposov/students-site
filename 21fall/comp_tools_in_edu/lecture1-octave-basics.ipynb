{
 "cells": [
  {
   "cell_type": "markdown",
   "metadata": {
    "collapsed": false
   },
   "source": [
    "# Computer tools in education\n",
    "\n",
    "We are going to discuss Math software: Octave, SageMath, GeoGebra, LaTeX.\n",
    "\n",
    "* Octave — software for numerical evaluation, a free analog of MatLab, etc.\n",
    "* SageMath — software for symbolic manipulations, a free analog of Mathemaica, Maple, etc. For example, `expand((x - 1)*(x + 2))` is computed to `x^2 + x - 2`.\n",
    "* GeoGebra — school geometry, make geometrical constructions, observe gemetrical facts, etc. For example, you may construct a triangle, then construct medians and see that they really intersect in one point. If you move vertices, you see that medians still intersect.\n",
    "* LaTeX — typesettings system, a kind of Microsoft Word, but it is easier in LaTeX to write formulas.\n",
    "\n",
    "## Octave\n",
    "\n",
    "A software to make numeric computations. Feature-Comparable with matlab. If some code works for Matlab, Octave tries to run this code also.\n",
    "One of the reasons to study octave. Its main object it works are matrices. (MatLab = matrix laboratory). Numpy, for example, is based on ideas from Octave. So, if you study octave, you also study numpy. Numpy is a numeric computations library for Python.\n",
    "\n",
    "Octave (Matlab) has a programming language, designed for mathematitians.\n",
    "\n",
    "### how to use octave\n",
    "\n",
    "You can install it, and you will have Octave by itself and a Graphical User Interface (GUI) for it\n",
    "\n",
    "You can use octave online. octave-online.com (only if you are not able to install)\n",
    "\n",
    "# The Octave (MatLab) language\n",
    "## How to create matrices\n",
    "\n",
    "If you write a number, this is a 1x1 matrix with that number"
   ]
  },
  {
   "cell_type": "code",
   "execution_count": 3,
   "metadata": {
    "collapsed": false
   },
   "outputs": [
    {
     "name": "stdout",
     "output_type": "stream",
     "text": [
      "ans = 2\r\n"
     ]
    }
   ],
   "source": [
    "2"
   ]
  },
  {
   "cell_type": "markdown",
   "metadata": {
    "collapsed": false
   },
   "source": [
    "If you want to have a bigger matrix, write it in `[` and `]`. Split numbers by space or a comma, split lines by a semicolon or a newline:"
   ]
  },
  {
   "cell_type": "code",
   "execution_count": 6,
   "metadata": {
    "collapsed": false
   },
   "outputs": [
    {
     "name": "stdout",
     "output_type": "stream",
     "text": [
      "ans =\r\n",
      "\r\n",
      "   1   2   3\r\n",
      "   4   5   6\r\n",
      "\r\n"
     ]
    },
    {
     "name": "stdout",
     "output_type": "stream",
     "text": [
      "ans =\r\n",
      "\r\n",
      "   1   2   3\r\n",
      "   4   5   6\r\n",
      "\r\n"
     ]
    },
    {
     "name": "stdout",
     "output_type": "stream",
     "text": [
      "ans =\r\n",
      "\r\n",
      "   1   2   3\r\n",
      "   4   5   6\r\n",
      "\r\n"
     ]
    }
   ],
   "source": [
    "[1 2 3 ; 4 5 6]\n",
    "[1, 2, 3; 4, 5, 6]\n",
    "[1 2 3\n",
    " 4 5 6]"
   ]
  },
  {
   "cell_type": "markdown",
   "metadata": {
    "collapsed": false
   },
   "source": [
    "you can create variables and assign matrices to them:"
   ]
  },
  {
   "cell_type": "code",
   "execution_count": 7,
   "metadata": {
    "collapsed": false
   },
   "outputs": [
    {
     "name": "stdout",
     "output_type": "stream",
     "text": [
      "a =\r\n",
      "\r\n",
      "   1   2   3\r\n",
      "   4   5   6\r\n",
      "\r\n"
     ]
    },
    {
     "name": "stdout",
     "output_type": "stream",
     "text": [
      "b =\r\n",
      "\r\n",
      "    3    4\r\n",
      "    5    6\r\n",
      "    9   10\r\n",
      "\r\n"
     ]
    }
   ],
   "source": [
    "a = [1 2 3; 4 5 6]\n",
    "b = [3 4; 5 6; 9 10]"
   ]
  },
  {
   "cell_type": "markdown",
   "metadata": {
    "collapsed": false
   },
   "source": [
    "we can combine matrices:"
   ]
  },
  {
   "cell_type": "code",
   "execution_count": 12,
   "metadata": {
    "collapsed": false
   },
   "outputs": [
    {
     "name": "stdout",
     "output_type": "stream",
     "text": [
      "a =\r\n",
      "\r\n",
      "   1   2\r\n",
      "   3   4\r\n",
      "\r\n"
     ]
    },
    {
     "name": "stdout",
     "output_type": "stream",
     "text": [
      "ans =\r\n",
      "\r\n",
      "   1   2   1   2\r\n",
      "   3   4   3   4\r\n",
      "\r\n"
     ]
    },
    {
     "name": "stdout",
     "output_type": "stream",
     "text": [
      "ans =\r\n",
      "\r\n",
      "   1   2\r\n",
      "   3   4\r\n",
      "   1   2\r\n",
      "   3   4\r\n",
      "\r\n"
     ]
    },
    {
     "name": "stdout",
     "output_type": "stream",
     "text": [
      "ans =\r\n",
      "\r\n",
      "    1    2    1    2    1    2\r\n",
      "    3    4    3    4    3    4\r\n",
      "   10   20   30   40   50   60\r\n",
      "\r\n"
     ]
    }
   ],
   "source": [
    "a = [1 2; 3 4]\n",
    "[a a]\n",
    "[a ; a]\n",
    "[a a a; 10 20 30 40 50 60]\n",
    "% [a a a; 10 20] - an error"
   ]
  },
  {
   "cell_type": "markdown",
   "metadata": {
    "collapsed": false
   },
   "source": [
    "### The range operator\n",
    "A colon creates a matrix:"
   ]
  },
  {
   "cell_type": "code",
   "execution_count": 17,
   "metadata": {
    "collapsed": false
   },
   "outputs": [
    {
     "name": "stdout",
     "output_type": "stream",
     "text": [
      "ans =\r\n",
      "\r\n",
      "    1    2    3    4    5    6    7    8    9   10\r\n",
      "\r\n"
     ]
    },
    {
     "name": "stdout",
     "output_type": "stream",
     "text": [
      "ans =\r\n",
      "\r\n",
      "   10   11   12   13   14   15   16   17   18   19   20\r\n",
      "\r\n"
     ]
    },
    {
     "name": "stdout",
     "output_type": "stream",
     "text": [
      "ans =\r\n",
      "\r\n",
      "   10   13   16   19\r\n",
      "\r\n"
     ]
    },
    {
     "name": "stdout",
     "output_type": "stream",
     "text": [
      "ans =\r\n",
      "\r\n",
      " Columns 1 through 8:\r\n",
      "\r\n",
      "         0    0.1000    0.2000    0.3000    0.4000    0.5000    0.6000    0.7000\r\n",
      "\r\n",
      " Columns 9 through 11:\r\n",
      "\r\n",
      "    0.8000    0.9000    1.0000\r\n",
      "\r\n"
     ]
    },
    {
     "name": "stdout",
     "output_type": "stream",
     "text": [
      "ans =\r\n",
      "\r\n",
      " Columns 1 through 8:\r\n",
      "\r\n",
      "         0    0.1111    0.2222    0.3333    0.4444    0.5556    0.6667    0.7778\r\n",
      "\r\n",
      " Columns 9 and 10:\r\n",
      "\r\n",
      "    0.8889    1.0000\r\n",
      "\r\n"
     ]
    }
   ],
   "source": [
    "1:10\n",
    "10:20\n",
    "10:3:20  % use step 3\n",
    "0:0.1:1  % 11 numbers: 0 0.1 0.2 0.3     1\n",
    "0:(1/9):1        % 10 numbers from 0 to 1, the step should be 1/9"
   ]
  },
  {
   "cell_type": "code",
   "execution_count": 18,
   "metadata": {
    "collapsed": false
   },
   "outputs": [
    {
     "name": "stdout",
     "output_type": "stream",
     "text": [
      "ans =\r\n",
      "\r\n",
      "    1    2    3    4    5    6    7    8    9   10\r\n",
      "    2    3    4    5    6    7    8    9   10   11\r\n",
      "\r\n"
     ]
    }
   ],
   "source": [
    "[1:10 ; 2:11]"
   ]
  },
  {
   "cell_type": "markdown",
   "metadata": {
    "collapsed": false
   },
   "source": [
    "### Functions to create matrices\n",
    "similar to `:`, but you say not the step, you say number of elements:"
   ]
  },
  {
   "cell_type": "code",
   "execution_count": 19,
   "metadata": {
    "collapsed": false
   },
   "outputs": [
    {
     "name": "stdout",
     "output_type": "stream",
     "text": [
      "ans =\r\n",
      "\r\n",
      " Columns 1 through 8:\r\n",
      "\r\n",
      "        0   0.1111   0.2222   0.3333   0.4444   0.5556   0.6667   0.7778\r\n",
      "\r\n",
      " Columns 9 and 10:\r\n",
      "\r\n",
      "   0.8889   1.0000\r\n",
      "\r\n"
     ]
    }
   ],
   "source": [
    "linspace(0, 1, 10)  % 10 numbers from 0 to 1"
   ]
  },
  {
   "cell_type": "code",
   "execution_count": 20,
   "metadata": {
    "collapsed": false
   },
   "outputs": [
    {
     "name": "stdout",
     "output_type": "stream",
     "text": [
      "ans =\r\n",
      "\r\n",
      " Columns 1 through 8:\r\n",
      "\r\n",
      "        0   0.1000   0.2000   0.3000   0.4000   0.5000   0.6000   0.7000\r\n",
      "\r\n",
      " Columns 9 through 11:\r\n",
      "\r\n",
      "   0.8000   0.9000   1.0000\r\n",
      "\r\n"
     ]
    }
   ],
   "source": [
    "linspace(0, 1, 11)"
   ]
  },
  {
   "cell_type": "markdown",
   "metadata": {
    "collapsed": false
   },
   "source": [
    "A matrix of zeroes, ones, diagonal matrix:"
   ]
  },
  {
   "cell_type": "code",
   "execution_count": 21,
   "metadata": {
    "collapsed": false
   },
   "outputs": [
    {
     "name": "stdout",
     "output_type": "stream",
     "text": [
      "ans =\r\n",
      "\r\n",
      "   0   0   0   0   0\r\n",
      "   0   0   0   0   0\r\n",
      "   0   0   0   0   0\r\n",
      "   0   0   0   0   0\r\n",
      "   0   0   0   0   0\r\n",
      "\r\n"
     ]
    },
    {
     "name": "stdout",
     "output_type": "stream",
     "text": [
      "ans =\r\n",
      "\r\n",
      "   0   0   0   0\r\n",
      "   0   0   0   0\r\n",
      "\r\n"
     ]
    },
    {
     "name": "stdout",
     "output_type": "stream",
     "text": [
      "ans =\r\n",
      "\r\n",
      "   1   1   1   1\r\n",
      "   1   1   1   1\r\n",
      "   1   1   1   1\r\n",
      "   1   1   1   1\r\n",
      "\r\n"
     ]
    },
    {
     "name": "stdout",
     "output_type": "stream",
     "text": [
      "ans =\r\n",
      "\r\n",
      "   1\r\n",
      "   1\r\n",
      "   1\r\n",
      "   1\r\n",
      "   1\r\n",
      "   1\r\n",
      "   1\r\n",
      "   1\r\n",
      "   1\r\n",
      "   1\r\n",
      "\r\n"
     ]
    }
   ],
   "source": [
    "zeros(5)  %5x5\n",
    "zeros(2, 4) % 2x4\n",
    "ones(4)  % 4x4\n",
    "ones(10, 1)  % 10x1"
   ]
  },
  {
   "cell_type": "code",
   "execution_count": 24,
   "metadata": {
    "collapsed": false
   },
   "outputs": [
    {
     "name": "stdout",
     "output_type": "stream",
     "text": [
      "ans =\r\n",
      "\r\n",
      "Diagonal Matrix\r\n",
      "\r\n",
      "   1   0   0   0   0\r\n",
      "   0   1   0   0   0\r\n",
      "   0   0   1   0   0\r\n",
      "   0   0   0   1   0\r\n",
      "   0   0   0   0   1\r\n",
      "\r\n"
     ]
    },
    {
     "name": "stdout",
     "output_type": "stream",
     "text": [
      "ans =\r\n",
      "\r\n",
      "Diagonal Matrix\r\n",
      "\r\n",
      "   1   0   0   0   0\r\n",
      "   0   1   0   0   0\r\n",
      "   0   0   1   0   0\r\n",
      "\r\n"
     ]
    }
   ],
   "source": [
    "eye(5) % 5x5 with 1s on diag\n",
    "eye(3, 5)  % 3x5 with 1s on diag"
   ]
  },
  {
   "cell_type": "code",
   "execution_count": 26,
   "metadata": {
    "collapsed": false
   },
   "outputs": [
    {
     "name": "stdout",
     "output_type": "stream",
     "text": [
      "ans =\r\n",
      "\r\n",
      "Diagonal Matrix\r\n",
      "\r\n",
      "   1   0   0\r\n",
      "   0   2   0\r\n",
      "   0   0   3\r\n",
      "\r\n"
     ]
    },
    {
     "name": "stdout",
     "output_type": "stream",
     "text": [
      "ans =\r\n",
      "\r\n",
      "Diagonal Matrix\r\n",
      "\r\n",
      "    1    0    0    0    0    0    0    0    0    0\r\n",
      "    0    2    0    0    0    0    0    0    0    0\r\n",
      "    0    0    3    0    0    0    0    0    0    0\r\n",
      "    0    0    0    4    0    0    0    0    0    0\r\n",
      "    0    0    0    0    5    0    0    0    0    0\r\n",
      "    0    0    0    0    0    6    0    0    0    0\r\n",
      "    0    0    0    0    0    0    7    0    0    0\r\n",
      "    0    0    0    0    0    0    0    8    0    0\r\n",
      "    0    0    0    0    0    0    0    0    9    0\r\n",
      "    0    0    0    0    0    0    0    0    0   10\r\n",
      "\r\n"
     ]
    }
   ],
   "source": [
    "diag([1 2 3]) % provide a row of numbers, creates a diagonal matrix with this number\n",
    "diag(1:10)"
   ]
  },
  {
   "cell_type": "code",
   "execution_count": 0,
   "metadata": {
    "collapsed": false
   },
   "outputs": [
   ],
   "source": [
   ]
  }
 ],
 "metadata": {
  "kernelspec": {
   "display_name": "Octave",
   "language": "octave",
   "name": "octave",
   "resource_dir": "/ext/jupyter/kernels/octave"
  },
  "language_info": {
   "file_extension": ".m",
   "help_links": [
    {
     "text": "GNU Octave",
     "url": "https://www.gnu.org/software/octave/support.html"
    },
    {
     "text": "Octave Kernel",
     "url": "https://github.com/Calysto/octave_kernel"
    },
    {
     "text": "MetaKernel Magics",
     "url": "https://metakernel.readthedocs.io/en/latest/source/README.html"
    }
   ],
   "mimetype": "text/x-octave",
   "name": "octave",
   "version": "6.3.0"
  }
 },
 "nbformat": 4,
 "nbformat_minor": 4
}