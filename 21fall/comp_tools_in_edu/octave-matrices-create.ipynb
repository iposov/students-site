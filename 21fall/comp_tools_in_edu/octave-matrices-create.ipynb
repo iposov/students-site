{
 "cells": [
  {
   "cell_type": "markdown",
   "metadata": {},
   "source": [
    "# Creating matrices"
   ]
  },
  {
   "cell_type": "markdown",
   "metadata": {},
   "source": [
    "## Specify elements"
   ]
  },
  {
   "cell_type": "markdown",
   "metadata": {},
   "source": [
    "Use square brackets to compose a matrix from smaller elements. A __space__ or a __comma__ means putting in the same line. A __new line__ or a __semicolon__ means putting on the next line.\n",
    "\n",
    "All the following examples create the same matrix"
   ]
  },
  {
   "cell_type": "code",
   "execution_count": 2,
   "metadata": {},
   "outputs": [
    {
     "name": "stdout",
     "output_type": "stream",
     "text": [
      "a =\n",
      "\n",
      "   1   2\n",
      "   3   4\n",
      "\n",
      "b =\n",
      "\n",
      "   1   2\n",
      "   3   4\n",
      "\n",
      "c =\n",
      "\n",
      "   1   2\n",
      "   3   4\n",
      "\n"
     ]
    }
   ],
   "source": [
    "a = [1 2; 3 4]\n",
    "b = [1, 2; 3, 4]\n",
    "c = [1, 2\n",
    "     3  4]"
   ]
  },
  {
   "cell_type": "markdown",
   "metadata": {},
   "source": [
    "Here are examples of row and column matrices:"
   ]
  },
  {
   "cell_type": "code",
   "execution_count": 4,
   "metadata": {},
   "outputs": [
    {
     "name": "stdout",
     "output_type": "stream",
     "text": [
      "a =\n",
      "\n",
      "    1    2    3    4   10   20\n",
      "\n",
      "b =\n",
      "\n",
      "   10\n",
      "   20\n",
      "   30\n",
      "\n"
     ]
    }
   ],
   "source": [
    "a = [1 2 3 4 10 20]\n",
    "b = [10; 20; 30]"
   ]
  },
  {
   "cell_type": "markdown",
   "metadata": {},
   "source": [
    "You can compose matrices of smaller ones:"
   ]
  },
  {
   "cell_type": "code",
   "execution_count": 12,
   "metadata": {},
   "outputs": [
    {
     "name": "stdout",
     "output_type": "stream",
     "text": [
      "a =\n",
      "\n",
      "   1   2\n",
      "   3   4\n",
      "\n",
      "b =\n",
      "\n",
      "   0   0\n",
      "\n",
      "c =\n",
      "\n",
      "   1   2\n",
      "   3   4\n",
      "   0   0\n",
      "\n",
      "d =\n",
      "\n",
      "   1   2   1   2\n",
      "   3   4   3   4\n",
      "   0   0   0   0\n",
      "\n",
      "e =\n",
      "\n",
      "   1   2\n",
      "   3   4\n",
      "   5   6\n",
      "\n"
     ]
    }
   ],
   "source": [
    "a = [1 2; 3 4]\n",
    "b = [0 0]\n",
    "c = [a; b] # put a on top of b\n",
    "d = [a a; b b] # put a next to a, and in the next line put b next to b\n",
    "e = [a; 5 6] # add a row below a"
   ]
  },
  {
   "cell_type": "markdown",
   "metadata": {},
   "source": [
    "## Range operator"
   ]
  },
  {
   "cell_type": "markdown",
   "metadata": {},
   "source": [
    "Use the colon operator to create a row matrix consisting of consecutive numbers: "
   ]
  },
  {
   "cell_type": "code",
   "execution_count": 16,
   "metadata": {},
   "outputs": [
    {
     "name": "stdout",
     "output_type": "stream",
     "text": [
      "a =\n",
      "\n",
      "    1    2    3    4    5    6    7    8    9   10\n",
      "\n",
      "b =\n",
      "\n",
      "   1   3   5   7   9\n",
      "\n",
      "c =\n",
      "\n",
      "   10    9    8    7    6    5    4    3    2    1\n",
      "\n",
      "d =\n",
      "\n",
      " Columns 1 through 8:\n",
      "\n",
      "    1.0000    1.1000    1.2000    1.3000    1.4000    1.5000    1.6000    1.7000\n",
      "\n",
      " Columns 9 through 11:\n",
      "\n",
      "    1.8000    1.9000    2.0000\n",
      "\n"
     ]
    }
   ],
   "source": [
    "a = 1:10 # numbers from 1 to 10\n",
    "b = 1:2:10 # numbers from 1 to 10 with step 2\n",
    "c = 10:-1:1 # numbers from 10 downto 1\n",
    "d = 1:0.1:2 # numbers from 1 to 2 with the step 0.1"
   ]
  },
  {
   "cell_type": "markdown",
   "metadata": {},
   "source": [
    "## Functions that create matrices"
   ]
  },
  {
   "cell_type": "markdown",
   "metadata": {},
   "source": [
    "`linspace` is similar to the range operators, but allows for specifying the number of points instead of the step size:"
   ]
  },
  {
   "cell_type": "code",
   "execution_count": 24,
   "metadata": {},
   "outputs": [
    {
     "name": "stdout",
     "output_type": "stream",
     "text": [
      "a =\n",
      "\n",
      " Columns 1 through 8:\n",
      "\n",
      "   1.0000   1.0500   1.1000   1.1500   1.2000   1.2500   1.3000   1.3500\n",
      "\n",
      " Columns 9 through 16:\n",
      "\n",
      "   1.4000   1.4500   1.5000   1.5500   1.6000   1.6500   1.7000   1.7500\n",
      "\n",
      " Columns 17 through 21:\n",
      "\n",
      "   1.8000   1.8500   1.9000   1.9500   2.0000\n",
      "\n",
      "b =\n",
      "\n",
      " Columns 1 through 8:\n",
      "\n",
      "    1.0000    1.0500    1.1000    1.1500    1.2000    1.2500    1.3000    1.3500\n",
      "\n",
      " Columns 9 through 16:\n",
      "\n",
      "    1.4000    1.4500    1.5000    1.5500    1.6000    1.6500    1.7000    1.7500\n",
      "\n",
      " Columns 17 through 21:\n",
      "\n",
      "    1.8000    1.8500    1.9000    1.9500    2.0000\n",
      "\n"
     ]
    }
   ],
   "source": [
    "a = linspace(1, 2, 21) # Creates numbers from 1 to 2 in such\n",
    "                       # a way that there are exactly 21 numbers.\n",
    "b = 1:1/20:2 # you get the same result with the range operator"
   ]
  },
  {
   "cell_type": "code",
   "execution_count": 30,
   "metadata": {},
   "outputs": [
    {
     "name": "stdout",
     "output_type": "stream",
     "text": [
      "a =\n",
      "\n",
      "   0   0   0\n",
      "   0   0   0\n",
      "\n",
      "b =\n",
      "\n",
      "   1   1\n",
      "   1   1\n",
      "   1   1\n",
      "\n",
      "c =\n",
      "\n",
      "Diagonal Matrix\n",
      "\n",
      "   1   0   0   0   0   0\n",
      "   0   1   0   0   0   0\n",
      "   0   0   1   0   0   0\n",
      "   0   0   0   1   0   0\n",
      "\n",
      "d =\n",
      "\n",
      "   0   0   0\n",
      "   0   0   0\n",
      "   0   0   0\n",
      "\n"
     ]
    }
   ],
   "source": [
    "a = zeros(2, 3) # matrix consisting of zeros, of the 2x3 size\n",
    "b = ones(3, 2) # matrix consisting of ones, of the 2x3 size\n",
    "c = eye(4, 6) # matrix consisting of zeros, but with ones on the main diagonal\n",
    "d = zeros(3) # one argument (for any of the previous functions) creates a square matrix of the specified size"
   ]
  }
 ],
 "metadata": {
  "kernelspec": {
   "display_name": "Octave",
   "language": "octave",
   "name": "octave"
  },
  "language_info": {
   "file_extension": ".m",
   "help_links": [
    {
     "text": "GNU Octave",
     "url": "https://www.gnu.org/software/octave/support.html"
    },
    {
     "text": "Octave Kernel",
     "url": "https://github.com/Calysto/octave_kernel"
    },
    {
     "text": "MetaKernel Magics",
     "url": "https://github.com/calysto/metakernel/blob/master/metakernel/magics/README.md"
    }
   ],
   "mimetype": "text/x-octave",
   "name": "octave",
   "version": "4.2.2"
  }
 },
 "nbformat": 4,
 "nbformat_minor": 2
}
