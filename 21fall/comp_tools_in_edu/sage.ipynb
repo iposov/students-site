{
 "cells": [
  {
   "cell_type": "markdown",
   "metadata": {},
   "source": [
    "# SageMath computer Algebra System\n",
    "\n",
    "Computer Algebra systems work with symbolic (mathematical) expressions. For example, compare two ways of solving an equation:\n",
    "\n",
    "```Solve(x^2 = 2)```.\n",
    "\n",
    "Numeric way (the way Octave works) is `x = 1.4142..`.\n",
    "Symbolic way `x = sqrt(2)` or $x = \\sqrt2$.\n",
    "\n",
    "Another symbolic task is to, for example, expand brackets:"
   ]
  },
  {
   "cell_type": "code",
   "execution_count": 1,
   "metadata": {},
   "outputs": [
    {
     "data": {
      "text/plain": [
       "x^2 + 3*x + 2"
      ]
     },
     "execution_count": 1,
     "metadata": {},
     "output_type": "execute_result"
    }
   ],
   "source": [
    "expand((x + 1)*(x + 2))"
   ]
  },
  {
   "cell_type": "code",
   "execution_count": 2,
   "metadata": {},
   "outputs": [
    {
     "data": {
      "text/plain": [
       "[x == -sqrt(2), x == sqrt(2)]"
      ]
     },
     "execution_count": 2,
     "metadata": {},
     "output_type": "execute_result"
    }
   ],
   "source": [
    "solve(x^2 == 2, x)"
   ]
  },
  {
   "cell_type": "code",
   "execution_count": 4,
   "metadata": {},
   "outputs": [
    {
     "data": {
      "text/plain": [
       "2*x + cos(x)"
      ]
     },
     "execution_count": 4,
     "metadata": {},
     "output_type": "execute_result"
    }
   ],
   "source": [
    "derivative(x^2 + sin(x), x)"
   ]
  },
  {
   "cell_type": "markdown",
   "metadata": {},
   "source": [
    "These were examples of symbolic computation. In numeric computation, for example, about a derivative, you are usually able only to find a derivative in a certain point.\n",
    "\n",
    "The most well known symbolic software is Wolfram Mathmatica, Maple, MatCad, etc... (all of them are not free).\n",
    "\n",
    "The free symbolic software: a lot of example, for example, Maxima, etc. Free software is usually very specific for some tasks.\n",
    "`SageMath` is a free system that tries to Unite all the good free mathematical software under one interface. So, when you install SageMath, you actually install Octave, Maxima and many more. So, SageMath occupies a lot of disk space.\n",
    "\n",
    "# Installation\n",
    "\n",
    "1. You can install it locally on your computer.\n",
    "2. You can install it through Docker\n",
    "3. Online: cocalc.com\n",
    "4. Online: sage cell server https://sagecell.sagemath.org\n",
    "\n",
    "# Programming language\n",
    "\n",
    "Sage language is based on Python. In fact, it is python with very small syntactic differences. A short example of basics (variables, printing, etc.)"
   ]
  },
  {
   "cell_type": "code",
   "execution_count": 9,
   "metadata": {},
   "outputs": [
    {
     "name": "stdout",
     "output_type": "stream",
     "text": [
      "the value of a is 42 !\n"
     ]
    },
    {
     "data": {
      "text/html": [
       "<html><script type=\"math/tex; mode=display\">\\newcommand{\\Bold}[1]{\\mathbf{#1}}42</script></html>"
      ],
      "text/plain": [
       "42"
      ]
     },
     "metadata": {},
     "output_type": "display_data"
    },
    {
     "data": {
      "text/html": [
       "<html><script type=\"math/tex; mode=display\">\\newcommand{\\Bold}[1]{\\mathbf{#1}}43</script></html>"
      ],
      "text/plain": [
       "43"
      ]
     },
     "metadata": {},
     "output_type": "display_data"
    }
   ],
   "source": [
    "a = 42  # assignment\n",
    "print(\"the value of a is\", a, \"!\")  # printing, you could put several arguments\n",
    "\n",
    "b = a + 1\n",
    "show(a)  # beautiful print\n",
    "show(b)"
   ]
  },
  {
   "cell_type": "markdown",
   "metadata": {},
   "source": [
    "## Symbolic expression\n",
    "This is a special type in the language, so some variables contain expressions.\n",
    "Variable 'x' by default contains a variable 'x'."
   ]
  },
  {
   "cell_type": "code",
   "execution_count": 18,
   "metadata": {
    "scrolled": true
   },
   "outputs": [
    {
     "data": {
      "text/html": [
       "<html><script type=\"math/tex; mode=display\">\\newcommand{\\Bold}[1]{\\mathbf{#1}}x + 1</script></html>"
      ],
      "text/plain": [
       "x + 1"
      ]
     },
     "metadata": {},
     "output_type": "display_data"
    },
    {
     "data": {
      "text/html": [
       "<html><script type=\"math/tex; mode=display\">\\newcommand{\\Bold}[1]{\\mathbf{#1}}y + 2</script></html>"
      ],
      "text/plain": [
       "y + 2"
      ]
     },
     "metadata": {},
     "output_type": "display_data"
    }
   ],
   "source": [
    "show(x + 1)\n",
    "# show(y) # y is unknown\n",
    "var('y') # we say, that y becomes a variable too\n",
    "show(y + 2)\n",
    "z = 'z'  # this is just a string\n",
    "# show(z + 1) #  it is impossible to add a number to a string"
   ]
  },
  {
   "cell_type": "markdown",
   "metadata": {},
   "source": [
    "Arithmetic operations manipulate and create new symbolic expressions. The same is with functions:"
   ]
  },
  {
   "cell_type": "code",
   "execution_count": 27,
   "metadata": {},
   "outputs": [
    {
     "data": {
      "text/html": [
       "<html><script type=\"math/tex; mode=display\">\\newcommand{\\Bold}[1]{\\mathbf{#1}}{\\left(x + 2\\right)} {\\left(x + 1\\right)}</script></html>"
      ],
      "text/plain": [
       "(x + 2)*(x + 1)"
      ]
     },
     "metadata": {},
     "output_type": "display_data"
    },
    {
     "data": {
      "text/html": [
       "<html><script type=\"math/tex; mode=display\">\\newcommand{\\Bold}[1]{\\mathbf{#1}}x^{2} + 3 \\, x + 2</script></html>"
      ],
      "text/plain": [
       "x^2 + 3*x + 2"
      ]
     },
     "metadata": {},
     "output_type": "display_data"
    },
    {
     "data": {
      "text/html": [
       "<html><script type=\"math/tex; mode=display\">\\newcommand{\\Bold}[1]{\\mathbf{#1}}x^{2} + 3 \\, x + 2</script></html>"
      ],
      "text/plain": [
       "x^2 + 3*x + 2"
      ]
     },
     "metadata": {},
     "output_type": "display_data"
    }
   ],
   "source": [
    "my_poly = (x + 1)*(x + 2)\n",
    "show(my_poly)\n",
    "\n",
    "expanded_poly = expand(my_poly)\n",
    "show(expanded_poly)\n",
    "\n",
    "show(my_poly.expand())"
   ]
  },
  {
   "cell_type": "markdown",
   "metadata": {},
   "source": [
    "The general syntax for operations with symbolic expressions is: `expression.action(args)`. Sometimes works: `action(expression, args)`."
   ]
  },
  {
   "cell_type": "code",
   "execution_count": 30,
   "metadata": {},
   "outputs": [
    {
     "data": {
      "text/html": [
       "<html><script type=\"math/tex; mode=display\">\\newcommand{\\Bold}[1]{\\mathbf{#1}}-\\frac{1}{x + 1} + \\frac{1}{x - 1}</script></html>"
      ],
      "text/plain": [
       "-1/(x + 1) + 1/(x - 1)"
      ]
     },
     "metadata": {},
     "output_type": "display_data"
    },
    {
     "data": {
      "text/html": [
       "<html><script type=\"math/tex; mode=display\">\\newcommand{\\Bold}[1]{\\mathbf{#1}}\\frac{2}{x^{2} - 1}</script></html>"
      ],
      "text/plain": [
       "2/(x^2 - 1)"
      ]
     },
     "metadata": {},
     "output_type": "display_data"
    }
   ],
   "source": [
    "(sin(x)^2 + cos(x)^2).full_simplify()\n",
    "\n",
    "sin_and_cos = sin(x)^2 + cos(x)^2\n",
    "sin_and_cos.full_simplify()\n",
    "\n",
    "f = 1/(x - 1) - 1/(x + 1)\n",
    "show(f)\n",
    "show(f.full_simplify())"
   ]
  },
  {
   "cell_type": "code",
   "execution_count": 31,
   "metadata": {},
   "outputs": [
    {
     "data": {
      "image/png": "[encoded data removed]",
      "text/plain": [
       "Graphics object consisting of 1 graphics primitive"
      ]
     },
     "execution_count": 31,
     "metadata": {},
     "output_type": "execute_result"
    }
   ],
   "source": [
    "plot(sin(x))"
   ]
  },
  {
   "cell_type": "code",
   "execution_count": null,
   "metadata": {},
   "outputs": [],
   "source": []
  }
 ],
 "metadata": {
  "kernelspec": {
   "display_name": "SageMath 9.1",
   "language": "sage",
   "name": "sagemath"
  },
  "language_info": {
   "codemirror_mode": {
    "name": "ipython",
    "version": 3
   },
   "file_extension": ".py",
   "mimetype": "text/x-python",
   "name": "python",
   "nbconvert_exporter": "python",
   "pygments_lexer": "ipython3",
   "version": "3.7.3"
  }
 },
 "nbformat": 4,
 "nbformat_minor": 2
}
