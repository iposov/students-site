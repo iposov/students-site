{
 "cells": [
  {
   "cell_type": "markdown",
   "metadata": {
    "collapsed": true,
    "pycharm": {
     "name": "#%% md\n"
    }
   },
   "source": [
    "# Основы Python, nltk"
   ]
  },
  {
   "cell_type": "code",
   "execution_count": 4,
   "outputs": [
    {
     "name": "stdout",
     "output_type": "stream",
     "text": [
      "Значение переменной x = 42,\n",
      "а если его увеличить на 1, будет 43.\n",
      "\n"
     ]
    }
   ],
   "source": [
    "text = \"Какой-то текст\"\n",
    "textLong = \"\"\" Какой-то текст в несколько строчек\n",
    "А вот и вторая строка текста.\n",
    "Еще одна\n",
    "\"\"\"\n",
    "\n",
    "x = 42\n",
    "#f-строка\n",
    "textWithVariables = f\"\"\"Значение переменной x = {x},\n",
    "а если его увеличить на 1, будет {x + 1}.\n",
    "\"\"\"\n",
    "\n",
    "print(textWithVariables)"
   ],
   "metadata": {
    "collapsed": false,
    "pycharm": {
     "name": "#%%\n"
    }
   }
  },
  {
   "cell_type": "markdown",
   "source": [
    "Можно округлять значения вещественных при выводе:\n",
    "надо добавлять `:.3f`, где f означает вещественное число,\n",
    "3 означает, что три знака"
   ],
   "metadata": {
    "collapsed": false,
    "pycharm": {
     "name": "#%% md\n"
    }
   }
  },
  {
   "cell_type": "code",
   "execution_count": 5,
   "outputs": [
    {
     "name": "stdout",
     "output_type": "stream",
     "text": [
      "x = 0.30000000000000004, а с округлением: 0.300\n"
     ]
    }
   ],
   "source": [
    "print(f\"x = {0.1 + 0.2}, а с округлением: {0.1 + 0.2:.3f}\")"
   ],
   "metadata": {
    "collapsed": false,
    "pycharm": {
     "name": "#%%\n"
    }
   }
  },
  {
   "cell_type": "markdown",
   "source": [
    "Операции со строками https://docs.python.org/3/library/stdtypes.html#string-methods\n",
    "\n",
    "Списки в python и другие самые разные перечисления.\n",
    "Кроме списком перечислять можно строки, кортежи,\n",
    "range-диапазоны и многое другое."
   ],
   "metadata": {
    "collapsed": false,
    "pycharm": {
     "name": "#%% md\n"
    }
   }
  },
  {
   "cell_type": "code",
   "execution_count": 10,
   "outputs": [
    {
     "name": "stdout",
     "output_type": "stream",
     "text": [
      "10\n",
      "20\n",
      "30\n",
      "abc\n",
      "xyz\n",
      "True\n",
      "10\n",
      "20\n",
      "30\n",
      "abc\n",
      "xyz\n",
      "1\n",
      "2\n",
      "3\n",
      "4\n",
      "5\n",
      "6\n",
      "7\n",
      "8\n",
      "9\n",
      "<class 'list'>\n",
      "a\n",
      "b\n",
      "c\n",
      "d\n",
      "e\n",
      "f\n",
      "g\n"
     ]
    }
   ],
   "source": [
    "list1 = [10, 20, 30, \"abc\", \"xyz\", True]\n",
    "list2 = [10]\n",
    "list0 = []  # пустой список\n",
    "tuple1 = 10, 20, 30, \"abc\", \"xyz\"  # кортеж, неизменяемый список\n",
    "tuple0 = ()  # пустой кортеж\n",
    "tuple2 = (10,)  # кортеж из 1 элемента, особый\n",
    "r = range(1, 10)  # перечисление целых от 1 до 10 (не включительно)\n",
    "s = \"abcdef\"  # тоже перечисляется\n",
    "\n",
    "# for element in перечисление:\n",
    "for x in list1:\n",
    "    print(x)\n",
    "\n",
    "for x in tuple1:\n",
    "    print(x)\n",
    "\n",
    "for x in range(1, 10):\n",
    "    print(x)\n",
    "\n",
    "for x in \"abcdefg\":\n",
    "    print(x)"
   ],
   "metadata": {
    "collapsed": false,
    "pycharm": {
     "name": "#%%\n"
    }
   }
  },
  {
   "cell_type": "markdown",
   "source": [
    "### Доступ к элементам перечисления"
   ],
   "metadata": {
    "collapsed": false,
    "pycharm": {
     "name": "#%% md\n"
    }
   }
  },
  {
   "cell_type": "code",
   "execution_count": 21,
   "outputs": [
    {
     "name": "stdout",
     "output_type": "stream",
     "text": [
      "[10, 20, 30, 'abc', 'xyz', True]\n",
      "10\n",
      "20\n",
      "True\n",
      "[20, 30]\n",
      "[10]\n",
      "[10, 20, 30, 'abc', 'xyz', True]\n",
      "[10, 20, 30, 'abc', 'xyz']\n",
      "[20, 30, 'abc', 'xyz', True]\n",
      "[10, 30, 'xyz']\n",
      "[True, 'xyz', 'abc', 30, 20, 10]\n",
      "fedcba\n",
      "range(5, 21, 3)\n"
     ]
    }
   ],
   "source": [
    "print(list1)\n",
    "\n",
    "print(list1[0])  # первый элемент списка\n",
    "print(list1[1]) # второй, считаем с 0\n",
    "print(list1[-1])  # отрицательный индекс считает с конца\n",
    "print(list1[1:3])  # с первого по третий, не включительно\n",
    "print(list1[0:1])  # список из одного элемента\n",
    "print(list1[:])  # и что-то не уазано, то считается с начала или до конца\n",
    "print(list1[:5])  # с начала до пятого\n",
    "print(list1[-5:])  # с пятого с конца элемента до конца\n",
    "\n",
    "print(list1[::2])  # с начала до конца каждый второй\n",
    "print(list1[::-1]) # обратный шаг, считает с конца в начало\n",
    "\n",
    "# аналогично с переворачиванием строки\n",
    "print(\"abcdef\"[::-1])\n",
    "print(range(1, 100)[4:20:3])"
   ],
   "metadata": {
    "collapsed": false,
    "pycharm": {
     "name": "#%%\n"
    }
   }
  },
  {
   "cell_type": "markdown",
   "source": [
    "Ссылка на возможности последоветельностей.\n",
    "https://docs.python.org/3/library/stdtypes.html#sequence-types-list-tuple-range"
   ],
   "metadata": {
    "collapsed": false,
    "pycharm": {
     "name": "#%% md\n"
    }
   }
  },
  {
   "cell_type": "code",
   "execution_count": 22,
   "outputs": [
    {
     "data": {
      "text/plain": "[10, 20, 30, 40, 50, 60]"
     },
     "execution_count": 22,
     "metadata": {},
     "output_type": "execute_result"
    }
   ],
   "source": [
    "[10, 20, 30] + [40, 50, 60]\n"
   ],
   "metadata": {
    "collapsed": false,
    "pycharm": {
     "name": "#%%\n"
    }
   }
  },
  {
   "cell_type": "markdown",
   "source": [
    "### Генераторы списка\n",
    "\n",
    "`[выражение for переменная in перечисление if условие]`\n",
    "собирает список из значений выражений, пока переменная\n",
    "перебирает элементы перечисления. Можно добавить if, чтобы\n",
    "отфильтровать часть выражений:"
   ],
   "metadata": {
    "collapsed": false,
    "pycharm": {
     "name": "#%% md\n"
    }
   }
  },
  {
   "cell_type": "code",
   "source": [
    "words = [\"cat\", \"dog\", \"ball\", \"box\"]\n",
    "# Всё к верхнему регистру\n",
    "print([word.upper() for word in words])\n",
    "# отфильтруем часть слов\n",
    "print([word.upper() for word in words if word[0] != \"b\"])\n",
    "\n",
    "# без генератора\n",
    "upper_words = []\n",
    "for word in words:\n",
    "    upper_words.append(word.upper())\n",
    "\n",
    "print(upper_words)\n",
    "\n",
    "# можно делать вложенные for\n",
    "letters = [letter for word in words for letter in word]\n",
    "print(letters)"
   ],
   "metadata": {
    "collapsed": false,
    "pycharm": {
     "name": "#%%\n"
    }
   },
   "execution_count": 27,
   "outputs": [
    {
     "name": "stdout",
     "output_type": "stream",
     "text": [
      "['CAT', 'DOG', 'BALL', 'BOX']\n",
      "['CAT', 'DOG']\n",
      "['CAT', 'DOG', 'BALL', 'BOX']\n",
      "['c', 'a', 't', 'd', 'o', 'g', 'b', 'a', 'l', 'l', 'b', 'o', 'x']\n"
     ]
    }
   ]
  },
  {
   "cell_type": "markdown",
   "source": [
    "## NLTK (Natural language toolkit)\n",
    "\n",
    "NLTK — библиотека с большим количеством инструментов, нужных\n",
    "для обработки ЕЯ. В первую очередь английского, но с русским\n",
    "тоже справляется.\n",
    "\n",
    "Будем использовать для токенизации и вычисления частот.\n",
    "\n",
    "Токенизация — разделение строки на кусочки (токены),\n",
    "слова, слоги, буквы, другие варианты."
   ],
   "metadata": {
    "collapsed": false,
    "pycharm": {
     "name": "#%% md\n"
    }
   }
  },
  {
   "cell_type": "code",
   "execution_count": 29,
   "outputs": [
    {
     "name": "stdout",
     "output_type": "stream",
     "text": [
      "['Какой-то', 'текст', 'из', 'нескольких', 'предложений.', 'Вот', 'еще', 'одно.']\n",
      "['Какой-то текст из нескольких предложений.', 'Вот еще одно.']\n",
      "['Какой-то', 'текст', 'из', 'нескольких', 'предложений', '.', 'Вот', 'еще', 'одно', '.']\n"
     ]
    }
   ],
   "source": [
    "text = \"Какой-то текст из нескольких предложений. Вот еще одно.\"\n",
    "print(text.split())\n",
    "\n",
    "from nltk import sent_tokenize, word_tokenize\n",
    "\n",
    "# импортировали нужные функции\n",
    "print(sent_tokenize(text))\n",
    "print(word_tokenize(text))\n",
    "\n",
    "# сами, с помощью генератора списков, возможностей str, отфильтровать знаки препинания"
   ],
   "metadata": {
    "collapsed": false,
    "pycharm": {
     "name": "#%%\n"
    }
   }
  },
  {
   "cell_type": "code",
   "execution_count": 36,
   "outputs": [
    {
     "name": "stdout",
     "output_type": "stream",
     "text": [
      "100\n",
      "100\n",
      "100\n",
      "200\n",
      "200\n",
      "300\n"
     ]
    }
   ],
   "source": [
    "# частотные словари\n",
    "from nltk import FreqDist\n",
    "# передаём любое перечисление\n",
    "fd = FreqDist([100, 200, 100, 200, 100, 300])\n",
    "\n",
    "fd.freq(100)  # частота относительная\n",
    "fd[100]  # можно обратиться как к элементу массива, узнать\n",
    "         # сколько раз встретился элемент\n",
    "\n",
    "# добавлю чуть позже, как перечислить элементы в порядке убывания частоты"
   ],
   "metadata": {
    "collapsed": false,
    "pycharm": {
     "name": "#%%\n"
    }
   }
  },
  {
   "cell_type": "markdown",
   "source": [
    "Попробуем еще рисование графиков. Это библиотека\n",
    "`matplotlib`."
   ],
   "metadata": {
    "collapsed": false,
    "pycharm": {
     "name": "#%% md\n"
    }
   }
  },
  {
   "cell_type": "code",
   "execution_count": 38,
   "outputs": [
    {
     "data": {
      "text/plain": "[<matplotlib.lines.Line2D at 0x7f2a3e96c130>]"
     },
     "execution_count": 38,
     "metadata": {},
     "output_type": "execute_result"
    },
    {
     "data": {
      "text/plain": "<Figure size 432x288 with 1 Axes>",
      "image/png": "[encoded data removed]"
     },
     "metadata": {
      "needs_background": "light"
     },
     "output_type": "display_data"
    }
   ],
   "source": [
    "from matplotlib.pyplot import plot\n",
    "plot([10, 34, 20, 12])  # индексы — x координаты\n",
    "plot([1, 1, 2, 3], [10, 20, 10, 30]) # сначала x, потом y\n",
    "# точки (1,10) (1,20) (2,10) (3,30)"
   ],
   "metadata": {
    "collapsed": false,
    "pycharm": {
     "name": "#%%\n"
    }
   }
  },
  {
   "cell_type": "markdown",
   "source": [
    "# Закон Ципфа\n",
    "\n",
    "1. Возьмите большой текстовый файл на русском\n",
    "   ```\n",
    "   with open(\"a.txt\", encoding=\"utf8\", mode=\"r\") as f:\n",
    "       text = f.read()\n",
    "   # здесь уже можно пользоваться текстом\n",
    "   ```\n",
    "2. Разбейте его на слова, приведите их к нижнему регистру.\n",
    "3. Посчитайте частоты слов, отсортируйте их от самых частых\n",
    "   к самым редким.\n",
    "4. Закон утверждает, что существует число K,\n",
    "   что индекс слова в списке (ранк) = K / частота слова.\n",
    "   Надо нарисовать график ранга и частоты. Должно быть\n",
    "   похоже на гиперболу.\n",
    "5. Лучше сделать график log(1 + rank) и log(частоты)\n",
    "\n",
    "log(rank) = log(K / частота)\n",
    "log(rank) = logK - log(частота) — линейная зависимость\n",
    "\n",
    "Вы должны увидеть прямую под 45 градусов.\n",
    "\n",
    "Дополнительно: используйте pymorphy2,\n",
    "\"котов\" —> \"кот\".\n",
    "\n"
   ],
   "metadata": {
    "collapsed": false,
    "pycharm": {
     "name": "#%% md\n"
    }
   }
  }
 ],
 "metadata": {
  "kernelspec": {
   "display_name": "Python 3",
   "language": "python",
   "name": "python3"
  },
  "language_info": {
   "codemirror_mode": {
    "name": "ipython",
    "version": 2
   },
   "file_extension": ".py",
   "mimetype": "text/x-python",
   "name": "python",
   "nbconvert_exporter": "python",
   "pygments_lexer": "ipython2",
   "version": "2.7.6"
  }
 },
 "nbformat": 4,
 "nbformat_minor": 0
}