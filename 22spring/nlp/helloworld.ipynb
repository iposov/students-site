{
 "cells": [
  {
   "cell_type": "code",
   "execution_count": 3,
   "outputs": [],
   "source": [
    "import nltk"
   ],
   "metadata": {
    "collapsed": false,
    "pycharm": {
     "name": "#%%\n"
    }
   }
  },
  {
   "cell_type": "code",
   "execution_count": 5,
   "outputs": [
    {
     "data": {
      "text/plain": "['Первое',\n ',',\n 'второе',\n ',',\n 'третье',\n 'слово',\n '.',\n 'И',\n 'еще',\n 'одно',\n 'предложение',\n '!']"
     },
     "execution_count": 5,
     "metadata": {},
     "output_type": "execute_result"
    }
   ],
   "source": [
    "# токенизация текста\n",
    "text = \"Первое, второе, третье слово. И еще одно предложение!\"\n",
    "nltk.tokenize.word_tokenize(text)\n"
   ],
   "metadata": {
    "collapsed": false,
    "pycharm": {
     "name": "#%%\n"
    }
   }
  },
  {
   "cell_type": "code",
   "execution_count": 7,
   "outputs": [
    {
     "data": {
      "text/plain": "FreqDist({'abc': 3, 'iii': 2, 'xyz': 1})"
     },
     "execution_count": 7,
     "metadata": {},
     "output_type": "execute_result"
    }
   ],
   "source": [
    "# Подсчет частот\n",
    "words = [\"abc\", \"abc\", \"xyz\", \"abc\", \"iii\", \"iii\"]\n",
    "fd = nltk.FreqDist(words)\n",
    "fd"
   ],
   "metadata": {
    "collapsed": false,
    "pycharm": {
     "name": "#%%\n"
    }
   }
  },
  {
   "cell_type": "code",
   "execution_count": 13,
   "outputs": [
    {
     "name": "stdout",
     "output_type": "stream",
     "text": [
      "abc 3\n",
      "iii 2\n",
      "xyz 1\n"
     ]
    }
   ],
   "source": [
    "for x in fd:  # перечисление слов по убыванию частоты\n",
    "    print(x, fd[x])  # и вычисление частоты\n"
   ],
   "metadata": {
    "collapsed": false,
    "pycharm": {
     "name": "#%%\n"
    }
   }
  },
  {
   "cell_type": "code",
   "execution_count": 20,
   "outputs": [
    {
     "data": {
      "text/plain": "[<matplotlib.lines.Line2D at 0x7f0ded6a04c0>]"
     },
     "execution_count": 20,
     "metadata": {},
     "output_type": "execute_result"
    },
    {
     "data": {
      "text/plain": "<Figure size 432x288 with 1 Axes>",
      "image/png": "[encoded data removed]"
     },
     "metadata": {
      "needs_background": "light"
     },
     "output_type": "display_data"
    }
   ],
   "source": [
    "# рисование графиков\n",
    "import matplotlib as mp\n",
    "from matplotlib import pyplot as pp\n",
    "# mp.pyplot.\n",
    "\n",
    "# рисуем пять точек, координаты (1,1000) (2,500) (3,333), (4, 250), (5, 200)\n",
    "# 'o' говорит, что точки рисуются кружками\n",
    "pp.plot([1, 2, 3, 4, 5], [1000, 500, 333, 250, 200], 'o')"
   ],
   "metadata": {
    "collapsed": false,
    "pycharm": {
     "name": "#%%\n"
    }
   }
  },
  {
   "cell_type": "markdown",
   "source": [],
   "metadata": {
    "collapsed": false,
    "pycharm": {
     "name": "#%% md\n"
    }
   }
  }
 ],
 "metadata": {
  "kernelspec": {
   "display_name": "Python 3",
   "language": "python",
   "name": "python3"
  },
  "language_info": {
   "codemirror_mode": {
    "name": "ipython",
    "version": 2
   },
   "file_extension": ".py",
   "mimetype": "text/x-python",
   "name": "python",
   "nbconvert_exporter": "python",
   "pygments_lexer": "ipython2",
   "version": "2.7.6"
  }
 },
 "nbformat": 4,
 "nbformat_minor": 0
}