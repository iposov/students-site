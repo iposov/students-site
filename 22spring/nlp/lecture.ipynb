{
 "cells": [
  {
   "cell_type": "code",
   "execution_count": 2,
   "metadata": {
    "collapsed": true
   },
   "outputs": [
    {
     "name": "stdout",
     "output_type": "stream",
     "text": [
      "1\n",
      "1\n",
      "2\n",
      "3\n",
      "5\n",
      "8\n",
      "13\n",
      "21\n",
      "34\n",
      "55\n",
      "89\n",
      "144\n",
      "233\n",
      "377\n",
      "610\n",
      "987\n",
      "1597\n",
      "2584\n",
      "4181\n",
      "6765\n",
      "10946\n",
      "17711\n",
      "28657\n",
      "         150699 function calls (697 primitive calls) in 0.112 seconds\n",
      "\n",
      "   Ordered by: standard name\n",
      "\n",
      "   ncalls  tottime  percall  cumtime  percall filename:lineno(function)\n",
      "        1    0.000    0.000    0.112    0.112 <ipython-input-2-e0ac19a35639>:10(<module>)\n",
      "        1    0.000    0.000    0.000    0.000 <ipython-input-2-e0ac19a35639>:12(<module>)\n",
      "150025/23    0.091    0.000    0.091    0.004 <ipython-input-2-e0ac19a35639>:3(fib)\n",
      "        2    0.000    0.000    0.000    0.000 codeop.py:142(__call__)\n",
      "        4    0.000    0.000    0.000    0.000 compilerop.py:166(extra_flags)\n",
      "        2    0.000    0.000    0.000    0.000 contextlib.py:108(__enter__)\n",
      "        2    0.000    0.000    0.000    0.000 contextlib.py:117(__exit__)\n",
      "        2    0.000    0.000    0.000    0.000 contextlib.py:238(helper)\n",
      "        2    0.000    0.000    0.000    0.000 contextlib.py:82(__init__)\n",
      "        2    0.000    0.000    0.000    0.000 hooks.py:103(__call__)\n",
      "        2    0.000    0.000    0.000    0.000 hooks.py:168(pre_run_code_hook)\n",
      "        2    0.000    0.000    0.000    0.000 interactiveshell.py:1278(user_global_ns)\n",
      "        2    0.000    0.000    0.000    0.000 interactiveshell.py:3334(compare)\n",
      "        2    0.000    0.000    0.112    0.056 interactiveshell.py:3396(run_code)\n",
      "       47    0.000    0.000    0.019    0.000 iostream.py:197(schedule)\n",
      "       46    0.000    0.000    0.000    0.000 iostream.py:310(_is_master_process)\n",
      "       46    0.000    0.000    0.001    0.000 iostream.py:323(_schedule_flush)\n",
      "       46    0.001    0.000    0.020    0.000 iostream.py:386(write)\n",
      "       47    0.000    0.000    0.000    0.000 iostream.py:93(_event_pipe)\n",
      "        2    0.000    0.000    0.000    0.000 ipstruct.py:125(__getattr__)\n",
      "       47    0.018    0.000    0.018    0.000 socket.py:432(send)\n",
      "       47    0.000    0.000    0.000    0.000 threading.py:1017(_wait_for_tstate_lock)\n",
      "       47    0.000    0.000    0.000    0.000 threading.py:1071(is_alive)\n",
      "       47    0.000    0.000    0.000    0.000 threading.py:513(is_set)\n",
      "        2    0.000    0.000    0.000    0.000 traitlets.py:533(get)\n",
      "        2    0.000    0.000    0.000    0.000 traitlets.py:564(__get__)\n",
      "        2    0.000    0.000    0.000    0.000 {built-in method builtins.compile}\n",
      "        2    0.000    0.000    0.112    0.056 {built-in method builtins.exec}\n",
      "        4    0.000    0.000    0.000    0.000 {built-in method builtins.getattr}\n",
      "       46    0.000    0.000    0.000    0.000 {built-in method builtins.isinstance}\n",
      "        4    0.000    0.000    0.000    0.000 {built-in method builtins.next}\n",
      "       23    0.000    0.000    0.020    0.001 {built-in method builtins.print}\n",
      "       46    0.000    0.000    0.000    0.000 {built-in method posix.getpid}\n",
      "       47    0.000    0.000    0.000    0.000 {method 'acquire' of '_thread.lock' objects}\n",
      "       47    0.000    0.000    0.000    0.000 {method 'append' of 'collections.deque' objects}\n",
      "        1    0.000    0.000    0.000    0.000 {method 'disable' of '_lsprof.Profiler' objects}\n",
      "\n",
      "\n"
     ]
    }
   ],
   "source": [
    "import cProfile\n",
    "\n",
    "def fib(n):\n",
    "    if n <= 2:\n",
    "        return 1\n",
    "    return fib(n - 1) + fib(n - 2)\n",
    "\n",
    "profiler = cProfile.Profile()\n",
    "profiler.enable()\n",
    "for i in range(1, 24):\n",
    "    print(fib(i))\n",
    "profiler.disable()\n",
    "profiler.print_stats()"
   ]
  },
  {
   "cell_type": "code",
   "execution_count": 27,
   "outputs": [
    {
     "name": "stdout",
     "output_type": "stream",
     "text": [
      "points [[1 2 3]\n",
      " [4 5 4]\n",
      " [5 3 2]\n",
      " [0 2 7]]\n",
      "[[-0.72760688 -0.81649658 -0.53452248]\n",
      " [ 0.72760688  1.63299316  0.        ]\n",
      " [ 1.21267813  0.         -1.06904497]\n",
      " [-1.21267813 -0.81649658  1.60356745]]\n",
      "[[ 0.62733658 -0.9532951 ]\n",
      " [-1.33728209  1.16762534]\n",
      " [-1.3776293  -0.75231117]\n",
      " [ 2.08757481  0.53798093]]\n"
     ]
    }
   ],
   "source": [
    "import numpy as np\n",
    "import matplotlib.pyplot as pplt\n",
    "import sklearn.preprocessing as pp\n",
    "import sklearn.decomposition as dc\n",
    "\n",
    "# у меня есть 4 точки в 3d\n",
    "points = np.array([[1, 2, 3], [4, 5, 4], [5, 3, 2], [0, 2, 7]])\n",
    "\n",
    "print(\"points\", points)\n",
    "\n",
    "scaled_points = pp.StandardScaler().fit_transform(points)\n",
    "print(scaled_points)\n",
    "\n",
    "pca = dc.PCA(n_components=2)\n",
    "rotated_points = pca.fit_transform(scaled_points)\n",
    "\n",
    "print(rotated_points)"
   ],
   "metadata": {
    "collapsed": false,
    "pycharm": {
     "name": "#%%\n"
    }
   }
  },
  {
   "cell_type": "code",
   "execution_count": 31,
   "outputs": [
    {
     "data": {
      "text/plain": "[<matplotlib.lines.Line2D at 0x7fd61c4d4d90>]"
     },
     "execution_count": 31,
     "metadata": {},
     "output_type": "execute_result"
    },
    {
     "data": {
      "text/plain": "<Figure size 432x288 with 1 Axes>",
      "image/png": "[encoded data removed]"
     },
     "metadata": {
      "needs_background": "light"
     },
     "output_type": "display_data"
    }
   ],
   "source": [
    "pplt.plot(rotated_points[:, 0], rotated_points[:, 1], '.r')\n",
    "pplt.plot(rotated_points[:, 1], rotated_points[:, 0], '.g')\n"
   ],
   "metadata": {
    "collapsed": false,
    "pycharm": {
     "name": "#%%\n"
    }
   }
  },
  {
   "cell_type": "code",
   "execution_count": null,
   "outputs": [],
   "source": [],
   "metadata": {
    "collapsed": false,
    "pycharm": {
     "name": "#%%\n"
    }
   }
  }
 ],
 "metadata": {
  "kernelspec": {
   "display_name": "Python 3",
   "language": "python",
   "name": "python3"
  },
  "language_info": {
   "codemirror_mode": {
    "name": "ipython",
    "version": 2
   },
   "file_extension": ".py",
   "mimetype": "text/x-python",
   "name": "python",
   "nbconvert_exporter": "python",
   "pygments_lexer": "ipython2",
   "version": "2.7.6"
  }
 },
 "nbformat": 4,
 "nbformat_minor": 0
}