{
 "cells": [
  {
   "cell_type": "markdown",
   "source": [
    "Данные для обучения возьмем из проекта [opencorpora.org](http://opencorpora.org/?page=downloads)\n",
    "Скачаем размеченный корпус со снятой омонимией без UNKN как `oc.xml`\n",
    "\n",
    "Разберем XML:"
   ],
   "metadata": {
    "collapsed": false,
    "pycharm": {
     "name": "#%% md\n"
    }
   }
  },
  {
   "cell_type": "code",
   "execution_count": 2,
   "outputs": [],
   "source": [
    "from xml.etree import ElementTree as ET\n",
    "\n",
    "with open(\"oc.xml\", mode=\"r\", encoding=\"utf8\") as f:\n",
    "    doc = ET.parse(f)"
   ],
   "metadata": {
    "collapsed": false,
    "pycharm": {
     "name": "#%%\n"
    }
   }
  },
  {
   "cell_type": "code",
   "execution_count": 23,
   "outputs": [],
   "source": [
    "all_sentences = []  # изначально пустой список предложений\n",
    "\n",
    "# необходимо добраться до тегов sentence и достать из них части токены и их части речи\n",
    "for text in doc.getroot():  # .getroot() возвращает тег annotation\n",
    "    # text хранит элемент <text>\n",
    "    # достаём из него список параграфов\n",
    "    paragraphs = text.find('paragraphs')\n",
    "    for paragraph in paragraphs:\n",
    "        for sentence in paragraph:\n",
    "            tokens = sentence.find('tokens')\n",
    "\n",
    "            # новое предложение, полученное из xml\n",
    "            new_sentence = []\n",
    "            all_sentences.append(new_sentence)\n",
    "            for token in tokens:\n",
    "                word = token.get('text')\n",
    "                # part of speech, <g v=\"POS\">\n",
    "                g = token.find('tfr').find('v').find('l').find('g')\n",
    "                pos = g.get('v')\n",
    "                new_sentence.append((word, pos))"
   ],
   "metadata": {
    "collapsed": false,
    "pycharm": {
     "name": "#%%\n"
    }
   }
  },
  {
   "cell_type": "code",
   "execution_count": 24,
   "outputs": [
    {
     "data": {
      "text/plain": "[[('«', 'PNCT'),\n  ('Школа', 'NOUN'),\n  ('злословия', 'NOUN'),\n  ('»', 'PNCT'),\n  ('учит', 'VERB'),\n  ('прикусить', 'INFN'),\n  ('язык', 'NOUN')],\n [('Сохранится', 'VERB'),\n  ('ли', 'PRCL'),\n  ('градус', 'NOUN'),\n  ('дискуссии', 'NOUN'),\n  ('в', 'PREP'),\n  ('новом', 'ADJF'),\n  ('сезоне', 'NOUN'),\n  ('?', 'PNCT')],\n [('Великолепная', 'ADJF'),\n  ('«', 'PNCT'),\n  ('Школа', 'NOUN'),\n  ('злословия', 'NOUN'),\n  ('»', 'PNCT'),\n  ('вернулась', 'VERB'),\n  ('в', 'PREP'),\n  ('эфир', 'NOUN'),\n  ('после', 'PREP'),\n  ('летних', 'ADJF'),\n  ('каникул', 'NOUN'),\n  ('в', 'PREP'),\n  ('новом', 'ADJF'),\n  ('формате', 'NOUN'),\n  ('.', 'PNCT')],\n [('Потом', 'ADVB'),\n  ('проект', 'NOUN'),\n  ('переехал', 'VERB'),\n  ('с', 'PREP'),\n  ('«', 'PNCT'),\n  ('Культуры', 'NOUN'),\n  ('»', 'PNCT'),\n  ('на', 'PREP'),\n  ('НТВ', 'NOUN'),\n  ('.', 'PNCT')],\n [('Это', 'NPRO'),\n  ('помимо', 'PREP'),\n  ('явных', 'ADJF'),\n  ('перемен', 'NOUN'),\n  ('в', 'PREP'),\n  ('виде', 'NOUN'),\n  ('тут', 'ADVB'),\n  ('же', 'PRCL'),\n  ('появившихся', 'PRTF'),\n  ('рекламных', 'ADJF'),\n  ('блоков', 'NOUN'),\n  (',', 'PNCT'),\n  ('отсутствовавших', 'PRTF'),\n  ('на', 'PREP'),\n  ('«', 'PNCT'),\n  ('Культуре', 'NOUN'),\n  ('»', 'PNCT'),\n  (',', 'PNCT'),\n  ('позволило', 'VERB'),\n  (',', 'PNCT'),\n  ('с', 'PREP'),\n  ('одной', 'ADJF'),\n  ('стороны', 'NOUN'),\n  (',', 'PNCT'),\n  ('расширить', 'INFN'),\n  ('круг', 'NOUN'),\n  ('гостей', 'NOUN'),\n  (',', 'PNCT'),\n  ('с', 'PREP'),\n  ('другой', 'ADJF'),\n  ('–', 'PNCT'),\n  ('изменить', 'INFN'),\n  ('тон', 'NOUN'),\n  ('разговора', 'NOUN'),\n  ('.', 'PNCT')],\n [('Народные', 'ADJF'), ('любимцы', 'NOUN')],\n [('Продлится', 'VERB'),\n  ('она', 'NPRO'),\n  ('55', 'NUMB'),\n  ('дней', 'NOUN'),\n  (',', 'PNCT'),\n  ('до', 'PREP'),\n  ('5', 'NUMB'),\n  ('ноября', 'NOUN'),\n  ('.', 'PNCT')],\n [('За', 'PREP'),\n  ('кота', 'NOUN'),\n  ('–', 'PNCT'),\n  ('ответишь', 'VERB'),\n  ('!', 'PNCT')],\n [('Шпаги', 'NOUN'),\n  (',', 'PNCT'),\n  ('деньги', 'NOUN'),\n  (',', 'PNCT'),\n  ('биржа', 'NOUN')],\n [('Звери', 'NOUN'),\n  (',', 'PNCT'),\n  ('деньги', 'NOUN'),\n  (',', 'PNCT'),\n  ('наркота', 'NOUN')]]"
     },
     "execution_count": 24,
     "metadata": {},
     "output_type": "execute_result"
    }
   ],
   "source": [
    "# список предложений\n",
    "# каждое предложение — это список пар (слово, тэг)\n",
    "all_sentences[:10]"
   ],
   "metadata": {
    "collapsed": false,
    "pycharm": {
     "name": "#%%\n"
    }
   }
  },
  {
   "cell_type": "markdown",
   "source": [
    "Необходимо научиться превращать слова в набор признаков:"
   ],
   "metadata": {
    "collapsed": false,
    "pycharm": {
     "name": "#%% md\n"
    }
   }
  },
  {
   "cell_type": "code",
   "execution_count": 26,
   "outputs": [],
   "source": [
    "# получить признаки слова по предложению и номеру слова\n",
    "# признаки — это словарь, где названию признака соответствует значение\n",
    "def get_features(sentence, word_index):\n",
    "    word, pos = sentence[word_index]\n",
    "\n",
    "    # добавьте сами другие признаки, включая признаки для\n",
    "    # предыдущего и следующего слов\n",
    "    features = {\n",
    "        '[-2:]': word[-2:]  # последние две буквы слова\n",
    "    }\n",
    "    if word_index == 0:\n",
    "        features['START'] = True  # признак начала предложения\n",
    "    else:\n",
    "        pass  # признаки для предыдущего слова\n",
    "\n",
    "    return features"
   ],
   "metadata": {
    "collapsed": false,
    "pycharm": {
     "name": "#%%\n"
    }
   }
  },
  {
   "cell_type": "code",
   "execution_count": 27,
   "outputs": [],
   "source": [
    "all_features = [\n",
    "    [get_features(sentence, ind) for ind in range(len(sentence))]\n",
    "    for sentence in all_sentences\n",
    "]"
   ],
   "metadata": {
    "collapsed": false,
    "pycharm": {
     "name": "#%%\n"
    }
   }
  },
  {
   "cell_type": "code",
   "execution_count": 29,
   "outputs": [
    {
     "data": {
      "text/plain": "[[{'[-2:]': '«', 'START': True},\n  {'[-2:]': 'ла'},\n  {'[-2:]': 'ия'},\n  {'[-2:]': '»'},\n  {'[-2:]': 'ит'},\n  {'[-2:]': 'ть'},\n  {'[-2:]': 'ык'}],\n [{'[-2:]': 'ся', 'START': True},\n  {'[-2:]': 'ли'},\n  {'[-2:]': 'ус'},\n  {'[-2:]': 'ии'},\n  {'[-2:]': 'в'},\n  {'[-2:]': 'ом'},\n  {'[-2:]': 'не'},\n  {'[-2:]': '?'}],\n [{'[-2:]': 'ая', 'START': True},\n  {'[-2:]': '«'},\n  {'[-2:]': 'ла'},\n  {'[-2:]': 'ия'},\n  {'[-2:]': '»'},\n  {'[-2:]': 'сь'},\n  {'[-2:]': 'в'},\n  {'[-2:]': 'ир'},\n  {'[-2:]': 'ле'},\n  {'[-2:]': 'их'},\n  {'[-2:]': 'ул'},\n  {'[-2:]': 'в'},\n  {'[-2:]': 'ом'},\n  {'[-2:]': 'те'},\n  {'[-2:]': '.'}]]"
     },
     "execution_count": 29,
     "metadata": {},
     "output_type": "execute_result"
    }
   ],
   "source": [
    "all_features[:3]"
   ],
   "metadata": {
    "collapsed": false,
    "pycharm": {
     "name": "#%%\n"
    }
   }
  },
  {
   "cell_type": "code",
   "execution_count": 31,
   "outputs": [
    {
     "data": {
      "text/plain": "[['PNCT', 'NOUN', 'NOUN', 'PNCT', 'VERB', 'INFN', 'NOUN'],\n ['VERB', 'PRCL', 'NOUN', 'NOUN', 'PREP', 'ADJF', 'NOUN', 'PNCT'],\n ['ADJF',\n  'PNCT',\n  'NOUN',\n  'NOUN',\n  'PNCT',\n  'VERB',\n  'PREP',\n  'NOUN',\n  'PREP',\n  'ADJF',\n  'NOUN',\n  'PREP',\n  'ADJF',\n  'NOUN',\n  'PNCT']]"
     },
     "execution_count": 31,
     "metadata": {},
     "output_type": "execute_result"
    }
   ],
   "source": [
    "all_pos = [\n",
    "    [pos for word, pos in sentence]\n",
    "    for sentence in all_sentences\n",
    "]\n",
    "\n",
    "all_pos[:3]"
   ],
   "metadata": {
    "collapsed": false,
    "pycharm": {
     "name": "#%%\n"
    }
   }
  },
  {
   "cell_type": "code",
   "execution_count": 32,
   "outputs": [
    {
     "name": "stdout",
     "output_type": "stream",
     "text": [
      "CPU times: user 22.8 s, sys: 406 ms, total: 23.2 s\n",
      "Wall time: 25.1 s\n"
     ]
    },
    {
     "ename": "AttributeError",
     "evalue": "'CRF' object has no attribute 'keep_tempfiles'",
     "output_type": "error",
     "traceback": [
      "\u001B[0;31m---------------------------------------------------------------------------\u001B[0m",
      "\u001B[0;31mAttributeError\u001B[0m                            Traceback (most recent call last)",
      "File \u001B[0;32m/usr/local/lib/python3.10/site-packages/IPython/core/formatters.py:973\u001B[0m, in \u001B[0;36mMimeBundleFormatter.__call__\u001B[0;34m(self, obj, include, exclude)\u001B[0m\n\u001B[1;32m    970\u001B[0m     method \u001B[38;5;241m=\u001B[39m get_real_method(obj, \u001B[38;5;28mself\u001B[39m\u001B[38;5;241m.\u001B[39mprint_method)\n\u001B[1;32m    972\u001B[0m     \u001B[38;5;28;01mif\u001B[39;00m method \u001B[38;5;129;01mis\u001B[39;00m \u001B[38;5;129;01mnot\u001B[39;00m \u001B[38;5;28;01mNone\u001B[39;00m:\n\u001B[0;32m--> 973\u001B[0m         \u001B[38;5;28;01mreturn\u001B[39;00m \u001B[43mmethod\u001B[49m\u001B[43m(\u001B[49m\u001B[43minclude\u001B[49m\u001B[38;5;241;43m=\u001B[39;49m\u001B[43minclude\u001B[49m\u001B[43m,\u001B[49m\u001B[43m \u001B[49m\u001B[43mexclude\u001B[49m\u001B[38;5;241;43m=\u001B[39;49m\u001B[43mexclude\u001B[49m\u001B[43m)\u001B[49m\n\u001B[1;32m    974\u001B[0m     \u001B[38;5;28;01mreturn\u001B[39;00m \u001B[38;5;28;01mNone\u001B[39;00m\n\u001B[1;32m    975\u001B[0m \u001B[38;5;28;01melse\u001B[39;00m:\n",
      "File \u001B[0;32m/usr/local/lib64/python3.10/site-packages/sklearn/base.py:629\u001B[0m, in \u001B[0;36mBaseEstimator._repr_mimebundle_\u001B[0;34m(self, **kwargs)\u001B[0m\n\u001B[1;32m    627\u001B[0m \u001B[38;5;28;01mdef\u001B[39;00m \u001B[38;5;21m_repr_mimebundle_\u001B[39m(\u001B[38;5;28mself\u001B[39m, \u001B[38;5;241m*\u001B[39m\u001B[38;5;241m*\u001B[39mkwargs):\n\u001B[1;32m    628\u001B[0m     \u001B[38;5;124;03m\"\"\"Mime bundle used by jupyter kernels to display estimator\"\"\"\u001B[39;00m\n\u001B[0;32m--> 629\u001B[0m     output \u001B[38;5;241m=\u001B[39m {\u001B[38;5;124m\"\u001B[39m\u001B[38;5;124mtext/plain\u001B[39m\u001B[38;5;124m\"\u001B[39m: \u001B[38;5;28;43mrepr\u001B[39;49m\u001B[43m(\u001B[49m\u001B[38;5;28;43mself\u001B[39;49m\u001B[43m)\u001B[49m}\n\u001B[1;32m    630\u001B[0m     \u001B[38;5;28;01mif\u001B[39;00m get_config()[\u001B[38;5;124m\"\u001B[39m\u001B[38;5;124mdisplay\u001B[39m\u001B[38;5;124m\"\u001B[39m] \u001B[38;5;241m==\u001B[39m \u001B[38;5;124m\"\u001B[39m\u001B[38;5;124mdiagram\u001B[39m\u001B[38;5;124m\"\u001B[39m:\n\u001B[1;32m    631\u001B[0m         output[\u001B[38;5;124m\"\u001B[39m\u001B[38;5;124mtext/html\u001B[39m\u001B[38;5;124m\"\u001B[39m] \u001B[38;5;241m=\u001B[39m estimator_html_repr(\u001B[38;5;28mself\u001B[39m)\n",
      "File \u001B[0;32m/usr/local/lib64/python3.10/site-packages/sklearn/base.py:279\u001B[0m, in \u001B[0;36mBaseEstimator.__repr__\u001B[0;34m(self, N_CHAR_MAX)\u001B[0m\n\u001B[1;32m    271\u001B[0m \u001B[38;5;66;03m# use ellipsis for sequences with a lot of elements\u001B[39;00m\n\u001B[1;32m    272\u001B[0m pp \u001B[38;5;241m=\u001B[39m _EstimatorPrettyPrinter(\n\u001B[1;32m    273\u001B[0m     compact\u001B[38;5;241m=\u001B[39m\u001B[38;5;28;01mTrue\u001B[39;00m,\n\u001B[1;32m    274\u001B[0m     indent\u001B[38;5;241m=\u001B[39m\u001B[38;5;241m1\u001B[39m,\n\u001B[1;32m    275\u001B[0m     indent_at_name\u001B[38;5;241m=\u001B[39m\u001B[38;5;28;01mTrue\u001B[39;00m,\n\u001B[1;32m    276\u001B[0m     n_max_elements_to_show\u001B[38;5;241m=\u001B[39mN_MAX_ELEMENTS_TO_SHOW,\n\u001B[1;32m    277\u001B[0m )\n\u001B[0;32m--> 279\u001B[0m repr_ \u001B[38;5;241m=\u001B[39m \u001B[43mpp\u001B[49m\u001B[38;5;241;43m.\u001B[39;49m\u001B[43mpformat\u001B[49m\u001B[43m(\u001B[49m\u001B[38;5;28;43mself\u001B[39;49m\u001B[43m)\u001B[49m\n\u001B[1;32m    281\u001B[0m \u001B[38;5;66;03m# Use bruteforce ellipsis when there are a lot of non-blank characters\u001B[39;00m\n\u001B[1;32m    282\u001B[0m n_nonblank \u001B[38;5;241m=\u001B[39m \u001B[38;5;28mlen\u001B[39m(\u001B[38;5;124m\"\u001B[39m\u001B[38;5;124m\"\u001B[39m\u001B[38;5;241m.\u001B[39mjoin(repr_\u001B[38;5;241m.\u001B[39msplit()))\n",
      "File \u001B[0;32m/usr/lib64/python3.10/pprint.py:157\u001B[0m, in \u001B[0;36mPrettyPrinter.pformat\u001B[0;34m(self, object)\u001B[0m\n\u001B[1;32m    155\u001B[0m \u001B[38;5;28;01mdef\u001B[39;00m \u001B[38;5;21mpformat\u001B[39m(\u001B[38;5;28mself\u001B[39m, \u001B[38;5;28mobject\u001B[39m):\n\u001B[1;32m    156\u001B[0m     sio \u001B[38;5;241m=\u001B[39m _StringIO()\n\u001B[0;32m--> 157\u001B[0m     \u001B[38;5;28;43mself\u001B[39;49m\u001B[38;5;241;43m.\u001B[39;49m\u001B[43m_format\u001B[49m\u001B[43m(\u001B[49m\u001B[38;5;28;43mobject\u001B[39;49m\u001B[43m,\u001B[49m\u001B[43m \u001B[49m\u001B[43msio\u001B[49m\u001B[43m,\u001B[49m\u001B[43m \u001B[49m\u001B[38;5;241;43m0\u001B[39;49m\u001B[43m,\u001B[49m\u001B[43m \u001B[49m\u001B[38;5;241;43m0\u001B[39;49m\u001B[43m,\u001B[49m\u001B[43m \u001B[49m\u001B[43m{\u001B[49m\u001B[43m}\u001B[49m\u001B[43m,\u001B[49m\u001B[43m \u001B[49m\u001B[38;5;241;43m0\u001B[39;49m\u001B[43m)\u001B[49m\n\u001B[1;32m    158\u001B[0m     \u001B[38;5;28;01mreturn\u001B[39;00m sio\u001B[38;5;241m.\u001B[39mgetvalue()\n",
      "File \u001B[0;32m/usr/lib64/python3.10/pprint.py:174\u001B[0m, in \u001B[0;36mPrettyPrinter._format\u001B[0;34m(self, object, stream, indent, allowance, context, level)\u001B[0m\n\u001B[1;32m    172\u001B[0m     \u001B[38;5;28mself\u001B[39m\u001B[38;5;241m.\u001B[39m_readable \u001B[38;5;241m=\u001B[39m \u001B[38;5;28;01mFalse\u001B[39;00m\n\u001B[1;32m    173\u001B[0m     \u001B[38;5;28;01mreturn\u001B[39;00m\n\u001B[0;32m--> 174\u001B[0m rep \u001B[38;5;241m=\u001B[39m \u001B[38;5;28;43mself\u001B[39;49m\u001B[38;5;241;43m.\u001B[39;49m\u001B[43m_repr\u001B[49m\u001B[43m(\u001B[49m\u001B[38;5;28;43mobject\u001B[39;49m\u001B[43m,\u001B[49m\u001B[43m \u001B[49m\u001B[43mcontext\u001B[49m\u001B[43m,\u001B[49m\u001B[43m \u001B[49m\u001B[43mlevel\u001B[49m\u001B[43m)\u001B[49m\n\u001B[1;32m    175\u001B[0m max_width \u001B[38;5;241m=\u001B[39m \u001B[38;5;28mself\u001B[39m\u001B[38;5;241m.\u001B[39m_width \u001B[38;5;241m-\u001B[39m indent \u001B[38;5;241m-\u001B[39m allowance\n\u001B[1;32m    176\u001B[0m \u001B[38;5;28;01mif\u001B[39;00m \u001B[38;5;28mlen\u001B[39m(rep) \u001B[38;5;241m>\u001B[39m max_width:\n",
      "File \u001B[0;32m/usr/lib64/python3.10/pprint.py:454\u001B[0m, in \u001B[0;36mPrettyPrinter._repr\u001B[0;34m(self, object, context, level)\u001B[0m\n\u001B[1;32m    453\u001B[0m \u001B[38;5;28;01mdef\u001B[39;00m \u001B[38;5;21m_repr\u001B[39m(\u001B[38;5;28mself\u001B[39m, \u001B[38;5;28mobject\u001B[39m, context, level):\n\u001B[0;32m--> 454\u001B[0m     \u001B[38;5;28mrepr\u001B[39m, readable, recursive \u001B[38;5;241m=\u001B[39m \u001B[38;5;28;43mself\u001B[39;49m\u001B[38;5;241;43m.\u001B[39;49m\u001B[43mformat\u001B[49m\u001B[43m(\u001B[49m\u001B[38;5;28;43mobject\u001B[39;49m\u001B[43m,\u001B[49m\u001B[43m \u001B[49m\u001B[43mcontext\u001B[49m\u001B[38;5;241;43m.\u001B[39;49m\u001B[43mcopy\u001B[49m\u001B[43m(\u001B[49m\u001B[43m)\u001B[49m\u001B[43m,\u001B[49m\n\u001B[1;32m    455\u001B[0m \u001B[43m                                            \u001B[49m\u001B[38;5;28;43mself\u001B[39;49m\u001B[38;5;241;43m.\u001B[39;49m\u001B[43m_depth\u001B[49m\u001B[43m,\u001B[49m\u001B[43m \u001B[49m\u001B[43mlevel\u001B[49m\u001B[43m)\u001B[49m\n\u001B[1;32m    456\u001B[0m     \u001B[38;5;28;01mif\u001B[39;00m \u001B[38;5;129;01mnot\u001B[39;00m readable:\n\u001B[1;32m    457\u001B[0m         \u001B[38;5;28mself\u001B[39m\u001B[38;5;241m.\u001B[39m_readable \u001B[38;5;241m=\u001B[39m \u001B[38;5;28;01mFalse\u001B[39;00m\n",
      "File \u001B[0;32m/usr/local/lib64/python3.10/site-packages/sklearn/utils/_pprint.py:189\u001B[0m, in \u001B[0;36m_EstimatorPrettyPrinter.format\u001B[0;34m(self, object, context, maxlevels, level)\u001B[0m\n\u001B[1;32m    188\u001B[0m \u001B[38;5;28;01mdef\u001B[39;00m \u001B[38;5;21mformat\u001B[39m(\u001B[38;5;28mself\u001B[39m, \u001B[38;5;28mobject\u001B[39m, context, maxlevels, level):\n\u001B[0;32m--> 189\u001B[0m     \u001B[38;5;28;01mreturn\u001B[39;00m \u001B[43m_safe_repr\u001B[49m\u001B[43m(\u001B[49m\n\u001B[1;32m    190\u001B[0m \u001B[43m        \u001B[49m\u001B[38;5;28;43mobject\u001B[39;49m\u001B[43m,\u001B[49m\u001B[43m \u001B[49m\u001B[43mcontext\u001B[49m\u001B[43m,\u001B[49m\u001B[43m \u001B[49m\u001B[43mmaxlevels\u001B[49m\u001B[43m,\u001B[49m\u001B[43m \u001B[49m\u001B[43mlevel\u001B[49m\u001B[43m,\u001B[49m\u001B[43m \u001B[49m\u001B[43mchanged_only\u001B[49m\u001B[38;5;241;43m=\u001B[39;49m\u001B[38;5;28;43mself\u001B[39;49m\u001B[38;5;241;43m.\u001B[39;49m\u001B[43m_changed_only\u001B[49m\n\u001B[1;32m    191\u001B[0m \u001B[43m    \u001B[49m\u001B[43m)\u001B[49m\n",
      "File \u001B[0;32m/usr/local/lib64/python3.10/site-packages/sklearn/utils/_pprint.py:440\u001B[0m, in \u001B[0;36m_safe_repr\u001B[0;34m(object, context, maxlevels, level, changed_only)\u001B[0m\n\u001B[1;32m    438\u001B[0m recursive \u001B[38;5;241m=\u001B[39m \u001B[38;5;28;01mFalse\u001B[39;00m\n\u001B[1;32m    439\u001B[0m \u001B[38;5;28;01mif\u001B[39;00m changed_only:\n\u001B[0;32m--> 440\u001B[0m     params \u001B[38;5;241m=\u001B[39m \u001B[43m_changed_params\u001B[49m\u001B[43m(\u001B[49m\u001B[38;5;28;43mobject\u001B[39;49m\u001B[43m)\u001B[49m\n\u001B[1;32m    441\u001B[0m \u001B[38;5;28;01melse\u001B[39;00m:\n\u001B[1;32m    442\u001B[0m     params \u001B[38;5;241m=\u001B[39m \u001B[38;5;28mobject\u001B[39m\u001B[38;5;241m.\u001B[39mget_params(deep\u001B[38;5;241m=\u001B[39m\u001B[38;5;28;01mFalse\u001B[39;00m)\n",
      "File \u001B[0;32m/usr/local/lib64/python3.10/site-packages/sklearn/utils/_pprint.py:93\u001B[0m, in \u001B[0;36m_changed_params\u001B[0;34m(estimator)\u001B[0m\n\u001B[1;32m     89\u001B[0m \u001B[38;5;28;01mdef\u001B[39;00m \u001B[38;5;21m_changed_params\u001B[39m(estimator):\n\u001B[1;32m     90\u001B[0m     \u001B[38;5;124;03m\"\"\"Return dict (param_name: value) of parameters that were given to\u001B[39;00m\n\u001B[1;32m     91\u001B[0m \u001B[38;5;124;03m    estimator with non-default values.\"\"\"\u001B[39;00m\n\u001B[0;32m---> 93\u001B[0m     params \u001B[38;5;241m=\u001B[39m \u001B[43mestimator\u001B[49m\u001B[38;5;241;43m.\u001B[39;49m\u001B[43mget_params\u001B[49m\u001B[43m(\u001B[49m\u001B[43mdeep\u001B[49m\u001B[38;5;241;43m=\u001B[39;49m\u001B[38;5;28;43;01mFalse\u001B[39;49;00m\u001B[43m)\u001B[49m\n\u001B[1;32m     94\u001B[0m     init_func \u001B[38;5;241m=\u001B[39m \u001B[38;5;28mgetattr\u001B[39m(estimator\u001B[38;5;241m.\u001B[39m\u001B[38;5;21m__init__\u001B[39m, \u001B[38;5;124m\"\u001B[39m\u001B[38;5;124mdeprecated_original\u001B[39m\u001B[38;5;124m\"\u001B[39m, estimator\u001B[38;5;241m.\u001B[39m\u001B[38;5;21m__init__\u001B[39m)\n\u001B[1;32m     95\u001B[0m     init_params \u001B[38;5;241m=\u001B[39m inspect\u001B[38;5;241m.\u001B[39msignature(init_func)\u001B[38;5;241m.\u001B[39mparameters\n",
      "File \u001B[0;32m/usr/local/lib64/python3.10/site-packages/sklearn/base.py:211\u001B[0m, in \u001B[0;36mBaseEstimator.get_params\u001B[0;34m(self, deep)\u001B[0m\n\u001B[1;32m    209\u001B[0m out \u001B[38;5;241m=\u001B[39m \u001B[38;5;28mdict\u001B[39m()\n\u001B[1;32m    210\u001B[0m \u001B[38;5;28;01mfor\u001B[39;00m key \u001B[38;5;129;01min\u001B[39;00m \u001B[38;5;28mself\u001B[39m\u001B[38;5;241m.\u001B[39m_get_param_names():\n\u001B[0;32m--> 211\u001B[0m     value \u001B[38;5;241m=\u001B[39m \u001B[38;5;28;43mgetattr\u001B[39;49m\u001B[43m(\u001B[49m\u001B[38;5;28;43mself\u001B[39;49m\u001B[43m,\u001B[49m\u001B[43m \u001B[49m\u001B[43mkey\u001B[49m\u001B[43m)\u001B[49m\n\u001B[1;32m    212\u001B[0m     \u001B[38;5;28;01mif\u001B[39;00m deep \u001B[38;5;129;01mand\u001B[39;00m \u001B[38;5;28mhasattr\u001B[39m(value, \u001B[38;5;124m\"\u001B[39m\u001B[38;5;124mget_params\u001B[39m\u001B[38;5;124m\"\u001B[39m):\n\u001B[1;32m    213\u001B[0m         deep_items \u001B[38;5;241m=\u001B[39m value\u001B[38;5;241m.\u001B[39mget_params()\u001B[38;5;241m.\u001B[39mitems()\n",
      "\u001B[0;31mAttributeError\u001B[0m: 'CRF' object has no attribute 'keep_tempfiles'"
     ]
    },
    {
     "ename": "AttributeError",
     "evalue": "'CRF' object has no attribute 'keep_tempfiles'",
     "output_type": "error",
     "traceback": [
      "\u001B[0;31m---------------------------------------------------------------------------\u001B[0m",
      "\u001B[0;31mAttributeError\u001B[0m                            Traceback (most recent call last)",
      "File \u001B[0;32m/usr/local/lib/python3.10/site-packages/IPython/core/formatters.py:707\u001B[0m, in \u001B[0;36mPlainTextFormatter.__call__\u001B[0;34m(self, obj)\u001B[0m\n\u001B[1;32m    700\u001B[0m stream \u001B[38;5;241m=\u001B[39m StringIO()\n\u001B[1;32m    701\u001B[0m printer \u001B[38;5;241m=\u001B[39m pretty\u001B[38;5;241m.\u001B[39mRepresentationPrinter(stream, \u001B[38;5;28mself\u001B[39m\u001B[38;5;241m.\u001B[39mverbose,\n\u001B[1;32m    702\u001B[0m     \u001B[38;5;28mself\u001B[39m\u001B[38;5;241m.\u001B[39mmax_width, \u001B[38;5;28mself\u001B[39m\u001B[38;5;241m.\u001B[39mnewline,\n\u001B[1;32m    703\u001B[0m     max_seq_length\u001B[38;5;241m=\u001B[39m\u001B[38;5;28mself\u001B[39m\u001B[38;5;241m.\u001B[39mmax_seq_length,\n\u001B[1;32m    704\u001B[0m     singleton_pprinters\u001B[38;5;241m=\u001B[39m\u001B[38;5;28mself\u001B[39m\u001B[38;5;241m.\u001B[39msingleton_printers,\n\u001B[1;32m    705\u001B[0m     type_pprinters\u001B[38;5;241m=\u001B[39m\u001B[38;5;28mself\u001B[39m\u001B[38;5;241m.\u001B[39mtype_printers,\n\u001B[1;32m    706\u001B[0m     deferred_pprinters\u001B[38;5;241m=\u001B[39m\u001B[38;5;28mself\u001B[39m\u001B[38;5;241m.\u001B[39mdeferred_printers)\n\u001B[0;32m--> 707\u001B[0m \u001B[43mprinter\u001B[49m\u001B[38;5;241;43m.\u001B[39;49m\u001B[43mpretty\u001B[49m\u001B[43m(\u001B[49m\u001B[43mobj\u001B[49m\u001B[43m)\u001B[49m\n\u001B[1;32m    708\u001B[0m printer\u001B[38;5;241m.\u001B[39mflush()\n\u001B[1;32m    709\u001B[0m \u001B[38;5;28;01mreturn\u001B[39;00m stream\u001B[38;5;241m.\u001B[39mgetvalue()\n",
      "File \u001B[0;32m/usr/local/lib/python3.10/site-packages/IPython/lib/pretty.py:410\u001B[0m, in \u001B[0;36mRepresentationPrinter.pretty\u001B[0;34m(self, obj)\u001B[0m\n\u001B[1;32m    407\u001B[0m                         \u001B[38;5;28;01mreturn\u001B[39;00m meth(obj, \u001B[38;5;28mself\u001B[39m, cycle)\n\u001B[1;32m    408\u001B[0m                 \u001B[38;5;28;01mif\u001B[39;00m \u001B[38;5;28mcls\u001B[39m \u001B[38;5;129;01mis\u001B[39;00m \u001B[38;5;129;01mnot\u001B[39;00m \u001B[38;5;28mobject\u001B[39m \\\n\u001B[1;32m    409\u001B[0m                         \u001B[38;5;129;01mand\u001B[39;00m callable(\u001B[38;5;28mcls\u001B[39m\u001B[38;5;241m.\u001B[39m\u001B[38;5;18m__dict__\u001B[39m\u001B[38;5;241m.\u001B[39mget(\u001B[38;5;124m'\u001B[39m\u001B[38;5;124m__repr__\u001B[39m\u001B[38;5;124m'\u001B[39m)):\n\u001B[0;32m--> 410\u001B[0m                     \u001B[38;5;28;01mreturn\u001B[39;00m \u001B[43m_repr_pprint\u001B[49m\u001B[43m(\u001B[49m\u001B[43mobj\u001B[49m\u001B[43m,\u001B[49m\u001B[43m \u001B[49m\u001B[38;5;28;43mself\u001B[39;49m\u001B[43m,\u001B[49m\u001B[43m \u001B[49m\u001B[43mcycle\u001B[49m\u001B[43m)\u001B[49m\n\u001B[1;32m    412\u001B[0m     \u001B[38;5;28;01mreturn\u001B[39;00m _default_pprint(obj, \u001B[38;5;28mself\u001B[39m, cycle)\n\u001B[1;32m    413\u001B[0m \u001B[38;5;28;01mfinally\u001B[39;00m:\n",
      "File \u001B[0;32m/usr/local/lib/python3.10/site-packages/IPython/lib/pretty.py:778\u001B[0m, in \u001B[0;36m_repr_pprint\u001B[0;34m(obj, p, cycle)\u001B[0m\n\u001B[1;32m    776\u001B[0m \u001B[38;5;124;03m\"\"\"A pprint that just redirects to the normal repr function.\"\"\"\u001B[39;00m\n\u001B[1;32m    777\u001B[0m \u001B[38;5;66;03m# Find newlines and replace them with p.break_()\u001B[39;00m\n\u001B[0;32m--> 778\u001B[0m output \u001B[38;5;241m=\u001B[39m \u001B[38;5;28;43mrepr\u001B[39;49m\u001B[43m(\u001B[49m\u001B[43mobj\u001B[49m\u001B[43m)\u001B[49m\n\u001B[1;32m    779\u001B[0m lines \u001B[38;5;241m=\u001B[39m output\u001B[38;5;241m.\u001B[39msplitlines()\n\u001B[1;32m    780\u001B[0m \u001B[38;5;28;01mwith\u001B[39;00m p\u001B[38;5;241m.\u001B[39mgroup():\n",
      "File \u001B[0;32m/usr/local/lib64/python3.10/site-packages/sklearn/base.py:279\u001B[0m, in \u001B[0;36mBaseEstimator.__repr__\u001B[0;34m(self, N_CHAR_MAX)\u001B[0m\n\u001B[1;32m    271\u001B[0m \u001B[38;5;66;03m# use ellipsis for sequences with a lot of elements\u001B[39;00m\n\u001B[1;32m    272\u001B[0m pp \u001B[38;5;241m=\u001B[39m _EstimatorPrettyPrinter(\n\u001B[1;32m    273\u001B[0m     compact\u001B[38;5;241m=\u001B[39m\u001B[38;5;28;01mTrue\u001B[39;00m,\n\u001B[1;32m    274\u001B[0m     indent\u001B[38;5;241m=\u001B[39m\u001B[38;5;241m1\u001B[39m,\n\u001B[1;32m    275\u001B[0m     indent_at_name\u001B[38;5;241m=\u001B[39m\u001B[38;5;28;01mTrue\u001B[39;00m,\n\u001B[1;32m    276\u001B[0m     n_max_elements_to_show\u001B[38;5;241m=\u001B[39mN_MAX_ELEMENTS_TO_SHOW,\n\u001B[1;32m    277\u001B[0m )\n\u001B[0;32m--> 279\u001B[0m repr_ \u001B[38;5;241m=\u001B[39m \u001B[43mpp\u001B[49m\u001B[38;5;241;43m.\u001B[39;49m\u001B[43mpformat\u001B[49m\u001B[43m(\u001B[49m\u001B[38;5;28;43mself\u001B[39;49m\u001B[43m)\u001B[49m\n\u001B[1;32m    281\u001B[0m \u001B[38;5;66;03m# Use bruteforce ellipsis when there are a lot of non-blank characters\u001B[39;00m\n\u001B[1;32m    282\u001B[0m n_nonblank \u001B[38;5;241m=\u001B[39m \u001B[38;5;28mlen\u001B[39m(\u001B[38;5;124m\"\u001B[39m\u001B[38;5;124m\"\u001B[39m\u001B[38;5;241m.\u001B[39mjoin(repr_\u001B[38;5;241m.\u001B[39msplit()))\n",
      "File \u001B[0;32m/usr/lib64/python3.10/pprint.py:157\u001B[0m, in \u001B[0;36mPrettyPrinter.pformat\u001B[0;34m(self, object)\u001B[0m\n\u001B[1;32m    155\u001B[0m \u001B[38;5;28;01mdef\u001B[39;00m \u001B[38;5;21mpformat\u001B[39m(\u001B[38;5;28mself\u001B[39m, \u001B[38;5;28mobject\u001B[39m):\n\u001B[1;32m    156\u001B[0m     sio \u001B[38;5;241m=\u001B[39m _StringIO()\n\u001B[0;32m--> 157\u001B[0m     \u001B[38;5;28;43mself\u001B[39;49m\u001B[38;5;241;43m.\u001B[39;49m\u001B[43m_format\u001B[49m\u001B[43m(\u001B[49m\u001B[38;5;28;43mobject\u001B[39;49m\u001B[43m,\u001B[49m\u001B[43m \u001B[49m\u001B[43msio\u001B[49m\u001B[43m,\u001B[49m\u001B[43m \u001B[49m\u001B[38;5;241;43m0\u001B[39;49m\u001B[43m,\u001B[49m\u001B[43m \u001B[49m\u001B[38;5;241;43m0\u001B[39;49m\u001B[43m,\u001B[49m\u001B[43m \u001B[49m\u001B[43m{\u001B[49m\u001B[43m}\u001B[49m\u001B[43m,\u001B[49m\u001B[43m \u001B[49m\u001B[38;5;241;43m0\u001B[39;49m\u001B[43m)\u001B[49m\n\u001B[1;32m    158\u001B[0m     \u001B[38;5;28;01mreturn\u001B[39;00m sio\u001B[38;5;241m.\u001B[39mgetvalue()\n",
      "File \u001B[0;32m/usr/lib64/python3.10/pprint.py:174\u001B[0m, in \u001B[0;36mPrettyPrinter._format\u001B[0;34m(self, object, stream, indent, allowance, context, level)\u001B[0m\n\u001B[1;32m    172\u001B[0m     \u001B[38;5;28mself\u001B[39m\u001B[38;5;241m.\u001B[39m_readable \u001B[38;5;241m=\u001B[39m \u001B[38;5;28;01mFalse\u001B[39;00m\n\u001B[1;32m    173\u001B[0m     \u001B[38;5;28;01mreturn\u001B[39;00m\n\u001B[0;32m--> 174\u001B[0m rep \u001B[38;5;241m=\u001B[39m \u001B[38;5;28;43mself\u001B[39;49m\u001B[38;5;241;43m.\u001B[39;49m\u001B[43m_repr\u001B[49m\u001B[43m(\u001B[49m\u001B[38;5;28;43mobject\u001B[39;49m\u001B[43m,\u001B[49m\u001B[43m \u001B[49m\u001B[43mcontext\u001B[49m\u001B[43m,\u001B[49m\u001B[43m \u001B[49m\u001B[43mlevel\u001B[49m\u001B[43m)\u001B[49m\n\u001B[1;32m    175\u001B[0m max_width \u001B[38;5;241m=\u001B[39m \u001B[38;5;28mself\u001B[39m\u001B[38;5;241m.\u001B[39m_width \u001B[38;5;241m-\u001B[39m indent \u001B[38;5;241m-\u001B[39m allowance\n\u001B[1;32m    176\u001B[0m \u001B[38;5;28;01mif\u001B[39;00m \u001B[38;5;28mlen\u001B[39m(rep) \u001B[38;5;241m>\u001B[39m max_width:\n",
      "File \u001B[0;32m/usr/lib64/python3.10/pprint.py:454\u001B[0m, in \u001B[0;36mPrettyPrinter._repr\u001B[0;34m(self, object, context, level)\u001B[0m\n\u001B[1;32m    453\u001B[0m \u001B[38;5;28;01mdef\u001B[39;00m \u001B[38;5;21m_repr\u001B[39m(\u001B[38;5;28mself\u001B[39m, \u001B[38;5;28mobject\u001B[39m, context, level):\n\u001B[0;32m--> 454\u001B[0m     \u001B[38;5;28mrepr\u001B[39m, readable, recursive \u001B[38;5;241m=\u001B[39m \u001B[38;5;28;43mself\u001B[39;49m\u001B[38;5;241;43m.\u001B[39;49m\u001B[43mformat\u001B[49m\u001B[43m(\u001B[49m\u001B[38;5;28;43mobject\u001B[39;49m\u001B[43m,\u001B[49m\u001B[43m \u001B[49m\u001B[43mcontext\u001B[49m\u001B[38;5;241;43m.\u001B[39;49m\u001B[43mcopy\u001B[49m\u001B[43m(\u001B[49m\u001B[43m)\u001B[49m\u001B[43m,\u001B[49m\n\u001B[1;32m    455\u001B[0m \u001B[43m                                            \u001B[49m\u001B[38;5;28;43mself\u001B[39;49m\u001B[38;5;241;43m.\u001B[39;49m\u001B[43m_depth\u001B[49m\u001B[43m,\u001B[49m\u001B[43m \u001B[49m\u001B[43mlevel\u001B[49m\u001B[43m)\u001B[49m\n\u001B[1;32m    456\u001B[0m     \u001B[38;5;28;01mif\u001B[39;00m \u001B[38;5;129;01mnot\u001B[39;00m readable:\n\u001B[1;32m    457\u001B[0m         \u001B[38;5;28mself\u001B[39m\u001B[38;5;241m.\u001B[39m_readable \u001B[38;5;241m=\u001B[39m \u001B[38;5;28;01mFalse\u001B[39;00m\n",
      "File \u001B[0;32m/usr/local/lib64/python3.10/site-packages/sklearn/utils/_pprint.py:189\u001B[0m, in \u001B[0;36m_EstimatorPrettyPrinter.format\u001B[0;34m(self, object, context, maxlevels, level)\u001B[0m\n\u001B[1;32m    188\u001B[0m \u001B[38;5;28;01mdef\u001B[39;00m \u001B[38;5;21mformat\u001B[39m(\u001B[38;5;28mself\u001B[39m, \u001B[38;5;28mobject\u001B[39m, context, maxlevels, level):\n\u001B[0;32m--> 189\u001B[0m     \u001B[38;5;28;01mreturn\u001B[39;00m \u001B[43m_safe_repr\u001B[49m\u001B[43m(\u001B[49m\n\u001B[1;32m    190\u001B[0m \u001B[43m        \u001B[49m\u001B[38;5;28;43mobject\u001B[39;49m\u001B[43m,\u001B[49m\u001B[43m \u001B[49m\u001B[43mcontext\u001B[49m\u001B[43m,\u001B[49m\u001B[43m \u001B[49m\u001B[43mmaxlevels\u001B[49m\u001B[43m,\u001B[49m\u001B[43m \u001B[49m\u001B[43mlevel\u001B[49m\u001B[43m,\u001B[49m\u001B[43m \u001B[49m\u001B[43mchanged_only\u001B[49m\u001B[38;5;241;43m=\u001B[39;49m\u001B[38;5;28;43mself\u001B[39;49m\u001B[38;5;241;43m.\u001B[39;49m\u001B[43m_changed_only\u001B[49m\n\u001B[1;32m    191\u001B[0m \u001B[43m    \u001B[49m\u001B[43m)\u001B[49m\n",
      "File \u001B[0;32m/usr/local/lib64/python3.10/site-packages/sklearn/utils/_pprint.py:440\u001B[0m, in \u001B[0;36m_safe_repr\u001B[0;34m(object, context, maxlevels, level, changed_only)\u001B[0m\n\u001B[1;32m    438\u001B[0m recursive \u001B[38;5;241m=\u001B[39m \u001B[38;5;28;01mFalse\u001B[39;00m\n\u001B[1;32m    439\u001B[0m \u001B[38;5;28;01mif\u001B[39;00m changed_only:\n\u001B[0;32m--> 440\u001B[0m     params \u001B[38;5;241m=\u001B[39m \u001B[43m_changed_params\u001B[49m\u001B[43m(\u001B[49m\u001B[38;5;28;43mobject\u001B[39;49m\u001B[43m)\u001B[49m\n\u001B[1;32m    441\u001B[0m \u001B[38;5;28;01melse\u001B[39;00m:\n\u001B[1;32m    442\u001B[0m     params \u001B[38;5;241m=\u001B[39m \u001B[38;5;28mobject\u001B[39m\u001B[38;5;241m.\u001B[39mget_params(deep\u001B[38;5;241m=\u001B[39m\u001B[38;5;28;01mFalse\u001B[39;00m)\n",
      "File \u001B[0;32m/usr/local/lib64/python3.10/site-packages/sklearn/utils/_pprint.py:93\u001B[0m, in \u001B[0;36m_changed_params\u001B[0;34m(estimator)\u001B[0m\n\u001B[1;32m     89\u001B[0m \u001B[38;5;28;01mdef\u001B[39;00m \u001B[38;5;21m_changed_params\u001B[39m(estimator):\n\u001B[1;32m     90\u001B[0m     \u001B[38;5;124;03m\"\"\"Return dict (param_name: value) of parameters that were given to\u001B[39;00m\n\u001B[1;32m     91\u001B[0m \u001B[38;5;124;03m    estimator with non-default values.\"\"\"\u001B[39;00m\n\u001B[0;32m---> 93\u001B[0m     params \u001B[38;5;241m=\u001B[39m \u001B[43mestimator\u001B[49m\u001B[38;5;241;43m.\u001B[39;49m\u001B[43mget_params\u001B[49m\u001B[43m(\u001B[49m\u001B[43mdeep\u001B[49m\u001B[38;5;241;43m=\u001B[39;49m\u001B[38;5;28;43;01mFalse\u001B[39;49;00m\u001B[43m)\u001B[49m\n\u001B[1;32m     94\u001B[0m     init_func \u001B[38;5;241m=\u001B[39m \u001B[38;5;28mgetattr\u001B[39m(estimator\u001B[38;5;241m.\u001B[39m\u001B[38;5;21m__init__\u001B[39m, \u001B[38;5;124m\"\u001B[39m\u001B[38;5;124mdeprecated_original\u001B[39m\u001B[38;5;124m\"\u001B[39m, estimator\u001B[38;5;241m.\u001B[39m\u001B[38;5;21m__init__\u001B[39m)\n\u001B[1;32m     95\u001B[0m     init_params \u001B[38;5;241m=\u001B[39m inspect\u001B[38;5;241m.\u001B[39msignature(init_func)\u001B[38;5;241m.\u001B[39mparameters\n",
      "File \u001B[0;32m/usr/local/lib64/python3.10/site-packages/sklearn/base.py:211\u001B[0m, in \u001B[0;36mBaseEstimator.get_params\u001B[0;34m(self, deep)\u001B[0m\n\u001B[1;32m    209\u001B[0m out \u001B[38;5;241m=\u001B[39m \u001B[38;5;28mdict\u001B[39m()\n\u001B[1;32m    210\u001B[0m \u001B[38;5;28;01mfor\u001B[39;00m key \u001B[38;5;129;01min\u001B[39;00m \u001B[38;5;28mself\u001B[39m\u001B[38;5;241m.\u001B[39m_get_param_names():\n\u001B[0;32m--> 211\u001B[0m     value \u001B[38;5;241m=\u001B[39m \u001B[38;5;28;43mgetattr\u001B[39;49m\u001B[43m(\u001B[49m\u001B[38;5;28;43mself\u001B[39;49m\u001B[43m,\u001B[49m\u001B[43m \u001B[49m\u001B[43mkey\u001B[49m\u001B[43m)\u001B[49m\n\u001B[1;32m    212\u001B[0m     \u001B[38;5;28;01mif\u001B[39;00m deep \u001B[38;5;129;01mand\u001B[39;00m \u001B[38;5;28mhasattr\u001B[39m(value, \u001B[38;5;124m\"\u001B[39m\u001B[38;5;124mget_params\u001B[39m\u001B[38;5;124m\"\u001B[39m):\n\u001B[1;32m    213\u001B[0m         deep_items \u001B[38;5;241m=\u001B[39m value\u001B[38;5;241m.\u001B[39mget_params()\u001B[38;5;241m.\u001B[39mitems()\n",
      "\u001B[0;31mAttributeError\u001B[0m: 'CRF' object has no attribute 'keep_tempfiles'"
     ]
    },
    {
     "ename": "AttributeError",
     "evalue": "'CRF' object has no attribute 'keep_tempfiles'",
     "output_type": "error",
     "traceback": [
      "\u001B[0;31m---------------------------------------------------------------------------\u001B[0m",
      "\u001B[0;31mAttributeError\u001B[0m                            Traceback (most recent call last)",
      "File \u001B[0;32m/usr/local/lib/python3.10/site-packages/IPython/core/formatters.py:343\u001B[0m, in \u001B[0;36mBaseFormatter.__call__\u001B[0;34m(self, obj)\u001B[0m\n\u001B[1;32m    341\u001B[0m     method \u001B[38;5;241m=\u001B[39m get_real_method(obj, \u001B[38;5;28mself\u001B[39m\u001B[38;5;241m.\u001B[39mprint_method)\n\u001B[1;32m    342\u001B[0m     \u001B[38;5;28;01mif\u001B[39;00m method \u001B[38;5;129;01mis\u001B[39;00m \u001B[38;5;129;01mnot\u001B[39;00m \u001B[38;5;28;01mNone\u001B[39;00m:\n\u001B[0;32m--> 343\u001B[0m         \u001B[38;5;28;01mreturn\u001B[39;00m \u001B[43mmethod\u001B[49m\u001B[43m(\u001B[49m\u001B[43m)\u001B[49m\n\u001B[1;32m    344\u001B[0m     \u001B[38;5;28;01mreturn\u001B[39;00m \u001B[38;5;28;01mNone\u001B[39;00m\n\u001B[1;32m    345\u001B[0m \u001B[38;5;28;01melse\u001B[39;00m:\n",
      "File \u001B[0;32m/usr/local/lib64/python3.10/site-packages/sklearn/base.py:625\u001B[0m, in \u001B[0;36mBaseEstimator._repr_html_inner\u001B[0;34m(self)\u001B[0m\n\u001B[1;32m    620\u001B[0m \u001B[38;5;28;01mdef\u001B[39;00m \u001B[38;5;21m_repr_html_inner\u001B[39m(\u001B[38;5;28mself\u001B[39m):\n\u001B[1;32m    621\u001B[0m     \u001B[38;5;124;03m\"\"\"This function is returned by the @property `_repr_html_` to make\u001B[39;00m\n\u001B[1;32m    622\u001B[0m \u001B[38;5;124;03m    `hasattr(estimator, \"_repr_html_\") return `True` or `False` depending\u001B[39;00m\n\u001B[1;32m    623\u001B[0m \u001B[38;5;124;03m    on `get_config()[\"display\"]`.\u001B[39;00m\n\u001B[1;32m    624\u001B[0m \u001B[38;5;124;03m    \"\"\"\u001B[39;00m\n\u001B[0;32m--> 625\u001B[0m     \u001B[38;5;28;01mreturn\u001B[39;00m \u001B[43mestimator_html_repr\u001B[49m\u001B[43m(\u001B[49m\u001B[38;5;28;43mself\u001B[39;49m\u001B[43m)\u001B[49m\n",
      "File \u001B[0;32m/usr/local/lib64/python3.10/site-packages/sklearn/utils/_estimator_html_repr.py:385\u001B[0m, in \u001B[0;36mestimator_html_repr\u001B[0;34m(estimator)\u001B[0m\n\u001B[1;32m    383\u001B[0m style_template \u001B[38;5;241m=\u001B[39m Template(_STYLE)\n\u001B[1;32m    384\u001B[0m style_with_id \u001B[38;5;241m=\u001B[39m style_template\u001B[38;5;241m.\u001B[39msubstitute(\u001B[38;5;28mid\u001B[39m\u001B[38;5;241m=\u001B[39mcontainer_id)\n\u001B[0;32m--> 385\u001B[0m estimator_str \u001B[38;5;241m=\u001B[39m \u001B[38;5;28;43mstr\u001B[39;49m\u001B[43m(\u001B[49m\u001B[43mestimator\u001B[49m\u001B[43m)\u001B[49m\n\u001B[1;32m    387\u001B[0m \u001B[38;5;66;03m# The fallback message is shown by default and loading the CSS sets\u001B[39;00m\n\u001B[1;32m    388\u001B[0m \u001B[38;5;66;03m# div.sk-text-repr-fallback to display: none to hide the fallback message.\u001B[39;00m\n\u001B[1;32m    389\u001B[0m \u001B[38;5;66;03m#\u001B[39;00m\n\u001B[0;32m   (...)\u001B[0m\n\u001B[1;32m    394\u001B[0m \u001B[38;5;66;03m# The reverse logic applies to HTML repr div.sk-container.\u001B[39;00m\n\u001B[1;32m    395\u001B[0m \u001B[38;5;66;03m# div.sk-container is hidden by default and the loading the CSS displays it.\u001B[39;00m\n\u001B[1;32m    396\u001B[0m fallback_msg \u001B[38;5;241m=\u001B[39m (\n\u001B[1;32m    397\u001B[0m     \u001B[38;5;124m\"\u001B[39m\u001B[38;5;124mIn a Jupyter environment, please rerun this cell to show the HTML\u001B[39m\u001B[38;5;124m\"\u001B[39m\n\u001B[1;32m    398\u001B[0m     \u001B[38;5;124m\"\u001B[39m\u001B[38;5;124m representation or trust the notebook. <br />On GitHub, the\u001B[39m\u001B[38;5;124m\"\u001B[39m\n\u001B[1;32m    399\u001B[0m     \u001B[38;5;124m\"\u001B[39m\u001B[38;5;124m HTML representation is unable to render, please try loading this page\u001B[39m\u001B[38;5;124m\"\u001B[39m\n\u001B[1;32m    400\u001B[0m     \u001B[38;5;124m\"\u001B[39m\u001B[38;5;124m with nbviewer.org.\u001B[39m\u001B[38;5;124m\"\u001B[39m\n\u001B[1;32m    401\u001B[0m )\n",
      "File \u001B[0;32m/usr/local/lib64/python3.10/site-packages/sklearn/base.py:279\u001B[0m, in \u001B[0;36mBaseEstimator.__repr__\u001B[0;34m(self, N_CHAR_MAX)\u001B[0m\n\u001B[1;32m    271\u001B[0m \u001B[38;5;66;03m# use ellipsis for sequences with a lot of elements\u001B[39;00m\n\u001B[1;32m    272\u001B[0m pp \u001B[38;5;241m=\u001B[39m _EstimatorPrettyPrinter(\n\u001B[1;32m    273\u001B[0m     compact\u001B[38;5;241m=\u001B[39m\u001B[38;5;28;01mTrue\u001B[39;00m,\n\u001B[1;32m    274\u001B[0m     indent\u001B[38;5;241m=\u001B[39m\u001B[38;5;241m1\u001B[39m,\n\u001B[1;32m    275\u001B[0m     indent_at_name\u001B[38;5;241m=\u001B[39m\u001B[38;5;28;01mTrue\u001B[39;00m,\n\u001B[1;32m    276\u001B[0m     n_max_elements_to_show\u001B[38;5;241m=\u001B[39mN_MAX_ELEMENTS_TO_SHOW,\n\u001B[1;32m    277\u001B[0m )\n\u001B[0;32m--> 279\u001B[0m repr_ \u001B[38;5;241m=\u001B[39m \u001B[43mpp\u001B[49m\u001B[38;5;241;43m.\u001B[39;49m\u001B[43mpformat\u001B[49m\u001B[43m(\u001B[49m\u001B[38;5;28;43mself\u001B[39;49m\u001B[43m)\u001B[49m\n\u001B[1;32m    281\u001B[0m \u001B[38;5;66;03m# Use bruteforce ellipsis when there are a lot of non-blank characters\u001B[39;00m\n\u001B[1;32m    282\u001B[0m n_nonblank \u001B[38;5;241m=\u001B[39m \u001B[38;5;28mlen\u001B[39m(\u001B[38;5;124m\"\u001B[39m\u001B[38;5;124m\"\u001B[39m\u001B[38;5;241m.\u001B[39mjoin(repr_\u001B[38;5;241m.\u001B[39msplit()))\n",
      "File \u001B[0;32m/usr/lib64/python3.10/pprint.py:157\u001B[0m, in \u001B[0;36mPrettyPrinter.pformat\u001B[0;34m(self, object)\u001B[0m\n\u001B[1;32m    155\u001B[0m \u001B[38;5;28;01mdef\u001B[39;00m \u001B[38;5;21mpformat\u001B[39m(\u001B[38;5;28mself\u001B[39m, \u001B[38;5;28mobject\u001B[39m):\n\u001B[1;32m    156\u001B[0m     sio \u001B[38;5;241m=\u001B[39m _StringIO()\n\u001B[0;32m--> 157\u001B[0m     \u001B[38;5;28;43mself\u001B[39;49m\u001B[38;5;241;43m.\u001B[39;49m\u001B[43m_format\u001B[49m\u001B[43m(\u001B[49m\u001B[38;5;28;43mobject\u001B[39;49m\u001B[43m,\u001B[49m\u001B[43m \u001B[49m\u001B[43msio\u001B[49m\u001B[43m,\u001B[49m\u001B[43m \u001B[49m\u001B[38;5;241;43m0\u001B[39;49m\u001B[43m,\u001B[49m\u001B[43m \u001B[49m\u001B[38;5;241;43m0\u001B[39;49m\u001B[43m,\u001B[49m\u001B[43m \u001B[49m\u001B[43m{\u001B[49m\u001B[43m}\u001B[49m\u001B[43m,\u001B[49m\u001B[43m \u001B[49m\u001B[38;5;241;43m0\u001B[39;49m\u001B[43m)\u001B[49m\n\u001B[1;32m    158\u001B[0m     \u001B[38;5;28;01mreturn\u001B[39;00m sio\u001B[38;5;241m.\u001B[39mgetvalue()\n",
      "File \u001B[0;32m/usr/lib64/python3.10/pprint.py:174\u001B[0m, in \u001B[0;36mPrettyPrinter._format\u001B[0;34m(self, object, stream, indent, allowance, context, level)\u001B[0m\n\u001B[1;32m    172\u001B[0m     \u001B[38;5;28mself\u001B[39m\u001B[38;5;241m.\u001B[39m_readable \u001B[38;5;241m=\u001B[39m \u001B[38;5;28;01mFalse\u001B[39;00m\n\u001B[1;32m    173\u001B[0m     \u001B[38;5;28;01mreturn\u001B[39;00m\n\u001B[0;32m--> 174\u001B[0m rep \u001B[38;5;241m=\u001B[39m \u001B[38;5;28;43mself\u001B[39;49m\u001B[38;5;241;43m.\u001B[39;49m\u001B[43m_repr\u001B[49m\u001B[43m(\u001B[49m\u001B[38;5;28;43mobject\u001B[39;49m\u001B[43m,\u001B[49m\u001B[43m \u001B[49m\u001B[43mcontext\u001B[49m\u001B[43m,\u001B[49m\u001B[43m \u001B[49m\u001B[43mlevel\u001B[49m\u001B[43m)\u001B[49m\n\u001B[1;32m    175\u001B[0m max_width \u001B[38;5;241m=\u001B[39m \u001B[38;5;28mself\u001B[39m\u001B[38;5;241m.\u001B[39m_width \u001B[38;5;241m-\u001B[39m indent \u001B[38;5;241m-\u001B[39m allowance\n\u001B[1;32m    176\u001B[0m \u001B[38;5;28;01mif\u001B[39;00m \u001B[38;5;28mlen\u001B[39m(rep) \u001B[38;5;241m>\u001B[39m max_width:\n",
      "File \u001B[0;32m/usr/lib64/python3.10/pprint.py:454\u001B[0m, in \u001B[0;36mPrettyPrinter._repr\u001B[0;34m(self, object, context, level)\u001B[0m\n\u001B[1;32m    453\u001B[0m \u001B[38;5;28;01mdef\u001B[39;00m \u001B[38;5;21m_repr\u001B[39m(\u001B[38;5;28mself\u001B[39m, \u001B[38;5;28mobject\u001B[39m, context, level):\n\u001B[0;32m--> 454\u001B[0m     \u001B[38;5;28mrepr\u001B[39m, readable, recursive \u001B[38;5;241m=\u001B[39m \u001B[38;5;28;43mself\u001B[39;49m\u001B[38;5;241;43m.\u001B[39;49m\u001B[43mformat\u001B[49m\u001B[43m(\u001B[49m\u001B[38;5;28;43mobject\u001B[39;49m\u001B[43m,\u001B[49m\u001B[43m \u001B[49m\u001B[43mcontext\u001B[49m\u001B[38;5;241;43m.\u001B[39;49m\u001B[43mcopy\u001B[49m\u001B[43m(\u001B[49m\u001B[43m)\u001B[49m\u001B[43m,\u001B[49m\n\u001B[1;32m    455\u001B[0m \u001B[43m                                            \u001B[49m\u001B[38;5;28;43mself\u001B[39;49m\u001B[38;5;241;43m.\u001B[39;49m\u001B[43m_depth\u001B[49m\u001B[43m,\u001B[49m\u001B[43m \u001B[49m\u001B[43mlevel\u001B[49m\u001B[43m)\u001B[49m\n\u001B[1;32m    456\u001B[0m     \u001B[38;5;28;01mif\u001B[39;00m \u001B[38;5;129;01mnot\u001B[39;00m readable:\n\u001B[1;32m    457\u001B[0m         \u001B[38;5;28mself\u001B[39m\u001B[38;5;241m.\u001B[39m_readable \u001B[38;5;241m=\u001B[39m \u001B[38;5;28;01mFalse\u001B[39;00m\n",
      "File \u001B[0;32m/usr/local/lib64/python3.10/site-packages/sklearn/utils/_pprint.py:189\u001B[0m, in \u001B[0;36m_EstimatorPrettyPrinter.format\u001B[0;34m(self, object, context, maxlevels, level)\u001B[0m\n\u001B[1;32m    188\u001B[0m \u001B[38;5;28;01mdef\u001B[39;00m \u001B[38;5;21mformat\u001B[39m(\u001B[38;5;28mself\u001B[39m, \u001B[38;5;28mobject\u001B[39m, context, maxlevels, level):\n\u001B[0;32m--> 189\u001B[0m     \u001B[38;5;28;01mreturn\u001B[39;00m \u001B[43m_safe_repr\u001B[49m\u001B[43m(\u001B[49m\n\u001B[1;32m    190\u001B[0m \u001B[43m        \u001B[49m\u001B[38;5;28;43mobject\u001B[39;49m\u001B[43m,\u001B[49m\u001B[43m \u001B[49m\u001B[43mcontext\u001B[49m\u001B[43m,\u001B[49m\u001B[43m \u001B[49m\u001B[43mmaxlevels\u001B[49m\u001B[43m,\u001B[49m\u001B[43m \u001B[49m\u001B[43mlevel\u001B[49m\u001B[43m,\u001B[49m\u001B[43m \u001B[49m\u001B[43mchanged_only\u001B[49m\u001B[38;5;241;43m=\u001B[39;49m\u001B[38;5;28;43mself\u001B[39;49m\u001B[38;5;241;43m.\u001B[39;49m\u001B[43m_changed_only\u001B[49m\n\u001B[1;32m    191\u001B[0m \u001B[43m    \u001B[49m\u001B[43m)\u001B[49m\n",
      "File \u001B[0;32m/usr/local/lib64/python3.10/site-packages/sklearn/utils/_pprint.py:440\u001B[0m, in \u001B[0;36m_safe_repr\u001B[0;34m(object, context, maxlevels, level, changed_only)\u001B[0m\n\u001B[1;32m    438\u001B[0m recursive \u001B[38;5;241m=\u001B[39m \u001B[38;5;28;01mFalse\u001B[39;00m\n\u001B[1;32m    439\u001B[0m \u001B[38;5;28;01mif\u001B[39;00m changed_only:\n\u001B[0;32m--> 440\u001B[0m     params \u001B[38;5;241m=\u001B[39m \u001B[43m_changed_params\u001B[49m\u001B[43m(\u001B[49m\u001B[38;5;28;43mobject\u001B[39;49m\u001B[43m)\u001B[49m\n\u001B[1;32m    441\u001B[0m \u001B[38;5;28;01melse\u001B[39;00m:\n\u001B[1;32m    442\u001B[0m     params \u001B[38;5;241m=\u001B[39m \u001B[38;5;28mobject\u001B[39m\u001B[38;5;241m.\u001B[39mget_params(deep\u001B[38;5;241m=\u001B[39m\u001B[38;5;28;01mFalse\u001B[39;00m)\n",
      "File \u001B[0;32m/usr/local/lib64/python3.10/site-packages/sklearn/utils/_pprint.py:93\u001B[0m, in \u001B[0;36m_changed_params\u001B[0;34m(estimator)\u001B[0m\n\u001B[1;32m     89\u001B[0m \u001B[38;5;28;01mdef\u001B[39;00m \u001B[38;5;21m_changed_params\u001B[39m(estimator):\n\u001B[1;32m     90\u001B[0m     \u001B[38;5;124;03m\"\"\"Return dict (param_name: value) of parameters that were given to\u001B[39;00m\n\u001B[1;32m     91\u001B[0m \u001B[38;5;124;03m    estimator with non-default values.\"\"\"\u001B[39;00m\n\u001B[0;32m---> 93\u001B[0m     params \u001B[38;5;241m=\u001B[39m \u001B[43mestimator\u001B[49m\u001B[38;5;241;43m.\u001B[39;49m\u001B[43mget_params\u001B[49m\u001B[43m(\u001B[49m\u001B[43mdeep\u001B[49m\u001B[38;5;241;43m=\u001B[39;49m\u001B[38;5;28;43;01mFalse\u001B[39;49;00m\u001B[43m)\u001B[49m\n\u001B[1;32m     94\u001B[0m     init_func \u001B[38;5;241m=\u001B[39m \u001B[38;5;28mgetattr\u001B[39m(estimator\u001B[38;5;241m.\u001B[39m\u001B[38;5;21m__init__\u001B[39m, \u001B[38;5;124m\"\u001B[39m\u001B[38;5;124mdeprecated_original\u001B[39m\u001B[38;5;124m\"\u001B[39m, estimator\u001B[38;5;241m.\u001B[39m\u001B[38;5;21m__init__\u001B[39m)\n\u001B[1;32m     95\u001B[0m     init_params \u001B[38;5;241m=\u001B[39m inspect\u001B[38;5;241m.\u001B[39msignature(init_func)\u001B[38;5;241m.\u001B[39mparameters\n",
      "File \u001B[0;32m/usr/local/lib64/python3.10/site-packages/sklearn/base.py:211\u001B[0m, in \u001B[0;36mBaseEstimator.get_params\u001B[0;34m(self, deep)\u001B[0m\n\u001B[1;32m    209\u001B[0m out \u001B[38;5;241m=\u001B[39m \u001B[38;5;28mdict\u001B[39m()\n\u001B[1;32m    210\u001B[0m \u001B[38;5;28;01mfor\u001B[39;00m key \u001B[38;5;129;01min\u001B[39;00m \u001B[38;5;28mself\u001B[39m\u001B[38;5;241m.\u001B[39m_get_param_names():\n\u001B[0;32m--> 211\u001B[0m     value \u001B[38;5;241m=\u001B[39m \u001B[38;5;28;43mgetattr\u001B[39;49m\u001B[43m(\u001B[49m\u001B[38;5;28;43mself\u001B[39;49m\u001B[43m,\u001B[49m\u001B[43m \u001B[49m\u001B[43mkey\u001B[49m\u001B[43m)\u001B[49m\n\u001B[1;32m    212\u001B[0m     \u001B[38;5;28;01mif\u001B[39;00m deep \u001B[38;5;129;01mand\u001B[39;00m \u001B[38;5;28mhasattr\u001B[39m(value, \u001B[38;5;124m\"\u001B[39m\u001B[38;5;124mget_params\u001B[39m\u001B[38;5;124m\"\u001B[39m):\n\u001B[1;32m    213\u001B[0m         deep_items \u001B[38;5;241m=\u001B[39m value\u001B[38;5;241m.\u001B[39mget_params()\u001B[38;5;241m.\u001B[39mitems()\n",
      "\u001B[0;31mAttributeError\u001B[0m: 'CRF' object has no attribute 'keep_tempfiles'"
     ]
    }
   ],
   "source": [
    "%%time\n",
    "\n",
    "import sklearn_crfsuite\n",
    "\n",
    "crf = sklearn_crfsuite.CRF(\n",
    "    algorithm='lbfgs',\n",
    "    c1=0.1,  # штраф за переобучение\n",
    "    c2=0.1,  #\n",
    "    max_iterations=100,\n",
    "    all_possible_transitions=True\n",
    ")\n",
    "# для обучения передаём признаки и соответствующие им части речи\n",
    "crf.fit(all_features, all_pos)\n",
    "# AttributeError — не обращаем внимание, это баг"
   ],
   "metadata": {
    "collapsed": false,
    "pycharm": {
     "name": "#%%\n"
    }
   }
  },
  {
   "cell_type": "markdown",
   "source": [
    "# Теперь модель обучена!"
   ],
   "metadata": {
    "collapsed": false,
    "pycharm": {
     "name": "#%% md\n"
    }
   }
  },
  {
   "cell_type": "code",
   "execution_count": null,
   "outputs": [],
   "source": [],
   "metadata": {
    "collapsed": false,
    "pycharm": {
     "name": "#%%\n"
    }
   }
  },
  {
   "cell_type": "code",
   "execution_count": 35,
   "outputs": [
    {
     "data": {
      "text/plain": "[['NPRO', 'VERB', 'PREP', 'NOUN']]"
     },
     "execution_count": 35,
     "metadata": {},
     "output_type": "execute_result"
    }
   ],
   "source": [
    "test_sentence = [(\"Он\", \"?\"), (\"идёт\", \"?\"), (\"в\", \"?\"), (\"школу\", \"?\")]\n",
    "# создаём признаки так же, как в прошлый раз\n",
    "test_features = [\n",
    "    [get_features(test_sentence, ind) for ind in range(len(test_sentence))]\n",
    "]\n",
    "\n",
    "crf.predict(test_features)"
   ],
   "metadata": {
    "collapsed": false,
    "pycharm": {
     "name": "#%%\n"
    }
   }
  },
  {
   "cell_type": "markdown",
   "source": [
    "# Оценка качества, смотрим, что именно есть внутри модели"
   ],
   "metadata": {
    "collapsed": false,
    "pycharm": {
     "name": "#%% md\n"
    }
   }
  },
  {
   "cell_type": "code",
   "execution_count": 36,
   "outputs": [
    {
     "data": {
      "text/plain": "{('PNCT', 'PNCT'): 0.719936,\n ('PNCT', 'NOUN'): 3.603717,\n ('PNCT', 'VERB'): -0.04198,\n ('PNCT', 'INFN'): -2.018005,\n ('PNCT', 'PRCL'): -0.134438,\n ('PNCT', 'PREP'): -1.31654,\n ('PNCT', 'ADJF'): -1.138188,\n ('PNCT', 'ADVB'): 0.176762,\n ('PNCT', 'NPRO'): -0.612854,\n ('PNCT', 'PRTF'): 0.21973,\n ('PNCT', 'NUMB'): 0.494393,\n ('PNCT', 'PRED'): -1.267021,\n ('PNCT', 'COMP'): -1.346302,\n ('PNCT', 'CONJ'): 0.784601,\n ('PNCT', 'ADJS'): -0.833855,\n ('PNCT', 'GRND'): 0.701764,\n ('PNCT', 'LATN'): 2.336008,\n ('PNCT', 'PRTS'): -2.420539,\n ('PNCT', 'INTJ'): 0.332785,\n ('PNCT', 'SYMB'): -0.180698,\n ('PNCT', 'GREK'): -0.974961,\n ('PNCT', 'NUMR'): -1.771377,\n ('PNCT', 'ROMN'): -0.627618,\n ('PNCT', 'TIME'): -0.226183,\n ('PNCT', 'DATE'): -0.725408,\n ('PNCT', 'HANI'): 1.031947,\n ('NOUN', 'PNCT'): 0.839615,\n ('NOUN', 'NOUN'): 3.448366,\n ('NOUN', 'VERB'): -0.312437,\n ('NOUN', 'INFN'): -2.265759,\n ('NOUN', 'PRCL'): -1.138278,\n ('NOUN', 'PREP'): -0.973305,\n ('NOUN', 'ADJF'): -1.510243,\n ('NOUN', 'ADVB'): -0.706543,\n ('NOUN', 'NPRO'): -1.986006,\n ('NOUN', 'PRTF'): -1.827486,\n ('NOUN', 'NUMB'): -0.07817,\n ('NOUN', 'PRED'): -1.230535,\n ('NOUN', 'COMP'): -2.292832,\n ('NOUN', 'CONJ'): -1.680843,\n ('NOUN', 'ADJS'): -0.929158,\n ('NOUN', 'GRND'): -3.25782,\n ('NOUN', 'LATN'): 1.527945,\n ('NOUN', 'PRTS'): -1.720737,\n ('NOUN', 'INTJ'): -4.573773,\n ('NOUN', 'SYMB'): -1.293639,\n ('NOUN', 'GREK'): -1.241932,\n ('NOUN', 'NUMR'): -1.575425,\n ('NOUN', 'ROMN'): 0.084973,\n ('NOUN', 'TIME'): -1.918327,\n ('NOUN', 'DATE'): -2.254851,\n ('NOUN', 'HANI'): -3.164589,\n ('VERB', 'PNCT'): 2.650107,\n ('VERB', 'NOUN'): 5.903229,\n ('VERB', 'VERB'): -3.42158,\n ('VERB', 'INFN'): 2.348492,\n ('VERB', 'PRCL'): 1.785159,\n ('VERB', 'PREP'): 1.643826,\n ('VERB', 'ADJF'): 1.089831,\n ('VERB', 'ADVB'): 2.557948,\n ('VERB', 'NPRO'): 2.104788,\n ('VERB', 'PRTF'): 0.27596,\n ('VERB', 'NUMB'): 2.154988,\n ('VERB', 'PRED'): -2.410824,\n ('VERB', 'COMP'): 1.382177,\n ('VERB', 'CONJ'): 0.073075,\n ('VERB', 'ADJS'): 1.704974,\n ('VERB', 'GRND'): -1.142737,\n ('VERB', 'LATN'): 2.966434,\n ('VERB', 'PRTS'): 2.231657,\n ('VERB', 'INTJ'): -1.960712,\n ('VERB', 'SYMB'): -0.585019,\n ('VERB', 'GREK'): 0.625245,\n ('VERB', 'NUMR'): 1.039117,\n ('VERB', 'ROMN'): 0.15624,\n ('VERB', 'TIME'): -0.375456,\n ('VERB', 'DATE'): -0.190405,\n ('VERB', 'HANI'): -0.895256,\n ('INFN', 'PNCT'): 1.632722,\n ('INFN', 'NOUN'): 4.471478,\n ('INFN', 'VERB'): -1.31353,\n ('INFN', 'INFN'): -1.956807,\n ('INFN', 'PRCL'): 0.088705,\n ('INFN', 'PREP'): 0.84228,\n ('INFN', 'ADJF'): -0.057073,\n ('INFN', 'ADVB'): 0.928318,\n ('INFN', 'NPRO'): 0.089632,\n ('INFN', 'PRTF'): -0.393659,\n ('INFN', 'NUMB'): 0.001606,\n ('INFN', 'PRED'): 0.193547,\n ('INFN', 'COMP'): -0.39852,\n ('INFN', 'CONJ'): -0.580475,\n ('INFN', 'ADJS'): 0.312052,\n ('INFN', 'GRND'): -1.086822,\n ('INFN', 'LATN'): 1.541514,\n ('INFN', 'PRTS'): -0.341919,\n ('INFN', 'INTJ'): -1.783426,\n ('INFN', 'SYMB'): -0.315075,\n ('INFN', 'GREK'): -0.303657,\n ('INFN', 'NUMR'): -0.028056,\n ('INFN', 'ROMN'): -1.762066,\n ('INFN', 'TIME'): -0.315798,\n ('INFN', 'DATE'): -0.131223,\n ('INFN', 'HANI'): -0.747478,\n ('PRCL', 'PNCT'): 1.151852,\n ('PRCL', 'NOUN'): 3.679292,\n ('PRCL', 'VERB'): 2.312025,\n ('PRCL', 'INFN'): 0.638917,\n ('PRCL', 'PRCL'): 0.987126,\n ('PRCL', 'PREP'): -0.127666,\n ('PRCL', 'ADJF'): -0.114317,\n ('PRCL', 'ADVB'): 1.699615,\n ('PRCL', 'NPRO'): 0.999476,\n ('PRCL', 'PRTF'): 1.202046,\n ('PRCL', 'NUMB'): 0.001059,\n ('PRCL', 'PRED'): 0.810715,\n ('PRCL', 'COMP'): 0.89833,\n ('PRCL', 'CONJ'): -1.809507,\n ('PRCL', 'ADJS'): 1.777394,\n ('PRCL', 'GRND'): 1.773136,\n ('PRCL', 'LATN'): 1.125538,\n ('PRCL', 'PRTS'): 0.792669,\n ('PRCL', 'INTJ'): -1.831419,\n ('PRCL', 'SYMB'): -0.599209,\n ('PRCL', 'GREK'): -0.303233,\n ('PRCL', 'NUMR'): 0.479009,\n ('PRCL', 'ROMN'): -0.540857,\n ('PRCL', 'TIME'): -0.154231,\n ('PRCL', 'DATE'): -0.013744,\n ('PRCL', 'HANI'): -0.576423,\n ('PREP', 'PNCT'): 0.503741,\n ('PREP', 'NOUN'): 7.486701,\n ('PREP', 'VERB'): -3.812112,\n ('PREP', 'INFN'): -2.966336,\n ('PREP', 'PRCL'): -2.684823,\n ('PREP', 'PREP'): -1.879604,\n ('PREP', 'ADJF'): 2.955474,\n ('PREP', 'ADVB'): 0.458086,\n ('PREP', 'NPRO'): 3.110404,\n ('PREP', 'PRTF'): 1.654018,\n ('PREP', 'NUMB'): 3.629468,\n ('PREP', 'PRED'): -2.249837,\n ('PREP', 'COMP'): -2.744627,\n ('PREP', 'CONJ'): -3.25071,\n ('PREP', 'ADJS'): -1.54295,\n ('PREP', 'GRND'): -1.083805,\n ('PREP', 'LATN'): 4.529724,\n ('PREP', 'PRTS'): -2.615462,\n ('PREP', 'INTJ'): -1.512865,\n ('PREP', 'SYMB'): 1.86351,\n ('PREP', 'GREK'): -0.388303,\n ('PREP', 'NUMR'): 2.826721,\n ('PREP', 'ROMN'): 2.56633,\n ('PREP', 'TIME'): 2.753688,\n ('PREP', 'HANI'): -0.369153,\n ('ADJF', 'PNCT'): 2.014401,\n ('ADJF', 'NOUN'): 7.390414,\n ('ADJF', 'VERB'): 1.059506,\n ('ADJF', 'INFN'): -1.911233,\n ('ADJF', 'PRCL'): 0.807474,\n ('ADJF', 'PREP'): 0.271974,\n ('ADJF', 'ADJF'): 1.446998,\n ('ADJF', 'ADVB'): 0.118286,\n ('ADJF', 'NPRO'): 0.267891,\n ('ADJF', 'PRTF'): 0.942353,\n ('ADJF', 'NUMB'): 0.033355,\n ('ADJF', 'PRED'): 0.000677,\n ('ADJF', 'COMP'): -0.707512,\n ('ADJF', 'CONJ'): 0.533194,\n ('ADJF', 'ADJS'): -0.005242,\n ('ADJF', 'GRND'): -0.451357,\n ('ADJF', 'LATN'): 2.376994,\n ('ADJF', 'PRTS'): 0.213531,\n ('ADJF', 'INTJ'): -1.686149,\n ('ADJF', 'SYMB'): 0.860869,\n ('ADJF', 'GREK'): -0.156878,\n ('ADJF', 'NUMR'): 0.516296,\n ('ADJF', 'ROMN'): -0.568301,\n ('ADJF', 'TIME'): -0.191928,\n ('ADJF', 'HANI'): -0.468534,\n ('ADVB', 'PNCT'): 2.119788,\n ('ADVB', 'NOUN'): 4.336339,\n ('ADVB', 'VERB'): 2.301204,\n ('ADVB', 'INFN'): 0.818983,\n ('ADVB', 'PRCL'): 1.95777,\n ('ADVB', 'PREP'): 0.676216,\n ('ADVB', 'ADJF'): 0.829272,\n ('ADVB', 'ADVB'): 1.998472,\n ('ADVB', 'NPRO'): 1.533602,\n ('ADVB', 'PRTF'): 1.317672,\n ('ADVB', 'NUMB'): 0.3888,\n ('ADVB', 'PRED'): 1.031163,\n ('ADVB', 'COMP'): 1.141251,\n ('ADVB', 'CONJ'): 0.195617,\n ('ADVB', 'ADJS'): 2.830098,\n ('ADVB', 'GRND'): 1.722843,\n ('ADVB', 'LATN'): 0.00176,\n ('ADVB', 'PRTS'): 0.934437,\n ('ADVB', 'SYMB'): -0.484397,\n ('ADVB', 'GREK'): -0.543791,\n ('ADVB', 'NUMR'): 1.595177,\n ('ADVB', 'ROMN'): -0.539558,\n ('ADVB', 'TIME'): -0.498164,\n ('ADVB', 'HANI'): -0.339507,\n ('NPRO', 'PNCT'): 2.051625,\n ('NPRO', 'NOUN'): 4.356182,\n ('NPRO', 'VERB'): 2.716388,\n ('NPRO', 'INFN'): 1.010955,\n ('NPRO', 'PRCL'): 2.325349,\n ('NPRO', 'PREP'): 0.503171,\n ('NPRO', 'ADJF'): 0.11283,\n ('NPRO', 'ADVB'): 2.457679,\n ('NPRO', 'NPRO'): 1.353815,\n ('NPRO', 'PRTF'): -0.011975,\n ('NPRO', 'NUMB'): 0.116902,\n ('NPRO', 'PRED'): 1.804547,\n ('NPRO', 'COMP'): 1.477306,\n ('NPRO', 'CONJ'): -0.349647,\n ('NPRO', 'ADJS'): 2.827746,\n ('NPRO', 'GRND'): -1.38184,\n ('NPRO', 'LATN'): 1.200417,\n ('NPRO', 'PRTS'): 0.800906,\n ('NPRO', 'INTJ'): -1.444008,\n ('NPRO', 'SYMB'): -0.363023,\n ('NPRO', 'GREK'): -0.408392,\n ('NPRO', 'NUMR'): -0.135615,\n ('NPRO', 'ROMN'): -0.182085,\n ('NPRO', 'HANI'): -0.414765,\n ('PRTF', 'PNCT'): 0.429964,\n ('PRTF', 'NOUN'): 5.615523,\n ('PRTF', 'VERB'): -1.371054,\n ('PRTF', 'INFN'): 0.152958,\n ('PRTF', 'PRCL'): -0.0927,\n ('PRTF', 'PREP'): 1.360264,\n ('PRTF', 'ADJF'): 0.377963,\n ('PRTF', 'ADVB'): -0.000799,\n ('PRTF', 'NPRO'): -1.201235,\n ('PRTF', 'PRTF'): -1.22138,\n ('PRTF', 'NUMB'): 0.593561,\n ('PRTF', 'PRED'): 0.672587,\n ('PRTF', 'COMP'): -0.77796,\n ('PRTF', 'CONJ'): -1.238178,\n ('PRTF', 'ADJS'): -0.842741,\n ('PRTF', 'GRND'): -0.512226,\n ('PRTF', 'LATN'): 2.949419,\n ('PRTF', 'PRTS'): -1.398078,\n ('PRTF', 'INTJ'): -0.464012,\n ('PRTF', 'SYMB'): -0.174829,\n ('PRTF', 'NUMR'): -0.608354,\n ('NUMB', 'PNCT'): 3.027803,\n ('NUMB', 'NOUN'): 6.366229,\n ('NUMB', 'VERB'): -1.402128,\n ('NUMB', 'INFN'): -1.805859,\n ('NUMB', 'PRCL'): -0.868742,\n ('NUMB', 'PREP'): -1.091182,\n ('NUMB', 'ADJF'): -0.752354,\n ('NUMB', 'ADVB'): -1.229096,\n ('NUMB', 'NPRO'): -1.184312,\n ('NUMB', 'PRTF'): -1.242583,\n ('NUMB', 'NUMB'): 1.217193,\n ('NUMB', 'PRED'): -2.49343,\n ('NUMB', 'COMP'): -1.063898,\n ('NUMB', 'CONJ'): -1.267767,\n ('NUMB', 'ADJS'): -1.511893,\n ('NUMB', 'GRND'): -1.610645,\n ('NUMB', 'LATN'): 3.176682,\n ('NUMB', 'PRTS'): -1.096144,\n ('NUMB', 'INTJ'): -1.336625,\n ('NUMB', 'SYMB'): 1.868602,\n ('NUMB', 'GREK'): 0.156479,\n ('NUMB', 'NUMR'): -1.233579,\n ('NUMB', 'ROMN'): -0.045868,\n ('NUMB', 'TIME'): -0.282742,\n ('NUMB', 'DATE'): -0.078545,\n ('NUMB', 'HANI'): -0.460527,\n ('PRED', 'PNCT'): 1.72961,\n ('PRED', 'NOUN'): 4.102984,\n ('PRED', 'VERB'): 0.02137,\n ('PRED', 'INFN'): 2.011672,\n ('PRED', 'PRCL'): 0.91451,\n ('PRED', 'PREP'): -0.095203,\n ('PRED', 'ADJF'): 0.120491,\n ('PRED', 'ADVB'): 1.133693,\n ('PRED', 'NPRO'): -0.719063,\n ('PRED', 'PRTF'): -0.848741,\n ('PRED', 'NUMB'): -1.864499,\n ('PRED', 'PRED'): -1.557046,\n ('PRED', 'COMP'): 5.1e-05,\n ('PRED', 'CONJ'): -0.350629,\n ('PRED', 'ADJS'): -0.734606,\n ('PRED', 'GRND'): 0.743946,\n ('PRED', 'LATN'): -0.33797,\n ('PRED', 'PRTS'): -1.243931,\n ('PRED', 'INTJ'): -0.323252,\n ('PRED', 'NUMR'): -0.4427,\n ('COMP', 'PNCT'): 2.164986,\n ('COMP', 'NOUN'): 2.910408,\n ('COMP', 'VERB'): 0.911153,\n ('COMP', 'INFN'): -0.553025,\n ('COMP', 'PRCL'): -0.092429,\n ('COMP', 'PREP'): 0.180431,\n ('COMP', 'ADVB'): -0.796922,\n ('COMP', 'NPRO'): -0.954081,\n ('COMP', 'PRTF'): -1.243278,\n ('COMP', 'NUMB'): -1.957173,\n ('COMP', 'PRED'): 0.17243,\n ('COMP', 'COMP'): -0.47425,\n ('COMP', 'CONJ'): -0.825225,\n ('COMP', 'ADJS'): -0.976651,\n ('COMP', 'GRND'): 1.756672,\n ('COMP', 'LATN'): 1.185536,\n ('COMP', 'PRTS'): -1.385902,\n ('COMP', 'INTJ'): -0.706836,\n ('COMP', 'SYMB'): -0.001853,\n ('COMP', 'NUMR'): 0.240516,\n ('COMP', 'TIME'): -0.264504,\n ('CONJ', 'PNCT'): 2.356994,\n ('CONJ', 'NOUN'): 4.671392,\n ('CONJ', 'VERB'): 0.712798,\n ('CONJ', 'INFN'): 0.130987,\n ('CONJ', 'PRCL'): 1.518331,\n ('CONJ', 'PREP'): -0.149405,\n ('CONJ', 'ADJF'): 0.439943,\n ('CONJ', 'ADVB'): 2.00841,\n ('CONJ', 'NPRO'): 1.15469,\n ('CONJ', 'PRTF'): 0.292608,\n ('CONJ', 'NUMB'): 0.004555,\n ('CONJ', 'PRED'): 0.651676,\n ('CONJ', 'COMP'): 0.628122,\n ('CONJ', 'CONJ'): -0.06211,\n ('CONJ', 'ADJS'): 0.398451,\n ('CONJ', 'GRND'): -0.166459,\n ('CONJ', 'LATN'): 2.292509,\n ('CONJ', 'PRTS'): -0.545516,\n ('CONJ', 'INTJ'): -1.493514,\n ('CONJ', 'SYMB'): -0.427721,\n ('CONJ', 'GREK'): -0.439545,\n ('CONJ', 'NUMR'): -1.351433,\n ('CONJ', 'ROMN'): -0.376808,\n ('CONJ', 'TIME'): -0.195238,\n ('CONJ', 'DATE'): -0.081989,\n ('CONJ', 'HANI'): -0.567314,\n ('ADJS', 'PNCT'): 2.475743,\n ('ADJS', 'NOUN'): 4.197572,\n ('ADJS', 'VERB'): 0.435962,\n ('ADJS', 'INFN'): 2.07362,\n ('ADJS', 'PRCL'): -1.062912,\n ('ADJS', 'PREP'): 0.764893,\n ('ADJS', 'ADJF'): 0.508483,\n ('ADJS', 'ADVB'): 0.916634,\n ('ADJS', 'NPRO'): 0.310707,\n ('ADJS', 'PRTF'): -0.994369,\n ('ADJS', 'NUMB'): 1.137861,\n ('ADJS', 'PRED'): -1.034614,\n ('ADJS', 'CONJ'): 0.344959,\n ('ADJS', 'ADJS'): -1.044389,\n ('ADJS', 'GRND'): -0.465541,\n ('ADJS', 'LATN'): 1.317802,\n ('ADJS', 'PRTS'): -0.537543,\n ('ADJS', 'INTJ'): -0.511032,\n ('ADJS', 'SYMB'): -0.221407,\n ('ADJS', 'GREK'): -0.034231,\n ('ADJS', 'NUMR'): -0.394804,\n ('ADJS', 'ROMN'): -0.615006,\n ('GRND', 'PNCT'): 0.732258,\n ('GRND', 'NOUN'): 5.093227,\n ('GRND', 'VERB'): -1.360319,\n ('GRND', 'INFN'): 0.50205,\n ('GRND', 'PRCL'): -0.804119,\n ('GRND', 'PREP'): 1.208762,\n ('GRND', 'ADJF'): 0.081464,\n ('GRND', 'ADVB'): 1.060138,\n ('GRND', 'NPRO'): 0.084419,\n ('GRND', 'PRTF'): -0.944497,\n ('GRND', 'NUMB'): -0.065432,\n ('GRND', 'PRED'): -0.981849,\n ('GRND', 'COMP'): -0.658599,\n ('GRND', 'CONJ'): -2.035022,\n ('GRND', 'ADJS'): -0.75483,\n ('GRND', 'GRND'): -0.569499,\n ('GRND', 'LATN'): -0.117862,\n ('GRND', 'PRTS'): -1.300179,\n ('GRND', 'INTJ'): -0.494132,\n ('GRND', 'SYMB'): -0.032117,\n ('GRND', 'NUMR'): -0.160024,\n ('LATN', 'PNCT'): 1.844622,\n ('LATN', 'NOUN'): 2.433386,\n ('LATN', 'VERB'): 0.379022,\n ('LATN', 'INFN'): -2.421199,\n ('LATN', 'PRCL'): -0.386558,\n ('LATN', 'PREP'): -0.921552,\n ('LATN', 'ADJF'): -1.958031,\n ('LATN', 'ADVB'): -0.090756,\n ('LATN', 'NPRO'): -2.041211,\n ('LATN', 'PRTF'): -1.938465,\n ('LATN', 'NUMB'): 0.942418,\n ('LATN', 'PRED'): -1.875945,\n ('LATN', 'COMP'): -1.51038,\n ('LATN', 'CONJ'): -1.404867,\n ('LATN', 'ADJS'): -0.20316,\n ('LATN', 'GRND'): -1.960185,\n ('LATN', 'LATN'): 4.39063,\n ('LATN', 'PRTS'): -0.406214,\n ('LATN', 'INTJ'): -1.697382,\n ('LATN', 'SYMB'): 1.917731,\n ('LATN', 'NUMR'): -1.091837,\n ('LATN', 'ROMN'): -0.029536,\n ('LATN', 'TIME'): -0.512377,\n ('LATN', 'DATE'): -0.416992,\n ('LATN', 'HANI'): -1.183842,\n ('PRTS', 'PNCT'): 1.143087,\n ('PRTS', 'NOUN'): 5.099541,\n ('PRTS', 'VERB'): -3.219049,\n ('PRTS', 'INFN'): -0.562831,\n ('PRTS', 'PRCL'): 0.696672,\n ('PRTS', 'PREP'): 1.629315,\n ('PRTS', 'ADJF'): 0.91874,\n ('PRTS', 'ADVB'): 1.369151,\n ('PRTS', 'NPRO'): -2.248323,\n ('PRTS', 'PRTF'): 0.327513,\n ('PRTS', 'NUMB'): 2.559294,\n ('PRTS', 'PRED'): -1.365778,\n ('PRTS', 'COMP'): -1.350738,\n ('PRTS', 'CONJ'): -0.481245,\n ('PRTS', 'ADJS'): -1.1979,\n ('PRTS', 'GRND'): -0.756887,\n ('PRTS', 'LATN'): -0.28518,\n ('PRTS', 'PRTS'): -2.053778,\n ('PRTS', 'INTJ'): -0.675568,\n ('PRTS', 'SYMB'): -0.405435,\n ('PRTS', 'GREK'): -0.205245,\n ('PRTS', 'NUMR'): -0.544108,\n ('PRTS', 'ROMN'): -0.881149,\n ('INTJ', 'PNCT'): 3.414064,\n ('INTJ', 'NOUN'): 1.610108,\n ('INTJ', 'VERB'): -1.858607,\n ('INTJ', 'INFN'): -1.250149,\n ('INTJ', 'PRCL'): -1.447151,\n ('INTJ', 'PREP'): -2.284243,\n ('INTJ', 'ADJF'): -2.115068,\n ('INTJ', 'ADVB'): -1.559089,\n ('INTJ', 'NPRO'): 1.239222,\n ('INTJ', 'PRTF'): -0.222623,\n ('INTJ', 'NUMB'): -0.662295,\n ('INTJ', 'PRED'): -0.339912,\n ('INTJ', 'COMP'): -0.232226,\n ('INTJ', 'CONJ'): -1.48823,\n ('INTJ', 'ADJS'): -0.884453,\n ('INTJ', 'GRND'): -0.000102,\n ('INTJ', 'LATN'): -0.087461,\n ('INTJ', 'PRTS'): -0.554365,\n ('INTJ', 'INTJ'): 1.192428,\n ('INTJ', 'SYMB'): -0.087448,\n ('INTJ', 'NUMR'): -0.04311,\n ('SYMB', 'PNCT'): 0.593887,\n ('SYMB', 'NOUN'): 3.43712,\n ('SYMB', 'VERB'): -2.067233,\n ('SYMB', 'INFN'): -0.842207,\n ('SYMB', 'PRCL'): -0.34949,\n ('SYMB', 'PREP'): -0.850996,\n ('SYMB', 'ADJF'): -0.580604,\n ('SYMB', 'ADVB'): -0.32362,\n ('SYMB', 'NPRO'): -1.058306,\n ('SYMB', 'PRTF'): -0.622723,\n ('SYMB', 'NUMB'): 1.664129,\n ('SYMB', 'PRED'): -0.382962,\n ('SYMB', 'COMP'): -1.200349,\n ('SYMB', 'CONJ'): -0.416516,\n ('SYMB', 'ADJS'): -0.493091,\n ('SYMB', 'GRND'): -0.172523,\n ('SYMB', 'LATN'): 3.834136,\n ('SYMB', 'PRTS'): -0.561742,\n ('SYMB', 'INTJ'): -0.705825,\n ('SYMB', 'SYMB'): 1.548793,\n ('SYMB', 'GREK'): 1.621578,\n ('SYMB', 'NUMR'): -0.069846,\n ('SYMB', 'TIME'): -0.002375,\n ('SYMB', 'HANI'): -0.338437,\n ('GREK', 'PNCT'): 1.463294,\n ('GREK', 'VERB'): 0.579977,\n ('GREK', 'INFN'): -1.197028,\n ('GREK', 'PRCL'): -0.440084,\n ('GREK', 'PREP'): -1.295285,\n ('GREK', 'ADJF'): -1.20394,\n ('GREK', 'ADVB'): -0.20875,\n ('GREK', 'NPRO'): -0.401549,\n ('GREK', 'PRTF'): -0.168816,\n ('GREK', 'NUMB'): 0.870105,\n ('GREK', 'PRED'): -0.121397,\n ('GREK', 'CONJ'): -0.694591,\n ('GREK', 'LATN'): 2.146492,\n ('GREK', 'PRTS'): -0.070689,\n ('GREK', 'SYMB'): 2.894924,\n ('NUMR', 'PNCT'): 0.549173,\n ('NUMR', 'NOUN'): 6.133128,\n ('NUMR', 'VERB'): 0.138309,\n ('NUMR', 'INFN'): -1.188991,\n ('NUMR', 'PRCL'): 0.131878,\n ('NUMR', 'PREP'): -2.172579,\n ('NUMR', 'ADJF'): 0.548166,\n ('NUMR', 'ADVB'): 0.677098,\n ('NUMR', 'NPRO'): -1.097156,\n ('NUMR', 'PRTF'): 1.57128,\n ('NUMR', 'NUMB'): -0.713118,\n ('NUMR', 'PRED'): -0.466766,\n ('NUMR', 'COMP'): -0.472529,\n ('NUMR', 'CONJ'): -1.301203,\n ('NUMR', 'ADJS'): -0.320881,\n ('NUMR', 'PRTS'): -0.539226,\n ('NUMR', 'INTJ'): -0.21082,\n ('NUMR', 'NUMR'): -0.276696,\n ('ROMN', 'PNCT'): 0.681568,\n ('ROMN', 'NOUN'): 4.243924,\n ('ROMN', 'VERB'): -1.258252,\n ('ROMN', 'INFN'): -0.924761,\n ('ROMN', 'PRCL'): -1.172446,\n ('ROMN', 'PREP'): -3.393569,\n ('ROMN', 'ADJF'): -0.586209,\n ('ROMN', 'ADVB'): -0.526855,\n ('ROMN', 'NPRO'): -1.298831,\n ('ROMN', 'PRTF'): -0.235544,\n ('ROMN', 'NUMB'): -0.741641,\n ('ROMN', 'PRED'): -0.610033,\n ('ROMN', 'COMP'): -0.213303,\n ('ROMN', 'CONJ'): -1.372572,\n ('ROMN', 'LATN'): -0.374564,\n ('ROMN', 'PRTS'): -0.83901,\n ('ROMN', 'INTJ'): -0.391171,\n ('ROMN', 'SYMB'): -0.08634,\n ('ROMN', 'HANI'): -0.023189,\n ('TIME', 'PNCT'): 0.530117,\n ('TIME', 'NOUN'): 3.758253,\n ('TIME', 'VERB'): -1.274381,\n ('TIME', 'INFN'): -0.574566,\n ('TIME', 'PRCL'): -0.378455,\n ('TIME', 'PREP'): -1.052661,\n ('TIME', 'ADJF'): -0.470907,\n ('TIME', 'ADVB'): -0.305289,\n ('TIME', 'NPRO'): -0.562736,\n ('TIME', 'PRTF'): -0.098582,\n ('TIME', 'NUMB'): -0.538805,\n ('TIME', 'PRED'): -0.208542,\n ('TIME', 'CONJ'): -0.749742,\n ('TIME', 'GRND'): 2.376587,\n ('TIME', 'LATN'): 2.224409,\n ('TIME', 'PRTS'): -0.135691,\n ('DATE', 'PNCT'): -1.074072,\n ('DATE', 'VERB'): -0.845801,\n ('DATE', 'INFN'): -0.360843,\n ('DATE', 'PRCL'): -0.311341,\n ('DATE', 'PREP'): -0.070485,\n ('DATE', 'ADJF'): -1.081993,\n ('DATE', 'ADVB'): -0.099498,\n ('DATE', 'NPRO'): -0.337533,\n ('DATE', 'NUMB'): -0.164146,\n ('DATE', 'CONJ'): -0.503145,\n ('DATE', 'PRTS'): 1.483005,\n ('HANI', 'PNCT'): 2.72856,\n ('HANI', 'VERB'): -1.088227,\n ('HANI', 'INFN'): -0.547728,\n ('HANI', 'PRCL'): -0.473659,\n ('HANI', 'PREP'): -1.432484,\n ('HANI', 'ADJF'): -1.345116,\n ('HANI', 'ADVB'): -0.317811,\n ('HANI', 'NPRO'): -0.631984,\n ('HANI', 'NUMB'): -0.519299,\n ('HANI', 'CONJ'): -0.962043,\n ('HANI', 'ADJS'): -0.169637,\n ('HANI', 'LATN'): -0.126426,\n ('HANI', 'PRTS'): -0.181956,\n ('HANI', 'INTJ'): -0.044752,\n ('HANI', 'SYMB'): -0.092507}"
     },
     "execution_count": 36,
     "metadata": {},
     "output_type": "execute_result"
    }
   ],
   "source": [
    "# список весов перехода между классами (частями речи)\n",
    "\n",
    "crf.transition_features_"
   ],
   "metadata": {
    "collapsed": false,
    "pycharm": {
     "name": "#%%\n"
    }
   }
  },
  {
   "cell_type": "code",
   "execution_count": 41,
   "outputs": [
    {
     "name": "stdout",
     "output_type": "stream",
     "text": [
      "(('PREP', 'NOUN'), 7.486701)\n",
      "(('ADJF', 'NOUN'), 7.390414)\n",
      "(('NUMB', 'NOUN'), 6.366229)\n",
      "(('NUMR', 'NOUN'), 6.133128)\n",
      "(('VERB', 'NOUN'), 5.903229)\n",
      "(('PRTF', 'NOUN'), 5.615523)\n",
      "(('PRTS', 'NOUN'), 5.099541)\n",
      "(('GRND', 'NOUN'), 5.093227)\n",
      "(('CONJ', 'NOUN'), 4.671392)\n",
      "(('PREP', 'LATN'), 4.529724)\n",
      "(('INFN', 'NOUN'), 4.471478)\n",
      "(('LATN', 'LATN'), 4.39063)\n",
      "(('NPRO', 'NOUN'), 4.356182)\n",
      "(('ADVB', 'NOUN'), 4.336339)\n",
      "(('ROMN', 'NOUN'), 4.243924)\n",
      "(('ADJS', 'NOUN'), 4.197572)\n",
      "(('PRED', 'NOUN'), 4.102984)\n",
      "(('SYMB', 'LATN'), 3.834136)\n",
      "(('TIME', 'NOUN'), 3.758253)\n",
      "(('PRCL', 'NOUN'), 3.679292)\n",
      "(('PREP', 'NOUN'), 7.486701)\n",
      "(('ADJF', 'NOUN'), 7.390414)\n",
      "(('NUMB', 'NOUN'), 6.366229)\n",
      "(('NUMR', 'NOUN'), 6.133128)\n",
      "(('VERB', 'NOUN'), 5.903229)\n",
      "(('PRTF', 'NOUN'), 5.615523)\n",
      "(('PRTS', 'NOUN'), 5.099541)\n",
      "(('GRND', 'NOUN'), 5.093227)\n",
      "(('CONJ', 'NOUN'), 4.671392)\n",
      "(('PREP', 'LATN'), 4.529724)\n",
      "(('INFN', 'NOUN'), 4.471478)\n",
      "(('LATN', 'LATN'), 4.39063)\n",
      "(('NPRO', 'NOUN'), 4.356182)\n",
      "(('ADVB', 'NOUN'), 4.336339)\n",
      "(('ROMN', 'NOUN'), 4.243924)\n",
      "(('ADJS', 'NOUN'), 4.197572)\n",
      "(('PRED', 'NOUN'), 4.102984)\n",
      "(('SYMB', 'LATN'), 3.834136)\n",
      "(('TIME', 'NOUN'), 3.758253)\n",
      "(('PRCL', 'NOUN'), 3.679292)\n",
      "---\n",
      "(('NOUN', 'DATE'), -2.254851)\n",
      "(('NOUN', 'INFN'), -2.265759)\n",
      "(('INTJ', 'PREP'), -2.284243)\n",
      "(('NOUN', 'COMP'), -2.292832)\n",
      "(('VERB', 'PRED'), -2.410824)\n",
      "(('PNCT', 'PRTS'), -2.420539)\n",
      "(('LATN', 'INFN'), -2.421199)\n",
      "(('NUMB', 'PRED'), -2.49343)\n",
      "(('PREP', 'PRTS'), -2.615462)\n",
      "(('PREP', 'PRCL'), -2.684823)\n",
      "(('PREP', 'COMP'), -2.744627)\n",
      "(('PREP', 'INFN'), -2.966336)\n",
      "(('NOUN', 'HANI'), -3.164589)\n",
      "(('PRTS', 'VERB'), -3.219049)\n",
      "(('PREP', 'CONJ'), -3.25071)\n",
      "(('NOUN', 'GRND'), -3.25782)\n",
      "(('ROMN', 'PREP'), -3.393569)\n",
      "(('VERB', 'VERB'), -3.42158)\n",
      "(('PREP', 'VERB'), -3.812112)\n",
      "(('NOUN', 'INTJ'), -4.573773)\n"
     ]
    }
   ],
   "source": [
    "# хочется найти самые большие веса и самые маленькие\n",
    "# можно пользоваться классом Counter из стандартной библиотеки\n",
    "\n",
    "from collections import Counter\n",
    "\n",
    "# считает, сколько раз встретились элементы в перечислении\n",
    "Counter([10, 20, 30, 10, 10, 10, 20])\n",
    "\n",
    "# либо можно создать на основе уже готового словаря\n",
    "\n",
    "cnt = Counter(crf.transition_features_)\n",
    "for p in cnt.most_common(20):\n",
    "    # найти максимальные значения\n",
    "    print(p)\n",
    "\n",
    "for p in cnt.most_common()[:20]:\n",
    "    # найти максимальные значения, первые 20\n",
    "    print(p)\n",
    "print(\"---\")\n",
    "for p in cnt.most_common()[-20:]:\n",
    "    # найти минимальные значения, последние 20\n",
    "    print(p)"
   ],
   "metadata": {
    "collapsed": false,
    "pycharm": {
     "name": "#%%\n"
    }
   }
  },
  {
   "cell_type": "markdown",
   "source": [
    "Можно аналогично делать с соответствием признаков и меток:"
   ],
   "metadata": {
    "collapsed": false,
    "pycharm": {
     "name": "#%% md\n"
    }
   }
  },
  {
   "cell_type": "code",
   "execution_count": 42,
   "outputs": [
    {
     "data": {
      "text/plain": "{('[-2:]:«', 'PNCT'): 10.083587,\n ('START', 'PNCT'): 1.706367,\n ('START', 'NOUN'): 4.427813,\n ('START', 'VERB'): 0.029072,\n ('START', 'INFN'): -1.649741,\n ('START', 'PRCL'): 0.34799,\n ('START', 'PREP'): -1.043921,\n ('START', 'ADJF'): -0.544324,\n ('START', 'ADVB'): 1.098721,\n ('START', 'NPRO'): 0.022919,\n ('START', 'PRTF'): -1.028894,\n ('START', 'NUMB'): 0.489333,\n ('START', 'PRED'): -0.580038,\n ('START', 'COMP'): -0.258124,\n ('START', 'CONJ'): 1.199833,\n ('START', 'ADJS'): -0.430675,\n ('START', 'GRND'): -0.180897,\n ('START', 'LATN'): 2.976499,\n ('START', 'PRTS'): -0.817471,\n ('START', 'INTJ'): 0.994949,\n ('START', 'SYMB'): 0.87272,\n ('START', 'GREK'): 0.273643,\n ('START', 'NUMR'): -1.966776,\n ('START', 'ROMN'): 0.727917,\n ('START', 'TIME'): -0.763198,\n ('START', 'DATE'): 0.065439,\n ('START', 'HANI'): -1.39156,\n ('[-2:]:ла', 'NOUN'): 4.055794,\n ('[-2:]:ла', 'VERB'): 7.314528,\n ('[-2:]:ла', 'ADVB'): 3.548006,\n ('[-2:]:ия', 'NOUN'): 7.292606,\n ('[-2:]:»', 'PNCT'): 9.606268,\n ('[-2:]:ит', 'NOUN'): 1.822082,\n ('[-2:]:ит', 'VERB'): 6.421481,\n ('[-2:]:ит', 'CONJ'): 3.974194,\n ('[-2:]:ит', 'PRTS'): 1.960944,\n ('[-2:]:ть', 'NOUN'): 3.553903,\n ('[-2:]:ть', 'INFN'): 9.136893,\n ('[-2:]:ть', 'PRCL'): 0.837719,\n ('[-2:]:ть', 'ADVB'): 3.807667,\n ('[-2:]:ть', 'CONJ'): 2.034788,\n ('[-2:]:ть', 'INTJ'): 0.864132,\n ('[-2:]:ть', 'NUMR'): 1.197268,\n ('[-2:]:ык', 'NOUN'): 1.881545,\n ('[-2:]:ся', 'NOUN'): 0.156995,\n ('[-2:]:ся', 'VERB'): 7.26206,\n ('[-2:]:ся', 'INFN'): 7.946605,\n ('[-2:]:ся', 'ADJF'): 3.474093,\n ('[-2:]:ся', 'PRTF'): 5.27213,\n ('[-2:]:ся', 'CONJ'): 4.578345,\n ('[-2:]:ся', 'GRND'): 1.50428,\n ('[-2:]:ли', 'NOUN'): 3.696927,\n ('[-2:]:ли', 'VERB'): 6.96001,\n ('[-2:]:ли', 'PRCL'): 1.978875,\n ('[-2:]:ли', 'CONJ'): 7.274631,\n ('[-2:]:ус', 'NOUN'): 3.089842,\n ('[-2:]:ии', 'NOUN'): 6.063979,\n ('[-2:]:ии', 'ADVB'): 2.919515,\n ('[-2:]:в', 'NOUN'): -0.176766,\n ('[-2:]:в', 'PREP'): 8.719825,\n ('[-2:]:ом', 'NOUN'): 3.604064,\n ('[-2:]:ом', 'PREP'): 1.658305,\n ('[-2:]:ом', 'ADJF'): 5.111812,\n ('[-2:]:ом', 'ADVB'): 4.411906,\n ('[-2:]:ом', 'NPRO'): 4.270701,\n ('[-2:]:ом', 'PRTF'): 3.078806,\n ('[-2:]:ом', 'CONJ'): 0.671729,\n ('[-2:]:ом', 'ADJS'): 0.668688,\n ('[-2:]:не', 'NOUN'): 3.551604,\n ('[-2:]:не', 'PRCL'): 8.023362,\n ('[-2:]:не', 'PREP'): 1.943748,\n ('[-2:]:не', 'ADVB'): 3.671013,\n ('[-2:]:не', 'NPRO'): 4.707237,\n ('[-2:]:не', 'ADJS'): 1.130889,\n ('[-2:]:?', 'PNCT'): 9.16483,\n ('[-2:]:ая', 'NOUN'): 2.248777,\n ('[-2:]:ая', 'PREP'): 2.273041,\n ('[-2:]:ая', 'ADJF'): 7.826347,\n ('[-2:]:ая', 'NPRO'): 1.017596,\n ('[-2:]:ая', 'PRTF'): 5.830014,\n ('[-2:]:ая', 'GRND'): 5.423347,\n ('[-2:]:сь', 'NOUN'): 1.143289,\n ('[-2:]:сь', 'VERB'): 6.425689,\n ('[-2:]:сь', 'INFN'): 2.822719,\n ('[-2:]:сь', 'PRCL'): 1.185895,\n ('[-2:]:сь', 'ADVB'): 4.399856,\n ('[-2:]:сь', 'CONJ'): 0.798359,\n ('[-2:]:сь', 'GRND'): 5.824329,\n ('[-2:]:ир', 'NOUN'): 3.847302,\n ('[-2:]:ле', 'NOUN'): 3.112081,\n ('[-2:]:ле', 'PREP'): 5.655137,\n ('[-2:]:ле', 'ADVB'): 3.152573,\n ('[-2:]:ле', 'COMP'): 4.355877,\n ('[-2:]:их', 'NOUN'): 1.102909,\n ('[-2:]:их', 'ADJF'): 6.289114,\n ('[-2:]:их', 'NPRO'): 4.470687,\n ('[-2:]:их', 'PRTF'): 4.643118,\n ('[-2:]:их', 'CONJ'): 2.166408,\n ('[-2:]:их', 'NUMR'): 4.667745,\n ('[-2:]:ул', 'NOUN'): 1.439978,\n ('[-2:]:ул', 'VERB'): 5.332045,\n ('[-2:]:те', 'NOUN'): 3.196013,\n ('[-2:]:те', 'VERB'): 5.80369,\n ('[-2:]:те', 'PRCL'): 1.485173,\n ('[-2:]:те', 'ADJF'): 1.362032,\n ('[-2:]:те', 'ADVB'): 3.584449,\n ('[-2:]:те', 'CONJ'): 2.119303,\n ('[-2:]:те', 'INTJ'): 3.097919,\n ('[-2:]:.', 'PNCT'): 11.567485,\n ('[-2:]:кт', 'NOUN'): 3.593381,\n ('[-2:]:ал', 'NOUN'): 3.336809,\n ('[-2:]:ал', 'VERB'): 7.436873,\n ('[-2:]:ал', 'ADVB'): 1.180548,\n ('[-2:]:с', 'PRCL'): 4.041803,\n ('[-2:]:с', 'PREP'): 7.879223,\n ('[-2:]:ры', 'NOUN'): 5.404637,\n ('[-2:]:на', 'NOUN'): 4.010254,\n ('[-2:]:на', 'PRCL'): 1.918063,\n ('[-2:]:на', 'PREP'): 6.510341,\n ('[-2:]:на', 'ADJF'): 3.37621,\n ('[-2:]:на', 'NPRO'): 5.598409,\n ('[-2:]:на', 'ADJS'): 5.241467,\n ('[-2:]:на', 'PRTS'): 6.32215,\n ('[-2:]:ТВ', 'NOUN'): 2.06575,\n ('[-2:]:то', 'NOUN'): 1.213978,\n ('[-2:]:то', 'PRCL'): 2.589233,\n ('[-2:]:то', 'PREP'): 2.065937,\n ('[-2:]:то', 'ADJF'): 3.327575,\n ('[-2:]:то', 'ADVB'): 3.320737,\n ('[-2:]:то', 'NPRO'): 5.130032,\n ('[-2:]:то', 'CONJ'): 3.701641,\n ('[-2:]:то', 'ADJS'): 1.67863,\n ('[-2:]:то', 'PRTS'): 2.744493,\n ('[-2:]:мо', 'NOUN'): 0.979001,\n ('[-2:]:мо', 'PREP'): 4.575849,\n ('[-2:]:мо', 'ADVB'): 1.799861,\n ('[-2:]:мо', 'CONJ'): 0.993727,\n ('[-2:]:мо', 'ADJS'): 2.337585,\n ('[-2:]:ых', 'NOUN'): 1.804308,\n ('[-2:]:ых', 'ADJF'): 6.844958,\n ('[-2:]:ых', 'PRTF'): 5.496308,\n ('[-2:]:ых', 'CONJ'): 4.39267,\n ('[-2:]:ых', 'NUMR'): 2.778532,\n ('[-2:]:ен', 'NOUN'): 2.744239,\n ('[-2:]:ен', 'ADVB'): 1.462364,\n ('[-2:]:ен', 'ADJS'): 5.787538,\n ('[-2:]:ен', 'PRTS'): 6.324012,\n ('[-2:]:де', 'NOUN'): 2.872503,\n ('[-2:]:де', 'PREP'): 3.13501,\n ('[-2:]:де', 'ADVB'): 3.72834,\n ('[-2:]:де', 'PRED'): 2.406583,\n ('[-2:]:де', 'CONJ'): 3.082271,\n ('[-2:]:ут', 'NOUN'): 1.269668,\n ('[-2:]:ут', 'VERB'): 5.617778,\n ('[-2:]:ут', 'ADVB'): 4.190152,\n ('[-2:]:ут', 'ADJS'): 1.293332,\n ('[-2:]:же', 'NOUN'): 1.029788,\n ('[-2:]:же', 'PRCL'): 7.286908,\n ('[-2:]:же', 'PREP'): 0.340322,\n ('[-2:]:же', 'ADVB'): 1.962865,\n ('[-2:]:же', 'COMP'): 5.95794,\n ('[-2:]:же', 'CONJ'): 2.70996,\n ('[-2:]:ов', 'NOUN'): 6.140063,\n ('[-2:]:ов', 'ADJS'): 4.164564,\n ('[-2:]:,', 'PNCT'): 10.953535,\n ('[-2:]:ре', 'NOUN'): 3.282683,\n ('[-2:]:ре', 'ADVB'): 3.104895,\n ('[-2:]:ре', 'COMP'): 3.848371,\n ('[-2:]:ре', 'NUMR'): 1.713157,\n ('[-2:]:ло', 'NOUN'): 1.379227,\n ('[-2:]:ло', 'VERB'): 5.202408,\n ('[-2:]:ло', 'PRCL'): 1.051395,\n ('[-2:]:ло', 'PREP'): 3.875623,\n ('[-2:]:ло', 'ADVB'): 2.500191,\n ('[-2:]:ло', 'CONJ'): 0.938872,\n ('[-2:]:ло', 'INTJ'): 1.97299,\n ('[-2:]:ло', 'NUMR'): 1.725121,\n ('[-2:]:ой', 'NOUN'): 3.136193,\n ('[-2:]:ой', 'VERB'): 0.492697,\n ('[-2:]:ой', 'ADJF'): 6.556066,\n ('[-2:]:ой', 'ADVB'): 2.433978,\n ('[-2:]:ой', 'NPRO'): 4.126833,\n ('[-2:]:ой', 'PRTF'): 4.432024,\n ('[-2:]:ой', 'INTJ'): 2.008501,\n ('[-2:]:ны', 'NOUN'): 4.660209,\n ('[-2:]:ны', 'ADJS'): 6.320778,\n ('[-2:]:ны', 'PRTS'): 7.628091,\n ('[-2:]:уг', 'NOUN'): 2.252869,\n ('[-2:]:уг', 'PREP'): 2.235821,\n ('[-2:]:уг', 'ADVB'): 4.220427,\n ('[-2:]:ей', 'NOUN'): 4.102024,\n ('[-2:]:ей', 'VERB'): 2.482859,\n ('[-2:]:ей', 'PRCL'): 1.144718,\n ('[-2:]:ей', 'ADJF'): 5.026301,\n ('[-2:]:ей', 'NPRO'): 4.519798,\n ('[-2:]:ей', 'PRTF'): 4.910732,\n ('[-2:]:ей', 'COMP'): 5.310615,\n ('[-2:]:–', 'PNCT'): 7.362192,\n ('[-2:]:он', 'NOUN'): 3.029441,\n ('[-2:]:он', 'PRCL'): 1.218934,\n ('[-2:]:он', 'ADVB'): 0.49141,\n ('[-2:]:он', 'NPRO'): 6.582973,\n ('[-2:]:он', 'ADJS'): 0.94957,\n ('[-2:]:ра', 'NOUN'): 4.830754,\n ('[-2:]:ра', 'ADVB'): 3.707088,\n ('[-2:]:ра', 'INTJ'): 4.996133,\n ('[-2:]:ра', 'NUMR'): 2.128586,\n ('[-2:]:ые', 'NOUN'): 1.665227,\n ('[-2:]:ые', 'ADJF'): 7.685125,\n ('[-2:]:ые', 'ADVB'): 3.940961,\n ('[-2:]:ые', 'NPRO'): 2.014441,\n ('[-2:]:ые', 'PRTF'): 1.793486,\n ('[-2:]:цы', 'NOUN'): 5.045995,\n ('[-2:]:55', 'NUMB'): 4.906802,\n ('[-2:]:до', 'NOUN'): 0.913718,\n ('[-2:]:до', 'PREP'): 5.954682,\n ('[-2:]:до', 'ADVB'): 2.413094,\n ('[-2:]:до', 'PRED'): 6.558955,\n ('[-2:]:5', 'NUMB'): 6.374203,\n ('[-2:]:ря', 'NOUN'): 3.291886,\n ('[-2:]:ря', 'PREP'): 4.16664,\n ('[-2:]:ря', 'GRND'): 4.584477,\n ('[-2:]:За', 'NOUN'): 1.28254,\n ('[-2:]:За', 'PREP'): 5.956919,\n ('[-2:]:та', 'NOUN'): 4.668596,\n ('[-2:]:та', 'ADJF'): 4.911605,\n ('[-2:]:та', 'ADJS'): 2.80964,\n ('[-2:]:та', 'PRTS'): 3.123676,\n ('[-2:]:та', 'INTJ'): 2.765475,\n ('[-2:]:та', 'NUMR'): 1.674811,\n ('[-2:]:шь', 'NOUN'): -0.620038,\n ('[-2:]:шь', 'VERB'): 5.081348,\n ('[-2:]:шь', 'PRCL'): 3.677401,\n ('[-2:]:шь', 'ADVB'): 0.731346,\n ('[-2:]:шь', 'CONJ'): 2.093617,\n ('[-2:]:шь', 'INTJ'): 0.467645,\n ('[-2:]:!', 'PNCT'): 9.40106,\n ('[-2:]:ги', 'NOUN'): 4.444981,\n ('[-2:]:ги', 'VERB'): 2.78419,\n ('[-2:]:жа', 'NOUN'): 2.768846,\n ('[-2:]:жа', 'ADJS'): 2.837555,\n ('[-2:]:ри', 'NOUN'): 2.759869,\n ('[-2:]:ри', 'VERB'): 2.887831,\n ('[-2:]:ри', 'PREP'): 5.434299,\n ('[-2:]:ри', 'ADVB'): 0.746926,\n ('[-2:]:ри', 'NUMR'): 4.095733,\n ('[-2:]:ты', 'NOUN'): 4.666125,\n ('[-2:]:ты', 'NPRO'): 5.45875,\n ('[-2:]:ты', 'ADJS'): 3.554734,\n ('[-2:]:ты', 'PRTS'): 1.816004,\n ('[-2:]:ют', 'NOUN'): -0.150796,\n ('[-2:]:ют', 'VERB'): 7.319564,\n ('[-2:]:ок', 'NOUN'): 4.246052,\n ('[-2:]:ок', 'ADJS'): 1.975106,\n ('[-2:]:ок', 'NUMR'): 2.609326,\n ('[-2:]:ое', 'NOUN'): 0.432078,\n ('[-2:]:ое', 'ADJF'): 4.955464,\n ('[-2:]:ое', 'ADVB'): 0.483194,\n ('[-2:]:ое', 'NPRO'): 2.254316,\n ('[-2:]:ое', 'PRTF'): 1.595306,\n ('[-2:]:ое', 'CONJ'): 1.77396,\n ('[-2:]:ое', 'NUMR'): 1.972377,\n ('[-2:]:но', 'NOUN'): 0.730967,\n ('[-2:]:но', 'PRCL'): 4.438961,\n ('[-2:]:но', 'PREP'): 3.112888,\n ('[-2:]:но', 'ADVB'): 5.444335,\n ('[-2:]:но', 'NPRO'): 3.164523,\n ('[-2:]:но', 'PRED'): 6.127822,\n ('[-2:]:но', 'CONJ'): 4.097341,\n ('[-2:]:но', 'ADJS'): 3.555675,\n ('[-2:]:но', 'PRTS'): 6.623134,\n ('[-2:]:ет', 'NOUN'): 3.179595,\n ('[-2:]:ет', 'VERB'): 7.020759,\n ('[-2:]:ет', 'PRCL'): 4.165248,\n ('[-2:]:ет', 'PRED'): 6.545088,\n ('[-2:]:ет', 'CONJ'): 4.09579,\n ('[-2:]:ет', 'INTJ'): 1.146441,\n ('[-2:]:го', 'NOUN'): 1.918067,\n ('[-2:]:го', 'PRCL'): 3.642855,\n ('[-2:]:го', 'ADJF'): 6.5472,\n ('[-2:]:го', 'ADVB'): 4.363953,\n ('[-2:]:го', 'NPRO'): 5.226165,\n ('[-2:]:го', 'PRTF'): 4.080111,\n ('[-2:]:го', 'NUMR'): 1.151366,\n ('[-2:]:ее', 'NOUN'): 1.023716,\n ('[-2:]:ее', 'ADJF'): 2.405915,\n ('[-2:]:ее', 'ADVB'): 6.386509,\n ('[-2:]:ее', 'NPRO'): 1.293369,\n ('[-2:]:ее', 'COMP'): 7.370932,\n ('[-2:]:С', 'PREP'): 7.570737,\n ('[-2:]:ем', 'NOUN'): 3.089508,\n ('[-2:]:ем', 'VERB'): 4.015496,\n ('[-2:]:ем', 'PREP'): 0.977185,\n ('[-2:]:ем', 'ADJF'): 4.084277,\n ('[-2:]:ем', 'ADVB'): 3.998679,\n ('[-2:]:ем', 'NPRO'): 3.762795,\n ('[-2:]:ем', 'PRTF'): 1.78958,\n ('[-2:]:ем', 'PRED'): 1.385085,\n ('[-2:]:ем', 'CONJ'): 4.970429,\n ('[-2:]:ем', 'NUMR'): 0.777562,\n ('[-2:]:ий', 'NOUN'): 4.980848,\n ('[-2:]:ий', 'ADJF'): 4.271081,\n ('[-2:]:ий', 'PRTF'): 3.382598,\n ('[-2:]:жи', 'NOUN'): 2.549395,\n ('[-2:]:жи', 'VERB'): 3.17009,\n ('[-2:]:жи', 'ADJS'): 2.898093,\n ('[-2:]:о', 'PREP'): 6.668694,\n ('[-2:]:ви', 'NOUN'): 2.35915,\n ('[-2:]:ви', 'VERB'): 2.502794,\n ('[-2:]:ью', 'NOUN'): 3.108813,\n ('[-2:]:ью', 'VERB'): 1.336725,\n ('[-2:]:ью', 'ADJF'): 0.239878,\n ('[-2:]:ью', 'ADVB'): 3.8038,\n ('[-2:]:ью', 'NUMR'): 2.345431,\n ('[-2:]:И', 'CONJ'): 6.655986,\n ('[-2:]:по', 'NOUN'): -0.203681,\n ('[-2:]:по', 'PREP'): 7.166365,\n ('[-2:]:ту', 'NOUN'): 3.42395,\n ('[-2:]:ту', 'ADJF'): 4.285745,\n ('[-2:]:ту', 'ADVB'): 2.558167,\n ('[-2:]:ту', 'PRED'): 4.539443,\n ('[-2:]:и', 'PRCL'): 2.154014,\n ('[-2:]:и', 'CONJ'): 10.560717,\n ('[-2:]:ым', 'NOUN'): 2.434839,\n ('[-2:]:ым', 'ADJF'): 6.884847,\n ('[-2:]:ым', 'PRTF'): 5.290561,\n ('[-2:]:ям', 'NOUN'): 3.96129,\n ('[-2:]:ям', 'PRCL'): 1.986716,\n ('[-2:]:ми', 'NOUN'): 3.832082,\n ('[-2:]:ми', 'VERB'): 0.796044,\n ('[-2:]:ми', 'ADJF'): 5.496419,\n ('[-2:]:ми', 'ADVB'): 1.371047,\n ('[-2:]:ми', 'NPRO'): 4.122746,\n ('[-2:]:ми', 'PRTF'): 4.778986,\n ('[-2:]:ми', 'NUMR'): 2.753928,\n ('[-2:]:По', 'PREP'): 6.808561,\n ('[-2:]:ам', 'NOUN'): 4.136583,\n ('[-2:]:ам', 'VERB'): 2.62411,\n ('[-2:]:ам', 'ADJF'): 2.186777,\n ('[-2:]:ам', 'ADVB'): 0.874665,\n ('[-2:]:ам', 'NPRO'): 5.699303,\n ('[-2:]:ят', 'NOUN'): -0.918142,\n ('[-2:]:ят', 'VERB'): 5.518566,\n ('[-2:]:ят', 'CONJ'): 3.84652,\n ('[-2:]:ят', 'ADJS'): 2.225601,\n ('[-2:]:ят', 'PRTS'): 3.125725,\n ('[-2:]:еи', 'NOUN'): 3.076347,\n ('[-2:]:ши', 'NOUN'): 1.979906,\n ('[-2:]:ши', 'VERB'): 1.449655,\n ('[-2:]:ши', 'ADJF'): 4.385845,\n ('[-2:]:ши', 'GRND'): 2.851394,\n ('[-2:]:А', 'CONJ'): 6.12156,\n ('[-2:]:А', 'INTJ'): 2.613177,\n ('[-2:]:ни', 'NOUN'): 3.419715,\n ('[-2:]:ни', 'VERB'): 1.855011,\n ('[-2:]:ни', 'PRCL'): 2.416847,\n ('[-2:]:ни', 'ADJF'): 2.207722,\n ('[-2:]:ни', 'NPRO'): 5.917827,\n ('[-2:]:ую', 'NOUN'): 0.428599,\n ('[-2:]:ую', 'VERB'): 3.144025,\n ('[-2:]:ую', 'ADJF'): 6.553931,\n ('[-2:]:ую', 'ADVB'): 2.770976,\n ('[-2:]:ую', 'PRTF'): 5.147371,\n ('[-2:]:лу', 'NOUN'): 3.310518,\n ('[-2:]:лу', 'ADVB'): 2.398834,\n ('[-2:]:ки', 'NOUN'): 4.950479,\n ('[-2:]:ки', 'PRCL'): 4.449317,\n ('[-2:]:ки', 'PREP'): 1.820937,\n ('[-2:]:ки', 'ADVB'): 4.315409,\n ('[-2:]:ки', 'ADJS'): 3.178965,\n ('[-2:]:ве', 'NOUN'): 4.024564,\n ('[-2:]:ве', 'PRED'): 5.8821,\n ('[-2:]:му', 'NOUN'): 2.918319,\n ('[-2:]:му', 'ADJF'): 5.461387,\n ('[-2:]:му', 'ADVB'): 5.524824,\n ('[-2:]:му', 'NPRO'): 4.772979,\n ('[-2:]:му', 'PRTF'): 4.104863,\n ('[-2:]:ду', 'NOUN'): 3.63138,\n ('[-2:]:ду', 'VERB'): 4.056819,\n ('[-2:]:ду', 'PREP'): 4.126984,\n ('[-2:]:ду', 'ADVB'): 1.730895,\n ('[-2:]:вы', 'NOUN'): 3.146725,\n ('[-2:]:вы', 'NPRO'): 5.474658,\n ('[-2:]:вы', 'ADJS'): 4.658244,\n ('[-2:]:вы', 'INTJ'): 4.162366,\n ('[-2:]:Но', 'CONJ'): 6.223694,\n ('[-2:]:фе', 'NOUN'): 2.486928,\n ('[-2:]:ег', 'NOUN'): 3.576262,\n ('[-2:]:це', 'NOUN'): 3.79738,\n ('[-2:]:ти', 'NOUN'): 4.329567,\n ('[-2:]:ти', 'VERB'): 2.380257,\n ('[-2:]:ти', 'INFN'): 6.985391,\n ('[-2:]:ти', 'ADJF'): 4.015854,\n ('[-2:]:ти', 'ADVB'): 1.664356,\n ('[-2:]:ти', 'CONJ'): 1.791045,\n ('[-2:]:ти', 'NUMR'): 4.592346,\n ('[-2:]:Он', 'NPRO'): 6.968004,\n ('[-2:]:ик', 'NOUN'): 4.889051,\n ('[-2:]:ик', 'VERB'): 1.705696,\n ('[-2:]:ня', 'NOUN'): 3.193809,\n ('[-2:]:ня', 'ADVB'): 5.43564,\n ('[-2:]:ня', 'NPRO'): 5.882275,\n ('[-2:]:са', 'NOUN'): 4.904191,\n ('[-2:]:ье', 'NOUN'): 3.524587,\n ('[-2:]:лы', 'NOUN'): 4.009171,\n ('[-2:]:лы', 'ADJS'): 2.374884,\n ('[-2:]::', 'PNCT'): 9.292395,\n ('[-2:]:В', 'PREP'): 8.867887,\n ('[-2:]:от', 'NOUN'): 1.927413,\n ('[-2:]:от', 'PRCL'): 6.433326,\n ('[-2:]:от', 'PREP'): 5.841776,\n ('[-2:]:от', 'ADJF'): 2.566092,\n ('[-2:]:от', 'ADVB'): 2.854821,\n ('[-2:]:от', 'NUMR'): 2.938602,\n ('[-2:]:ва', 'NOUN'): 4.951122,\n ('[-2:]:ва', 'ADVB'): 4.442413,\n ('[-2:]:ва', 'ADJS'): 4.65755,\n ('[-2:]:ва', 'NUMR'): 2.086315,\n ('[-2:]:…', 'PNCT'): 8.78101,\n ('[-2:]:ню', 'NOUN'): 2.439919,\n ('[-2:]:ню', 'VERB'): 3.701094,\n ('[-2:]:зм', 'NOUN'): 3.466824,\n ('[-2:]:ля', 'NOUN'): 4.240182,\n ('[-2:]:ля', 'PREP'): 6.395954,\n ('[-2:]:ля', 'GRND'): 2.350058,\n ('[-2:]:ля', 'INTJ'): 2.893126,\n ('[-2:]:пы', 'NOUN'): 4.09,\n ('[-2:]:ге', 'NOUN'): 3.175992,\n ('[-2:]:ге', 'INTJ'): 4.353578,\n ('[-2:]:ер', 'NOUN'): 3.477603,\n ('[-2:]:ер', 'VERB'): 2.985606,\n ('[-2:]:ер', 'CONJ'): 5.280464,\n ('[-2:]:ер', 'ADJS'): 2.411735,\n ('[-2:]:ст', 'NOUN'): 3.798605,\n ('[-2:]:ст', 'VERB'): 1.877617,\n ('[-2:]:ст', 'ADJS'): 1.589049,\n ('[-2:]:ек', 'NOUN'): 4.243892,\n ('[-2:]:ек', 'ADVB'): 1.185237,\n ('[-2:]:во', 'NOUN'): 3.61214,\n ('[-2:]:во', 'PREP'): 4.004967,\n ('[-2:]:во', 'ADVB'): 2.9014,\n ('[-2:]:во', 'NPRO'): 2.278768,\n ('[-2:]:во', 'CONJ'): 2.79686,\n ('[-2:]:во', 'ADJS'): 3.216213,\n ('[-2:]:а', 'CONJ'): 6.294176,\n ('[-2:]:До', 'PREP'): 5.126143,\n ('[-2:]:ис', 'NOUN'): 4.344787,\n ('[-2:]:ел', 'NOUN'): 2.757266,\n ('[-2:]:ел', 'VERB'): 6.043618,\n ('[-2:]:ца', 'NOUN'): 5.036327,\n ('[-2:]:ие', 'NOUN'): 4.583054,\n ('[-2:]:ие', 'PREP'): 1.212493,\n ('[-2:]:ие', 'ADJF'): 6.105554,\n ('[-2:]:ие', 'NPRO'): 2.636563,\n ('[-2:]:ие', 'PRTF'): 2.06562,\n ('[-2:]:цо', 'NOUN'): 2.195024,\n ('[-2:]:цо', 'ADVB'): 2.395172,\n ('[-2:]:уя', 'NOUN'): -0.128273,\n ('[-2:]:уя', 'GRND'): 5.445892,\n ('[-2:]:00', 'NUMB'): 7.069614,\n ('[-2:]:00', 'TIME'): 4.523294,\n ('[-2:]:00', 'DATE'): 3.252816,\n ('[-2:]:яч', 'NOUN'): 1.644745,\n ('[-2:]:яч', 'ADJS'): 3.220753,\n ('[-2:]:25', 'NUMB'): 6.115017,\n ('[-2:]:рд', 'NOUN'): 2.609988,\n ('[-2:]:рд', 'ADJS'): 1.996185,\n ('[-2:]:ор', 'NOUN'): 5.115343,\n ('[-2:]:рм', 'NOUN'): 2.607639,\n ('[-2:]:na', 'LATN'): 3.341072,\n ('[-2:]:ма', 'NOUN'): 4.229208,\n ('[-2:]:ма', 'ADJF'): 3.932882,\n ('[-2:]:ма', 'ADVB'): 3.545279,\n ('[-2:]:ма', 'ADJS'): 3.301046,\n ('[-2:]:ма', 'PRTS'): 1.980947,\n ('[-2:]:—', 'PNCT'): 10.2283,\n ('[-2:]:20', 'NUMB'): 6.306737,\n ('[-2:]:лн', 'NOUN'): 2.556982,\n ('[-2:]:ро', 'NOUN'): 2.329646,\n ('[-2:]:ро', 'PREP'): 5.260105,\n ('[-2:]:ро', 'ADVB'): 3.592613,\n ('[-2:]:ин', 'NOUN'): 4.38697,\n ('[-2:]:ин', 'PRCL'): 1.685338,\n ('[-2:]:ин', 'ADJF'): 2.8063,\n ('[-2:]:ль', 'NOUN'): 4.155227,\n ('[-2:]:ль', 'VERB'): 2.206055,\n ('[-2:]:ль', 'PREP'): 1.802772,\n ('[-2:]:ль', 'ADVB'): 2.813693,\n ('[-2:]:ль', 'CONJ'): 2.179214,\n ('[-2:]:ко', 'NOUN'): 2.41761,\n ('[-2:]:ко', 'PREP'): 2.378452,\n ('[-2:]:ко', 'ADVB'): 4.431503,\n ('[-2:]:ко', 'CONJ'): 4.492994,\n ('[-2:]:ко', 'ADJS'): 2.00049,\n ('[-2:]:ко', 'INTJ'): 1.544283,\n ('[-2:]:ЖЖ', 'NOUN'): 2.240964,\n ('[-2:]:су', 'NOUN'): 3.1313,\n ('[-2:]:су', 'ADJF'): 1.524863,\n ('[-2:]:ак', 'NOUN'): 2.432541,\n ('[-2:]:ак', 'ADVB'): 2.608876,\n ('[-2:]:ак', 'CONJ'): 4.638014,\n ('[-2:]:ак', 'INTJ'): 3.035635,\n ('[-2:]:бу', 'NOUN'): 3.658092,\n ('[-2:]:ча', 'NOUN'): 3.369584,\n ('[-2:]:ча', 'ADVB'): 1.170134,\n ('[-2:]:ча', 'GRND'): 3.595542,\n ('[-2:]:ев', 'NOUN'): 4.322373,\n ('[-2:]:ев', 'GRND'): 3.756099,\n ('[-2:]:за', 'NOUN'): 3.806673,\n ('[-2:]:за', 'PREP'): 6.491853,\n ('[-2:]:да', 'NOUN'): 4.055089,\n ('[-2:]:да', 'PRCL'): 2.492634,\n ('[-2:]:да', 'ADVB'): 5.524767,\n ('[-2:]:да', 'PRED'): 1.959689,\n ('[-2:]:да', 'CONJ'): 2.751775,\n ('[-2:]:да', 'ADJS'): 2.397539,\n ('[-2:]:да', 'INTJ'): 2.168157,\n ('[-2:]:1', 'NUMB'): 7.160958,\n ('[-2:]:)', 'PNCT'): 9.012053,\n ('[-2:]:Зу', 'NOUN'): 1.320891,\n ('[-2:]:;', 'PNCT'): 8.021106,\n ('[-2:]:им', 'NOUN'): 0.91758,\n ('[-2:]:им', 'VERB'): 3.234831,\n ('[-2:]:им', 'ADJF'): 5.696631,\n ('[-2:]:им', 'NPRO'): 4.120728,\n ('[-2:]:им', 'PRTF'): 4.667487,\n ('[-2:]:им', 'CONJ'): 0.585193,\n ('[-2:]:им', 'ADJS'): 1.856062,\n ('[-2:]:им', 'NUMR'): 2.90704,\n ('[-2:]:ну', 'NOUN'): 2.980265,\n ('[-2:]:ну', 'VERB'): 1.843742,\n ('[-2:]:ну', 'PRCL'): 2.528586,\n ('[-2:]:ну', 'ADJF'): 2.696132,\n ('[-2:]:ну', 'ADVB'): 1.867911,\n ('[-2:]:ну', 'INTJ'): 2.990772,\n ('[-2:]:50', 'NUMB'): 5.424056,\n ('[-2:]:50', 'TIME'): 3.566281,\n ('[-2:]:че', 'NOUN'): 0.953311,\n ('[-2:]:че', 'ADVB'): 1.488828,\n ('[-2:]:че', 'COMP'): 6.146378,\n ('[-2:]:че', 'CONJ'): 4.267624,\n ('[-2:]:10', 'NUMB'): 7.320053,\n ('[-2:]:ке', 'NOUN'): 4.86981,\n ('[-2:]:ию', 'NOUN'): 5.540687,\n ('[-2:]:(', 'PNCT'): 8.778489,\n ('[-2:]:бы', 'NOUN'): 2.985399,\n ('[-2:]:бы', 'PRCL'): 6.569804,\n ('[-2:]:бы', 'CONJ'): 4.331251,\n ('[-2:]:ТО', 'NOUN'): 2.629704,\n ('[-2:]:яц', 'NOUN'): 2.762273,\n ('[-2:]:Не', 'PRCL'): 7.604884,\n ('[-2:]:аж', 'NOUN'): 3.161637,\n ('[-2:]:из', 'NOUN'): -0.435849,\n ('[-2:]:из', 'PREP'): 6.586726,\n ('[-2:]:из', 'ADVB'): 3.176164,\n ('[-2:]:к', 'PREP'): 7.29809,\n ('[-2:]:Мы', 'NPRO'): 7.051217,\n ('[-2:]:ву', 'NOUN'): 3.570153,\n ('[-2:]:ву', 'VERB'): 2.480729,\n ('[-2:]:ву', 'ADVB'): 2.090409,\n ('[-2:]:Во', 'PREP'): 5.585167,\n ('[-2:]:мя', 'NOUN'): 3.257016,\n ('[-2:]:мя', 'ADVB'): 2.93214,\n ('[-2:]:мя', 'NUMR'): 4.532015,\n ('[-2:]:ка', 'NOUN'): 4.97468,\n ('[-2:]:ка', 'PRCL'): 2.914957,\n ('[-2:]:ка', 'ADVB'): 3.807648,\n ('[-2:]:ка', 'CONJ'): 3.511654,\n ('[-2:]:ка', 'ADJS'): 2.314719,\n ('[-2:]:ка', 'INTJ'): 1.723669,\n ('[-2:]:ав', 'NOUN'): 2.051736,\n ('[-2:]:ав', 'ADJS'): 3.577302,\n ('[-2:]:ав', 'GRND'): 5.594537,\n ('[-2:]:ще', 'NOUN'): 1.52338,\n ('[-2:]:ще', 'ADVB'): 2.648272,\n ('[-2:]:ще', 'COMP'): 5.657755,\n ('[-2:]:ще', 'ADJS'): 2.536441,\n ('[-2:]:ый', 'NOUN'): 1.268504,\n ('[-2:]:ый', 'ADJF'): 5.996527,\n ('[-2:]:ый', 'PRTF'): 2.174519,\n ('[-2:]:кс', 'NOUN'): 3.466706,\n ('[-2:]:РС', 'NOUN'): 1.615012,\n ('[-2:]:ку', 'NOUN'): 4.211962,\n ('[-2:]:ку', 'ADVB'): 2.900781,\n ('[-2:]:ку', 'CONJ'): 4.066827,\n ('[-2:]:ою', 'NOUN'): 0.788316,\n ('[-2:]:ою', 'ADJF'): 4.793332,\n ('[-2:]:ою', 'ADVB'): 0.958482,\n ('[-2:]:ою', 'NPRO'): 3.298614,\n ('[-2:]:ды', 'NOUN'): 4.014146,\n ('[-2:]:ды', 'ADVB'): 3.401037,\n ('[-2:]:ды', 'ADJS'): 2.529279,\n ('[-2:]:ov', 'LATN'): 2.685041,\n ('[-2:]:rt', 'LATN'): 2.02228,\n ('[-2:]:ts', 'LATN'): 3.295932,\n ('[-2:]:ец', 'NOUN'): 4.494918,\n ('[-2:]:ба', 'NOUN'): 4.600701,\n ('[-2:]:en', 'LATN'): 4.123905,\n ('[-2:]:др', 'NOUN'): 3.321949,\n ('[-2:]:др', 'ADJS'): 2.66359,\n ('[-2:]:ья', 'NOUN'): 5.47998,\n ('[-2:]:ья', 'ADJF'): 4.122134,\n ('[-2:]:ья', 'ADVB'): 2.343716,\n ('[-2:]:хе', 'NOUN'): 2.61846,\n ('[-2:]:ат', 'NOUN'): 3.294875,\n ('[-2:]:ат', 'VERB'): 4.304981,\n ('[-2:]:ат', 'ADVB'): 0.916712,\n ('[-2:]:ат', 'ADJS'): 3.603836,\n ('[-2:]:зя', 'NOUN'): 0.18774,\n ('[-2:]:зя', 'PRED'): 6.330781,\n ('[-2:]:ше', 'NOUN'): 0.167009,\n ('[-2:]:ше', 'PREP'): 0.822216,\n ('[-2:]:ше', 'ADJF'): 1.08916,\n ('[-2:]:ше', 'ADVB'): 0.876212,\n ('[-2:]:ше', 'COMP'): 7.903273,\n ('[-2:]:ах', 'NOUN'): 4.145266,\n ('[-2:]:ах', 'INTJ'): 4.423937,\n ('[-2:]:га', 'NOUN'): 4.946045,\n ('[-2:]:27', 'NUMB'): 5.358058,\n ('[-2:]:ез', 'NOUN'): 1.050139,\n ('[-2:]:ез', 'VERB'): 1.905775,\n ('[-2:]:ез', 'PREP'): 5.821274,\n ('[-2:]:хи', 'NOUN'): 3.177405,\n ('[-2:]:хи', 'INTJ'): 4.520579,\n ('[-2:]:er', 'LATN'): 5.233723,\n ('[-2:]:мы', 'NOUN'): 3.594072,\n ('[-2:]:мы', 'NPRO'): 5.856397,\n ('[-2:]:мы', 'ADJS'): 2.695564,\n ('[-2:]:мы', 'PRTS'): 2.892171,\n ('[-2:]:ФШ', 'NOUN'): 1.595822,\n ('[-2:]:чи', 'NOUN'): 3.589981,\n ('[-2:]:чи', 'VERB'): 1.716853,\n ('[-2:]:чи', 'GRND'): 2.380604,\n ('[-2:]:зу', 'NOUN'): 1.783789,\n ('[-2:]:зу', 'VERB'): 1.317317,\n ('[-2:]:зу', 'PREP'): 1.186541,\n ('[-2:]:зу', 'ADVB'): 4.874261,\n ('[-2:]:36', 'NUMB'): 5.463935,\n ('[-2:]:•', 'PNCT'): 8.854147,\n ('[-2:]:/', 'PNCT'): 7.056565,\n ('[-2:]:j', 'LATN'): 1.717484,\n ('[-2:]:сы', 'NOUN'): 4.206594,\n ('[-2:]:нь', 'NOUN'): 3.028633,\n ('[-2:]:нь', 'VERB'): 1.752937,\n ('[-2:]:нь', 'ADVB'): 5.215478,\n ('[-2:]:нь', 'INTJ'): 2.169222,\n ('[-2:]:уа', 'NOUN'): 1.675788,\n ('[-2:]:гу', 'NOUN'): 3.031548,\n ('[-2:]:гу', 'VERB'): 3.002203,\n ('[-2:]:гу', 'ADVB'): 1.927253,\n ('[-2:]:гу', 'INTJ'): 3.187177,\n ('[-2:]:сё', 'PRCL'): 4.265874,\n ('[-2:]:сё', 'ADJF'): 3.403136,\n ('[-2:]:ог', 'NOUN'): 2.84299,\n ('[-2:]:ог', 'VERB'): 3.178326,\n ('[-2:]:ог', 'ADJS'): 1.162897,\n ('[-2:]:%', 'PNCT'): 7.976784,\n ('[-2:]:бя', 'NOUN'): -0.07851,\n ('[-2:]:бя', 'NPRO'): 6.469368,\n ('[-2:]:ед', 'NOUN'): 1.377776,\n ('[-2:]:ед', 'PREP'): 5.107207,\n ('[-2:]:ед', 'ADVB'): 1.972887,\n ('[-2:]:ях', 'NOUN'): 3.86929,\n ('[-2:]:ои', 'NOUN'): 2.03345,\n ('[-2:]:ои', 'ADJF'): 5.306465,\n ('[-2:]:зе', 'NOUN'): 3.167779,\n ('[-2:]:дя', 'NOUN'): 2.441495,\n ('[-2:]:дя', 'GRND'): 5.78155,\n ('[-2:]:ёз', 'NOUN'): 0.275723,\n ('[-2:]:ёз', 'VERB'): 1.61375,\n ('[-2:]:ёз', 'ADVB'): 2.567402,\n ('[-2:]:22', 'NUMB'): 5.227954,\n ('[-2:]:у', 'PREP'): 6.130137,\n ('[-2:]:ас', 'NOUN'): 1.250655,\n ('[-2:]:ас', 'ADVB'): 5.297741,\n ('[-2:]:ас', 'NPRO'): 5.977709,\n ('[-2:]:ил', 'NOUN'): 2.773171,\n ('[-2:]:ил', 'VERB'): 7.498297,\n ('[-2:]:тв', 'NOUN'): 2.884121,\n ('[-2:]:тв', 'ADJS'): 2.314843,\n ('[-2:]:дь', 'NOUN'): 1.519336,\n ('[-2:]:дь', 'VERB'): 3.620688,\n ('[-2:]:дь', 'ADJF'): 1.500704,\n ('[-2:]:дь', 'ADVB'): 2.505719,\n ('[-2:]:дь', 'NPRO'): 3.431827,\n ('[-2:]:я', 'NPRO'): 8.013644,\n ('[-2:]:ёл', 'NOUN'): 0.549489,\n ('[-2:]:ёл', 'VERB'): 5.057277,\n ('[-2:]:од', 'NOUN'): 3.31194,\n ('[-2:]:од', 'PREP'): 5.483852,\n ('[-2:]:од', 'ADJS'): 1.604163,\n ('[-2:]:аю', 'NOUN'): 1.426561,\n ('[-2:]:аю', 'VERB'): 6.291028,\n ('[-2:]:24', 'NUMB'): 5.618184,\n ('[-2:]:яр', 'NOUN'): 1.836654,\n ('[-2:]:со', 'NOUN'): 1.249938,\n ('[-2:]:со', 'PREP'): 5.336284,\n ('[-2:]:bs', 'LATN'): 2.879439,\n ('[-2:]:26', 'NUMB'): 5.054453,\n ('[-2:]:30', 'NUMB'): 6.053261,\n ('[-2:]:30', 'TIME'): 4.955986,\n ('[-2:]:зы', 'NOUN'): 4.071843,\n ('[-2:]:ме', 'NOUN'): 3.703823,\n ('[-2:]:ме', 'PREP'): 5.334566,\n ('[-2:]:4', 'NUMB'): 7.057835,\n ('[-2:]:11', 'NUMB'): 6.451895,\n ('[-2:]:ич', 'NOUN'): 4.15503,\n ('[-2:]:ян', 'NOUN'): 3.139752,\n ('[-2:]:35', 'NUMB'): 4.680449,\n ('[-2:]:39', 'NUMB'): 4.84386,\n ('[-2:]:ёв', 'NOUN'): 2.158869,\n ('[-2:]:Те', 'ADJF'): 4.382331,\n ('[-2:]:ыл', 'VERB'): 6.657904,\n ('[-2:]:Вы', 'NPRO'): 6.738216,\n ('[-2:]:ёт', 'NOUN'): 2.062021,\n ('[-2:]:ёт', 'VERB'): 5.501193,\n ('[-2:]:ёт', 'PREP'): 1.242229,\n ('[-2:]:ди', 'NOUN'): 3.373783,\n ('[-2:]:ди', 'VERB'): 3.725252,\n ('[-2:]:ди', 'PREP'): 5.403125,\n ('[-2:]:ди', 'ADVB'): 1.981349,\n ('[-2:]:Я', 'NPRO'): 8.007335,\n ('[-2:]:ру', 'NOUN'): 4.161209,\n ('[-2:]:ру', 'VERB'): 2.840397,\n ('[-2:]:тя', 'NOUN'): 2.097784,\n ('[-2:]:тя', 'PRCL'): 3.507278,\n ('[-2:]:тя', 'PREP'): 3.07359,\n ('[-2:]:тя', 'CONJ'): 4.724463,\n ('[-2:]:тя', 'GRND'): 2.129177,\n ('[-2:]:б', 'PRCL'): 2.29948,\n ('[-2:]:12', 'NUMB'): 6.508406,\n ('[-2:]:06', 'NUMB'): 5.892254,\n ('[-2:]:15', 'NUMB'): 6.43362,\n ('[-2:]:58', 'NUMB'): 4.671518,\n ('[-2:]:ша', 'NOUN'): 3.568615,\n ('[-2:]:ша', 'ADJF'): 3.945776,\n ('[-2:]:ша', 'ADJS'): 1.622456,\n ('[-2:]:ша', 'GRND'): 2.31372,\n ('[-2:]:яя', 'NOUN'): -0.174272,\n ('[-2:]:яя', 'ADJF'): 5.331416,\n ('[-2:]:яя', 'GRND'): 3.80841,\n ('[-2:]:Со', 'PREP'): 4.466475,\n ('[-2:]:ём', 'NOUN'): 0.425889,\n ('[-2:]:ём', 'VERB'): 1.904303,\n ('[-2:]:ём', 'PREP'): 0.614079,\n ('[-2:]:ём', 'ADJF'): 2.224881,\n ('[-2:]:ём', 'ADVB'): 1.587754,\n ('[-2:]:ём', 'NPRO'): 2.306599,\n ('[-2:]:ём', 'CONJ'): 3.950105,\n ('[-2:]:ём', 'NUMR'): 1.810259,\n ('[-2:]:рс', 'NOUN'): 3.237426,\n ('[-2:]:Де', 'NOUN'): 1.01994,\n ('[-2:]:16', 'NUMB'): 5.916823,\n ('[-2:]:3', 'NUMB'): 6.994132,\n ('[-2:]:6', 'NUMB'): 6.505919,\n ('[-2:]:7', 'NUMB'): 6.185161,\n ('[-2:]:8', 'NUMB'): 6.087453,\n ('[-2:]:9', 'NUMB'): 5.85162,\n ('[-2:]:13', 'NUMB'): 5.925405,\n ('[-2:]:14', 'NUMB'): 5.363757,\n ('[-2:]:14', 'TIME'): 4.74782,\n ('[-2:]:17', 'NUMB'): 5.798986,\n ('[-2:]:18', 'NUMB'): 6.26773,\n ('[-2:]:19', 'NUMB'): 5.473845,\n ('[-2:]:21', 'NUMB'): 5.671657,\n ('[-2:]:23', 'NUMB'): 4.744612,\n ('[-2:]:23', 'TIME'): 3.35727,\n ('[-2:]:08', 'NUMB'): 5.857651,\n ('[-2:]:2', 'NUMB'): 7.060843,\n ('[-2:]:ia', 'LATN'): 4.098117,\n ('[-2:]:le', 'LATN'): 6.057513,\n ('[-2:]:ad', 'LATN'): 4.787568,\n ('[-2:]:На', 'PREP'): 7.161055,\n ('[-2:]:лл', 'NOUN'): 2.435921,\n ('[-2:]:ив', 'NOUN'): 1.00162,\n ('[-2:]:ив', 'PREP'): 4.757697,\n ('[-2:]:ив', 'ADVB'): 0.726089,\n ('[-2:]:ив', 'CONJ'): 2.396207,\n ('[-2:]:ив', 'ADJS'): 3.484021,\n ('[-2:]:ив', 'GRND'): 4.521627,\n ('[-2:]:RM', 'LATN'): 2.115738,\n ('[-2:]:is', 'LATN'): 4.092986,\n ('[-2:]:ША', 'NOUN'): 3.81927,\n ('[-2:]:ША', 'ADJF'): 1.888078,\n ('[-2:]:ху', 'NOUN'): 2.362778,\n ('[-2:]:ху', 'ADVB'): 2.525733,\n ('[-2:]:60', 'NUMB'): 6.002976,\n ('[-2:]:гм', 'NOUN'): 1.497051,\n ('[-2:]:ад', 'NOUN'): 1.6621,\n ('[-2:]:ад', 'PREP'): 4.438084,\n ('[-2:]:ад', 'ADVB'): 3.174229,\n ('[-2:]:ад', 'ADJS'): 2.854804,\n ('[-2:]:пи', 'NOUN'): 0.989995,\n ('[-2:]:пи', 'VERB'): 4.297359,\n ('[-2:]:мф', 'NOUN'): 2.009053,\n ('[-2:]:оё', 'ADJF'): 1.855664,\n ('[-2:]:рт', 'NOUN'): 3.963837,\n ('[-2:]:32', 'NUMB'): 5.041218,\n ('[-2:]:07', 'NUMB'): 6.008005,\n ('[-2:]:Ах', 'INTJ'): 6.1962,\n ('[-2:]:an', 'LATN'): 3.768604,\n ('[-2:]:me', 'LATN'): 3.607604,\n ('[-2:]:ct', 'LATN'): 2.311774,\n ('[-2:]:GP', 'LATN'): 2.090614,\n ('[-2:]:НК', 'NOUN'): 1.595792,\n ('[-2:]:щи', 'NOUN'): 3.517587,\n ('[-2:]:щи', 'VERB'): 2.177043,\n ('[-2:]:ck', 'LATN'): 3.265762,\n ('[-2:]:in', 'LATN'): 4.594726,\n ('[-2:]:he', 'LATN'): 3.897177,\n ('[-2:]:SR', 'LATN'): 0.918337,\n ('[-2:]:ай', 'NOUN'): 2.388422,\n ('[-2:]:ай', 'VERB'): 5.298759,\n ('[-2:]:ай', 'INTJ'): 2.530382,\n ('[-2:]:эй', 'NOUN'): 1.532461,\n ('[-2:]:ял', 'VERB'): 5.89451,\n ('[-2:]:Да', 'NOUN'): 0.237846,\n ('[-2:]:Да', 'PRCL'): 5.878984,\n ('[-2:]:Да', 'CONJ'): 2.459414,\n ('[-2:]:чь', 'NOUN'): 2.133071,\n ('[-2:]:чь', 'INFN'): 6.231973,\n ('[-2:]:чь', 'ADVB'): 2.587873,\n ('[-2:]:-', 'PNCT'): 8.928358,\n ('[-2:]:AU', 'LATN'): 2.041083,\n ('[-2:]:СБ', 'NOUN'): 0.526693,\n ('[-2:]:ха', 'NOUN'): 3.088032,\n ('[-2:]:ха', 'ADJS'): 1.648386,\n ('[-2:]:ха', 'INTJ'): 4.312215,\n ('[-2:]:цу', 'NOUN'): 3.842282,\n ('[-2:]:бе', 'NOUN'): 2.583289,\n ('[-2:]:бе', 'PRCL'): 2.322848,\n ('[-2:]:бе', 'NPRO'): 5.826396,\n ('[-2:]:ан', 'NOUN'): 4.190789,\n ('[-2:]:ан', 'PRTS'): 6.681174,\n ('[-2:]:фа', 'NOUN'): 3.579989,\n ('[-2:]:О', 'PREP'): 5.887431,\n ('[-2:]:О', 'INTJ'): 3.822511,\n ('[-2:]:нт', 'NOUN'): 4.884196,\n ('[-2:]:ея', 'NOUN'): 3.234775,\n ('[-2:]:ея', 'GRND'): 4.095971,\n ('[-2:]:+', 'SYMB'): 6.931466,\n ('[-2:]:=', 'SYMB'): 6.672292,\n ('[-2:]:ос', 'NOUN'): 3.360323,\n ('[-2:]:ос', 'VERB'): 1.771713,\n ('[-2:]:ос', 'ADJS'): 1.638836,\n ('[-2:]:,7', 'NUMB'): 4.277552,\n ('[-2:]:нс', 'NOUN'): 2.720397,\n ('[-2:]:51', 'NUMB'): 4.825197,\n ('[-2:]:..', 'PNCT'): 8.306105,\n ('[-2:]:нр', 'NOUN'): 1.366547,\n ('[-2:]:тх', 'ADJS'): 2.623366,\n ('[-2:]:80', 'NUMB'): 5.388948,\n ('[-2:]:83', 'NUMB'): 4.086901,\n ('[-2:]:зь', 'NOUN'): 1.189648,\n ('[-2:]:зь', 'PREP'): 3.143311,\n ('[-2:]:зь', 'ADVB'): 2.3341,\n ('[-2:]:об', 'NOUN'): 0.636826,\n ('[-2:]:об', 'PREP'): 4.966643,\n ('[-2:]:об', 'CONJ'): 1.761842,\n ('[-2:]:ьм', 'NOUN'): 3.095192,\n ('[-2:]:дю', 'NOUN'): 0.582133,\n ('[-2:]:оя', 'NOUN'): 1.806477,\n ('[-2:]:оя', 'ADJF'): 5.330964,\n ('[-2:]:ех', 'NOUN'): 0.518153,\n ('[-2:]:ех', 'ADJF'): 5.696505,\n ('[-2:]:ех', 'NUMR'): 4.015611,\n ('[-2:]:ёр', 'NOUN'): 3.44913,\n ('[-2:]:тр', 'NOUN'): 4.007129,\n ('[-2:]:аз', 'NOUN'): 2.860729,\n ('[-2:]:аз', 'ADVB'): 1.257195,\n ('[-2:]:аз', 'CONJ'): 1.446896,\n ('[-2:]:!!', 'PNCT'): 5.243067,\n ('[-2:]:рь', 'NOUN'): 2.572539,\n ('[-2:]:рь', 'VERB'): 2.112921,\n ('[-2:]:рь', 'PREP'): 1.866034,\n ('[-2:]:рь', 'ADVB'): 4.677511,\n ('[-2:]:ол', 'NOUN'): 2.416535,\n ('[-2:]:ол', 'PRCL'): 4.438176,\n ('[-2:]:ыт', 'NOUN'): 1.257609,\n ('[-2:]:ыт', 'PRTS'): 2.703798,\n ('[-2:]:ын', 'NOUN'): 2.976467,\n ('[-2:]:62', 'NUMB'): 3.435085,\n ('[-2:]:К', 'PREP'): 5.988703,\n ('[-2:]:71', 'NUMB'): 3.919928,\n ('[-2:]:79', 'NUMB'): 3.561346,\n ('[-2:]:оп', 'NOUN'): 1.696357,\n ('[-2:]:оп', 'INTJ'): 3.643313,\n ('[-2:]:№', 'SYMB'): 6.2991,\n ('[-2:]:52', 'NUMB'): 4.464091,\n ('[-2:]:40', 'NUMB'): 6.50344,\n ('[-2:]:лю', 'NOUN'): 2.842642,\n ('[-2:]:лю', 'VERB'): 3.853329,\n ('[-2:]:бо', 'NOUN'): -0.775854,\n ('[-2:]:бо', 'PREP'): 1.891703,\n ('[-2:]:бо', 'ADJF'): 2.357807,\n ('[-2:]:бо', 'ADVB'): 2.429353,\n ('[-2:]:бо', 'CONJ'): 4.954242,\n ('[-2:]:ε', 'GREK'): 7.532029,\n ('[-2:]:47', 'NUMB'): 4.761011,\n ('[-2:]:иц', 'NOUN'): 3.1782,\n ('[-2:]:кг', 'NOUN'): 0.757195,\n ('[-2:]:δ', 'GREK'): 3.304058,\n ('[-2:]:γ', 'GREK'): 3.304121,\n ('[-2:]:,9', 'NUMB'): 3.404773,\n ('[-2:]:η', 'GREK'): 4.717433,\n ('[-2:]:λ', 'GREK'): 4.595961,\n ('[-2:]:ζ', 'GREK'): 3.601208,\n ('[-2:]:МИ', 'NOUN'): 2.760829,\n ('[-2:]:ic', 'LATN'): 3.595018,\n ('[-2:]:28', 'NUMB'): 5.23649,\n ('[-2:]:щу', 'NOUN'): 1.423693,\n ('[-2:]:щу', 'VERB'): 3.438908,\n ('[-2:]:чу', 'NOUN'): 2.204135,\n ('[-2:]:чу', 'VERB'): 4.170926,\n ('[-2:]:чу', 'ADVB'): 2.370401,\n ('[-2:]:се', 'NOUN'): 2.716204,\n ('[-2:]:се', 'PRCL'): 4.791788,\n ('[-2:]:се', 'ADVB'): 3.145372,\n ('[-2:]:S', 'LATN'): 3.352839,\n ('[-2:]:m', 'LATN'): 2.373907,\n ('[-2:]:C', 'LATN'): 3.551125,\n ('[-2:]:L', 'LATN'): 1.947735,\n ('[-2:]:hm', 'LATN'): 1.743058,\n ('[-2:]:31', 'NUMB'): 4.445583,\n ('[-2:]:31', 'DATE'): 3.658479,\n ('[-2:]:09', 'NUMB'): 6.002587,\n ('[-2:]:сю', 'ADJF'): 5.337549,\n ('[-2:]:ск', 'NOUN'): 3.384095,\n ('[-2:]:сс', 'NOUN'): 3.657478,\n ('[-2:]:пе', 'NOUN'): 2.847891,\n ('[-2:]:ёх', 'NUMR'): 5.702643,\n ('[-2:]:т', 'ADVB'): 1.856812,\n ('[-2:]:т', 'CONJ'): 3.412251,\n ('[-2:]:е', 'VERB'): 4.056658,\n ('[-2:]:ар', 'NOUN'): 3.631721,\n ('[-2:]:,6', 'NUMB'): 4.760187,\n ('[-2:]:,1', 'NUMB'): 3.384226,\n ('[-2:]:У', 'PREP'): 6.29889,\n ('[-2:]:ni', 'LATN'): 2.076909,\n ('[-2:]:жд', 'NOUN'): 1.402851,\n ('[-2:]:or', 'LATN'): 2.863951,\n ('[-2:]:os', 'LATN'): 1.392749,\n ('[-2:]:ld', 'LATN'): 2.442812,\n ('[-2:]:of', 'LATN'): 2.287514,\n ('[-2:]:ft', 'LATN'): 4.590471,\n ('[-2:]:ne', 'LATN'): 4.722222,\n ('[-2:]:70', 'NUMB'): 5.206275,\n ('[-2:]:ьф', 'NOUN'): 1.940652,\n ('[-2:]:37', 'NUMB'): 4.114164,\n ('[-2:]:иб', 'VERB'): 3.766765,\n ('[-2:]:42', 'NUMB'): 4.687696,\n ('[-2:]:98', 'NUMB'): 5.043234,\n ('[-2:]:см', 'VERB'): 3.575374,\n ('[-2:]:es', 'LATN'): 4.17686,\n ('[-2:]:уб', 'NOUN'): 2.103141,\n ('[-2:]:$', 'SYMB'): 5.567117,\n ('[-2:]:86', 'NUMB'): 3.998847,\n ('[-2:]:02', 'NUMB'): 5.381282,\n ('[-2:]:би', 'NOUN'): 2.124061,\n ('[-2:]:би', 'VERB'): 1.449792,\n ('[-2:]:45', 'NUMB'): 4.677952,\n ('[-2:]:69', 'NUMB'): 4.346224,\n ('[-2:]:90', 'NUMB'): 5.47945,\n ('[-2:]:96', 'NUMB'): 5.2063,\n ('[-2:]:ён', 'NOUN'): 1.163449,\n ('[-2:]:ён', 'PRTS'): 5.46958,\n ('[-2:]:04', 'NUMB'): 5.251686,\n ('[-2:]:ип', 'NOUN'): 3.240574,\n ('[-2:]:ke', 'LATN'): 3.646423,\n ('[-2:]:on', 'LATN'): 4.922792,\n ('[-2:]:йн', 'NOUN'): 1.569979,\n ('[-2:]:йн', 'ADVB'): 2.684141,\n ('[-2:]:75', 'NUMB'): 5.296638,\n ('[-2:]:99', 'NUMB'): 5.129643,\n ('[-2:]:01', 'NUMB'): 4.812762,\n ('[-2:]:01', 'DATE'): 3.197035,\n ('[-2:]:05', 'NUMB'): 5.156914,\n ('[-2:]:56', 'NUMB'): 4.439315,\n ('[-2:]:57', 'NUMB'): 5.136835,\n ('[-2:]:64', 'NUMB'): 4.382443,\n ('[-2:]:65', 'NUMB'): 4.94715,\n ('[-2:]:66', 'NUMB'): 4.343762,\n ('[-2:]:67', 'NUMB'): 4.083992,\n ('[-2:]:92', 'NUMB'): 4.094364,\n ('[-2:]:93', 'NUMB'): 4.435808,\n ('[-2:]:94', 'NUMB'): 4.108038,\n ('[-2:]:95', 'NUMB'): 4.210961,\n ('[-2:]:97', 'NUMB'): 4.6061,\n ('[-2:]:03', 'NUMB'): 5.519063,\n ('[-2:]:74', 'NUMB'): 3.078507,\n ('[-2:]:48', 'NUMB'): 4.336349,\n ('[-2:]:63', 'NUMB'): 4.515565,\n ('[-2:]:77', 'NUMB'): 4.225148,\n ('[-2:]:85', 'NUMB'): 4.12014,\n ('[-2:]:*', 'PNCT'): 7.573424,\n ('[-2:]:ФА', 'NOUN'): 2.262819,\n ('[-2:]:68', 'NUMB'): 4.663838,\n ('[-2:]:91', 'NUMB'): 5.165509,\n ('[-2:]:33', 'NUMB'): 4.121944,\n ('[-2:]:дж', 'NOUN'): 2.760068,\n ...}"
     },
     "execution_count": 42,
     "metadata": {},
     "output_type": "execute_result"
    }
   ],
   "source": [
    "crf.state_features_  # возвращает веса между признаками и метками"
   ],
   "metadata": {
    "collapsed": false,
    "pycharm": {
     "name": "#%%\n"
    }
   }
  },
  {
   "cell_type": "markdown",
   "source": [
    "Определяем точность"
   ],
   "metadata": {
    "collapsed": false,
    "pycharm": {
     "name": "#%% md\n"
    }
   }
  },
  {
   "cell_type": "code",
   "execution_count": 43,
   "outputs": [
    {
     "name": "stdout",
     "output_type": "stream",
     "text": [
      "              precision    recall  f1-score   support\n",
      "\n",
      "        NOUN      0.667     1.000     0.800         2\n",
      "         ADJ      1.000     0.500     0.667         2\n",
      "        VERB      0.000     0.000     0.000         1\n",
      "\n",
      "    accuracy                          0.600         5\n",
      "   macro avg      0.556     0.500     0.489         5\n",
      "weighted avg      0.667     0.600     0.587         5\n",
      "\n"
     ]
    }
   ],
   "source": [
    "# Сами определите точность классификации\n",
    "# Пример, как будто мы определяли классы из y_true\n",
    "# Определились как будто y_pred\n",
    "\n",
    "y_true =['NOUN', 'ADJ', 'ADJ', 'VERB', 'NOUN']\n",
    "y_pred =['NOUN', 'ADJ', 'VERB', 'NOUN', 'NOUN']\n",
    "\n",
    "from sklearn import metrics\n",
    "\n",
    "print(metrics.classification_report(y_true, y_pred, labels=['NOUN', 'ADJ', 'VERB'], digits=3))\n",
    "\n",
    "# metrics.precision_score() — можно напрямую посчитать точность, например"
   ],
   "metadata": {
    "collapsed": false,
    "pycharm": {
     "name": "#%%\n"
    }
   }
  },
  {
   "cell_type": "markdown",
   "source": [
    "Придумайте больше признаков, сделайте обучающий и тестовый корпусы, вычислите качество классификации. Дополнительно, подберите гиперпараметры для обучения crf.\n",
    "\n",
    "Код: [https://sklearn-crfsuite.readthedocs.io/en/latest/tutorial.html](https://sklearn-crfsuite.readthedocs.io/en/latest/tutorial.html)"
   ],
   "metadata": {
    "collapsed": false,
    "pycharm": {
     "name": "#%% md\n"
    }
   }
  }
 ],
 "metadata": {
  "kernelspec": {
   "display_name": "Python 3",
   "language": "python",
   "name": "python3"
  },
  "language_info": {
   "codemirror_mode": {
    "name": "ipython",
    "version": 2
   },
   "file_extension": ".py",
   "mimetype": "text/x-python",
   "name": "python",
   "nbconvert_exporter": "python",
   "pygments_lexer": "ipython2",
   "version": "2.7.6"
  }
 },
 "nbformat": 4,
 "nbformat_minor": 0
}