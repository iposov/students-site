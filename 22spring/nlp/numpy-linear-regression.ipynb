{
 "cells": [
  {
   "cell_type": "code",
   "execution_count": 8,
   "metadata": {
    "collapsed": true
   },
   "outputs": [
    {
     "name": "stdout",
     "output_type": "stream",
     "text": [
      "[10 20 30]\n"
     ]
    },
    {
     "data": {
      "text/plain": "array([10, 20, 30])"
     },
     "execution_count": 8,
     "metadata": {},
     "output_type": "execute_result"
    }
   ],
   "source": [
    "import numpy as np\n",
    "\n",
    "x = np.array([10, 20, 30])\n",
    "print(x)\n",
    "x"
   ]
  },
  {
   "cell_type": "code",
   "execution_count": 7,
   "outputs": [
    {
     "data": {
      "text/plain": "array([[10, 20],\n       [30, 40]])"
     },
     "execution_count": 7,
     "metadata": {},
     "output_type": "execute_result"
    }
   ],
   "source": [
    "y = np.array([[10, 20], [30, 40]])\n",
    "y"
   ],
   "metadata": {
    "collapsed": false,
    "pycharm": {
     "name": "#%%\n"
    }
   }
  },
  {
   "cell_type": "markdown",
   "source": [
    "Операции над матрицами можно записывать одним действием, без циклов:\n"
   ],
   "metadata": {
    "collapsed": false,
    "pycharm": {
     "name": "#%% md\n"
    }
   }
  },
  {
   "cell_type": "code",
   "execution_count": 19,
   "outputs": [
    {
     "data": {
      "text/plain": "array([11, 22, 33])"
     },
     "execution_count": 19,
     "metadata": {},
     "output_type": "execute_result"
    }
   ],
   "source": [
    "a = np.array([10, 20, 30])\n",
    "b = np.array([1, 2, 3])\n",
    "# c = np.array(range(10))\n",
    "\n",
    "a + b  # сумма поэлементно\n",
    "# print(c)"
   ],
   "metadata": {
    "collapsed": false,
    "pycharm": {
     "name": "#%%\n"
    }
   }
  },
  {
   "cell_type": "code",
   "execution_count": 10,
   "outputs": [
    {
     "data": {
      "text/plain": "array([10, 40, 90])"
     },
     "execution_count": 10,
     "metadata": {},
     "output_type": "execute_result"
    }
   ],
   "source": [
    "a * b # перемножил поэлементно\n"
   ],
   "metadata": {
    "collapsed": false,
    "pycharm": {
     "name": "#%%\n"
    }
   }
  },
  {
   "cell_type": "code",
   "execution_count": 11,
   "outputs": [
    {
     "data": {
      "text/plain": "array([2.30258509, 2.99573227, 3.40119738])"
     },
     "execution_count": 11,
     "metadata": {},
     "output_type": "execute_result"
    }
   ],
   "source": [
    "np.log(a)  # логарифм от каждого элемента\n",
    "# не log(a), потому что этот логарифм работает для чисел, а не для матриц"
   ],
   "metadata": {
    "collapsed": false,
    "pycharm": {
     "name": "#%%\n"
    }
   }
  },
  {
   "cell_type": "code",
   "execution_count": 14,
   "outputs": [
    {
     "data": {
      "text/plain": "[<matplotlib.lines.Line2D at 0x7fd86692ad30>]"
     },
     "execution_count": 14,
     "metadata": {},
     "output_type": "execute_result"
    },
    {
     "data": {
      "text/plain": "<Figure size 432x288 with 1 Axes>",
      "image/png": "[encoded data removed]"
     },
     "metadata": {
      "needs_background": "light"
     },
     "output_type": "display_data"
    }
   ],
   "source": [
    "# рисование гафиков работает для массивов numpy тоже\n",
    "from matplotlib.pyplot import plot\n",
    "plot(a, b, 'o')"
   ],
   "metadata": {
    "collapsed": false,
    "pycharm": {
     "name": "#%%\n"
    }
   }
  },
  {
   "cell_type": "markdown",
   "source": [
    "# Решение задачи линейной регрессии\n"
   ],
   "metadata": {
    "collapsed": false,
    "pycharm": {
     "name": "#%% md\n"
    }
   }
  },
  {
   "cell_type": "code",
   "execution_count": 34,
   "outputs": [
    {
     "data": {
      "text/plain": "array([[0. , 1. , 2. , 1.5],\n       [2.2, 4.9, 8.1, 6.4]])"
     },
     "execution_count": 34,
     "metadata": {},
     "output_type": "execute_result"
    }
   ],
   "source": [
    "# как будто у нас y = 3x + 2 + err\n",
    "p1 = [0, 2.2]  # (0, 2)\n",
    "p2 = [1, 4.9]  # (1, 5)\n",
    "p3 = [2, 8.1]  # (2, 8)\n",
    "p4 = [1.5, 6.4] # [1.5, 6.5]\n",
    "\n",
    "all_points = np.array([p1, p2, p3, p4])\n",
    "all_points_transposed = all_points.transpose()  # повернуть матрицу, поменять местами x и y (all_points.T)\n",
    "\n",
    "all_points_transposed"
   ],
   "metadata": {
    "collapsed": false,
    "pycharm": {
     "name": "#%%\n"
    }
   }
  },
  {
   "cell_type": "code",
   "execution_count": 35,
   "outputs": [
    {
     "data": {
      "text/plain": "[<matplotlib.lines.Line2D at 0x7fd8668543a0>]"
     },
     "execution_count": 35,
     "metadata": {},
     "output_type": "execute_result"
    },
    {
     "data": {
      "text/plain": "<Figure size 432x288 with 1 Axes>",
      "image/png": "[encoded data removed]"
     },
     "metadata": {
      "needs_background": "light"
     },
     "output_type": "display_data"
    }
   ],
   "source": [
    "plot(all_points_transposed[0], all_points_transposed[1], 'o')\n"
   ],
   "metadata": {
    "collapsed": false,
    "pycharm": {
     "name": "#%%\n"
    }
   }
  },
  {
   "cell_type": "code",
   "execution_count": 42,
   "outputs": [
    {
     "data": {
      "text/plain": "array([[0. ],\n       [1. ],\n       [2. ],\n       [1.5]])"
     },
     "execution_count": 42,
     "metadata": {},
     "output_type": "execute_result"
    }
   ],
   "source": [
    "from sklearn.linear_model import LinearRegression\n",
    "\n",
    "reg = LinearRegression()  # создание модели\n",
    "X = all_points_transposed[0].reshape(-1, 1)  # делаем матрицу из 1 столбца и строк, чтобы всё поместилось\n",
    "X\n"
   ],
   "metadata": {
    "collapsed": false,
    "pycharm": {
     "name": "#%%\n"
    }
   }
  },
  {
   "cell_type": "code",
   "execution_count": 43,
   "outputs": [
    {
     "data": {
      "text/plain": "LinearRegression()"
     },
     "execution_count": 43,
     "metadata": {},
     "output_type": "execute_result"
    }
   ],
   "source": [
    "reg.fit(X, all_points_transposed[1])  # обучить\n"
   ],
   "metadata": {
    "collapsed": false,
    "pycharm": {
     "name": "#%%\n"
    }
   }
  },
  {
   "cell_type": "code",
   "execution_count": 44,
   "outputs": [
    {
     "name": "stdout",
     "output_type": "stream",
     "text": [
      "k = [2.92571429], b = 2.1085714285714303\n"
     ]
    }
   ],
   "source": [
    "print(f'k = {reg.coef_}, b = {reg.intercept_}')\n"
   ],
   "metadata": {
    "collapsed": false,
    "pycharm": {
     "name": "#%%\n"
    }
   }
  },
  {
   "cell_type": "markdown",
   "source": [],
   "metadata": {
    "collapsed": false,
    "pycharm": {
     "name": "#%% md\n"
    }
   }
  },
  {
   "cell_type": "markdown",
   "source": [
    "Еще раз то же самое, но будем работать с матрицами чуть иначе\n"
   ],
   "metadata": {
    "collapsed": false,
    "pycharm": {
     "name": "#%% md\n"
    }
   }
  },
  {
   "cell_type": "code",
   "execution_count": 70,
   "outputs": [
    {
     "name": "stdout",
     "output_type": "stream",
     "text": [
      "[[0.  2.2]\n",
      " [1.  4.9]\n",
      " [2.  8.1]\n",
      " [1.5 6.4]]\n"
     ]
    }
   ],
   "source": [
    "# как будто у нас y = 3x + 2 + err\n",
    "p1 = [0, 2.2]  # (0, 2)\n",
    "p2 = [1, 4.9]  # (1, 5)\n",
    "p3 = [2, 8.1]  # (2, 8)\n",
    "p4 = [1.5, 6.4] # [1.5, 6.5]\n",
    "\n",
    "all_points = np.array([p1, p2, p3, p4])\n",
    "print(all_points)"
   ],
   "metadata": {
    "collapsed": false,
    "pycharm": {
     "name": "#%%\n"
    }
   }
  },
  {
   "cell_type": "code",
   "execution_count": 73,
   "outputs": [
    {
     "name": "stdout",
     "output_type": "stream",
     "text": [
      "1.0\n",
      "8.1\n",
      "b\n",
      "bcd\n",
      "bcdef\n",
      "abcd\n",
      "abcdef\n",
      "[1. 2.]\n",
      "[0.  1.  2.  1.5]\n",
      "[[0.  2.2]\n",
      " [1.  4.9]]\n"
     ]
    }
   ],
   "source": [
    "print(all_points[1, 0])  # первая строка, 0-ой элемент\n",
    "print(all_points[2, 1])  # вторая строка, первый элемент\n",
    "print(\"abcdef\"[1])\n",
    "print(\"abcdef\"[1:4])\n",
    "print(\"abcdef\"[1:]) # с первого индекса до конца\n",
    "print(\"abcdef\"[:4]) # с начала до 4-го индеса\n",
    "print(\"abcdef\"[:])  # с начала до конца\n",
    "print(all_points[1:3, 0]) # строки с первой по вторую (третью не включая), столбец 0\n",
    "print(all_points[:, 0]) # строки с начала до конца (третью не включая), столбец 0, весь столбец\n",
    "print(all_points[:2, :]) # первые две строки"
   ],
   "metadata": {
    "collapsed": false,
    "pycharm": {
     "name": "#%%\n"
    }
   }
  },
  {
   "cell_type": "code",
   "execution_count": 75,
   "outputs": [
    {
     "data": {
      "text/plain": "[<matplotlib.lines.Line2D at 0x7fd863cf03a0>]"
     },
     "execution_count": 75,
     "metadata": {},
     "output_type": "execute_result"
    },
    {
     "data": {
      "text/plain": "<Figure size 432x288 with 1 Axes>",
      "image/png": "[encoded data removed]"
     },
     "metadata": {
      "needs_background": "light"
     },
     "output_type": "display_data"
    }
   ],
   "source": [
    "plot(all_points[:, 0], all_points[:, 1], 'o')\n"
   ],
   "metadata": {
    "collapsed": false,
    "pycharm": {
     "name": "#%%\n"
    }
   }
  },
  {
   "cell_type": "code",
   "execution_count": 79,
   "outputs": [
    {
     "name": "stdout",
     "output_type": "stream",
     "text": [
      "[[0. ]\n",
      " [1. ]\n",
      " [2. ]\n",
      " [1.5]]\n",
      "k = [2.92571429], b = 2.1085714285714303\n"
     ]
    }
   ],
   "source": [
    "reg = LinearRegression()\n",
    "X = all_points[:, 0:1] # с 0 по 0 столбец, не просто 0\n",
    "print(X)\n",
    "reg.fit(X, all_points[:, 1])\n",
    "print(f'k = {reg.coef_}, b = {reg.intercept_}')"
   ],
   "metadata": {
    "collapsed": false,
    "pycharm": {
     "name": "#%%\n"
    }
   }
  },
  {
   "cell_type": "code",
   "execution_count": 81,
   "outputs": [
    {
     "name": "stdout",
     "output_type": "stream",
     "text": [
      "10\n",
      "30\n",
      "20\n"
     ]
    }
   ],
   "source": [
    "import nltk\n",
    "fd = nltk.FreqDist([10, 10, 10, 20, 30, 30])\n",
    "for x in fd:\n",
    "    print(x)"
   ],
   "metadata": {
    "collapsed": false,
    "pycharm": {
     "name": "#%%\n"
    }
   }
  },
  {
   "cell_type": "code",
   "execution_count": null,
   "outputs": [],
   "source": [],
   "metadata": {
    "collapsed": false,
    "pycharm": {
     "name": "#%%\n"
    }
   }
  }
 ],
 "metadata": {
  "kernelspec": {
   "display_name": "Python 3",
   "language": "python",
   "name": "python3"
  },
  "language_info": {
   "codemirror_mode": {
    "name": "ipython",
    "version": 2
   },
   "file_extension": ".py",
   "mimetype": "text/x-python",
   "name": "python",
   "nbconvert_exporter": "python",
   "pygments_lexer": "ipython2",
   "version": "2.7.6"
  }
 },
 "nbformat": 4,
 "nbformat_minor": 0
}