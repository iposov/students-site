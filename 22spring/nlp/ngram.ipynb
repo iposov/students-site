{
 "cells": [
  {
   "cell_type": "code",
   "execution_count": 1,
   "outputs": [
    {
     "name": "stdout",
     "output_type": "stream",
     "text": [
      "[[('<s>',), ('<s>', 'я'), ('я',), ('я', 'вижу'), ('вижу',), ('вижу', 'стол'), ('стол',), ('стол', '</s>'), ('</s>',)], [('<s>',), ('<s>', 'я'), ('я',), ('я', 'вижу'), ('вижу',), ('вижу', 'стул'), ('стул',), ('стул', '</s>'), ('</s>',)], [('<s>',), ('<s>', 'я'), ('я',), ('я', 'вижу'), ('вижу',), ('вижу', 'сыр'), ('сыр',), ('сыр', '</s>'), ('</s>',)], [('<s>',), ('<s>', 'я'), ('я',), ('я', 'ем'), ('ем',), ('ем', 'сыр'), ('сыр',), ('сыр', '</s>'), ('</s>',)], [('<s>',), ('<s>', 'я'), ('я',), ('я', 'стол'), ('стол',), ('стол', '</s>'), ('</s>',)]]\n",
      "['<s>', 'я', 'вижу', 'стол', '</s>', '<s>', 'я', 'вижу', 'стул', '</s>', '<s>', 'я', 'вижу', 'сыр', '</s>', '<s>', 'я', 'ем', 'сыр', '</s>', '<s>', 'я', 'стол', '</s>']\n",
      "[]\n"
     ]
    }
   ],
   "source": [
    "from nltk.lm.preprocessing import padded_everygram_pipeline\n",
    "\n",
    "sentences = [\n",
    "    [\"я\", \"вижу\", \"стол\"],\n",
    "    [\"я\", \"вижу\", \"стул\"],\n",
    "    [\"я\", \"вижу\", \"сыр\"],\n",
    "    [\"я\", \"ем\", \"сыр\"],\n",
    "    [\"я\", \"стол\"]\n",
    "]\n",
    "\n",
    "n = 2\n",
    "n_grams, words = padded_everygram_pipeline(n, sentences)\n",
    "\n",
    "print([list(sent) for sent in n_grams])\n",
    "# Список всех слов подряд, с уже добавленными словами <s> </s>\n",
    "print(list(words))\n",
    "\n",
    "# внимание, второй проход по n_grams, words невозможен\n",
    "print(list(words))  # пусто!"
   ],
   "metadata": {
    "collapsed": false,
    "pycharm": {
     "name": "#%%\n"
    }
   }
  },
  {
   "cell_type": "code",
   "execution_count": 2,
   "outputs": [],
   "source": [
    "from nltk.lm import MLE\n",
    "\n",
    "n = 2\n",
    "n_grams, words = padded_everygram_pipeline(n, sentences)\n",
    "model = MLE(n) # Модель MLE означает отсутствие сглаживания\n",
    "model.fit(n_grams, words)  # обучаем"
   ],
   "metadata": {
    "collapsed": false,
    "pycharm": {
     "name": "#%%\n"
    }
   }
  },
  {
   "cell_type": "markdown",
   "source": [
    "Теперь внутри `model` содержится таблица вероятностей $P(u|w)$.\n"
   ],
   "metadata": {
    "collapsed": false,
    "pycharm": {
     "name": "#%% md\n"
    }
   }
  },
  {
   "cell_type": "code",
   "source": [
    "model.score('вижу', ['я'])  # вероятность \"вижу\" после слов 'я'"
   ],
   "metadata": {
    "collapsed": false,
    "pycharm": {
     "name": "#%%\n"
    }
   },
   "execution_count": 3,
   "outputs": [
    {
     "data": {
      "text/plain": "0.6"
     },
     "execution_count": 3,
     "metadata": {},
     "output_type": "execute_result"
    }
   ]
  },
  {
   "cell_type": "markdown",
   "source": [
    "!!! Это как наши $\\frac35$!!\n",
    "А что для 3-грамм?"
   ],
   "metadata": {
    "collapsed": false,
    "pycharm": {
     "name": "#%% md\n"
    }
   }
  },
  {
   "cell_type": "code",
   "execution_count": 4,
   "outputs": [
    {
     "name": "stdout",
     "output_type": "stream",
     "text": [
      "0.3333333333333333\n",
      "0.6\n"
     ]
    }
   ],
   "source": [
    "n = 3\n",
    "n_grams, words = padded_everygram_pipeline(n, sentences)\n",
    "model = MLE(n) # Модель MLE означает отсутствие сглаживания\n",
    "model.fit(n_grams, words)  # обучаем\n",
    "\n",
    "print(model.score('сыр', ['я', 'вижу']))\n",
    "print(model.score('вижу', ['я']))"
   ],
   "metadata": {
    "collapsed": false,
    "pycharm": {
     "name": "#%%\n"
    }
   }
  },
  {
   "cell_type": "markdown",
   "source": [
    "## Сглаживание Lidstone\n",
    "при $\\lambda=1$ это называют сглаживанием Лапласа"
   ],
   "metadata": {
    "collapsed": false,
    "pycharm": {
     "name": "#%% md\n"
    }
   }
  },
  {
   "cell_type": "code",
   "execution_count": 16,
   "outputs": [
    {
     "name": "stdout",
     "output_type": "stream",
     "text": [
      "0.2857142857142857\n",
      "0.2857142857142857\n"
     ]
    }
   ],
   "source": [
    "from nltk.lm import Lidstone\n",
    "\n",
    "n = 2\n",
    "n_grams, words = padded_everygram_pipeline(n, sentences)\n",
    "model = Lidstone(1, n)  # добавление 1 в числителе, n размер n-грамм\n",
    "model.fit(n_grams, words)  # обучаем\n",
    "\n",
    "print(model.score('вижу', ['я']))\n",
    "print(4/14) # кроме наших 13 слов есть еще волшебное слово UNKN (неизвестное)\n"
   ],
   "metadata": {
    "collapsed": false,
    "pycharm": {
     "name": "#%%\n"
    }
   }
  },
  {
   "cell_type": "markdown",
   "source": [
    "Для оценки модели вычислим P(другого текста)\n"
   ],
   "metadata": {
    "collapsed": false,
    "pycharm": {
     "name": "#%% md\n"
    }
   }
  },
  {
   "cell_type": "code",
   "execution_count": 6,
   "outputs": [
    {
     "name": "stdout",
     "output_type": "stream",
     "text": [
      "['<s>', 'я', 'вижу', '</s>']\n",
      "[('<s>', 'я'), ('я', 'вижу'), ('вижу', '</s>')]\n",
      "4.610436292058448\n"
     ]
    }
   ],
   "source": [
    "test_sentence = [\"я\", \"вижу\"]\n",
    "\n",
    "from nltk.lm.preprocessing import pad_both_ends\n",
    "from nltk import ngrams\n",
    "\n",
    "n = 2\n",
    "padded_sentence = pad_both_ends(test_sentence, n)  # добавляем <s>\n",
    "print(list(padded_sentence))\n",
    "\n",
    "padded_sentence = pad_both_ends(test_sentence, n)  # добавляем <s>\n",
    "padded_sentence_ngrams = ngrams(padded_sentence, n)\n",
    "print(list(padded_sentence_ngrams))\n",
    "\n",
    "padded_sentence = pad_both_ends(test_sentence, n)  # добавляем <s>\n",
    "padded_sentence_ngrams = ngrams(padded_sentence, n)\n",
    "print(model.perplexity(padded_sentence_ngrams))"
   ],
   "metadata": {
    "collapsed": false,
    "pycharm": {
     "name": "#%%\n"
    }
   }
  },
  {
   "cell_type": "markdown",
   "source": [
    "## Сглаживание Kneyser-Ney\n"
   ],
   "metadata": {
    "collapsed": false,
    "pycharm": {
     "name": "#%% md\n"
    }
   }
  },
  {
   "cell_type": "code",
   "execution_count": 22,
   "outputs": [
    {
     "name": "stdout",
     "output_type": "stream",
     "text": [
      "0.5866666666666667\n"
     ]
    }
   ],
   "source": [
    "from nltk.lm import KneserNeyInterpolated\n",
    "model = KneserNeyInterpolated(n, 0.1)  # вычитаем 0.1 из числителя\n",
    "# далее аналогично Lidstone\n",
    "n = 2\n",
    "n_grams, words = padded_everygram_pipeline(n, sentences)\n",
    "model.fit(n_grams, words)\n",
    "print(model.score('вижу', ['я']))"
   ],
   "metadata": {
    "collapsed": false,
    "pycharm": {
     "name": "#%%\n"
    }
   }
  },
  {
   "cell_type": "markdown",
   "source": [
    "## Вычисление качества модели, perplexity\n"
   ],
   "metadata": {
    "collapsed": false,
    "pycharm": {
     "name": "#%% md\n"
    }
   }
  },
  {
   "cell_type": "code",
   "execution_count": 12,
   "outputs": [
    {
     "name": "stdout",
     "output_type": "stream",
     "text": [
      "['<s>', 'мы', 'слова', 'одного', 'предложения', '</s>']\n",
      "[('<s>', 'мы'), ('мы', 'слова'), ('слова', 'одного'), ('одного', 'предложения'), ('предложения', '</s>')]\n"
     ]
    }
   ],
   "source": [
    "from nltk.lm.preprocessing import pad_both_ends\n",
    "from nltk import ngrams\n",
    "\n",
    "n = 2\n",
    "# сначала нужно добавить символы начала и конца предложения\n",
    "sentence = ['мы', 'слова', 'одного', 'предложения']\n",
    "padded_sentence = pad_both_ends(sentence, n)\n",
    "print(list(padded_sentence))\n",
    "\n",
    "# после распечатки padded_sentence стух, поэтому создадим его заново\n",
    "padded_sentence = pad_both_ends(sentence, n)\n",
    "all_sentence_n_grams = ngrams(padded_sentence, n)\n",
    "print(list(all_sentence_n_grams))"
   ],
   "metadata": {
    "collapsed": false,
    "pycharm": {
     "name": "#%%\n"
    }
   }
  },
  {
   "cell_type": "markdown",
   "source": [
    "Необходимо для каждого предложения того корпуса, на котором мы оцениваем качество, собрать n-граммы этим способом. Общую массу всех n-грамм передать в `model.perplexity()`. Perplexity должен быть как можно меньше.\n",
    "\n",
    "\n",
    "Какие гиперпараметры: n = 1, 2, 3, 4, 5 (решаем отдельно для каждого n, потому что для разных n получаются разные модели с несравнимыми perplexity).\n",
    "                      Lidstone: 0.01 0.05 0.1 0.2 0.5 1 2 5\n",
    "                      KneyserNey: 0.01 0.02 0.05 0.1 0.2 0.5 0.95 0.99"
   ],
   "metadata": {
    "collapsed": false,
    "pycharm": {
     "name": "#%% md\n"
    }
   }
  },
  {
   "cell_type": "code",
   "execution_count": 23,
   "outputs": [
    {
     "data": {
      "text/plain": "19.680517330979004"
     },
     "execution_count": 23,
     "metadata": {},
     "output_type": "execute_result"
    }
   ],
   "source": [
    "padded_sentence = pad_both_ends(sentence, n)\n",
    "all_sentence_n_grams = ngrams(padded_sentence, n)\n",
    "model.perplexity(all_sentence_n_grams)"
   ],
   "metadata": {
    "collapsed": false,
    "pycharm": {
     "name": "#%%\n"
    }
   }
  },
  {
   "cell_type": "markdown",
   "source": [
    "Весь код для вычисления perplexity\n"
   ],
   "metadata": {
    "collapsed": false,
    "pycharm": {
     "name": "#%% md\n"
    }
   }
  },
  {
   "cell_type": "code",
   "execution_count": 30,
   "outputs": [
    {
     "name": "stdout",
     "output_type": "stream",
     "text": [
      "[('<s>', 'мы'), ('мы', 'слова'), ('слова', 'одного'), ('одного', 'предложения'), ('предложения', '</s>'), ('<s>', 'еще'), ('еще', 'слова'), ('слова', 'другого'), ('другого', 'предложения'), ('предложения', '</s>')]\n"
     ]
    },
    {
     "data": {
      "text/plain": "19.68051733097903"
     },
     "execution_count": 30,
     "metadata": {},
     "output_type": "execute_result"
    }
   ],
   "source": [
    "sentences = [\n",
    "    [\"я\", \"вижу\", \"стол\"],\n",
    "    [\"я\", \"вижу\", \"стул\"],\n",
    "    [\"я\", \"вижу\", \"сыр\"],\n",
    "    [\"я\", \"ем\", \"сыр\"],\n",
    "    [\"я\", \"стол\"]\n",
    "]\n",
    "\n",
    "n_grams, words = padded_everygram_pipeline(n, sentences)\n",
    "model = KneserNeyInterpolated(n, 0.1)\n",
    "model.fit(n_grams, words)\n",
    "\n",
    "sentence = ['мы', 'слова', 'одного', 'предложения']\n",
    "padded_sentence = pad_both_ends(sentence, n)\n",
    "all_sentence_n_grams = ngrams(padded_sentence, n)\n",
    "model.perplexity(all_sentence_n_grams)\n",
    "\n",
    "sentence1 = ['мы', 'слова', 'одного', 'предложения']\n",
    "sentence2 = ['еще', 'слова', 'другого', 'предложения']\n",
    "ngrams1 = ngrams(pad_both_ends(sentence1, n), n)\n",
    "ngrams2 = ngrams(pad_both_ends(sentence2, n), n)\n",
    "\n",
    "all_ngrams = list(ngrams1) + list(ngrams2)\n",
    "print(all_ngrams)\n",
    "model.perplexity(all_ngrams)"
   ],
   "metadata": {
    "collapsed": false,
    "pycharm": {
     "name": "#%%\n"
    }
   }
  },
  {
   "cell_type": "code",
   "execution_count": null,
   "outputs": [],
   "source": [],
   "metadata": {
    "collapsed": false,
    "pycharm": {
     "name": "#%%\n"
    }
   }
  }
 ],
 "metadata": {
  "kernelspec": {
   "display_name": "Python 3",
   "language": "python",
   "name": "python3"
  },
  "language_info": {
   "codemirror_mode": {
    "name": "ipython",
    "version": 2
   },
   "file_extension": ".py",
   "mimetype": "text/x-python",
   "name": "python",
   "nbconvert_exporter": "python",
   "pygments_lexer": "ipython2",
   "version": "2.7.6"
  }
 },
 "nbformat": 4,
 "nbformat_minor": 0
}