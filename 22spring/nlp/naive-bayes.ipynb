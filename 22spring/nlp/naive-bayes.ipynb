{
 "cells": [
  {
   "cell_type": "code",
   "execution_count": 1,
   "metadata": {
    "collapsed": true
   },
   "outputs": [
    {
     "name": "stdout",
     "output_type": "stream",
     "text": [
      "[({'мне': True, 'понравилось': True, 'очень': False, 'не': False}, 'positive'), ({'мне': True, 'понравилось': False, 'очень': True, 'не': True}, 'negative'), ({'мне': False, 'понравилось': True, 'очень': True, 'не': False}, 'positive')]\n"
     ]
    }
   ],
   "source": [
    "texts = [\n",
    "    (['мне', 'понравилось'], 'positive'),\n",
    "    (['мне', 'не', 'очень'], 'negative'),\n",
    "    (['очень', 'понравилось'], 'positive')\n",
    "]\n",
    "\n",
    "words = ['мне', 'понравилось', 'очень', 'не']\n",
    "\n",
    "def text_2_features(text): #\n",
    "    return {word: (word in text) for word in words}\n",
    "\n",
    "data = [(text_2_features(text), cls) for text, cls in texts]\n",
    "print(data)\n"
   ]
  },
  {
   "cell_type": "code",
   "execution_count": 2,
   "outputs": [],
   "source": [
    "from nltk import NaiveBayesClassifier\n",
    "\n",
    "# обучаем модель\n",
    "model = NaiveBayesClassifier.train(data)\n",
    "# в model хранится информация P{w_i | c}"
   ],
   "metadata": {
    "collapsed": false,
    "pycharm": {
     "name": "#%%\n"
    }
   }
  },
  {
   "cell_type": "code",
   "execution_count": 6,
   "outputs": [
    {
     "data": {
      "text/plain": "'positive'"
     },
     "execution_count": 6,
     "metadata": {},
     "output_type": "execute_result"
    }
   ],
   "source": [
    "model.classify({'мне': True, 'не': True, 'очень': False, 'понравилось': True})\n"
   ],
   "metadata": {
    "collapsed": false,
    "pycharm": {
     "name": "#%%\n"
    }
   }
  },
  {
   "cell_type": "code",
   "execution_count": 4,
   "outputs": [
    {
     "name": "stdout",
     "output_type": "stream",
     "text": [
      "Most Informative Features\n",
      "                     мне = True           negati : positi =      1.5 : 1.0\n",
      "                   очень = True           negati : positi =      1.5 : 1.0\n"
     ]
    }
   ],
   "source": [
    "model.show_most_informative_features(10)  # 10 - сколько вывести признаков\n"
   ],
   "metadata": {
    "collapsed": false,
    "pycharm": {
     "name": "#%%\n"
    }
   }
  },
  {
   "cell_type": "code",
   "execution_count": 7,
   "outputs": [
    {
     "data": {
      "text/plain": "'negative'"
     },
     "execution_count": 7,
     "metadata": {},
     "output_type": "execute_result"
    }
   ],
   "source": [
    "model.classify({'мне': True, 'не': False, 'очень': True, 'понравилось': False})\n"
   ],
   "metadata": {
    "collapsed": false,
    "pycharm": {
     "name": "#%%\n"
    }
   }
  },
  {
   "cell_type": "code",
   "execution_count": 11,
   "outputs": [
    {
     "name": "stdout",
     "output_type": "stream",
     "text": [
      "0.3542958370239148\n",
      "0.645704162976085\n"
     ]
    }
   ],
   "source": [
    "pd = model.prob_classify(({'мне': True, 'не': False, 'очень': True, 'понравилось': False}))\n",
    "print(pd.prob('positive'))\n",
    "print(pd.prob('negative'))"
   ],
   "metadata": {
    "collapsed": false,
    "pycharm": {
     "name": "#%%\n"
    }
   }
  },
  {
   "cell_type": "code",
   "execution_count": 12,
   "outputs": [
    {
     "data": {
      "text/plain": "['positive', 'negative']"
     },
     "execution_count": 12,
     "metadata": {},
     "output_type": "execute_result"
    }
   ],
   "source": [
    "model.labels()\n"
   ],
   "metadata": {
    "collapsed": false,
    "pycharm": {
     "name": "#%%\n"
    }
   }
  },
  {
   "cell_type": "code",
   "execution_count": null,
   "outputs": [],
   "source": [],
   "metadata": {
    "collapsed": false,
    "pycharm": {
     "name": "#%%\n"
    }
   }
  }
 ],
 "metadata": {
  "kernelspec": {
   "display_name": "Python 3",
   "language": "python",
   "name": "python3"
  },
  "language_info": {
   "codemirror_mode": {
    "name": "ipython",
    "version": 2
   },
   "file_extension": ".py",
   "mimetype": "text/x-python",
   "name": "python",
   "nbconvert_exporter": "python",
   "pygments_lexer": "ipython2",
   "version": "2.7.6"
  }
 },
 "nbformat": 4,
 "nbformat_minor": 0
}