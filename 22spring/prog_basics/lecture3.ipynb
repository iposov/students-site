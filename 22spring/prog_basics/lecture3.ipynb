{
 "cells": [
  {
   "cell_type": "markdown",
   "metadata": {
    "collapsed": true,
    "pycharm": {
     "name": "#%% md\n"
    }
   },
   "source": [
    "# Регулярные выражения\n",
    "\n",
    "Регулярное выражение описывает множество строк. Например, можно написать выражение `ab*c`, и оно описывает множество (математическое) `{'ac', 'abc', 'abbc', 'abbbc', 'abbbbbbbbbbbbbbbc', ...}`. Или можно так: `a\\d*` (здесь `\\d` означает любую цифру), поэтому это выражение описывает множество `{'a', 'a42', 'a57121', 'a9', ...}`.\n",
    "\n",
    "Регулярные выражения нужны для\n",
    " - расширенного текстового поиска, например, найти все номера телефонов, найти все email, все слова начинающиеся с заглавной и т.п.\n",
    " - проверка корректности строки, подходит ли строка под регулярное выражение. Например, верно ли, что пользователь ввёл номер телефона.\n",
    "\n",
    "Хороший сайт для изучения и тренировки [regexr.com](https://regexr.com)."
   ]
  },
  {
   "cell_type": "markdown",
   "source": [
    "Примеры регулярных выражений\n",
    "\n",
    "`|` — или, `()` группируют части регулярного выражения.\n",
    "\n",
    "`a|b|c` — `{'a', 'b', 'c'}`\n",
    "\n",
    "`кот|кота|котов` — `{'кот', 'кота', 'котов'}`\n",
    "\n",
    "`кот(|а|ов)` — `{'кот', 'кота', 'котов'}`\n",
    "\n",
    "`(1|2)(x|y|z)(U|V)` - `{'1xU', '1xV', '2zV', ...}` (12 вариантов)\n",
    "\n",
    "`(ab)*` — `{'', 'ab', 'abab', 'ababab', ...}`\n",
    "\n",
    "`(a|b)*` — `{'ab', 'babbba', 'aaaaaa', 'bbbb', 'aa', 'a', 'b', '', 'abbbabaaba', }`\n",
    "\n",
    "`\\d*` — произвольный набор цифр, повторяем \\d, т.е. на каждой позиции цифры могут быть разные\n",
    "\n",
    "`a*|b*` — `{'aaaaaa', 'bbbb', 'aa', 'a', 'b', ''}`"
   ],
   "metadata": {
    "collapsed": false,
    "pycharm": {
     "name": "#%% md\n"
    }
   }
  },
  {
   "cell_type": "markdown",
   "source": [
    "Кроме `*` есть другие повторения:\n",
    "\n",
    "\n",
    "`*` 0 или более раз\n",
    "\n",
    "`+` означет повторение 1 или более раз\n",
    "\n",
    "`{10}` означет повторение 10 раз\n",
    "\n",
    "`{2,6}` от 2 до 6 раз\n",
    "\n",
    "`{,6}` от 0 до 6\n",
    "\n",
    "`{6,}` 6 до бесконечности\n",
    "\n",
    "`?` означет 0 или 1\n",
    "\n",
    "`кота?` — `кот` или `кота`.\n",
    "\n",
    "Множества символов:\n",
    "\n",
    "`\\d` — цифры\n",
    "`\\w` — буквы английские, цифры и подчеркивание\n",
    "`\\s` — пробельные символы\n",
    "\n",
    "`\\s+` — произвольное количество пробелов\n",
    "\n",
    "`\\D` — не цифра\n",
    "`\\S` — не пробельный символ\n",
    "\n",
    "Множества можно составлять самостоятельно:\n",
    "\n",
    "`[123]` — это множество из цифр 1, 2 или 3. Аналог `(1|2|3)`.\n",
    "`[a-z]` — это значит, что от строчной a до строчной z\n",
    "`[a-zA-Z0-9]` — латинские буквы или цифры\n",
    "`[^a-z]` — это значит, что любой символ кроме от 'a' до 'z'.\n",
    "\n",
    "`.` — любой символ (кроме перевода строки, но можно включить и перевод строки, см. позже)\n",
    "`^` — начало строки\n",
    "`$` — конец строки\n",
    "\n",
    "Другие возможности: [Документация по регулярным выражениям](https://docs.python.org/3/library/re.html)\n",
    "\n",
    "## Как записать регулярное выражение в коде программы\n",
    "\n",
    "В Python мы записываем регулярные выражения как строки (str). Например\n"
   ],
   "metadata": {
    "collapsed": false,
    "pycharm": {
     "name": "#%% md\n"
    }
   }
  },
  {
   "cell_type": "code",
   "execution_count": 3,
   "outputs": [],
   "source": [
    "all_words_pattern = '[a-zA-Z]+'"
   ],
   "metadata": {
    "collapsed": false,
    "pycharm": {
     "name": "#%%\n"
    }
   }
  },
  {
   "cell_type": "markdown",
   "source": [
    "Но если в регулярном выражении встречаются `\\` возникает проблема, Python воспринимает их как символы экранирования:\n"
   ],
   "metadata": {
    "collapsed": false,
    "pycharm": {
     "name": "#%% md\n"
    }
   }
  },
  {
   "cell_type": "code",
   "execution_count": 5,
   "outputs": [],
   "source": [
    "all_numbers_pattern = '\\d+'\n",
    "all_float_numbers_pattern = '\\d+(,\\d+)?'"
   ],
   "metadata": {
    "collapsed": false,
    "pycharm": {
     "name": "#%%\n"
    }
   }
  },
  {
   "cell_type": "markdown",
   "source": [
    "Чтобы обратный слэш не воспринимался питоном как символ экранирования, нужно либо экранировать слэш. Тогда выражение `\\d+` будет выглядеть так:\n"
   ],
   "metadata": {
    "collapsed": false,
    "pycharm": {
     "name": "#%% md\n"
    }
   }
  },
  {
   "cell_type": "code",
   "execution_count": 11,
   "outputs": [
    {
     "name": "stdout",
     "output_type": "stream",
     "text": [
      "\\d+\n"
     ]
    }
   ],
   "source": [
    "print('\\\\d+')  # \\\\ соответствует одному символу \\. Аналогично как \\n — один символ перевода строки"
   ],
   "metadata": {
    "collapsed": false,
    "pycharm": {
     "name": "#%%\n"
    }
   }
  },
  {
   "cell_type": "markdown",
   "source": [
    "Чтобы не думать об экранировании, используйте сырые (raw) строки:\n"
   ],
   "metadata": {
    "collapsed": false,
    "pycharm": {
     "name": "#%% md\n"
    }
   }
  },
  {
   "cell_type": "code",
   "execution_count": 12,
   "outputs": [
    {
     "name": "stdout",
     "output_type": "stream",
     "text": [
      "\\\\d+\n"
     ]
    }
   ],
   "source": [
    "print(r'\\\\d+')  # в r-строке \\ это просто \\"
   ],
   "metadata": {
    "collapsed": false,
    "pycharm": {
     "name": "#%%\n"
    }
   }
  },
  {
   "cell_type": "markdown",
   "source": [
    "При задании регулярных выражений пишите их в raw строках:\n"
   ],
   "metadata": {
    "collapsed": false,
    "pycharm": {
     "name": "#%% md\n"
    }
   }
  },
  {
   "cell_type": "code",
   "execution_count": 13,
   "outputs": [],
   "source": [
    "all_numbers_pattern = r'\\d+'\n",
    "all_float_numbers_pattern = r'\\d+(,\\d+)?'\n"
   ],
   "metadata": {
    "collapsed": false,
    "pycharm": {
     "name": "#%%\n"
    }
   }
  },
  {
   "cell_type": "markdown",
   "source": [
    "## Экранирование внутри регулярного выражения\n",
    "\n",
    "Иногда вам нужен символ точки, скобки, вопросительного знака, но в регулярном выражении они имеют особый смысл. Если поставить перед ними обратный слэш, смысл становится обычным:\n",
    "\n",
    "`.` — любой символ\n",
    "\n",
    "`\\.` — точка\n",
    "\n",
    "Если вы не используете r-строки, то экранирование приходится делать двойным, например, регулярное выражение для символа `\\` это `\\\\`. Когда вы пишете это в коде, нужно писать `\\\\\\\\`:\n"
   ],
   "metadata": {
    "collapsed": false,
    "pycharm": {
     "name": "#%% md\n"
    }
   }
  },
  {
   "cell_type": "code",
   "execution_count": 16,
   "outputs": [
    {
     "name": "stdout",
     "output_type": "stream",
     "text": [
      "\\\n",
      "\\\\\n"
     ]
    }
   ],
   "source": [
    "print('\\\\')\n",
    "print(r'\\\\')"
   ],
   "metadata": {
    "collapsed": false,
    "pycharm": {
     "name": "#%%\n"
    }
   }
  },
  {
   "cell_type": "markdown",
   "source": [
    "**Вывод: задавая регулярные выражения, всегда используйте только r-строки**\n"
   ],
   "metadata": {
    "collapsed": false,
    "pycharm": {
     "name": "#%% md\n"
    }
   }
  },
  {
   "cell_type": "markdown",
   "source": [
    "## Использование в коде\n",
    "\n",
    "Работа с регулярными выражениями происходит с помощью встроенного модуля `re`:"
   ],
   "metadata": {
    "collapsed": false,
    "pycharm": {
     "name": "#%% md\n"
    }
   }
  },
  {
   "cell_type": "code",
   "execution_count": 21,
   "outputs": [
    {
     "name": "stdout",
     "output_type": "stream",
     "text": [
      "<re.Match object; span=(0, 8), match='12349344'>\n",
      "None\n"
     ]
    }
   ],
   "source": [
    "import re\n",
    "\n",
    "print(re.fullmatch(r\"\\d+\", \"12349344\"))  # подходит ли строка под указанное выражение\n",
    "# возвращается объект с результатом сопоставления\n",
    "print(re.fullmatch(r\"\\d+\", \"123xyz\"))  # None, если не сопоставилось\n",
    "\n",
    "m = re.fullmatch(r\"\\d+\", \"12349344\")\n",
    "if m is not None:\n",
    "    print(\"сопоставилось!!\")"
   ],
   "metadata": {
    "collapsed": false,
    "pycharm": {
     "name": "#%%\n"
    }
   }
  },
  {
   "cell_type": "markdown",
   "source": [
    "Метод `match` сопоставляет начало строки:\n"
   ],
   "metadata": {
    "collapsed": false,
    "pycharm": {
     "name": "#%% md\n"
    }
   }
  },
  {
   "cell_type": "code",
   "execution_count": 23,
   "outputs": [
    {
     "name": "stdout",
     "output_type": "stream",
     "text": [
      "<re.Match object; span=(0, 3), match='123'>\n"
     ]
    }
   ],
   "source": [
    "print(re.match(r\"\\d+\", \"123xyz\"))  # сопоставилось с 0 до 3 символа"
   ],
   "metadata": {
    "collapsed": false,
    "pycharm": {
     "name": "#%%\n"
    }
   }
  },
  {
   "cell_type": "code",
   "source": [
    "re.findall(r'\\d+', \"У меня 5 яблок и 100 груш\")  # список из всех сопоставлений\n"
   ],
   "metadata": {
    "collapsed": false,
    "pycharm": {
     "name": "#%%\n"
    }
   },
   "execution_count": 24,
   "outputs": [
    {
     "data": {
      "text/plain": "['5', '100']"
     },
     "execution_count": 24,
     "metadata": {},
     "output_type": "execute_result"
    }
   ]
  },
  {
   "cell_type": "markdown",
   "source": [
    "Поиск с большим количеством возможностей:\n"
   ],
   "metadata": {
    "collapsed": false,
    "pycharm": {
     "name": "#%% md\n"
    }
   }
  },
  {
   "cell_type": "code",
   "execution_count": 25,
   "outputs": [
    {
     "name": "stdout",
     "output_type": "stream",
     "text": [
      "<re.Match object; span=(7, 8), match='5'>\n",
      "<re.Match object; span=(17, 20), match='100'>\n"
     ]
    }
   ],
   "source": [
    "for m in re.finditer(r'\\d+', \"У меня 5 яблок и 100 груш\"):\n",
    "    print(m)  # распечатываем объект с информацией о сопосталвении для каждого вхождения\n"
   ],
   "metadata": {
    "collapsed": false,
    "pycharm": {
     "name": "#%%\n"
    }
   }
  },
  {
   "cell_type": "markdown",
   "source": [
    "Другой подход к работе с регулярными выражениями, сначала их *скомпилировать*:\n"
   ],
   "metadata": {
    "collapsed": false,
    "pycharm": {
     "name": "#%% md\n"
    }
   }
  },
  {
   "cell_type": "code",
   "execution_count": 26,
   "outputs": [
    {
     "data": {
      "text/plain": "['5', '100']"
     },
     "execution_count": 26,
     "metadata": {},
     "output_type": "execute_result"
    }
   ],
   "source": [
    "digits = re.compile(r'\\d+')  # скомпилированный шаблон для поиска последовательности цифр\n",
    "digits.findall('У меня 5 яблок и 100 груш')  # здесь даже можно будет указать, откуда до куда искать"
   ],
   "metadata": {
    "collapsed": false,
    "pycharm": {
     "name": "#%%\n"
    }
   }
  },
  {
   "cell_type": "markdown",
   "source": [
    "Посмотрите еще функцию `re.split`, которая похожа на обычный `split`, но позволяет указать, как именно разделять на слова.\n",
    "\n",
    "## Флаги регулярных выражений\n",
    "\n",
    "Управляют работой регулярного выражения.\n",
    "\n",
    "1. `re.DOTALL` (или `re.S`, `s`). Если этот флаг включен, то `.` соответствует вообще всем символам, включая и перевод строки.\n",
    "2. `re.MULTILINE` (или `re.M`, `m`) Изменяет смысл `$`, `^`. Теперь это конец и начало строк (то, что разделяется переводами строк), а не всего текста.\n",
    "3. `re.IGNORECASE` (или `re.I`, 'i') — игнорировать регистр\n",
    "\n",
    "Другие флаги см. в документации.\n",
    "\n",
    "Как подключить флаги:"
   ],
   "metadata": {
    "collapsed": false,
    "pycharm": {
     "name": "#%% md\n"
    }
   }
  },
  {
   "cell_type": "code",
   "execution_count": null,
   "outputs": [],
   "source": [
    "re.fullmatch(r'\\d+', '123123', flags=re.MULTILINE+re.IGNORECASE)\n",
    "# или\n",
    "re.fullmatch(r'\\d+(?mi)', '123123')  # (?флаги) — указать флаги прямо в выражении\n",
    "# или\n",
    "re.compile(r'\\d+', flags=re.MULTILINE+re.IGNORECASE)\n"
   ],
   "metadata": {
    "collapsed": false,
    "pycharm": {
     "name": "#%%\n"
    }
   }
  }
 ],
 "metadata": {
  "kernelspec": {
   "display_name": "Python 3",
   "language": "python",
   "name": "python3"
  },
  "language_info": {
   "codemirror_mode": {
    "name": "ipython",
    "version": 2
   },
   "file_extension": ".py",
   "mimetype": "text/x-python",
   "name": "python",
   "nbconvert_exporter": "python",
   "pygments_lexer": "ipython2",
   "version": "2.7.6"
  }
 },
 "nbformat": 4,
 "nbformat_minor": 0
}