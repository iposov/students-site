{
 "cells": [
  {
   "cell_type": "markdown",
   "metadata": {
    "collapsed": true,
    "pycharm": {
     "name": "#%% md\n"
    }
   },
   "source": [
    "# HTTP запросы\n",
    "\n",
    "См. конспект []()\n",
    "\n",
    "Чтобы делать http-запросы на Python необходима библиотека. Самая простая в использовании: пакет `requests`:"
   ]
  },
  {
   "cell_type": "code",
   "execution_count": 2,
   "outputs": [
    {
     "name": "stdout",
     "output_type": "stream",
     "text": [
      "<Response [200]>\n"
     ]
    }
   ],
   "source": [
    "import requests\n",
    "\n",
    "# функция get совершает get-запрос, в переменную response запишется результат\n",
    "word = 'pencil'\n",
    "response = requests.get(f\"https://api.dictionaryapi.dev/api/v2/entries/en/{word}\")\n",
    "print(response)"
   ],
   "metadata": {
    "collapsed": false,
    "pycharm": {
     "name": "#%%\n"
    }
   }
  },
  {
   "cell_type": "code",
   "execution_count": 10,
   "outputs": [
    {
     "name": "stdout",
     "output_type": "stream",
     "text": [
      "200\n",
      "{'Server': 'nginx/1.20.0', 'Date': 'Fri, 18 Mar 2022 08:49:29 GMT', 'Content-Type': 'application/json; charset=utf-8', 'Transfer-Encoding': 'chunked', 'Connection': 'keep-alive', 'X-Powered-By': 'Express', 'Access-Control-Allow-Origin': '*', 'X-RateLimit-Limit': '450', 'X-RateLimit-Remaining': '448', 'X-RateLimit-Reset': '1647593530', 'ETag': 'W/\"5f6-ChAVMF3hnLo+tqLoiSpnWIC8hlE\"', 'Vary': 'Accept-Encoding', 'Content-Encoding': 'gzip', 'Strict-Transport-Security': 'â\\x80\\x9cmax-age=15768000â\\x80\\x9d'}\n",
      "[{\"word\":\"pencil\",\"phonetic\":\"/ˈpɛnsɪl/\",\"phonetics\":[{\"text\":\"/ˈpɛnsɪl/\",\"audio\":\"\"},{\"text\":\"/ˈpɛnsəl/\",\"audio\":\"https://api.dictionaryapi.dev/media/pronunciations/en/pencil-us.mp3\",\"sourceUrl\":\"https://commons.wikimedia.org/w/index.php?curid=1113789\",\"license\":{\"name\":\"BY-SA 3.0\",\"url\":\"https://creativecommons.org/licenses/by-sa/3.0\"}}],\"meanings\":[{\"partOfSpeech\":\"noun\",\"definitions\":[{\"definition\":\"A paintbrush.\",\"synonyms\":[],\"antonyms\":[]},{\"definition\":\"A writing utensil with a graphite (commonly referred to as lead) shaft, usually blended with clay, clad in wood, and sharpened to a taper.\",\"synonyms\":[],\"antonyms\":[]},{\"definition\":\"An aggregate or collection of rays of light, especially when diverging from, or converging to, a point.\",\"synonyms\":[],\"antonyms\":[]},{\"definition\":\"A family of geometric objects with a common property, such as the set of lines that pass through a given point in a projective plane.\",\"synonyms\":[],\"antonyms\":[]},{\"definition\":\"A small medicated bougie.\",\"synonyms\":[],\"antonyms\":[]}],\"synonyms\":[],\"antonyms\":[]},{\"partOfSpeech\":\"verb\",\"definitions\":[{\"definition\":\"To write (something) using a pencil.\",\"synonyms\":[],\"antonyms\":[],\"example\":\"I penciled (BrE: pencilled) a brief reminder in my notebook.\"},{\"definition\":\"To mark with, or as if with, a pencil.\",\"synonyms\":[],\"antonyms\":[]}],\"synonyms\":[],\"antonyms\":[]}],\"license\":{\"name\":\"CC BY-SA 3.0\",\"url\":\"https://creativecommons.org/licenses/by-sa/3.0\"},\"sourceUrls\":[\"https://en.wiktionary.org/wiki/pencil\"]}]\n",
      "[{'word': 'pencil', 'phonetic': '/ˈpɛnsɪl/', 'phonetics': [{'text': '/ˈpɛnsɪl/', 'audio': ''}, {'text': '/ˈpɛnsəl/', 'audio': 'https://api.dictionaryapi.dev/media/pronunciations/en/pencil-us.mp3', 'sourceUrl': 'https://commons.wikimedia.org/w/index.php?curid=1113789', 'license': {'name': 'BY-SA 3.0', 'url': 'https://creativecommons.org/licenses/by-sa/3.0'}}], 'meanings': [{'partOfSpeech': 'noun', 'definitions': [{'definition': 'A paintbrush.', 'synonyms': [], 'antonyms': []}, {'definition': 'A writing utensil with a graphite (commonly referred to as lead) shaft, usually blended with clay, clad in wood, and sharpened to a taper.', 'synonyms': [], 'antonyms': []}, {'definition': 'An aggregate or collection of rays of light, especially when diverging from, or converging to, a point.', 'synonyms': [], 'antonyms': []}, {'definition': 'A family of geometric objects with a common property, such as the set of lines that pass through a given point in a projective plane.', 'synonyms': [], 'antonyms': []}, {'definition': 'A small medicated bougie.', 'synonyms': [], 'antonyms': []}], 'synonyms': [], 'antonyms': []}, {'partOfSpeech': 'verb', 'definitions': [{'definition': 'To write (something) using a pencil.', 'synonyms': [], 'antonyms': [], 'example': 'I penciled (BrE: pencilled) a brief reminder in my notebook.'}, {'definition': 'To mark with, or as if with, a pencil.', 'synonyms': [], 'antonyms': []}], 'synonyms': [], 'antonyms': []}], 'license': {'name': 'CC BY-SA 3.0', 'url': 'https://creativecommons.org/licenses/by-sa/3.0'}, 'sourceUrls': ['https://en.wiktionary.org/wiki/pencil']}]\n"
     ]
    }
   ],
   "source": [
    "print(response.status_code)  # код ответа\n",
    "print(response.headers)\n",
    "print(response.text)  # строка с телом ответа\n",
    "print(response.json())  # результат разбора ответа как json, а данном случае это сразу список"
   ],
   "metadata": {
    "collapsed": false,
    "pycharm": {
     "name": "#%%\n"
    }
   }
  },
  {
   "cell_type": "code",
   "execution_count": 13,
   "outputs": [
    {
     "name": "stdout",
     "output_type": "stream",
     "text": [
      "[{'text': '/ˈpɛnsɪl/', 'audio': ''}, {'text': '/ˈpɛnsəl/', 'audio': 'https://api.dictionaryapi.dev/media/pronunciations/en/pencil-us.mp3', 'sourceUrl': 'https://commons.wikimedia.org/w/index.php?curid=1113789', 'license': {'name': 'BY-SA 3.0', 'url': 'https://creativecommons.org/licenses/by-sa/3.0'}}]\n"
     ]
    }
   ],
   "source": [
    "meanings = response.json()\n",
    "\n",
    "for meaning in meanings:\n",
    "    print(meaning['phonetics'])\n"
   ],
   "metadata": {
    "collapsed": false,
    "pycharm": {
     "name": "#%%\n"
    }
   }
  },
  {
   "cell_type": "markdown",
   "source": [
    "# Магический метод `__iadd__`\n"
   ],
   "metadata": {
    "collapsed": false,
    "pycharm": {
     "name": "#%% md\n"
    }
   }
  },
  {
   "cell_type": "code",
   "execution_count": 25,
   "outputs": [
    {
     "name": "stdout",
     "output_type": "stream",
     "text": [
      "Num[10]\n",
      "Num[11]\n",
      "Num[11]\n",
      "Num[12]\n"
     ]
    }
   ],
   "source": [
    "class Num:\n",
    "    def __init__(self, n):\n",
    "        self.n = n\n",
    "\n",
    "    def count(self):\n",
    "        for i in range(1, self.n + 1):\n",
    "            print(f\"{i} cat(s)\")\n",
    "\n",
    "    def __add__(self, other):  # работает только при прибавлении обычного числа\n",
    "        return Num(self.n + other)\n",
    "\n",
    "    def __str__(self):\n",
    "        return f\"Num[{self.n}]\"\n",
    "\n",
    "    def __iadd__(self, other):\n",
    "        self.n = self.n + other\n",
    "        return self  # в методе __iadd__ нужно вернуть то, что будет присовено переменной\n",
    "                     # VAR += X заменяется на VAR = VAR.__iadd__(X),\n",
    "\n",
    "    def __radd__(self, other):\n",
    "        return Num(self.n + other)\n",
    "\n",
    "\n",
    "a = Num(10)\n",
    "# a.count()\n",
    "print(a)\n",
    "print(a + 1)  # вызов метода __add__: a.__add__(1)\n",
    "\n",
    "a += 1  # вызов метода a.__iadd__(1)\n",
    "# если метод __iadd__ отстуствтует, то a += 1 заменяется на a = a + 1, точнее, на a = a.__add__(1)\n",
    "# если метод __iadd__ присутствует, то a += 1 заменяется на a = a.__iadd__(1)\n",
    "print(a)\n",
    "\n",
    "print(1 + a) # заменяется на a.__radd__(1)"
   ],
   "metadata": {
    "collapsed": false,
    "pycharm": {
     "name": "#%%\n"
    }
   }
  },
  {
   "cell_type": "code",
   "execution_count": null,
   "outputs": [],
   "source": [],
   "metadata": {
    "collapsed": false,
    "pycharm": {
     "name": "#%%\n"
    }
   }
  }
 ],
 "metadata": {
  "kernelspec": {
   "display_name": "Python 3",
   "language": "python",
   "name": "python3"
  },
  "language_info": {
   "codemirror_mode": {
    "name": "ipython",
    "version": 2
   },
   "file_extension": ".py",
   "mimetype": "text/x-python",
   "name": "python",
   "nbconvert_exporter": "python",
   "pygments_lexer": "ipython2",
   "version": "2.7.6"
  }
 },
 "nbformat": 4,
 "nbformat_minor": 0
}