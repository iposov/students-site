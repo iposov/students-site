{
 "cells": [
  {
   "cell_type": "markdown",
   "source": [
    "# Библиотека numpy для работы с массивами чисел\n",
    "\n",
    "Основной тип данных, который даёт нам библиотека — это массив чисел, причем он может иметь размерности от 0 и больше. С этими массивами можно эффективно производить разные операции, в частности арифметические, причем многие операции работают одновременно для всех элементов, поэтому библиотека позволяет не писать избегать циклов.\n",
    "\n",
    "Библиотеку нужно установить, она называется numpy"
   ],
   "attachments": {},
   "metadata": {
    "datalore": {
     "type": "MD",
     "hide_input_from_viewers": false,
     "hide_output_from_viewers": false
    },
    "pycharm": {
     "name": "#%% md\n"
    }
   }
  },
  {
   "cell_type": "code",
   "source": [
    "import numpy as np\n",
    "\n",
    "# \n",
    "a = np.array([10, 20, 30, 40])\n",
    "b = np.array([2, 4, 6, 8])\n",
    "\n",
    "print(a)\n",
    "# арифметические операции с массивами действуют поэлементно\n",
    "c = a + b\n",
    "print(c)\n",
    "print(a * b)\n",
    "\n",
    "# есть математические операции, которые тоже действуют поэлементно:\n",
    "a = np.array([10, 100, 1000, 1_000_000])\n",
    "b = np.log10(a)\n",
    "print(b)\n",
    "# обычный логарифм не сработает, он ничего про numpy не знает:\n",
    "#import math\n",
    "#b = math.log(a)  # рабоает только для отдельных чисел"
   ],
   "execution_count": 1,
   "outputs": [
    {
     "name": "stdout",
     "output_type": "stream",
     "text": [
      "[10 20 30 40]\n",
      "[12 24 36 48]\n",
      "[ 20  80 180 320]\n",
      "[1. 2. 3. 6.]\n"
     ]
    }
   ],
   "metadata": {
    "datalore": {
     "type": "CODE",
     "hide_input_from_viewers": false,
     "hide_output_from_viewers": false
    },
    "pycharm": {
     "name": "#%%\n"
    }
   }
  },
  {
   "cell_type": "code",
   "source": [
    "# можно создавать массивы двумерные\n",
    "a = np.array([[10, 20], [30, 40]])\n",
    "print(a)\n",
    "b = np.array([[1, 2], [3, 4]])\n",
    "print(a + b)\n",
    "\n",
    "# есть стандартные матричные операции\n",
    "c = a.transpose()  # транспонирование\n",
    "print(c)\n",
    "print(c * c)  # поэлементное умножение\n",
    "\n",
    "print(\"-------------\")\n",
    "a = np.array([[1, 0], [0, 1]])\n",
    "b = np.array([[1, 2], [3, 4]])\n",
    "print(a)\n",
    "print(b)\n",
    "print(np.matmul(a, b))  # умножение как матриц\n",
    "print(a * b)"
   ],
   "execution_count": 2,
   "outputs": [
    {
     "name": "stdout",
     "text": [
      "[[10 20]\n",
      " [30 40]]\n",
      "[[11 22]\n",
      " [33 44]]\n",
      "[[10 30]\n",
      " [20 40]]\n",
      "[[ 100  900]\n",
      " [ 400 1600]]\n",
      "-------------\n",
      "[[1 0]\n",
      " [0 1]]\n",
      "[[1 2]\n",
      " [3 4]]\n",
      "[[1 2]\n",
      " [3 4]]\n",
      "[[1 0]\n",
      " [0 4]]\n"
     ],
     "output_type": "stream"
    }
   ],
   "metadata": {
    "datalore": {
     "type": "CODE",
     "hide_input_from_viewers": false,
     "hide_output_from_viewers": false
    },
    "pycharm": {
     "name": "#%%\n"
    }
   }
  },
  {
   "cell_type": "markdown",
   "source": [
    "Индексирование элементов массива, т.е. доступ к содержимому. Возможно доставать из массива отдельные числа, а можно доставать подмассивы. В качестве индексов могут использоваться числа, слайсы, перечисления (списки) индексов:"
   ],
   "attachments": {},
   "metadata": {
    "datalore": {
     "type": "MD",
     "hide_input_from_viewers": false,
     "hide_output_from_viewers": false
    },
    "pycharm": {
     "name": "#%% md\n"
    }
   }
  },
  {
   "cell_type": "code",
   "source": [
    "a = np.array([10, 20, 30, 40, 50, 60, 70, 80])\n",
    "print(a[0])\n",
    "print(a[4])\n",
    "print(a[0:4])  # это тоже numpy массив\n",
    "print(a[::-1])  # см. прошлый семестр, с конца в начало, шаг -1\n",
    "indices = [0, 3, 4, 7]\n",
    "print(a[indices])\n",
    "# аналогично, но не заводя отдельную переменную:\n",
    "print(a[[0, 3, 4, 7]])"
   ],
   "execution_count": 3,
   "outputs": [
    {
     "name": "stdout",
     "text": [
      "10\n",
      "50\n",
      "[10 20 30 40]\n",
      "[80 70 60 50 40 30 20 10]\n",
      "[10 40 50 80]\n",
      "[10 40 50 80]\n"
     ],
     "output_type": "stream"
    }
   ],
   "metadata": {
    "datalore": {
     "type": "CODE",
     "hide_input_from_viewers": false,
     "hide_output_from_viewers": false
    },
    "pycharm": {
     "name": "#%%\n"
    }
   }
  },
  {
   "cell_type": "code",
   "source": [
    "a = np.array([[10, 20, 30, 40], [50, 60, 70, 80], [90, 100, 110, 120]])\n",
    "print(a)\n",
    "\n",
    "print(a[1, 2])  # 2 строка, 3 столбец\n",
    "print(a[0:2, 2]) # первые две строки, третий столбец\n",
    "print(a[:, 2])  # 3 столбец, строки — от начала до конца\n",
    "print(a[:, [2]])  # строки — от начала до конца, столбцы — только второй\n",
    "print(a[ [0,1] , [0,1] ])  # Составляем список из элемента [0,0] и элемента [1,1]\n",
    "print(a[0:2,0:2])  # квадратик два на два из левого верхнего угла"
   ],
   "execution_count": 4,
   "outputs": [
    {
     "name": "stdout",
     "text": [
      "[[ 10  20  30  40]\n",
      " [ 50  60  70  80]\n",
      " [ 90 100 110 120]]\n",
      "70\n",
      "[30 70]\n",
      "[ 30  70 110]\n",
      "[[ 30]\n",
      " [ 70]\n",
      " [110]]\n",
      "[10 60]\n",
      "[[10 20]\n",
      " [50 60]]\n"
     ],
     "output_type": "stream"
    }
   ],
   "metadata": {
    "datalore": {
     "type": "CODE",
     "hide_input_from_viewers": false,
     "hide_output_from_viewers": false
    },
    "pycharm": {
     "name": "#%%\n"
    }
   }
  },
  {
   "cell_type": "markdown",
   "source": [
    "Операции сравнения и логические операции. Они тоже работают поэлементно. В результаты этих операций получаются массивы не из чисел, а из логических значений."
   ],
   "attachments": {},
   "metadata": {
    "datalore": {
     "type": "MD",
     "hide_input_from_viewers": false,
     "hide_output_from_viewers": false
    },
    "pycharm": {
     "name": "#%% md\n"
    }
   }
  },
  {
   "cell_type": "code",
   "source": [
    "a = np.array([10, 20, 30, 40])\n",
    "b = np.array([20, 0, 50, 10])\n",
    "\n",
    "print(a > b)\n",
    "print(a == b)\n",
    "\n",
    "# можно применять операции к одному числу, пояснения позже\n",
    "print(a >= 20)  # каждый элемент сравнивается с 20\n",
    "print(a <= 30)\n",
    "print(np.logical_and(a >= 20, a <= 30)) # and тоже работает поэлементно\n",
    "# print(20 <= a <= 30)  # не работает \n",
    "\n",
    "# итого, мы выделили элементы, которые находятся в диапазоне от 20 до 30"
   ],
   "execution_count": 5,
   "outputs": [
    {
     "name": "stdout",
     "text": [
      "[False  True False  True]\n",
      "[False False False False]\n",
      "[False  True  True  True]\n",
      "[ True  True  True False]\n",
      "[False  True  True False]\n"
     ],
     "output_type": "stream"
    }
   ],
   "metadata": {
    "datalore": {
     "type": "CODE",
     "hide_input_from_viewers": false,
     "hide_output_from_viewers": false
    },
    "pycharm": {
     "name": "#%%\n"
    }
   }
  },
  {
   "cell_type": "markdown",
   "source": [
    "Логические массивы можно использовать как индексы, в этом случае выбираются только те элементы, для которых в индексе True"
   ],
   "attachments": {},
   "metadata": {
    "datalore": {
     "type": "MD",
     "hide_input_from_viewers": false,
     "hide_output_from_viewers": false
    },
    "pycharm": {
     "name": "#%% md\n"
    }
   }
  },
  {
   "cell_type": "code",
   "source": [
    "a = np.array([10, 20, 30, 40, 50, 60])\n",
    "b = np.array([True, False, False, True, True, False])\n",
    "\n",
    "print(a[b]) # элементы 0, 3, 4\n",
    "\n",
    "indices = a >= 30  # [False False True True True True]\n",
    "print(a[indices])  # выбраны элементы, которые больше или равны 30\n",
    "# без отдельной переменной:\n",
    "print(a[a >= 30])"
   ],
   "execution_count": 6,
   "outputs": [
    {
     "name": "stdout",
     "text": [
      "[10 40 50]\n",
      "[30 40 50 60]\n",
      "[30 40 50 60]\n"
     ],
     "output_type": "stream"
    }
   ],
   "metadata": {
    "datalore": {
     "type": "CODE",
     "hide_input_from_viewers": false,
     "hide_output_from_viewers": false
    },
    "pycharm": {
     "name": "#%%\n"
    }
   }
  },
  {
   "cell_type": "markdown",
   "source": [
    "Выделив подмассив, мы можем присвоить значения его элементам:"
   ],
   "attachments": {},
   "metadata": {
    "datalore": {
     "type": "MD",
     "hide_input_from_viewers": false,
     "hide_output_from_viewers": false
    },
    "pycharm": {
     "name": "#%% md\n"
    }
   }
  },
  {
   "cell_type": "code",
   "source": [
    "a = np.array([10, 20, 30, 40, 50, 60])\n",
    "a[0] = 11\n",
    "print(a)\n",
    "a[1:3] = [21, 31] # индексам 1 и 2 присваиваем значения\n",
    "print(a)\n",
    "a[1:3] = a[1:3] * 2  # увеличить в два раза\n",
    "print(a)\n",
    "\n",
    "a[a >= 50] += 100  # добавить 100 к элементам, которые хотя бы 50\n",
    "print(a)"
   ],
   "execution_count": 7,
   "outputs": [
    {
     "name": "stdout",
     "text": [
      "[11 20 30 40 50 60]\n",
      "[11 21 31 40 50 60]\n",
      "[11 42 62 40 50 60]\n",
      "[ 11  42 162  40 150 160]\n"
     ],
     "output_type": "stream"
    }
   ],
   "metadata": {
    "datalore": {
     "type": "CODE",
     "hide_input_from_viewers": false,
     "hide_output_from_viewers": false
    },
    "pycharm": {
     "name": "#%%\n"
    }
   }
  },
  {
   "cell_type": "markdown",
   "source": [
    "Матрицы можно создавать с помощью вспомогательных функций:"
   ],
   "attachments": {},
   "metadata": {
    "datalore": {
     "type": "MD",
     "hide_input_from_viewers": false,
     "hide_output_from_viewers": false
    },
    "pycharm": {
     "name": "#%% md\n"
    }
   }
  },
  {
   "cell_type": "code",
   "source": [
    "a = np.zeros(10)\n",
    "print(a)\n",
    "a = np.zeros((3, 7))  # указываем в tuple размерности матрицы\n",
    "print(a)\n",
    "\n",
    "a = np.ones((4, 4))\n",
    "print(a)\n",
    "\n",
    "# при создании матрицы можно указывать тип элементов:\n",
    "a = np.ones((4, 5), dtype=np.int32)  # int32 — это 32битные (4 байтовые числа, от -2млрд до +2млрд)\n",
    "print(a)"
   ],
   "execution_count": 8,
   "outputs": [
    {
     "name": "stdout",
     "text": [
      "[0. 0. 0. 0. 0. 0. 0. 0. 0. 0.]\n",
      "[[0. 0. 0. 0. 0. 0. 0.]\n",
      " [0. 0. 0. 0. 0. 0. 0.]\n",
      " [0. 0. 0. 0. 0. 0. 0.]]\n",
      "[[1. 1. 1. 1.]\n",
      " [1. 1. 1. 1.]\n",
      " [1. 1. 1. 1.]\n",
      " [1. 1. 1. 1.]]\n",
      "[[1 1 1 1 1]\n",
      " [1 1 1 1 1]\n",
      " [1 1 1 1 1]\n",
      " [1 1 1 1 1]]\n"
     ],
     "output_type": "stream"
    }
   ],
   "metadata": {
    "datalore": {
     "type": "CODE",
     "hide_input_from_viewers": false,
     "hide_output_from_viewers": false
    },
    "pycharm": {
     "name": "#%%\n"
    }
   }
  },
  {
   "cell_type": "markdown",
   "source": [
    "Что если размерности матриц при поэлементных операциях не согласованы:"
   ],
   "attachments": {},
   "metadata": {
    "datalore": {
     "type": "MD",
     "hide_input_from_viewers": false,
     "hide_output_from_viewers": false
    },
    "pycharm": {
     "name": "#%% md\n"
    }
   }
  },
  {
   "cell_type": "code",
   "source": [
    "# np.array([10, 20, 30]) + np.array([20, 30, 40, 50, 60, 70, 80])\n",
    "np.array([10]) + np.array([20, 30, 40, 50, 60, 70, 80]) # или просто 10 + "
   ],
   "execution_count": 9,
   "outputs": [
    {
     "data": {
      "text/html": []
     },
     "metadata": {},
     "output_type": "display_data"
    }
   ],
   "metadata": {
    "datalore": {
     "type": "CODE",
     "hide_input_from_viewers": false,
     "hide_output_from_viewers": false
    },
    "pycharm": {
     "name": "#%%\n"
    }
   }
  },
  {
   "cell_type": "markdown",
   "source": [
    "Если размерности при операции не соглаваны, то 1) одна из длин = 1, то она повторяется, чтобы соответствовать длине второго 2) иначе ошибка"
   ],
   "attachments": {},
   "metadata": {
    "datalore": {
     "type": "MD",
     "hide_input_from_viewers": false,
     "hide_output_from_viewers": false
    },
    "pycharm": {
     "name": "#%% md\n"
    }
   }
  },
  {
   "cell_type": "code",
   "source": [
    "a = np.array([[10, 20, 30], [40, 50, 60]])\n",
    "b = np.array([[1, 2, 3]])\n",
    "\n",
    "print(a + b)  # строк разное количество, но в b одна строка, она повторяется\n",
    "\n",
    "b = np.array([1, 2, 3])\n",
    "print(a + b)  # b - массив одномерный, он повторился и сложился с каждой строкой\n",
    "\n",
    "b = np.array([[1], [2]])  # столбик из двух чисел\n",
    "print(a + b)  # в a 3 столбика, поэтому столбик b повторяется 3 раза\n",
    "\n",
    "# что если сложить столбик со строкой\n",
    "\n",
    "a = np.array([[10, 20, 30, 40]])  # строка\n",
    "b = np.array([[1, 2, 3]]).transpose()  # превращаю строку в столбец\n",
    "print(\"----------\")\n",
    "print(a)\n",
    "print(b)\n",
    "print(a + b)  # каждый столбец повторился 4 раза, каждая строка повторилась 3 раза"
   ],
   "execution_count": 10,
   "outputs": [
    {
     "name": "stdout",
     "text": [
      "[[11 22 33]\n",
      " [41 52 63]]\n",
      "[[11 22 33]\n",
      " [41 52 63]]\n",
      "[[11 21 31]\n",
      " [42 52 62]]\n",
      "----------\n",
      "[[10 20 30 40]]\n",
      "[[1]\n",
      " [2]\n",
      " [3]]\n",
      "[[11 21 31 41]\n",
      " [12 22 32 42]\n",
      " [13 23 33 43]]\n"
     ],
     "output_type": "stream"
    }
   ],
   "metadata": {
    "datalore": {
     "type": "CODE",
     "hide_input_from_viewers": false,
     "hide_output_from_viewers": false
    },
    "pycharm": {
     "name": "#%%\n"
    }
   }
  },
  {
   "cell_type": "markdown",
   "source": [
    "Как рисовать графики из чисел?\n",
    "Мы можем пользоваться библиотекой matplotlib. При рисовании графика указывается список x-координат точек, и список y-координат точек. Т.е. чтобы нарисовать точки (2, 5), (3, 4), (0, 2), надо указать `[2, 3, 0]` и `[5, 4, 2]`"
   ],
   "attachments": {},
   "metadata": {
    "datalore": {
     "type": "MD",
     "hide_input_from_viewers": false,
     "hide_output_from_viewers": false
    },
    "pycharm": {
     "name": "#%% md\n"
    }
   }
  },
  {
   "cell_type": "code",
   "source": [
    "from matplotlib import pyplot as pp\n",
    "\n",
    "pp.plot([2, 3, 0], [5, 4, 2], 'o')  # 'o' рисовать кружок в каждой точке"
   ],
   "execution_count": 11,
   "outputs": [
    {
     "data": {
      "text/plain": [
       "[<matplotlib.lines.Line2D at 0x7fa600949490>]"
      ],
      "image/png": "[encoded data removed]"
     },
     "metadata": {
      "image/png": {}
     },
     "output_type": "display_data"
    }
   ],
   "metadata": {
    "datalore": {
     "type": "CODE",
     "hide_input_from_viewers": false,
     "hide_output_from_viewers": false
    },
    "pycharm": {
     "name": "#%%\n"
    }
   }
  },
  {
   "cell_type": "markdown",
   "source": [
    "Если вместо 'o' указать '*', то будут рисоваться звездочки. Если вместо 'o' указать '-' или ничего не указывать, то точки соединяются линиями:"
   ],
   "attachments": {},
   "metadata": {
    "datalore": {
     "type": "MD",
     "hide_input_from_viewers": false,
     "hide_output_from_viewers": false
    },
    "pycharm": {
     "name": "#%% md\n"
    }
   }
  },
  {
   "cell_type": "code",
   "source": [
    "pp.plot([2, 3, 0], [5, 4, 2])"
   ],
   "execution_count": 12,
   "outputs": [
    {
     "data": {
      "text/plain": [
       "[<matplotlib.lines.Line2D at 0x7f83bc7a7250>]"
      ],
      "image/png": "[encoded data removed]"
     },
     "metadata": {
      "image/png": {}
     },
     "output_type": "display_data"
    }
   ],
   "metadata": {
    "datalore": {
     "type": "CODE",
     "hide_input_from_viewers": false,
     "hide_output_from_viewers": false
    },
    "pycharm": {
     "name": "#%%\n"
    }
   }
  },
  {
   "cell_type": "code",
   "source": [
    "# Нарисуем график функции y = sin(x)\n",
    "\n",
    "x = np.linspace(-10, 10, num=11)  # массив из чисел от -10 до 10, 11 штук\n",
    "print(x)\n",
    "y = np.sin(x)  # взять sin от каждой точки\n",
    "print(y)\n",
    "\n",
    "\n",
    "x = np.linspace(-10, 10, num=100)\n",
    "y = np.sin(x) \n",
    "\n",
    "pp.plot(x, y)"
   ],
   "execution_count": 13,
   "outputs": [
    {
     "name": "stdout",
     "text": [
      "[-10.  -8.  -6.  -4.  -2.   0.   2.   4.   6.   8.  10.]\n",
      "[ 0.54402111 -0.98935825  0.2794155   0.7568025  -0.90929743  0.\n",
      "  0.90929743 -0.7568025  -0.2794155   0.98935825 -0.54402111]\n"
     ],
     "output_type": "stream"
    },
    {
     "data": {
      "text/plain": [
       "[<matplotlib.lines.Line2D at 0x7f83bc791ee0>]"
      ],
      "image/png": "[encoded data removed]"
     },
     "metadata": {
      "image/png": {}
     },
     "output_type": "display_data"
    }
   ],
   "metadata": {
    "datalore": {
     "type": "CODE",
     "hide_input_from_viewers": false,
     "hide_output_from_viewers": false
    },
    "pycharm": {
     "name": "#%%\n"
    }
   }
  },
  {
   "cell_type": "code",
   "source": [],
   "execution_count": null,
   "outputs": [],
   "metadata": {
    "datalore": {
     "type": "CODE",
     "hide_input_from_viewers": false,
     "hide_output_from_viewers": false
    },
    "pycharm": {
     "name": "#%%\n"
    }
   }
  }
 ],
 "metadata": {
  "datalore": {
   "version": 1,
   "computation_mode": "REACTIVE",
   "package_manager": "pip",
   "base_environment": "default",
   "packages": []
  }
 },
 "nbformat": 4,
 "nbformat_minor": 4
}