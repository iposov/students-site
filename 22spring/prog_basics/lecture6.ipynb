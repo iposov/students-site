{
 "cells": [
  {
   "cell_type": "markdown",
   "metadata": {
    "collapsed": true,
    "pycharm": {
     "name": "#%% md\n"
    }
   },
   "source": [
    "# Разбор текста в формате HTML\n",
    "HTML — язык разметки форматированного текста. Т.е. язык описывает текст вместе с оформлением и структурированием отдельных элементов.\n",
    "HTML предназначен для восприятия человеком, компьютеру приходится работать с HTML только если нет данных в более удобном для автоматической обработки формате.\n",
    "Странички в интернете имеют формат HTML, поэтому если необходимо собрать данные с какого-то сайта, вы получите их в формате HTML.\n",
    "*Внимание*, по умолчанию вы не можете обрабатывать данные с чужого сайта. Это можно делать, только если вы нашли лицензию для этих данных, в которой указано, что вы можете эти данные использовать. Часто есть условие, как можно данные использовать.\n",
    "\n",
    "Пример, как может выглядеть текст в формате HTML:\n",
    "```\n",
    "<!DOCTYPE html>\n",
    "<html lang=\"en\">\n",
    "<head>\n",
    "    <meta charset=\"UTF-8\">\n",
    "</head>\n",
    "<body>\n",
    "    <h1>Коты</h1>  <!--заголовок-->\n",
    "    <p>Коты — это пушистые животные. Они умеют:</p>\n",
    "    <ol>  <!-- ordered list -->\n",
    "        <li>мурлыкать</li>\n",
    "        <li>мяукать</li>\n",
    "        <li>спать</li>\n",
    "    </ol>\n",
    "</body>\n",
    "</html>\n",
    "```\n",
    "\n",
    "Разбирать текст на HTML можно\n",
    "\n",
    "## Обычными методами работы со строками в Python:\n",
    "\n",
    "Попробуем достать заголовок"
   ]
  },
  {
   "cell_type": "code",
   "execution_count": 3,
   "outputs": [
    {
     "name": "stdout",
     "output_type": "stream",
     "text": [
      "Коты\n"
     ]
    }
   ],
   "source": [
    "cats = \"\"\"\n",
    "<!DOCTYPE html>\n",
    "<html lang=\"en\">\n",
    "<head>\n",
    "    <meta charset=\"UTF-8\">\n",
    "</head>\n",
    "<body>\n",
    "    <h1>Коты</h1>  <!--заголовок-->\n",
    "    <p>Коты — это пушистые животные. Они умеют:</p>\n",
    "    <ol>  <!-- ordered list -->\n",
    "        <li>мурлыкать</li>\n",
    "        <li>мяукать</li>\n",
    "        <li>спать</li>\n",
    "    </ol>\n",
    "</body>\n",
    "</html>\n",
    "\"\"\"\n",
    "\n",
    "h1_ind = cats.find('<h1>')\n",
    "h1_close_ind = cats.find('</h1>', h1_ind)  # ищем, начнем, начиная с позиции h1_ind\n",
    "\n",
    "# h1 = cats[h1_ind+4:h1_close_ind]  # так можно, но избегайте случайных констант\n",
    "h1 = cats[h1_ind+len('<h1>'):h1_close_ind]  # так можно, но избегайте случайных констант\n",
    "print(h1)"
   ],
   "metadata": {
    "collapsed": false,
    "pycharm": {
     "name": "#%%\n"
    }
   }
  },
  {
   "cell_type": "markdown",
   "source": [
    "## Регулярные выражения для разбора HTML\n",
    "\n",
    "Популярный подход, регулярные выражения часто используют для разбора HTML и других текстов:"
   ],
   "metadata": {
    "collapsed": false,
    "pycharm": {
     "name": "#%% md\n"
    }
   }
  },
  {
   "cell_type": "code",
   "execution_count": 6,
   "outputs": [
    {
     "name": "stdout",
     "output_type": "stream",
     "text": [
      "<re.Match object; span=(87, 100), match='<h1>Коты</h1>'>\n",
      "Коты\n"
     ]
    }
   ],
   "source": [
    "import re\n",
    "\n",
    "title_regexp = r'<h1>(.*)</h1>'\n",
    "title_regexp = r'<h1>([^<]*)</h1>'  # [^...] всё кроме. Здесь — любой символ кроме открывающей угловой скобки\n",
    "\n",
    "m = re.search(title_regexp, cats)\n",
    "print(m)\n",
    "h1 = m.group(1)  # содержимое первой группы\n",
    "print(h1)"
   ],
   "metadata": {
    "collapsed": false,
    "pycharm": {
     "name": "#%%\n"
    }
   }
  },
  {
   "cell_type": "markdown",
   "source": [
    "Используйте регулярные выражения только для очень простых задач\n",
    "## Сторонняя библиотека для разбора HTML\n",
    "Нужна библиотека, которая знает формат HTML и способна его прочитать, обработать так же, как это сделал бы браузер. Мы попробуем библиотеку BeautifulSoup. Она не устанавливается по-умолчанию, про установку скажем позже.\n"
   ],
   "metadata": {
    "collapsed": false,
    "pycharm": {
     "name": "#%% md\n"
    }
   }
  },
  {
   "cell_type": "code",
   "execution_count": 11,
   "outputs": [
    {
     "name": "stdout",
     "output_type": "stream",
     "text": [
      "<h1>Коты</h1>\n",
      "<li>мурлыкать</li>\n",
      "<li>мурлыкать</li>\n",
      "[<li>мурлыкать</li>, <li>мяукать</li>, <li>спать</li>]\n"
     ]
    }
   ],
   "source": [
    "from bs4 import BeautifulSoup\n",
    "\n",
    "# bs4 это модуль (версия 4), BeautifulSoup — класс для работы с HTML\n",
    "\n",
    "document = BeautifulSoup(cats)  # разбирает HTML из текста и возвращает объект для работы с содержимым\n",
    "print(document.h1)  # если обратиться к полю, которая называется как тег, мы получим первый тег на странице\n",
    "print(document.li)  # только первый li на странице\n",
    "\n",
    "print(document.find('li'))  # найти первый li на странице\n",
    "print(document.find_all('li'))  # найти все li в виде списка\n",
    "\n"
   ],
   "metadata": {
    "collapsed": false,
    "pycharm": {
     "name": "#%%\n"
    }
   }
  },
  {
   "cell_type": "markdown",
   "source": [
    "В методах `find`, `find_all` можно указывать атрибуты искомых тегов:\n"
   ],
   "metadata": {
    "collapsed": false,
    "pycharm": {
     "name": "#%% md\n"
    }
   }
  },
  {
   "cell_type": "code",
   "execution_count": 15,
   "outputs": [
    {
     "name": "stdout",
     "output_type": "stream",
     "text": [
      "[<li class=\"odd\">мурлыкать</li>, <li class=\"even\">мяукать</li>, <li class=\"odd\">спать</li>]\n",
      "[<li class=\"odd\">мурлыкать</li>, <li class=\"odd\">спать</li>]\n",
      "[<li class=\"odd\">мурлыкать</li>, <li class=\"even\">мяукать</li>, <li class=\"odd\">спать</li>]\n",
      "<ol> <!-- ordered list -->\n",
      "<li class=\"odd\">мурлыкать</li>\n",
      "<li class=\"even\">мяукать</li>\n",
      "<li class=\"odd\">спать</li>\n",
      "</ol>\n",
      " \n",
      "мурлыкать\n",
      "мяукать\n",
      "спать\n",
      "\n"
     ]
    }
   ],
   "source": [
    "cats = \"\"\"\n",
    "<!DOCTYPE html>\n",
    "<html lang=\"en\">\n",
    "<head>\n",
    "    <meta charset=\"UTF-8\">\n",
    "</head>\n",
    "<body>\n",
    "    <h1>Коты</h1>  <!--заголовок-->\n",
    "    <p>Коты — это пушистые животные. Они умеют:</p>\n",
    "    <ol>  <!-- ordered list -->\n",
    "        <li class=\"odd\">мурлыкать</li>\n",
    "        <li class=\"even\">мяукать</li>\n",
    "        <li class=\"odd\">спать</li>\n",
    "    </ol>\n",
    "</body>\n",
    "</html>\n",
    "\"\"\"\n",
    "\n",
    "document = BeautifulSoup(cats)\n",
    "print(document.find_all('li'))\n",
    "print(document.find_all('li', {'class': 'odd'}))  # можно добавлять в словарь и другие атрибуты\n",
    "\n",
    "# результат вызова find, find_all — это не строки, это сами элементы, внутри них можно искать подэлементы:\n",
    "\n",
    "abilities_list = document.find('ol')  # список умений котов, document.ol\n",
    "print(abilities_list.find_all('li'))  # ищем li внутри конкретного <ol>\n",
    "print(abilities_list)  # распечатывается html содержимое\n",
    "print(abilities_list.text)  # возвращает чистый текст узла без тегов\n",
    "# print(abilities_list.)  # много других возможностей по работе с узлами"
   ],
   "metadata": {
    "collapsed": false,
    "pycharm": {
     "name": "#%%\n"
    }
   }
  },
  {
   "cell_type": "code",
   "execution_count": 17,
   "outputs": [
    {
     "name": "stdout",
     "output_type": "stream",
     "text": [
      "a\n",
      "b\n"
     ]
    }
   ],
   "source": [
    "# Ответ на вопрос, почему cats.find() и document.find() делают разные вещи. Тип cats — строка, тип document — BeautifulSoup\n",
    "\n",
    "class A:\n",
    "    def foo(self):\n",
    "        print(\"a\")\n",
    "\n",
    "\n",
    "class B:\n",
    "    def foo(self):\n",
    "        print(\"b\")\n",
    "\n",
    "a = A()\n",
    "b = B()\n",
    "\n",
    "a.foo()\n",
    "b.foo()\n"
   ],
   "metadata": {
    "collapsed": false,
    "pycharm": {
     "name": "#%%\n"
    }
   }
  },
  {
   "cell_type": "markdown",
   "source": [
    "# Установка библиотек в Python\n",
    "Если кто-то создал библиотеку для Python (модуль или пакет с несколькими модулями), он (она) может выложить это для общего доступа в репозиторий пакетов. Таких репозиториев много, есть стандартный репозиторий, который все используют по-умолчанию. Есть набор пакетов Anaconda.\n",
    "Кроме этого, есть программы, пакетные менеджеры, которые позволяют устанавливать пакеты из репозиториев. Например, `pip`. В командной строке: `pip install bs4` — установка пакета bs4 (Библиотеки Beautiful Soup).\n",
    "\n",
    "Еще можно устанавливать в PyCharm (IDEA) в настройках проекта, точнее, в настройках интерпретатора Python.\n",
    "\n",
    "## Виртуальные окружения\n",
    "Проблема: если вы пишете много разных программ, может оказаться, что разным программам нужны разные библиотеки, которые друг с другом конфликтуют. Например, библиотека1 хочет пользоваться библиотекой3 версии 1.00 Кроме того, библотиека2 хочет пользоваться библиотекой3, но версии 15.00. Получается, что библиотека1 и библиотека2 не могут работать вместе (есть только одна установленная версия библиотеки3).\n",
    "\n",
    "Принято для каждого проекта (для каждой программы) создавать отдльное вид"
   ],
   "metadata": {
    "collapsed": false,
    "pycharm": {
     "name": "#%% md\n"
    }
   }
  },
  {
   "cell_type": "code",
   "execution_count": null,
   "outputs": [],
   "source": [],
   "metadata": {
    "collapsed": false,
    "pycharm": {
     "name": "#%%\n"
    }
   }
  }
 ],
 "metadata": {
  "kernelspec": {
   "display_name": "Python 3",
   "language": "python",
   "name": "python3"
  },
  "language_info": {
   "codemirror_mode": {
    "name": "ipython",
    "version": 2
   },
   "file_extension": ".py",
   "mimetype": "text/x-python",
   "name": "python",
   "nbconvert_exporter": "python",
   "pygments_lexer": "ipython2",
   "version": "2.7.6"
  }
 },
 "nbformat": 4,
 "nbformat_minor": 0
}