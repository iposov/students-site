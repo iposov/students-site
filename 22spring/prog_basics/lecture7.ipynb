{
 "cells": [
  {
   "cell_type": "markdown",
   "metadata": {
    "collapsed": true,
    "pycharm": {
     "name": "#%% md\n"
    }
   },
   "source": [
    "# Jupyter блокноты\n",
    "\n",
    "Исторически, первый проект в сторону появления блокнотов — IPython, это более удобная консоль для работы в Python.\n",
    "Jupyter блокнот — набор ячеек двух видов, ячейки с текстом и ячейки с кодом на Python. Ячейки с текстом содержат форматированный код (формат Markdown), ячейки с кодом можно выполнить, причем переменные, созданные в одной ячейке, доступны во всех остальных.\n",
    "Зачем нужны такие блокноты:\n",
    " - интерактивные вычисления, т.е. можно дописывать код по одной строчке, исправлять вычисления, исследовать данные. Данные постоянно хранятся в памяти, это полезно особенно, если данные большие, их хочется один раз загрузить, а потом исследовать по чуть-чуть.\n",
    " - удобно для обучения, хорошо подходит для конспекта по Python, по обработке данных и т.п.\n",
    " - удобно для статей в Интернете"
   ]
  },
  {
   "cell_type": "code",
   "execution_count": 12,
   "outputs": [
    {
     "name": "stdout",
     "output_type": "stream",
     "text": [
      "4\n"
     ]
    }
   ],
   "source": [
    "x = 2 + 2\n",
    "print(x)"
   ],
   "metadata": {
    "collapsed": false,
    "pycharm": {
     "name": "#%%\n"
    }
   }
  },
  {
   "cell_type": "code",
   "execution_count": null,
   "outputs": [],
   "source": [
    "print(x * x)"
   ],
   "metadata": {
    "collapsed": false,
    "pycharm": {
     "name": "#%%\n"
    }
   }
  },
  {
   "cell_type": "code",
   "execution_count": 6,
   "outputs": [],
   "source": [
    "# читаем в память весь файл (http.pdf — только для примера)\n",
    "with open('http.pdf', mode='rb') as f:\n",
    "    pdf = f.read()\n"
   ],
   "metadata": {
    "collapsed": false,
    "pycharm": {
     "name": "#%%\n"
    }
   }
  },
  {
   "cell_type": "code",
   "execution_count": 9,
   "outputs": [
    {
     "name": "stdout",
     "output_type": "stream",
     "text": [
      "b'%PDF-1.5\\n%'\n"
     ]
    }
   ],
   "source": [
    "print(pdf[:10])"
   ],
   "metadata": {
    "collapsed": false,
    "pycharm": {
     "name": "#%%\n"
    }
   }
  },
  {
   "cell_type": "code",
   "execution_count": 10,
   "outputs": [
    {
     "name": "stdout",
     "output_type": "stream",
     "text": [
      "366312\n"
     ]
    }
   ],
   "source": [
    "# можем узнать размер файла, повторное чтение не нужно\n",
    "print(len(pdf))"
   ],
   "metadata": {
    "collapsed": false,
    "pycharm": {
     "name": "#%%\n"
    }
   }
  },
  {
   "cell_type": "markdown",
   "source": [
    "## Возможности\n",
    "### текстовые ячейки:\n",
    "\n",
    "(формат Markdown)\n",
    "\n",
    "Заголовки — несколько диезов в начале строки. Выделение курсивом, _обрамляем текст подчеркиваниями_ или *звездочками*. Жирный — обрамляем __двойными подчеркиваниями__ или **двойными звездочками**.\n",
    "\n",
    "Нумерованные списки:\n",
    "1. первый элемент\n",
    "2. второй элемент\n",
    "3. третий элемент\n",
    "\n",
    "Нерумерованный:\n",
    "* звездочками\n",
    "* второй элемент\n",
    "* третий элемент с подэлементами\n",
    "    1. делаем отступ (4 пробела)\n",
    "    2. можно вставить нумерованный список\n",
    "* продолжается ненеумерованный список\n",
    "\n",
    "Неформатированный текст (часто код), тройная обратная кавычка в начале и конце\n",
    "```\n",
    "Это неформатированный текст\n",
    "```\n",
    "или отступ 4 пробела\n",
    "\n",
    "    неформатированный текст\n",
    "    еще неформатированный текст\n",
    "\n",
    "конец\n",
    "\n",
    "Есть другие возможности.\n",
    "\n",
    "### Возможности в ячейчках с кодом\n",
    "У ячеек с кодом есть вывод, туда выводится то, что получилось после запуска кода в ячейке. Обычно там текст, который получается при печати из print(), но могут быть и более интересные объекты:"
   ],
   "metadata": {
    "collapsed": false,
    "pycharm": {
     "name": "#%% md\n"
    }
   }
  },
  {
   "cell_type": "markdown",
   "source": [],
   "metadata": {
    "collapsed": false,
    "pycharm": {
     "name": "#%% md\n"
    }
   }
  },
  {
   "cell_type": "code",
   "execution_count": 11,
   "outputs": [
    {
     "data": {
      "text/plain": "[<matplotlib.lines.Line2D at 0x7f2419a49220>]"
     },
     "execution_count": 11,
     "metadata": {},
     "output_type": "execute_result"
    },
    {
     "data": {
      "text/plain": "<Figure size 432x288 with 1 Axes>",
      "image/png": "[encoded data removed]"
     },
     "metadata": {
      "needs_background": "light"
     },
     "output_type": "display_data"
    }
   ],
   "source": [
    "from matplotlib.pyplot import plot\n",
    "plot([10, 20, 30], [30, 10, 20], 'ro')"
   ],
   "metadata": {
    "collapsed": false,
    "pycharm": {
     "name": "#%%\n"
    }
   }
  },
  {
   "cell_type": "markdown",
   "source": [
    "## Файл с блокнотом\n",
    "\n",
    "Блокноты хранятся в файлах ipynb (от IPython notebook). Эти файлы содержат всю информацию о содержимом клеточек и __содержимое вывода__ в клеточках с кодом. Т.е. чтобы просмотреть блокнот, не обязательно запускать в нём код, результат выполнения кода сохраняется. Поэтому, Github, например, показывает ipynb файлы.\n",
    "\n",
    "## Ядро\n",
    "Ядро — это процесс в операционной системе, т.е. запущенная программа, которая выполняет код из ячеек и хранит значения переменных. Ядро надо запускать, его можно останавливать, можно перерывать, если оно зависло в процессе вычислений, можно перезапускать. После перезапуска значения переменных пропадают.\n",
    "\n",
    "Ядра в Jupyter бывают не только для Python, поэтому название технолгии и изменилось с IPython на Jupyter (Julia + Python + R), сейчас IPyhton — это название Python ядра. Поэтому такое же интерактивное программирование с блокнотами можно делать и на других языках: Java, ...\n",
    "\n",
    "## Работа с Jupyter блокнотами\n",
    "\n",
    "Все не так просто. Если вы хотите работать с блокнотами на своей компьютере, т.е. запускать ядро на своем компьютере, необходимо установить Python + библиотеку Jupyter + некоторые другие библиотеки. После этого вы запускаете ядро, оно при запуске говорит, как к нему можно подключиться, показывает ссылку для браузера. Т.е. пользовательский интефрейс сделан в Web. Такая установка может быть не очень простой.\n",
    "\n",
    "Другой вариант — можно установить Anaconda [https://www.anaconda.com](https://www.anaconda.com), это еще один дистрибутив Python, у него есть пользовательский интерфейс, чтобы запускать блокноты одной кнопкой.\n",
    "\n",
    "Третий вариант — через PyCharm (IDEA), она сама предложит установить пакет Jupyter. Работа с ipynb возможна только в коммерческих версиях. (PyCharm Community — не подходит). Используйте академическую лицензию.\n",
    "\n",
    "Онлайн блокноты:\n",
    "- Google collab: [https://colab.research.google.com](https://colab.research.google.com)\n",
    "- Kaggle блокноты\n",
    "- Datalore [https://datalore.jetbrains.com](https://datalore.jetbrains.com)\n",
    "\n",
    "У онлайн блокнотов есть ограничения, самое неприятное — ядра долго не живут, через какое-то время неактивности их надо перезапускать.\n",
    "\n",
    "Есть много других сервисов для разной работы с блокнотами...\n"
   ],
   "metadata": {
    "collapsed": false,
    "pycharm": {
     "name": "#%% md\n"
    }
   }
  }
 ],
 "metadata": {
  "kernelspec": {
   "name": "python3",
   "language": "python",
   "display_name": "Python 3 (ipykernel)"
  },
  "language_info": {
   "codemirror_mode": {
    "name": "ipython",
    "version": 2
   },
   "file_extension": ".py",
   "mimetype": "text/x-python",
   "name": "python",
   "nbconvert_exporter": "python",
   "pygments_lexer": "ipython2",
   "version": "2.7.6"
  }
 },
 "nbformat": 4,
 "nbformat_minor": 0
}