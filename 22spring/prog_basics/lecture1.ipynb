{
 "cells": [
  {
   "cell_type": "markdown",
   "metadata": {
    "collapsed": true,
    "pycharm": {
     "name": "#%% md\n"
    }
   },
   "source": [
    "# Объектно-ориентированное программирование\n",
    "\n",
    "Программа описывается как набор объектов, обычно похожих на объекты предметной области, и возможных взаимодействий между объектами. В процессе работы программы объекты посылают друг другу сообщения и реагируют на них.\n",
    "\n",
    "Примеры объектов: Студент, Преподаватель, Оценка за экзамен, Экзамен, Пересдача, Зачетка, ...\n",
    "Часто объектами являются программные абстракции: Файл, Соединение с базой данных, Курсор данных (указатель на запись в таблице БД, по курсору можно получить данные из строки таблицы), Фабрика соединений с БД (объект, который позволяет соединиться с БД), Декоратор XLS таблиц в XML-объект.\n",
    "\n",
    "Объекты имеют данные и поведение. Например, объект Студент содержит информации об имени, курсе, группе (это данные объекта). Поведение: распечатать на экране (или принтере) информацию о себе, перевестись на другой курс, отчислиться или зачислиться, ...\n",
    "\n",
    "В Python данные объектов хранятся в **полях** (как переменные, только они не сами по себе, а внутри объекта). А поведение описывается **методами** (как функции, только они не сами по себе, а внутри объекта).\n",
    "\n",
    "**Понятия Класс и Объект**: Класс — это описание объектов определенного вида. По смыслу, класс — это тип данных, например, есть тип `int` (`int(\"42\")`), у него есть значения 10, 42, 0. А класс `Student` это тип данных для хранения студентов. Другими словами, объекты класса студент — это конкретные студенты. Т.е. объект соответствует одному реальному объекту в мире. А Класс — это описание того, как эти объекты устроены. В программе, если описан один класс, у него может быть произвольное количество объектов.\n",
    "\n",
    "Пример:\n"
   ]
  },
  {
   "cell_type": "code",
   "execution_count": 4,
   "outputs": [],
   "source": [
    "# описание класса, имя класса принято делать с заглавной буквы\n",
    "# Если несколько слов в названии, то каждое слово с большой буквы: OneTwoThree\n",
    "class Student:\n",
    "    # поля объектов не описываются, в отличие от Java, например\n",
    "\n",
    "    # зато можно завести методы\n",
    "    def hello(self):\n",
    "        print(\"Hello, I'm a student!\")\n"
   ],
   "metadata": {
    "collapsed": false,
    "pycharm": {
     "name": "#%%\n"
    }
   }
  },
  {
   "cell_type": "markdown",
   "source": [
    "Мы завели класс Студент, пока он ничего не умеет, не имеет полей, только здоровается:\n"
   ],
   "metadata": {
    "collapsed": false,
    "pycharm": {
     "name": "#%% md\n"
    }
   }
  },
  {
   "cell_type": "code",
   "execution_count": 5,
   "outputs": [
    {
     "name": "stdout",
     "output_type": "stream",
     "text": [
      "Hello, I'm a student!\n",
      "Hello, I'm a student!\n"
     ]
    }
   ],
   "source": [
    "s1 = Student()  # вызов класса как фунции — это создание объекта\n",
    "s2 = Student()  # создали другой объект, это другой студент\n",
    "\n",
    "# чтобы попросить студента поздороваться, используем синтаксис:\n",
    "s1.hello()  # объект.метод(аргументы)\n",
    "s2.hello()\n"
   ],
   "metadata": {
    "collapsed": false,
    "pycharm": {
     "name": "#%%\n"
    }
   }
  },
  {
   "cell_type": "markdown",
   "source": [
    "Как сделать поля в классе. Можно просто взять и присвоить им значения:\n"
   ],
   "metadata": {
    "collapsed": false,
    "pycharm": {
     "name": "#%% md\n"
    }
   }
  },
  {
   "cell_type": "code",
   "execution_count": 6,
   "outputs": [],
   "source": [
    "s1 = Student()  # вызов класса как фунции — это создание объекта\n",
    "s2 = Student()  # создали другой объект, это другой студент\n",
    "\n",
    "s1.name = \"Ilya\"\n",
    "s1.surname = \"Posov\"\n",
    "s1.year = 1\n",
    "\n",
    "s2.name = \"Masha\"\n",
    "s2.surname = \"Masha\"\n",
    "s2.year = 2\n"
   ],
   "metadata": {
    "collapsed": false,
    "pycharm": {
     "name": "#%%\n"
    }
   }
  },
  {
   "cell_type": "markdown",
   "source": [
    "Нет никаких ошибок про то, что поля `name` не существует, можно брать и делать любые поля у любого объекта\n",
    "\n",
    "Как теперь сделать так, чтобы студент, здороваясь, говорил своё имя:\n"
   ],
   "metadata": {
    "collapsed": false,
    "pycharm": {
     "name": "#%% md\n"
    }
   }
  },
  {
   "cell_type": "code",
   "execution_count": 11,
   "outputs": [
    {
     "name": "stdout",
     "output_type": "stream",
     "text": [
      "Hello, I'm Ilya!\n",
      "Hello, I'm Masha!\n"
     ]
    }
   ],
   "source": [
    "class Student:\n",
    "\n",
    "    def hello(self):\n",
    "        # переменная self содержит ссылку на объект, для которого вызвали метод:\n",
    "        print(f\"Hello, I'm {self.name}!\")\n",
    "\n",
    "\n",
    "s1 = Student()  # вызов класса как фунции — это создание объекта\n",
    "s2 = Student()  # создали другой объект, это другой студент\n",
    "\n",
    "s1.name = \"Ilya\"\n",
    "s1.surname = \"Posov\"\n",
    "s1.year = 1\n",
    "\n",
    "s2.name = \"Masha\"\n",
    "s2.surname = \"Masha\"\n",
    "s2.year = 2\n",
    "\n",
    "s1.hello()  # здесь при вызове hello, self = s1\n",
    "s2.hello()  # здесь при вызове hello, self = s2"
   ],
   "metadata": {
    "collapsed": false,
    "pycharm": {
     "name": "#%%\n"
    }
   }
  },
  {
   "cell_type": "markdown",
   "source": [
    "Все методы внутри класса обязательно имеют первый аргумент, который означает тот объект, для которого вызван метод. Аргумент может называться как угодно, но самое распространенное название — это `self`.\n",
    "В java аналогичный аргумент называется `this`.\n",
    "\n",
    "Синтаксис `объект.метод(аргументы)` это на самом деле синтаксический сахар:"
   ],
   "metadata": {
    "collapsed": false,
    "pycharm": {
     "name": "#%% md\n"
    }
   }
  },
  {
   "cell_type": "code",
   "execution_count": 12,
   "outputs": [
    {
     "name": "stdout",
     "output_type": "stream",
     "text": [
      "Hello, I'm Ilya!\n",
      "Hello, I'm Ilya!\n"
     ]
    }
   ],
   "source": [
    "s1.hello()\n",
    "Student.hello(s1)  # эквивалентно предыдущему"
   ],
   "metadata": {
    "collapsed": false,
    "pycharm": {
     "name": "#%%\n"
    }
   }
  },
  {
   "cell_type": "markdown",
   "source": [
    "В этой форме явно видно, что аргументу self передается s1.\n",
    "\n",
    "## Инициализация объекта\n",
    "\n",
    "Хочется, чтобы в момент создания объекта его поля сразу получали корректные значения, и не было бы необходимости после создания присваивать полям значения. Хочется вместо:\n"
   ],
   "metadata": {
    "collapsed": false,
    "pycharm": {
     "name": "#%% md\n"
    }
   }
  },
  {
   "cell_type": "code",
   "execution_count": 13,
   "outputs": [],
   "source": [
    "s1 = Student()\n",
    "s1.name = \"Ilya\"\n",
    "s1.surname = \"Posov\"\n",
    "s1.year = 1\n"
   ],
   "metadata": {
    "collapsed": false,
    "pycharm": {
     "name": "#%%\n"
    }
   }
  },
  {
   "cell_type": "markdown",
   "source": [
    "Хочется писать так:"
   ],
   "metadata": {
    "collapsed": false,
    "pycharm": {
     "name": "#%% md\n"
    }
   }
  },
  {
   "cell_type": "code",
   "execution_count": 14,
   "outputs": [
    {
     "ename": "TypeError",
     "evalue": "Student() takes no arguments",
     "output_type": "error",
     "traceback": [
      "\u001B[0;31m---------------------------------------------------------------------------\u001B[0m",
      "\u001B[0;31mTypeError\u001B[0m                                 Traceback (most recent call last)",
      "\u001B[0;32m<ipython-input-14-640ac3b661a4>\u001B[0m in \u001B[0;36m<module>\u001B[0;34m\u001B[0m\n\u001B[0;32m----> 1\u001B[0;31m \u001B[0ms1\u001B[0m \u001B[0;34m=\u001B[0m \u001B[0mStudent\u001B[0m\u001B[0;34m(\u001B[0m\u001B[0;34m\"Ilya\"\u001B[0m\u001B[0;34m,\u001B[0m \u001B[0;34m\"Posov\"\u001B[0m\u001B[0;34m,\u001B[0m \u001B[0;36m1\u001B[0m\u001B[0;34m)\u001B[0m\u001B[0;34m\u001B[0m\u001B[0;34m\u001B[0m\u001B[0m\n\u001B[0m",
      "\u001B[0;31mTypeError\u001B[0m: Student() takes no arguments"
     ]
    }
   ],
   "source": [
    "s1 = Student(\"Ilya\", \"Posov\", 1)\n"
   ],
   "metadata": {
    "collapsed": false,
    "pycharm": {
     "name": "#%%\n"
    }
   }
  },
  {
   "cell_type": "markdown",
   "source": [
    "Для этого нужно добавтиь волшебный метод `__init__()` в описание класса. Этот метод вызывается при создании объекта и получает те аргументы, которые написаны после имени класса:"
   ],
   "metadata": {
    "collapsed": false,
    "pycharm": {
     "name": "#%% md\n"
    }
   }
  },
  {
   "cell_type": "code",
   "source": [
    "class Student:\n",
    "\n",
    "    def __init__(self, name, surname, year):\n",
    "        self.name = name\n",
    "        self.surname = surname\n",
    "        self.year = year\n",
    "\n",
    "    def hello(self):\n",
    "        print(f\"Hello, I'm {self.name}!\")\n",
    "\n",
    "s1 = Student(\"Ilya\", \"Posov\", 1)  # создание объекта + вызов метода __init__\n",
    "s2 = Student(\"Masha\", \"Masha\", 2)\n",
    "\n",
    "s1.hello()\n",
    "s2.hello()"
   ],
   "metadata": {
    "collapsed": false,
    "pycharm": {
     "name": "#%%\n"
    }
   },
   "execution_count": 16,
   "outputs": [
    {
     "name": "stdout",
     "output_type": "stream",
     "text": [
      "Hello, I'm Ilya!\n",
      "Hello, I'm Masha!\n"
     ]
    }
   ]
  },
  {
   "cell_type": "markdown",
   "source": [
    "Правильное название метода `__init__` «инициализатор» объекта, но мы часто будет говорить «конструктор» вместо «инициализатор».\n"
   ],
   "metadata": {
    "collapsed": false,
    "pycharm": {
     "name": "#%% md\n"
    }
   }
  },
  {
   "cell_type": "markdown",
   "source": [
    "## Пример объекта, строка из символов\n",
    "\n",
    "Хочется создать объект-картинку, это картинка в одну строку, в ней можно рисовать:\n"
   ],
   "metadata": {
    "collapsed": false,
    "pycharm": {
     "name": "#%% md\n"
    }
   }
  },
  {
   "cell_type": "code",
   "execution_count": null,
   "outputs": [],
   "source": [
    "img = Image1D(10, '.') # картинка из 10 символов, все точечки\n",
    "img.print()\n",
    "img.draw('*', 3, 6)  # нарисуй звёздочку с третьего по шестой индекс\n",
    "img.print()\n",
    "img.draw('$', 7, 9)\n",
    "img.print()"
   ],
   "metadata": {
    "collapsed": false,
    "pycharm": {
     "name": "#%%\n"
    }
   }
  },
  {
   "cell_type": "markdown",
   "source": [
    "Реализуем класс Image1D\n"
   ],
   "metadata": {
    "collapsed": false
   }
  },
  {
   "cell_type": "code",
   "execution_count": 21,
   "outputs": [
    {
     "name": "stdout",
     "output_type": "stream",
     "text": [
      ". . . . . . . . . .\n",
      ". . . * * * . . . .\n",
      ". . . * * * . $ $ .\n"
     ]
    }
   ],
   "source": [
    "class Image1D:\n",
    "\n",
    "    # Передаем размер картинки и символ, которым ее изначально надо заполнить\n",
    "    def __init__(self, length, symbol):\n",
    "        self.image = [symbol] * length  # создаём поле для хранения картинки\n",
    "\n",
    "    def print(self):\n",
    "        # print(self.image)\n",
    "        print(' '.join(self.image))  # соедини значения списка self.image через ''\n",
    "\n",
    "    # заполни символов symbol с индекса first до индекса last\n",
    "    def draw(self, symbol, first, last):\n",
    "        # self.image[first:last] = [symbol] * (last - first)\n",
    "        for i in range(first, last):\n",
    "            self.image[i] = symbol\n",
    "\n",
    "\n",
    "img = Image1D(10, '.')\n",
    "img.print()\n",
    "img.draw('*', 3, 6)\n",
    "img.print()\n",
    "img.draw('$', 7, 9)\n",
    "img.print()"
   ],
   "metadata": {
    "collapsed": false,
    "pycharm": {
     "name": "#%%\n"
    }
   }
  },
  {
   "cell_type": "markdown",
   "source": [
    "А давайте реализуем этот же класс вообще по-другому\n"
   ],
   "metadata": {
    "collapsed": false,
    "pycharm": {
     "name": "#%% md\n"
    }
   }
  },
  {
   "cell_type": "code",
   "execution_count": 22,
   "outputs": [
    {
     "name": "stdout",
     "output_type": "stream",
     "text": [
      ". . . . . . . . . .\n",
      ". . . * * * . . . .\n",
      ". . . * * * . $ $ .\n"
     ]
    }
   ],
   "source": [
    "class Image1D:\n",
    "\n",
    "    # Будем хранить картинку не в виде списка, а в виде строки\n",
    "    def __init__(self, length, symbol):\n",
    "        self.image = symbol * length  # создаём поле для хранения картинки\n",
    "\n",
    "    def print(self):\n",
    "        # print(self.image)\n",
    "        print(' '.join(self.image))\n",
    "\n",
    "    # заполни символов symbol с индекса first до индекса last\n",
    "    def draw(self, symbol, first, last):\n",
    "        self.image = self.image[:first] + symbol * (last - first) + self.image[last:]\n",
    "\n",
    "img = Image1D(10, '.')\n",
    "img.print()\n",
    "img.draw('*', 3, 6)\n",
    "img.print()\n",
    "img.draw('$', 7, 9)\n",
    "img.print()\n"
   ],
   "metadata": {
    "collapsed": false,
    "pycharm": {
     "name": "#%%\n"
    }
   }
  },
  {
   "cell_type": "markdown",
   "source": [
    "Обратите внимание, код, который использует класс, не изменился! Изменился только сам класс.\n"
   ],
   "metadata": {
    "collapsed": false,
    "pycharm": {
     "name": "#%% md\n"
    }
   }
  }
 ],
 "metadata": {
  "kernelspec": {
   "display_name": "Python 3",
   "language": "python",
   "name": "python3"
  },
  "language_info": {
   "codemirror_mode": {
    "name": "ipython",
    "version": 2
   },
   "file_extension": ".py",
   "mimetype": "text/x-python",
   "name": "python",
   "nbconvert_exporter": "python",
   "pygments_lexer": "ipython2",
   "version": "2.7.6"
  }
 },
 "nbformat": 4,
 "nbformat_minor": 0
}