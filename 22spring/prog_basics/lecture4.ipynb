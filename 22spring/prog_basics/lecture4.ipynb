{
 "cells": [
  {
   "cell_type": "markdown",
   "metadata": {
    "collapsed": true,
    "pycharm": {
     "name": "#%% md\n"
    }
   },
   "source": [
    "## Группы и объект сопоставления\n",
    "\n",
    "Каждая пара круглых скобок в регулярном выражении создает группу. Группы нумеруются по порядку открывающих скобок:\n"
   ]
  },
  {
   "cell_type": "code",
   "execution_count": 9,
   "outputs": [
    {
     "name": "stdout",
     "output_type": "stream",
     "text": [
      "<re.Match object; span=(0, 7), match='123:abc'>\n",
      "123\n",
      "abc\n",
      "('123', 'abc')\n",
      "123:abc\n",
      "0\n",
      "0\n",
      "7\n",
      "0\n",
      "3\n",
      "(0, 7)\n"
     ]
    }
   ],
   "source": [
    "import re\n",
    "\n",
    "expr = r'(\\d+):([a-z]+)'  # создали две группы, для последовательности цифр, для последовательности букв\n",
    "\n",
    "m = re.fullmatch(expr, '123:abc')\n",
    "print(m)\n",
    "print(m.group(1))  # получить группу по номеру\n",
    "print(m.group(2))  # получить группу по номеру\n",
    "print(m.groups())  # тьюпл из всех групп\n",
    "print(m.group()) # группа без номера — то, с чем сопоставилось выражение целиком\n",
    "print(m.pos)  # позиция в исходной строке, где было найдено сопоставление\n",
    "print(m.start())  # начало и конец сопоставления по индексу\n",
    "print(m.end())\n",
    "\n",
    "print(m.start(1))  # начало и конец сопоставления по индексу группы 1\n",
    "print(m.end(1))\n",
    "print(m.span())  # начало и конец в виде тьюпла"
   ],
   "metadata": {
    "collapsed": false,
    "pycharm": {
     "name": "#%%\n"
    }
   }
  },
  {
   "cell_type": "markdown",
   "source": [
    "Аналогичный объект получаем, если делаем поиск:\n"
   ],
   "metadata": {
    "collapsed": false,
    "pycharm": {
     "name": "#%% md\n"
    }
   }
  },
  {
   "cell_type": "code",
   "execution_count": 11,
   "outputs": [
    {
     "name": "stdout",
     "output_type": "stream",
     "text": [
      "123 и abc\n",
      "456 и xyzt\n"
     ]
    }
   ],
   "source": [
    "for m in re.finditer(expr, \"123:abc ******  456:xyzt ***\"):\n",
    "    print(f'{m.group(1)} и {m.group(2)}')\n"
   ],
   "metadata": {
    "collapsed": false,
    "pycharm": {
     "name": "#%%\n"
    }
   }
  },
  {
   "cell_type": "markdown",
   "source": [
    "Про сложные регулярные выражения. Не используйте сложные регулярные выражения, если приходится — решите задачу иначе. \"Если у вас была проблема, и вы решили ее с помощью регулярных выражений, то теперь у вас две проблемы\". В общем, пользуйтесь только простыми.\n",
    "\n",
    "Допустим, мы хотим искать в тексте упоминание моментов времени. Вид ЧЧ:ММ (часы и минуты через двоеточие). Мы знаем, что не бывает `24:89`, потому что часов не больше 23, минут не больше 59:\n"
   ],
   "metadata": {
    "collapsed": false,
    "pycharm": {
     "name": "#%% md\n"
    }
   }
  },
  {
   "cell_type": "code",
   "execution_count": 12,
   "outputs": [
    {
     "name": "stdout",
     "output_type": "stream",
     "text": [
      "Найдено время 12 часов и 57 минут\n",
      "Найдено время 05 часов и 00 минут\n"
     ]
    }
   ],
   "source": [
    "time_expr = r'([01][0-9]|2[0-3]):([0-5][0-9])'\n",
    "# r'(00|01|02|03|04|...|23)'\n",
    "text = \"Первое упоминание времени 12:57, неправильное упоминание 44:87 и еще 05:00\"\n",
    "\n",
    "for m in re.finditer(time_expr, text):\n",
    "    print(f'Найдено время {m.group(1)} часов и {m.group(2)} минут')\n"
   ],
   "metadata": {
    "collapsed": false,
    "pycharm": {
     "name": "#%%\n"
    }
   }
  },
  {
   "cell_type": "markdown",
   "source": [
    "Не найдено 44:87!\n",
    "Но это сложно, надо делать иначе. Регулярные выражения должны искать строки с правильным синтаксисом, но лучше не должны проверять семантику (смысл).\n"
   ],
   "metadata": {
    "collapsed": false,
    "pycharm": {
     "name": "#%% md\n"
    }
   }
  },
  {
   "cell_type": "code",
   "execution_count": 13,
   "outputs": [
    {
     "name": "stdout",
     "output_type": "stream",
     "text": [
      "Найдено время 12 часов и 57 минут\n",
      "Найдено время 5 часов и 0 минут\n"
     ]
    }
   ],
   "source": [
    "time_expr = r'(\\d\\d):(\\d\\d)'\n",
    "text = \"Первое упоминание времени 12:57, неправильное упоминание 44:87 и еще 05:00\"\n",
    "\n",
    "for m in re.finditer(time_expr, text):\n",
    "    hours = int(m.group(1))\n",
    "    minutes = int(m.group(2))\n",
    "    # проверяем смысл найденного\n",
    "    if 0 <= hours <= 23 and 0 <= minutes <= 59:\n",
    "        print(f'Найдено время {hours} часов и {minutes} минут')"
   ],
   "metadata": {
    "collapsed": false,
    "pycharm": {
     "name": "#%%\n"
    }
   }
  },
  {
   "cell_type": "markdown",
   "source": [
    "# Формат данных JSON\n",
    "\n",
    "Часто компьютер обрабатывает структурированные данные, и хранить такие данные в виде обычного текста — неудобно.\n",
    "Превращать данные в текст необходимо, чтобы обменивать ими с другими программами. Другие программы могут быть написаны на другом языке, запущены на другом компьютере, но если формат представления данных знаком обеим программам, они обе смогут им воспользоваться.\n",
    "\n",
    "Пример неудобного хранения данных:\n",
    "\n",
    "```\n",
    "1 Посов Илья курс 1\n",
    "2 Иванов Иван курс 2\n",
    "3 Иванов Сергей курс 1\n",
    "```\n",
    "\n",
    "Чтобы это прочитать нужен код наподобие:\n",
    "\n",
    "```\n",
    "with open(...) as f:\n",
    "    for line in f.readlines():\n",
    "        words = line.split()  # разделить по пробелам: ['1', 'Посов', 'Илья', 'курс', '1']\n",
    "        surname = words[1]\n",
    "        name = words[2]\n",
    "        course = int(words[4])\n",
    "```\n",
    "\n",
    "Бывает, что данные не чистые, где-то пропущена фамилия, курс указан не числом и т.д. Код для разбора всех этих случаев будет слишком длинный.\n",
    "\n",
    "Лучше подобные данные хранить иначе. Стандарт JSON = JavaScript Object Notation, данные в формате json — это корректный JS-код (и часто еще и корректный Python):\n",
    "\n",
    "```\n",
    "[\n",
    "    {\n",
    "        \"surname\": \"Посов\",\n",
    "        \"name\": \"Илья\",\n",
    "        \"course\": 1\n",
    "    },\n",
    "    {\n",
    "        \"surname\": \"Иванов\",\n",
    "        \"name\": \"Иван\",\n",
    "        \"course\": 2\n",
    "    },\n",
    "    {\n",
    "        \"surname\": \"Иванов\",\n",
    "        \"name\": \"Сергей\",\n",
    "        \"course\": 1\n",
    "    }\n",
    "]\n",
    "```\n",
    "\n",
    "Пусть есть текст в таком формате, его можно преобразовать в Python-данные с помощью возможностей встроенного пакета `json`:"
   ],
   "metadata": {
    "collapsed": false,
    "pycharm": {
     "name": "#%% md\n"
    }
   }
  },
  {
   "cell_type": "code",
   "execution_count": 17,
   "outputs": [
    {
     "name": "stdout",
     "output_type": "stream",
     "text": [
      "{'surname': 'Посов', 'name': 'Илья', 'course': 1}\n",
      "Имя Илья Фамилия Посов Курс 1\n",
      "{'surname': 'Иванов', 'name': 'Иван', 'course': 2}\n",
      "Имя Иван Фамилия Иванов Курс 2\n",
      "{'surname': 'Иванов', 'name': 'Сергей', 'course': 1}\n",
      "Имя Сергей Фамилия Иванов Курс 1\n"
     ]
    }
   ],
   "source": [
    "students_as_json = \"\"\"\n",
    "[\n",
    "    {\n",
    "        \"surname\": \"Посов\",\n",
    "        \"name\": \"Илья\",\n",
    "        \"course\": 1\n",
    "    },\n",
    "    {\n",
    "        \"surname\": \"Иванов\",\n",
    "        \"name\": \"Иван\",\n",
    "        \"course\": 2\n",
    "    },\n",
    "    {\n",
    "        \"surname\": \"Иванов\",\n",
    "        \"name\": \"Сергей\",\n",
    "        \"course\": 1\n",
    "    }\n",
    "]\n",
    "\"\"\"\n",
    "\n",
    "import json\n",
    "\n",
    "students = json.loads(students_as_json)  # получаем значение в Python, здесь это список\n",
    "for student in students:  # список словарей\n",
    "    print(student)  # каждый student это словарь\n",
    "    print(f'Имя {student[\"name\"]} Фамилия {student[\"surname\"]} Курс {student[\"course\"]}')"
   ],
   "metadata": {
    "collapsed": false,
    "pycharm": {
     "name": "#%%\n"
    }
   }
  },
  {
   "cell_type": "markdown",
   "source": [
    "Аналогично можно преобразовывать значения из Python в json-текст\n"
   ],
   "metadata": {
    "collapsed": false,
    "pycharm": {
     "name": "#%% md\n"
    }
   }
  },
  {
   "cell_type": "code",
   "execution_count": 21,
   "outputs": [
    {
     "name": "stdout",
     "output_type": "stream",
     "text": [
      "{\"student\": {\"name\": \"Ilya\", \"surname\": \"Posov\"}, \"marks\": [3, 4, 3, 3, 3, 5, 2]}\n"
     ]
    }
   ],
   "source": [
    "marks = [3, 4, 3, 3, 3, 5, 2]\n",
    "data = {\"student\": {\"name\": \"Ilya\", \"surname\": \"Posov\"}, \"marks\": marks}\n",
    "\n",
    "#превратить это в json-строку:\n",
    "data_as_json = json.dumps(data)\n",
    "\n",
    "print(data_as_json)"
   ],
   "metadata": {
    "collapsed": false,
    "pycharm": {
     "name": "#%%\n"
    }
   }
  },
  {
   "cell_type": "markdown",
   "source": [
    "Аналогичные методы `dump` и `load` сохраняют и читают из файла. Еще в пакете `json` есть классы JsonEncoder, JsonDecoder, работой которых можно управлять. Например, при записи json можно не ставить лишние пробелы, чтобы результат был как можно короче. Можно наоборот ставить много переводов строк для улучшения читаемости.\n"
   ],
   "metadata": {
    "collapsed": false,
    "pycharm": {
     "name": "#%% md\n"
    }
   }
  }
 ],
 "metadata": {
  "kernelspec": {
   "display_name": "Python 3",
   "language": "python",
   "name": "python3"
  },
  "language_info": {
   "codemirror_mode": {
    "name": "ipython",
    "version": 2
   },
   "file_extension": ".py",
   "mimetype": "text/x-python",
   "name": "python",
   "nbconvert_exporter": "python",
   "pygments_lexer": "ipython2",
   "version": "2.7.6"
  }
 },
 "nbformat": 4,
 "nbformat_minor": 0
}