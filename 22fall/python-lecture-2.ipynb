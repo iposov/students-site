{
 "cells":[
  {
   "cell_type":"markdown",
   "source":[
    "# Типы данных в Python\n",
    "\n",
    "Тип данных - это множество значений и операций над ними.\n",
    "\n",
    "`int` - целые числа произвольной точности. Можно задавать в программе с помощью следующих литералов: `12`, `5`, `1000000`, `1_000_000`, `0x10` (шестнадцатеричное число).\n",
    "\n",
    "`float` - вещественные числа, двойной точности, хранят примерно 18 значащих цифр.\n",
    "Примеры литералов: `147856.187234`, `1.0`, `1.`, `1E9` это миллиард, `1.23e2` это эквивалентно `123.`. Вычисления с такими числами не очень точные, но лучше, чем никакие вычисления:"
   ],
   "attachments":{
    
   },
   "metadata":{
    "datalore":{
     "node_id":"egpkIHmbjcgpyL7OnyBOwj",
     "type":"MD",
     "hide_input_from_viewers":false,
     "hide_output_from_viewers":false
    }
   }
  },
  {
   "cell_type":"code",
   "source":[
    "0.1 + 0.2"
   ],
   "execution_count":2,
   "outputs":[
    {
     "data":{
      "text\/plain":[
       "0.30000000000000004"
      ]
     },
     "metadata":{
      
     },
     "output_type":"display_data"
    }
   ],
   "metadata":{
    "datalore":{
     "node_id":"tAgRr9EPaEg0ewXNn0Gywj",
     "type":"CODE",
     "hide_input_from_viewers":false,
     "hide_output_from_viewers":false
    }
   }
  },
  {
   "cell_type":"markdown",
   "source":[
    "`bool` - логические значения, они бывают только `True`, `False`. Это единственные два _литерала_, которые задают логические значения.\n",
    "\n",
    "`str` - тип данных для хранения строк, т.е. последовательностей символов.\n",
    "\n",
    "Названия типов можно использовать (почти всегда) для преобразования типов:"
   ],
   "attachments":{
    
   },
   "metadata":{
    "datalore":{
     "node_id":"ipG4G6gzUOqVicQwqnt9oH",
     "type":"MD",
     "hide_input_from_viewers":false,
     "hide_output_from_viewers":false
    }
   }
  },
  {
   "cell_type":"code",
   "source":[
    "# \"123\" это строковое значение, функция int() превращает его в число:\n",
    "x = int(\"123\")\n",
    "# убедимся, что в x число:\n",
    "print(x, x + 1)\n",
    "\n",
    "# 321 это значение типа int, но функция str() превращает его в строку:\n",
    "y = str(321)\n",
    "# убедимся, что y это строка:\n",
    "# для строк + работает как конкатенация\n",
    "print(y, y + y)\n",
    "\n",
    "# int() часто ломается, если не может преобразовать значение в число.\n",
    "# str() работает всегда, он способен превратить в текст вообще всё что угодно\n",
    "print(int(\"123A\"))"
   ],
   "execution_count":6,
   "outputs":[
    {
     "name":"stdout",
     "text":[
      "123 124\n",
      "321 321321\n"
     ],
     "output_type":"stream"
    },
    {
     "ename":"ValueError",
     "evalue":"ValueError: invalid literal for int() with base 10: '123A'",
     "traceback":[
      "\u001b[0;31m---------------------------------------------------------------------------",
      "Traceback (most recent call last)",
      "    at line 14 in <module>",
      "ValueError: invalid literal for int() with base 10: '123A'"
     ],
     "output_type":"error"
    }
   ],
   "metadata":{
    "datalore":{
     "node_id":"saDSFHLGRiflKEsrnFAzHB",
     "type":"CODE",
     "hide_input_from_viewers":false,
     "hide_output_from_viewers":false
    }
   }
  },
  {
   "cell_type":"markdown",
   "source":[
    "В Python всё что угодно можно превратить в `bool`, обычно пустые или нулевые значения превращаются в `False`, остальное в `True`:"
   ],
   "attachments":{
    
   },
   "metadata":{
    "datalore":{
     "node_id":"qaFXSZIJ3x9bzQOEnSNDew",
     "type":"MD",
     "hide_input_from_viewers":false,
     "hide_output_from_viewers":false
    }
   }
  },
  {
   "cell_type":"code",
   "source":[
    "print(bool(\"abc\"))\n",
    "print(bool(42))\n",
    "print(bool(0))  # ноль\n",
    "print(bool(\"\"))  # пустая строка\n",
    "print(bool(\"True\"))\n",
    "print(bool(\"False\"))  # истина, потому что строка не пустая\n",
    "\n",
    "#Часто пишут что-то такое\n",
    "s = \"abc\"\n",
    "if s:  # строчка в качестве условия в if!! Она превратится в bool\n",
    "    print(\"строка не пустая\")\n",
    "else:\n",
    "    print(\"строка пустая\")\n",
    "\n",
    "# моя рекомендация, вместо этого писать\n",
    "if s != \"\":\n",
    "    print(\"строка не пустая\")\n",
    "else:\n",
    "    print(\"строка пустая\")"
   ],
   "execution_count":8,
   "outputs":[
    {
     "name":"stdout",
     "text":[
      "True\n",
      "True\n",
      "False\n",
      "False\n",
      "True\n",
      "True\n"
     ],
     "output_type":"stream"
    }
   ],
   "metadata":{
    "datalore":{
     "node_id":"0JjP45JYmWzVvLfEKjoxpu",
     "type":"CODE",
     "hide_input_from_viewers":false,
     "hide_output_from_viewers":false
    }
   }
  },
  {
   "cell_type":"markdown",
   "source":[
    "# Строковый тип `str`\n",
    "\n",
    "Строки - последовательности символов. В современном python 3 это символы из стандарта Unicode. Он содержит в себе все (почти) письменные символы: буквы, цифры, знаки препинания, математические символы, управляющие символы (например, неразрывные пробелы, символ смены направления текста), смайлики и другие бесполезные символы.\n",
    "\n",
    "Еще пример, символ рубля, имеет код: 20BD.\n",
    "\n",
    "Литералы строк - это последовательности символов внутри двойных или одинарных кавычек:"
   ],
   "attachments":{
    
   },
   "metadata":{
    "datalore":{
     "node_id":"OafMlrlv9EoiydSY3aQzbz",
     "type":"MD",
     "hide_input_from_viewers":false,
     "hide_output_from_viewers":false
    }
   }
  },
  {
   "cell_type":"code",
   "source":[
    "s1 = \"asdf\"\n",
    "s2 = \" ,msd 7*(^&683704 \"\n",
    "s3 = \"123₽\"  # пример строки с необычным символом\n",
    "s4 = '123₽'\n",
    "s5 = 'asdf'  # полностью эквивалентно \"asdf\""
   ],
   "execution_count":10,
   "outputs":[
    
   ],
   "metadata":{
    "datalore":{
     "node_id":"N5TsfgJ6MliQSRyG4Alv2P",
     "type":"CODE",
     "hide_input_from_viewers":false,
     "hide_output_from_viewers":false
    }
   }
  },
  {
   "cell_type":"markdown",
   "source":[
    "Символ `\\` в литералах строк - особенный. Это символ экранирования, он изменяет смысл следующего за ним символа. Например `n` означает букву эн, а `\\n` обзначает символ перевода строки."
   ],
   "attachments":{
    
   },
   "metadata":{
    "datalore":{
     "node_id":"8l0IjMCFyjSqdCqc5cyUMs",
     "type":"MD",
     "hide_input_from_viewers":false,
     "hide_output_from_viewers":false
    }
   }
  },
  {
   "cell_type":"code",
   "source":[
    "s1 = \"Hello n World!\"\n",
    "s2 = \"Hello \\n World!\" # символ перевода строки\n",
    "print(s1)\n",
    "print(s2)"
   ],
   "execution_count":11,
   "outputs":[
    {
     "name":"stdout",
     "text":[
      "Hello n World!\n",
      "Hello \n",
      " World!\n"
     ],
     "output_type":"stream"
    }
   ],
   "metadata":{
    "datalore":{
     "node_id":"uBNH3Ch0keglCUfPJx4Mvx",
     "type":"CODE",
     "hide_input_from_viewers":false,
     "hide_output_from_viewers":false
    }
   }
  },
  {
   "cell_type":"markdown",
   "source":[
    "Количество символов в строках можно с помощью функции `len()`:"
   ],
   "attachments":{
    
   },
   "metadata":{
    "datalore":{
     "node_id":"DUTQn5ftwtWMk7n1vr2GI3",
     "type":"MD",
     "hide_input_from_viewers":false,
     "hide_output_from_viewers":false
    }
   }
  },
  {
   "cell_type":"code",
   "source":[
    "print(len(\"abc\"))  # 3 символа\n",
    "print(len(\"abcn\"))  # 4 символа\n",
    "print(len(\"abc\\n\"))  # 4 символа\n",
    "print(len(\"\\n\\n\\n\\n\"))  # 4 символа"
   ],
   "execution_count":13,
   "outputs":[
    {
     "name":"stdout",
     "text":[
      "3\n",
      "4\n",
      "4\n",
      "4\n"
     ],
     "output_type":"stream"
    }
   ],
   "metadata":{
    "datalore":{
     "node_id":"LfA82DIa6bHPxMs7FYDB6P",
     "type":"CODE",
     "hide_input_from_viewers":false,
     "hide_output_from_viewers":false
    }
   }
  },
  {
   "cell_type":"markdown",
   "source":[
    "Какие еще бывают символы с экранированием: `\\t` табуляция, `\\0` символ с кодом 0, много другого бесполезного, `\\\\` символ слеша, `\\u20BD` - символ с кодом `20BD`:"
   ],
   "attachments":{
    
   },
   "metadata":{
    "datalore":{
     "node_id":"sGQpplEdGD8RyatxzWWPh5",
     "type":"MD",
     "hide_input_from_viewers":false,
     "hide_output_from_viewers":false
    }
   }
  },
  {
   "cell_type":"code",
   "source":[
    "print(\"a\\tbc\\td\")\n",
    "print(\"ax\\tb\\td\")\n",
    "print(\"a\\\\b\")  # строка из 3 символов\n",
    "print(\"123\\u20BD\")\n",
    "print(\"\\u20BD\\u20BD\")  # два символа в строке"
   ],
   "execution_count":19,
   "outputs":[
    {
     "name":"stdout",
     "text":[
      "a\tbc\td\n",
      "ax\tb\td\n",
      "a\\b\n",
      "123₽\n",
      "₽₽\n"
     ],
     "output_type":"stream"
    }
   ],
   "metadata":{
    "datalore":{
     "node_id":"yB3wyhy2HJeurk8lmGuLTD",
     "type":"CODE",
     "hide_input_from_viewers":false,
     "hide_output_from_viewers":false
    }
   }
  },
  {
   "cell_type":"markdown",
   "source":[
    "Еще строки можно писать так:"
   ],
   "attachments":{
    
   },
   "metadata":{
    "datalore":{
     "node_id":"97azM7ogJVnQ4oLaNL6DkI",
     "type":"MD",
     "hide_input_from_viewers":false,
     "hide_output_from_viewers":false
    }
   }
  },
  {
   "cell_type":"code",
   "source":[
    "# это строка (string), занимающая несколько строк (line)\n",
    "s1 = \"\"\"Hello World\n",
    "the second line\n",
    "one more line\n",
    "\"\"\"\n",
    "\n",
    "s2 = '''Hello World\n",
    "the second line\n",
    "one more line\n",
    "'''  # аналогично\n",
    "\n",
    "# если перед литералом строки указана буква r (raw), значит в строке не действуют\n",
    "# экранирования:\n",
    "\n",
    "s3 = \"abc\\nd\"  # строка из 5 символов с переводом строки\n",
    "s4 = r\"abc\\nd\"  # это просто 6 символов, ровно тех, что написаны\n",
    "print(s3)\n",
    "print(s4)\n",
    "s5 = r\"c:\\windows\\a.txt\"\n",
    "\n",
    "s6 = r\"\"\"asdf\\n\\n\\n\"\"\"\n",
    "\n",
    "#см. прошлый раз, f позволяет подставлять значения внутрь строк\n",
    "#(интерполяция строк)\n",
    "x = 42\n",
    "s7 = f\"x = {x}\"\n",
    "print(s7)\n",
    "\n",
    "# Все возможности можно комбинировать\n",
    "s8 = rf\"\"\"x = \\n {x} \\n\"\"\"\n",
    "print(s8)"
   ],
   "execution_count":24,
   "outputs":[
    {
     "name":"stdout",
     "text":[
      "abc\n",
      "d\n",
      "abc\\nd\n",
      "x = 42\n",
      "x = \\n 42 \\n\n"
     ],
     "output_type":"stream"
    }
   ],
   "metadata":{
    "datalore":{
     "node_id":"Ag0TZPdh7h9ZsigbJZa9vs",
     "type":"CODE",
     "hide_input_from_viewers":false,
     "hide_output_from_viewers":false
    }
   }
  },
  {
   "cell_type":"markdown",
   "source":[
    "# Функции\n",
    "\n",
    "Определение функции:\n",
    "\n",
    "```\n",
    "def ИМЯ(аргумент1, аргумент2):\n",
    "    ТЕЛО ФУНКЦИИ\n",
    "    return указывает, какой результат вернуть\n",
    "```"
   ],
   "attachments":{
    
   },
   "metadata":{
    "datalore":{
     "node_id":"wHKdaB8oVSubwsa8YCwUNe",
     "type":"MD",
     "hide_input_from_viewers":false,
     "hide_output_from_viewers":false
    }
   }
  },
  {
   "cell_type":"code",
   "source":[
    "def f(x, y):  # получает на вход два значения\n",
    "    return x + y  # указываем, что результат вычисления функции x + y\n",
    "\n",
    "def g(x, y):  # пример каких-то вычислений\n",
    "    if x > 0:\n",
    "        return y\n",
    "    else:\n",
    "        return y + 1\n",
    "    \n",
    "def h(x):\n",
    "    if x > 100:\n",
    "        return \"много\"\n",
    "    elif x > 10:\n",
    "        return \"несколько\"\n",
    "    \n",
    "    return \"мало\""
   ],
   "execution_count":25,
   "outputs":[
    
   ],
   "metadata":{
    "datalore":{
     "node_id":"0GE6n6l6w8vrfkm1KeubhW",
     "type":"CODE",
     "hide_input_from_viewers":false,
     "hide_output_from_viewers":false
    }
   }
  },
  {
   "cell_type":"markdown",
   "source":[
    "Вызов функции - указывается имя и в скобках фактические значения аргументов:"
   ],
   "attachments":{
    
   },
   "metadata":{
    "datalore":{
     "node_id":"ukVJeriW5K8ho48LiOexrb",
     "type":"MD",
     "hide_input_from_viewers":false,
     "hide_output_from_viewers":false
    }
   }
  },
  {
   "cell_type":"code",
   "source":[
    "z = f(10, 20)\n",
    "print(z)\n",
    "print(f(10, 20) + f(0, 0) \/ 5)\n",
    "\n",
    "print(g(10, 20))  # 20\n",
    "print(g(-10, 20))  # 21\n",
    "\n",
    "s = h(123)\n",
    "print(s)\n",
    "print(h(100))  # если вернулось \"много\", дальше функция сразу заканчивается\n",
    "print(h(0))"
   ],
   "execution_count":29,
   "outputs":[
    {
     "name":"stdout",
     "text":[
      "30\n",
      "30.0\n",
      "20\n",
      "21\n",
      "много\n"
     ],
     "output_type":"stream"
    }
   ],
   "metadata":{
    "datalore":{
     "node_id":"Qh3uWbv1h3t44iSZQ5wHp5",
     "type":"CODE",
     "hide_input_from_viewers":false,
     "hide_output_from_viewers":false
    }
   }
  },
  {
   "cell_type":"markdown",
   "source":[
    "Пример функции с побочным эффектом, которая не возвращает результат:"
   ],
   "attachments":{
    
   },
   "metadata":{
    "datalore":{
     "node_id":"BJDMosqUSNWuZuNhnkhorN",
     "type":"MD",
     "hide_input_from_viewers":false,
     "hide_output_from_viewers":false
    }
   }
  },
  {
   "cell_type":"code",
   "source":[
    "def hello(name):\n",
    "    print(f\"Hello, {name}!\")\n",
    "\n",
    "hello(\"Ilya\")\n",
    "print(hello(\"Masha\"))  # если return не сработал, возвращается значение None"
   ],
   "execution_count":31,
   "outputs":[
    {
     "name":"stdout",
     "text":[
      "Hello, Ilya!\n",
      "Hello, Masha!\n",
      "None\n"
     ],
     "output_type":"stream"
    }
   ],
   "metadata":{
    "datalore":{
     "node_id":"NWOkg1mmDELNYxfOyHouaY",
     "type":"CODE",
     "hide_input_from_viewers":false,
     "hide_output_from_viewers":false
    }
   }
  },
  {
   "cell_type":"code",
   "source":[
    
   ],
   "execution_count":null,
   "outputs":[
    
   ],
   "metadata":{
    "datalore":{
     "node_id":"9X6WzuvGqaNUOLNoBAknHA",
     "type":"CODE",
     "hide_input_from_viewers":false,
     "hide_output_from_viewers":false
    }
   }
  }
 ],
 "metadata":{
  "kernelspec":{
   "display_name":"Python",
   "language":"python",
   "name":"python"
  },
  "datalore":{
   "version":1,
   "computation_mode":"JUPYTER",
   "package_manager":"pip",
   "base_environment":"default",
   "packages":[
    
   ]
  }
 },
 "nbformat":4,
 "nbformat_minor":4
}