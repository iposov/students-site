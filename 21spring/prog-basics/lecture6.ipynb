{
 "cells": [
  {
   "cell_type": "markdown",
   "source": [
    "# Вспоминаем класс \"Многочлен\""
   ],
   "metadata": {
    "collapsed": false,
    "pycharm": {
     "name": "#%% md\n"
    }
   }
  },
  {
   "cell_type": "code",
   "execution_count": 4,
   "outputs": [
    {
     "name": "stdout",
     "output_type": "stream",
     "text": [
      "x^2+2x+3\n",
      "x^2+2x+3\n",
      "x^2+2x+3\n",
      "p[0] = 3\n",
      "p[0] = 3\n"
     ]
    }
   ],
   "source": [
    "class Poly:\n",
    "    def __init__(self, coefs):\n",
    "        self._coefs = coefs\n",
    "\n",
    "    def deg(self):\n",
    "        return len(self._coefs) - 1\n",
    "\n",
    "    # посчитать значение в точке x\n",
    "    def value(self, x):\n",
    "        # n = 0\n",
    "        # sum = 0\n",
    "        # for coef in self.coefs:\n",
    "        #     sum += coef * x ** n\n",
    "        #     n += 1\n",
    "\n",
    "        # x^2 + 2x + 3, [3, 2, 1]\n",
    "        sum = 0\n",
    "        for n, coef in enumerate(self._coefs):\n",
    "            #n перебирает индексы 0, 1, 2, 3\n",
    "            #coef перебирает элементы массива\n",
    "            sum += coef * x ** n\n",
    "        return sum\n",
    "\n",
    "    # сделать красивую строку из многочлена\n",
    "    def pretty(self):\n",
    "        #сначала сделаем список одночленов\n",
    "        #если коэффициенты [2, 0, 3, -1], то\n",
    "        #получим [2, 0, 3x^2, -x^3].\n",
    "\n",
    "        #add_coef(1, 'x') -> 'x'\n",
    "        #add_coef(2, 'x') -> '2x'\n",
    "        #add_coef(-3, 'x') -> '-3x'\n",
    "        #add_coef(0, 'x') -> '0'\n",
    "        def add_coef(c, var):\n",
    "            if c == 0:\n",
    "                return '0'\n",
    "            if c == 1:\n",
    "                return var\n",
    "            if c == -1:\n",
    "                return '-' + var\n",
    "            return f'{c}{var}'\n",
    "\n",
    "        #add_polys('2x', '3x^2') -> '2x+3x^2'\n",
    "        #add_polys('2x', '-3x^2') -> '2x-3x^2'\n",
    "        #add_polys('0', '-3x^2') -> '-3x^2'\n",
    "        def add_polys(m1, m2):\n",
    "            if m1 == '0':\n",
    "                return m2\n",
    "            if m2 == '0':\n",
    "                return m1\n",
    "            if m2[0] == '-':\n",
    "                return m1 + m2\n",
    "            return m1 + '+' + m2\n",
    "\n",
    "        # [4, 5, 3, 2]  -> 4 + 5x + 3x^2\n",
    "        result = str(self._coefs[0]) # '4'\n",
    "        # перебираем список [5, 3, 2]\n",
    "        for d, coef in enumerate(self._coefs[1:]):\n",
    "            if d == 0:\n",
    "                var = 'x'\n",
    "            else:\n",
    "                var = f'x^{d + 1}'\n",
    "            result = add_polys(add_coef(coef, var), result)\n",
    "        return result\n",
    "    \n",
    "    # добавим магические методы\n",
    "    def __str__(self):\n",
    "        return self.pretty()\n",
    "    \n",
    "    def __getitem__(self, x):  # обработка вызова через []\n",
    "        return self.value(x)\n",
    "\n",
    "p = Poly([3, 2, 1])  # 3 + 2x + x^2\n",
    "print(p.pretty())  # красивая форма\n",
    "print(str(p))  # неявный вызов p.__str__()\n",
    "print(p)  # неявный вызов str()\n",
    "\n",
    "print('p[0] =', p.value(0))\n",
    "print('p[0] =', p[0])  # вызов __getitem__()"
   ],
   "metadata": {
    "collapsed": false,
    "pycharm": {
     "name": "#%%\n"
    }
   }
  },
  {
   "cell_type": "markdown",
   "source": [
    "## Статические элементы класса\n",
    "\n",
    "Вспомним. Класс — описание множества объектов.\n",
    "Объект — представитель (instance) класса.\n",
    "Есть класс Многочлен. Объекты - конкретные многочлены,\n",
    "2x + 3, 5x^10 - 6x^3 + 8.\n",
    "\n",
    "У объекта могут быть поля (хранят данные), методы (действия).\n",
    "Те поля и методы, которые мы создавали раньше, относились\n",
    "к объекту. Т.е. разные объекты хранят разные данные,\n",
    "вызов одного и того же метода у разных объектов приводит\n",
    "к разным результатам.\n",
    "\n",
    "Например, класс Студентов. Первый объект имеет поле name\n",
    "со значением Иванов. Второй объект в поле name хранит\n",
    "Петров. Вызов метода \"поздороваться\" у первого объекта\n",
    "выводит на экран приветствие с фамилией Иванов. У второго\n",
    "— Петров\n",
    "\n",
    "```\n",
    "s1 = Student()\n",
    "s1.name = \"Иванов\"\n",
    "s2 = Student()\n",
    "s2.name = \"Петров\"\n",
    "s1.greet()  # печатает Привет, я Иванов\n",
    "s2.greet()  # печатает Привет, я Петров\n",
    "```\n",
    "\n",
    "А **Статические** поля и методы относятся к классу.\n",
    "Статическое поле хранится для класса, один раз. Его нет\n",
    "у объектов. Статический метод тоже вызывается для класса,\n",
    "у объектов нет этого метода.\n",
    "\n",
    "Примеры.\n",
    "У многочлена может быть статическое поле с нулевым\n",
    "многочленом. Или статический метод, который создает\n",
    "нулевой многочлен.\n",
    "\n",
    "```\n",
    "z = Poly.ZERO # хранится многочлен [0]\n",
    "# имеет ли смысл делать так\n",
    "p = Poly([3, 2, 1])\n",
    "p.ZERO # ?? странный код, ZERO не относится к конкретному\n",
    "       # многочлену, он относится ко всему классу\n",
    "\n",
    "q = Poly.pow_minus_1(10)  # создает многочлен x^10 - 1\n",
    "r = Poly.pow_minus_1(20)  # создает многочлен x^20 - 1\n",
    "\n",
    "# Имеет ли смысл писать так:\n",
    "# q = p.pow_minus_1(10)  # создает x^10 - 1\n",
    "```\n",
    "\n",
    "Здесь ZERO, pow_minus_1 - это статические поля и методы\n",
    "класса. Относятся к классу, а не к объекту.\n",
    "\n",
    "Давайте сделаем их, добавим к классу Poly"
   ],
   "metadata": {
    "collapsed": false,
    "pycharm": {
     "name": "#%% md\n"
    }
   }
  },
  {
   "cell_type": "code",
   "execution_count": 9,
   "outputs": [
    {
     "name": "stdout",
     "output_type": "stream",
     "text": [
      "0\n",
      "x^5-1\n",
      "0\n",
      "x^6-1\n"
     ]
    }
   ],
   "source": [
    "class Poly:\n",
    "    ZERO = Poly([0])  # статическое поле\n",
    "\n",
    "    @staticmethod  #значит, метод будет статическим\n",
    "    def pow_minus_1(pow):\n",
    "        # x^5 - 1  = [-1, 0, 0, 0, 0, 1]\n",
    "        return Poly([-1] + [0] * (pow - 1) + [1])\n",
    "\n",
    "    # _coefs и другие поля, которые вводятся через\n",
    "    # self - это обычные поля, не статические.\n",
    "    # их можно задавать в __init__ и где угодно еще\n",
    "    def __init__(self, coefs):\n",
    "        self._coefs = coefs\n",
    "\n",
    "    def deg(self):\n",
    "        return len(self._coefs) - 1\n",
    "\n",
    "    def value(self, x):\n",
    "        sum = 0\n",
    "        for n, coef in enumerate(self._coefs):\n",
    "            sum += coef * x ** n\n",
    "        return sum\n",
    "\n",
    "    def pretty(self):\n",
    "        def add_coef(c, var):\n",
    "            if c == 0:\n",
    "                return '0'\n",
    "            if c == 1:\n",
    "                return var\n",
    "            if c == -1:\n",
    "                return '-' + var\n",
    "            return f'{c}{var}'\n",
    "\n",
    "        def add_polys(m1, m2):\n",
    "            if m1 == '0':\n",
    "                return m2\n",
    "            if m2 == '0':\n",
    "                return m1\n",
    "            if m2[0] == '-':\n",
    "                return m1 + m2\n",
    "            return m1 + '+' + m2\n",
    "\n",
    "        result = str(self._coefs[0]) # '4'\n",
    "        for d, coef in enumerate(self._coefs[1:]):\n",
    "            if d == 0:\n",
    "                var = 'x'\n",
    "            else:\n",
    "                var = f'x^{d + 1}'\n",
    "            result = add_polys(add_coef(coef, var), result)\n",
    "        return result\n",
    "\n",
    "    def __str__(self):\n",
    "        return self.pretty()\n",
    "\n",
    "    def __getitem__(self, x):  # обработка вызова через []\n",
    "        return self.value(x)\n",
    "\n",
    "z = Poly.ZERO\n",
    "print(z)\n",
    "p5 = Poly.pow_minus_1(5)\n",
    "print(p5)\n",
    "\n",
    "# так можно делать, но не нужно:\n",
    "print(z.ZERO)  # лучше Poly.ZERO, потому что при чем здесь z?\n",
    "print(z.pow_minus_1(6))  # лучше Poly.pow_minus_1(6), потому что при чем здесь z?"
   ],
   "metadata": {
    "collapsed": false,
    "pycharm": {
     "name": "#%%\n"
    }
   }
  },
  {
   "cell_type": "markdown",
   "source": [
    "## Хранение в памяти статических полей"
   ],
   "metadata": {
    "collapsed": false,
    "pycharm": {
     "name": "#%% md\n"
    }
   }
  },
  {
   "cell_type": "code",
   "execution_count": 15,
   "outputs": [
    {
     "name": "stdout",
     "output_type": "stream",
     "text": [
      "42\n",
      "[10, 20, 30]\n",
      "asdf\n",
      "42\n",
      "[10, 20, 30]\n",
      "asdf\n",
      "42\n",
      "[10, 20, 30]\n",
      "новое значение поля 3 в a1\n",
      "asdf\n",
      "24\n",
      "42\n",
      "42\n",
      "[10, 22, 30]\n",
      "[10, 22, 30]\n",
      "[10, 22, 30]\n"
     ]
    }
   ],
   "source": [
    "class A:\n",
    "    field1 = 42\n",
    "    field2 = [10, 20, 30]\n",
    "\n",
    "    def __init__(self):\n",
    "        self.field3 = \"asdf\"\n",
    "\n",
    "a1 = A()\n",
    "a2 = A()\n",
    "\n",
    "print(a1.field1)  # лучше A.field1\n",
    "print(a1.field2)  # лучше A.field2\n",
    "print(a1.field3)\n",
    "\n",
    "print(a2.field1)  # лучше A.field1\n",
    "print(a2.field2)  # лучше A.field2\n",
    "print(a2.field3)\n",
    "\n",
    "print(A.field1)\n",
    "print(A.field2)\n",
    "# print(A.field3)  # нет такого поля у класса, только у объектов\n",
    "\n",
    "a1.field3 = \"новое значение поля 3 в a1\"\n",
    "print(a1.field3)\n",
    "print(a2.field3)  # не поменялось, это поле у каждого объекта своё\n",
    "\n",
    "a1.field1 = 24\n",
    "print(a1.field1)  # поменялось\n",
    "print(a2.field1)  # не поменялось!\n",
    "print(A.field1)  # не поменялось!\n",
    "\n",
    "# Оказалось, что в a1 создано новое поле, которое закрывает старое.\n",
    "\n",
    "# изменим содержимое списка field2\n",
    "a1.field2[1] = 22  #вместо 20, которые там были раньше\n",
    "# Изменится везде\n",
    "print(a1.field2)\n",
    "print(a2.field2)\n",
    "print(A.field2)"
   ],
   "metadata": {
    "collapsed": false,
    "pycharm": {
     "name": "#%%\n"
    }
   }
  },
  {
   "cell_type": "code",
   "execution_count": 13,
   "outputs": [],
   "source": [],
   "metadata": {
    "collapsed": false,
    "pycharm": {
     "name": "#%%\n"
    }
   }
  },
  {
   "cell_type": "markdown",
   "source": [
    "Наследование.\n",
    "\n",
    "Часто оказывается, что классы похожи, имеют схожую\n",
    "функциональность, одинаковые поля, методы. Если подумать,\n",
    "часто оказывается, что один класс - частный случай другого.\n",
    "Например, Человек, Студент, Преподаватель. Все имеют поля\n",
    "имя, фамилию, возвраст. Студент дополнительно имеет поля\n",
    "с информацией о номере курса. Преподаватель — список\n",
    "курсов, которые он ведет.\n",
    "\n",
    "Фактически, Студент и Преподаватель - частные случаи Человека."
   ],
   "metadata": {
    "collapsed": false,
    "pycharm": {
     "name": "#%% md\n"
    }
   }
  },
  {
   "cell_type": "code",
   "execution_count": null,
   "outputs": [],
   "source": [
    "class Human:\n",
    "    def __init__(self, name, surname):\n",
    "        # задаем поля для объекта (не статические)\n",
    "        self.name = name\n",
    "        self.surname = surname\n",
    "\n",
    " # Student — наследник Human\n",
    " # Student — частный случай Human\n",
    "class Student(Human):\n",
    "    def __init__(self, name, surname, course):\n",
    "        super().__init__(name, surname)\n",
    "        self.course = course  # номер курса\n",
    "\n",
    "class Professor(Human):\n",
    "    def __init__(self, name, surname, courses_list):\n",
    "        super().__init__(name, surname)\n",
    "        self.courses_list = courses_list  # список курсов"
   ],
   "metadata": {
    "collapsed": false,
    "pycharm": {
     "name": "#%%\n"
    }
   }
  },
  {
   "cell_type": "markdown",
   "source": [
    "Смысл (технический) наследования, у класса наследника есть\n",
    "все те же поля и методы, которые были у предка, плюс\n",
    "свои какие-то дополнительные поля и методы."
   ],
   "metadata": {
    "collapsed": false,
    "pycharm": {
     "name": "#%% md\n"
    }
   }
  }
 ],
 "metadata": {
  "kernelspec": {
   "display_name": "Python 3",
   "language": "python",
   "name": "python3"
  },
  "language_info": {
   "codemirror_mode": {
    "name": "ipython",
    "version": 2
   },
   "file_extension": ".py",
   "mimetype": "text/x-python",
   "name": "python",
   "nbconvert_exporter": "python",
   "pygments_lexer": "ipython2",
   "version": "2.7.6"
  }
 },
 "nbformat": 4,
 "nbformat_minor": 0
}