{
 "cells": [
  {
   "cell_type": "markdown",
   "metadata": {
    "collapsed": true,
    "pycharm": {
     "name": "#%% md\n"
    }
   },
   "source": [
    "Две задачи со случайными числами:\n"
   ]
  },
  {
   "cell_type": "code",
   "execution_count": 10,
   "outputs": [
    {
     "name": "stdout",
     "output_type": "stream",
     "text": [
      "7 7\n",
      "[20, 50, 10] [31, 17, 97, 11, 32, 93, 49, 67, 87, 89]\n"
     ]
    }
   ],
   "source": [
    "from random import randint, sample, seed\n",
    "\n",
    "seed(99)  # результат генерации случайных будет одинаковый,\n",
    "          # чаще всего нужно для отладки\n",
    "\n",
    "a = randint(1, 10)  # случайное от 1 до 10, включительно\n",
    "b = randint(1, 10)\n",
    "\n",
    "print(a, b)\n",
    "\n",
    "c = sample([10, 20, 30, 40, 50], 3)  # 3 случайных из списка\n",
    "d = sample(range(100), 10)  # 10 случайных из диапазона\n",
    "print(c, d)"
   ],
   "metadata": {
    "collapsed": false,
    "pycharm": {
     "name": "#%%\n"
    }
   }
  },
  {
   "cell_type": "markdown",
   "source": [
    "Задача 1. Проверим парадокс дней рождения\n",
    "В году 365 дней (d = 365), в группе 30 студентов (n = 30).\n",
    "С какой вероятностью найдутся два студента с одним днем рождения?\n",
    "\n",
    "Заводим функцию, которая ставит один эксперимент. На вход\n",
    "получает d, n. Генерирует случайные n дней рождения, проверяет,\n",
    "не совпали ли два, возвращает логическое значение.\n",
    "\n",
    "После этого запускаем эксперимент много раз (e = 1000).\n",
    "Вероятность равна тому, сколько раз дни рождения совпали,\n",
    "делить на количество экспериментов. Это число и надо вернуть.\n",
    "\n",
    "Задача 2. Покупаем яйца с сюрпризом, есть (n = 10) возможных\n",
    "игрушек внутри. Хотим собрать коллекцию из всех игрушек.\n",
    "\n",
    "Делаем функцию, которая проводит единичный эксперимент.\n",
    "Она генерирует номер игрушки от 1 до 10 (до n) и повторяет\n",
    "процесс, пока не сгенерируются все номера от 1 до 10.\n",
    "Возвращает номер шага, на котором сгенерировались все номера.\n",
    "\n",
    "Эксперимент запускаем 1000 (e = 1000) раз, считаем среднее\n",
    "значение количества шагов:\n",
    "\n",
    "$$ \\frac{steps_1 + steps_2 + \\cdots + steps_e}{e}. $$\n",
    "\n",
    "Это среднее значение и нужно вернуть."
   ],
   "metadata": {
    "collapsed": false,
    "pycharm": {
     "name": "#%% md\n"
    }
   }
  },
  {
   "cell_type": "markdown",
   "source": [
    "# Геттеры, сеттеры, свойства\n",
    "\n",
    "Принцип инкапсуляции: при использовании объекта\n",
    "не нужно знать и не нужно использовать то, как\n",
    "объект устроен внутри.\n",
    "Например, вспомните списки, т.е. тип `list`.\n",
    "Как они устроены внутри? Можно догадываться,\n",
    "предполагать, что, например, это структура «связный\n",
    "список». Или, может, эта структура основана на\n",
    "массиве? Неясно, как устроены списки, и более того,\n",
    "в разных питонах списки могут быть сделаны по-разному.\n",
    "\n",
    "В своих классах используйте тот же принцип, чтобы\n",
    "пользоваться классом, не нужно знать, как он устроен.\n",
    "\n",
    "Пример:\n"
   ],
   "metadata": {
    "collapsed": false
   }
  },
  {
   "cell_type": "code",
   "execution_count": 15,
   "outputs": [
    {
     "name": "stdout",
     "output_type": "stream",
     "text": [
      "xxxxxxxxxx\n",
      "yyyyyyyyyy\n"
     ]
    }
   ],
   "source": [
    "class Repeater1:\n",
    "    def __init__(self, s, count):\n",
    "        self.s = s\n",
    "        self.count = count\n",
    "\n",
    "    def print(self):\n",
    "        for i in range(self.count):\n",
    "            print(self.s, end='')\n",
    "        print()\n",
    "\n",
    "r1 = Repeater1(\"x\", 10)\n",
    "\n",
    "class Repeater2:\n",
    "    def __init__(self, s, count):\n",
    "        self.text = s * count\n",
    "\n",
    "    def print(self):\n",
    "        print(self.text)\n",
    "\n",
    "r2 = Repeater2(\"y\", 10)\n",
    "\n",
    "r1.print()\n",
    "r2.print()"
   ],
   "metadata": {
    "collapsed": false,
    "pycharm": {
     "name": "#%%\n"
    }
   }
  },
  {
   "cell_type": "markdown",
   "source": [
    "Классы `Repeater1` и `Repeater2` одинаковы по\n",
    "функциональности, но по-разному реализованы.\n",
    "Хорошая ли идея писать в коде `r2.text`?\n",
    "Мы обращаемся к полю текс во втором повторителе.\n",
    "А в первом такого поля нет, теперь классы\n",
    "`Repeater1` и `Repeater2` не взаимозаменяемы.\n",
    "Лучше не обращаться ко внутреннему состоянию объекта\n",
    "(к полям).\n",
    "\n",
    "Мы уже говорили, что скрывать состояние можно, именуя\n",
    "поля с подчеркивания: `_s`, `_count`, `_text`.\n",
    "Тогда python предупредит вас, если вы попытаетесь\n",
    "написать `r2._text`.\n",
    "\n",
    "Можно вводить get- или set- методы:"
   ],
   "metadata": {
    "collapsed": false,
    "pycharm": {
     "name": "#%% md\n"
    }
   }
  },
  {
   "cell_type": "code",
   "execution_count": 19,
   "outputs": [
    {
     "name": "stdout",
     "output_type": "stream",
     "text": [
      "Барсик\n",
      "Спит: False\n",
      "Спит: True\n"
     ]
    }
   ],
   "source": [
    "class Cat:\n",
    "\n",
    "    def __init__(self, name):\n",
    "        # создаем поле с подчеркиванием, т.е.\n",
    "        # просим не использовать его снаружи класса\n",
    "        self._name = name\n",
    "        self._sleeps = False\n",
    "\n",
    "    # метод для узнавания имени\n",
    "    def get_name(self):\n",
    "        return self._name\n",
    "\n",
    "    def is_sleeps(self):\n",
    "        return self._sleeps\n",
    "\n",
    "    def set_sleeps(self, sleeps):\n",
    "        self._sleeps = sleeps\n",
    "\n",
    "cat1 = Cat(\"Барсик\")\n",
    "cat2 = Cat(\"Мурзик\")\n",
    "print(cat1.get_name())  # узнали имя\n",
    "# Изменить имя не получается, потому что нет\n",
    "# функции для изменения имени.\n",
    "\n",
    "print(f\"Спит: {cat2.is_sleeps()}\")\n",
    "cat2.set_sleeps(True)\n",
    "print(f\"Спит: {cat2.is_sleeps()}\")"
   ],
   "metadata": {
    "collapsed": false,
    "pycharm": {
     "name": "#%%\n"
    }
   }
  },
  {
   "cell_type": "markdown",
   "source": [
    "Получается, что у котов имя можно только узнать,\n",
    "но нельзя изменить. А вот спят они или нет,\n",
    "можно и узнать, и изменить.\n",
    "\n",
    "Еще можно запретить будить котов, т.е. если он\n",
    "не спал, то можно заставить его спать. А вот если он\n",
    "спит, то нельзя разбудить:\n",
    "\n",
    "```\n",
    "def set_sleeps(self, sleeps):\n",
    "    if not self._sleeps:\n",
    "        self._sleeps = sleeps\n",
    "```\n",
    "\n",
    "Это частая практика, что set-метод проверяет, можно\n",
    "ли совершить изменение.\n",
    "\n",
    "Поэтому рекомендуется всегда писать так: поля\n",
    "именуются с подчеркивания и не предназначены для\n",
    "обращения извне класса. Если обращаться все же надо,\n",
    "пишутся get- и/или set- методы.\n",
    "\n",
    "## Свойства\n",
    "Более удобная работа с get и set методами:"
   ],
   "metadata": {
    "collapsed": false,
    "pycharm": {
     "name": "#%% md\n"
    }
   }
  },
  {
   "cell_type": "code",
   "execution_count": 20,
   "outputs": [
    {
     "name": "stdout",
     "output_type": "stream",
     "text": [
      "Барсик\n",
      "Спит: False\n",
      "Спит: True\n"
     ]
    }
   ],
   "source": [
    "class Cat:\n",
    "\n",
    "    def __init__(self, name):\n",
    "        # создаем поле с подчеркиванием, т.е.\n",
    "        # просим не использовать его снаружи класса\n",
    "        self._name = name\n",
    "        self._sleeps = False\n",
    "\n",
    "    @property  # это означает, что вводим get метод\n",
    "    def name(self):\n",
    "        return self._name\n",
    "\n",
    "    @property\n",
    "    def sleeps(self):\n",
    "        return self._sleeps\n",
    "\n",
    "    @sleeps.setter  # @имя-свойства.setter\n",
    "    def sleeps(self, sleeps):\n",
    "        self._sleeps = sleeps\n",
    "\n",
    "cat1 = Cat(\"Барсик\")\n",
    "cat2 = Cat(\"Мурзик\")\n",
    "print(cat1.name)   # вызываем без скобок!\n",
    "                   # выглядит как доступ к полю\n",
    "\n",
    "print(f\"Спит: {cat2.sleeps}\")  # вызов get метода\n",
    "cat2.sleeps = True  # setter вызывается простым присваиванием\n",
    "print(f\"Спит: {cat2.sleeps}\")"
   ],
   "metadata": {
    "collapsed": false,
    "pycharm": {
     "name": "#%%\n"
    }
   }
  },
  {
   "cell_type": "markdown",
   "source": [
    "# Наследование\n",
    "Часто бывает, что у нескольких классов должно быть очень\n",
    "похожее поведение или очень похожие данные. Например,\n",
    "и преподаватели, и студенты имеют имя, возраст. Хотя,\n",
    "у преподавателей есть список читаемых курсов, у студентов\n",
    "есть номер курса (1, 2, 3).\n",
    "\n",
    "Не хочется при реализации преподавателя и студента писать\n",
    "один и тот же код про имя и возраст.\n",
    "\n",
    "Для решения проблемы классы разделяются на общие и частные.\n",
    "Вводятся классы такие, что одни являются частными случаями\n",
    "других. Например, имя и возраст - это свойства всех людей.\n",
    "Поэтому можно ввести класс Человек с именем и возрастом.\n",
    "А Студент и Преподаватель - это частные случаи Человека.\n",
    "\n",
    "Другой пример, геометрические фигуры. Класс фигур, у всех\n",
    "фигур можно считать площадь и периметр. Но есть частные\n",
    "случаи фигур - квадрат, прямоугольник, ромб, треугольник,\n",
    "круг и т.д. В отличие от фигуры, и прямоугольника есть\n",
    "длина первой и длина второй стороны.\n",
    "\n",
    "А квадрат и прямоугольник, кто частный случай кого?\n",
    "Квадрат — частный случай прямоугольника.\n",
    "\n",
    "Сейчас рассмотрим пример про животных"
   ],
   "metadata": {
    "collapsed": false,
    "pycharm": {
     "name": "#%% md\n"
    }
   }
  },
  {
   "cell_type": "code",
   "execution_count": 26,
   "outputs": [
    {
     "name": "stdout",
     "output_type": "stream",
     "text": [
      "hrrrrrrrrrr, my name is Барсик\n",
      "Mew, my name is Мурзик\n",
      "Не хочу ловить мышь\n"
     ]
    }
   ],
   "source": [
    "class Animal:\n",
    "\n",
    "    # у всех животных есть имена\n",
    "    def __init__(self, name):\n",
    "        self._name = name\n",
    "\n",
    "    @property\n",
    "    def name(self):\n",
    "        return self._name\n",
    "\n",
    "    def sound(self):\n",
    "        return \"hrrrrrrrrrr\"\n",
    "\n",
    "    def say_hello(self):\n",
    "        print(f\"{self.sound()}, my name is {self.name}\")\n",
    "\n",
    "a1 = Animal(\"Барсик\")\n",
    "a1.say_hello()\n",
    "\n",
    "# Cat(Animal) означает, что\n",
    "# Сat это частный случай Animal\n",
    "# Cat наследник/потомок/наследует Animal\n",
    "# Animal предок Cat\n",
    "# Animal базовый класс для Cat\n",
    "class Cat(Animal):\n",
    "\n",
    "    # Сам факт того, что мы написали наследование\n",
    "    # означает, что Cat имеет те же методы, что и Animal\n",
    "\n",
    "    def sound(self):\n",
    "        return \"Mew\"\n",
    "\n",
    "    def catch_a_mouse(self):\n",
    "        print(\"Не хочу ловить мышь\")\n",
    "\n",
    "c1 = Cat(\"Мурзик\")\n",
    "c1.say_hello()\n",
    "\n",
    "c1.catch_a_mouse()  # работает\n",
    "# a1.catch_a_mouse()  # не работает, в Animal нет этого метода"
   ],
   "metadata": {
    "collapsed": false,
    "pycharm": {
     "name": "#%%\n"
    }
   }
  },
  {
   "cell_type": "markdown",
   "source": [
    "При вызове метода `say_hello` был вызван метод `sound`.\n",
    "Но использовался не тот `sound`, который был в `Animal`,\n",
    "а тот который был **переопределен** (override) в\n",
    "классе `Cat`.\n",
    "\n",
    "При вызове метода `sound` python попытался понять, что\n",
    "это за объект. Оказалось, что это объект класса `Cat`,\n",
    "поэтому был вызван метод `sound` именно из класса `Cat`.\n",
    "\n",
    "Чтобы переопределить метод, достаточно создать\n",
    "метод с тем же именем."
   ],
   "metadata": {
    "collapsed": false,
    "pycharm": {
     "name": "#%% md\n"
    }
   }
  },
  {
   "cell_type": "code",
   "execution_count": 29,
   "outputs": [
    {
     "name": "stdout",
     "output_type": "stream",
     "text": [
      "woof, my name is Шарик\n"
     ]
    }
   ],
   "source": [
    "class Dog(Animal):\n",
    "\n",
    "    def __init__(self, name, poroda):\n",
    "        # надо вызвать старый __init__, который сохранит\n",
    "        # имя собаки\n",
    "\n",
    "        # super() обращается к базовому классу\n",
    "        super().__init__(name)\n",
    "        self._poroda = poroda\n",
    "\n",
    "    def sound(self):\n",
    "        # можно сделать super().sound() - вызов sound из Animal\n",
    "        return \"woof\"\n",
    "\n",
    "    @property\n",
    "    def poroda(self):\n",
    "        return self._poroda\n",
    "\n",
    "d1 = Dog(\"Шарик\", \"Бульдог\")\n",
    "d1.say_hello()"
   ],
   "metadata": {
    "collapsed": false,
    "pycharm": {
     "name": "#%%\n"
    }
   }
  }
 ],
 "metadata": {
  "kernelspec": {
   "display_name": "Python 3",
   "language": "python",
   "name": "python3"
  },
  "language_info": {
   "codemirror_mode": {
    "name": "ipython",
    "version": 2
   },
   "file_extension": ".py",
   "mimetype": "text/x-python",
   "name": "python",
   "nbconvert_exporter": "python",
   "pygments_lexer": "ipython2",
   "version": "2.7.6"
  }
 },
 "nbformat": 4,
 "nbformat_minor": 0
}